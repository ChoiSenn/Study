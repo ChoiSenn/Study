{
  "nbformat": 4,
  "nbformat_minor": 0,
  "metadata": {
    "colab": {
      "name": "DACON_XGBoost _202251509.ipynb",
      "provenance": [],
      "collapsed_sections": [],
      "mount_file_id": "15JmjjFxatQXf_WhMaYuSz2ARqlIABCRT",
      "authorship_tag": "ABX9TyOOXWSxthVSgYAeTzBl3lJ7",
      "include_colab_link": true
    },
    "kernelspec": {
      "name": "python3",
      "display_name": "Python 3"
    },
    "language_info": {
      "name": "python"
    },
    "accelerator": "GPU"
  },
  "cells": [
    {
      "cell_type": "markdown",
      "metadata": {
        "id": "view-in-github",
        "colab_type": "text"
      },
      "source": [
        "<a href=\"https://colab.research.google.com/github/ChoiSenn/Study/blob/main/data_analysis/DACON/DACON_XGBoost.ipynb\" target=\"_parent\"><img src=\"https://colab.research.google.com/assets/colab-badge.svg\" alt=\"Open In Colab\"/></a>"
      ]
    },
    {
      "cell_type": "markdown",
      "source": [
        "# **데이콘 - 중고차 가격 예측 경진대회**\n",
        "\n",
        "<br><br>\n",
        "\n",
        "## XGBoost\n",
        "> XGBoost를 이용하여 데이터 분석 및 중고차 가격 예측을 진행합니다.\n",
        "\n",
        "<br><br>\n",
        "\n",
        "---"
      ],
      "metadata": {
        "id": "2ncirMKej5ST"
      }
    },
    {
      "cell_type": "markdown",
      "source": [
        "<br><br>\n",
        "\n",
        "## **1. 데이터 불러오기**\n",
        "\n",
        "<br>\n",
        "\n",
        "우선, 데이터를 분석하기 위하여 주어진 train 데이터셋과 test 데이터셋을 읽어와 저장하고, 데이터 구조를 확인합니다.\n"
      ],
      "metadata": {
        "id": "ekA--nw2j_Tu"
      }
    },
    {
      "cell_type": "code",
      "source": [
        "import pandas as pd ## pandas 라이브러리를 가져오기 위하여 import를 해줍니다.\n",
        "\n",
        "# csv 형식으로 된 데이터 파일을 읽어옵니다.\n",
        "train = pd.read_csv('/content/drive/MyDrive/Colab Notebooks/train.csv')\n",
        "test = pd.read_csv('/content/drive/MyDrive/Colab Notebooks/test.csv')\n",
        "\n",
        "print(f'train data set은 {train.shape[1]} 개의 feature를 가진 {train.shape[0]} 개의 데이터 샘플로 이루어져 있습니다.')\n",
        "\n",
        "# 데이터의 최상단 5 줄을 표시합니다.\n",
        "train.head()"
      ],
      "metadata": {
        "colab": {
          "base_uri": "https://localhost:8080/",
          "height": 428
        },
        "id": "Mn32G0PmkAuH",
        "outputId": "29b59824-30f5-4a2a-de05-da45e6877bf7"
      },
      "execution_count": 2,
      "outputs": [
        {
          "output_type": "stream",
          "name": "stdout",
          "text": [
            "train data set은 11 개의 feature를 가진 1015 개의 데이터 샘플로 이루어져 있습니다.\n"
          ]
        },
        {
          "output_type": "execute_result",
          "data": {
            "text/plain": [
              "   id                          title  odometer location    isimported  \\\n",
              "0   0                   Toyota RAV 4     18277   Lagos   Foreign Used   \n",
              "1   1            Toyota Land Cruiser        10    Lagos          New    \n",
              "2   2  Land Rover Range Rover Evoque     83091    Lagos  Foreign Used   \n",
              "3   3                   Lexus ES 350     91524    Lagos  Foreign Used   \n",
              "4   4                   Toyota Venza     94177    Lagos  Foreign Used   \n",
              "\n",
              "           engine transmission    fuel  paint  year    target  \n",
              "0  4-cylinder(I4)    automatic  petrol    Red  2016  13665000  \n",
              "1  4-cylinder(I4)    automatic  petrol  Black  2019  33015000  \n",
              "2  6-cylinder(V6)    automatic  petrol    Red  2012   9915000  \n",
              "3  4-cylinder(I4)    automatic  petrol   Gray  2007   3815000  \n",
              "4  6-cylinder(V6)    automatic  petrol    Red  2010   7385000  "
            ],
            "text/html": [
              "\n",
              "  <div id=\"df-4ff7bee1-62a5-4c12-a63e-ba2b392a45e8\">\n",
              "    <div class=\"colab-df-container\">\n",
              "      <div>\n",
              "<style scoped>\n",
              "    .dataframe tbody tr th:only-of-type {\n",
              "        vertical-align: middle;\n",
              "    }\n",
              "\n",
              "    .dataframe tbody tr th {\n",
              "        vertical-align: top;\n",
              "    }\n",
              "\n",
              "    .dataframe thead th {\n",
              "        text-align: right;\n",
              "    }\n",
              "</style>\n",
              "<table border=\"1\" class=\"dataframe\">\n",
              "  <thead>\n",
              "    <tr style=\"text-align: right;\">\n",
              "      <th></th>\n",
              "      <th>id</th>\n",
              "      <th>title</th>\n",
              "      <th>odometer</th>\n",
              "      <th>location</th>\n",
              "      <th>isimported</th>\n",
              "      <th>engine</th>\n",
              "      <th>transmission</th>\n",
              "      <th>fuel</th>\n",
              "      <th>paint</th>\n",
              "      <th>year</th>\n",
              "      <th>target</th>\n",
              "    </tr>\n",
              "  </thead>\n",
              "  <tbody>\n",
              "    <tr>\n",
              "      <th>0</th>\n",
              "      <td>0</td>\n",
              "      <td>Toyota RAV 4</td>\n",
              "      <td>18277</td>\n",
              "      <td>Lagos</td>\n",
              "      <td>Foreign Used</td>\n",
              "      <td>4-cylinder(I4)</td>\n",
              "      <td>automatic</td>\n",
              "      <td>petrol</td>\n",
              "      <td>Red</td>\n",
              "      <td>2016</td>\n",
              "      <td>13665000</td>\n",
              "    </tr>\n",
              "    <tr>\n",
              "      <th>1</th>\n",
              "      <td>1</td>\n",
              "      <td>Toyota Land Cruiser</td>\n",
              "      <td>10</td>\n",
              "      <td>Lagos</td>\n",
              "      <td>New</td>\n",
              "      <td>4-cylinder(I4)</td>\n",
              "      <td>automatic</td>\n",
              "      <td>petrol</td>\n",
              "      <td>Black</td>\n",
              "      <td>2019</td>\n",
              "      <td>33015000</td>\n",
              "    </tr>\n",
              "    <tr>\n",
              "      <th>2</th>\n",
              "      <td>2</td>\n",
              "      <td>Land Rover Range Rover Evoque</td>\n",
              "      <td>83091</td>\n",
              "      <td>Lagos</td>\n",
              "      <td>Foreign Used</td>\n",
              "      <td>6-cylinder(V6)</td>\n",
              "      <td>automatic</td>\n",
              "      <td>petrol</td>\n",
              "      <td>Red</td>\n",
              "      <td>2012</td>\n",
              "      <td>9915000</td>\n",
              "    </tr>\n",
              "    <tr>\n",
              "      <th>3</th>\n",
              "      <td>3</td>\n",
              "      <td>Lexus ES 350</td>\n",
              "      <td>91524</td>\n",
              "      <td>Lagos</td>\n",
              "      <td>Foreign Used</td>\n",
              "      <td>4-cylinder(I4)</td>\n",
              "      <td>automatic</td>\n",
              "      <td>petrol</td>\n",
              "      <td>Gray</td>\n",
              "      <td>2007</td>\n",
              "      <td>3815000</td>\n",
              "    </tr>\n",
              "    <tr>\n",
              "      <th>4</th>\n",
              "      <td>4</td>\n",
              "      <td>Toyota Venza</td>\n",
              "      <td>94177</td>\n",
              "      <td>Lagos</td>\n",
              "      <td>Foreign Used</td>\n",
              "      <td>6-cylinder(V6)</td>\n",
              "      <td>automatic</td>\n",
              "      <td>petrol</td>\n",
              "      <td>Red</td>\n",
              "      <td>2010</td>\n",
              "      <td>7385000</td>\n",
              "    </tr>\n",
              "  </tbody>\n",
              "</table>\n",
              "</div>\n",
              "      <button class=\"colab-df-convert\" onclick=\"convertToInteractive('df-4ff7bee1-62a5-4c12-a63e-ba2b392a45e8')\"\n",
              "              title=\"Convert this dataframe to an interactive table.\"\n",
              "              style=\"display:none;\">\n",
              "        \n",
              "  <svg xmlns=\"http://www.w3.org/2000/svg\" height=\"24px\"viewBox=\"0 0 24 24\"\n",
              "       width=\"24px\">\n",
              "    <path d=\"M0 0h24v24H0V0z\" fill=\"none\"/>\n",
              "    <path d=\"M18.56 5.44l.94 2.06.94-2.06 2.06-.94-2.06-.94-.94-2.06-.94 2.06-2.06.94zm-11 1L8.5 8.5l.94-2.06 2.06-.94-2.06-.94L8.5 2.5l-.94 2.06-2.06.94zm10 10l.94 2.06.94-2.06 2.06-.94-2.06-.94-.94-2.06-.94 2.06-2.06.94z\"/><path d=\"M17.41 7.96l-1.37-1.37c-.4-.4-.92-.59-1.43-.59-.52 0-1.04.2-1.43.59L10.3 9.45l-7.72 7.72c-.78.78-.78 2.05 0 2.83L4 21.41c.39.39.9.59 1.41.59.51 0 1.02-.2 1.41-.59l7.78-7.78 2.81-2.81c.8-.78.8-2.07 0-2.86zM5.41 20L4 18.59l7.72-7.72 1.47 1.35L5.41 20z\"/>\n",
              "  </svg>\n",
              "      </button>\n",
              "      \n",
              "  <style>\n",
              "    .colab-df-container {\n",
              "      display:flex;\n",
              "      flex-wrap:wrap;\n",
              "      gap: 12px;\n",
              "    }\n",
              "\n",
              "    .colab-df-convert {\n",
              "      background-color: #E8F0FE;\n",
              "      border: none;\n",
              "      border-radius: 50%;\n",
              "      cursor: pointer;\n",
              "      display: none;\n",
              "      fill: #1967D2;\n",
              "      height: 32px;\n",
              "      padding: 0 0 0 0;\n",
              "      width: 32px;\n",
              "    }\n",
              "\n",
              "    .colab-df-convert:hover {\n",
              "      background-color: #E2EBFA;\n",
              "      box-shadow: 0px 1px 2px rgba(60, 64, 67, 0.3), 0px 1px 3px 1px rgba(60, 64, 67, 0.15);\n",
              "      fill: #174EA6;\n",
              "    }\n",
              "\n",
              "    [theme=dark] .colab-df-convert {\n",
              "      background-color: #3B4455;\n",
              "      fill: #D2E3FC;\n",
              "    }\n",
              "\n",
              "    [theme=dark] .colab-df-convert:hover {\n",
              "      background-color: #434B5C;\n",
              "      box-shadow: 0px 1px 3px 1px rgba(0, 0, 0, 0.15);\n",
              "      filter: drop-shadow(0px 1px 2px rgba(0, 0, 0, 0.3));\n",
              "      fill: #FFFFFF;\n",
              "    }\n",
              "  </style>\n",
              "\n",
              "      <script>\n",
              "        const buttonEl =\n",
              "          document.querySelector('#df-4ff7bee1-62a5-4c12-a63e-ba2b392a45e8 button.colab-df-convert');\n",
              "        buttonEl.style.display =\n",
              "          google.colab.kernel.accessAllowed ? 'block' : 'none';\n",
              "\n",
              "        async function convertToInteractive(key) {\n",
              "          const element = document.querySelector('#df-4ff7bee1-62a5-4c12-a63e-ba2b392a45e8');\n",
              "          const dataTable =\n",
              "            await google.colab.kernel.invokeFunction('convertToInteractive',\n",
              "                                                     [key], {});\n",
              "          if (!dataTable) return;\n",
              "\n",
              "          const docLinkHtml = 'Like what you see? Visit the ' +\n",
              "            '<a target=\"_blank\" href=https://colab.research.google.com/notebooks/data_table.ipynb>data table notebook</a>'\n",
              "            + ' to learn more about interactive tables.';\n",
              "          element.innerHTML = '';\n",
              "          dataTable['output_type'] = 'display_data';\n",
              "          await google.colab.output.renderOutput(dataTable, element);\n",
              "          const docLink = document.createElement('div');\n",
              "          docLink.innerHTML = docLinkHtml;\n",
              "          element.appendChild(docLink);\n",
              "        }\n",
              "      </script>\n",
              "    </div>\n",
              "  </div>\n",
              "  "
            ]
          },
          "metadata": {},
          "execution_count": 2
        }
      ]
    },
    {
      "cell_type": "code",
      "source": [
        "print(train.shape, test.shape)"
      ],
      "metadata": {
        "colab": {
          "base_uri": "https://localhost:8080/"
        },
        "id": "g_MEoUexk0M7",
        "outputId": "3dc186dd-392a-4706-9c01-56099ea9f915"
      },
      "execution_count": null,
      "outputs": [
        {
          "output_type": "stream",
          "name": "stdout",
          "text": [
            "(1015, 11) (436, 10)\n"
          ]
        }
      ]
    },
    {
      "cell_type": "markdown",
      "source": [
        "csv 파일을 읽어와 데이터프레임으로 저장 및 출력, 가공에 필요한 라이브러리인 pandas, numpy, matplotlib를 import하였습니다.<br>\n",
        "\n",
        "데이콘에서 제시한 훈련용 파일인 train.csv와 테스트용 파일인 test.csv를 read_csv()함수를 이용하여 읽어와 데이터프레임으로 변환하여, 각각 train과 test 변수에 저장하였습니다.<br>\n",
        "\n",
        "shape 함수를 이용하여 해당 데이터 셋의 행 및 열의 개수를 확인할 수 있습니다.<br>\n",
        "\n",
        "head() 함수를 이용하여 데이터의 첫 다섯 줄을 출력하여 데이터 셋의 전체적인 구성을 확인합니다.<br>\n",
        "\n",
        "주어진 데이터에는 중고차에 관한 id(샘플 아이디), title(제조사 모델명), odmeter(주행 거리), location(판매처), isimported(현지 사용 여부), engine(엔진 종류), transmission(트랜스미션 종류), fuel(연료 종류), paint(색상), year(제조년도), target(자동차 가격)이라는 11개의 컬럼이 존재하는 것을 알 수 있습니다.<br>\n",
        "그 중에서 title, location, isimported, engine, transmission, fuel, paint 변수는 문자열 형태인 범주형 변수인 것을 확인할 수 있습니다. 머신러닝 등의 기법을 사용하여 분석할 경우, 전처리가 필요할 것으로 예상됩니다.<br>\n",
        "\n",
        "train data는 총 11개의 컬럼과 1015개의 (row)데이터로 이루어져있음을 알 수 있습니다.<br>\n",
        "test data는 target 변수를 제외한 10개의 컬럼과 436개의 데이터로 이루어져있는 것을 알 수 있습니다."
      ],
      "metadata": {
        "id": "OLEaKJoik1S-"
      }
    },
    {
      "cell_type": "markdown",
      "source": [
        "<br><br>\n",
        "\n",
        "## **2. 결측치 확인**\n",
        "\n",
        "<br>\n",
        "\n",
        "결측치란, Missing Value 혹은 NA라고도 표현하며, 말그대로 값이 존재하지 않는 데이터를 의미합니다.<br>\n",
        "\n",
        "이러한 결측치가 train data에 포함되어 있다면 보다 정확한 분석을 하기 어렵습니다. 따라서, 데이터에 결측치가 포함되어있는지 확인하고 제거하거나 적절히 대체해주어야 합니다.\n",
        "\n",
        "<br>\n",
        "\n",
        "함수를 작성하여 데이터셋에 결측치가 존재하는지 확인합니다."
      ],
      "metadata": {
        "id": "31pXUQAok2go"
      }
    },
    {
      "cell_type": "code",
      "source": [
        "def check_missing_col(dataframe):\n",
        "    missing_col = []\n",
        "    for col in dataframe.columns:\n",
        "        missing_values = sum(dataframe[col].isna())\n",
        "        is_missing = True if missing_values >= 1 else False\n",
        "        if is_missing:\n",
        "            print(f'결측치가 있는 컬럼은: {col} 입니다')\n",
        "            print(f'해당 컬럼에 총 {missing_values} 개의 결측치가 존재합니다.')\n",
        "            missing_col.append([col, dataframe[col].dtype])\n",
        "    if missing_col == []:\n",
        "        print('결측치가 존재하지 않습니다')\n",
        "    return missing_col\n",
        "\n",
        "missing_col = check_missing_col(train)"
      ],
      "metadata": {
        "colab": {
          "base_uri": "https://localhost:8080/"
        },
        "id": "9Y2LidBok3tP",
        "outputId": "fca61368-5cc0-4c83-dc07-e0ac618a2286"
      },
      "execution_count": 3,
      "outputs": [
        {
          "output_type": "stream",
          "name": "stdout",
          "text": [
            "결측치가 존재하지 않습니다\n"
          ]
        }
      ]
    },
    {
      "cell_type": "markdown",
      "source": [
        "isna() 함수를 통해 결측치를 체크하는 check_missing_col() 함수를 작성하여 train 데이터 셋에 결측치가 포함되어있는지 확인합니다.<br>\n",
        "\n",
        "데이터셋에 결측치가 존재하지 않는 것을 확인하였습니다. 따라서 결측치 처리는 생략합니다."
      ],
      "metadata": {
        "id": "SIOcdZNxk41x"
      }
    },
    {
      "cell_type": "markdown",
      "source": [
        "<br><br>\n",
        "\n",
        "## **3. 데이터 전처리**\n",
        "\n",
        "<br>\n",
        "\n",
        "데이터 전처리란, 데이터를 분석하기에 알맞게 가공하여 처리하는 과정으로 데이터 분석 과정에서 반드시 거쳐야 하는 과정입니다.<br>\n",
        "\n",
        "데이터에 존재하는 결측값, 노이즈, 이상값 등을 제거/대체하고 범주형 변수를 데이터 분석에 알맞게 변환하는 작업을 진행합니다.<br>\n",
        "결측치는 존재하지 않는 것이 이전 단계에서 확인되었으므로 결측치 처리는 생략합니다.\n",
        "\n",
        "<br>\n",
        "\n",
        "오타 처리, 파생변수 생성, 데이터 정제 등의 데이터 전처리를 시행합니다."
      ],
      "metadata": {
        "id": "8AYuJq2Tk5OW"
      }
    },
    {
      "cell_type": "markdown",
      "source": [
        "<br>\n",
        "\n",
        "### 3-1. 오탈자 처리\n",
        "\n",
        "<br>"
      ],
      "metadata": {
        "id": "INdm4Sesk7ht"
      }
    },
    {
      "cell_type": "code",
      "source": [
        "train[train['year'] < 1900]"
      ],
      "metadata": {
        "colab": {
          "base_uri": "https://localhost:8080/",
          "height": 221
        },
        "id": "5dvibYQbk-az",
        "outputId": "e9652130-8297-48e5-c454-3bc3238296bc"
      },
      "execution_count": 4,
      "outputs": [
        {
          "output_type": "execute_result",
          "data": {
            "text/plain": [
              "      id                title  odometer location    isimported  \\\n",
              "415  415  Mercedes-Benz ATEGO    403461    Lagos  Locally used   \n",
              "827  827     Mercedes-Benz/52    510053    Lagos  Locally used   \n",
              "\n",
              "             engine transmission    fuel  paint  year    target  \n",
              "415  4-cylinder(I4)       manual  diesel  white  1218   6015000  \n",
              "827  6-cylinder(V6)       manual  diesel  white  1217  75015000  "
            ],
            "text/html": [
              "\n",
              "  <div id=\"df-4af3197c-8954-47e1-b3b8-8f022c39b202\">\n",
              "    <div class=\"colab-df-container\">\n",
              "      <div>\n",
              "<style scoped>\n",
              "    .dataframe tbody tr th:only-of-type {\n",
              "        vertical-align: middle;\n",
              "    }\n",
              "\n",
              "    .dataframe tbody tr th {\n",
              "        vertical-align: top;\n",
              "    }\n",
              "\n",
              "    .dataframe thead th {\n",
              "        text-align: right;\n",
              "    }\n",
              "</style>\n",
              "<table border=\"1\" class=\"dataframe\">\n",
              "  <thead>\n",
              "    <tr style=\"text-align: right;\">\n",
              "      <th></th>\n",
              "      <th>id</th>\n",
              "      <th>title</th>\n",
              "      <th>odometer</th>\n",
              "      <th>location</th>\n",
              "      <th>isimported</th>\n",
              "      <th>engine</th>\n",
              "      <th>transmission</th>\n",
              "      <th>fuel</th>\n",
              "      <th>paint</th>\n",
              "      <th>year</th>\n",
              "      <th>target</th>\n",
              "    </tr>\n",
              "  </thead>\n",
              "  <tbody>\n",
              "    <tr>\n",
              "      <th>415</th>\n",
              "      <td>415</td>\n",
              "      <td>Mercedes-Benz ATEGO</td>\n",
              "      <td>403461</td>\n",
              "      <td>Lagos</td>\n",
              "      <td>Locally used</td>\n",
              "      <td>4-cylinder(I4)</td>\n",
              "      <td>manual</td>\n",
              "      <td>diesel</td>\n",
              "      <td>white</td>\n",
              "      <td>1218</td>\n",
              "      <td>6015000</td>\n",
              "    </tr>\n",
              "    <tr>\n",
              "      <th>827</th>\n",
              "      <td>827</td>\n",
              "      <td>Mercedes-Benz/52</td>\n",
              "      <td>510053</td>\n",
              "      <td>Lagos</td>\n",
              "      <td>Locally used</td>\n",
              "      <td>6-cylinder(V6)</td>\n",
              "      <td>manual</td>\n",
              "      <td>diesel</td>\n",
              "      <td>white</td>\n",
              "      <td>1217</td>\n",
              "      <td>75015000</td>\n",
              "    </tr>\n",
              "  </tbody>\n",
              "</table>\n",
              "</div>\n",
              "      <button class=\"colab-df-convert\" onclick=\"convertToInteractive('df-4af3197c-8954-47e1-b3b8-8f022c39b202')\"\n",
              "              title=\"Convert this dataframe to an interactive table.\"\n",
              "              style=\"display:none;\">\n",
              "        \n",
              "  <svg xmlns=\"http://www.w3.org/2000/svg\" height=\"24px\"viewBox=\"0 0 24 24\"\n",
              "       width=\"24px\">\n",
              "    <path d=\"M0 0h24v24H0V0z\" fill=\"none\"/>\n",
              "    <path d=\"M18.56 5.44l.94 2.06.94-2.06 2.06-.94-2.06-.94-.94-2.06-.94 2.06-2.06.94zm-11 1L8.5 8.5l.94-2.06 2.06-.94-2.06-.94L8.5 2.5l-.94 2.06-2.06.94zm10 10l.94 2.06.94-2.06 2.06-.94-2.06-.94-.94-2.06-.94 2.06-2.06.94z\"/><path d=\"M17.41 7.96l-1.37-1.37c-.4-.4-.92-.59-1.43-.59-.52 0-1.04.2-1.43.59L10.3 9.45l-7.72 7.72c-.78.78-.78 2.05 0 2.83L4 21.41c.39.39.9.59 1.41.59.51 0 1.02-.2 1.41-.59l7.78-7.78 2.81-2.81c.8-.78.8-2.07 0-2.86zM5.41 20L4 18.59l7.72-7.72 1.47 1.35L5.41 20z\"/>\n",
              "  </svg>\n",
              "      </button>\n",
              "      \n",
              "  <style>\n",
              "    .colab-df-container {\n",
              "      display:flex;\n",
              "      flex-wrap:wrap;\n",
              "      gap: 12px;\n",
              "    }\n",
              "\n",
              "    .colab-df-convert {\n",
              "      background-color: #E8F0FE;\n",
              "      border: none;\n",
              "      border-radius: 50%;\n",
              "      cursor: pointer;\n",
              "      display: none;\n",
              "      fill: #1967D2;\n",
              "      height: 32px;\n",
              "      padding: 0 0 0 0;\n",
              "      width: 32px;\n",
              "    }\n",
              "\n",
              "    .colab-df-convert:hover {\n",
              "      background-color: #E2EBFA;\n",
              "      box-shadow: 0px 1px 2px rgba(60, 64, 67, 0.3), 0px 1px 3px 1px rgba(60, 64, 67, 0.15);\n",
              "      fill: #174EA6;\n",
              "    }\n",
              "\n",
              "    [theme=dark] .colab-df-convert {\n",
              "      background-color: #3B4455;\n",
              "      fill: #D2E3FC;\n",
              "    }\n",
              "\n",
              "    [theme=dark] .colab-df-convert:hover {\n",
              "      background-color: #434B5C;\n",
              "      box-shadow: 0px 1px 3px 1px rgba(0, 0, 0, 0.15);\n",
              "      filter: drop-shadow(0px 1px 2px rgba(0, 0, 0, 0.3));\n",
              "      fill: #FFFFFF;\n",
              "    }\n",
              "  </style>\n",
              "\n",
              "      <script>\n",
              "        const buttonEl =\n",
              "          document.querySelector('#df-4af3197c-8954-47e1-b3b8-8f022c39b202 button.colab-df-convert');\n",
              "        buttonEl.style.display =\n",
              "          google.colab.kernel.accessAllowed ? 'block' : 'none';\n",
              "\n",
              "        async function convertToInteractive(key) {\n",
              "          const element = document.querySelector('#df-4af3197c-8954-47e1-b3b8-8f022c39b202');\n",
              "          const dataTable =\n",
              "            await google.colab.kernel.invokeFunction('convertToInteractive',\n",
              "                                                     [key], {});\n",
              "          if (!dataTable) return;\n",
              "\n",
              "          const docLinkHtml = 'Like what you see? Visit the ' +\n",
              "            '<a target=\"_blank\" href=https://colab.research.google.com/notebooks/data_table.ipynb>data table notebook</a>'\n",
              "            + ' to learn more about interactive tables.';\n",
              "          element.innerHTML = '';\n",
              "          dataTable['output_type'] = 'display_data';\n",
              "          await google.colab.output.renderOutput(dataTable, element);\n",
              "          const docLink = document.createElement('div');\n",
              "          docLink.innerHTML = docLinkHtml;\n",
              "          element.appendChild(docLink);\n",
              "        }\n",
              "      </script>\n",
              "    </div>\n",
              "  </div>\n",
              "  "
            ]
          },
          "metadata": {},
          "execution_count": 4
        }
      ]
    },
    {
      "cell_type": "markdown",
      "source": [
        "year 칼럼에 잘못 기입된 것으로 보이는 1218, 1217년도의 데이터가 존재하는 것을 확인할 수 있습니다.\n",
        "\n",
        "오기입된 데이터는 제거합니다."
      ],
      "metadata": {
        "id": "fKrR562Ek_eb"
      }
    },
    {
      "cell_type": "code",
      "source": [
        "train = train[train['year'] > 1900]\n",
        "train = train.drop('id', axis = 1).reset_index().drop('index', axis = 1).reset_index().rename({'index':'id'}, axis = 'columns')\n",
        "train.shape"
      ],
      "metadata": {
        "colab": {
          "base_uri": "https://localhost:8080/"
        },
        "id": "6LbcI-1Tk_4_",
        "outputId": "cc02ead5-f7cd-4ec2-f465-74f8b94e0a14"
      },
      "execution_count": null,
      "outputs": [
        {
          "output_type": "execute_result",
          "data": {
            "text/plain": [
              "(1013, 11)"
            ]
          },
          "metadata": {},
          "execution_count": 5
        }
      ]
    },
    {
      "cell_type": "markdown",
      "source": [
        "오기입된 year 데이터를 포함한 2개의 데이터를 제거하여 1013개의 데이터가 남은 것을 확인할 수 있습니다."
      ],
      "metadata": {
        "id": "hL2IfSJglBoY"
      }
    },
    {
      "cell_type": "markdown",
      "source": [
        "<br>\n",
        "\n",
        "### 3-2. 파생변수 생성\n",
        "\n",
        "<br>\n",
        "\n",
        "데이터에 존재하는 카테고리들을 같은 카테고리로 뭉쳐 파생변수를 만듭니다.<br>\n",
        "\n",
        "파생변수란, 기존의 변수들을 조합하여 만든 새로운 변수로 합계, 평균 등이 속합니다.\n",
        "\n",
        "<br>\n",
        "\n",
        "데이터에 존재하는 카테고리들을 같은 카테고리로 뭉쳐 파생변수를 만듭니다.<br>\n",
        "파생변수란, 기존의 변수들을 조합하여 만든 새로운 변수로 합계, 평균 등이 속합니다.<br>\n",
        "\n",
        "우선, 카테고리 개수가 많은 title 변수를 대상으로 파생변수를 만들어 고유 값을 유의하게 줄여줍니다. "
      ],
      "metadata": {
        "id": "d_4Cs6DQlEc5"
      }
    },
    {
      "cell_type": "code",
      "source": [
        "train['title'].value_counts()[:20]"
      ],
      "metadata": {
        "colab": {
          "base_uri": "https://localhost:8080/"
        },
        "id": "bteOiPAQlF9e",
        "outputId": "e7509b7b-f54c-4379-e531-9faf365f32c9"
      },
      "execution_count": null,
      "outputs": [
        {
          "output_type": "execute_result",
          "data": {
            "text/plain": [
              "Toyota Camry            129\n",
              "Toyota Corolla          108\n",
              "Toyota Highlander        50\n",
              "Toyota Sienna            49\n",
              "Toyota RAV 4             40\n",
              "Honda Accord             38\n",
              "Lexus RX 350             33\n",
              "Lexus ES 350             24\n",
              "Toyota Venza             16\n",
              "Lexus GX 460             16\n",
              "Honda Pilot              15\n",
              "Lexus LX 570             14\n",
              "Mercedes-Benz ML 350     13\n",
              "Toyota Avalon            13\n",
              "Mercedes-Benz GL 450     12\n",
              "Toyota Matrix            12\n",
              "Toyota Tacoma            12\n",
              "Ford Explorer            12\n",
              "Mercedes-Benz E 350      12\n",
              "Toyota 4-Runner          12\n",
              "Name: title, dtype: int64"
            ]
          },
          "metadata": {},
          "execution_count": 6
        }
      ]
    },
    {
      "cell_type": "markdown",
      "source": [
        "제조사 모델명을 뜻하는 title 변수의 카테고리를 살펴보면 Toyota Camry, Toyota Corolla, Toyota Hiighlander 등 중복된 키워드가 다수 포함되어 있는 것을 확인할 수 있습니다.<br>\n",
        "중고차 가격 분석 시, 굳이 차종을 전부 따지지 않고 Toyota, Lexus 등의 브랜드명으로 묶어 분석하는 편이 시각화 및 머신러닝에 도움이 될 것 같습니다.<br>\n",
        "\n",
        "Title이라는 카테고리를 상위 변수로 두어 브랜드 별 카테고리 변수를 추가하여 분석을 더 용이하게 하게 해줍니다.<br>"
      ],
      "metadata": {
        "id": "HiLA14EElHH0"
      }
    },
    {
      "cell_type": "code",
      "source": [
        "train['brand'] = train['title'].apply(lambda x : x.split(\" \")[0])\n",
        "train.head()"
      ],
      "metadata": {
        "colab": {
          "base_uri": "https://localhost:8080/",
          "height": 195
        },
        "id": "aEVS_m5xlIBD",
        "outputId": "41d4073a-1a4f-4a9d-b9ac-2d2d70a321b7"
      },
      "execution_count": null,
      "outputs": [
        {
          "output_type": "execute_result",
          "data": {
            "text/plain": [
              "   id                          title  odometer location    isimported  \\\n",
              "0   0                   Toyota RAV 4     18277   Lagos   Foreign Used   \n",
              "1   1            Toyota Land Cruiser        10    Lagos          New    \n",
              "2   2  Land Rover Range Rover Evoque     83091    Lagos  Foreign Used   \n",
              "3   3                   Lexus ES 350     91524    Lagos  Foreign Used   \n",
              "4   4                   Toyota Venza     94177    Lagos  Foreign Used   \n",
              "\n",
              "           engine transmission    fuel  paint  year    target   brand  \n",
              "0  4-cylinder(I4)    automatic  petrol    Red  2016  13665000  Toyota  \n",
              "1  4-cylinder(I4)    automatic  petrol  Black  2019  33015000  Toyota  \n",
              "2  6-cylinder(V6)    automatic  petrol    Red  2012   9915000    Land  \n",
              "3  4-cylinder(I4)    automatic  petrol   Gray  2007   3815000   Lexus  \n",
              "4  6-cylinder(V6)    automatic  petrol    Red  2010   7385000  Toyota  "
            ],
            "text/html": [
              "\n",
              "  <div id=\"df-c79ac1cc-48a8-465d-b9ae-13c66ab0235c\">\n",
              "    <div class=\"colab-df-container\">\n",
              "      <div>\n",
              "<style scoped>\n",
              "    .dataframe tbody tr th:only-of-type {\n",
              "        vertical-align: middle;\n",
              "    }\n",
              "\n",
              "    .dataframe tbody tr th {\n",
              "        vertical-align: top;\n",
              "    }\n",
              "\n",
              "    .dataframe thead th {\n",
              "        text-align: right;\n",
              "    }\n",
              "</style>\n",
              "<table border=\"1\" class=\"dataframe\">\n",
              "  <thead>\n",
              "    <tr style=\"text-align: right;\">\n",
              "      <th></th>\n",
              "      <th>id</th>\n",
              "      <th>title</th>\n",
              "      <th>odometer</th>\n",
              "      <th>location</th>\n",
              "      <th>isimported</th>\n",
              "      <th>engine</th>\n",
              "      <th>transmission</th>\n",
              "      <th>fuel</th>\n",
              "      <th>paint</th>\n",
              "      <th>year</th>\n",
              "      <th>target</th>\n",
              "      <th>brand</th>\n",
              "    </tr>\n",
              "  </thead>\n",
              "  <tbody>\n",
              "    <tr>\n",
              "      <th>0</th>\n",
              "      <td>0</td>\n",
              "      <td>Toyota RAV 4</td>\n",
              "      <td>18277</td>\n",
              "      <td>Lagos</td>\n",
              "      <td>Foreign Used</td>\n",
              "      <td>4-cylinder(I4)</td>\n",
              "      <td>automatic</td>\n",
              "      <td>petrol</td>\n",
              "      <td>Red</td>\n",
              "      <td>2016</td>\n",
              "      <td>13665000</td>\n",
              "      <td>Toyota</td>\n",
              "    </tr>\n",
              "    <tr>\n",
              "      <th>1</th>\n",
              "      <td>1</td>\n",
              "      <td>Toyota Land Cruiser</td>\n",
              "      <td>10</td>\n",
              "      <td>Lagos</td>\n",
              "      <td>New</td>\n",
              "      <td>4-cylinder(I4)</td>\n",
              "      <td>automatic</td>\n",
              "      <td>petrol</td>\n",
              "      <td>Black</td>\n",
              "      <td>2019</td>\n",
              "      <td>33015000</td>\n",
              "      <td>Toyota</td>\n",
              "    </tr>\n",
              "    <tr>\n",
              "      <th>2</th>\n",
              "      <td>2</td>\n",
              "      <td>Land Rover Range Rover Evoque</td>\n",
              "      <td>83091</td>\n",
              "      <td>Lagos</td>\n",
              "      <td>Foreign Used</td>\n",
              "      <td>6-cylinder(V6)</td>\n",
              "      <td>automatic</td>\n",
              "      <td>petrol</td>\n",
              "      <td>Red</td>\n",
              "      <td>2012</td>\n",
              "      <td>9915000</td>\n",
              "      <td>Land</td>\n",
              "    </tr>\n",
              "    <tr>\n",
              "      <th>3</th>\n",
              "      <td>3</td>\n",
              "      <td>Lexus ES 350</td>\n",
              "      <td>91524</td>\n",
              "      <td>Lagos</td>\n",
              "      <td>Foreign Used</td>\n",
              "      <td>4-cylinder(I4)</td>\n",
              "      <td>automatic</td>\n",
              "      <td>petrol</td>\n",
              "      <td>Gray</td>\n",
              "      <td>2007</td>\n",
              "      <td>3815000</td>\n",
              "      <td>Lexus</td>\n",
              "    </tr>\n",
              "    <tr>\n",
              "      <th>4</th>\n",
              "      <td>4</td>\n",
              "      <td>Toyota Venza</td>\n",
              "      <td>94177</td>\n",
              "      <td>Lagos</td>\n",
              "      <td>Foreign Used</td>\n",
              "      <td>6-cylinder(V6)</td>\n",
              "      <td>automatic</td>\n",
              "      <td>petrol</td>\n",
              "      <td>Red</td>\n",
              "      <td>2010</td>\n",
              "      <td>7385000</td>\n",
              "      <td>Toyota</td>\n",
              "    </tr>\n",
              "  </tbody>\n",
              "</table>\n",
              "</div>\n",
              "      <button class=\"colab-df-convert\" onclick=\"convertToInteractive('df-c79ac1cc-48a8-465d-b9ae-13c66ab0235c')\"\n",
              "              title=\"Convert this dataframe to an interactive table.\"\n",
              "              style=\"display:none;\">\n",
              "        \n",
              "  <svg xmlns=\"http://www.w3.org/2000/svg\" height=\"24px\"viewBox=\"0 0 24 24\"\n",
              "       width=\"24px\">\n",
              "    <path d=\"M0 0h24v24H0V0z\" fill=\"none\"/>\n",
              "    <path d=\"M18.56 5.44l.94 2.06.94-2.06 2.06-.94-2.06-.94-.94-2.06-.94 2.06-2.06.94zm-11 1L8.5 8.5l.94-2.06 2.06-.94-2.06-.94L8.5 2.5l-.94 2.06-2.06.94zm10 10l.94 2.06.94-2.06 2.06-.94-2.06-.94-.94-2.06-.94 2.06-2.06.94z\"/><path d=\"M17.41 7.96l-1.37-1.37c-.4-.4-.92-.59-1.43-.59-.52 0-1.04.2-1.43.59L10.3 9.45l-7.72 7.72c-.78.78-.78 2.05 0 2.83L4 21.41c.39.39.9.59 1.41.59.51 0 1.02-.2 1.41-.59l7.78-7.78 2.81-2.81c.8-.78.8-2.07 0-2.86zM5.41 20L4 18.59l7.72-7.72 1.47 1.35L5.41 20z\"/>\n",
              "  </svg>\n",
              "      </button>\n",
              "      \n",
              "  <style>\n",
              "    .colab-df-container {\n",
              "      display:flex;\n",
              "      flex-wrap:wrap;\n",
              "      gap: 12px;\n",
              "    }\n",
              "\n",
              "    .colab-df-convert {\n",
              "      background-color: #E8F0FE;\n",
              "      border: none;\n",
              "      border-radius: 50%;\n",
              "      cursor: pointer;\n",
              "      display: none;\n",
              "      fill: #1967D2;\n",
              "      height: 32px;\n",
              "      padding: 0 0 0 0;\n",
              "      width: 32px;\n",
              "    }\n",
              "\n",
              "    .colab-df-convert:hover {\n",
              "      background-color: #E2EBFA;\n",
              "      box-shadow: 0px 1px 2px rgba(60, 64, 67, 0.3), 0px 1px 3px 1px rgba(60, 64, 67, 0.15);\n",
              "      fill: #174EA6;\n",
              "    }\n",
              "\n",
              "    [theme=dark] .colab-df-convert {\n",
              "      background-color: #3B4455;\n",
              "      fill: #D2E3FC;\n",
              "    }\n",
              "\n",
              "    [theme=dark] .colab-df-convert:hover {\n",
              "      background-color: #434B5C;\n",
              "      box-shadow: 0px 1px 3px 1px rgba(0, 0, 0, 0.15);\n",
              "      filter: drop-shadow(0px 1px 2px rgba(0, 0, 0, 0.3));\n",
              "      fill: #FFFFFF;\n",
              "    }\n",
              "  </style>\n",
              "\n",
              "      <script>\n",
              "        const buttonEl =\n",
              "          document.querySelector('#df-c79ac1cc-48a8-465d-b9ae-13c66ab0235c button.colab-df-convert');\n",
              "        buttonEl.style.display =\n",
              "          google.colab.kernel.accessAllowed ? 'block' : 'none';\n",
              "\n",
              "        async function convertToInteractive(key) {\n",
              "          const element = document.querySelector('#df-c79ac1cc-48a8-465d-b9ae-13c66ab0235c');\n",
              "          const dataTable =\n",
              "            await google.colab.kernel.invokeFunction('convertToInteractive',\n",
              "                                                     [key], {});\n",
              "          if (!dataTable) return;\n",
              "\n",
              "          const docLinkHtml = 'Like what you see? Visit the ' +\n",
              "            '<a target=\"_blank\" href=https://colab.research.google.com/notebooks/data_table.ipynb>data table notebook</a>'\n",
              "            + ' to learn more about interactive tables.';\n",
              "          element.innerHTML = '';\n",
              "          dataTable['output_type'] = 'display_data';\n",
              "          await google.colab.output.renderOutput(dataTable, element);\n",
              "          const docLink = document.createElement('div');\n",
              "          docLink.innerHTML = docLinkHtml;\n",
              "          element.appendChild(docLink);\n",
              "        }\n",
              "      </script>\n",
              "    </div>\n",
              "  </div>\n",
              "  "
            ]
          },
          "metadata": {},
          "execution_count": 7
        }
      ]
    },
    {
      "cell_type": "markdown",
      "source": [
        "Toyota Camry의 Toyota처럼, 브랜드명은 띄어쓰기로 구분되어 첫 번째 단어로 포함되어 있으므로 title 변수 데이터를 split하여 첫 번째(0번째 리스트) 문자열을 추출합니다.<br>\n",
        "추출해낸 문자열 데이터를 'brand'라는 칼럼으로 새로 생성하여 추가합니다. 이로써 title의 첫 번째 단어를 이용한 파생 변수 칼럼이 생성되었습니다."
      ],
      "metadata": {
        "id": "19XLq9jvlJHl"
      }
    },
    {
      "cell_type": "markdown",
      "source": [
        "<br><br>\n",
        "\n",
        "### 3-3. 데이터 정제\n",
        "\n",
        "<br>\n",
        "\n",
        "효과적인 데이터 분석을 위해서는 주어진 데이터 셋의 포맷을 통일하고, 불필요한 값을 제거하거나 통합하고, 오탈자를 수정하는 데이터 정제 과정을 거쳐야 합니다.\n",
        "\n",
        "<br>\n",
        "\n",
        "우선, paint 컬럼의 카테고리를 출력해봅니다."
      ],
      "metadata": {
        "id": "s1Ta5yAPlKHk"
      }
    },
    {
      "cell_type": "code",
      "source": [
        "train['paint'].value_counts()[:20]"
      ],
      "metadata": {
        "colab": {
          "base_uri": "https://localhost:8080/"
        },
        "id": "5wKmgJmnlLDH",
        "outputId": "520a75f6-d017-42a0-e9f8-ae4478d6bd81"
      },
      "execution_count": null,
      "outputs": [
        {
          "output_type": "execute_result",
          "data": {
            "text/plain": [
              "Black        292\n",
              "White        115\n",
              "Silver       103\n",
              "Grey          84\n",
              "Blue          70\n",
              "Red           53\n",
              "Dark Grey     47\n",
              "Gold          37\n",
              "white         24\n",
              "Green         18\n",
              "Gray          17\n",
              "Brown         16\n",
              "Black         15\n",
              "Dark Blue     14\n",
              "Wine           8\n",
              "Silver         5\n",
              "Sliver         5\n",
              "blue           5\n",
              "red            5\n",
              "Grey           3\n",
              "Name: paint, dtype: int64"
            ]
          },
          "metadata": {},
          "execution_count": 8
        }
      ]
    },
    {
      "cell_type": "markdown",
      "source": [
        "Black과 black, Red와 red 등 대소문자 표기가 일치하지 않아 다른 카테고리로 나뉘어진 경우가 눈에 띕니다. 또한, Silver의 오타인 Sliver 카테고리도 보입니다.\n",
        "\n",
        "이들의 표기형식을 통일하고 오타 및 표기를 수정합니다.\n",
        "\n",
        "우선, 정규표현식을 이용하여 공백 및 대소문자 표기를 통일시켜줍니다.\n",
        "\n"
      ],
      "metadata": {
        "id": "npG8bojzlMt7"
      }
    },
    {
      "cell_type": "code",
      "source": [
        "import re \n",
        "\n",
        "def clean_text(texts): \n",
        "    corpus = [] \n",
        "    for i in range(0, len(texts)): \n",
        "        review = re.sub(r'[@%\\\\*=()/~#&\\+á?\\xc3\\xa1\\-\\|\\.\\:\\;\\!\\-\\,\\_\\~\\$\\'\\\"\\n\\]\\[\\>\\<]', '',texts[i]) #@%*=()/+ 와 같은 문장부호 제거\n",
        "        review = re.sub(r'\\d+','',review)#숫자 제거\n",
        "        review = review.lower() #소문자 변환\n",
        "        review = re.sub(r'\\s+', ' ', review) #extra space 제거\n",
        "        review = re.sub(r'<[^>]+>','',review) #Html tags 제거\n",
        "        review = re.sub(r'\\s+', ' ', review) #spaces 제거\n",
        "        review = re.sub(r\"^\\s+\", '', review) #space from start 제거\n",
        "        review = re.sub(r'\\s+$', '', review) #space from the end 제거\n",
        "        review = re.sub(r'_', ' ', review) #space from the end 제거\n",
        "        #review = re.sub(r'l', '', review)\n",
        "        corpus.append(review) \n",
        "        \n",
        "    return corpus"
      ],
      "metadata": {
        "id": "yFTUUiuhlNqk"
      },
      "execution_count": null,
      "outputs": []
    },
    {
      "cell_type": "markdown",
      "source": [
        "정규표현식을 다루는 re 모듈의 sub 메소드를 이용하여 데이터들을 수정합니다.<br>\n",
        "\n",
        "입력받은 값의 숫자를 제거하고, 대소문자 통일을 위하여 모든 알파벳을 소문자로 변환하고, 공백 및 띄어쓰기를 제거하는 clear_text 함수를 작성하였습니다."
      ],
      "metadata": {
        "id": "XCEB76y2lOoo"
      }
    },
    {
      "cell_type": "code",
      "source": [
        "print('정제 전 brand의 unique 카테고리 개수 : ', len(train['paint'].unique()))\n",
        "\n",
        "temp = clean_text(train['paint']) #메소드 적용\n",
        "train['paint'] = temp\n",
        "\n",
        "print('정제 후 brand의 unique 카테고리 개수 : ', len(train['paint'].unique()))"
      ],
      "metadata": {
        "colab": {
          "base_uri": "https://localhost:8080/"
        },
        "id": "eoHBQMF_lPqz",
        "outputId": "5febc2a0-2c15-480a-a00c-2ecf695f56ea"
      },
      "execution_count": null,
      "outputs": [
        {
          "output_type": "stream",
          "name": "stdout",
          "text": [
            "정제 전 brand의 unique 카테고리 개수 :  76\n",
            "정제 후 brand의 unique 카테고리 개수 :  51\n"
          ]
        }
      ]
    },
    {
      "cell_type": "markdown",
      "source": [
        "작성한 clean_text 함수를 train 데이터 셋의 paint 칼럼에 적용합니다.<br>\n",
        "이로써 대소문자 구분이나 공백 문자열 때문에 다른 데이터로 나뉘어졌던 데이터들을 하나로 합쳐주었습니다.\n",
        "\n",
        "76개의 카테고리가 존재했던 paint 변수의 카테고리가 51개로 줄어든 모습입니다."
      ],
      "metadata": {
        "id": "vkFAqQLSlQ5W"
      }
    },
    {
      "cell_type": "code",
      "source": [
        "train['paint'].value_counts()[:20]"
      ],
      "metadata": {
        "colab": {
          "base_uri": "https://localhost:8080/"
        },
        "id": "4zDThk0clRh3",
        "outputId": "1218e80d-cfbf-4ca4-af0c-a9c5d389fee3"
      },
      "execution_count": null,
      "outputs": [
        {
          "output_type": "execute_result",
          "data": {
            "text/plain": [
              "black        310\n",
              "white        142\n",
              "silver       109\n",
              "grey          87\n",
              "blue          78\n",
              "red           58\n",
              "dark grey     48\n",
              "gold          41\n",
              "green         20\n",
              "gray          18\n",
              "dark blue     17\n",
              "brown         16\n",
              "wine           9\n",
              "sliver         5\n",
              "dark ash       4\n",
              "cream          4\n",
              "ash            3\n",
              "purple         3\n",
              "yellow         3\n",
              "whiteblue      2\n",
              "Name: paint, dtype: int64"
            ]
          },
          "metadata": {},
          "execution_count": 11
        }
      ]
    },
    {
      "cell_type": "markdown",
      "source": [
        "띄어쓰기와 대소문자 문제는 해결하였으나, 오탈자와 색상의 세세한 구분은 여전히 존재합니다.<br>\n",
        "\n",
        "오타를 수정하고 색상의 명도/채도 등 적은 차이의 색상 표현(dark grey와 grey 등)은 해당 색상을 대표할 수 있는 한 카테고리로 통합해주면 카테고리를 더욱 줄일 수 있을 것 같습니다."
      ],
      "metadata": {
        "id": "6xrgk_enlS_v"
      }
    },
    {
      "cell_type": "code",
      "source": [
        "train['paint'] = train['paint'] = train['paint'].apply(lambda x : 'blue' if x.find('blue') >= 0 else x)\n",
        "train['paint'] = train['paint'] = train['paint'].apply(lambda x : 'red' if x.find('red') >= 0 else x)\n",
        "train['paint'] = train['paint'] = train['paint'].apply(lambda x : 'green' if x.find('green') >= 0 else x)\n",
        "train['paint'] = train['paint'] = train['paint'].apply(lambda x : 'white' if x.find('white') >= 0 else x)\n",
        "train['paint'] = train['paint'] = train['paint'].apply(lambda x : 'grey' if x.find('grey') >= 0 else x)\n",
        "train['paint'] = train['paint'] = train['paint'].apply(lambda x : 'grey' if x.find('gery') >= 0 else x)\n",
        "train['paint'] = train['paint'] = train['paint'].apply(lambda x : 'grey' if x.find('gray') >= 0 else x)\n",
        "train['paint'] = train['paint'] = train['paint'].apply(lambda x : 'ash' if x.find('ash') >= 0 else x)\n",
        "train['paint'] = train['paint'] = train['paint'].apply(lambda x : 'brown' if x.find('brown') >= 0 else x)\n",
        "train['paint'] = train['paint'] = train['paint'].apply(lambda x : 'silver' if x.find('silver') >= 0 else x)\n",
        "train['paint'] = train['paint'] = train['paint'].apply(lambda x : 'silver' if x.find('sliver') >= 0 else x)\n",
        "train['paint'] = train['paint'] = train['paint'].apply(lambda x : 'black' if x.find('black') >= 0 else x)\n",
        "train['paint'] = train['paint'] = train['paint'].apply(lambda x : 'gold' if x.find('gold') >= 0 else x)\n",
        "train['paint'] = train['paint'] = train['paint'].apply(lambda x : 'wine' if x.find('whine') >= 0 else x)"
      ],
      "metadata": {
        "id": "RPPq7LRHlT0b"
      },
      "execution_count": null,
      "outputs": []
    },
    {
      "cell_type": "markdown",
      "source": [
        "sliver라는 오타 문자열이 확인되면 silver로 변환하여 주고, grey라는 문자열이 포함된 dark grey가 확인되면 grey로 변환하여 대표 색상으로 통일해주었습니다."
      ],
      "metadata": {
        "id": "BTQ8xF7glUz8"
      }
    },
    {
      "cell_type": "code",
      "source": [
        "train['paint'].value_counts()"
      ],
      "metadata": {
        "colab": {
          "base_uri": "https://localhost:8080/"
        },
        "id": "5ipdJ2cUlVXm",
        "outputId": "8554ae83-9405-45f9-a3ab-07226cdb6f10"
      },
      "execution_count": null,
      "outputs": [
        {
          "output_type": "execute_result",
          "data": {
            "text/plain": [
              "black     312\n",
              "grey      159\n",
              "white     146\n",
              "silver    117\n",
              "blue      105\n",
              "red        60\n",
              "gold       42\n",
              "green      21\n",
              "brown      17\n",
              "wine       10\n",
              "ash         8\n",
              "cream       4\n",
              "purple      3\n",
              "yellow      3\n",
              "milk        2\n",
              "maroon      2\n",
              "beige       1\n",
              "orange      1\n",
              "Name: paint, dtype: int64"
            ]
          },
          "metadata": {},
          "execution_count": 13
        }
      ]
    },
    {
      "cell_type": "code",
      "source": [
        "print('paint의 unique 카테고리 개수 : ', len(train['paint'].value_counts()))"
      ],
      "metadata": {
        "colab": {
          "base_uri": "https://localhost:8080/"
        },
        "id": "_rMQbwW5lWlL",
        "outputId": "293285dd-1563-481c-a5d9-ad8f3ecb1f24"
      },
      "execution_count": null,
      "outputs": [
        {
          "output_type": "stream",
          "name": "stdout",
          "text": [
            "paint의 unique 카테고리 개수 :  18\n"
          ]
        }
      ]
    },
    {
      "cell_type": "markdown",
      "source": [
        "데이터 정제 처리를 통해, 처음에는 76개였던 paint 변수의 카테고리를 데이터 분석에 용이하도록 18개까지 줄여주었습니다."
      ],
      "metadata": {
        "id": "lmgHHlB6lXvL"
      }
    },
    {
      "cell_type": "markdown",
      "source": [
        "<br>\n",
        "\n",
        "### 3-4. 라벨 인코딩\n",
        "\n",
        "<br>\n",
        "\n",
        "데이터셋의 id, odometer, year, target 칼럼만이 int형이고, 나머지 칼럼들은 object 데이터형입니다.\n",
        "\n",
        "데이터 분석에 사용하고자 하는 XGBoost 머신러닝 기법은 범주형 데이터를 이용할 수 없으므로, 범주형 변수의 경우 전처리를 통해 정수 값으로 변환해주어야 합니다.\n",
        "\n",
        "Label Encoding 기법을 이용하여 범주형 변수의 문자열을 수치형, 즉 숫자 값으로 변환해주도록 합니다."
      ],
      "metadata": {
        "id": "7g4V0R7Mlbh9"
      }
    },
    {
      "cell_type": "code",
      "source": [
        "#라벨인코딩을 하기 위함 dictionary map 생성 함수\n",
        "def make_label_map(dataframe):\n",
        "    label_maps = {}\n",
        "    for col in dataframe.columns:\n",
        "        if dataframe[col].dtype=='object':\n",
        "            label_map = {'unknown':0}\n",
        "            for i, key in enumerate(dataframe[col].unique()):\n",
        "                label_map[key] = i+1  #새로 등장하는 유니크 값들에 대해 1부터 1씩 증가시켜 키값을 부여해줍니다.\n",
        "            label_maps[col] = label_map\n",
        "    print(label_maps)\n",
        "    return label_maps\n",
        "\n",
        "# 각 범주형 변수에 인코딩 값을 부여하는 함수\n",
        "def label_encoder(dataframe, label_map):\n",
        "    for col in dataframe.columns:\n",
        "        if dataframe[col].dtype=='object':\n",
        "            dataframe[col] = dataframe[col].map(label_map[col])\n",
        "            dataframe[col] = dataframe[col].fillna(label_map[col]['unknown']) #혹시 모를 결측값은 unknown의 값(0)으로 채워줍니다.\n",
        "    return dataframe\n",
        "\n",
        "le = make_label_map(train)\n",
        "train = label_encoder(train, le)\n",
        "train.head()"
      ],
      "metadata": {
        "colab": {
          "base_uri": "https://localhost:8080/",
          "height": 233
        },
        "id": "p_m8Ah6dlmNw",
        "outputId": "d4def255-acbd-4a07-dbe7-b1e762074774"
      },
      "execution_count": null,
      "outputs": [
        {
          "output_type": "stream",
          "name": "stdout",
          "text": [
            "{'title': {'unknown': 0, 'Toyota RAV 4': 1, 'Toyota Land Cruiser': 2, 'Land Rover Range Rover Evoque': 3, 'Lexus ES 350': 4, 'Toyota Venza': 5, 'Toyota Corolla': 6, 'Land Rover Range Rover Sport': 7, 'Pontiac Vibe': 8, 'Toyota Tacoma': 9, 'Lexus RX 350': 10, 'Ford Escape': 11, 'Honda Civic': 12, 'Volvo XC90': 13, 'BMW 750': 14, 'Infiniti JX': 15, 'Honda Accord': 16, 'Mercedes-Benz ML 350': 17, 'Toyota Camry': 18, 'Hyundai Azera': 19, 'Lexus GX 460': 20, 'BMW 325': 21, 'Toyota Sienna': 22, 'Honda Fit': 23, 'Honda CR-V': 24, 'Hyundai Tucson': 25, 'Ford Transit': 26, 'Jaguar XJ8': 27, 'BMW X6': 28, 'Mercedes-Benz C 300': 29, 'Mitsubishi Galant': 30, 'Mercedes-Benz GL 450': 31, 'Lexus RX 300': 32, 'Toyota Highlander': 33, 'Mitsubishi CANTER PICK UP': 34, 'Nissan Titan': 35, 'Lexus IS 250': 36, 'Mercedes-Benz 200': 37, 'Toyota Sequoia': 38, 'Ford Explorer': 39, 'Hyundai ix35': 40, 'Mack CH613 CONVENTIONAL CAB': 41, 'Lexus CT 200h': 42, 'Lexus LX 570': 43, 'Toyota Avensis': 44, 'Toyota 4-Runner': 45, 'Mercedes-Benz GLE 350': 46, 'Mercedes-Benz E 300': 47, 'Toyota Avalon': 48, 'Chevrolet Camaro': 49, 'Mack CXN613 CAB BEHIND ENGINE': 50, 'Land Rover Range Rover': 51, 'Mazda CX-9': 52, 'Lexus RX 330': 53, 'Lincoln Mark': 54, 'Kia Optima': 55, 'Volkswagen LT': 56, 'Lexus GS 300': 57, 'Jaguar X-Type': 58, 'Mercedes-Benz 709 DB': 59, 'Nissan Altima': 60, 'Acura MDX': 61, 'DAF 95XF TRACTOR HEAD': 62, 'Man TGA 18.360': 63, 'Nissan Pathfinder': 64, 'Mercedes-Benz E 350': 65, 'Honda Crosstour': 66, 'Honda Pilot': 67, 'Lexus LS 460': 68, 'Nissan Cabstar': 69, 'Kia Sorento': 70, 'Mercedes-Benz CLA 250': 71, 'Mitsubishi Pajero': 72, 'Mercedes-Benz C 350': 73, 'Lexus GS 350': 74, 'Mercedes-Benz E 320': 75, 'Toyota Yaris': 76, 'Toyota Matrix': 77, 'Isuzu NQR': 78, 'IVM LT35': 79, 'Hyundai Elantra': 80, 'Porsche Cayenne': 81, 'Toyota Prado': 82, 'Hyundai Sonata': 83, 'MINI Cooper': 84, 'Toyota Hiace': 85, 'Mercedes-Benz 350': 86, 'Honda Odyssey': 87, 'Mercedes-Benz E 550': 88, 'Dodge Charger': 89, 'GMC Terrain': 90, 'Mercedes-Benz GLK 350': 91, 'Mercedes-Benz C 250': 92, 'Mercedes-Benz ML 430': 93, 'Mack CH613': 94, 'Honda Element': 95, 'Mercedes-Benz GLC 300': 96, 'Hyundai Santa Fe': 97, 'Kia Cerato': 98, 'Chevrolet Evanda': 99, 'Iveco TRUCK': 100, 'Acura ZDX': 101, 'Mercedes-Benz 450': 102, 'Mercedes-Benz GLA 250': 103, 'Mercedes-Benz CLS 500': 104, 'Scania P94 FLATBED': 105, 'Nissan Versa': 106, 'Ford F 150': 107, 'Mercedes-Benz GLE 43 AMG': 108, 'Volkswagen Golf': 109, 'Mercedes-Benz 320': 110, 'Honda Ridgeline': 111, 'Mercedes-Benz S 450': 112, 'Mercedes-Benz 300': 113, 'Kia Rio': 114, 'BMW 740': 115, 'Ford Edge': 116, 'Toyota Dyna': 117, 'Volvo FL6': 118, 'Toyota Coaster': 119, 'GAC Gonow Other': 120, 'IVECO EUROTECH 7.50E-16': 121, 'DAF FA 55. 180': 122, 'Scania TRACTOR HEAD': 123, 'Nissan Xterra': 124, 'Mercedes-Benz ML 320': 125, 'Ford Focus': 126, 'Mercedes-Benz 220': 127, 'Man Truck 18.44': 128, 'BMW 730': 129, 'Peugeot 607': 130, 'BMW 528': 131, 'Volvo XC60': 132, 'Mercedes-Benz E 200': 133, 'Volkswagen Passat': 134, 'Volkswagen Sharan': 135, 'Lexus GX 470': 136, 'Nissan Quest': 137, 'Nissan Maxima': 138, 'Lexus ES 300': 139, 'Mazda Tribute': 140, 'Ford Fusion': 141, 'Acura RDX': 142, 'Peugeot 206': 143, 'Mercedes-Benz G 63 AMG': 144, 'Toyota Hilux': 145, 'Kia Stinger': 146, 'Volkswagen Tiguan': 147, 'Acura TL': 148, 'Porsche Panamera': 149, 'Rolls-Royce Ghost': 150, 'BMW 745': 151, 'BMW 335': 152, 'Volkswagen Jetta': 153, 'Mack R-686ST': 154, 'Man Diesel 19.314 FILT-N': 155, 'Toyota Solara': 156, 'Kia Soul': 157, 'Mercedes-Benz C 450 AMG': 158, 'Mack CXN613': 159, 'Nissan Murano': 160, 'Chevrolet Traverse': 161, 'Volkswagen T4 Caravelle': 162, 'MAN-VOLKSWAGEN FLATBED': 163, 'Nissan Frontier': 164, 'Nissan X-Trail': 165, 'Mercedes-Benz C 180': 166, 'Infiniti M35': 167, 'Nissan Sentra': 168, 'Jeep Cherokee': 169, 'Toyota DYNA 200': 170, 'Nissan Rogue': 171, 'Land Rover Range Rover Velar': 172, 'ALPINA B3': 173, 'DAF 45': 174, 'Mazda 323': 175, 'Volkswagen T6 other': 176, 'Bentley Arnage': 177, 'Mazda 6': 178, 'Infiniti FX': 179, 'Ford Expedition': 180, 'Mercedes-Benz 814': 181, 'Kia Picanto': 182, 'Toyota Tundra': 183, 'JMC Vigus': 184, 'Infiniti QX80': 185, 'Volvo FH12': 186, 'Volkswagen Touareg': 187, 'Porsche Macan': 188, 'Peugeot 308': 189, 'Nissan INFINITI M90.150/2': 190, 'MINI Cooper Countryman': 191, 'Lexus ES 330': 192, 'Honda Insight': 193, 'Toyota Vitz': 194, 'Audi S6': 195, 'Isuzu CABSTER': 196, 'Mercedes-Benz C 63 AMG': 197, 'Mercedes-Benz SL 400': 198, 'Volkswagen 17.22': 199, 'Man BOCKMANN': 200, 'DAF CF': 201}, 'location': {'unknown': 0, 'Lagos ': 1, 'Lagos': 2, 'Abuja': 3, 'Lagos State': 4, 'Ogun': 5, 'FCT': 6, 'Accra': 7, 'other': 8, 'Abuja ': 9, 'Abia State': 10, 'Adamawa ': 11, 'Abia': 12, 'Ogun State': 13}, 'isimported': {'unknown': 0, 'Foreign Used': 1, 'New ': 2, 'Locally used': 3}, 'engine': {'unknown': 0, '4-cylinder(I4)': 1, '6-cylinder(V6)': 2, '8-cylinder(V8)': 3, '6-cylinder(I6)': 4, '4-cylinder(H4)': 5, '5-cylinder(I5)': 6, '3-cylinder(I3)': 7, '2-cylinder(I2)': 8}, 'transmission': {'unknown': 0, 'automatic': 1, 'manual': 2}, 'fuel': {'unknown': 0, 'petrol': 1, 'diesel': 2}, 'paint': {'unknown': 0, 'red': 1, 'black': 2, 'grey': 3, 'white': 4, 'blue': 5, 'silver': 6, 'brown': 7, 'green': 8, 'purple': 9, 'gold': 10, 'milk': 11, 'beige': 12, 'ash': 13, 'orange': 14, 'cream': 15, 'yellow': 16, 'wine': 17, 'maroon': 18}, 'brand': {'unknown': 0, 'Toyota': 1, 'Land': 2, 'Lexus': 3, 'Pontiac': 4, 'Ford': 5, 'Honda': 6, 'Volvo': 7, 'BMW': 8, 'Infiniti': 9, 'Mercedes-Benz': 10, 'Hyundai': 11, 'Jaguar': 12, 'Mitsubishi': 13, 'Nissan': 14, 'Mack': 15, 'Chevrolet': 16, 'Mazda': 17, 'Lincoln': 18, 'Kia': 19, 'Volkswagen': 20, 'Acura': 21, 'DAF': 22, 'Man': 23, 'Isuzu': 24, 'IVM': 25, 'Porsche': 26, 'MINI': 27, 'Dodge': 28, 'GMC': 29, 'Iveco': 30, 'Scania': 31, 'GAC': 32, 'IVECO': 33, 'Peugeot': 34, 'Rolls-Royce': 35, 'MAN-VOLKSWAGEN': 36, 'Jeep': 37, 'ALPINA': 38, 'Bentley': 39, 'JMC': 40, 'Audi': 41}}\n"
          ]
        },
        {
          "output_type": "execute_result",
          "data": {
            "text/plain": [
              "   id  title  odometer  location  isimported  engine  transmission  fuel  \\\n",
              "0   0      1     18277         1           1       1             1     1   \n",
              "1   1      2        10         2           2       1             1     1   \n",
              "2   2      3     83091         2           1       2             1     1   \n",
              "3   3      4     91524         2           1       1             1     1   \n",
              "4   4      5     94177         2           1       2             1     1   \n",
              "\n",
              "   paint  year    target  brand  \n",
              "0      1  2016  13665000      1  \n",
              "1      2  2019  33015000      1  \n",
              "2      1  2012   9915000      2  \n",
              "3      3  2007   3815000      3  \n",
              "4      1  2010   7385000      1  "
            ],
            "text/html": [
              "\n",
              "  <div id=\"df-e7a54938-340b-4796-a313-4462a59577fb\">\n",
              "    <div class=\"colab-df-container\">\n",
              "      <div>\n",
              "<style scoped>\n",
              "    .dataframe tbody tr th:only-of-type {\n",
              "        vertical-align: middle;\n",
              "    }\n",
              "\n",
              "    .dataframe tbody tr th {\n",
              "        vertical-align: top;\n",
              "    }\n",
              "\n",
              "    .dataframe thead th {\n",
              "        text-align: right;\n",
              "    }\n",
              "</style>\n",
              "<table border=\"1\" class=\"dataframe\">\n",
              "  <thead>\n",
              "    <tr style=\"text-align: right;\">\n",
              "      <th></th>\n",
              "      <th>id</th>\n",
              "      <th>title</th>\n",
              "      <th>odometer</th>\n",
              "      <th>location</th>\n",
              "      <th>isimported</th>\n",
              "      <th>engine</th>\n",
              "      <th>transmission</th>\n",
              "      <th>fuel</th>\n",
              "      <th>paint</th>\n",
              "      <th>year</th>\n",
              "      <th>target</th>\n",
              "      <th>brand</th>\n",
              "    </tr>\n",
              "  </thead>\n",
              "  <tbody>\n",
              "    <tr>\n",
              "      <th>0</th>\n",
              "      <td>0</td>\n",
              "      <td>1</td>\n",
              "      <td>18277</td>\n",
              "      <td>1</td>\n",
              "      <td>1</td>\n",
              "      <td>1</td>\n",
              "      <td>1</td>\n",
              "      <td>1</td>\n",
              "      <td>1</td>\n",
              "      <td>2016</td>\n",
              "      <td>13665000</td>\n",
              "      <td>1</td>\n",
              "    </tr>\n",
              "    <tr>\n",
              "      <th>1</th>\n",
              "      <td>1</td>\n",
              "      <td>2</td>\n",
              "      <td>10</td>\n",
              "      <td>2</td>\n",
              "      <td>2</td>\n",
              "      <td>1</td>\n",
              "      <td>1</td>\n",
              "      <td>1</td>\n",
              "      <td>2</td>\n",
              "      <td>2019</td>\n",
              "      <td>33015000</td>\n",
              "      <td>1</td>\n",
              "    </tr>\n",
              "    <tr>\n",
              "      <th>2</th>\n",
              "      <td>2</td>\n",
              "      <td>3</td>\n",
              "      <td>83091</td>\n",
              "      <td>2</td>\n",
              "      <td>1</td>\n",
              "      <td>2</td>\n",
              "      <td>1</td>\n",
              "      <td>1</td>\n",
              "      <td>1</td>\n",
              "      <td>2012</td>\n",
              "      <td>9915000</td>\n",
              "      <td>2</td>\n",
              "    </tr>\n",
              "    <tr>\n",
              "      <th>3</th>\n",
              "      <td>3</td>\n",
              "      <td>4</td>\n",
              "      <td>91524</td>\n",
              "      <td>2</td>\n",
              "      <td>1</td>\n",
              "      <td>1</td>\n",
              "      <td>1</td>\n",
              "      <td>1</td>\n",
              "      <td>3</td>\n",
              "      <td>2007</td>\n",
              "      <td>3815000</td>\n",
              "      <td>3</td>\n",
              "    </tr>\n",
              "    <tr>\n",
              "      <th>4</th>\n",
              "      <td>4</td>\n",
              "      <td>5</td>\n",
              "      <td>94177</td>\n",
              "      <td>2</td>\n",
              "      <td>1</td>\n",
              "      <td>2</td>\n",
              "      <td>1</td>\n",
              "      <td>1</td>\n",
              "      <td>1</td>\n",
              "      <td>2010</td>\n",
              "      <td>7385000</td>\n",
              "      <td>1</td>\n",
              "    </tr>\n",
              "  </tbody>\n",
              "</table>\n",
              "</div>\n",
              "      <button class=\"colab-df-convert\" onclick=\"convertToInteractive('df-e7a54938-340b-4796-a313-4462a59577fb')\"\n",
              "              title=\"Convert this dataframe to an interactive table.\"\n",
              "              style=\"display:none;\">\n",
              "        \n",
              "  <svg xmlns=\"http://www.w3.org/2000/svg\" height=\"24px\"viewBox=\"0 0 24 24\"\n",
              "       width=\"24px\">\n",
              "    <path d=\"M0 0h24v24H0V0z\" fill=\"none\"/>\n",
              "    <path d=\"M18.56 5.44l.94 2.06.94-2.06 2.06-.94-2.06-.94-.94-2.06-.94 2.06-2.06.94zm-11 1L8.5 8.5l.94-2.06 2.06-.94-2.06-.94L8.5 2.5l-.94 2.06-2.06.94zm10 10l.94 2.06.94-2.06 2.06-.94-2.06-.94-.94-2.06-.94 2.06-2.06.94z\"/><path d=\"M17.41 7.96l-1.37-1.37c-.4-.4-.92-.59-1.43-.59-.52 0-1.04.2-1.43.59L10.3 9.45l-7.72 7.72c-.78.78-.78 2.05 0 2.83L4 21.41c.39.39.9.59 1.41.59.51 0 1.02-.2 1.41-.59l7.78-7.78 2.81-2.81c.8-.78.8-2.07 0-2.86zM5.41 20L4 18.59l7.72-7.72 1.47 1.35L5.41 20z\"/>\n",
              "  </svg>\n",
              "      </button>\n",
              "      \n",
              "  <style>\n",
              "    .colab-df-container {\n",
              "      display:flex;\n",
              "      flex-wrap:wrap;\n",
              "      gap: 12px;\n",
              "    }\n",
              "\n",
              "    .colab-df-convert {\n",
              "      background-color: #E8F0FE;\n",
              "      border: none;\n",
              "      border-radius: 50%;\n",
              "      cursor: pointer;\n",
              "      display: none;\n",
              "      fill: #1967D2;\n",
              "      height: 32px;\n",
              "      padding: 0 0 0 0;\n",
              "      width: 32px;\n",
              "    }\n",
              "\n",
              "    .colab-df-convert:hover {\n",
              "      background-color: #E2EBFA;\n",
              "      box-shadow: 0px 1px 2px rgba(60, 64, 67, 0.3), 0px 1px 3px 1px rgba(60, 64, 67, 0.15);\n",
              "      fill: #174EA6;\n",
              "    }\n",
              "\n",
              "    [theme=dark] .colab-df-convert {\n",
              "      background-color: #3B4455;\n",
              "      fill: #D2E3FC;\n",
              "    }\n",
              "\n",
              "    [theme=dark] .colab-df-convert:hover {\n",
              "      background-color: #434B5C;\n",
              "      box-shadow: 0px 1px 3px 1px rgba(0, 0, 0, 0.15);\n",
              "      filter: drop-shadow(0px 1px 2px rgba(0, 0, 0, 0.3));\n",
              "      fill: #FFFFFF;\n",
              "    }\n",
              "  </style>\n",
              "\n",
              "      <script>\n",
              "        const buttonEl =\n",
              "          document.querySelector('#df-e7a54938-340b-4796-a313-4462a59577fb button.colab-df-convert');\n",
              "        buttonEl.style.display =\n",
              "          google.colab.kernel.accessAllowed ? 'block' : 'none';\n",
              "\n",
              "        async function convertToInteractive(key) {\n",
              "          const element = document.querySelector('#df-e7a54938-340b-4796-a313-4462a59577fb');\n",
              "          const dataTable =\n",
              "            await google.colab.kernel.invokeFunction('convertToInteractive',\n",
              "                                                     [key], {});\n",
              "          if (!dataTable) return;\n",
              "\n",
              "          const docLinkHtml = 'Like what you see? Visit the ' +\n",
              "            '<a target=\"_blank\" href=https://colab.research.google.com/notebooks/data_table.ipynb>data table notebook</a>'\n",
              "            + ' to learn more about interactive tables.';\n",
              "          element.innerHTML = '';\n",
              "          dataTable['output_type'] = 'display_data';\n",
              "          await google.colab.output.renderOutput(dataTable, element);\n",
              "          const docLink = document.createElement('div');\n",
              "          docLink.innerHTML = docLinkHtml;\n",
              "          element.appendChild(docLink);\n",
              "        }\n",
              "      </script>\n",
              "    </div>\n",
              "  </div>\n",
              "  "
            ]
          },
          "metadata": {},
          "execution_count": 15
        }
      ]
    },
    {
      "cell_type": "markdown",
      "source": [
        "우선, 라벨 인코딩을 하기 위해 dictionary map을 생성하는 함수 make_label_map 함수와, make_label_map에서 반환한 유니크 값을 이용하여 범주형 변수에 인코딩 값을 부여하는 label_encoder 함수를 작성하고 적용하였습니다.<br>\n",
        "\n",
        "범주형 변수들을 문자열이 아닌 숫자 형태로 변환해준 모습입니다.<br>\n",
        "\n",
        "각 범주 값에 1에서 N(총 카테고리)까지의 숫자가 부여되었습니다.<br>\n",
        "예를 들어 paint에서 Red는 1로, Black은 2로, Gray는 3으로 변환되었습니다."
      ],
      "metadata": {
        "id": "DxtqJwhClncX"
      }
    },
    {
      "cell_type": "markdown",
      "source": [
        "<br><br>\n",
        "\n",
        "## **4. 모델링**\n",
        "\n",
        "### 4-1. 변수 정의\n",
        "\n",
        "<br>\n",
        "\n",
        "해당 데이터 분석의 목적은 주어진 중고차 상세 정보 데이터를 이용하여 target 변수인 자동차 가격을 예측하는 것입니다. <br>\n",
        "\n",
        "이를 바탕으로 독립변수 X는 중고차 상세 정보 데이터, 종속변수 y는 중고차 가격인 target 변수가 될 것입니다."
      ],
      "metadata": {
        "id": "qHe7_mehlo0S"
      }
    },
    {
      "cell_type": "code",
      "source": [
        "X = train.drop(['id', 'target'], axis = 1) #training 데이터에서 피쳐 추출\n",
        "y = train.target #training 데이터에서 중고차 가격 추출"
      ],
      "metadata": {
        "id": "f4CEqhUClpqh"
      },
      "execution_count": null,
      "outputs": []
    },
    {
      "cell_type": "markdown",
      "source": [
        "기본적인 인덱스를 의미하는 id 칼럼과 종속변수가 될 target 변수를 제외한 나머지 데이터를 독립변수 X로 설정하였습니다.\n",
        "\n",
        "그리고 중고차 가격인 target 칼럼만 추출하여 종속변수로 설정하였습니다."
      ],
      "metadata": {
        "id": "DhHPLJsclqtO"
      }
    },
    {
      "cell_type": "markdown",
      "source": [
        "<br>\n",
        "\n",
        "### 4-2. train/validation 정의\n",
        "\n",
        "<br>\n",
        "\n",
        "주어진 데이터 중 train 데이터셋을 모두 이용하여 학습시킨 뒤, 바로 test 데이터셋에 넣어 예측하면 train 데이터셋으로 학습시킨 모델이 제대로 만들어졌는지, 즉 유의한지 확인할 수 없습니다. <br>\n",
        "\n",
        "따라서 train 데이터셋의 일부는 모델을 학습하는 데 사용하고, train의 나머지 데이터셋은 모델이 유의한지 확인하는 용도로 사용합니다.<br>\n",
        "높은 정확도가 출력되어 유의하다는 것이 확인되었을 때 train 데이터셋을 전부 이용하여 학습하고 test 데이터셋에 적용하도록 합니다.\n",
        "\n",
        "<br>\n",
        "\n",
        "train 데이터 셋을 각각 75%와 25%로 나누어, 학습시키는 용도로 사용될 train_data 데이터셋과 모델이 유의한지 검증을 위한 val_dat 데이터셋으로 나누어줍니다."
      ],
      "metadata": {
        "id": "m7KH0zatlr0B"
      }
    },
    {
      "cell_type": "code",
      "source": [
        "from sklearn.model_selection import train_test_split\n",
        "\n",
        "data = train.drop('id', axis = 1).copy() #필요없는 id열 삭제\n",
        "train_data, val_data = train_test_split(data, test_size=0.25) # 25프로로 설정\n",
        "train_data.reset_index(inplace=True) #전처리 과정에서 데이터가 뒤섞이지 않도록 인덱스를 초기화\n",
        "val_data.reset_index(inplace=True)\n",
        "\n",
        "print('학습시킬 train 셋 : ', train_data.shape)\n",
        "print('검증할 val 셋 : ', val_data.shape)"
      ],
      "metadata": {
        "colab": {
          "base_uri": "https://localhost:8080/"
        },
        "id": "idep78dultaX",
        "outputId": "c1a01a47-0aeb-4c45-f5c3-e3da83c61715"
      },
      "execution_count": null,
      "outputs": [
        {
          "output_type": "stream",
          "name": "stdout",
          "text": [
            "학습시킬 train 셋 :  (759, 12)\n",
            "검증할 val 셋 :  (254, 12)\n"
          ]
        }
      ]
    },
    {
      "cell_type": "markdown",
      "source": [
        "기본적인 인덱스를 나타내는 id 칼럼을 제거한 후, sklearn의 train_test_split 메소드를 이용하여 75%의 학습용 데이터셋과 25%의 검증용 데이터셋으로 나눠주었습니다.\n",
        "\n",
        "train 데이터셋(총 761개의 데이터)으로 모델을 학습시키고 val 데이터셋(총 254개의 데이터)으로 모델의 성능이 유의한지 검증하도록 합니다."
      ],
      "metadata": {
        "id": "EAVBBiKjlxvQ"
      }
    },
    {
      "cell_type": "code",
      "source": [
        "train_data_X = train_data.drop(['target', 'index'], axis = 1) #training 데이터에서 피쳐 추출\n",
        "train_data_y = train_data.target #training 데이터에서 target 추출\n",
        "\n",
        "val_data_X = val_data.drop(['target', 'index'], axis = 1) #training 데이터에서 피쳐 추출\n",
        "val_data_y = val_data.target #validation 데이터에서 target 추출"
      ],
      "metadata": {
        "id": "mv9KWzoxlyrp"
      },
      "execution_count": null,
      "outputs": []
    },
    {
      "cell_type": "markdown",
      "source": [
        "나뉜 train 데이터 셋에서 target변수와 일련번호를 뜻하는 index 칼럼을 제외하여 train_data_X로 정의하고 target 변수만 추출하여 train_data_y로 정의하였습니다.<br>\n",
        "\n",
        "val 데이터 역시 target변수와 일련번호를 뜻하는 index 칼럼을 제외하여 val_data_X로 정의하고 target 변수만 추출하여 val_data_y로 정의하였습니다."
      ],
      "metadata": {
        "id": "VQozLlh5kudf"
      }
    },
    {
      "cell_type": "markdown",
      "source": [
        "<br><br>\n",
        "\n",
        "## **5. XGBoost**\n",
        "\n",
        "### 5-1. XGBoost의 정의\n",
        "\n",
        "<br>\n",
        "\n",
        "우선 Boosting이란, 여러 개의 약한 의사결정나무를 조합해서 사용하는 앙상블 기법 중 하나입니다. 즉, 약한 예측 모형들을 통해 가중치를 정하고, 순차적으로 다음 학습 모델에 반영하여 강한 예측 모형을 만들어나가는 것입니다.\n",
        "\n",
        "<br>\n",
        "\n",
        "XGBoost란 Extreme Gradient Boosting의 약자로, Boosting 기법을 이용해 구현한 알고리즘인 Gradient Boost를 병렬 학습이 지원되도록 구현한 라이브러리입니다.<br>\n",
        "\n",
        "Regression, Classfication 문제를 모두 지원하며, 성능과 자원 효율이 좋아 많이 사용되고 있는 알고리즘입니다.\n",
        "\n",
        "<br>\n",
        "\n",
        "### 5-2. XGBoost의 하이퍼파라미터\n",
        "\n",
        "<br>\n",
        "\n",
        "XGBoost에는 다수의 하이퍼파라미터가 존재하며, 일반/부스터/학습 과정 파라미터로 나뉩니다.\n",
        "- 일반 파라미터 : 부스팅을 수행할 때 트리를 사용할지, 선형 모델을 사용할지 등을 선택합니다.\n",
        "- 부스터 파라미터 : 선택한 부스터에 따라 적용할 수 있는 파라미터 종류가 다릅니다.\n",
        "- 학습 과정 파라미터 : 학습 시나리오를 결정합니다.\n",
        "\n",
        "<br>\n",
        "\n",
        "> 일반 파라미터\n",
        "- booster : 어떤 부스터 구조를 쓸지 결정합니다. 의사결정기반모형(gbtree), 선형모형(gblinear), dart가 있습니다.\n",
        "- n_jobs : 사용되는 병렬 스레드 수를 결정합니다.\n",
        "- verbosity : 0(무음), 1(경고), 2(정보), 3(디버그)를 의미합니다.\n",
        "\n",
        "> 부스터 파라미터\n",
        "- learning_rate : 기본값은 0.3이며 높을수록 과적합되기 쉽습니다.\n",
        "- n_estimators : 생성할 weak learner의 수이며 기본값은 100입니다. learning_rate가 낮을 때에는 n_estimators를 높여야 과적합이 방지됩니다.\n",
        "- max_depth : 적절한 값이 제시되어야 하며 보통 3~10 사이 값이 적용됩니다. 높아질수록 모델의 복잡도가 커져 과적합되기 쉽습니다. 기본값은 6.\n",
        "- min_child_weight : 관측치에 대한 가중치 합의 최소입니다. 높아질수록 과적합이 방지됩니다. 기본값은 1.\n",
        "- subsample : 학습에 사용하는 데이터 샘플링 비율입니다. 보통 0.5~1 정도가 사용되며, 값이 낮을수록 과적합이 방지됩니다.\n",
        "- colsample_bytree : 각 트리 별 사용된 feature의 퍼센테이지입니다. 보통 0.5~1 정도로 사용됩니다. 값이 낮을수록 과적합이 방지됩니다.\n",
        "\n",
        "> 학습 과정 파라미터\n",
        "- objective : reg:squarederror는 제곱 손실이 있는 회귀를 뜻하며 기본 값입니다. binary:logistic은 이항 분류 문제 로지스틱 회귀 모형을 예측 확률을 반환합니다. multi:softmax는 다항 분류 문제에 사용됩니다. multi:softprob는 각 클래스 범주에 속하는 예측확률을 반환합니다.\n",
        "- eval_metric : 모델의 평가 함수를 조정하는 함수입니다. rmse, mae, logloss 등으로 설정할 수 있습니다.\n",
        "- seed : 재현 가능하도록 난수를 고정시킵니다.\n",
        "\n",
        "<br>\n",
        "\n",
        "과적합 방지를 위해서는 learning rate, max_depth 등을 낮추고 n_estimators, min_child_weight, gamma 등은 높이는 조정을 할 수 있습니다."
      ],
      "metadata": {
        "id": "Gb-ms-5Rl0lX"
      }
    },
    {
      "cell_type": "markdown",
      "source": [
        "<br><br>\n",
        "\n",
        "## **6. 모델링**\n",
        "\n",
        "### 6-1. 모델링 및 하이퍼파라미터 튜닝\n",
        "\n",
        "<br>\n",
        "\n",
        "일반적으로 하이퍼파라미터 튜닝은\n",
        "1. high learning rate(0.05 - 0.3)를 선택하고 이 학습률에 맞는 tree 개수를 선정한다.\n",
        "2. tree-specific parameter를 수정한다.\n",
        "3. regularization parameter를 수정한다.\n",
        "4. 학습률을 낮추고 다시 반복한다.\n",
        "\n",
        "의 순서로 진행됩니다.\n",
        "\n",
        "<br>\n",
        "\n",
        "우선, Learning rate 와 estimator의 수를 설정합니다.<br>\n",
        "\n",
        "초기값으로는 각 파라미터마다 적정값에 따라 max_depth는 4~6, min_child_weight는 1, subsample는 0.9, colsample_bytree는 0.8, scale_pos_weight는 1로 시작하여 튜닝해나갈 것입니다."
      ],
      "metadata": {
        "id": "xdt-z6uhw62Z"
      }
    },
    {
      "cell_type": "code",
      "source": [
        "import xgboost as xgb\n",
        "from sklearn.metrics import mean_squared_error\n",
        "\n",
        "xgb_reg = xgb.XGBRegressor(objective ='reg:squarederror', \n",
        "                           colsample_bytree=0.8, \n",
        "                           learning_rate=0.3, \n",
        "                           max_depth=6, \n",
        "                           n_estimators=100, \n",
        "                           subsample=0.9, \n",
        "                           min_child_weight=1,\n",
        "                          scale_pos_weight=1,\n",
        "                           seed=1)"
      ],
      "metadata": {
        "id": "YTAuSzgssdw6"
      },
      "execution_count": null,
      "outputs": []
    },
    {
      "cell_type": "markdown",
      "source": [
        "objective(목적 함수)는 기본 값을 설정해주었고, seed 값은 결괏값 고정을 위해 1로 지정해주었습니다.\n",
        "\n",
        "파라미터들은 우선 위처럼 적정값의 평균 정도에 맞추어 설정한 뒤, XGBRegressor()를 이용해 XGBoost 회귀 모델로 모델을 정의하였습니다."
      ],
      "metadata": {
        "id": "zinXsuZ50eRz"
      }
    },
    {
      "cell_type": "code",
      "source": [
        "xgb_reg.fit(train_data_X, train_data_y, eval_set=[(train_data_X, train_data_y), (val_data_X, val_data_y)], early_stopping_rounds=300, verbose=False)"
      ],
      "metadata": {
        "colab": {
          "base_uri": "https://localhost:8080/"
        },
        "id": "URDE3pMfsfZG",
        "outputId": "1c6e58e7-fd13-4c02-b791-a5265a84256a"
      },
      "execution_count": null,
      "outputs": [
        {
          "output_type": "execute_result",
          "data": {
            "text/plain": [
              "XGBRegressor(colsample_bytree=0.86, eta=0.01, learning_rate=0.3, max_depth=6,\n",
              "             objective='reg:squarederror', seed=1, subsample=0.9)"
            ]
          },
          "metadata": {},
          "execution_count": 51
        }
      ]
    },
    {
      "cell_type": "markdown",
      "source": [
        "fit()을 이용하여 train 데이터로 모델을 학습하였습니다. eval_set은 val 데이터로 지정하여, 검증 세트를 val 데이터로 하여 예측 오류값을 줄이고 오버 피팅은 줄일 수 있도록 하였습니다."
      ],
      "metadata": {
        "id": "PdrBQJ5j2sHu"
      }
    },
    {
      "cell_type": "code",
      "source": [
        "import numpy as np\n",
        "from sklearn.metrics import mean_squared_error\n",
        "\n",
        "def nmae(true, pred):\n",
        "\n",
        "    mae = np.mean(np.abs(true-pred))\n",
        "    score = mae / np.mean(np.abs(true))\n",
        "    \n",
        "    return score\n",
        "\n",
        "y_hat = xgb_reg.predict(val_data_X) # y예측\n",
        "print(f'모델 NMAE: {nmae(val_data_y,y_hat)}')"
      ],
      "metadata": {
        "colab": {
          "base_uri": "https://localhost:8080/"
        },
        "id": "pumzMYHBtSCH",
        "outputId": "f1e50082-1c20-477e-cb7c-edd9e2724b4c"
      },
      "execution_count": null,
      "outputs": [
        {
          "output_type": "stream",
          "name": "stdout",
          "text": [
            "모델 NMAE: 0.35751279308806594\n"
          ]
        }
      ]
    },
    {
      "cell_type": "markdown",
      "source": [
        "예측한 값을 NMAE 평가산식으로 출력하자, 0.3575 정도의 값이 나온 모습입니다. <br>\n",
        "\n",
        "하이퍼파라미퍼 튜닝을 하지 않았을 때의 XGBoost를 이용한 예측 결과의 오차값은 35.7% 정도로, 의사결정나무나 앙상블 기법을 사용했을 때보다 약간 낮은 오차값을 보이는 모습입니다.\n",
        "\n",
        "<br>\n",
        "\n",
        "오차값을 줄이고 정확도를 높이기 위하여 하이퍼파라미터를 튜닝합니다.\n",
        "\n",
        "우선, learning_rate와 n_estimators를 조정하여 오차를 줄입니다.\n",
        "\n",
        "learning_rate는 낮은 값일수록 모델이 견고해지고 높을수록 과적합의 위험이 있습니다.<br>\n",
        "n_estimators는 높을수록 과적합을 예방할 수 있습니다.<br>\n",
        "\n",
        "두 파라미터를 조정해가며 최적의 오차값이 나오는 값을 찾고, 최종적으로 learning_rate는 0.000997, n_estimators는 60000로 설정해주었습니다."
      ],
      "metadata": {
        "id": "l1GKY7WI3G_7"
      }
    },
    {
      "cell_type": "code",
      "source": [
        "xgb_reg = xgb.XGBRegressor(\n",
        "    objective ='reg:squarederror', \n",
        "    colsample_bytree=0.8, \n",
        "    learning_rate=0.000997, \n",
        "    max_depth=6, \n",
        "    n_estimators=60000, \n",
        "    subsample=0.9, \n",
        "    min_child_weight=1,\n",
        "    scale_pos_weight=1,\n",
        "    seed=1)\n",
        "xgb_reg.fit(train_data_X, train_data_y, eval_set=[(train_data_X, train_data_y), (val_data_X, val_data_y)], early_stopping_rounds=300, verbose=False)\n",
        "y_hat = xgb_reg.predict(val_data_X) # y예측\n",
        "print(f'모델 NMAE: {nmae(val_data_y,y_hat)}')"
      ],
      "metadata": {
        "colab": {
          "base_uri": "https://localhost:8080/"
        },
        "id": "RylJKCdItR4n",
        "outputId": "1ca50a8b-1f55-47ee-f9bf-ae60c85f6a90"
      },
      "execution_count": null,
      "outputs": [
        {
          "output_type": "stream",
          "name": "stdout",
          "text": [
            "모델 NMAE: 0.3289287196312952\n"
          ]
        }
      ]
    },
    {
      "cell_type": "markdown",
      "source": [
        "예측한 값을 NMAE 평가산식으로 출력하자, 0.3289 정도의 값이 나온 모습입니다. <br>\n",
        "\n",
        "오차값은 33% 정도로, 튜닝 전보다 줄어들은 모습입니다.\n",
        "\n",
        "<br>\n",
        "\n",
        "다음으로는 max_depth와 min_child_weight 하이퍼파라미터를 조정합니다.\n",
        "\n",
        "max_depth는 값이 높아질수록 과적합 될 위험이 있습니다. 통상적인 범위(3~10) 내에서 오차값이 충분히 줄어들 정도로 높여서 10으로 설정하였습니다.\n",
        "\n",
        "min_child_weight는 높아질수록 과적합이 방지됩니다. 오차값이 크게 상승하지 않는 한에서 높여서 3으로 설정하였습니다."
      ],
      "metadata": {
        "id": "C4hreCh34oyn"
      }
    },
    {
      "cell_type": "code",
      "source": [
        "xgb_reg = xgb.XGBRegressor(\n",
        "    objective ='reg:squarederror', \n",
        "    colsample_bytree=0.8, \n",
        "    learning_rate=0.000997, \n",
        "    max_depth=10, \n",
        "    n_estimators=60000, \n",
        "    subsample=0.9, \n",
        "    min_child_weight=3,\n",
        "    scale_pos_weight=1,\n",
        "    seed=1)\n",
        "xgb_reg.fit(train_data_X, train_data_y, eval_set=[(train_data_X, train_data_y), (val_data_X, val_data_y)], early_stopping_rounds=300, verbose=False)\n",
        "y_hat = xgb_reg.predict(val_data_X) # y예측\n",
        "print(f'모델 NMAE: {nmae(val_data_y,y_hat)}')"
      ],
      "metadata": {
        "colab": {
          "base_uri": "https://localhost:8080/"
        },
        "id": "B_1fl0GMtvs7",
        "outputId": "2d6b45c1-31e8-4c4c-b2c8-173a185fce61"
      },
      "execution_count": null,
      "outputs": [
        {
          "output_type": "stream",
          "name": "stdout",
          "text": [
            "모델 NMAE: 0.306278773499749\n"
          ]
        }
      ]
    },
    {
      "cell_type": "markdown",
      "source": [
        "예측한 값을 NMAE 평가산식으로 출력하자, 0.3062 정도의 값이 나온 모습입니다. <br>\n",
        "\n",
        "오차값은 30.6% 정도로, max_depth와 min_child_weight를 튜닝하기 전보다 줄어든 모습입니다.\n",
        "\n",
        "<br>\n",
        "\n",
        "다음으로는 colsample_bytree와 subsample 하이퍼파라미터를 조정합니다.\n",
        "\n",
        "두 파라미터 모두 범위값(0~1) 이내에서 오차값이 줄어들도록 조정해주었습니다.\n",
        "\n",
        "최종적으로 colsample_bytree는 0.8, subsample은 0.94로 설정하였습니다."
      ],
      "metadata": {
        "id": "7cuKxpYS54RR"
      }
    },
    {
      "cell_type": "code",
      "source": [
        "xgb_reg = xgb.XGBRegressor(\n",
        "    objective ='reg:squarederror', \n",
        "    colsample_bytree=0.8, \n",
        "    learning_rate=0.000997, \n",
        "    max_depth=10, \n",
        "    n_estimators=60000, \n",
        "    subsample=0.94, \n",
        "    min_child_weight=3,\n",
        "    scale_pos_weight=1,\n",
        "    seed=1)\n",
        "xgb_reg.fit(train_data_X, train_data_y, eval_set=[(train_data_X, train_data_y), (val_data_X, val_data_y)], early_stopping_rounds=300, verbose=False)\n",
        "y_hat = xgb_reg.predict(val_data_X) # y예측\n",
        "print(f'모델 NMAE: {nmae(val_data_y,y_hat)}')"
      ],
      "metadata": {
        "colab": {
          "base_uri": "https://localhost:8080/"
        },
        "id": "Jc-CW1Nbvzk4",
        "outputId": "e51a7410-1433-49d3-c605-56c9d634486f"
      },
      "execution_count": null,
      "outputs": [
        {
          "output_type": "stream",
          "name": "stdout",
          "text": [
            "모델 NMAE: 0.30484334905127464\n"
          ]
        }
      ]
    },
    {
      "cell_type": "markdown",
      "source": [
        "예측한 값을 NMAE 평가산식으로 출력하자, 0.3062 정도의 값이 나온 모습입니다. <br>\n",
        "\n",
        "오차값은 30.4% 정도로, XGBoost의 하이퍼파라미터를 튜닝하기 전보다 약 5.3% 정도 감소한 것을 확인할 수 있습니다."
      ],
      "metadata": {
        "id": "bioK_F_M7gGx"
      }
    },
    {
      "cell_type": "markdown",
      "source": [
        "<br><br>\n",
        "\n",
        "## **. train 데이터셋 + val 데이터셋 100% 활용하는 모델 만들기**\n",
        "\n",
        "<br>\n",
        "\n",
        "학습한 모델의 성능이 어느 정도인지 파악하였으니, 나눠두었던 train 데이터셋과 val 데이터셋을 100% 모두 이용하여 모델을 학습시킵니다."
      ],
      "metadata": {
        "id": "iTY6rhVY5iUk"
      }
    },
    {
      "cell_type": "code",
      "source": [
        "train_X = train.drop(['id', 'target'], axis = 1) #training 데이터에서 피쳐 추출\n",
        "train_y = train.target #training 데이터에서 target 추출"
      ],
      "metadata": {
        "id": "e5C01OBr5o7Q"
      },
      "execution_count": null,
      "outputs": []
    },
    {
      "cell_type": "code",
      "source": [
        "xgb_reg.fit(train_X, train_y, eval_set=[(train_X, train_y)], early_stopping_rounds=300, verbose=False)"
      ],
      "metadata": {
        "colab": {
          "base_uri": "https://localhost:8080/"
        },
        "id": "RJ02iFCi5x5X",
        "outputId": "75f6e4b0-3259-4f5d-86dc-322216112ab4"
      },
      "execution_count": null,
      "outputs": [
        {
          "output_type": "execute_result",
          "data": {
            "text/plain": [
              "XGBRegressor(colsample_bytree=0.8, eta=0.01, learning_rate=0.000997,\n",
              "             max_depth=10, min_child_weight=3, n_estimators=60000,\n",
              "             objective='reg:squarederror', seed=1, subsample=0.5)"
            ]
          },
          "metadata": {},
          "execution_count": 78
        }
      ]
    },
    {
      "cell_type": "markdown",
      "source": [
        "<br><br>\n",
        "\n",
        "## **. 예측하기**\n",
        "\n",
        "<br>\n",
        "\n",
        "학습한 모델을 이용하여 test 데이터셋을 예측해봅니다.\n",
        "\n",
        "변수의 형태 및 개수를 동일하게 해주기 위해, test 데이터셋에도 앞서 train 데이터셋에 진행하였던 전처리 과정을 동일하게 진행해줍니다."
      ],
      "metadata": {
        "id": "eZZaGaRP56yv"
      }
    },
    {
      "cell_type": "code",
      "source": [
        "check_missing_col(test) # 결측치 확인\n",
        "\n",
        "test = test.drop('id', axis = 1) #분석에 필요없는 열 삭제\n",
        "\n",
        "test['brand'] = test['title'].apply(lambda x : x.split(\" \")[0])\n",
        "\n",
        "temp = clean_text(test['paint']) #메소드 적용\n",
        "test['paint'] = temp\n",
        "test['paint'] = test['paint'] = test['paint'].apply(lambda x : 'blue' if x.find('blue') >= 0 else x)\n",
        "test['paint'] = test['paint'] = test['paint'].apply(lambda x : 'red' if x.find('red') >= 0 else x)\n",
        "test['paint'] = test['paint'] = test['paint'].apply(lambda x : 'green' if x.find('green') >= 0 else x)\n",
        "test['paint'] = test['paint'] = test['paint'].apply(lambda x : 'white' if x.find('white') >= 0 else x)\n",
        "test['paint'] = test['paint'] = test['paint'].apply(lambda x : 'grey' if x.find('grey') >= 0 else x)\n",
        "test['paint'] = test['paint'] = test['paint'].apply(lambda x : 'grey' if x.find('gery') >= 0 else x)\n",
        "test['paint'] = test['paint'] = test['paint'].apply(lambda x : 'grey' if x.find('gray') >= 0 else x)\n",
        "test['paint'] = test['paint'] = test['paint'].apply(lambda x : 'ash' if x.find('ash') >= 0 else x)\n",
        "test['paint'] = test['paint'] = test['paint'].apply(lambda x : 'brown' if x.find('brown') >= 0 else x)\n",
        "test['paint'] = test['paint'] = test['paint'].apply(lambda x : 'silver' if x.find('silver') >= 0 else x)\n",
        "test['paint'] = test['paint'] = test['paint'].apply(lambda x : 'silver' if x.find('sliver') >= 0 else x)\n",
        "test['paint'] = test['paint'] = test['paint'].apply(lambda x : 'black' if x.find('black') >= 0 else x)\n",
        "test['paint'] = test['paint'] = test['paint'].apply(lambda x : 'gold' if x.find('gold') >= 0 else x)\n",
        "test['paint'] = test['paint'] = test['paint'].apply(lambda x : 'wine' if x.find('whine') >= 0 else x)\n",
        "\n",
        "test = label_encoder(test, le)"
      ],
      "metadata": {
        "id": "-KLRKyoQ5-Qv",
        "colab": {
          "base_uri": "https://localhost:8080/"
        },
        "outputId": "2cba1b6d-5217-47d6-fd61-cfed3f5ae4d1"
      },
      "execution_count": null,
      "outputs": [
        {
          "output_type": "stream",
          "name": "stdout",
          "text": [
            "결측치가 존재하지 않습니다\n"
          ]
        }
      ]
    },
    {
      "cell_type": "markdown",
      "source": [
        "전처리를 완료한 test 데이터셋을 이용하여 앞서 만들어두었던 XGBoost 모델로 예측합니다."
      ],
      "metadata": {
        "id": "yX9HJwvU6E6W"
      }
    },
    {
      "cell_type": "code",
      "source": [
        "y_pred = xgb_reg.predict(test)\n",
        "y_pred[0:5]"
      ],
      "metadata": {
        "colab": {
          "base_uri": "https://localhost:8080/"
        },
        "id": "pW7uyxds6DjL",
        "outputId": "502b2c2a-c55b-4956-d660-a2f86e5ae3d5"
      },
      "execution_count": null,
      "outputs": [
        {
          "output_type": "execute_result",
          "data": {
            "text/plain": [
              "array([12399618. ,  4556846.5,  6437247. ,   761937.8,  2391824.2],\n",
              "      dtype=float32)"
            ]
          },
          "metadata": {},
          "execution_count": 80
        }
      ]
    },
    {
      "cell_type": "markdown",
      "source": [
        "<br><br>\n",
        "\n",
        "## **9. 파일 저장 및 제출**\n",
        "\n",
        "<br>\n",
        "\n",
        "학습한 모델을 이용한 예측 결과를 csv 파일로 제작하여 제출합니다."
      ],
      "metadata": {
        "id": "fCQn7pN7599n"
      }
    },
    {
      "cell_type": "code",
      "source": [
        "# 제출용 sample 파일을 불러옵니다.\n",
        "submission = pd.read_csv('/content/drive/MyDrive/Colab Notebooks/sample_submission.csv')\n",
        "submission.head()"
      ],
      "metadata": {
        "colab": {
          "base_uri": "https://localhost:8080/",
          "height": 195
        },
        "id": "z7QRgGcE6X01",
        "outputId": "d7d78386-3f86-44da-a6f1-695a81f5b792"
      },
      "execution_count": null,
      "outputs": [
        {
          "output_type": "execute_result",
          "data": {
            "text/plain": [
              "   id  target\n",
              "0   0       0\n",
              "1   1       0\n",
              "2   2       0\n",
              "3   3       0\n",
              "4   4       0"
            ],
            "text/html": [
              "\n",
              "  <div id=\"df-ee8a474d-27d9-4715-a532-48ac2d2b7587\">\n",
              "    <div class=\"colab-df-container\">\n",
              "      <div>\n",
              "<style scoped>\n",
              "    .dataframe tbody tr th:only-of-type {\n",
              "        vertical-align: middle;\n",
              "    }\n",
              "\n",
              "    .dataframe tbody tr th {\n",
              "        vertical-align: top;\n",
              "    }\n",
              "\n",
              "    .dataframe thead th {\n",
              "        text-align: right;\n",
              "    }\n",
              "</style>\n",
              "<table border=\"1\" class=\"dataframe\">\n",
              "  <thead>\n",
              "    <tr style=\"text-align: right;\">\n",
              "      <th></th>\n",
              "      <th>id</th>\n",
              "      <th>target</th>\n",
              "    </tr>\n",
              "  </thead>\n",
              "  <tbody>\n",
              "    <tr>\n",
              "      <th>0</th>\n",
              "      <td>0</td>\n",
              "      <td>0</td>\n",
              "    </tr>\n",
              "    <tr>\n",
              "      <th>1</th>\n",
              "      <td>1</td>\n",
              "      <td>0</td>\n",
              "    </tr>\n",
              "    <tr>\n",
              "      <th>2</th>\n",
              "      <td>2</td>\n",
              "      <td>0</td>\n",
              "    </tr>\n",
              "    <tr>\n",
              "      <th>3</th>\n",
              "      <td>3</td>\n",
              "      <td>0</td>\n",
              "    </tr>\n",
              "    <tr>\n",
              "      <th>4</th>\n",
              "      <td>4</td>\n",
              "      <td>0</td>\n",
              "    </tr>\n",
              "  </tbody>\n",
              "</table>\n",
              "</div>\n",
              "      <button class=\"colab-df-convert\" onclick=\"convertToInteractive('df-ee8a474d-27d9-4715-a532-48ac2d2b7587')\"\n",
              "              title=\"Convert this dataframe to an interactive table.\"\n",
              "              style=\"display:none;\">\n",
              "        \n",
              "  <svg xmlns=\"http://www.w3.org/2000/svg\" height=\"24px\"viewBox=\"0 0 24 24\"\n",
              "       width=\"24px\">\n",
              "    <path d=\"M0 0h24v24H0V0z\" fill=\"none\"/>\n",
              "    <path d=\"M18.56 5.44l.94 2.06.94-2.06 2.06-.94-2.06-.94-.94-2.06-.94 2.06-2.06.94zm-11 1L8.5 8.5l.94-2.06 2.06-.94-2.06-.94L8.5 2.5l-.94 2.06-2.06.94zm10 10l.94 2.06.94-2.06 2.06-.94-2.06-.94-.94-2.06-.94 2.06-2.06.94z\"/><path d=\"M17.41 7.96l-1.37-1.37c-.4-.4-.92-.59-1.43-.59-.52 0-1.04.2-1.43.59L10.3 9.45l-7.72 7.72c-.78.78-.78 2.05 0 2.83L4 21.41c.39.39.9.59 1.41.59.51 0 1.02-.2 1.41-.59l7.78-7.78 2.81-2.81c.8-.78.8-2.07 0-2.86zM5.41 20L4 18.59l7.72-7.72 1.47 1.35L5.41 20z\"/>\n",
              "  </svg>\n",
              "      </button>\n",
              "      \n",
              "  <style>\n",
              "    .colab-df-container {\n",
              "      display:flex;\n",
              "      flex-wrap:wrap;\n",
              "      gap: 12px;\n",
              "    }\n",
              "\n",
              "    .colab-df-convert {\n",
              "      background-color: #E8F0FE;\n",
              "      border: none;\n",
              "      border-radius: 50%;\n",
              "      cursor: pointer;\n",
              "      display: none;\n",
              "      fill: #1967D2;\n",
              "      height: 32px;\n",
              "      padding: 0 0 0 0;\n",
              "      width: 32px;\n",
              "    }\n",
              "\n",
              "    .colab-df-convert:hover {\n",
              "      background-color: #E2EBFA;\n",
              "      box-shadow: 0px 1px 2px rgba(60, 64, 67, 0.3), 0px 1px 3px 1px rgba(60, 64, 67, 0.15);\n",
              "      fill: #174EA6;\n",
              "    }\n",
              "\n",
              "    [theme=dark] .colab-df-convert {\n",
              "      background-color: #3B4455;\n",
              "      fill: #D2E3FC;\n",
              "    }\n",
              "\n",
              "    [theme=dark] .colab-df-convert:hover {\n",
              "      background-color: #434B5C;\n",
              "      box-shadow: 0px 1px 3px 1px rgba(0, 0, 0, 0.15);\n",
              "      filter: drop-shadow(0px 1px 2px rgba(0, 0, 0, 0.3));\n",
              "      fill: #FFFFFF;\n",
              "    }\n",
              "  </style>\n",
              "\n",
              "      <script>\n",
              "        const buttonEl =\n",
              "          document.querySelector('#df-ee8a474d-27d9-4715-a532-48ac2d2b7587 button.colab-df-convert');\n",
              "        buttonEl.style.display =\n",
              "          google.colab.kernel.accessAllowed ? 'block' : 'none';\n",
              "\n",
              "        async function convertToInteractive(key) {\n",
              "          const element = document.querySelector('#df-ee8a474d-27d9-4715-a532-48ac2d2b7587');\n",
              "          const dataTable =\n",
              "            await google.colab.kernel.invokeFunction('convertToInteractive',\n",
              "                                                     [key], {});\n",
              "          if (!dataTable) return;\n",
              "\n",
              "          const docLinkHtml = 'Like what you see? Visit the ' +\n",
              "            '<a target=\"_blank\" href=https://colab.research.google.com/notebooks/data_table.ipynb>data table notebook</a>'\n",
              "            + ' to learn more about interactive tables.';\n",
              "          element.innerHTML = '';\n",
              "          dataTable['output_type'] = 'display_data';\n",
              "          await google.colab.output.renderOutput(dataTable, element);\n",
              "          const docLink = document.createElement('div');\n",
              "          docLink.innerHTML = docLinkHtml;\n",
              "          element.appendChild(docLink);\n",
              "        }\n",
              "      </script>\n",
              "    </div>\n",
              "  </div>\n",
              "  "
            ]
          },
          "metadata": {},
          "execution_count": 81
        }
      ]
    },
    {
      "cell_type": "markdown",
      "source": [
        "제출용으로 제시된 sample 파일을 pandas 모듈의 read_csv를 통해 읽어옵니다."
      ],
      "metadata": {
        "id": "CpoYjVQi6W7C"
      }
    },
    {
      "cell_type": "code",
      "source": [
        "# 위에서 구한 예측값을 그대로 넣어줍니다.\n",
        "submission['target'] = y_pred\n",
        "submission.to_csv('/content/drive/MyDrive/Colab Notebooks/XGBoost3.csv', index=False)\n",
        "\n",
        "# 데이터가 잘 들어갔는지 확인합니다.\n",
        "submission.head()"
      ],
      "metadata": {
        "colab": {
          "base_uri": "https://localhost:8080/",
          "height": 195
        },
        "id": "J-9YtMrW6aek",
        "outputId": "fdea68e7-ad00-4ef5-eb7b-1119ad09b0ef"
      },
      "execution_count": null,
      "outputs": [
        {
          "output_type": "execute_result",
          "data": {
            "text/plain": [
              "   id        target\n",
              "0   0  1.239962e+07\n",
              "1   1  4.556846e+06\n",
              "2   2  6.437247e+06\n",
              "3   3  7.619378e+05\n",
              "4   4  2.391824e+06"
            ],
            "text/html": [
              "\n",
              "  <div id=\"df-8a41d9a9-84b8-4f41-adf8-4df6df892713\">\n",
              "    <div class=\"colab-df-container\">\n",
              "      <div>\n",
              "<style scoped>\n",
              "    .dataframe tbody tr th:only-of-type {\n",
              "        vertical-align: middle;\n",
              "    }\n",
              "\n",
              "    .dataframe tbody tr th {\n",
              "        vertical-align: top;\n",
              "    }\n",
              "\n",
              "    .dataframe thead th {\n",
              "        text-align: right;\n",
              "    }\n",
              "</style>\n",
              "<table border=\"1\" class=\"dataframe\">\n",
              "  <thead>\n",
              "    <tr style=\"text-align: right;\">\n",
              "      <th></th>\n",
              "      <th>id</th>\n",
              "      <th>target</th>\n",
              "    </tr>\n",
              "  </thead>\n",
              "  <tbody>\n",
              "    <tr>\n",
              "      <th>0</th>\n",
              "      <td>0</td>\n",
              "      <td>1.239962e+07</td>\n",
              "    </tr>\n",
              "    <tr>\n",
              "      <th>1</th>\n",
              "      <td>1</td>\n",
              "      <td>4.556846e+06</td>\n",
              "    </tr>\n",
              "    <tr>\n",
              "      <th>2</th>\n",
              "      <td>2</td>\n",
              "      <td>6.437247e+06</td>\n",
              "    </tr>\n",
              "    <tr>\n",
              "      <th>3</th>\n",
              "      <td>3</td>\n",
              "      <td>7.619378e+05</td>\n",
              "    </tr>\n",
              "    <tr>\n",
              "      <th>4</th>\n",
              "      <td>4</td>\n",
              "      <td>2.391824e+06</td>\n",
              "    </tr>\n",
              "  </tbody>\n",
              "</table>\n",
              "</div>\n",
              "      <button class=\"colab-df-convert\" onclick=\"convertToInteractive('df-8a41d9a9-84b8-4f41-adf8-4df6df892713')\"\n",
              "              title=\"Convert this dataframe to an interactive table.\"\n",
              "              style=\"display:none;\">\n",
              "        \n",
              "  <svg xmlns=\"http://www.w3.org/2000/svg\" height=\"24px\"viewBox=\"0 0 24 24\"\n",
              "       width=\"24px\">\n",
              "    <path d=\"M0 0h24v24H0V0z\" fill=\"none\"/>\n",
              "    <path d=\"M18.56 5.44l.94 2.06.94-2.06 2.06-.94-2.06-.94-.94-2.06-.94 2.06-2.06.94zm-11 1L8.5 8.5l.94-2.06 2.06-.94-2.06-.94L8.5 2.5l-.94 2.06-2.06.94zm10 10l.94 2.06.94-2.06 2.06-.94-2.06-.94-.94-2.06-.94 2.06-2.06.94z\"/><path d=\"M17.41 7.96l-1.37-1.37c-.4-.4-.92-.59-1.43-.59-.52 0-1.04.2-1.43.59L10.3 9.45l-7.72 7.72c-.78.78-.78 2.05 0 2.83L4 21.41c.39.39.9.59 1.41.59.51 0 1.02-.2 1.41-.59l7.78-7.78 2.81-2.81c.8-.78.8-2.07 0-2.86zM5.41 20L4 18.59l7.72-7.72 1.47 1.35L5.41 20z\"/>\n",
              "  </svg>\n",
              "      </button>\n",
              "      \n",
              "  <style>\n",
              "    .colab-df-container {\n",
              "      display:flex;\n",
              "      flex-wrap:wrap;\n",
              "      gap: 12px;\n",
              "    }\n",
              "\n",
              "    .colab-df-convert {\n",
              "      background-color: #E8F0FE;\n",
              "      border: none;\n",
              "      border-radius: 50%;\n",
              "      cursor: pointer;\n",
              "      display: none;\n",
              "      fill: #1967D2;\n",
              "      height: 32px;\n",
              "      padding: 0 0 0 0;\n",
              "      width: 32px;\n",
              "    }\n",
              "\n",
              "    .colab-df-convert:hover {\n",
              "      background-color: #E2EBFA;\n",
              "      box-shadow: 0px 1px 2px rgba(60, 64, 67, 0.3), 0px 1px 3px 1px rgba(60, 64, 67, 0.15);\n",
              "      fill: #174EA6;\n",
              "    }\n",
              "\n",
              "    [theme=dark] .colab-df-convert {\n",
              "      background-color: #3B4455;\n",
              "      fill: #D2E3FC;\n",
              "    }\n",
              "\n",
              "    [theme=dark] .colab-df-convert:hover {\n",
              "      background-color: #434B5C;\n",
              "      box-shadow: 0px 1px 3px 1px rgba(0, 0, 0, 0.15);\n",
              "      filter: drop-shadow(0px 1px 2px rgba(0, 0, 0, 0.3));\n",
              "      fill: #FFFFFF;\n",
              "    }\n",
              "  </style>\n",
              "\n",
              "      <script>\n",
              "        const buttonEl =\n",
              "          document.querySelector('#df-8a41d9a9-84b8-4f41-adf8-4df6df892713 button.colab-df-convert');\n",
              "        buttonEl.style.display =\n",
              "          google.colab.kernel.accessAllowed ? 'block' : 'none';\n",
              "\n",
              "        async function convertToInteractive(key) {\n",
              "          const element = document.querySelector('#df-8a41d9a9-84b8-4f41-adf8-4df6df892713');\n",
              "          const dataTable =\n",
              "            await google.colab.kernel.invokeFunction('convertToInteractive',\n",
              "                                                     [key], {});\n",
              "          if (!dataTable) return;\n",
              "\n",
              "          const docLinkHtml = 'Like what you see? Visit the ' +\n",
              "            '<a target=\"_blank\" href=https://colab.research.google.com/notebooks/data_table.ipynb>data table notebook</a>'\n",
              "            + ' to learn more about interactive tables.';\n",
              "          element.innerHTML = '';\n",
              "          dataTable['output_type'] = 'display_data';\n",
              "          await google.colab.output.renderOutput(dataTable, element);\n",
              "          const docLink = document.createElement('div');\n",
              "          docLink.innerHTML = docLinkHtml;\n",
              "          element.appendChild(docLink);\n",
              "        }\n",
              "      </script>\n",
              "    </div>\n",
              "  </div>\n",
              "  "
            ]
          },
          "metadata": {},
          "execution_count": 82
        }
      ]
    },
    {
      "cell_type": "markdown",
      "source": [
        "앞서 모델을 이용해 예측했던 데이터 값들을 sample 데이터프레임의 target 칼럼에 넣어줍니다.\n",
        "\n",
        "예측값을 넣은 데이터프레임을 to_csv()를 이용하여 csv 파일로 저장합니다. 이때, index=False를 지정하여 추가적인 id를 지정하지 않도록 합니다."
      ],
      "metadata": {
        "id": "rn64jVeL6dRR"
      }
    },
    {
      "cell_type": "markdown",
      "source": [
        "<br><br>\n",
        "\n",
        "## **출처**\n",
        "\n",
        "<br>\n",
        "\n",
        "베이스라인 코드 : \n",
        "- https://dacon.io/competitions/official/235901/codeshare/5103?page=1&dtype=recent (데이콘)\n",
        "- +) 박연호 동기님이 공유해주신 코드\n",
        "\n",
        "<br>\n",
        "\n",
        "용어 및 라이브러리/모듈 설명 : \n",
        "- https://www.kaggle.com/code/lifesailor/xgboost/notebook\n",
        "- https://psystat.tistory.com/131#head1\n",
        "- https://dining-developer.tistory.com/4"
      ],
      "metadata": {
        "id": "Be0p2bI19Oj1"
      }
    }
  ]
}