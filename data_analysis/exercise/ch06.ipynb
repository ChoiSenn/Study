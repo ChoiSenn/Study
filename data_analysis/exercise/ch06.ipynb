{
  "nbformat": 4,
  "nbformat_minor": 0,
  "metadata": {
    "colab": {
      "name": "ch06.ipynb",
      "provenance": [],
      "collapsed_sections": [],
      "authorship_tag": "ABX9TyO9cNnELSzt5pS26MmAO6Uk",
      "include_colab_link": true
    },
    "kernelspec": {
      "name": "python3",
      "display_name": "Python 3"
    },
    "language_info": {
      "name": "python"
    }
  },
  "cells": [
    {
      "cell_type": "markdown",
      "metadata": {
        "id": "view-in-github",
        "colab_type": "text"
      },
      "source": [
        "<a href=\"https://colab.research.google.com/github/ChoiSenn/Study/blob/main/data_analysis/exercise/ch06.ipynb\" target=\"_parent\"><img src=\"https://colab.research.google.com/assets/colab-badge.svg\" alt=\"Open In Colab\"/></a>"
      ]
    },
    {
      "cell_type": "markdown",
      "source": [
        "# **데이터 분석과 머신러닝**\n",
        "## 2022-03-31 판다스 (Pandas)\n",
        "<br>\n",
        "\n",
        "---\n",
        "\n",
        "<br>"
      ],
      "metadata": {
        "id": "JrDMiXORkrfP"
      }
    },
    {
      "cell_type": "markdown",
      "source": [
        "### 1. 엑셀보다 빠르고 강력한 판다스\n",
        "\n",
        "<br>\n",
        "\n",
        " 현재 업무용 소프트웨어로 가장 인기있는 프로그램은 마이크로소프트사의 엑셀(Excel)이다. 엑셀은 행과 열로 이루어진 표에 입력된 데이터를 처리하는 데 탁월한 성능을 보인다. 특히 데이터 과학자는 테이블 형태의 데이터를 선호한다. 2차원 행렬(Matrix) 형태의 데이터는 개발자가 편리하게 각 요소나 행, 열에 접근할 수 있다.\n",
        "\n",
        " <br>\n",
        "\n",
        " 넘파이는 2차원 행렬 형태의 데이터를 지원하지만, 데이터의 속성을 표시하는 행이나 열의 레이블을 가지고 있지 않다는 한계가 있다.\n",
        " <br> 하지만 파이썬의 판다스(Pandas) 패키지를 사용하면 이러한 문제를 해결할 수 있다.\n",
        "\n",
        " <br>\n",
        "\n",
        " 판다스\n",
        "  - 빠르고 효율적이며 다양한 표현력을 갖춘 자료 구조이다.\n",
        "  - 이종 자료형의 열을 가진 테이블 데이터, 시계열 데이터, 행렬 데이터, 관측 통계 데이터 등 다양한 형태의 데이터에 적합하다.\n",
        "  - 핵심 구조로는 시리즈(1차원 구조를 가진 하나의 열)와 데이터프레임(복수의 열을 가진 2차원 데이터)이 있다.\n",
        "  - 결측 데이터 처리와 필터링, 데이터 추가와 삭제, 열 데이터의 정렬과 다양한 데이터 조작, 리스트/딕셔너리/배열을 데이터프레임으로 손쉽게 변환, 상관 관계 계산 등 다양한 일을 할 수 있다.\n",
        "  - 넘파이를 기본으로 하기 때문에 처리 속도가 빠르다.\n",
        "  - 행과 열로 잘 구조화된 데이터프레임을 제공한다.\n",
        "  - 이 데이터프레임을 조작할 수 있는 다양한 함수를 지원한다.\n",
        "  - 행과 열에 레이블이 붙어있어 편리하게 행과 열이 접근이 가능하다.\n",
        "  - 데이터프레임을 결합하거나 형태를 변경하는 일도 간편하게 할 수 있다."
      ],
      "metadata": {
        "id": "UeTZd1ggkwbQ"
      }
    },
    {
      "cell_type": "markdown",
      "source": [
        "\n",
        "\n",
        "---\n",
        "\n",
        "\n",
        "<br>\n",
        "\n",
        "### 2. 데이터 교환을 위한 csv 파일 형식\n",
        "\n",
        "<br>\n",
        "\n",
        "판다스는 시리즈와 데이터프레임이라는 두 가지의 기본적이고도 다재다능한 데이터 구조를 제공한다. 이 두 가지 데이터 구조는 넘파이의 배열을 더 구조화하여 보강한 것이다.\n",
        "\n",
        "<br>\n",
        "\n",
        "판다스의 시리즈는 같은 자료형의 데이터를 저장하는 인덱싱된 1차원 배열이다. <br>Series 클래스를 생성하며 값 리스트를 넘겨주면 그 리스트를 이용하여 1차원 벡터 구조의 시리즈 데이터를 생성한다."
      ],
      "metadata": {
        "id": "cfyGLErRnmIK"
      }
    },
    {
      "cell_type": "code",
      "source": [
        "import numpy as np\n",
        "import pandas as pd\n",
        "import matplotlib.pyplot as plt\n",
        "\n",
        "se = pd.Series([1, 2, np.nan, 4])  # np.nan은 결측값\n",
        "se"
      ],
      "metadata": {
        "colab": {
          "base_uri": "https://localhost:8080/"
        },
        "id": "ND_kTkbMoFIN",
        "outputId": "49120d46-09b4-4ba9-da65-a912c617a44c"
      },
      "execution_count": 3,
      "outputs": [
        {
          "output_type": "execute_result",
          "data": {
            "text/plain": [
              "0    1.0\n",
              "1    2.0\n",
              "2    NaN\n",
              "3    4.0\n",
              "dtype: float64"
            ]
          },
          "metadata": {},
          "execution_count": 3
        }
      ]
    },
    {
      "cell_type": "markdown",
      "source": [
        "1.0, 2.0, NaN(결측값), 4.0으로 이루어진 시리즈가 생성되었다.\n",
        "\n",
        "<br>\n",
        "\n",
        "np.nan은 결손값을 의미한다. Not a Number의 약자로, NaN이나 NA로 표시한다.\n",
        "\n",
        "<br>\n",
        "\n",
        "결손값 or 결측값은 정제되지 않은 데이터나 결측 데이터이다.\n",
        "<br>판다스에서는 이를 탐지하고 수정하는 함수를 제공한다.\n",
        "<br>isna() 함수는 데이터에 결손값이 있는지를 불린 값으로 반환한다."
      ],
      "metadata": {
        "id": "Wts_TgV0oPCS"
      }
    },
    {
      "cell_type": "code",
      "source": [
        "se.isna()"
      ],
      "metadata": {
        "colab": {
          "base_uri": "https://localhost:8080/"
        },
        "id": "9QsTehW2o1C7",
        "outputId": "03917f45-7f72-4332-9641-e2d4757179e6"
      },
      "execution_count": null,
      "outputs": [
        {
          "output_type": "execute_result",
          "data": {
            "text/plain": [
              "0    False\n",
              "1    False\n",
              "2     True\n",
              "3    False\n",
              "dtype: bool"
            ]
          },
          "metadata": {},
          "execution_count": 3
        }
      ]
    },
    {
      "cell_type": "markdown",
      "source": [
        "시리즈 se에 결손값이 포함되어 있으므로 NaN이 포함된 세 번째 항목을 True로 반환한다.\n",
        "\n",
        "<br>\n",
        "\n",
        "시리즈 자료구조 se의 첫 번째 원소와 두 번째 원소를 추출하기 위해서는 인덱싱 기법을 사용한다. 이는 리스트 인덱싱과 동일한 문법을 사용한다."
      ],
      "metadata": {
        "id": "6oZ0RQM3o0mw"
      }
    },
    {
      "cell_type": "code",
      "source": [
        "se[0], se[1]"
      ],
      "metadata": {
        "colab": {
          "base_uri": "https://localhost:8080/"
        },
        "id": "qY-JW386pGiC",
        "outputId": "2dd5a13e-8a3a-4854-90f8-b8f7a618051b"
      },
      "execution_count": null,
      "outputs": [
        {
          "output_type": "execute_result",
          "data": {
            "text/plain": [
              "(1.0, 2.0)"
            ]
          },
          "metadata": {},
          "execution_count": 4
        }
      ]
    },
    {
      "cell_type": "markdown",
      "source": [
        "se의 0번째와 1번째 원소를 추출한 모습이다.\n",
        "\n",
        "<br>\n",
        "\n",
        "시리즈 se의 인덱스는 0, 1, 2, 3과 같은 인덱스를 가진 자료값이었는데, 이러한 인덱스는 알파벳 문자 등으로 변경할 수도 있다."
      ],
      "metadata": {
        "id": "DNjvBS7gpK6l"
      }
    },
    {
      "cell_type": "code",
      "source": [
        "data = [1, 2, np.nan, 4]\n",
        "indexed_se = pd.Series(data, index = ['a', 'b', 'c', 'd'])\n",
        "print(indexed_se)"
      ],
      "metadata": {
        "colab": {
          "base_uri": "https://localhost:8080/"
        },
        "id": "rtFqDRIypcHG",
        "outputId": "216c114b-ba5b-4728-eda3-278476309c5b"
      },
      "execution_count": null,
      "outputs": [
        {
          "output_type": "stream",
          "name": "stdout",
          "text": [
            "a    1.0\n",
            "b    2.0\n",
            "c    NaN\n",
            "d    4.0\n",
            "dtype: float64\n"
          ]
        }
      ]
    },
    {
      "cell_type": "markdown",
      "source": [
        "인덱스가 각각 'a', 'b', 'c', 'd'로 변경된 모습이다."
      ],
      "metadata": {
        "id": "cUCRDiXVpl2h"
      }
    },
    {
      "cell_type": "code",
      "source": [
        "indexed_se['a'], indexed_se['b']"
      ],
      "metadata": {
        "colab": {
          "base_uri": "https://localhost:8080/"
        },
        "id": "kTo-pQgaptI_",
        "outputId": "80f92edb-8ecf-4b46-e8c1-8d3dde713388"
      },
      "execution_count": null,
      "outputs": [
        {
          "output_type": "execute_result",
          "data": {
            "text/plain": [
              "(1.0, 2.0)"
            ]
          },
          "metadata": {},
          "execution_count": 6
        }
      ]
    },
    {
      "cell_type": "markdown",
      "source": [
        "\n",
        "\n",
        "---\n",
        "\n",
        "\n",
        "<br>\n",
        "\n",
        "### 3. 판다스의 기본 구조인 시리즈와 데이터프레임\n",
        "\n",
        "<br>\n",
        "\n",
        "파이썬의 딕셔너리 구조를 그대로 사용하여 시리즈를 생성할 수도 있다. 우선 딕셔너리 구조로 정의한 후, 딕셔너리를 이용하여 시리즈를 생성해준다."
      ],
      "metadata": {
        "id": "zulMTa6Fp_tV"
      }
    },
    {
      "cell_type": "code",
      "source": [
        "income = {'1월' : 9500, '2월' : 6200, '3월' : 6050, '4월' : 7000}\n",
        "income_se = pd.Series(income)  # 월을 인덱스로 하는 매출 시리즈 생성\n",
        "print('동윤이네 상점의 수익')\n",
        "print(income_se)"
      ],
      "metadata": {
        "colab": {
          "base_uri": "https://localhost:8080/"
        },
        "id": "EJwYhR3mtkjv",
        "outputId": "aa08bd82-5b2d-4d29-8dc1-58e205f6b998"
      },
      "execution_count": null,
      "outputs": [
        {
          "output_type": "stream",
          "name": "stdout",
          "text": [
            "동윤이네 상점의 수익\n",
            "1월    9500\n",
            "2월    6200\n",
            "3월    6050\n",
            "4월    7000\n",
            "dtype: int64\n"
          ]
        }
      ]
    },
    {
      "cell_type": "markdown",
      "source": [
        "위의 경우에서 매달 일정한 물건 구입 비용이 발생한 경우, 수익과 지출을 모두 표기하기 위하서는 1차원의 시리즈 자료구조로는 표현이 어렵다.\n",
        "<br> 이때 사용되는 2차원 자료구조가 데이터프레임이다.\n",
        "\n",
        "<br>\n",
        "\n",
        "판다스 모듈의 DataFrame() 클래스를 이용하여 데이터프레임을 생성할 수 있다. 이때 시리즈의 값으로 가지는 딕셔너리 구조를 만들어 데이터프레임 생성 시 열의 이름을 지정할 수 있다."
      ],
      "metadata": {
        "id": "TJ3CWzlxwfPE"
      }
    },
    {
      "cell_type": "code",
      "source": [
        "month_se = pd.Series(['1월', '2월', '3월', '4월'])\n",
        "income_se = pd.Series([9500, 6200, 6050, 7000])\n",
        "expenses_se = pd.Series([5040, 2350, 2300, 4800])\n",
        "df = pd.DataFrame({'월': month_se, '수익': income_se, '지출': expenses_se})\n",
        "df"
      ],
      "metadata": {
        "colab": {
          "base_uri": "https://localhost:8080/",
          "height": 175
        },
        "id": "nrqUTB93w3O7",
        "outputId": "f57bf041-0576-4082-a5b4-3b1e484c7fc4"
      },
      "execution_count": null,
      "outputs": [
        {
          "output_type": "execute_result",
          "data": {
            "text/plain": [
              "    월    수익    지출\n",
              "0  1월  9500  5040\n",
              "1  2월  6200  2350\n",
              "2  3월  6050  2300\n",
              "3  4월  7000  4800"
            ],
            "text/html": [
              "\n",
              "  <div id=\"df-406c8d8e-0037-42f4-9711-4361a1f5b20f\">\n",
              "    <div class=\"colab-df-container\">\n",
              "      <div>\n",
              "<style scoped>\n",
              "    .dataframe tbody tr th:only-of-type {\n",
              "        vertical-align: middle;\n",
              "    }\n",
              "\n",
              "    .dataframe tbody tr th {\n",
              "        vertical-align: top;\n",
              "    }\n",
              "\n",
              "    .dataframe thead th {\n",
              "        text-align: right;\n",
              "    }\n",
              "</style>\n",
              "<table border=\"1\" class=\"dataframe\">\n",
              "  <thead>\n",
              "    <tr style=\"text-align: right;\">\n",
              "      <th></th>\n",
              "      <th>월</th>\n",
              "      <th>수익</th>\n",
              "      <th>지출</th>\n",
              "    </tr>\n",
              "  </thead>\n",
              "  <tbody>\n",
              "    <tr>\n",
              "      <th>0</th>\n",
              "      <td>1월</td>\n",
              "      <td>9500</td>\n",
              "      <td>5040</td>\n",
              "    </tr>\n",
              "    <tr>\n",
              "      <th>1</th>\n",
              "      <td>2월</td>\n",
              "      <td>6200</td>\n",
              "      <td>2350</td>\n",
              "    </tr>\n",
              "    <tr>\n",
              "      <th>2</th>\n",
              "      <td>3월</td>\n",
              "      <td>6050</td>\n",
              "      <td>2300</td>\n",
              "    </tr>\n",
              "    <tr>\n",
              "      <th>3</th>\n",
              "      <td>4월</td>\n",
              "      <td>7000</td>\n",
              "      <td>4800</td>\n",
              "    </tr>\n",
              "  </tbody>\n",
              "</table>\n",
              "</div>\n",
              "      <button class=\"colab-df-convert\" onclick=\"convertToInteractive('df-406c8d8e-0037-42f4-9711-4361a1f5b20f')\"\n",
              "              title=\"Convert this dataframe to an interactive table.\"\n",
              "              style=\"display:none;\">\n",
              "        \n",
              "  <svg xmlns=\"http://www.w3.org/2000/svg\" height=\"24px\"viewBox=\"0 0 24 24\"\n",
              "       width=\"24px\">\n",
              "    <path d=\"M0 0h24v24H0V0z\" fill=\"none\"/>\n",
              "    <path d=\"M18.56 5.44l.94 2.06.94-2.06 2.06-.94-2.06-.94-.94-2.06-.94 2.06-2.06.94zm-11 1L8.5 8.5l.94-2.06 2.06-.94-2.06-.94L8.5 2.5l-.94 2.06-2.06.94zm10 10l.94 2.06.94-2.06 2.06-.94-2.06-.94-.94-2.06-.94 2.06-2.06.94z\"/><path d=\"M17.41 7.96l-1.37-1.37c-.4-.4-.92-.59-1.43-.59-.52 0-1.04.2-1.43.59L10.3 9.45l-7.72 7.72c-.78.78-.78 2.05 0 2.83L4 21.41c.39.39.9.59 1.41.59.51 0 1.02-.2 1.41-.59l7.78-7.78 2.81-2.81c.8-.78.8-2.07 0-2.86zM5.41 20L4 18.59l7.72-7.72 1.47 1.35L5.41 20z\"/>\n",
              "  </svg>\n",
              "      </button>\n",
              "      \n",
              "  <style>\n",
              "    .colab-df-container {\n",
              "      display:flex;\n",
              "      flex-wrap:wrap;\n",
              "      gap: 12px;\n",
              "    }\n",
              "\n",
              "    .colab-df-convert {\n",
              "      background-color: #E8F0FE;\n",
              "      border: none;\n",
              "      border-radius: 50%;\n",
              "      cursor: pointer;\n",
              "      display: none;\n",
              "      fill: #1967D2;\n",
              "      height: 32px;\n",
              "      padding: 0 0 0 0;\n",
              "      width: 32px;\n",
              "    }\n",
              "\n",
              "    .colab-df-convert:hover {\n",
              "      background-color: #E2EBFA;\n",
              "      box-shadow: 0px 1px 2px rgba(60, 64, 67, 0.3), 0px 1px 3px 1px rgba(60, 64, 67, 0.15);\n",
              "      fill: #174EA6;\n",
              "    }\n",
              "\n",
              "    [theme=dark] .colab-df-convert {\n",
              "      background-color: #3B4455;\n",
              "      fill: #D2E3FC;\n",
              "    }\n",
              "\n",
              "    [theme=dark] .colab-df-convert:hover {\n",
              "      background-color: #434B5C;\n",
              "      box-shadow: 0px 1px 3px 1px rgba(0, 0, 0, 0.15);\n",
              "      filter: drop-shadow(0px 1px 2px rgba(0, 0, 0, 0.3));\n",
              "      fill: #FFFFFF;\n",
              "    }\n",
              "  </style>\n",
              "\n",
              "      <script>\n",
              "        const buttonEl =\n",
              "          document.querySelector('#df-406c8d8e-0037-42f4-9711-4361a1f5b20f button.colab-df-convert');\n",
              "        buttonEl.style.display =\n",
              "          google.colab.kernel.accessAllowed ? 'block' : 'none';\n",
              "\n",
              "        async function convertToInteractive(key) {\n",
              "          const element = document.querySelector('#df-406c8d8e-0037-42f4-9711-4361a1f5b20f');\n",
              "          const dataTable =\n",
              "            await google.colab.kernel.invokeFunction('convertToInteractive',\n",
              "                                                     [key], {});\n",
              "          if (!dataTable) return;\n",
              "\n",
              "          const docLinkHtml = 'Like what you see? Visit the ' +\n",
              "            '<a target=\"_blank\" href=https://colab.research.google.com/notebooks/data_table.ipynb>data table notebook</a>'\n",
              "            + ' to learn more about interactive tables.';\n",
              "          element.innerHTML = '';\n",
              "          dataTable['output_type'] = 'display_data';\n",
              "          await google.colab.output.renderOutput(dataTable, element);\n",
              "          const docLink = document.createElement('div');\n",
              "          docLink.innerHTML = docLinkHtml;\n",
              "          element.appendChild(docLink);\n",
              "        }\n",
              "      </script>\n",
              "    </div>\n",
              "  </div>\n",
              "  "
            ]
          },
          "metadata": {},
          "execution_count": 3
        }
      ]
    },
    {
      "cell_type": "markdown",
      "source": [
        "df를 이용하면 표를 자동으로 만들어준다.\n",
        "\n",
        "<br>\n",
        "\n",
        "print(df)를 사용하면 텍스트 형식으로 출력된다."
      ],
      "metadata": {
        "id": "VcmYFM-NyMnd"
      }
    },
    {
      "cell_type": "code",
      "source": [
        "print(df)"
      ],
      "metadata": {
        "id": "Bk7mI0TbyUfU",
        "outputId": "7bef472d-07ef-46d8-cf05-f41d3a76c33d",
        "colab": {
          "base_uri": "https://localhost:8080/"
        }
      },
      "execution_count": null,
      "outputs": [
        {
          "output_type": "stream",
          "name": "stdout",
          "text": [
            "    월    수익    지출\n",
            "0  1월  9500  5040\n",
            "1  2월  6200  2350\n",
            "2  3월  6050  2300\n",
            "3  4월  7000  4800\n"
          ]
        }
      ]
    },
    {
      "cell_type": "markdown",
      "source": [
        "<br>\n",
        "\n",
        "넘파이의 argmax() 함수를 이용하여 시리즈 값들 중 최대값의 인덱스를 추출한 후 인덱스를 이용하여 특정 월을 골라낼 수 있다."
      ],
      "metadata": {
        "id": "iu6CNvoxIE0y"
      }
    },
    {
      "cell_type": "code",
      "source": [
        "m_idx = np.argmax(income_se)\n",
        "print(\"최대 수익이 발생한 월: \" + month_se[m_idx])"
      ],
      "metadata": {
        "colab": {
          "base_uri": "https://localhost:8080/"
        },
        "id": "1RrCFwAjITMt",
        "outputId": "20ac0dea-1285-4567-e11f-c1ced1048cbb"
      },
      "execution_count": null,
      "outputs": [
        {
          "output_type": "stream",
          "name": "stdout",
          "text": [
            "최대 수익이 발생한 월: 1월\n"
          ]
        }
      ]
    },
    {
      "cell_type": "markdown",
      "source": [
        "<br>\n",
        "max()와 mean() 함수를 이용하여 시리즈의 최대값과 평균값을 출력할 수 있다."
      ],
      "metadata": {
        "id": "Eb8SdGWrIfGE"
      }
    },
    {
      "cell_type": "code",
      "source": [
        "print('월 최대 수익 : ', income_se.max(), ', 월 평균 수익 : ', income_se.mean())"
      ],
      "metadata": {
        "colab": {
          "base_uri": "https://localhost:8080/"
        },
        "id": "5ao-P7vYInBg",
        "outputId": "707d195f-3aca-4385-fdf4-7a05ae6e6069"
      },
      "execution_count": null,
      "outputs": [
        {
          "output_type": "stream",
          "name": "stdout",
          "text": [
            "월 최대 수익 :  9500 , 월 평균 수익 :  7187.5\n"
          ]
        }
      ]
    },
    {
      "cell_type": "markdown",
      "source": [
        "<br>\n",
        "\n",
        "### 도전문제 : 데이터프레임을 이용하여 상점의 1월부터 4월까지 월 매출의 합과 월 지출의 합을 출력한다.\n"
      ],
      "metadata": {
        "id": "sO8eT7T8I0JE"
      }
    },
    {
      "cell_type": "code",
      "source": [
        "print(\"동윤이네 상점의 수입 합계:\", format(income_se.sum(), ','))\n",
        "print(\"동윤이네 상점의 지출 합계:\", format(expenses_se.sum(), ','))"
      ],
      "metadata": {
        "colab": {
          "base_uri": "https://localhost:8080/"
        },
        "id": "8ViKrDEwJElC",
        "outputId": "48a2d493-b753-41ab-84d1-088ec3eace78"
      },
      "execution_count": null,
      "outputs": [
        {
          "output_type": "stream",
          "name": "stdout",
          "text": [
            "동윤이네 상점의 수입 합계: 28,750\n",
            "동윤이네 상점의 지출 합계: 14,490\n"
          ]
        }
      ]
    },
    {
      "cell_type": "markdown",
      "source": [
        "*sum()함수를 이용하여 수입과 지출의 합계를 구하고, format(숫자, ',')을 이용하여 숫자 세 자리마다 쉼표를 넣어 출력해주었다.*"
      ],
      "metadata": {
        "id": "-BWJdZoSKaej"
      }
    },
    {
      "cell_type": "markdown",
      "source": [
        "\n",
        "\n",
        "---\n",
        "\n",
        "\n",
        "<br>\n",
        "\n",
        "### 4. csv 데이터를 읽고 확인하기\n",
        "\n",
        "<br>\n",
        "\n",
        "csv는 테이블 형식의 데이터를 저장하고 이동하는 데 사용되는 구조화된 텍스트 파일으로, 쉼표로 구분한 변수(Comma Separated Variables)의 약자이다.\n",
        "<br>\n",
        "기본적으로 쉼표를 이용해 데이터를 구분하지만, 탭이나 콜론, 세미콜론 등의 어떤 구분자라도 사용이 가능하다.\n",
        "<br>\n",
        "\n",
        "csv 파일은 필드를 나타내는 열과 레코드를 나타내는 행으로 구성된다. 만약 데이터 중간에 구분자가 포함되어야 한다면 구분자로 사용되는 쉼표와 구분하기 위해서 따옴표를 사용하여 필드를 묶어야 한다.\n",
        "<br>\n",
        "\n",
        "넘파이는 2차원 행렬 형태의 데이터를 지원하지만, 데이터의 속성을 표시하는 행이나 열의 레이블을 갖고 있지 않아서 데이터의 속성을 한눈에 이해하기에는 불편하다. 일반적인 엑셀 데이터나 이를 바탕으로 만든 csv 파일의 첫 번째 레코드에는 열 제목이 포함되어 있을 수 있다.\n",
        "<br>\n",
        "\n",
        "read_csv() 함수를 이용하면 csv파일을 읽어들여서 데이터프레임으로 바꿀 수 있다."
      ],
      "metadata": {
        "id": "VujKfXeFKkv3"
      }
    },
    {
      "cell_type": "code",
      "source": [
        "path = 'https://github.com/dongupak/DataML/raw/main/csv/'\n",
        "file = path + 'vehicle_prod.csv'\n",
        "df = pd.read_csv(file)\n",
        "print(df)"
      ],
      "metadata": {
        "colab": {
          "base_uri": "https://localhost:8080/"
        },
        "id": "z0g8PrlxNWEw",
        "outputId": "431246cf-17e3-4918-faf8-2819c2f2b211"
      },
      "execution_count": null,
      "outputs": [
        {
          "output_type": "stream",
          "name": "stdout",
          "text": [
            "  Unnamed: 0   2007   2008   2009   2010   2011\n",
            "0      China   7.71   7.95  11.96  15.84  16.33\n",
            "1         EU  19.02  17.71  15.00  16.70  17.48\n",
            "2         US  10.47   8.45   5.58   7.60   8.40\n",
            "3      Japan  10.87  10.83   7.55   9.09   7.88\n",
            "4      Korea   4.04   3.78   3.45   4.20   4.62\n",
            "5     Mexico   2.01   2.05   1.50   2.25   2.54\n"
          ]
        }
      ]
    },
    {
      "cell_type": "markdown",
      "source": [
        "만약 로컬 컴퓨터에 다운 받은 csv 파일을 이용한다면\n",
        "<br>\n",
        "dc = pd.read_csv('경로.csv')와 같은 형태로 파일을 읽어올 수 있다.\n",
        "\n",
        "<br>\n",
        "\n",
        "데이터프레임에서는 각 행들이 하나의 객체에 대한 정보를 표시한다. 위의 표를 살펴보면 각 행에 특정 국가와 연도별 자동차 생산 대수 정보를 표시한다. 이때 각 열들은 서로 다른 속성을 나타내며 각 열은 레이블을 갖고 있다."
      ],
      "metadata": {
        "id": "QUSs9O7MNpj-"
      }
    },
    {
      "cell_type": "markdown",
      "source": [
        "\n",
        "\n",
        "---\n",
        "\n",
        "\n",
        "<br>\n",
        "\n",
        "### 5. 데이터프레임의 구조\n",
        "\n",
        "<br>\n",
        "\n",
        "데이터프레임에서는 인덱스와 칼럼 객체를 정의하여 사용한다.\n",
        "<br>\n",
        "인덱스는 행들의 레이블이고, 칼럼은 열들의 레이블이 저장된 객체이다.\n",
        "<br>\n",
        "\n",
        "판다스의 read_csv() 함수에 index_col이라는 키워드 매개변수에 인자 0을 넘겨주면 첫 번째 열이 인덱스로 사용된다."
      ],
      "metadata": {
        "id": "hxVbF8FAOrSn"
      }
    },
    {
      "cell_type": "code",
      "source": [
        "df = pd.read_csv(file, index_col = 0)\n",
        "print(df)"
      ],
      "metadata": {
        "colab": {
          "base_uri": "https://localhost:8080/"
        },
        "id": "Z4hmyK3otqvM",
        "outputId": "92a80d5d-a296-48dc-adb1-cfed0eed9d25"
      },
      "execution_count": null,
      "outputs": [
        {
          "output_type": "stream",
          "name": "stdout",
          "text": [
            "         2007   2008   2009   2010   2011\n",
            "China    7.71   7.95  11.96  15.84  16.33\n",
            "EU      19.02  17.71  15.00  16.70  17.48\n",
            "US      10.47   8.45   5.58   7.60   8.40\n",
            "Japan   10.87  10.83   7.55   9.09   7.88\n",
            "Korea    4.04   3.78   3.45   4.20   4.62\n",
            "Mexico   2.01   2.05   1.50   2.25   2.54\n"
          ]
        }
      ]
    },
    {
      "cell_type": "markdown",
      "source": [
        "이 데이터프레임의 칼럼 값과 인덱스 값을 출력하기 위해서는 columns, index 속성을 사용하면 된다."
      ],
      "metadata": {
        "id": "Vvsqvc-6twko"
      }
    },
    {
      "cell_type": "code",
      "source": [
        "df.columns"
      ],
      "metadata": {
        "colab": {
          "base_uri": "https://localhost:8080/"
        },
        "id": "H0gAYzxxt2cq",
        "outputId": "015bf0ba-06aa-4d23-ca0d-e7bbabf6b28c"
      },
      "execution_count": null,
      "outputs": [
        {
          "output_type": "execute_result",
          "data": {
            "text/plain": [
              "Index(['2007', '2008', '2009', '2010', '2011'], dtype='object')"
            ]
          },
          "metadata": {},
          "execution_count": 13
        }
      ]
    },
    {
      "cell_type": "code",
      "source": [
        "df.index"
      ],
      "metadata": {
        "colab": {
          "base_uri": "https://localhost:8080/"
        },
        "id": "SAb7p7_Kt4St",
        "outputId": "4acbd40c-d98c-4de1-89f3-67a950be135c"
      },
      "execution_count": null,
      "outputs": [
        {
          "output_type": "execute_result",
          "data": {
            "text/plain": [
              "Index(['China', 'EU', 'US', 'Japan', 'Korea', 'Mexico'], dtype='object')"
            ]
          },
          "metadata": {},
          "execution_count": 14
        }
      ]
    },
    {
      "cell_type": "markdown",
      "source": [
        "<br>\n",
        "\n",
        "데이터프레임에서 특정 컬럼의 내용을 살펴보고자 하는 경우에는 df['컬럼명']과 같이 특정한 컬럼 값을 인덱스로 사용하면 된다. 또한, tolist() 메소드를 이용하여 컬럼이나 특정 컬럼의 값들을 리스트 자료형으로 살펴볼 수 있다."
      ],
      "metadata": {
        "id": "9QPVqzZavcjT"
      }
    },
    {
      "cell_type": "code",
      "source": [
        "df['2007']  # 데이터프레임의 2007년도 컬럼값들을 출력"
      ],
      "metadata": {
        "colab": {
          "base_uri": "https://localhost:8080/"
        },
        "id": "HCU267OYvod5",
        "outputId": "02e2c7ea-8a17-48e4-8d4d-964563764a8c"
      },
      "execution_count": null,
      "outputs": [
        {
          "output_type": "execute_result",
          "data": {
            "text/plain": [
              "China      7.71\n",
              "EU        19.02\n",
              "US        10.47\n",
              "Japan     10.87\n",
              "Korea      4.04\n",
              "Mexico     2.01\n",
              "Name: 2007, dtype: float64"
            ]
          },
          "metadata": {},
          "execution_count": 15
        }
      ]
    },
    {
      "cell_type": "code",
      "source": [
        "df.columns.tolist()  # 데이터프레임의 컬럼들을 리스트형으로 반환"
      ],
      "metadata": {
        "colab": {
          "base_uri": "https://localhost:8080/"
        },
        "id": "LbrF78BOvqkw",
        "outputId": "3ea84ec1-86e2-495c-823d-b721e1e65a7e"
      },
      "execution_count": null,
      "outputs": [
        {
          "output_type": "execute_result",
          "data": {
            "text/plain": [
              "['2007', '2008', '2009', '2010', '2011']"
            ]
          },
          "metadata": {},
          "execution_count": 16
        }
      ]
    },
    {
      "cell_type": "code",
      "source": [
        "df['2007'].tolist()  # 2007년도 컬럼들의 값들을 리스트형으로 반환"
      ],
      "metadata": {
        "colab": {
          "base_uri": "https://localhost:8080/"
        },
        "id": "IrpjJ0Epvsuc",
        "outputId": "068e8942-ed37-4787-d7e8-ccf6fab23e7d"
      },
      "execution_count": null,
      "outputs": [
        {
          "output_type": "execute_result",
          "data": {
            "text/plain": [
              "[7.71, 19.02, 10.47, 10.87, 4.04, 2.01]"
            ]
          },
          "metadata": {},
          "execution_count": 17
        }
      ]
    },
    {
      "cell_type": "markdown",
      "source": [
        "\n",
        "\n",
        "---\n",
        "\n",
        "\n",
        "<br>\n",
        "\n",
        "### 6. 새로운 열 생성\n",
        "\n",
        "<br>\n",
        "\n",
        "판다스를 이용하여 다른 열의 정보를 토대로 새로운 열을 생성할 수도 있다.\n",
        "<br>df.sum(axis = 1)과 같은 코드를 이용하여 모든 레코드의 값을 합한 열을 생성할 수 있다. 이때 axis = 1은 행 방향을 가리키며, axis = 0은 열 방향을 가리킨다."
      ],
      "metadata": {
        "id": "7W6Fe329w2hD"
      }
    },
    {
      "cell_type": "code",
      "source": [
        "df['total'] = df.sum(axis = 1)\n",
        "print(df)"
      ],
      "metadata": {
        "colab": {
          "base_uri": "https://localhost:8080/"
        },
        "id": "8IVGP695xMgt",
        "outputId": "25e6f0fe-c30f-4543-e071-2ad6843baa68"
      },
      "execution_count": null,
      "outputs": [
        {
          "output_type": "stream",
          "name": "stdout",
          "text": [
            "         2007   2008   2009   2010   2011  total\n",
            "China    7.71   7.95  11.96  15.84  16.33  59.79\n",
            "EU      19.02  17.71  15.00  16.70  17.48  85.91\n",
            "US      10.47   8.45   5.58   7.60   8.40  40.50\n",
            "Japan   10.87  10.83   7.55   9.09   7.88  46.22\n",
            "Korea    4.04   3.78   3.45   4.20   4.62  20.09\n",
            "Mexico   2.01   2.05   1.50   2.25   2.54  10.35\n"
          ]
        }
      ]
    },
    {
      "cell_type": "markdown",
      "source": [
        "<br>\n",
        "\n",
        "특정한 열을 인덱싱 한 후, sum(axis = 1), mean(axis = 1)과 같이 메소드의 이름과 연산이 수행되는 축을 명시하여 5년간 자동차 생산 대수의 합과 평균을 구할 수도 있다."
      ],
      "metadata": {
        "id": "icNxUTvcx-UW"
      }
    },
    {
      "cell_type": "code",
      "source": [
        "df['total'] = df[['2007', '2008', '2009', '2010', '2011']].sum(axis=1)\n",
        "df['mean'] = df[['2007', '2008', '2009', '2010', '2011']].mean(axis=1)\n",
        "print(df)"
      ],
      "metadata": {
        "colab": {
          "base_uri": "https://localhost:8080/"
        },
        "id": "EwrlrGHNyILP",
        "outputId": "c4342da6-406e-43e0-ee57-87f3f102b8db"
      },
      "execution_count": null,
      "outputs": [
        {
          "output_type": "stream",
          "name": "stdout",
          "text": [
            "         2007   2008   2009   2010   2011  total    mean\n",
            "China    7.71   7.95  11.96  15.84  16.33  59.79  11.958\n",
            "EU      19.02  17.71  15.00  16.70  17.48  85.91  17.182\n",
            "US      10.47   8.45   5.58   7.60   8.40  40.50   8.100\n",
            "Japan   10.87  10.83   7.55   9.09   7.88  46.22   9.244\n",
            "Korea    4.04   3.78   3.45   4.20   4.62  20.09   4.018\n",
            "Mexico   2.01   2.05   1.50   2.25   2.54  10.35   2.070\n"
          ]
        }
      ]
    },
    {
      "cell_type": "markdown",
      "source": [
        "<br>\n",
        "\n",
        "또한, 최대값과 최소값을 이용하여 새로운 열을 만들 때에는 max()와 min() 메소드를 이용할 수 있다.\n",
        "\n",
        "<br>\n",
        "\n",
        "특정 열을 삭제할 때에는 drop('열', axis=1)과 같이 축과 삭제할 열의 이름을 명시하면 된다. 단, 해당 열이 삭제되었음에도 total과 mean값은 변경이 없기 때문에 다시 한 번 total, mean 값을 계산해주어야 변경된 내용이 반영된다."
      ],
      "metadata": {
        "id": "sMY_6L38yXLm"
      }
    },
    {
      "cell_type": "code",
      "source": [
        "df.drop('2007', inplace=True, axis=1)\n",
        "print(df)"
      ],
      "metadata": {
        "colab": {
          "base_uri": "https://localhost:8080/"
        },
        "id": "Bs5Emy8OyxYw",
        "outputId": "63a5b545-4e32-45ae-bfc8-8a685b26bf9c"
      },
      "execution_count": null,
      "outputs": [
        {
          "output_type": "stream",
          "name": "stdout",
          "text": [
            "         2008   2009   2010   2011  total    mean\n",
            "China    7.95  11.96  15.84  16.33  59.79  11.958\n",
            "EU      17.71  15.00  16.70  17.48  85.91  17.182\n",
            "US       8.45   5.58   7.60   8.40  40.50   8.100\n",
            "Japan   10.83   7.55   9.09   7.88  46.22   9.244\n",
            "Korea    3.78   3.45   4.20   4.62  20.09   4.018\n",
            "Mexico   2.05   1.50   2.25   2.54  10.35   2.070\n"
          ]
        }
      ]
    },
    {
      "cell_type": "code",
      "source": [
        "df['total'] = df[['2008', '2009', '2010', '2011']].sum(axis=1)\n",
        "df['mean'] = df[['2008', '2009', '2010', '2011']].mean(axis=1)\n",
        "print(df)"
      ],
      "metadata": {
        "colab": {
          "base_uri": "https://localhost:8080/"
        },
        "id": "ytZJlAZhzPsI",
        "outputId": "48052afe-a957-4bec-f816-60f229ec28b1"
      },
      "execution_count": null,
      "outputs": [
        {
          "output_type": "stream",
          "name": "stdout",
          "text": [
            "         2008   2009   2010   2011  total     mean\n",
            "China    7.95  11.96  15.84  16.33  52.08  13.0200\n",
            "EU      17.71  15.00  16.70  17.48  66.89  16.7225\n",
            "US       8.45   5.58   7.60   8.40  30.03   7.5075\n",
            "Japan   10.83   7.55   9.09   7.88  35.35   8.8375\n",
            "Korea    3.78   3.45   4.20   4.62  16.05   4.0125\n",
            "Mexico   2.05   1.50   2.25   2.54   8.34   2.0850\n"
          ]
        }
      ]
    },
    {
      "cell_type": "markdown",
      "source": [
        "<br>\n",
        "\n",
        "### 도전문제 : 데이터프레임을 이용하여 연도별 생산 대수의 합을 total이라는 이름의 행으로 가장 아래 행에 출력하라."
      ],
      "metadata": {
        "id": "K9aZOL1UzU2X"
      }
    },
    {
      "cell_type": "code",
      "source": [
        "path = 'https://github.com/dongupak/DataML/raw/main/csv/'\n",
        "file = path + 'vehicle_prod.csv'\n",
        "df = pd.read_csv(file, index_col = 0)\n",
        "\n",
        "df.loc['total'] = df.sum(axis=0)\n",
        "df"
      ],
      "metadata": {
        "colab": {
          "base_uri": "https://localhost:8080/",
          "height": 269
        },
        "id": "YYQrPbUJzdEe",
        "outputId": "b2ae7a98-9ec0-4a91-d64f-853ba729adae"
      },
      "execution_count": null,
      "outputs": [
        {
          "output_type": "execute_result",
          "data": {
            "text/plain": [
              "         2007   2008   2009   2010   2011\n",
              "China    7.71   7.95  11.96  15.84  16.33\n",
              "EU      19.02  17.71  15.00  16.70  17.48\n",
              "US      10.47   8.45   5.58   7.60   8.40\n",
              "Japan   10.87  10.83   7.55   9.09   7.88\n",
              "Korea    4.04   3.78   3.45   4.20   4.62\n",
              "Mexico   2.01   2.05   1.50   2.25   2.54\n",
              "total   54.12  50.77  45.04  55.68  57.25"
            ],
            "text/html": [
              "\n",
              "  <div id=\"df-11fc2f75-22bb-4154-89fd-1dbfd85a3ce7\">\n",
              "    <div class=\"colab-df-container\">\n",
              "      <div>\n",
              "<style scoped>\n",
              "    .dataframe tbody tr th:only-of-type {\n",
              "        vertical-align: middle;\n",
              "    }\n",
              "\n",
              "    .dataframe tbody tr th {\n",
              "        vertical-align: top;\n",
              "    }\n",
              "\n",
              "    .dataframe thead th {\n",
              "        text-align: right;\n",
              "    }\n",
              "</style>\n",
              "<table border=\"1\" class=\"dataframe\">\n",
              "  <thead>\n",
              "    <tr style=\"text-align: right;\">\n",
              "      <th></th>\n",
              "      <th>2007</th>\n",
              "      <th>2008</th>\n",
              "      <th>2009</th>\n",
              "      <th>2010</th>\n",
              "      <th>2011</th>\n",
              "    </tr>\n",
              "  </thead>\n",
              "  <tbody>\n",
              "    <tr>\n",
              "      <th>China</th>\n",
              "      <td>7.71</td>\n",
              "      <td>7.95</td>\n",
              "      <td>11.96</td>\n",
              "      <td>15.84</td>\n",
              "      <td>16.33</td>\n",
              "    </tr>\n",
              "    <tr>\n",
              "      <th>EU</th>\n",
              "      <td>19.02</td>\n",
              "      <td>17.71</td>\n",
              "      <td>15.00</td>\n",
              "      <td>16.70</td>\n",
              "      <td>17.48</td>\n",
              "    </tr>\n",
              "    <tr>\n",
              "      <th>US</th>\n",
              "      <td>10.47</td>\n",
              "      <td>8.45</td>\n",
              "      <td>5.58</td>\n",
              "      <td>7.60</td>\n",
              "      <td>8.40</td>\n",
              "    </tr>\n",
              "    <tr>\n",
              "      <th>Japan</th>\n",
              "      <td>10.87</td>\n",
              "      <td>10.83</td>\n",
              "      <td>7.55</td>\n",
              "      <td>9.09</td>\n",
              "      <td>7.88</td>\n",
              "    </tr>\n",
              "    <tr>\n",
              "      <th>Korea</th>\n",
              "      <td>4.04</td>\n",
              "      <td>3.78</td>\n",
              "      <td>3.45</td>\n",
              "      <td>4.20</td>\n",
              "      <td>4.62</td>\n",
              "    </tr>\n",
              "    <tr>\n",
              "      <th>Mexico</th>\n",
              "      <td>2.01</td>\n",
              "      <td>2.05</td>\n",
              "      <td>1.50</td>\n",
              "      <td>2.25</td>\n",
              "      <td>2.54</td>\n",
              "    </tr>\n",
              "    <tr>\n",
              "      <th>total</th>\n",
              "      <td>54.12</td>\n",
              "      <td>50.77</td>\n",
              "      <td>45.04</td>\n",
              "      <td>55.68</td>\n",
              "      <td>57.25</td>\n",
              "    </tr>\n",
              "  </tbody>\n",
              "</table>\n",
              "</div>\n",
              "      <button class=\"colab-df-convert\" onclick=\"convertToInteractive('df-11fc2f75-22bb-4154-89fd-1dbfd85a3ce7')\"\n",
              "              title=\"Convert this dataframe to an interactive table.\"\n",
              "              style=\"display:none;\">\n",
              "        \n",
              "  <svg xmlns=\"http://www.w3.org/2000/svg\" height=\"24px\"viewBox=\"0 0 24 24\"\n",
              "       width=\"24px\">\n",
              "    <path d=\"M0 0h24v24H0V0z\" fill=\"none\"/>\n",
              "    <path d=\"M18.56 5.44l.94 2.06.94-2.06 2.06-.94-2.06-.94-.94-2.06-.94 2.06-2.06.94zm-11 1L8.5 8.5l.94-2.06 2.06-.94-2.06-.94L8.5 2.5l-.94 2.06-2.06.94zm10 10l.94 2.06.94-2.06 2.06-.94-2.06-.94-.94-2.06-.94 2.06-2.06.94z\"/><path d=\"M17.41 7.96l-1.37-1.37c-.4-.4-.92-.59-1.43-.59-.52 0-1.04.2-1.43.59L10.3 9.45l-7.72 7.72c-.78.78-.78 2.05 0 2.83L4 21.41c.39.39.9.59 1.41.59.51 0 1.02-.2 1.41-.59l7.78-7.78 2.81-2.81c.8-.78.8-2.07 0-2.86zM5.41 20L4 18.59l7.72-7.72 1.47 1.35L5.41 20z\"/>\n",
              "  </svg>\n",
              "      </button>\n",
              "      \n",
              "  <style>\n",
              "    .colab-df-container {\n",
              "      display:flex;\n",
              "      flex-wrap:wrap;\n",
              "      gap: 12px;\n",
              "    }\n",
              "\n",
              "    .colab-df-convert {\n",
              "      background-color: #E8F0FE;\n",
              "      border: none;\n",
              "      border-radius: 50%;\n",
              "      cursor: pointer;\n",
              "      display: none;\n",
              "      fill: #1967D2;\n",
              "      height: 32px;\n",
              "      padding: 0 0 0 0;\n",
              "      width: 32px;\n",
              "    }\n",
              "\n",
              "    .colab-df-convert:hover {\n",
              "      background-color: #E2EBFA;\n",
              "      box-shadow: 0px 1px 2px rgba(60, 64, 67, 0.3), 0px 1px 3px 1px rgba(60, 64, 67, 0.15);\n",
              "      fill: #174EA6;\n",
              "    }\n",
              "\n",
              "    [theme=dark] .colab-df-convert {\n",
              "      background-color: #3B4455;\n",
              "      fill: #D2E3FC;\n",
              "    }\n",
              "\n",
              "    [theme=dark] .colab-df-convert:hover {\n",
              "      background-color: #434B5C;\n",
              "      box-shadow: 0px 1px 3px 1px rgba(0, 0, 0, 0.15);\n",
              "      filter: drop-shadow(0px 1px 2px rgba(0, 0, 0, 0.3));\n",
              "      fill: #FFFFFF;\n",
              "    }\n",
              "  </style>\n",
              "\n",
              "      <script>\n",
              "        const buttonEl =\n",
              "          document.querySelector('#df-11fc2f75-22bb-4154-89fd-1dbfd85a3ce7 button.colab-df-convert');\n",
              "        buttonEl.style.display =\n",
              "          google.colab.kernel.accessAllowed ? 'block' : 'none';\n",
              "\n",
              "        async function convertToInteractive(key) {\n",
              "          const element = document.querySelector('#df-11fc2f75-22bb-4154-89fd-1dbfd85a3ce7');\n",
              "          const dataTable =\n",
              "            await google.colab.kernel.invokeFunction('convertToInteractive',\n",
              "                                                     [key], {});\n",
              "          if (!dataTable) return;\n",
              "\n",
              "          const docLinkHtml = 'Like what you see? Visit the ' +\n",
              "            '<a target=\"_blank\" href=https://colab.research.google.com/notebooks/data_table.ipynb>data table notebook</a>'\n",
              "            + ' to learn more about interactive tables.';\n",
              "          element.innerHTML = '';\n",
              "          dataTable['output_type'] = 'display_data';\n",
              "          await google.colab.output.renderOutput(dataTable, element);\n",
              "          const docLink = document.createElement('div');\n",
              "          docLink.innerHTML = docLinkHtml;\n",
              "          element.appendChild(docLink);\n",
              "        }\n",
              "      </script>\n",
              "    </div>\n",
              "  </div>\n",
              "  "
            ]
          },
          "metadata": {},
          "execution_count": 2
        }
      ]
    },
    {
      "cell_type": "markdown",
      "source": [
        "*df.loc['행 이름'] = df.sum(axis=0)을 이용하여 합계 행을 추가해주었다.*"
      ],
      "metadata": {
        "id": "9uzqRbJD0tkM"
      }
    },
    {
      "cell_type": "code",
      "source": [
        "path = 'https://github.com/dongupak/DataML/raw/main/csv/'\n",
        "file = path + 'vehicle_prod.csv'\n",
        "df = pd.read_csv(file, index_col = 0)\n",
        "\n",
        "df.loc['total'] = df.select_dtypes(np.number).sum(axis=0).rename()\n",
        "df"
      ],
      "metadata": {
        "colab": {
          "base_uri": "https://localhost:8080/",
          "height": 269
        },
        "id": "hdjtJGdA0xOL",
        "outputId": "0f30e7c0-d822-42b1-db24-536e269b1d87"
      },
      "execution_count": 4,
      "outputs": [
        {
          "output_type": "execute_result",
          "data": {
            "text/plain": [
              "         2007   2008   2009   2010   2011\n",
              "China    7.71   7.95  11.96  15.84  16.33\n",
              "EU      19.02  17.71  15.00  16.70  17.48\n",
              "US      10.47   8.45   5.58   7.60   8.40\n",
              "Japan   10.87  10.83   7.55   9.09   7.88\n",
              "Korea    4.04   3.78   3.45   4.20   4.62\n",
              "Mexico   2.01   2.05   1.50   2.25   2.54\n",
              "total   54.12  50.77  45.04  55.68  57.25"
            ],
            "text/html": [
              "\n",
              "  <div id=\"df-52aa3edc-e085-45da-bfa9-38769b58ea0a\">\n",
              "    <div class=\"colab-df-container\">\n",
              "      <div>\n",
              "<style scoped>\n",
              "    .dataframe tbody tr th:only-of-type {\n",
              "        vertical-align: middle;\n",
              "    }\n",
              "\n",
              "    .dataframe tbody tr th {\n",
              "        vertical-align: top;\n",
              "    }\n",
              "\n",
              "    .dataframe thead th {\n",
              "        text-align: right;\n",
              "    }\n",
              "</style>\n",
              "<table border=\"1\" class=\"dataframe\">\n",
              "  <thead>\n",
              "    <tr style=\"text-align: right;\">\n",
              "      <th></th>\n",
              "      <th>2007</th>\n",
              "      <th>2008</th>\n",
              "      <th>2009</th>\n",
              "      <th>2010</th>\n",
              "      <th>2011</th>\n",
              "    </tr>\n",
              "  </thead>\n",
              "  <tbody>\n",
              "    <tr>\n",
              "      <th>China</th>\n",
              "      <td>7.71</td>\n",
              "      <td>7.95</td>\n",
              "      <td>11.96</td>\n",
              "      <td>15.84</td>\n",
              "      <td>16.33</td>\n",
              "    </tr>\n",
              "    <tr>\n",
              "      <th>EU</th>\n",
              "      <td>19.02</td>\n",
              "      <td>17.71</td>\n",
              "      <td>15.00</td>\n",
              "      <td>16.70</td>\n",
              "      <td>17.48</td>\n",
              "    </tr>\n",
              "    <tr>\n",
              "      <th>US</th>\n",
              "      <td>10.47</td>\n",
              "      <td>8.45</td>\n",
              "      <td>5.58</td>\n",
              "      <td>7.60</td>\n",
              "      <td>8.40</td>\n",
              "    </tr>\n",
              "    <tr>\n",
              "      <th>Japan</th>\n",
              "      <td>10.87</td>\n",
              "      <td>10.83</td>\n",
              "      <td>7.55</td>\n",
              "      <td>9.09</td>\n",
              "      <td>7.88</td>\n",
              "    </tr>\n",
              "    <tr>\n",
              "      <th>Korea</th>\n",
              "      <td>4.04</td>\n",
              "      <td>3.78</td>\n",
              "      <td>3.45</td>\n",
              "      <td>4.20</td>\n",
              "      <td>4.62</td>\n",
              "    </tr>\n",
              "    <tr>\n",
              "      <th>Mexico</th>\n",
              "      <td>2.01</td>\n",
              "      <td>2.05</td>\n",
              "      <td>1.50</td>\n",
              "      <td>2.25</td>\n",
              "      <td>2.54</td>\n",
              "    </tr>\n",
              "    <tr>\n",
              "      <th>total</th>\n",
              "      <td>54.12</td>\n",
              "      <td>50.77</td>\n",
              "      <td>45.04</td>\n",
              "      <td>55.68</td>\n",
              "      <td>57.25</td>\n",
              "    </tr>\n",
              "  </tbody>\n",
              "</table>\n",
              "</div>\n",
              "      <button class=\"colab-df-convert\" onclick=\"convertToInteractive('df-52aa3edc-e085-45da-bfa9-38769b58ea0a')\"\n",
              "              title=\"Convert this dataframe to an interactive table.\"\n",
              "              style=\"display:none;\">\n",
              "        \n",
              "  <svg xmlns=\"http://www.w3.org/2000/svg\" height=\"24px\"viewBox=\"0 0 24 24\"\n",
              "       width=\"24px\">\n",
              "    <path d=\"M0 0h24v24H0V0z\" fill=\"none\"/>\n",
              "    <path d=\"M18.56 5.44l.94 2.06.94-2.06 2.06-.94-2.06-.94-.94-2.06-.94 2.06-2.06.94zm-11 1L8.5 8.5l.94-2.06 2.06-.94-2.06-.94L8.5 2.5l-.94 2.06-2.06.94zm10 10l.94 2.06.94-2.06 2.06-.94-2.06-.94-.94-2.06-.94 2.06-2.06.94z\"/><path d=\"M17.41 7.96l-1.37-1.37c-.4-.4-.92-.59-1.43-.59-.52 0-1.04.2-1.43.59L10.3 9.45l-7.72 7.72c-.78.78-.78 2.05 0 2.83L4 21.41c.39.39.9.59 1.41.59.51 0 1.02-.2 1.41-.59l7.78-7.78 2.81-2.81c.8-.78.8-2.07 0-2.86zM5.41 20L4 18.59l7.72-7.72 1.47 1.35L5.41 20z\"/>\n",
              "  </svg>\n",
              "      </button>\n",
              "      \n",
              "  <style>\n",
              "    .colab-df-container {\n",
              "      display:flex;\n",
              "      flex-wrap:wrap;\n",
              "      gap: 12px;\n",
              "    }\n",
              "\n",
              "    .colab-df-convert {\n",
              "      background-color: #E8F0FE;\n",
              "      border: none;\n",
              "      border-radius: 50%;\n",
              "      cursor: pointer;\n",
              "      display: none;\n",
              "      fill: #1967D2;\n",
              "      height: 32px;\n",
              "      padding: 0 0 0 0;\n",
              "      width: 32px;\n",
              "    }\n",
              "\n",
              "    .colab-df-convert:hover {\n",
              "      background-color: #E2EBFA;\n",
              "      box-shadow: 0px 1px 2px rgba(60, 64, 67, 0.3), 0px 1px 3px 1px rgba(60, 64, 67, 0.15);\n",
              "      fill: #174EA6;\n",
              "    }\n",
              "\n",
              "    [theme=dark] .colab-df-convert {\n",
              "      background-color: #3B4455;\n",
              "      fill: #D2E3FC;\n",
              "    }\n",
              "\n",
              "    [theme=dark] .colab-df-convert:hover {\n",
              "      background-color: #434B5C;\n",
              "      box-shadow: 0px 1px 3px 1px rgba(0, 0, 0, 0.15);\n",
              "      filter: drop-shadow(0px 1px 2px rgba(0, 0, 0, 0.3));\n",
              "      fill: #FFFFFF;\n",
              "    }\n",
              "  </style>\n",
              "\n",
              "      <script>\n",
              "        const buttonEl =\n",
              "          document.querySelector('#df-52aa3edc-e085-45da-bfa9-38769b58ea0a button.colab-df-convert');\n",
              "        buttonEl.style.display =\n",
              "          google.colab.kernel.accessAllowed ? 'block' : 'none';\n",
              "\n",
              "        async function convertToInteractive(key) {\n",
              "          const element = document.querySelector('#df-52aa3edc-e085-45da-bfa9-38769b58ea0a');\n",
              "          const dataTable =\n",
              "            await google.colab.kernel.invokeFunction('convertToInteractive',\n",
              "                                                     [key], {});\n",
              "          if (!dataTable) return;\n",
              "\n",
              "          const docLinkHtml = 'Like what you see? Visit the ' +\n",
              "            '<a target=\"_blank\" href=https://colab.research.google.com/notebooks/data_table.ipynb>data table notebook</a>'\n",
              "            + ' to learn more about interactive tables.';\n",
              "          element.innerHTML = '';\n",
              "          dataTable['output_type'] = 'display_data';\n",
              "          await google.colab.output.renderOutput(dataTable, element);\n",
              "          const docLink = document.createElement('div');\n",
              "          docLink.innerHTML = docLinkHtml;\n",
              "          element.appendChild(docLink);\n",
              "        }\n",
              "      </script>\n",
              "    </div>\n",
              "  </div>\n",
              "  "
            ]
          },
          "metadata": {},
          "execution_count": 4
        }
      ]
    },
    {
      "cell_type": "markdown",
      "source": [
        "*이번에는 교재에서 주어진대로 df.loc['total'] = df.select_dtypes(np.number).sum(axis=0).rename()를 이용하여 행을 추가해보았다. 실행 결과는 위 코드와 같다.*\n"
      ],
      "metadata": {
        "id": "xPvA2Bxk1ZhE"
      }
    },
    {
      "cell_type": "markdown",
      "source": [
        "\n",
        "\n",
        "---\n",
        "\n",
        "\n",
        "<br>\n",
        "\n",
        "### 7. inplace로 데이터프레임 갱신\n",
        "\n",
        "<br>\n",
        "\n",
        "dropna()를 비롯한 여러 메소드에서 제공하는 inplace 인자는 True나 False같은 불 값을 가질 수 있으며, 디폴트 값은 False이다.\n",
        "<br> 해당 옵션이 True이면 명령어를 실행한 후 메소드가 적용된 기존 데이터프레임을 갱신하게 되며, False이면 기존 데이터프레임은 그대로 두고 갱신된 데이터프레임을 반환하게 된다."
      ],
      "metadata": {
        "id": "-6GiMzMJ1e7X"
      }
    },
    {
      "cell_type": "code",
      "source": [
        "d_df = pd.DataFrame(data = [[10, 20, 30, 40], [50, 60, 70, 80]],\n",
        "                    columns = ['A', 'B', 'C', 'D'])\n",
        "new_df = d_df.drop('B', axis=1, inplace=False)\n",
        "print(new_df)"
      ],
      "metadata": {
        "colab": {
          "base_uri": "https://localhost:8080/"
        },
        "id": "B0zRlqfY2Hwb",
        "outputId": "49afe3f5-77c3-4c92-94b1-4d97c2ba470c"
      },
      "execution_count": null,
      "outputs": [
        {
          "output_type": "stream",
          "name": "stdout",
          "text": [
            "    A   C   D\n",
            "0  10  30  40\n",
            "1  50  70  80\n"
          ]
        }
      ]
    },
    {
      "cell_type": "code",
      "source": [
        "print(d_df)  # d_df 데이터프레임은 변화가 없음"
      ],
      "metadata": {
        "colab": {
          "base_uri": "https://localhost:8080/"
        },
        "id": "0pN_DaT82ZO0",
        "outputId": "75db9cb7-1580-493d-bd4a-27fe1dc0d1d3"
      },
      "execution_count": null,
      "outputs": [
        {
          "output_type": "stream",
          "name": "stdout",
          "text": [
            "    A   B   C   D\n",
            "0  10  20  30  40\n",
            "1  50  60  70  80\n"
          ]
        }
      ]
    },
    {
      "cell_type": "code",
      "source": [
        "d_df.drop('B', axis=1, inplace=True)  # inplace 키워드 인자가 True이면\n",
        "print(d_df)  # d_df 데이터프레임 내부의 값도 변경됨"
      ],
      "metadata": {
        "colab": {
          "base_uri": "https://localhost:8080/"
        },
        "id": "PN6tnlur2dcG",
        "outputId": "b387e809-cafb-4ca3-dd22-1762f72c9568"
      },
      "execution_count": null,
      "outputs": [
        {
          "output_type": "stream",
          "name": "stdout",
          "text": [
            "    A   C   D\n",
            "0  10  30  40\n",
            "1  50  70  80\n"
          ]
        }
      ]
    },
    {
      "cell_type": "markdown",
      "source": [
        "<br>\n",
        "\n",
        "같은 방법으로 각국의 자동차 생산 대수를 읽어들인 다음, 가장 아래쪽 멕시코 행의 정보를 삭제한다. 이때, inplace = True로 두어 df 데이터프레임을 갱신하는 방식을 사용한다. "
      ],
      "metadata": {
        "id": "6_7Vy1rT22Ug"
      }
    },
    {
      "cell_type": "code",
      "source": [
        "df = pd.read_csv(file, index_col = 0)  # csv 파일 새로 읽어옴\n",
        "\n",
        "df.drop('Mexico', axis=0, inplace=True)  # Mexico 행을 삭제하고 df 갱신\n",
        "print(df)"
      ],
      "metadata": {
        "colab": {
          "base_uri": "https://localhost:8080/"
        },
        "id": "-fi5ZjOD2218",
        "outputId": "730f0545-5861-4139-db4b-b2011fbbc811"
      },
      "execution_count": null,
      "outputs": [
        {
          "output_type": "stream",
          "name": "stdout",
          "text": [
            "        2007   2008   2009   2010   2011\n",
            "China   7.71   7.95  11.96  15.84  16.33\n",
            "EU     19.02  17.71  15.00  16.70  17.48\n",
            "US     10.47   8.45   5.58   7.60   8.40\n",
            "Japan  10.87  10.83   7.55   9.09   7.88\n",
            "Korea   4.04   3.78   3.45   4.20   4.62\n"
          ]
        }
      ]
    },
    {
      "cell_type": "markdown",
      "source": [
        "---\n",
        "\n",
        "<br>\n",
        "\n",
        "### 8. 데이터프레임 시각화\n",
        "\n",
        "<br>\n",
        "\n",
        "아래 코드에서 df 데이터프레임은 인덱스를 국가명이 있는 첫 열로 지정하여 데이터를 읽어들였으며, df_no_index 데이터프레임은 인덱스를 별도로 지정하지 않고 판다스 데이터프레임이 생성한 인덱스로 데이터를 읽어들였다.\n",
        "<br> 두 데이터프레임에서 2007년도 레이블을 가진 열만을 추출하기 위해서는 원하는 컬럼의 레이블 ['2007']을 사용하면 된다."
      ],
      "metadata": {
        "id": "GeFCRfJK3i40"
      }
    },
    {
      "cell_type": "code",
      "source": [
        "df = pd.read_csv(file, index_col = 0)\n",
        "df_no_index = pd.read_csv(file)\n",
        "print(df['2007'])\n",
        "print(df_no_index['2007'])"
      ],
      "metadata": {
        "colab": {
          "base_uri": "https://localhost:8080/"
        },
        "id": "b7QM9Pcy4AbZ",
        "outputId": "a0082ad8-81b7-4c12-f426-55154da7e166"
      },
      "execution_count": null,
      "outputs": [
        {
          "output_type": "stream",
          "name": "stdout",
          "text": [
            "China      7.71\n",
            "EU        19.02\n",
            "US        10.47\n",
            "Japan     10.87\n",
            "Korea      4.04\n",
            "Mexico     2.01\n",
            "Name: 2007, dtype: float64\n",
            "0     7.71\n",
            "1    19.02\n",
            "2    10.47\n",
            "3    10.87\n",
            "4     4.04\n",
            "5     2.01\n",
            "Name: 2007, dtype: float64\n"
          ]
        }
      ]
    },
    {
      "cell_type": "markdown",
      "source": [
        "index_col = 0과 같이 첫 열을 인덱스로 지정한 경우, 국가 코드가 인덱스로 사용되기 때문에 국가 코드가 표시되고 있지만, 별도의 index_col을 지정하지 않을 경우 0부터 넘버링한 인덱스를 자동으로 생성하여 인덱싱한다.\n",
        "\n",
        "<br>\n",
        "\n",
        "만약 2007~2009년도의 여러 열을 선택하려면 다음처럼 원하는 열들의 레이블을 리스트로 만들어 df[]의 인덱스 값으로 전달하여야 한다."
      ],
      "metadata": {
        "id": "h7Pz7lMM4N2o"
      }
    },
    {
      "cell_type": "code",
      "source": [
        "print(df[['2007', '2008', '2009']])"
      ],
      "metadata": {
        "colab": {
          "base_uri": "https://localhost:8080/"
        },
        "id": "Y_FiHct24dJx",
        "outputId": "c5d4bd00-4cc6-4d62-b24a-b6650db61e79"
      },
      "execution_count": null,
      "outputs": [
        {
          "output_type": "stream",
          "name": "stdout",
          "text": [
            "         2007   2008   2009\n",
            "China    7.71   7.95  11.96\n",
            "EU      19.02  17.71  15.00\n",
            "US      10.47   8.45   5.58\n",
            "Japan   10.87  10.83   7.55\n",
            "Korea    4.04   3.78   3.45\n",
            "Mexico   2.01   2.05   1.50\n"
          ]
        }
      ]
    },
    {
      "cell_type": "markdown",
      "source": [
        "<br>\n",
        "\n",
        "해당 방법을 이용하여 선택된 열을 쉽게 그래프로 그릴 수 있다. 열을 추출한 뒤, plot() 메소드를 이용하여 그래프를 그린다."
      ],
      "metadata": {
        "id": "GoAgwq3x5u_-"
      }
    },
    {
      "cell_type": "code",
      "source": [
        "df['2009'].plot(kind = 'bar', color = ('orange', 'r', 'b', 'm', 'c', 'k'))"
      ],
      "metadata": {
        "colab": {
          "base_uri": "https://localhost:8080/",
          "height": 308
        },
        "id": "8TFSW_Mt53Xs",
        "outputId": "edc50ce6-1263-49bc-9e8a-4e0d8832a686"
      },
      "execution_count": null,
      "outputs": [
        {
          "output_type": "execute_result",
          "data": {
            "text/plain": [
              "<matplotlib.axes._subplots.AxesSubplot at 0x7f99527c4ed0>"
            ]
          },
          "metadata": {},
          "execution_count": 44
        },
        {
          "output_type": "display_data",
          "data": {
            "text/plain": [
              "<Figure size 432x288 with 1 Axes>"
            ],
            "image/png": "[encoded data removed]"
          },
          "metadata": {
            "needs_background": "light"
          }
        }
      ]
    },
    {
      "cell_type": "markdown",
      "source": [
        "<br>\n",
        "\n",
        "plot 메소드의 키워드 매개변수 kind는 차트의 종류를 의미한다. kind='pie'로 지정하면 파이 차트를 그릴 수 있다."
      ],
      "metadata": {
        "id": "HGfMICZw6Ahf"
      }
    },
    {
      "cell_type": "code",
      "source": [
        "df['2009'].plot(kind='pie')"
      ],
      "metadata": {
        "colab": {
          "base_uri": "https://localhost:8080/",
          "height": 266
        },
        "id": "DXGldnwu6IbF",
        "outputId": "5d6a0f07-033e-49ee-935a-4d012353b942"
      },
      "execution_count": null,
      "outputs": [
        {
          "output_type": "execute_result",
          "data": {
            "text/plain": [
              "<matplotlib.axes._subplots.AxesSubplot at 0x7f99524ec550>"
            ]
          },
          "metadata": {},
          "execution_count": 45
        },
        {
          "output_type": "display_data",
          "data": {
            "text/plain": [
              "<Figure size 432x288 with 1 Axes>"
            ],
            "image/png": "[encoded data removed]"
          },
          "metadata": {}
        }
      ]
    },
    {
      "cell_type": "markdown",
      "source": [
        "---\n",
        "\n",
        "<br>\n",
        "\n",
        "### 9. 편리하고 강력한 시각화\n",
        "\n",
        "<br>\n",
        "\n",
        "데이터프레임은 matplotlib과 결합되어 있어 자료값을 손쉽게 시각화하여 보여줄 수 있다."
      ],
      "metadata": {
        "id": "bmXcfVXX6VO9"
      }
    },
    {
      "cell_type": "code",
      "source": [
        "df = pd.read_csv(file, index_col = 0)\n",
        "df.plot.line()"
      ],
      "metadata": {
        "colab": {
          "base_uri": "https://localhost:8080/",
          "height": 283
        },
        "id": "LV72m33ZQo11",
        "outputId": "9d493a39-aee3-4638-88ef-e940e1dbd354"
      },
      "execution_count": null,
      "outputs": [
        {
          "output_type": "execute_result",
          "data": {
            "text/plain": [
              "<matplotlib.axes._subplots.AxesSubplot at 0x7fd1ba5ed310>"
            ]
          },
          "metadata": {},
          "execution_count": 3
        },
        {
          "output_type": "display_data",
          "data": {
            "text/plain": [
              "<Figure size 432x288 with 1 Axes>"
            ],
            "image/png": "[encoded data removed]"
          },
          "metadata": {
            "needs_background": "light"
          }
        }
      ]
    },
    {
      "cell_type": "markdown",
      "source": [
        "<br>\n",
        "\n",
        "선 그래프가 아닌 막대 그래프로 출력하고자 하면 df.plot.bar()를 호출하면 된다.\n",
        "<br>중국의 경우 2007~2011년까지 자동차 생산이 가차르게 증가했으며, 일분의 경우 다소 감소했고, 2009년의 경우 중국을 제외한 주요 국가의 자동차 생산이 감소한 모습을 한 눈에 볼 수 있다. 따라서 선 그래프에 비해 정보 표현 능력이 향상되었다고 볼 수 있다."
      ],
      "metadata": {
        "id": "KFHywvRVQvpD"
      }
    },
    {
      "cell_type": "code",
      "source": [
        "df.plot.bar()"
      ],
      "metadata": {
        "colab": {
          "base_uri": "https://localhost:8080/",
          "height": 308
        },
        "id": "GiC6hhzwRexE",
        "outputId": "87f8e75e-5014-402b-d695-e7f992ace813"
      },
      "execution_count": null,
      "outputs": [
        {
          "output_type": "execute_result",
          "data": {
            "text/plain": [
              "<matplotlib.axes._subplots.AxesSubplot at 0x7fd1ba023ad0>"
            ]
          },
          "metadata": {},
          "execution_count": 4
        },
        {
          "output_type": "display_data",
          "data": {
            "text/plain": [
              "<Figure size 432x288 with 1 Axes>"
            ],
            "image/png": "[encoded data removed]"
          },
          "metadata": {
            "needs_background": "light"
          }
        }
      ]
    },
    {
      "cell_type": "markdown",
      "source": [
        "<br>\n",
        "\n",
        "df.transpose() 메소드를 사용하여 행과 열을 전치시킬 수 있다. 대신 df.T 속성을 이용할 수도 있다.\n",
        "<br>연도가 인덱스로 사용되고, 각 국가의 이름이 칼럼 값으로 표시된 것을 볼 수 있다.\n",
        "<br>이 선 그래프를 통해 중국의 자동차 생산량이 매년 가파르게 증가하고 있으며, 일본의 경우 완만하게 감소하는 것을 볼 수 있다."
      ],
      "metadata": {
        "id": "HEaM--uRRiC2"
      }
    },
    {
      "cell_type": "code",
      "source": [
        "df = df.transpose()  # df.T도 가능\n",
        "print(df)\n",
        "df.plot.line()"
      ],
      "metadata": {
        "colab": {
          "base_uri": "https://localhost:8080/",
          "height": 412
        },
        "id": "1jLAqNHrR3aO",
        "outputId": "c066bec0-35d9-4fbb-c0ab-4934906b3bb5"
      },
      "execution_count": null,
      "outputs": [
        {
          "output_type": "stream",
          "name": "stdout",
          "text": [
            "         2007   2008   2009   2010   2011\n",
            "China    7.71   7.95  11.96  15.84  16.33\n",
            "EU      19.02  17.71  15.00  16.70  17.48\n",
            "US      10.47   8.45   5.58   7.60   8.40\n",
            "Japan   10.87  10.83   7.55   9.09   7.88\n",
            "Korea    4.04   3.78   3.45   4.20   4.62\n",
            "Mexico   2.01   2.05   1.50   2.25   2.54\n"
          ]
        },
        {
          "output_type": "execute_result",
          "data": {
            "text/plain": [
              "<matplotlib.axes._subplots.AxesSubplot at 0x7fd1ba030c10>"
            ]
          },
          "metadata": {},
          "execution_count": 6
        },
        {
          "output_type": "display_data",
          "data": {
            "text/plain": [
              "<Figure size 432x288 with 1 Axes>"
            ],
            "image/png": "[encoded data removed]"
          },
          "metadata": {
            "needs_background": "light"
          }
        }
      ]
    },
    {
      "cell_type": "markdown",
      "source": [
        "---\n",
        "\n",
        "<br>\n",
        "\n",
        "### 10. 편리한 데이터 다루기 - 슬라이싱과 인덱싱\n",
        "\n",
        "<br>\n",
        "\n",
        "데이터프레임의 첫 5행만 얻기 위해서는 head()를, 마지막 5행을 얻으려면 tail()을  사용한다.\n",
        "<br>head()와 tail()에 정수를 인자로 넘겨주면 해당 정수만큼의 행을 보여준다."
      ],
      "metadata": {
        "id": "fgfhQCsOR_a4"
      }
    },
    {
      "cell_type": "code",
      "source": [
        "df = pd.read_csv(file, index_col = 0)\n",
        "df.head(3)  # 첫 3행만 가져오기"
      ],
      "metadata": {
        "colab": {
          "base_uri": "https://localhost:8080/",
          "height": 143
        },
        "id": "UgzJhhsSS9pq",
        "outputId": "11c20f5d-c474-4d35-9f4b-035489bedba6"
      },
      "execution_count": null,
      "outputs": [
        {
          "output_type": "execute_result",
          "data": {
            "text/plain": [
              "        2007   2008   2009   2010   2011\n",
              "China   7.71   7.95  11.96  15.84  16.33\n",
              "EU     19.02  17.71  15.00  16.70  17.48\n",
              "US     10.47   8.45   5.58   7.60   8.40"
            ],
            "text/html": [
              "\n",
              "  <div id=\"df-f5ccf2a7-7454-449b-932b-7f4b6b0ab793\">\n",
              "    <div class=\"colab-df-container\">\n",
              "      <div>\n",
              "<style scoped>\n",
              "    .dataframe tbody tr th:only-of-type {\n",
              "        vertical-align: middle;\n",
              "    }\n",
              "\n",
              "    .dataframe tbody tr th {\n",
              "        vertical-align: top;\n",
              "    }\n",
              "\n",
              "    .dataframe thead th {\n",
              "        text-align: right;\n",
              "    }\n",
              "</style>\n",
              "<table border=\"1\" class=\"dataframe\">\n",
              "  <thead>\n",
              "    <tr style=\"text-align: right;\">\n",
              "      <th></th>\n",
              "      <th>2007</th>\n",
              "      <th>2008</th>\n",
              "      <th>2009</th>\n",
              "      <th>2010</th>\n",
              "      <th>2011</th>\n",
              "    </tr>\n",
              "  </thead>\n",
              "  <tbody>\n",
              "    <tr>\n",
              "      <th>China</th>\n",
              "      <td>7.71</td>\n",
              "      <td>7.95</td>\n",
              "      <td>11.96</td>\n",
              "      <td>15.84</td>\n",
              "      <td>16.33</td>\n",
              "    </tr>\n",
              "    <tr>\n",
              "      <th>EU</th>\n",
              "      <td>19.02</td>\n",
              "      <td>17.71</td>\n",
              "      <td>15.00</td>\n",
              "      <td>16.70</td>\n",
              "      <td>17.48</td>\n",
              "    </tr>\n",
              "    <tr>\n",
              "      <th>US</th>\n",
              "      <td>10.47</td>\n",
              "      <td>8.45</td>\n",
              "      <td>5.58</td>\n",
              "      <td>7.60</td>\n",
              "      <td>8.40</td>\n",
              "    </tr>\n",
              "  </tbody>\n",
              "</table>\n",
              "</div>\n",
              "      <button class=\"colab-df-convert\" onclick=\"convertToInteractive('df-f5ccf2a7-7454-449b-932b-7f4b6b0ab793')\"\n",
              "              title=\"Convert this dataframe to an interactive table.\"\n",
              "              style=\"display:none;\">\n",
              "        \n",
              "  <svg xmlns=\"http://www.w3.org/2000/svg\" height=\"24px\"viewBox=\"0 0 24 24\"\n",
              "       width=\"24px\">\n",
              "    <path d=\"M0 0h24v24H0V0z\" fill=\"none\"/>\n",
              "    <path d=\"M18.56 5.44l.94 2.06.94-2.06 2.06-.94-2.06-.94-.94-2.06-.94 2.06-2.06.94zm-11 1L8.5 8.5l.94-2.06 2.06-.94-2.06-.94L8.5 2.5l-.94 2.06-2.06.94zm10 10l.94 2.06.94-2.06 2.06-.94-2.06-.94-.94-2.06-.94 2.06-2.06.94z\"/><path d=\"M17.41 7.96l-1.37-1.37c-.4-.4-.92-.59-1.43-.59-.52 0-1.04.2-1.43.59L10.3 9.45l-7.72 7.72c-.78.78-.78 2.05 0 2.83L4 21.41c.39.39.9.59 1.41.59.51 0 1.02-.2 1.41-.59l7.78-7.78 2.81-2.81c.8-.78.8-2.07 0-2.86zM5.41 20L4 18.59l7.72-7.72 1.47 1.35L5.41 20z\"/>\n",
              "  </svg>\n",
              "      </button>\n",
              "      \n",
              "  <style>\n",
              "    .colab-df-container {\n",
              "      display:flex;\n",
              "      flex-wrap:wrap;\n",
              "      gap: 12px;\n",
              "    }\n",
              "\n",
              "    .colab-df-convert {\n",
              "      background-color: #E8F0FE;\n",
              "      border: none;\n",
              "      border-radius: 50%;\n",
              "      cursor: pointer;\n",
              "      display: none;\n",
              "      fill: #1967D2;\n",
              "      height: 32px;\n",
              "      padding: 0 0 0 0;\n",
              "      width: 32px;\n",
              "    }\n",
              "\n",
              "    .colab-df-convert:hover {\n",
              "      background-color: #E2EBFA;\n",
              "      box-shadow: 0px 1px 2px rgba(60, 64, 67, 0.3), 0px 1px 3px 1px rgba(60, 64, 67, 0.15);\n",
              "      fill: #174EA6;\n",
              "    }\n",
              "\n",
              "    [theme=dark] .colab-df-convert {\n",
              "      background-color: #3B4455;\n",
              "      fill: #D2E3FC;\n",
              "    }\n",
              "\n",
              "    [theme=dark] .colab-df-convert:hover {\n",
              "      background-color: #434B5C;\n",
              "      box-shadow: 0px 1px 3px 1px rgba(0, 0, 0, 0.15);\n",
              "      filter: drop-shadow(0px 1px 2px rgba(0, 0, 0, 0.3));\n",
              "      fill: #FFFFFF;\n",
              "    }\n",
              "  </style>\n",
              "\n",
              "      <script>\n",
              "        const buttonEl =\n",
              "          document.querySelector('#df-f5ccf2a7-7454-449b-932b-7f4b6b0ab793 button.colab-df-convert');\n",
              "        buttonEl.style.display =\n",
              "          google.colab.kernel.accessAllowed ? 'block' : 'none';\n",
              "\n",
              "        async function convertToInteractive(key) {\n",
              "          const element = document.querySelector('#df-f5ccf2a7-7454-449b-932b-7f4b6b0ab793');\n",
              "          const dataTable =\n",
              "            await google.colab.kernel.invokeFunction('convertToInteractive',\n",
              "                                                     [key], {});\n",
              "          if (!dataTable) return;\n",
              "\n",
              "          const docLinkHtml = 'Like what you see? Visit the ' +\n",
              "            '<a target=\"_blank\" href=https://colab.research.google.com/notebooks/data_table.ipynb>data table notebook</a>'\n",
              "            + ' to learn more about interactive tables.';\n",
              "          element.innerHTML = '';\n",
              "          dataTable['output_type'] = 'display_data';\n",
              "          await google.colab.output.renderOutput(dataTable, element);\n",
              "          const docLink = document.createElement('div');\n",
              "          docLink.innerHTML = docLinkHtml;\n",
              "          element.appendChild(docLink);\n",
              "        }\n",
              "      </script>\n",
              "    </div>\n",
              "  </div>\n",
              "  "
            ]
          },
          "metadata": {},
          "execution_count": 7
        }
      ]
    },
    {
      "cell_type": "markdown",
      "source": [
        "<br>\n",
        "\n",
        "리스트와 유사한 방법으로 슬라이싱을 이용해 지정된 범위의 레코드만을 가져올 수 있다."
      ],
      "metadata": {
        "id": "Q4CXTsT9TEet"
      }
    },
    {
      "cell_type": "code",
      "source": [
        "df[2:6]  # 3~5번째 레코드만 가져옴"
      ],
      "metadata": {
        "colab": {
          "base_uri": "https://localhost:8080/",
          "height": 175
        },
        "id": "uxtMDIKZTKG3",
        "outputId": "5433378c-2d5c-46f2-f639-16d9f02b464c"
      },
      "execution_count": null,
      "outputs": [
        {
          "output_type": "execute_result",
          "data": {
            "text/plain": [
              "         2007   2008  2009  2010  2011\n",
              "US      10.47   8.45  5.58  7.60  8.40\n",
              "Japan   10.87  10.83  7.55  9.09  7.88\n",
              "Korea    4.04   3.78  3.45  4.20  4.62\n",
              "Mexico   2.01   2.05  1.50  2.25  2.54"
            ],
            "text/html": [
              "\n",
              "  <div id=\"df-bc9dfd09-5b08-4b89-9b1b-ed22902542f4\">\n",
              "    <div class=\"colab-df-container\">\n",
              "      <div>\n",
              "<style scoped>\n",
              "    .dataframe tbody tr th:only-of-type {\n",
              "        vertical-align: middle;\n",
              "    }\n",
              "\n",
              "    .dataframe tbody tr th {\n",
              "        vertical-align: top;\n",
              "    }\n",
              "\n",
              "    .dataframe thead th {\n",
              "        text-align: right;\n",
              "    }\n",
              "</style>\n",
              "<table border=\"1\" class=\"dataframe\">\n",
              "  <thead>\n",
              "    <tr style=\"text-align: right;\">\n",
              "      <th></th>\n",
              "      <th>2007</th>\n",
              "      <th>2008</th>\n",
              "      <th>2009</th>\n",
              "      <th>2010</th>\n",
              "      <th>2011</th>\n",
              "    </tr>\n",
              "  </thead>\n",
              "  <tbody>\n",
              "    <tr>\n",
              "      <th>US</th>\n",
              "      <td>10.47</td>\n",
              "      <td>8.45</td>\n",
              "      <td>5.58</td>\n",
              "      <td>7.60</td>\n",
              "      <td>8.40</td>\n",
              "    </tr>\n",
              "    <tr>\n",
              "      <th>Japan</th>\n",
              "      <td>10.87</td>\n",
              "      <td>10.83</td>\n",
              "      <td>7.55</td>\n",
              "      <td>9.09</td>\n",
              "      <td>7.88</td>\n",
              "    </tr>\n",
              "    <tr>\n",
              "      <th>Korea</th>\n",
              "      <td>4.04</td>\n",
              "      <td>3.78</td>\n",
              "      <td>3.45</td>\n",
              "      <td>4.20</td>\n",
              "      <td>4.62</td>\n",
              "    </tr>\n",
              "    <tr>\n",
              "      <th>Mexico</th>\n",
              "      <td>2.01</td>\n",
              "      <td>2.05</td>\n",
              "      <td>1.50</td>\n",
              "      <td>2.25</td>\n",
              "      <td>2.54</td>\n",
              "    </tr>\n",
              "  </tbody>\n",
              "</table>\n",
              "</div>\n",
              "      <button class=\"colab-df-convert\" onclick=\"convertToInteractive('df-bc9dfd09-5b08-4b89-9b1b-ed22902542f4')\"\n",
              "              title=\"Convert this dataframe to an interactive table.\"\n",
              "              style=\"display:none;\">\n",
              "        \n",
              "  <svg xmlns=\"http://www.w3.org/2000/svg\" height=\"24px\"viewBox=\"0 0 24 24\"\n",
              "       width=\"24px\">\n",
              "    <path d=\"M0 0h24v24H0V0z\" fill=\"none\"/>\n",
              "    <path d=\"M18.56 5.44l.94 2.06.94-2.06 2.06-.94-2.06-.94-.94-2.06-.94 2.06-2.06.94zm-11 1L8.5 8.5l.94-2.06 2.06-.94-2.06-.94L8.5 2.5l-.94 2.06-2.06.94zm10 10l.94 2.06.94-2.06 2.06-.94-2.06-.94-.94-2.06-.94 2.06-2.06.94z\"/><path d=\"M17.41 7.96l-1.37-1.37c-.4-.4-.92-.59-1.43-.59-.52 0-1.04.2-1.43.59L10.3 9.45l-7.72 7.72c-.78.78-.78 2.05 0 2.83L4 21.41c.39.39.9.59 1.41.59.51 0 1.02-.2 1.41-.59l7.78-7.78 2.81-2.81c.8-.78.8-2.07 0-2.86zM5.41 20L4 18.59l7.72-7.72 1.47 1.35L5.41 20z\"/>\n",
              "  </svg>\n",
              "      </button>\n",
              "      \n",
              "  <style>\n",
              "    .colab-df-container {\n",
              "      display:flex;\n",
              "      flex-wrap:wrap;\n",
              "      gap: 12px;\n",
              "    }\n",
              "\n",
              "    .colab-df-convert {\n",
              "      background-color: #E8F0FE;\n",
              "      border: none;\n",
              "      border-radius: 50%;\n",
              "      cursor: pointer;\n",
              "      display: none;\n",
              "      fill: #1967D2;\n",
              "      height: 32px;\n",
              "      padding: 0 0 0 0;\n",
              "      width: 32px;\n",
              "    }\n",
              "\n",
              "    .colab-df-convert:hover {\n",
              "      background-color: #E2EBFA;\n",
              "      box-shadow: 0px 1px 2px rgba(60, 64, 67, 0.3), 0px 1px 3px 1px rgba(60, 64, 67, 0.15);\n",
              "      fill: #174EA6;\n",
              "    }\n",
              "\n",
              "    [theme=dark] .colab-df-convert {\n",
              "      background-color: #3B4455;\n",
              "      fill: #D2E3FC;\n",
              "    }\n",
              "\n",
              "    [theme=dark] .colab-df-convert:hover {\n",
              "      background-color: #434B5C;\n",
              "      box-shadow: 0px 1px 3px 1px rgba(0, 0, 0, 0.15);\n",
              "      filter: drop-shadow(0px 1px 2px rgba(0, 0, 0, 0.3));\n",
              "      fill: #FFFFFF;\n",
              "    }\n",
              "  </style>\n",
              "\n",
              "      <script>\n",
              "        const buttonEl =\n",
              "          document.querySelector('#df-bc9dfd09-5b08-4b89-9b1b-ed22902542f4 button.colab-df-convert');\n",
              "        buttonEl.style.display =\n",
              "          google.colab.kernel.accessAllowed ? 'block' : 'none';\n",
              "\n",
              "        async function convertToInteractive(key) {\n",
              "          const element = document.querySelector('#df-bc9dfd09-5b08-4b89-9b1b-ed22902542f4');\n",
              "          const dataTable =\n",
              "            await google.colab.kernel.invokeFunction('convertToInteractive',\n",
              "                                                     [key], {});\n",
              "          if (!dataTable) return;\n",
              "\n",
              "          const docLinkHtml = 'Like what you see? Visit the ' +\n",
              "            '<a target=\"_blank\" href=https://colab.research.google.com/notebooks/data_table.ipynb>data table notebook</a>'\n",
              "            + ' to learn more about interactive tables.';\n",
              "          element.innerHTML = '';\n",
              "          dataTable['output_type'] = 'display_data';\n",
              "          await google.colab.output.renderOutput(dataTable, element);\n",
              "          const docLink = document.createElement('div');\n",
              "          docLink.innerHTML = docLinkHtml;\n",
              "          element.appendChild(docLink);\n",
              "        }\n",
              "      </script>\n",
              "    </div>\n",
              "  </div>\n",
              "  "
            ]
          },
          "metadata": {},
          "execution_count": 8
        }
      ]
    },
    {
      "cell_type": "markdown",
      "source": [
        "<br>\n",
        "\n",
        "df.loc[]의 큰 괄호 안에 참조하고자 하는 인덱스 이름을 넣어주어 가져올 수 있다."
      ],
      "metadata": {
        "id": "gsotwb3ETRVs"
      }
    },
    {
      "cell_type": "code",
      "source": [
        "df.loc['Korea']"
      ],
      "metadata": {
        "colab": {
          "base_uri": "https://localhost:8080/"
        },
        "id": "l0SHP7aATa5t",
        "outputId": "394f76bd-0b56-41c8-8aa7-589b07b74c67"
      },
      "execution_count": null,
      "outputs": [
        {
          "output_type": "execute_result",
          "data": {
            "text/plain": [
              "2007    4.04\n",
              "2008    3.78\n",
              "2009    3.45\n",
              "2010    4.20\n",
              "2011    4.62\n",
              "Name: Korea, dtype: float64"
            ]
          },
          "metadata": {},
          "execution_count": 9
        }
      ]
    },
    {
      "cell_type": "markdown",
      "source": [
        "<br>\n",
        "\n",
        "두 개 이상의 인덱스를 이용해 접근하는 경우, []가 아닌 [[]] 내부에 인덱스의 이름을 적어주어야 한다."
      ],
      "metadata": {
        "id": "70lLH6aKTeuT"
      }
    },
    {
      "cell_type": "code",
      "source": [
        "df.loc[['US', 'Korea']]  # ['US', 'Korea']는 오류"
      ],
      "metadata": {
        "id": "5hfTm-GJTm66"
      },
      "execution_count": null,
      "outputs": []
    },
    {
      "cell_type": "markdown",
      "source": [
        "<br>\n",
        "\n",
        "df['열']['행']을 이용하여 열 선택과 행 선택을 결합해 불러올 수 있다."
      ],
      "metadata": {
        "id": "i6o0uRwpTsTJ"
      }
    },
    {
      "cell_type": "code",
      "source": [
        "df['2011'][[0, 4]]  # 2011년도 열의 0번째와 4번째 행 추출"
      ],
      "metadata": {
        "colab": {
          "base_uri": "https://localhost:8080/"
        },
        "id": "yLmqtZ9YT2Rd",
        "outputId": "8a6f186e-0f86-4859-c84a-55c3eec2de02"
      },
      "execution_count": null,
      "outputs": [
        {
          "output_type": "execute_result",
          "data": {
            "text/plain": [
              "China    16.33\n",
              "Korea     4.62\n",
              "Name: 2011, dtype: float64"
            ]
          },
          "metadata": {},
          "execution_count": 10
        }
      ]
    },
    {
      "cell_type": "markdown",
      "source": [
        "<br>\n",
        "\n",
        "보다 상세하게 데이터프레임에서 특정한 요소 하나만을 선택하려면 간단하게 loc() 합수에 행과 열 레이블을 써주면 된다."
      ],
      "metadata": {
        "id": "MD1cNoxuUGAc"
      }
    },
    {
      "cell_type": "code",
      "source": [
        "df.loc['Korea', '2011']"
      ],
      "metadata": {
        "colab": {
          "base_uri": "https://localhost:8080/"
        },
        "id": "pnPgpjtcULgL",
        "outputId": "62b69aed-393d-432f-b747-4a9371f5d547"
      },
      "execution_count": null,
      "outputs": [
        {
          "output_type": "execute_result",
          "data": {
            "text/plain": [
              "4.62"
            ]
          },
          "metadata": {},
          "execution_count": 11
        }
      ]
    },
    {
      "cell_type": "markdown",
      "source": [
        "---\n",
        "\n",
        "<br>\n",
        "\n",
        "### 11. loc, iloc 인덱서\n",
        "\n",
        "<br>\n",
        "\n",
        "데이터프레임에서 특정한 데이터를 선택해 가져오는 방법은 다음과 같다.\n",
        "- head(), tail() 메소드 : 첫, 마지막 항목 중에서 지정된 개수를 가져옴.\n",
        "- [m:n]을 사용 : 지정된 구간 m, n의 항목을 가져옴.\n",
        "- loc[] : 인덱스에서 특정 레이블이 있는 행을 가져옴.\n",
        "- iloc[] : 인덱스에서 정수형 인덱스를 사용하여 특정 위치에 있는 행을 가져온다.\n",
        "\n",
        "<br>\n",
        "\n",
        "데이터프레임의 행 데이터를 가져오기 위해서는 입력된 문서에 대해 자동으로 색인을 작성해주는 프로그램인 인덱서가 필요하다."
      ],
      "metadata": {
        "id": "kmi9zDaVUOoG"
      }
    },
    {
      "cell_type": "code",
      "source": [
        "df = pd.read_csv(file, index_col = 0)\n",
        "df.head(3)['2009']  # 첫 3행의 2009년도 값만을 가져온다."
      ],
      "metadata": {
        "colab": {
          "base_uri": "https://localhost:8080/"
        },
        "id": "tNjlkDPgV_cu",
        "outputId": "8b8bceeb-5233-46f2-a03f-b69e12a77a7a"
      },
      "execution_count": null,
      "outputs": [
        {
          "output_type": "execute_result",
          "data": {
            "text/plain": [
              "China    11.96\n",
              "EU       15.00\n",
              "US        5.58\n",
              "Name: 2009, dtype: float64"
            ]
          },
          "metadata": {},
          "execution_count": 12
        }
      ]
    },
    {
      "cell_type": "markdown",
      "source": [
        "<br>\n",
        "\n",
        "iloc[]을 이용해 인덱싱도 가능하다.\n",
        "<br>df.loc['문자열']과 같이 df.iloc[정수]를 이용하여 해당 번째를 인덱스로 하는 항목을 열 형식으로 출력해 볼 수 있다."
      ],
      "metadata": {
        "id": "_v5_I81DWL65"
      }
    },
    {
      "cell_type": "code",
      "source": [
        "df.iloc[4]  # 단, 문자열을 넣으면 오류"
      ],
      "metadata": {
        "colab": {
          "base_uri": "https://localhost:8080/"
        },
        "id": "IAa4keTAWaez",
        "outputId": "b6ddd82f-f325-4f21-af44-de51f5979dd7"
      },
      "execution_count": null,
      "outputs": [
        {
          "output_type": "execute_result",
          "data": {
            "text/plain": [
              "2007    4.04\n",
              "2008    3.78\n",
              "2009    3.45\n",
              "2010    4.20\n",
              "2011    4.62\n",
              "Name: Korea, dtype: float64"
            ]
          },
          "metadata": {},
          "execution_count": 13
        }
      ]
    },
    {
      "cell_type": "markdown",
      "source": [
        "<br>\n",
        "\n",
        "loc[[]]과 마찬가지로 여러 개의 행 데이터를 읽어오기 위해서는 iloc[[]]를 이용해 데이터가 있는 곳의 정수 인덱스를 입력한다."
      ],
      "metadata": {
        "id": "9JqaUCyMWhf6"
      }
    },
    {
      "cell_type": "code",
      "source": [
        "df.iloc[[2, 4]]  # 단, df.iloc[2, 4]는 US행의 2011년 데이터 하나임."
      ],
      "metadata": {
        "colab": {
          "base_uri": "https://localhost:8080/",
          "height": 112
        },
        "id": "nalXw1X-Wo6F",
        "outputId": "1d382d38-e0cd-435a-9ca1-9427f6e879c2"
      },
      "execution_count": null,
      "outputs": [
        {
          "output_type": "execute_result",
          "data": {
            "text/plain": [
              "        2007  2008  2009  2010  2011\n",
              "US     10.47  8.45  5.58   7.6  8.40\n",
              "Korea   4.04  3.78  3.45   4.2  4.62"
            ],
            "text/html": [
              "\n",
              "  <div id=\"df-b67d3bb6-a630-429e-8c00-f884e8a6e645\">\n",
              "    <div class=\"colab-df-container\">\n",
              "      <div>\n",
              "<style scoped>\n",
              "    .dataframe tbody tr th:only-of-type {\n",
              "        vertical-align: middle;\n",
              "    }\n",
              "\n",
              "    .dataframe tbody tr th {\n",
              "        vertical-align: top;\n",
              "    }\n",
              "\n",
              "    .dataframe thead th {\n",
              "        text-align: right;\n",
              "    }\n",
              "</style>\n",
              "<table border=\"1\" class=\"dataframe\">\n",
              "  <thead>\n",
              "    <tr style=\"text-align: right;\">\n",
              "      <th></th>\n",
              "      <th>2007</th>\n",
              "      <th>2008</th>\n",
              "      <th>2009</th>\n",
              "      <th>2010</th>\n",
              "      <th>2011</th>\n",
              "    </tr>\n",
              "  </thead>\n",
              "  <tbody>\n",
              "    <tr>\n",
              "      <th>US</th>\n",
              "      <td>10.47</td>\n",
              "      <td>8.45</td>\n",
              "      <td>5.58</td>\n",
              "      <td>7.6</td>\n",
              "      <td>8.40</td>\n",
              "    </tr>\n",
              "    <tr>\n",
              "      <th>Korea</th>\n",
              "      <td>4.04</td>\n",
              "      <td>3.78</td>\n",
              "      <td>3.45</td>\n",
              "      <td>4.2</td>\n",
              "      <td>4.62</td>\n",
              "    </tr>\n",
              "  </tbody>\n",
              "</table>\n",
              "</div>\n",
              "      <button class=\"colab-df-convert\" onclick=\"convertToInteractive('df-b67d3bb6-a630-429e-8c00-f884e8a6e645')\"\n",
              "              title=\"Convert this dataframe to an interactive table.\"\n",
              "              style=\"display:none;\">\n",
              "        \n",
              "  <svg xmlns=\"http://www.w3.org/2000/svg\" height=\"24px\"viewBox=\"0 0 24 24\"\n",
              "       width=\"24px\">\n",
              "    <path d=\"M0 0h24v24H0V0z\" fill=\"none\"/>\n",
              "    <path d=\"M18.56 5.44l.94 2.06.94-2.06 2.06-.94-2.06-.94-.94-2.06-.94 2.06-2.06.94zm-11 1L8.5 8.5l.94-2.06 2.06-.94-2.06-.94L8.5 2.5l-.94 2.06-2.06.94zm10 10l.94 2.06.94-2.06 2.06-.94-2.06-.94-.94-2.06-.94 2.06-2.06.94z\"/><path d=\"M17.41 7.96l-1.37-1.37c-.4-.4-.92-.59-1.43-.59-.52 0-1.04.2-1.43.59L10.3 9.45l-7.72 7.72c-.78.78-.78 2.05 0 2.83L4 21.41c.39.39.9.59 1.41.59.51 0 1.02-.2 1.41-.59l7.78-7.78 2.81-2.81c.8-.78.8-2.07 0-2.86zM5.41 20L4 18.59l7.72-7.72 1.47 1.35L5.41 20z\"/>\n",
              "  </svg>\n",
              "      </button>\n",
              "      \n",
              "  <style>\n",
              "    .colab-df-container {\n",
              "      display:flex;\n",
              "      flex-wrap:wrap;\n",
              "      gap: 12px;\n",
              "    }\n",
              "\n",
              "    .colab-df-convert {\n",
              "      background-color: #E8F0FE;\n",
              "      border: none;\n",
              "      border-radius: 50%;\n",
              "      cursor: pointer;\n",
              "      display: none;\n",
              "      fill: #1967D2;\n",
              "      height: 32px;\n",
              "      padding: 0 0 0 0;\n",
              "      width: 32px;\n",
              "    }\n",
              "\n",
              "    .colab-df-convert:hover {\n",
              "      background-color: #E2EBFA;\n",
              "      box-shadow: 0px 1px 2px rgba(60, 64, 67, 0.3), 0px 1px 3px 1px rgba(60, 64, 67, 0.15);\n",
              "      fill: #174EA6;\n",
              "    }\n",
              "\n",
              "    [theme=dark] .colab-df-convert {\n",
              "      background-color: #3B4455;\n",
              "      fill: #D2E3FC;\n",
              "    }\n",
              "\n",
              "    [theme=dark] .colab-df-convert:hover {\n",
              "      background-color: #434B5C;\n",
              "      box-shadow: 0px 1px 3px 1px rgba(0, 0, 0, 0.15);\n",
              "      filter: drop-shadow(0px 1px 2px rgba(0, 0, 0, 0.3));\n",
              "      fill: #FFFFFF;\n",
              "    }\n",
              "  </style>\n",
              "\n",
              "      <script>\n",
              "        const buttonEl =\n",
              "          document.querySelector('#df-b67d3bb6-a630-429e-8c00-f884e8a6e645 button.colab-df-convert');\n",
              "        buttonEl.style.display =\n",
              "          google.colab.kernel.accessAllowed ? 'block' : 'none';\n",
              "\n",
              "        async function convertToInteractive(key) {\n",
              "          const element = document.querySelector('#df-b67d3bb6-a630-429e-8c00-f884e8a6e645');\n",
              "          const dataTable =\n",
              "            await google.colab.kernel.invokeFunction('convertToInteractive',\n",
              "                                                     [key], {});\n",
              "          if (!dataTable) return;\n",
              "\n",
              "          const docLinkHtml = 'Like what you see? Visit the ' +\n",
              "            '<a target=\"_blank\" href=https://colab.research.google.com/notebooks/data_table.ipynb>data table notebook</a>'\n",
              "            + ' to learn more about interactive tables.';\n",
              "          element.innerHTML = '';\n",
              "          dataTable['output_type'] = 'display_data';\n",
              "          await google.colab.output.renderOutput(dataTable, element);\n",
              "          const docLink = document.createElement('div');\n",
              "          docLink.innerHTML = docLinkHtml;\n",
              "          element.appendChild(docLink);\n",
              "        }\n",
              "      </script>\n",
              "    </div>\n",
              "  </div>\n",
              "  "
            ]
          },
          "metadata": {},
          "execution_count": 14
        }
      ]
    },
    {
      "cell_type": "code",
      "source": [
        "df.iloc[2, 4]"
      ],
      "metadata": {
        "colab": {
          "base_uri": "https://localhost:8080/"
        },
        "id": "zoWZ9sjkWv6f",
        "outputId": "1682ad84-330e-4183-f9cc-c0ca43aacdaa"
      },
      "execution_count": null,
      "outputs": [
        {
          "output_type": "execute_result",
          "data": {
            "text/plain": [
              "8.4"
            ]
          },
          "metadata": {},
          "execution_count": 15
        }
      ]
    },
    {
      "cell_type": "markdown",
      "source": [
        "<br>\n",
        "\n",
        "iloc 속성을 사용해 df.iloc[2:4]와 같이 슬라이싱 할 경우, df[2:4]와 같은 결과를 얻을 수 있다. 이는 df.iloc[[2, 3]]과도 동일하다."
      ],
      "metadata": {
        "id": "ZhTe_oWYWya_"
      }
    },
    {
      "cell_type": "code",
      "source": [
        "df.iloc[2:4]"
      ],
      "metadata": {
        "colab": {
          "base_uri": "https://localhost:8080/",
          "height": 112
        },
        "id": "dko06VQ3W7y3",
        "outputId": "8302de7f-8e33-4ca7-cfb4-92a8c9c0a285"
      },
      "execution_count": null,
      "outputs": [
        {
          "output_type": "execute_result",
          "data": {
            "text/plain": [
              "        2007   2008  2009  2010  2011\n",
              "US     10.47   8.45  5.58  7.60  8.40\n",
              "Japan  10.87  10.83  7.55  9.09  7.88"
            ],
            "text/html": [
              "\n",
              "  <div id=\"df-0057f6be-555b-4eac-a110-9c83f1913023\">\n",
              "    <div class=\"colab-df-container\">\n",
              "      <div>\n",
              "<style scoped>\n",
              "    .dataframe tbody tr th:only-of-type {\n",
              "        vertical-align: middle;\n",
              "    }\n",
              "\n",
              "    .dataframe tbody tr th {\n",
              "        vertical-align: top;\n",
              "    }\n",
              "\n",
              "    .dataframe thead th {\n",
              "        text-align: right;\n",
              "    }\n",
              "</style>\n",
              "<table border=\"1\" class=\"dataframe\">\n",
              "  <thead>\n",
              "    <tr style=\"text-align: right;\">\n",
              "      <th></th>\n",
              "      <th>2007</th>\n",
              "      <th>2008</th>\n",
              "      <th>2009</th>\n",
              "      <th>2010</th>\n",
              "      <th>2011</th>\n",
              "    </tr>\n",
              "  </thead>\n",
              "  <tbody>\n",
              "    <tr>\n",
              "      <th>US</th>\n",
              "      <td>10.47</td>\n",
              "      <td>8.45</td>\n",
              "      <td>5.58</td>\n",
              "      <td>7.60</td>\n",
              "      <td>8.40</td>\n",
              "    </tr>\n",
              "    <tr>\n",
              "      <th>Japan</th>\n",
              "      <td>10.87</td>\n",
              "      <td>10.83</td>\n",
              "      <td>7.55</td>\n",
              "      <td>9.09</td>\n",
              "      <td>7.88</td>\n",
              "    </tr>\n",
              "  </tbody>\n",
              "</table>\n",
              "</div>\n",
              "      <button class=\"colab-df-convert\" onclick=\"convertToInteractive('df-0057f6be-555b-4eac-a110-9c83f1913023')\"\n",
              "              title=\"Convert this dataframe to an interactive table.\"\n",
              "              style=\"display:none;\">\n",
              "        \n",
              "  <svg xmlns=\"http://www.w3.org/2000/svg\" height=\"24px\"viewBox=\"0 0 24 24\"\n",
              "       width=\"24px\">\n",
              "    <path d=\"M0 0h24v24H0V0z\" fill=\"none\"/>\n",
              "    <path d=\"M18.56 5.44l.94 2.06.94-2.06 2.06-.94-2.06-.94-.94-2.06-.94 2.06-2.06.94zm-11 1L8.5 8.5l.94-2.06 2.06-.94-2.06-.94L8.5 2.5l-.94 2.06-2.06.94zm10 10l.94 2.06.94-2.06 2.06-.94-2.06-.94-.94-2.06-.94 2.06-2.06.94z\"/><path d=\"M17.41 7.96l-1.37-1.37c-.4-.4-.92-.59-1.43-.59-.52 0-1.04.2-1.43.59L10.3 9.45l-7.72 7.72c-.78.78-.78 2.05 0 2.83L4 21.41c.39.39.9.59 1.41.59.51 0 1.02-.2 1.41-.59l7.78-7.78 2.81-2.81c.8-.78.8-2.07 0-2.86zM5.41 20L4 18.59l7.72-7.72 1.47 1.35L5.41 20z\"/>\n",
              "  </svg>\n",
              "      </button>\n",
              "      \n",
              "  <style>\n",
              "    .colab-df-container {\n",
              "      display:flex;\n",
              "      flex-wrap:wrap;\n",
              "      gap: 12px;\n",
              "    }\n",
              "\n",
              "    .colab-df-convert {\n",
              "      background-color: #E8F0FE;\n",
              "      border: none;\n",
              "      border-radius: 50%;\n",
              "      cursor: pointer;\n",
              "      display: none;\n",
              "      fill: #1967D2;\n",
              "      height: 32px;\n",
              "      padding: 0 0 0 0;\n",
              "      width: 32px;\n",
              "    }\n",
              "\n",
              "    .colab-df-convert:hover {\n",
              "      background-color: #E2EBFA;\n",
              "      box-shadow: 0px 1px 2px rgba(60, 64, 67, 0.3), 0px 1px 3px 1px rgba(60, 64, 67, 0.15);\n",
              "      fill: #174EA6;\n",
              "    }\n",
              "\n",
              "    [theme=dark] .colab-df-convert {\n",
              "      background-color: #3B4455;\n",
              "      fill: #D2E3FC;\n",
              "    }\n",
              "\n",
              "    [theme=dark] .colab-df-convert:hover {\n",
              "      background-color: #434B5C;\n",
              "      box-shadow: 0px 1px 3px 1px rgba(0, 0, 0, 0.15);\n",
              "      filter: drop-shadow(0px 1px 2px rgba(0, 0, 0, 0.3));\n",
              "      fill: #FFFFFF;\n",
              "    }\n",
              "  </style>\n",
              "\n",
              "      <script>\n",
              "        const buttonEl =\n",
              "          document.querySelector('#df-0057f6be-555b-4eac-a110-9c83f1913023 button.colab-df-convert');\n",
              "        buttonEl.style.display =\n",
              "          google.colab.kernel.accessAllowed ? 'block' : 'none';\n",
              "\n",
              "        async function convertToInteractive(key) {\n",
              "          const element = document.querySelector('#df-0057f6be-555b-4eac-a110-9c83f1913023');\n",
              "          const dataTable =\n",
              "            await google.colab.kernel.invokeFunction('convertToInteractive',\n",
              "                                                     [key], {});\n",
              "          if (!dataTable) return;\n",
              "\n",
              "          const docLinkHtml = 'Like what you see? Visit the ' +\n",
              "            '<a target=\"_blank\" href=https://colab.research.google.com/notebooks/data_table.ipynb>data table notebook</a>'\n",
              "            + ' to learn more about interactive tables.';\n",
              "          element.innerHTML = '';\n",
              "          dataTable['output_type'] = 'display_data';\n",
              "          await google.colab.output.renderOutput(dataTable, element);\n",
              "          const docLink = document.createElement('div');\n",
              "          docLink.innerHTML = docLinkHtml;\n",
              "          element.appendChild(docLink);\n",
              "        }\n",
              "      </script>\n",
              "    </div>\n",
              "  </div>\n",
              "  "
            ]
          },
          "metadata": {},
          "execution_count": 17
        }
      ]
    },
    {
      "cell_type": "code",
      "source": [
        "df[2:4]"
      ],
      "metadata": {
        "colab": {
          "base_uri": "https://localhost:8080/",
          "height": 112
        },
        "id": "RTTy_IGYXArx",
        "outputId": "ef4dae01-befd-4293-9616-ecb0b18dd4e5"
      },
      "execution_count": null,
      "outputs": [
        {
          "output_type": "execute_result",
          "data": {
            "text/plain": [
              "        2007   2008  2009  2010  2011\n",
              "US     10.47   8.45  5.58  7.60  8.40\n",
              "Japan  10.87  10.83  7.55  9.09  7.88"
            ],
            "text/html": [
              "\n",
              "  <div id=\"df-5f9ac9a6-0df9-4c57-bc74-bc99543115e4\">\n",
              "    <div class=\"colab-df-container\">\n",
              "      <div>\n",
              "<style scoped>\n",
              "    .dataframe tbody tr th:only-of-type {\n",
              "        vertical-align: middle;\n",
              "    }\n",
              "\n",
              "    .dataframe tbody tr th {\n",
              "        vertical-align: top;\n",
              "    }\n",
              "\n",
              "    .dataframe thead th {\n",
              "        text-align: right;\n",
              "    }\n",
              "</style>\n",
              "<table border=\"1\" class=\"dataframe\">\n",
              "  <thead>\n",
              "    <tr style=\"text-align: right;\">\n",
              "      <th></th>\n",
              "      <th>2007</th>\n",
              "      <th>2008</th>\n",
              "      <th>2009</th>\n",
              "      <th>2010</th>\n",
              "      <th>2011</th>\n",
              "    </tr>\n",
              "  </thead>\n",
              "  <tbody>\n",
              "    <tr>\n",
              "      <th>US</th>\n",
              "      <td>10.47</td>\n",
              "      <td>8.45</td>\n",
              "      <td>5.58</td>\n",
              "      <td>7.60</td>\n",
              "      <td>8.40</td>\n",
              "    </tr>\n",
              "    <tr>\n",
              "      <th>Japan</th>\n",
              "      <td>10.87</td>\n",
              "      <td>10.83</td>\n",
              "      <td>7.55</td>\n",
              "      <td>9.09</td>\n",
              "      <td>7.88</td>\n",
              "    </tr>\n",
              "  </tbody>\n",
              "</table>\n",
              "</div>\n",
              "      <button class=\"colab-df-convert\" onclick=\"convertToInteractive('df-5f9ac9a6-0df9-4c57-bc74-bc99543115e4')\"\n",
              "              title=\"Convert this dataframe to an interactive table.\"\n",
              "              style=\"display:none;\">\n",
              "        \n",
              "  <svg xmlns=\"http://www.w3.org/2000/svg\" height=\"24px\"viewBox=\"0 0 24 24\"\n",
              "       width=\"24px\">\n",
              "    <path d=\"M0 0h24v24H0V0z\" fill=\"none\"/>\n",
              "    <path d=\"M18.56 5.44l.94 2.06.94-2.06 2.06-.94-2.06-.94-.94-2.06-.94 2.06-2.06.94zm-11 1L8.5 8.5l.94-2.06 2.06-.94-2.06-.94L8.5 2.5l-.94 2.06-2.06.94zm10 10l.94 2.06.94-2.06 2.06-.94-2.06-.94-.94-2.06-.94 2.06-2.06.94z\"/><path d=\"M17.41 7.96l-1.37-1.37c-.4-.4-.92-.59-1.43-.59-.52 0-1.04.2-1.43.59L10.3 9.45l-7.72 7.72c-.78.78-.78 2.05 0 2.83L4 21.41c.39.39.9.59 1.41.59.51 0 1.02-.2 1.41-.59l7.78-7.78 2.81-2.81c.8-.78.8-2.07 0-2.86zM5.41 20L4 18.59l7.72-7.72 1.47 1.35L5.41 20z\"/>\n",
              "  </svg>\n",
              "      </button>\n",
              "      \n",
              "  <style>\n",
              "    .colab-df-container {\n",
              "      display:flex;\n",
              "      flex-wrap:wrap;\n",
              "      gap: 12px;\n",
              "    }\n",
              "\n",
              "    .colab-df-convert {\n",
              "      background-color: #E8F0FE;\n",
              "      border: none;\n",
              "      border-radius: 50%;\n",
              "      cursor: pointer;\n",
              "      display: none;\n",
              "      fill: #1967D2;\n",
              "      height: 32px;\n",
              "      padding: 0 0 0 0;\n",
              "      width: 32px;\n",
              "    }\n",
              "\n",
              "    .colab-df-convert:hover {\n",
              "      background-color: #E2EBFA;\n",
              "      box-shadow: 0px 1px 2px rgba(60, 64, 67, 0.3), 0px 1px 3px 1px rgba(60, 64, 67, 0.15);\n",
              "      fill: #174EA6;\n",
              "    }\n",
              "\n",
              "    [theme=dark] .colab-df-convert {\n",
              "      background-color: #3B4455;\n",
              "      fill: #D2E3FC;\n",
              "    }\n",
              "\n",
              "    [theme=dark] .colab-df-convert:hover {\n",
              "      background-color: #434B5C;\n",
              "      box-shadow: 0px 1px 3px 1px rgba(0, 0, 0, 0.15);\n",
              "      filter: drop-shadow(0px 1px 2px rgba(0, 0, 0, 0.3));\n",
              "      fill: #FFFFFF;\n",
              "    }\n",
              "  </style>\n",
              "\n",
              "      <script>\n",
              "        const buttonEl =\n",
              "          document.querySelector('#df-5f9ac9a6-0df9-4c57-bc74-bc99543115e4 button.colab-df-convert');\n",
              "        buttonEl.style.display =\n",
              "          google.colab.kernel.accessAllowed ? 'block' : 'none';\n",
              "\n",
              "        async function convertToInteractive(key) {\n",
              "          const element = document.querySelector('#df-5f9ac9a6-0df9-4c57-bc74-bc99543115e4');\n",
              "          const dataTable =\n",
              "            await google.colab.kernel.invokeFunction('convertToInteractive',\n",
              "                                                     [key], {});\n",
              "          if (!dataTable) return;\n",
              "\n",
              "          const docLinkHtml = 'Like what you see? Visit the ' +\n",
              "            '<a target=\"_blank\" href=https://colab.research.google.com/notebooks/data_table.ipynb>data table notebook</a>'\n",
              "            + ' to learn more about interactive tables.';\n",
              "          element.innerHTML = '';\n",
              "          dataTable['output_type'] = 'display_data';\n",
              "          await google.colab.output.renderOutput(dataTable, element);\n",
              "          const docLink = document.createElement('div');\n",
              "          docLink.innerHTML = docLinkHtml;\n",
              "          element.appendChild(docLink);\n",
              "        }\n",
              "      </script>\n",
              "    </div>\n",
              "  </div>\n",
              "  "
            ]
          },
          "metadata": {},
          "execution_count": 18
        }
      ]
    },
    {
      "cell_type": "code",
      "source": [
        "df.iloc[[2, 3]]"
      ],
      "metadata": {
        "colab": {
          "base_uri": "https://localhost:8080/",
          "height": 112
        },
        "id": "2htm1BBnXCpW",
        "outputId": "454ffa75-4353-4af8-c55b-885b7cd6f0cb"
      },
      "execution_count": null,
      "outputs": [
        {
          "output_type": "execute_result",
          "data": {
            "text/plain": [
              "        2007   2008  2009  2010  2011\n",
              "US     10.47   8.45  5.58  7.60  8.40\n",
              "Japan  10.87  10.83  7.55  9.09  7.88"
            ],
            "text/html": [
              "\n",
              "  <div id=\"df-a00b881a-ba91-48cf-a335-f8e79b1db374\">\n",
              "    <div class=\"colab-df-container\">\n",
              "      <div>\n",
              "<style scoped>\n",
              "    .dataframe tbody tr th:only-of-type {\n",
              "        vertical-align: middle;\n",
              "    }\n",
              "\n",
              "    .dataframe tbody tr th {\n",
              "        vertical-align: top;\n",
              "    }\n",
              "\n",
              "    .dataframe thead th {\n",
              "        text-align: right;\n",
              "    }\n",
              "</style>\n",
              "<table border=\"1\" class=\"dataframe\">\n",
              "  <thead>\n",
              "    <tr style=\"text-align: right;\">\n",
              "      <th></th>\n",
              "      <th>2007</th>\n",
              "      <th>2008</th>\n",
              "      <th>2009</th>\n",
              "      <th>2010</th>\n",
              "      <th>2011</th>\n",
              "    </tr>\n",
              "  </thead>\n",
              "  <tbody>\n",
              "    <tr>\n",
              "      <th>US</th>\n",
              "      <td>10.47</td>\n",
              "      <td>8.45</td>\n",
              "      <td>5.58</td>\n",
              "      <td>7.60</td>\n",
              "      <td>8.40</td>\n",
              "    </tr>\n",
              "    <tr>\n",
              "      <th>Japan</th>\n",
              "      <td>10.87</td>\n",
              "      <td>10.83</td>\n",
              "      <td>7.55</td>\n",
              "      <td>9.09</td>\n",
              "      <td>7.88</td>\n",
              "    </tr>\n",
              "  </tbody>\n",
              "</table>\n",
              "</div>\n",
              "      <button class=\"colab-df-convert\" onclick=\"convertToInteractive('df-a00b881a-ba91-48cf-a335-f8e79b1db374')\"\n",
              "              title=\"Convert this dataframe to an interactive table.\"\n",
              "              style=\"display:none;\">\n",
              "        \n",
              "  <svg xmlns=\"http://www.w3.org/2000/svg\" height=\"24px\"viewBox=\"0 0 24 24\"\n",
              "       width=\"24px\">\n",
              "    <path d=\"M0 0h24v24H0V0z\" fill=\"none\"/>\n",
              "    <path d=\"M18.56 5.44l.94 2.06.94-2.06 2.06-.94-2.06-.94-.94-2.06-.94 2.06-2.06.94zm-11 1L8.5 8.5l.94-2.06 2.06-.94-2.06-.94L8.5 2.5l-.94 2.06-2.06.94zm10 10l.94 2.06.94-2.06 2.06-.94-2.06-.94-.94-2.06-.94 2.06-2.06.94z\"/><path d=\"M17.41 7.96l-1.37-1.37c-.4-.4-.92-.59-1.43-.59-.52 0-1.04.2-1.43.59L10.3 9.45l-7.72 7.72c-.78.78-.78 2.05 0 2.83L4 21.41c.39.39.9.59 1.41.59.51 0 1.02-.2 1.41-.59l7.78-7.78 2.81-2.81c.8-.78.8-2.07 0-2.86zM5.41 20L4 18.59l7.72-7.72 1.47 1.35L5.41 20z\"/>\n",
              "  </svg>\n",
              "      </button>\n",
              "      \n",
              "  <style>\n",
              "    .colab-df-container {\n",
              "      display:flex;\n",
              "      flex-wrap:wrap;\n",
              "      gap: 12px;\n",
              "    }\n",
              "\n",
              "    .colab-df-convert {\n",
              "      background-color: #E8F0FE;\n",
              "      border: none;\n",
              "      border-radius: 50%;\n",
              "      cursor: pointer;\n",
              "      display: none;\n",
              "      fill: #1967D2;\n",
              "      height: 32px;\n",
              "      padding: 0 0 0 0;\n",
              "      width: 32px;\n",
              "    }\n",
              "\n",
              "    .colab-df-convert:hover {\n",
              "      background-color: #E2EBFA;\n",
              "      box-shadow: 0px 1px 2px rgba(60, 64, 67, 0.3), 0px 1px 3px 1px rgba(60, 64, 67, 0.15);\n",
              "      fill: #174EA6;\n",
              "    }\n",
              "\n",
              "    [theme=dark] .colab-df-convert {\n",
              "      background-color: #3B4455;\n",
              "      fill: #D2E3FC;\n",
              "    }\n",
              "\n",
              "    [theme=dark] .colab-df-convert:hover {\n",
              "      background-color: #434B5C;\n",
              "      box-shadow: 0px 1px 3px 1px rgba(0, 0, 0, 0.15);\n",
              "      filter: drop-shadow(0px 1px 2px rgba(0, 0, 0, 0.3));\n",
              "      fill: #FFFFFF;\n",
              "    }\n",
              "  </style>\n",
              "\n",
              "      <script>\n",
              "        const buttonEl =\n",
              "          document.querySelector('#df-a00b881a-ba91-48cf-a335-f8e79b1db374 button.colab-df-convert');\n",
              "        buttonEl.style.display =\n",
              "          google.colab.kernel.accessAllowed ? 'block' : 'none';\n",
              "\n",
              "        async function convertToInteractive(key) {\n",
              "          const element = document.querySelector('#df-a00b881a-ba91-48cf-a335-f8e79b1db374');\n",
              "          const dataTable =\n",
              "            await google.colab.kernel.invokeFunction('convertToInteractive',\n",
              "                                                     [key], {});\n",
              "          if (!dataTable) return;\n",
              "\n",
              "          const docLinkHtml = 'Like what you see? Visit the ' +\n",
              "            '<a target=\"_blank\" href=https://colab.research.google.com/notebooks/data_table.ipynb>data table notebook</a>'\n",
              "            + ' to learn more about interactive tables.';\n",
              "          element.innerHTML = '';\n",
              "          dataTable['output_type'] = 'display_data';\n",
              "          await google.colab.output.renderOutput(dataTable, element);\n",
              "          const docLink = document.createElement('div');\n",
              "          docLink.innerHTML = docLinkHtml;\n",
              "          element.appendChild(docLink);\n",
              "        }\n",
              "      </script>\n",
              "    </div>\n",
              "  </div>\n",
              "  "
            ]
          },
          "metadata": {},
          "execution_count": 19
        }
      ]
    },
    {
      "cell_type": "markdown",
      "source": [
        "---\n",
        "\n",
        "<br>\n",
        "\n",
        "### 12. 판다스를 이용한 기상 데이터 분석\n",
        "\n",
        "<br>\n",
        "\n",
        "describe() 함수를 이용해 데이터프레임에 저장한 데이터를 간단하게 분석할 수 있다.\n",
        "<br>데이터를 읽어올 때 파일에 한글이 포함되어 있으면 encoding='CP949'로 지정하여 한글 인코딩 방식을 알려주어야 한다."
      ],
      "metadata": {
        "id": "jTVt2cXvXDOp"
      }
    },
    {
      "cell_type": "code",
      "source": [
        "weather_file = path + 'weather.csv'\n",
        "\n",
        "weather = pd.read_csv(weather_file, index_col = 0, encoding = 'CP949')\n",
        "print(weather.head(3))\n",
        "print('weather 데이터의 shape :', weather.shape)"
      ],
      "metadata": {
        "colab": {
          "base_uri": "https://localhost:8080/"
        },
        "id": "Fv8Romg4b-5b",
        "outputId": "df7bf541-ee32-4f64-937a-ca4ce79581f4"
      },
      "execution_count": 5,
      "outputs": [
        {
          "output_type": "stream",
          "name": "stdout",
          "text": [
            "            평균기온  최대풍속  평균풍속\n",
            "일시                          \n",
            "2010-08-01  28.7   8.3   3.4\n",
            "2010-08-02  25.2   8.7   3.8\n",
            "2010-08-03  22.1   6.3   2.9\n",
            "weather 데이터의 shape : (3653, 3)\n"
          ]
        }
      ]
    },
    {
      "cell_type": "markdown",
      "source": [
        "이 데이터는 날짜 정보와 해당일의 평균 기온, 최대 풍속, 평균 풍속 정보를 가지고 있는 테이블로, 2653개의 행과 3개의 속성값을 가진다는 것을 알 수 있다.\n",
        "\n",
        "<br>\n",
        "\n",
        "describe() 함수를 이용하여 데이터가 담고 있는 내용을 간략히 분석할 수 있다."
      ],
      "metadata": {
        "id": "kO4gJv5CcPB_"
      }
    },
    {
      "cell_type": "code",
      "source": [
        "print(weather.describe())"
      ],
      "metadata": {
        "colab": {
          "base_uri": "https://localhost:8080/"
        },
        "id": "5tChgIOuce-r",
        "outputId": "c0292603-d081-4977-96bc-63bf55336eb1"
      },
      "execution_count": null,
      "outputs": [
        {
          "output_type": "stream",
          "name": "stdout",
          "text": [
            "              평균기온         최대풍속         평균풍속\n",
            "count  3653.000000  3649.000000  3647.000000\n",
            "mean     12.942102     7.911099     3.936441\n",
            "std       8.538507     3.029862     1.888473\n",
            "min      -9.000000     2.000000     0.200000\n",
            "25%       5.400000     5.700000     2.500000\n",
            "50%      13.800000     7.600000     3.600000\n",
            "75%      20.100000     9.700000     5.000000\n",
            "max      31.300000    26.000000    14.900000\n"
          ]
        }
      ]
    },
    {
      "cell_type": "markdown",
      "source": [
        "describe() 메소드를 통해 각 속성값들의 개수(count), 평균값(mean), 표준편차(std), 최소값(min), 최대값(max) 등을 쉽게 알 수 있다.\n",
        "<br>이 데이터는 모두 수치 데이터로 처리되기 때문에 만약 문자열을 담고있는 열이 있다면 해당 열은 분석에서 제외된다.\n",
        "\n",
        "<br>\n",
        "\n",
        "이 기능은 mean(), std() 함수를 통해 특정 분석값만 볼 수도 있다."
      ],
      "metadata": {
        "id": "7z8UAp2_cjCH"
      }
    },
    {
      "cell_type": "code",
      "source": [
        "print('평균 분석-------------------------')\n",
        "print(weather.mean())\n",
        "print('표준편차 분석---------------------')\n",
        "print(weather.std())"
      ],
      "metadata": {
        "colab": {
          "base_uri": "https://localhost:8080/"
        },
        "id": "17lsrZm2diTc",
        "outputId": "a5cb5411-fdc3-41da-e179-3af20bb9a933"
      },
      "execution_count": null,
      "outputs": [
        {
          "output_type": "stream",
          "name": "stdout",
          "text": [
            "평균 분석-------------------------\n",
            "평균기온    12.942102\n",
            "최대풍속     7.911099\n",
            "평균풍속     3.936441\n",
            "dtype: float64\n",
            "표준편차 분석---------------------\n",
            "평균기온    8.538507\n",
            "최대풍속    3.029862\n",
            "평균풍속    1.888473\n",
            "dtype: float64\n"
          ]
        }
      ]
    },
    {
      "cell_type": "markdown",
      "source": [
        "<br>\n",
        "\n",
        "판다스의 표준편차는 디폴트로 베셀 보정을 적용한다. 이는 표준편차를 구할 때, 표본 크기 n 대신에 n-1을 적용하는 것으로, 모분산 추정에서 편향을 보정하는 역할을 한다.\n",
        "\n",
        "<br>\n",
        "\n",
        "### 도전문제 : 전체 데이터에 대하여 최대풍속과 평균풍속의 최대값을 각각 출력하라."
      ],
      "metadata": {
        "id": "XLZ92wtadtYe"
      }
    },
    {
      "cell_type": "code",
      "source": [
        "print('최대 풍속의 최대값    ', weather.max()[1])\n",
        "print('평균 풍속의 최대값    ', weather.max()[2])"
      ],
      "metadata": {
        "colab": {
          "base_uri": "https://localhost:8080/"
        },
        "id": "KYPUm8K4d8su",
        "outputId": "83ee4359-6135-406b-f483-61d92305ef31"
      },
      "execution_count": null,
      "outputs": [
        {
          "output_type": "stream",
          "name": "stdout",
          "text": [
            "최대 풍속의 최대값     26.0\n",
            "평균 풍속의 최대값     14.9\n"
          ]
        }
      ]
    },
    {
      "cell_type": "markdown",
      "source": [
        "*weather.max() 함수를 이용하여 최대값들을 구하고, 1번째와 2번째 행만 추출하여 최대풍속/평균풍속의 값을 출력하였다.*"
      ],
      "metadata": {
        "id": "7_HwXSNceg4x"
      }
    },
    {
      "cell_type": "markdown",
      "source": [
        "---\n",
        "\n",
        "<br>\n",
        "\n",
        "### 13. 데이터 정제와 결손값의 처리\n",
        "\n",
        "<br>\n",
        "\n",
        "데이터 과학과 머신러닝에서 사용하는 데이터는 현실 세계에서 수집하는 과정에서 상당한 수의 오류값과 결손값을 가지고 있다. 따라서 데이터를 처리하기 전에 반드시 데이터 정제 과정을 거쳐야 한다.\n",
        "\n",
        "<br>\n",
        "\n",
        "개별적인 열의 개수를 알고 싶다면 count() 메소드를 사용할 수 있다."
      ],
      "metadata": {
        "id": "gvQEH7EvestI"
      }
    },
    {
      "cell_type": "code",
      "source": [
        "weather.count()"
      ],
      "metadata": {
        "colab": {
          "base_uri": "https://localhost:8080/"
        },
        "id": "BCI3eKvGe_56",
        "outputId": "59810a75-7f6e-4bea-fa3f-0ecb9978b991"
      },
      "execution_count": null,
      "outputs": [
        {
          "output_type": "execute_result",
          "data": {
            "text/plain": [
              "평균기온    3653\n",
              "최대풍속    3649\n",
              "평균풍속    3647\n",
              "dtype: int64"
            ]
          },
          "metadata": {},
          "execution_count": 31
        }
      ]
    },
    {
      "cell_type": "markdown",
      "source": [
        "데이터가 수집되는 중에 값이 입력되지 못해 비어있는 결손값이 존재함을 알 수 있다.\n",
        "\n",
        "<br>\n",
        "\n",
        "데이터에 결손값이 있는지 불린 값으로 반환하는 메소드는 isna()이다. "
      ],
      "metadata": {
        "id": "XjNTPVrrfCvo"
      }
    },
    {
      "cell_type": "code",
      "source": [
        "missing_data = weather[weather['평균풍속'].isna()]  # 문자열을 바꾸면 다른 열의 결손값 또한 확인 가능하다.\n",
        "print(missing_data)"
      ],
      "metadata": {
        "colab": {
          "base_uri": "https://localhost:8080/"
        },
        "id": "j781ouLRfQWJ",
        "outputId": "83db5b4a-55d6-451d-c3e7-1240fe3fe882"
      },
      "execution_count": null,
      "outputs": [
        {
          "output_type": "stream",
          "name": "stdout",
          "text": [
            "            평균기온  최대풍속  평균풍속\n",
            "일시                          \n",
            "2012-02-11  -0.7   NaN   NaN\n",
            "2012-02-12   0.4   NaN   NaN\n",
            "2012-02-13   4.0   NaN   NaN\n",
            "2015-03-22  10.1  11.6   NaN\n",
            "2015-04-01   7.3  12.1   NaN\n",
            "2019-04-18  15.7  11.7   NaN\n"
          ]
        }
      ]
    },
    {
      "cell_type": "markdown",
      "source": [
        "<br>\n",
        "\n",
        "결손값을 다루는 가장 간단한 방법은 결손값을 가진 행이나 열 전체를 삭제하는 것이다.\n",
        "<br>dropna() 메소드를 이용해 결손값을 가진 행이나 열을 삭제할 수 있다.\n",
        "<br>\n",
        "\n",
        "결손값을 다루는 또 다른 방법은 결손값을 깨끗한 다른 값으로 교체하는 것이다.\n",
        "<br>\n",
        "fillna() 메소드를 사용하면 특정한 값을 다른 값으로 교체한다."
      ],
      "metadata": {
        "id": "4BhwhjiUfcQK"
      }
    },
    {
      "cell_type": "code",
      "source": [
        "weather.fillna(0, inplace = True)  # 결손값을 0으로 채우고 inplace를 True로 설정해 원본 데이터를 수정\n",
        "print(weather.loc['2012-02-11'])"
      ],
      "metadata": {
        "colab": {
          "base_uri": "https://localhost:8080/"
        },
        "id": "71nLKG3Jg-eT",
        "outputId": "8edd5535-d6c4-44e7-f546-ceab8e01b787"
      },
      "execution_count": null,
      "outputs": [
        {
          "output_type": "stream",
          "name": "stdout",
          "text": [
            "평균기온   -0.7\n",
            "최대풍속    0.0\n",
            "평균풍속    0.0\n",
            "Name: 2012-02-11, dtype: float64\n"
          ]
        }
      ]
    },
    {
      "cell_type": "markdown",
      "source": [
        "<br>\n",
        "\n",
        "그러나 결손값을 단순히 0으로 채우게 되면 전체 데이터의 대표값인 평균값을 왜곡할 수 있다. 따라서 mean()함수를 활용하여 0 대신 해당 열의 평균치로 채울 수 있다."
      ],
      "metadata": {
        "id": "f9PZ91OVhQdp"
      }
    },
    {
      "cell_type": "code",
      "source": [
        "# 위 코드를 실행했다면 이전 코드들을 다시 실행하고 실행할 것\n",
        "weather.fillna(weather['평균풍속'].mean(), inplace = True)\n",
        "print(weather.loc['2012-02-11'])"
      ],
      "metadata": {
        "colab": {
          "base_uri": "https://localhost:8080/"
        },
        "id": "0HdEMeXWh59l",
        "outputId": "1eaba882-9e7d-49ee-e3ce-d4987f0eda50"
      },
      "execution_count": null,
      "outputs": [
        {
          "output_type": "stream",
          "name": "stdout",
          "text": [
            "평균기온   -0.700000\n",
            "최대풍속    3.936441\n",
            "평균풍속    3.936441\n",
            "Name: 2012-02-11, dtype: float64\n"
          ]
        }
      ]
    },
    {
      "cell_type": "markdown",
      "source": [
        "---\n",
        "\n",
        "<br>\n",
        "\n",
        "14. 시계열 자료 분석을 위한 DatetimeIndex\n",
        "\n",
        "<br>\n",
        "\n",
        "시계열 데이터란 시간의 흐름에 따라 순차적으로 관측한 값들의 집합이다.\n",
        "<br>\n",
        "\n",
        "판다스는 이러한 시계열 데이터를 효과적으로 인덱싱하는 클래스를 제공한다. 판다스의 DatetimeIndex는 특정한 순간에 기록된 타임스탬프 형식의 시계열 자료를 다루기 위한 용도로 사용된다.\n",
        "<br> DatetimeIndex 클래스는 다양한 표기법에 대해서도 효율적인 파싱을 수행하여 필요한 정보들을 손쉽게 추출할 수 있다."
      ],
      "metadata": {
        "id": "Ip6OXeGqiKCT"
      }
    },
    {
      "cell_type": "code",
      "source": [
        "d_list = [\"01/03/2018\", \"01-03-2018\", \"2018-01-05\", \"2018/01/06\"]\n",
        "pd.DatetimeIndex(d_list).year  # 년도 값 출력"
      ],
      "metadata": {
        "colab": {
          "base_uri": "https://localhost:8080/"
        },
        "id": "SvpiefNbji6-",
        "outputId": "70ff3c33-47b8-487b-8cc9-e3f3f437060b"
      },
      "execution_count": null,
      "outputs": [
        {
          "output_type": "execute_result",
          "data": {
            "text/plain": [
              "Int64Index([2018, 2018, 2018, 2018], dtype='int64')"
            ]
          },
          "metadata": {},
          "execution_count": 36
        }
      ]
    },
    {
      "cell_type": "code",
      "source": [
        "pd.DatetimeIndex(d_list).month  # 월 출력"
      ],
      "metadata": {
        "colab": {
          "base_uri": "https://localhost:8080/"
        },
        "id": "aBLXeeYWkMA4",
        "outputId": "dbb6cebc-e8b2-41d6-adc7-5982cb58ca42"
      },
      "execution_count": null,
      "outputs": [
        {
          "output_type": "execute_result",
          "data": {
            "text/plain": [
              "Int64Index([1, 1, 1, 1], dtype='int64')"
            ]
          },
          "metadata": {},
          "execution_count": 37
        }
      ]
    },
    {
      "cell_type": "code",
      "source": [
        "pd.DatetimeIndex(d_list).day  # 일 출력"
      ],
      "metadata": {
        "colab": {
          "base_uri": "https://localhost:8080/"
        },
        "id": "Y_vJcu0kkVN4",
        "outputId": "b528d6a1-2bcb-444c-dfd8-769799f64859"
      },
      "execution_count": null,
      "outputs": [
        {
          "output_type": "execute_result",
          "data": {
            "text/plain": [
              "Int64Index([3, 3, 5, 6], dtype='int64')"
            ]
          },
          "metadata": {},
          "execution_count": 38
        }
      ]
    },
    {
      "cell_type": "code",
      "source": [
        "dt_list = [\"01, 03, 2018 11:12:13\", \"01-03-2018 11:22:13\"]\n",
        "pd.DatetimeIndex(dt_list).hour  # 시 값 출력"
      ],
      "metadata": {
        "colab": {
          "base_uri": "https://localhost:8080/"
        },
        "id": "eyggf4ZokcTx",
        "outputId": "4e790642-33a6-47fd-eb65-ccc914682bf6"
      },
      "execution_count": null,
      "outputs": [
        {
          "output_type": "execute_result",
          "data": {
            "text/plain": [
              "Int64Index([11, 11], dtype='int64')"
            ]
          },
          "metadata": {},
          "execution_count": 39
        }
      ]
    },
    {
      "cell_type": "code",
      "source": [
        "pd.DatetimeIndex(dt_list).minute  # 분 값 출력"
      ],
      "metadata": {
        "colab": {
          "base_uri": "https://localhost:8080/"
        },
        "id": "XK1xz6IPknSQ",
        "outputId": "0d028a91-15ca-4b75-c971-0e5aa4e16a82"
      },
      "execution_count": null,
      "outputs": [
        {
          "output_type": "execute_result",
          "data": {
            "text/plain": [
              "Int64Index([12, 22], dtype='int64')"
            ]
          },
          "metadata": {},
          "execution_count": 40
        }
      ]
    },
    {
      "cell_type": "markdown",
      "source": [
        "<br>\n",
        "\n",
        "DatetimeIndex 클래스에서 weather['일시']로 생성자 인자를 주어 행에 저장하여 2010 값의 연도값으로 저장할 수 있다."
      ],
      "metadata": {
        "id": "IN0mRIBylUTe"
      }
    },
    {
      "cell_type": "code",
      "source": [
        "weather = pd.read_csv(weather_file, encoding = 'CP949')\n",
        "weather['일시'] = pd.DatetimeIndex(weather['일시']).year\n",
        "weather"
      ],
      "metadata": {
        "colab": {
          "base_uri": "https://localhost:8080/",
          "height": 424
        },
        "id": "KEBoQi3xll_R",
        "outputId": "aa7a19c0-9183-4c4c-e777-e5e46b7e1332"
      },
      "execution_count": null,
      "outputs": [
        {
          "output_type": "execute_result",
          "data": {
            "text/plain": [
              "        일시  평균기온  최대풍속  평균풍속\n",
              "0     2010  28.7   8.3   3.4\n",
              "1     2010  25.2   8.7   3.8\n",
              "2     2010  22.1   6.3   2.9\n",
              "3     2010  25.3   6.6   4.2\n",
              "4     2010  27.2   9.1   5.6\n",
              "...    ...   ...   ...   ...\n",
              "3648  2020  22.1   4.2   1.7\n",
              "3649  2020  21.9   4.5   1.6\n",
              "3650  2020  21.6   3.2   1.0\n",
              "3651  2020  22.9   9.7   2.4\n",
              "3652  2020  25.7   4.8   2.5\n",
              "\n",
              "[3653 rows x 4 columns]"
            ],
            "text/html": [
              "\n",
              "  <div id=\"df-a5d11edb-6378-42de-92b4-28c38ec793f1\">\n",
              "    <div class=\"colab-df-container\">\n",
              "      <div>\n",
              "<style scoped>\n",
              "    .dataframe tbody tr th:only-of-type {\n",
              "        vertical-align: middle;\n",
              "    }\n",
              "\n",
              "    .dataframe tbody tr th {\n",
              "        vertical-align: top;\n",
              "    }\n",
              "\n",
              "    .dataframe thead th {\n",
              "        text-align: right;\n",
              "    }\n",
              "</style>\n",
              "<table border=\"1\" class=\"dataframe\">\n",
              "  <thead>\n",
              "    <tr style=\"text-align: right;\">\n",
              "      <th></th>\n",
              "      <th>일시</th>\n",
              "      <th>평균기온</th>\n",
              "      <th>최대풍속</th>\n",
              "      <th>평균풍속</th>\n",
              "    </tr>\n",
              "  </thead>\n",
              "  <tbody>\n",
              "    <tr>\n",
              "      <th>0</th>\n",
              "      <td>2010</td>\n",
              "      <td>28.7</td>\n",
              "      <td>8.3</td>\n",
              "      <td>3.4</td>\n",
              "    </tr>\n",
              "    <tr>\n",
              "      <th>1</th>\n",
              "      <td>2010</td>\n",
              "      <td>25.2</td>\n",
              "      <td>8.7</td>\n",
              "      <td>3.8</td>\n",
              "    </tr>\n",
              "    <tr>\n",
              "      <th>2</th>\n",
              "      <td>2010</td>\n",
              "      <td>22.1</td>\n",
              "      <td>6.3</td>\n",
              "      <td>2.9</td>\n",
              "    </tr>\n",
              "    <tr>\n",
              "      <th>3</th>\n",
              "      <td>2010</td>\n",
              "      <td>25.3</td>\n",
              "      <td>6.6</td>\n",
              "      <td>4.2</td>\n",
              "    </tr>\n",
              "    <tr>\n",
              "      <th>4</th>\n",
              "      <td>2010</td>\n",
              "      <td>27.2</td>\n",
              "      <td>9.1</td>\n",
              "      <td>5.6</td>\n",
              "    </tr>\n",
              "    <tr>\n",
              "      <th>...</th>\n",
              "      <td>...</td>\n",
              "      <td>...</td>\n",
              "      <td>...</td>\n",
              "      <td>...</td>\n",
              "    </tr>\n",
              "    <tr>\n",
              "      <th>3648</th>\n",
              "      <td>2020</td>\n",
              "      <td>22.1</td>\n",
              "      <td>4.2</td>\n",
              "      <td>1.7</td>\n",
              "    </tr>\n",
              "    <tr>\n",
              "      <th>3649</th>\n",
              "      <td>2020</td>\n",
              "      <td>21.9</td>\n",
              "      <td>4.5</td>\n",
              "      <td>1.6</td>\n",
              "    </tr>\n",
              "    <tr>\n",
              "      <th>3650</th>\n",
              "      <td>2020</td>\n",
              "      <td>21.6</td>\n",
              "      <td>3.2</td>\n",
              "      <td>1.0</td>\n",
              "    </tr>\n",
              "    <tr>\n",
              "      <th>3651</th>\n",
              "      <td>2020</td>\n",
              "      <td>22.9</td>\n",
              "      <td>9.7</td>\n",
              "      <td>2.4</td>\n",
              "    </tr>\n",
              "    <tr>\n",
              "      <th>3652</th>\n",
              "      <td>2020</td>\n",
              "      <td>25.7</td>\n",
              "      <td>4.8</td>\n",
              "      <td>2.5</td>\n",
              "    </tr>\n",
              "  </tbody>\n",
              "</table>\n",
              "<p>3653 rows × 4 columns</p>\n",
              "</div>\n",
              "      <button class=\"colab-df-convert\" onclick=\"convertToInteractive('df-a5d11edb-6378-42de-92b4-28c38ec793f1')\"\n",
              "              title=\"Convert this dataframe to an interactive table.\"\n",
              "              style=\"display:none;\">\n",
              "        \n",
              "  <svg xmlns=\"http://www.w3.org/2000/svg\" height=\"24px\"viewBox=\"0 0 24 24\"\n",
              "       width=\"24px\">\n",
              "    <path d=\"M0 0h24v24H0V0z\" fill=\"none\"/>\n",
              "    <path d=\"M18.56 5.44l.94 2.06.94-2.06 2.06-.94-2.06-.94-.94-2.06-.94 2.06-2.06.94zm-11 1L8.5 8.5l.94-2.06 2.06-.94-2.06-.94L8.5 2.5l-.94 2.06-2.06.94zm10 10l.94 2.06.94-2.06 2.06-.94-2.06-.94-.94-2.06-.94 2.06-2.06.94z\"/><path d=\"M17.41 7.96l-1.37-1.37c-.4-.4-.92-.59-1.43-.59-.52 0-1.04.2-1.43.59L10.3 9.45l-7.72 7.72c-.78.78-.78 2.05 0 2.83L4 21.41c.39.39.9.59 1.41.59.51 0 1.02-.2 1.41-.59l7.78-7.78 2.81-2.81c.8-.78.8-2.07 0-2.86zM5.41 20L4 18.59l7.72-7.72 1.47 1.35L5.41 20z\"/>\n",
              "  </svg>\n",
              "      </button>\n",
              "      \n",
              "  <style>\n",
              "    .colab-df-container {\n",
              "      display:flex;\n",
              "      flex-wrap:wrap;\n",
              "      gap: 12px;\n",
              "    }\n",
              "\n",
              "    .colab-df-convert {\n",
              "      background-color: #E8F0FE;\n",
              "      border: none;\n",
              "      border-radius: 50%;\n",
              "      cursor: pointer;\n",
              "      display: none;\n",
              "      fill: #1967D2;\n",
              "      height: 32px;\n",
              "      padding: 0 0 0 0;\n",
              "      width: 32px;\n",
              "    }\n",
              "\n",
              "    .colab-df-convert:hover {\n",
              "      background-color: #E2EBFA;\n",
              "      box-shadow: 0px 1px 2px rgba(60, 64, 67, 0.3), 0px 1px 3px 1px rgba(60, 64, 67, 0.15);\n",
              "      fill: #174EA6;\n",
              "    }\n",
              "\n",
              "    [theme=dark] .colab-df-convert {\n",
              "      background-color: #3B4455;\n",
              "      fill: #D2E3FC;\n",
              "    }\n",
              "\n",
              "    [theme=dark] .colab-df-convert:hover {\n",
              "      background-color: #434B5C;\n",
              "      box-shadow: 0px 1px 3px 1px rgba(0, 0, 0, 0.15);\n",
              "      filter: drop-shadow(0px 1px 2px rgba(0, 0, 0, 0.3));\n",
              "      fill: #FFFFFF;\n",
              "    }\n",
              "  </style>\n",
              "\n",
              "      <script>\n",
              "        const buttonEl =\n",
              "          document.querySelector('#df-a5d11edb-6378-42de-92b4-28c38ec793f1 button.colab-df-convert');\n",
              "        buttonEl.style.display =\n",
              "          google.colab.kernel.accessAllowed ? 'block' : 'none';\n",
              "\n",
              "        async function convertToInteractive(key) {\n",
              "          const element = document.querySelector('#df-a5d11edb-6378-42de-92b4-28c38ec793f1');\n",
              "          const dataTable =\n",
              "            await google.colab.kernel.invokeFunction('convertToInteractive',\n",
              "                                                     [key], {});\n",
              "          if (!dataTable) return;\n",
              "\n",
              "          const docLinkHtml = 'Like what you see? Visit the ' +\n",
              "            '<a target=\"_blank\" href=https://colab.research.google.com/notebooks/data_table.ipynb>data table notebook</a>'\n",
              "            + ' to learn more about interactive tables.';\n",
              "          element.innerHTML = '';\n",
              "          dataTable['output_type'] = 'display_data';\n",
              "          await google.colab.output.renderOutput(dataTable, element);\n",
              "          const docLink = document.createElement('div');\n",
              "          docLink.innerHTML = docLinkHtml;\n",
              "          element.appendChild(docLink);\n",
              "        }\n",
              "      </script>\n",
              "    </div>\n",
              "  </div>\n",
              "  "
            ]
          },
          "metadata": {},
          "execution_count": 41
        }
      ]
    },
    {
      "cell_type": "markdown",
      "source": [
        "<br>\n",
        "\n",
        "이제 month 속성을 사용하여 달별로 구분하여 평균 기온 값을 담고, 평균 기온에 대해 mean() 함수를 사용하여 평균값으로 그래프를 그릴 수 있다."
      ],
      "metadata": {
        "id": "qnbNI8UMmEXt"
      }
    },
    {
      "cell_type": "code",
      "source": [
        "weather = pd.read_csv(weather_file, encoding = 'CP949')\n",
        "weather['month'] = pd.DatetimeIndex(weather['일시']).month\n",
        "\n",
        "monthly = [None for x in range(12)]  # 달별로 구분된 12개의 None 값\n",
        "monthly_wind = [0 for x in range(12)]  # 각 달의 평균 풍속을 담을 리스트\n",
        "for i in range(12):\n",
        "  monthly[i] = weather[weather['month'] == i + 1]  # 달 별로 분리\n",
        "  monthly_wind[i] = monthly[i].mean()['평균기온']  # 개별 데이터 분석\n",
        "\n",
        "months = np.arange(1, 13)  # 1에서 12월의 연속된 수를 생성\n",
        "plt.bar(months, monthly_wind, color = 'green')\n",
        "plt.xlabel('Month') \n",
        "plt.ylabel('Temperature')"
      ],
      "metadata": {
        "colab": {
          "base_uri": "https://localhost:8080/",
          "height": 354
        },
        "id": "20P6SoEXmO2b",
        "outputId": "91f5d065-919f-4c03-b2aa-1d277368bcd4"
      },
      "execution_count": null,
      "outputs": [
        {
          "output_type": "stream",
          "name": "stderr",
          "text": [
            "/usr/local/lib/python3.7/dist-packages/ipykernel_launcher.py:8: FutureWarning: Dropping of nuisance columns in DataFrame reductions (with 'numeric_only=None') is deprecated; in a future version this will raise TypeError.  Select only valid columns before calling the reduction.\n",
            "  \n"
          ]
        },
        {
          "output_type": "execute_result",
          "data": {
            "text/plain": [
              "Text(0, 0.5, 'Temperature')"
            ]
          },
          "metadata": {},
          "execution_count": 44
        },
        {
          "output_type": "display_data",
          "data": {
            "text/plain": [
              "<Figure size 432x288 with 1 Axes>"
            ],
            "image/png": "[encoded data removed]"
          },
          "metadata": {
            "needs_background": "light"
          }
        }
      ]
    },
    {
      "cell_type": "markdown",
      "source": [
        "---\n",
        "\n",
        "<br>\n",
        "\n",
        "### 15. 그루핑과 필터링\n",
        "\n",
        "<br>\n",
        "\n",
        "groupby() 메소드를 이용하여 별도의 for 문이 없이도 특정한 값에 기반하여 데이터를 묶을 수 있다. "
      ],
      "metadata": {
        "id": "AjZehNc7n-Mp"
      }
    },
    {
      "cell_type": "code",
      "source": [
        "weather = pd.read_csv(weather_file, encoding = 'CP949')\n",
        "weather['month'] = pd.DatetimeIndex(weather['일시']).month\n",
        "\n",
        "monthly_means = weather.groupby('month').mean()\n",
        "print(monthly_means)"
      ],
      "metadata": {
        "colab": {
          "base_uri": "https://localhost:8080/"
        },
        "id": "NFN3GJLRNOSk",
        "outputId": "3a55a189-67d3-42f0-e2a0-211a080f5ae7"
      },
      "execution_count": 6,
      "outputs": [
        {
          "output_type": "stream",
          "name": "stdout",
          "text": [
            "            평균기온      최대풍속      평균풍속\n",
            "month                               \n",
            "1       1.598387  8.158065  3.757419\n",
            "2       2.136396  8.225357  3.946786\n",
            "3       6.250323  8.871935  4.390291\n",
            "4      11.064667  9.305017  4.622483\n",
            "5      16.564194  8.548710  4.219355\n",
            "6      19.616667  6.945667  3.461000\n",
            "7      23.328387  7.322581  3.877419\n",
            "8      24.748710  6.853226  3.596129\n",
            "9      20.323667  6.896333  3.661667\n",
            "10     15.383871  7.766774  3.961613\n",
            "11      9.889667  8.013333  3.930667\n",
            "12      3.753548  8.045484  3.817097\n"
          ]
        }
      ]
    },
    {
      "cell_type": "markdown",
      "source": [
        "<br>\n",
        "\n",
        "판다스는 특정한 조건을 주어서 데이터프레임의 값을 필터링 할 수 있다."
      ],
      "metadata": {
        "id": "rLT4gLZHNpbw"
      }
    },
    {
      "cell_type": "code",
      "source": [
        "monthly_means['평균풍속'] >= 4.0  # 평균풍속이 4.0 이상인지"
      ],
      "metadata": {
        "colab": {
          "base_uri": "https://localhost:8080/"
        },
        "id": "RAgaWv0fNufk",
        "outputId": "e57e6a04-ffca-451f-f473-35faa7a90fbf"
      },
      "execution_count": 7,
      "outputs": [
        {
          "output_type": "execute_result",
          "data": {
            "text/plain": [
              "month\n",
              "1     False\n",
              "2     False\n",
              "3      True\n",
              "4      True\n",
              "5      True\n",
              "6     False\n",
              "7     False\n",
              "8     False\n",
              "9     False\n",
              "10    False\n",
              "11    False\n",
              "12    False\n",
              "Name: 평균풍속, dtype: bool"
            ]
          },
          "metadata": {},
          "execution_count": 7
        }
      ]
    },
    {
      "cell_type": "code",
      "source": [
        "monthly_means[monthly_means['평균풍속'] >= 4.0]  # 평균 풍속이 4 이상인 행들만 추출"
      ],
      "metadata": {
        "colab": {
          "base_uri": "https://localhost:8080/",
          "height": 175
        },
        "id": "V60YQhUcOSoB",
        "outputId": "c3e4e183-3812-477b-8bb0-757c439c44d4"
      },
      "execution_count": 8,
      "outputs": [
        {
          "output_type": "execute_result",
          "data": {
            "text/plain": [
              "            평균기온      최대풍속      평균풍속\n",
              "month                               \n",
              "3       6.250323  8.871935  4.390291\n",
              "4      11.064667  9.305017  4.622483\n",
              "5      16.564194  8.548710  4.219355"
            ],
            "text/html": [
              "\n",
              "  <div id=\"df-1d6a8b6e-fb86-441f-beee-e3e353db8cb6\">\n",
              "    <div class=\"colab-df-container\">\n",
              "      <div>\n",
              "<style scoped>\n",
              "    .dataframe tbody tr th:only-of-type {\n",
              "        vertical-align: middle;\n",
              "    }\n",
              "\n",
              "    .dataframe tbody tr th {\n",
              "        vertical-align: top;\n",
              "    }\n",
              "\n",
              "    .dataframe thead th {\n",
              "        text-align: right;\n",
              "    }\n",
              "</style>\n",
              "<table border=\"1\" class=\"dataframe\">\n",
              "  <thead>\n",
              "    <tr style=\"text-align: right;\">\n",
              "      <th></th>\n",
              "      <th>평균기온</th>\n",
              "      <th>최대풍속</th>\n",
              "      <th>평균풍속</th>\n",
              "    </tr>\n",
              "    <tr>\n",
              "      <th>month</th>\n",
              "      <th></th>\n",
              "      <th></th>\n",
              "      <th></th>\n",
              "    </tr>\n",
              "  </thead>\n",
              "  <tbody>\n",
              "    <tr>\n",
              "      <th>3</th>\n",
              "      <td>6.250323</td>\n",
              "      <td>8.871935</td>\n",
              "      <td>4.390291</td>\n",
              "    </tr>\n",
              "    <tr>\n",
              "      <th>4</th>\n",
              "      <td>11.064667</td>\n",
              "      <td>9.305017</td>\n",
              "      <td>4.622483</td>\n",
              "    </tr>\n",
              "    <tr>\n",
              "      <th>5</th>\n",
              "      <td>16.564194</td>\n",
              "      <td>8.548710</td>\n",
              "      <td>4.219355</td>\n",
              "    </tr>\n",
              "  </tbody>\n",
              "</table>\n",
              "</div>\n",
              "      <button class=\"colab-df-convert\" onclick=\"convertToInteractive('df-1d6a8b6e-fb86-441f-beee-e3e353db8cb6')\"\n",
              "              title=\"Convert this dataframe to an interactive table.\"\n",
              "              style=\"display:none;\">\n",
              "        \n",
              "  <svg xmlns=\"http://www.w3.org/2000/svg\" height=\"24px\"viewBox=\"0 0 24 24\"\n",
              "       width=\"24px\">\n",
              "    <path d=\"M0 0h24v24H0V0z\" fill=\"none\"/>\n",
              "    <path d=\"M18.56 5.44l.94 2.06.94-2.06 2.06-.94-2.06-.94-.94-2.06-.94 2.06-2.06.94zm-11 1L8.5 8.5l.94-2.06 2.06-.94-2.06-.94L8.5 2.5l-.94 2.06-2.06.94zm10 10l.94 2.06.94-2.06 2.06-.94-2.06-.94-.94-2.06-.94 2.06-2.06.94z\"/><path d=\"M17.41 7.96l-1.37-1.37c-.4-.4-.92-.59-1.43-.59-.52 0-1.04.2-1.43.59L10.3 9.45l-7.72 7.72c-.78.78-.78 2.05 0 2.83L4 21.41c.39.39.9.59 1.41.59.51 0 1.02-.2 1.41-.59l7.78-7.78 2.81-2.81c.8-.78.8-2.07 0-2.86zM5.41 20L4 18.59l7.72-7.72 1.47 1.35L5.41 20z\"/>\n",
              "  </svg>\n",
              "      </button>\n",
              "      \n",
              "  <style>\n",
              "    .colab-df-container {\n",
              "      display:flex;\n",
              "      flex-wrap:wrap;\n",
              "      gap: 12px;\n",
              "    }\n",
              "\n",
              "    .colab-df-convert {\n",
              "      background-color: #E8F0FE;\n",
              "      border: none;\n",
              "      border-radius: 50%;\n",
              "      cursor: pointer;\n",
              "      display: none;\n",
              "      fill: #1967D2;\n",
              "      height: 32px;\n",
              "      padding: 0 0 0 0;\n",
              "      width: 32px;\n",
              "    }\n",
              "\n",
              "    .colab-df-convert:hover {\n",
              "      background-color: #E2EBFA;\n",
              "      box-shadow: 0px 1px 2px rgba(60, 64, 67, 0.3), 0px 1px 3px 1px rgba(60, 64, 67, 0.15);\n",
              "      fill: #174EA6;\n",
              "    }\n",
              "\n",
              "    [theme=dark] .colab-df-convert {\n",
              "      background-color: #3B4455;\n",
              "      fill: #D2E3FC;\n",
              "    }\n",
              "\n",
              "    [theme=dark] .colab-df-convert:hover {\n",
              "      background-color: #434B5C;\n",
              "      box-shadow: 0px 1px 3px 1px rgba(0, 0, 0, 0.15);\n",
              "      filter: drop-shadow(0px 1px 2px rgba(0, 0, 0, 0.3));\n",
              "      fill: #FFFFFF;\n",
              "    }\n",
              "  </style>\n",
              "\n",
              "      <script>\n",
              "        const buttonEl =\n",
              "          document.querySelector('#df-1d6a8b6e-fb86-441f-beee-e3e353db8cb6 button.colab-df-convert');\n",
              "        buttonEl.style.display =\n",
              "          google.colab.kernel.accessAllowed ? 'block' : 'none';\n",
              "\n",
              "        async function convertToInteractive(key) {\n",
              "          const element = document.querySelector('#df-1d6a8b6e-fb86-441f-beee-e3e353db8cb6');\n",
              "          const dataTable =\n",
              "            await google.colab.kernel.invokeFunction('convertToInteractive',\n",
              "                                                     [key], {});\n",
              "          if (!dataTable) return;\n",
              "\n",
              "          const docLinkHtml = 'Like what you see? Visit the ' +\n",
              "            '<a target=\"_blank\" href=https://colab.research.google.com/notebooks/data_table.ipynb>data table notebook</a>'\n",
              "            + ' to learn more about interactive tables.';\n",
              "          element.innerHTML = '';\n",
              "          dataTable['output_type'] = 'display_data';\n",
              "          await google.colab.output.renderOutput(dataTable, element);\n",
              "          const docLink = document.createElement('div');\n",
              "          docLink.innerHTML = docLinkHtml;\n",
              "          element.appendChild(docLink);\n",
              "        }\n",
              "      </script>\n",
              "    </div>\n",
              "  </div>\n",
              "  "
            ]
          },
          "metadata": {},
          "execution_count": 8
        }
      ]
    },
    {
      "cell_type": "markdown",
      "source": [
        "판다스의 논리 인덱싱은 넘파이 배열의 논리 인덱싱과 비슷한 방식으로 동작한다."
      ],
      "metadata": {
        "id": "M2PiHFYJOiH8"
      }
    },
    {
      "cell_type": "markdown",
      "source": [
        "<br>\n",
        "\n",
        "### 도전문제 : weather 데이터프레임을 이용하여 연도별 평균기온을 히스토그램으로 출력하라."
      ],
      "metadata": {
        "id": "1gR-tlVTOnIa"
      }
    },
    {
      "cell_type": "code",
      "source": [
        "weather['year'] = pd.DatetimeIndex(weather['일시']).year\n",
        "yearly_means = weather.groupby('year').mean()\n",
        "\n",
        "plt.bar(yearly_means.index, yearly_means['평균기온'], color = 'g')\n",
        "plt.xlabel('Year')\n",
        "plt.ylabel('Temperature')\n",
        "plt.show()"
      ],
      "metadata": {
        "colab": {
          "base_uri": "https://localhost:8080/",
          "height": 283
        },
        "id": "ZLBRmOYqOsbP",
        "outputId": "a6f32c36-4bb2-47a1-bb31-1cffd67bd4a5"
      },
      "execution_count": 15,
      "outputs": [
        {
          "output_type": "display_data",
          "data": {
            "text/plain": [
              "<Figure size 432x288 with 1 Axes>"
            ],
            "image/png": "[encoded data removed]"
          },
          "metadata": {
            "needs_background": "light"
          }
        }
      ]
    },
    {
      "cell_type": "markdown",
      "source": [
        "*DatetimeIndex와 groupby 함수를 이용하여 연도별 데이터를 추출해낸다.\n",
        "<br>그리고 plt.bar()를 이용하여 막대그래프를 그린다. 이때, x축으로는 yearly_means의 인덱스, 즉 년도를 사용하고, y축 값으로는 추출한 연도별 데이터에서 '평균기온'에 해당하는 열만 추출하여 그린다. 막대 그래프 색상은 초록색으로 지정한다.\n",
        "<br>xlabel()과 ylabel()을 이용하여 x축과 y축의 레이블을 지정해준다.*"
      ],
      "metadata": {
        "id": "uNJyVSKdQyeE"
      }
    },
    {
      "cell_type": "markdown",
      "source": [
        "---\n",
        "\n",
        "<br>\n",
        "\n",
        "### 16. 데이터 구조를 변경하는 pivot()\n",
        "\n",
        "<br>\n",
        "\n",
        "판다스에서 테이블 내의 행과 열의 위치를 바꾸거나, 테이블의 구조를 변경하는 대표적인 메소드가 바로 pivot()이다."
      ],
      "metadata": {
        "id": "oZGwJhPISTnB"
      }
    },
    {
      "cell_type": "code",
      "source": [
        "df = pd.DataFrame({'상품': ['시계', '반지', '반지', '목걸이', '팔찌'],\n",
        "                   '재질': ['금', '은', '백금', '금', '은'],\n",
        "                   '가격': [500000, 20000, 350000, 300000, 60000]})\n",
        "df"
      ],
      "metadata": {
        "colab": {
          "base_uri": "https://localhost:8080/",
          "height": 206
        },
        "id": "k56cQgapUQBt",
        "outputId": "ac67d271-59c7-45b0-b576-17ad66a0db08"
      },
      "execution_count": 16,
      "outputs": [
        {
          "output_type": "execute_result",
          "data": {
            "text/plain": [
              "    상품  재질      가격\n",
              "0   시계   금  500000\n",
              "1   반지   은   20000\n",
              "2   반지  백금  350000\n",
              "3  목걸이   금  300000\n",
              "4   팔찌   은   60000"
            ],
            "text/html": [
              "\n",
              "  <div id=\"df-c709f735-bbff-41ac-b587-eb83f3199238\">\n",
              "    <div class=\"colab-df-container\">\n",
              "      <div>\n",
              "<style scoped>\n",
              "    .dataframe tbody tr th:only-of-type {\n",
              "        vertical-align: middle;\n",
              "    }\n",
              "\n",
              "    .dataframe tbody tr th {\n",
              "        vertical-align: top;\n",
              "    }\n",
              "\n",
              "    .dataframe thead th {\n",
              "        text-align: right;\n",
              "    }\n",
              "</style>\n",
              "<table border=\"1\" class=\"dataframe\">\n",
              "  <thead>\n",
              "    <tr style=\"text-align: right;\">\n",
              "      <th></th>\n",
              "      <th>상품</th>\n",
              "      <th>재질</th>\n",
              "      <th>가격</th>\n",
              "    </tr>\n",
              "  </thead>\n",
              "  <tbody>\n",
              "    <tr>\n",
              "      <th>0</th>\n",
              "      <td>시계</td>\n",
              "      <td>금</td>\n",
              "      <td>500000</td>\n",
              "    </tr>\n",
              "    <tr>\n",
              "      <th>1</th>\n",
              "      <td>반지</td>\n",
              "      <td>은</td>\n",
              "      <td>20000</td>\n",
              "    </tr>\n",
              "    <tr>\n",
              "      <th>2</th>\n",
              "      <td>반지</td>\n",
              "      <td>백금</td>\n",
              "      <td>350000</td>\n",
              "    </tr>\n",
              "    <tr>\n",
              "      <th>3</th>\n",
              "      <td>목걸이</td>\n",
              "      <td>금</td>\n",
              "      <td>300000</td>\n",
              "    </tr>\n",
              "    <tr>\n",
              "      <th>4</th>\n",
              "      <td>팔찌</td>\n",
              "      <td>은</td>\n",
              "      <td>60000</td>\n",
              "    </tr>\n",
              "  </tbody>\n",
              "</table>\n",
              "</div>\n",
              "      <button class=\"colab-df-convert\" onclick=\"convertToInteractive('df-c709f735-bbff-41ac-b587-eb83f3199238')\"\n",
              "              title=\"Convert this dataframe to an interactive table.\"\n",
              "              style=\"display:none;\">\n",
              "        \n",
              "  <svg xmlns=\"http://www.w3.org/2000/svg\" height=\"24px\"viewBox=\"0 0 24 24\"\n",
              "       width=\"24px\">\n",
              "    <path d=\"M0 0h24v24H0V0z\" fill=\"none\"/>\n",
              "    <path d=\"M18.56 5.44l.94 2.06.94-2.06 2.06-.94-2.06-.94-.94-2.06-.94 2.06-2.06.94zm-11 1L8.5 8.5l.94-2.06 2.06-.94-2.06-.94L8.5 2.5l-.94 2.06-2.06.94zm10 10l.94 2.06.94-2.06 2.06-.94-2.06-.94-.94-2.06-.94 2.06-2.06.94z\"/><path d=\"M17.41 7.96l-1.37-1.37c-.4-.4-.92-.59-1.43-.59-.52 0-1.04.2-1.43.59L10.3 9.45l-7.72 7.72c-.78.78-.78 2.05 0 2.83L4 21.41c.39.39.9.59 1.41.59.51 0 1.02-.2 1.41-.59l7.78-7.78 2.81-2.81c.8-.78.8-2.07 0-2.86zM5.41 20L4 18.59l7.72-7.72 1.47 1.35L5.41 20z\"/>\n",
              "  </svg>\n",
              "      </button>\n",
              "      \n",
              "  <style>\n",
              "    .colab-df-container {\n",
              "      display:flex;\n",
              "      flex-wrap:wrap;\n",
              "      gap: 12px;\n",
              "    }\n",
              "\n",
              "    .colab-df-convert {\n",
              "      background-color: #E8F0FE;\n",
              "      border: none;\n",
              "      border-radius: 50%;\n",
              "      cursor: pointer;\n",
              "      display: none;\n",
              "      fill: #1967D2;\n",
              "      height: 32px;\n",
              "      padding: 0 0 0 0;\n",
              "      width: 32px;\n",
              "    }\n",
              "\n",
              "    .colab-df-convert:hover {\n",
              "      background-color: #E2EBFA;\n",
              "      box-shadow: 0px 1px 2px rgba(60, 64, 67, 0.3), 0px 1px 3px 1px rgba(60, 64, 67, 0.15);\n",
              "      fill: #174EA6;\n",
              "    }\n",
              "\n",
              "    [theme=dark] .colab-df-convert {\n",
              "      background-color: #3B4455;\n",
              "      fill: #D2E3FC;\n",
              "    }\n",
              "\n",
              "    [theme=dark] .colab-df-convert:hover {\n",
              "      background-color: #434B5C;\n",
              "      box-shadow: 0px 1px 3px 1px rgba(0, 0, 0, 0.15);\n",
              "      filter: drop-shadow(0px 1px 2px rgba(0, 0, 0, 0.3));\n",
              "      fill: #FFFFFF;\n",
              "    }\n",
              "  </style>\n",
              "\n",
              "      <script>\n",
              "        const buttonEl =\n",
              "          document.querySelector('#df-c709f735-bbff-41ac-b587-eb83f3199238 button.colab-df-convert');\n",
              "        buttonEl.style.display =\n",
              "          google.colab.kernel.accessAllowed ? 'block' : 'none';\n",
              "\n",
              "        async function convertToInteractive(key) {\n",
              "          const element = document.querySelector('#df-c709f735-bbff-41ac-b587-eb83f3199238');\n",
              "          const dataTable =\n",
              "            await google.colab.kernel.invokeFunction('convertToInteractive',\n",
              "                                                     [key], {});\n",
              "          if (!dataTable) return;\n",
              "\n",
              "          const docLinkHtml = 'Like what you see? Visit the ' +\n",
              "            '<a target=\"_blank\" href=https://colab.research.google.com/notebooks/data_table.ipynb>data table notebook</a>'\n",
              "            + ' to learn more about interactive tables.';\n",
              "          element.innerHTML = '';\n",
              "          dataTable['output_type'] = 'display_data';\n",
              "          await google.colab.output.renderOutput(dataTable, element);\n",
              "          const docLink = document.createElement('div');\n",
              "          docLink.innerHTML = docLinkHtml;\n",
              "          element.appendChild(docLink);\n",
              "        }\n",
              "      </script>\n",
              "    </div>\n",
              "  </div>\n",
              "  "
            ]
          },
          "metadata": {},
          "execution_count": 16
        }
      ]
    },
    {
      "cell_type": "markdown",
      "source": [
        "다음과 같이 상품의 이름, 재질, 가격을 표시하는 데이터프레임을 상품의 재질 기준으로 다시 인덱싱하고자 한다.\n",
        "\n",
        "<br>\n",
        "\n",
        "기존 데이터프레임을 이용해 새 테이블을 만들 때 사용되는 pivot() 메소드에 index='상품' 인자를 이용하여 상품을 인덱스로 지정해줄 수 있다. 또한, columns = '재질' 인자를 이용하여 재징을 열로써 하는 새로운 데이터프레임을 생성할 수 있다.\n",
        "<br>해당 데이터프레임은 가격을 값으로 가지는데, 이 값들 중에서 존재하지 않는 항목은 fillna() 메소드를 사용하여 0으로 채워준다."
      ],
      "metadata": {
        "id": "BPZ91UfOU6Nc"
      }
    },
    {
      "cell_type": "code",
      "source": [
        "new_df = df.pivot(index = '상품', columns = '재질', values = '가격')\n",
        "new_df.fillna(value = 0)"
      ],
      "metadata": {
        "colab": {
          "base_uri": "https://localhost:8080/",
          "height": 206
        },
        "id": "XFkjGK_eVpuf",
        "outputId": "b567c5e3-82b0-439e-a2a4-a160d20592e8"
      },
      "execution_count": 17,
      "outputs": [
        {
          "output_type": "execute_result",
          "data": {
            "text/plain": [
              "재질          금        백금        은\n",
              "상품                              \n",
              "목걸이  300000.0       0.0      0.0\n",
              "반지        0.0  350000.0  20000.0\n",
              "시계   500000.0       0.0      0.0\n",
              "팔찌        0.0       0.0  60000.0"
            ],
            "text/html": [
              "\n",
              "  <div id=\"df-66018070-bf61-4f9d-964c-82e05cbbe315\">\n",
              "    <div class=\"colab-df-container\">\n",
              "      <div>\n",
              "<style scoped>\n",
              "    .dataframe tbody tr th:only-of-type {\n",
              "        vertical-align: middle;\n",
              "    }\n",
              "\n",
              "    .dataframe tbody tr th {\n",
              "        vertical-align: top;\n",
              "    }\n",
              "\n",
              "    .dataframe thead th {\n",
              "        text-align: right;\n",
              "    }\n",
              "</style>\n",
              "<table border=\"1\" class=\"dataframe\">\n",
              "  <thead>\n",
              "    <tr style=\"text-align: right;\">\n",
              "      <th>재질</th>\n",
              "      <th>금</th>\n",
              "      <th>백금</th>\n",
              "      <th>은</th>\n",
              "    </tr>\n",
              "    <tr>\n",
              "      <th>상품</th>\n",
              "      <th></th>\n",
              "      <th></th>\n",
              "      <th></th>\n",
              "    </tr>\n",
              "  </thead>\n",
              "  <tbody>\n",
              "    <tr>\n",
              "      <th>목걸이</th>\n",
              "      <td>300000.0</td>\n",
              "      <td>0.0</td>\n",
              "      <td>0.0</td>\n",
              "    </tr>\n",
              "    <tr>\n",
              "      <th>반지</th>\n",
              "      <td>0.0</td>\n",
              "      <td>350000.0</td>\n",
              "      <td>20000.0</td>\n",
              "    </tr>\n",
              "    <tr>\n",
              "      <th>시계</th>\n",
              "      <td>500000.0</td>\n",
              "      <td>0.0</td>\n",
              "      <td>0.0</td>\n",
              "    </tr>\n",
              "    <tr>\n",
              "      <th>팔찌</th>\n",
              "      <td>0.0</td>\n",
              "      <td>0.0</td>\n",
              "      <td>60000.0</td>\n",
              "    </tr>\n",
              "  </tbody>\n",
              "</table>\n",
              "</div>\n",
              "      <button class=\"colab-df-convert\" onclick=\"convertToInteractive('df-66018070-bf61-4f9d-964c-82e05cbbe315')\"\n",
              "              title=\"Convert this dataframe to an interactive table.\"\n",
              "              style=\"display:none;\">\n",
              "        \n",
              "  <svg xmlns=\"http://www.w3.org/2000/svg\" height=\"24px\"viewBox=\"0 0 24 24\"\n",
              "       width=\"24px\">\n",
              "    <path d=\"M0 0h24v24H0V0z\" fill=\"none\"/>\n",
              "    <path d=\"M18.56 5.44l.94 2.06.94-2.06 2.06-.94-2.06-.94-.94-2.06-.94 2.06-2.06.94zm-11 1L8.5 8.5l.94-2.06 2.06-.94-2.06-.94L8.5 2.5l-.94 2.06-2.06.94zm10 10l.94 2.06.94-2.06 2.06-.94-2.06-.94-.94-2.06-.94 2.06-2.06.94z\"/><path d=\"M17.41 7.96l-1.37-1.37c-.4-.4-.92-.59-1.43-.59-.52 0-1.04.2-1.43.59L10.3 9.45l-7.72 7.72c-.78.78-.78 2.05 0 2.83L4 21.41c.39.39.9.59 1.41.59.51 0 1.02-.2 1.41-.59l7.78-7.78 2.81-2.81c.8-.78.8-2.07 0-2.86zM5.41 20L4 18.59l7.72-7.72 1.47 1.35L5.41 20z\"/>\n",
              "  </svg>\n",
              "      </button>\n",
              "      \n",
              "  <style>\n",
              "    .colab-df-container {\n",
              "      display:flex;\n",
              "      flex-wrap:wrap;\n",
              "      gap: 12px;\n",
              "    }\n",
              "\n",
              "    .colab-df-convert {\n",
              "      background-color: #E8F0FE;\n",
              "      border: none;\n",
              "      border-radius: 50%;\n",
              "      cursor: pointer;\n",
              "      display: none;\n",
              "      fill: #1967D2;\n",
              "      height: 32px;\n",
              "      padding: 0 0 0 0;\n",
              "      width: 32px;\n",
              "    }\n",
              "\n",
              "    .colab-df-convert:hover {\n",
              "      background-color: #E2EBFA;\n",
              "      box-shadow: 0px 1px 2px rgba(60, 64, 67, 0.3), 0px 1px 3px 1px rgba(60, 64, 67, 0.15);\n",
              "      fill: #174EA6;\n",
              "    }\n",
              "\n",
              "    [theme=dark] .colab-df-convert {\n",
              "      background-color: #3B4455;\n",
              "      fill: #D2E3FC;\n",
              "    }\n",
              "\n",
              "    [theme=dark] .colab-df-convert:hover {\n",
              "      background-color: #434B5C;\n",
              "      box-shadow: 0px 1px 3px 1px rgba(0, 0, 0, 0.15);\n",
              "      filter: drop-shadow(0px 1px 2px rgba(0, 0, 0, 0.3));\n",
              "      fill: #FFFFFF;\n",
              "    }\n",
              "  </style>\n",
              "\n",
              "      <script>\n",
              "        const buttonEl =\n",
              "          document.querySelector('#df-66018070-bf61-4f9d-964c-82e05cbbe315 button.colab-df-convert');\n",
              "        buttonEl.style.display =\n",
              "          google.colab.kernel.accessAllowed ? 'block' : 'none';\n",
              "\n",
              "        async function convertToInteractive(key) {\n",
              "          const element = document.querySelector('#df-66018070-bf61-4f9d-964c-82e05cbbe315');\n",
              "          const dataTable =\n",
              "            await google.colab.kernel.invokeFunction('convertToInteractive',\n",
              "                                                     [key], {});\n",
              "          if (!dataTable) return;\n",
              "\n",
              "          const docLinkHtml = 'Like what you see? Visit the ' +\n",
              "            '<a target=\"_blank\" href=https://colab.research.google.com/notebooks/data_table.ipynb>data table notebook</a>'\n",
              "            + ' to learn more about interactive tables.';\n",
              "          element.innerHTML = '';\n",
              "          dataTable['output_type'] = 'display_data';\n",
              "          await google.colab.output.renderOutput(dataTable, element);\n",
              "          const docLink = document.createElement('div');\n",
              "          docLink.innerHTML = docLinkHtml;\n",
              "          element.appendChild(docLink);\n",
              "        }\n",
              "      </script>\n",
              "    </div>\n",
              "  </div>\n",
              "  "
            ]
          },
          "metadata": {},
          "execution_count": 17
        }
      ]
    },
    {
      "cell_type": "markdown",
      "source": [
        "<br>\n",
        "\n",
        "pivot() 메소드와 유사한 pivot_table()이라는 메소드를 통해서 데이터를 재구조화하는 것도 가능하다. 하지만 인덱스나 column이 2개 이상인 경우 pivot() 메소드로는 재구조화가 안 되며 pivot_table() 메소드를 사용해아 한다."
      ],
      "metadata": {
        "id": "F2CAIHuOWzvJ"
      }
    },
    {
      "cell_type": "markdown",
      "source": [
        "---\n",
        "\n",
        "<br>\n",
        "\n",
        "### 17. 두 개의 데이터프레임을 하나로 합치는 concat()\n",
        "\n",
        "<br>\n",
        "\n",
        "concat() 함수를 이용하여 데이터를 하나로 합칠 수 있다."
      ],
      "metadata": {
        "id": "_e7YeTF6XeW3"
      }
    },
    {
      "cell_type": "code",
      "source": [
        "df_1 = pd.DataFrame({'A': ['a10', 'a11', 'a12'],\n",
        "                     'B': ['b10', 'b11', 'b12'],\n",
        "                     'C': ['c10', 'c11', 'c12']},\n",
        "                    index = ['가', '나', '다'])\n",
        "df_2 = pd.DataFrame({'B': ['b23', 'b24', 'b25'],\n",
        "                     'C': ['c23', 'c24', 'c25'],\n",
        "                     'D': ['d23', 'd24', 'd25']},\n",
        "                    index = ['다', '라', '마'])"
      ],
      "metadata": {
        "id": "9LdyfwpaYFz5"
      },
      "execution_count": 18,
      "outputs": []
    },
    {
      "cell_type": "markdown",
      "source": [
        "두 데이터프레임을 결합하기 위해서는 concat() 함수를 이용하면 된다. 이 함수의 첫 인자는 데이터프레임의 리스트, 그리고 axis를 이용한 행/열 방향 지정과 join을 이용한 레이블 합집합/교집합 지정이 가능하다."
      ],
      "metadata": {
        "id": "Fzc3oT58YpxI"
      }
    },
    {
      "cell_type": "code",
      "source": [
        "df_3 = pd.concat([df_1, df_2])\n",
        "print(df_3)"
      ],
      "metadata": {
        "colab": {
          "base_uri": "https://localhost:8080/"
        },
        "id": "sgFZkkz2Y8qs",
        "outputId": "be21dad6-4a80-49ff-b24f-6a93aa0adffd"
      },
      "execution_count": 19,
      "outputs": [
        {
          "output_type": "stream",
          "name": "stdout",
          "text": [
            "     A    B    C    D\n",
            "가  a10  b10  c10  NaN\n",
            "나  a11  b11  c11  NaN\n",
            "다  a12  b12  c12  NaN\n",
            "다  NaN  b23  c23  d23\n",
            "라  NaN  b24  c24  d24\n",
            "마  NaN  b25  c25  d25\n"
          ]
        }
      ]
    },
    {
      "cell_type": "markdown",
      "source": [
        "concat() 함수에 별다른 인자를 주지 않을 경우, 디폴트 축 0을 사용하여 행을 늘려가며 테이블을 붙인다.\n",
        "\n",
        "<br>\n",
        "\n",
        "만약 join = 'inner'를 인자로 줄 경우, 두 테이블의 교집합인 B, C 열이 최종 열이 된다."
      ],
      "metadata": {
        "id": "BOckzJTcZDXH"
      }
    },
    {
      "cell_type": "code",
      "source": [
        "df_4 = pd.concat([df_1, df_2], join = 'inner')\n",
        "print(df_4)"
      ],
      "metadata": {
        "colab": {
          "base_uri": "https://localhost:8080/"
        },
        "id": "HjAFnuYGZSDt",
        "outputId": "0fa0f3e2-48aa-40bb-8e65-d0a8913616d9"
      },
      "execution_count": 20,
      "outputs": [
        {
          "output_type": "stream",
          "name": "stdout",
          "text": [
            "     B    C\n",
            "가  b10  c10\n",
            "나  b11  c11\n",
            "다  b12  c12\n",
            "다  b23  c23\n",
            "라  b24  c24\n",
            "마  b25  c25\n"
          ]
        }
      ]
    },
    {
      "cell_type": "markdown",
      "source": [
        "---\n",
        "\n",
        "<br>\n",
        "\n",
        "### 18. 테이블 데이터의 결합 : concat()과 merge()\n",
        "\n",
        "<br>\n",
        "\n",
        "판다스에서는 테이블 데이터를 결합하는 방법으로 concat() 함수와 merge() 메소드를 제공한다.\n",
        "\n",
        "<br>\n",
        "\n",
        "concat()은 판다스의 함수로 결합을 위해 하나 이상의 데이터프레임을 인자로 받는다. 반면 merge()는 데이터프레임의 메소드이며, 두 데이터프레임을 각 데이터에 존재하는 고유값(key)을 기준으로 병합할때 사용한다.\n",
        "\n",
        "<br>\n",
        "\n",
        "merge() 메소드의 매개변수\n",
        " - DataFrame.merge(right, how = 'inner', on = None)\n",
        " - right : 현재의 데이터프레임과 결합할 데이터프레임\n",
        " - how : 결합의 방식. 'left', 'right', 'inner', 'outer'이 가능\n",
        " - on : 조인 연산을 수행하기 위해 사용할 레이블(두 데이터프레임 모두에 존재해야 함)\n",
        "\n",
        " <br>"
      ],
      "metadata": {
        "id": "_NIhrNhEaOtg"
      }
    },
    {
      "cell_type": "code",
      "source": [
        "print('left outer \\n', df_1.merge(df_2, how = 'left', on = 'B'))\n",
        "print('right outer \\n', df_1.merge(df_2, how = 'right', on = 'B'))\n",
        "print('full outer \\n', df_1.merge(df_2, how = 'outer', on = 'B'))\n",
        "print('inner \\n', df_1.merge(df_2, how = 'inner', on = 'B'))"
      ],
      "metadata": {
        "colab": {
          "base_uri": "https://localhost:8080/"
        },
        "id": "jVyoZ4rCcNf-",
        "outputId": "d567672c-f326-4d00-f85b-d7ad6b94db27"
      },
      "execution_count": 21,
      "outputs": [
        {
          "output_type": "stream",
          "name": "stdout",
          "text": [
            "left outer \n",
            "      A    B  C_x  C_y    D\n",
            "0  a10  b10  c10  NaN  NaN\n",
            "1  a11  b11  c11  NaN  NaN\n",
            "2  a12  b12  c12  NaN  NaN\n",
            "right outer \n",
            "      A    B  C_x  C_y    D\n",
            "0  NaN  b23  NaN  c23  d23\n",
            "1  NaN  b24  NaN  c24  d24\n",
            "2  NaN  b25  NaN  c25  d25\n",
            "full outer \n",
            "      A    B  C_x  C_y    D\n",
            "0  a10  b10  c10  NaN  NaN\n",
            "1  a11  b11  c11  NaN  NaN\n",
            "2  a12  b12  c12  NaN  NaN\n",
            "3  NaN  b23  NaN  c23  d23\n",
            "4  NaN  b24  NaN  c24  d24\n",
            "5  NaN  b25  NaN  c25  d25\n",
            "inner \n",
            " Empty DataFrame\n",
            "Columns: [A, B, C_x, C_y, D]\n",
            "Index: []\n"
          ]
        }
      ]
    },
    {
      "cell_type": "markdown",
      "source": [
        "merge에서는 'outer' 방식이 기본이다.\n",
        "<br> 'left'는 'outer' 조인의 결과에서 왼쪽 데이터프레임에 존재하는 키를 가진 것만 뽑아내고, 'right'는 오른쪽 테이블에서 발견되는 키를 가진 것만 뽑아낸다.\n",
        "<br> 'inner'는 왼쪽과 오른쪽 테이블 모두에서 발견되는 키를 가져야만 추출된다.\n",
        "\n",
        "<br>\n",
        "\n",
        "두 데이터프레임에서는 'B' 뿐만 아니라 'C'레이블도 두 테이블에 동시에 나타난다. 이럴 경우 왼쪽 테이블에서 가져온 것은 'C_x', 오른쪽에서 가져온 것은 'C_y'로 이름을 새로 붙여 테이블을 만든다."
      ],
      "metadata": {
        "id": "_TNVQiWxcobk"
      }
    },
    {
      "cell_type": "code",
      "source": [
        "df_3 = df_1.merge(df_2, how = 'outer', on = 'B')\n",
        "print(df_3)"
      ],
      "metadata": {
        "colab": {
          "base_uri": "https://localhost:8080/"
        },
        "id": "SPYjOHq_fAtg",
        "outputId": "47f0c8f6-5dee-40c6-8c98-4d9ecbfc0a31"
      },
      "execution_count": 22,
      "outputs": [
        {
          "output_type": "stream",
          "name": "stdout",
          "text": [
            "     A    B  C_x  C_y    D\n",
            "0  a10  b10  c10  NaN  NaN\n",
            "1  a11  b11  c11  NaN  NaN\n",
            "2  a12  b12  c12  NaN  NaN\n",
            "3  NaN  b23  NaN  c23  d23\n",
            "4  NaN  b24  NaN  c24  d24\n",
            "5  NaN  b25  NaN  c25  d25\n"
          ]
        }
      ]
    },
    {
      "cell_type": "markdown",
      "source": [
        "<br>\n",
        "\n",
        "양쪽 테이블의 인덱스를 모두 사용하여 병합의 키가 되도록 하는 방식은 다음과 같다. 'outer' 방식이므로 두 인덱스의 합집합이 새로운 인덱스가 된다. 'inner'라면 교집합으로 '다'행만 남게 된다."
      ],
      "metadata": {
        "id": "89Q1C0E2fNEu"
      }
    },
    {
      "cell_type": "code",
      "source": [
        "df_3 = df_1.merge(df_2, how = 'outer', left_index = True, right_index = True)\n",
        "print(df_3)"
      ],
      "metadata": {
        "colab": {
          "base_uri": "https://localhost:8080/"
        },
        "id": "46VGSeC5fZHV",
        "outputId": "1caf840e-45a2-46fb-a387-ddf0607e6388"
      },
      "execution_count": 23,
      "outputs": [
        {
          "output_type": "stream",
          "name": "stdout",
          "text": [
            "     A  B_x  C_x  B_y  C_y    D\n",
            "가  a10  b10  c10  NaN  NaN  NaN\n",
            "나  a11  b11  c11  NaN  NaN  NaN\n",
            "다  a12  b12  c12  b23  c23  d23\n",
            "라  NaN  NaN  NaN  b24  c24  d24\n",
            "마  NaN  NaN  NaN  b25  c25  d25\n"
          ]
        }
      ]
    },
    {
      "cell_type": "markdown",
      "source": [
        "---\n",
        "\n",
        "<br>\n",
        "\n",
        "## 심화문제\n",
        "\n",
        "<br>\n",
        "\n",
        "### 1. np.random.randint(0, 100, size = 5)와 같은 코드를 통해 0에서 100 범위의 정수를 5개 생성할 수 있다. 이 숫자들을 다음과 같은 인덱스를 가지는 num_series라는 시리즈의 데이터 값으로 넣어 출력하여라. 단, 넘파이 난수 생성 시 시드값을 85로 하여라."
      ],
      "metadata": {
        "id": "GHTPPVKzfn0A"
      }
    },
    {
      "cell_type": "code",
      "source": [
        "np.random.seed(85)  # 난수 시드값\n",
        "\n",
        "num_series = pd.Series(np.random.randint(0, 100, size = 5), index = ['a', 'b', 'c', 'd', 'e'])\n",
        "print(num_series)"
      ],
      "metadata": {
        "colab": {
          "base_uri": "https://localhost:8080/"
        },
        "id": "6xrn1e-of80r",
        "outputId": "9b832855-6936-4862-c9dc-9e46a08eb7c6"
      },
      "execution_count": 24,
      "outputs": [
        {
          "output_type": "stream",
          "name": "stdout",
          "text": [
            "a    32\n",
            "b    13\n",
            "c    68\n",
            "d    51\n",
            "e    13\n",
            "dtype: int64\n"
          ]
        }
      ]
    },
    {
      "cell_type": "markdown",
      "source": [
        "*np.random.seed()를 이용하여 난수 시드값을 85로 지정해준다.\n",
        "<br>\n",
        "pd.Series()를 이용하여 num_series 시리즈를 생성한다. 이때, 값으로는 np.random.randint(0, 100, size=5)를 이용하여 0\\~100 사이 랜덤값 정수 5개를 주고, 인덱스는 주어진대로 a\\~e 문자로 준다.*"
      ],
      "metadata": {
        "id": "ntVJ-ZIjgZp_"
      }
    },
    {
      "cell_type": "markdown",
      "source": [
        "<br>\n",
        "\n",
        "### 1-1. 이 num_series의 최대값을 출력하라."
      ],
      "metadata": {
        "id": "v56ejBLgg2Wr"
      }
    },
    {
      "cell_type": "code",
      "source": [
        "print(\"num_series의 최대값 :\", max(num_series))"
      ],
      "metadata": {
        "colab": {
          "base_uri": "https://localhost:8080/"
        },
        "id": "4flRHgNog6X2",
        "outputId": "71ab8a3a-9be2-4868-ac1f-42bd7f0d4f6a"
      },
      "execution_count": 25,
      "outputs": [
        {
          "output_type": "stream",
          "name": "stdout",
          "text": [
            "num_series의 최대값 : 68\n"
          ]
        }
      ]
    },
    {
      "cell_type": "markdown",
      "source": [
        "*max() 함수를 이용하여 최대값을 출력한다.*\n",
        "\n",
        "<br>\n",
        "\n",
        "### 1-2. 이 num_series의 최소값을 출력하라."
      ],
      "metadata": {
        "id": "G99mhIj9hBgS"
      }
    },
    {
      "cell_type": "code",
      "source": [
        "print(\"num_series의 최소값 :\", min(num_series))"
      ],
      "metadata": {
        "colab": {
          "base_uri": "https://localhost:8080/"
        },
        "id": "9zH6lRi-hISt",
        "outputId": "c52606c7-ba40-481e-e3f2-859ea7dece0f"
      },
      "execution_count": 26,
      "outputs": [
        {
          "output_type": "stream",
          "name": "stdout",
          "text": [
            "num_series의 최소값 : 13\n"
          ]
        }
      ]
    },
    {
      "cell_type": "markdown",
      "source": [
        "*min() 함수를 이용하여 최소값을 출력한다.*\n",
        "\n",
        "<br>\n",
        "\n",
        "### 1-3. 이 num_series의 평균값을 출력하라."
      ],
      "metadata": {
        "id": "7j0MjA-chMwl"
      }
    },
    {
      "cell_type": "code",
      "source": [
        "print(\"num_series의 평균값 :\", np.mean(num_series))"
      ],
      "metadata": {
        "colab": {
          "base_uri": "https://localhost:8080/"
        },
        "id": "c50rykpehURP",
        "outputId": "2f62938e-bddd-41aa-c56c-3609af281021"
      },
      "execution_count": 28,
      "outputs": [
        {
          "output_type": "stream",
          "name": "stdout",
          "text": [
            "num_series의 평균값 : 35.4\n"
          ]
        }
      ]
    },
    {
      "cell_type": "markdown",
      "source": [
        "*np.mean() 함수를 이용하여 평균값을 출력한다.*"
      ],
      "metadata": {
        "id": "1DHC7Xhvhjg1"
      }
    },
    {
      "cell_type": "markdown",
      "source": [
        "---\n",
        "\n",
        "<br>\n",
        "\n",
        "### 2. 이 장에서 사용한 weather.csv 파일을 판다스를 이용하여 읽고 데이터프레임을 만들어 처리하라."
      ],
      "metadata": {
        "id": "g8kHnEAChnYU"
      }
    },
    {
      "cell_type": "code",
      "source": [
        "# path는 위 코드에 있으니 생략\n",
        "weather = pd.read_csv(weather_file, index_col = 0, encoding = 'CP949')\n",
        "print(weather)"
      ],
      "metadata": {
        "colab": {
          "base_uri": "https://localhost:8080/"
        },
        "id": "SQGIbApEirYp",
        "outputId": "1795d079-8cfa-4d4f-dbd9-4ccb38a90be5"
      },
      "execution_count": 29,
      "outputs": [
        {
          "output_type": "stream",
          "name": "stdout",
          "text": [
            "            평균기온  최대풍속  평균풍속\n",
            "일시                          \n",
            "2010-08-01  28.7   8.3   3.4\n",
            "2010-08-02  25.2   8.7   3.8\n",
            "2010-08-03  22.1   6.3   2.9\n",
            "2010-08-04  25.3   6.6   4.2\n",
            "2010-08-05  27.2   9.1   5.6\n",
            "...          ...   ...   ...\n",
            "2020-07-27  22.1   4.2   1.7\n",
            "2020-07-28  21.9   4.5   1.6\n",
            "2020-07-29  21.6   3.2   1.0\n",
            "2020-07-30  22.9   9.7   2.4\n",
            "2020-07-31  25.7   4.8   2.5\n",
            "\n",
            "[3653 rows x 3 columns]\n"
          ]
        }
      ]
    },
    {
      "cell_type": "markdown",
      "source": [
        "*pd.read_csv()를 이용하여 weather.csv 파일을 읽어와 저장한다.*\n",
        "\n",
        "<br>\n",
        "\n",
        "### 2-1. 이 데이터의 앞 3개 향과 마지막 3개 행을 화면에 나타내라."
      ],
      "metadata": {
        "id": "ULuRoZbmi7yv"
      }
    },
    {
      "cell_type": "code",
      "source": [
        "print(weather.head(3))\n",
        "print(weather.tail(3))"
      ],
      "metadata": {
        "colab": {
          "base_uri": "https://localhost:8080/"
        },
        "id": "_CILJGqqjJO9",
        "outputId": "3b4ea346-c5c0-4096-fd88-e9d12bd2473b"
      },
      "execution_count": 30,
      "outputs": [
        {
          "output_type": "stream",
          "name": "stdout",
          "text": [
            "            평균기온  최대풍속  평균풍속\n",
            "일시                          \n",
            "2010-08-01  28.7   8.3   3.4\n",
            "2010-08-02  25.2   8.7   3.8\n",
            "2010-08-03  22.1   6.3   2.9\n",
            "            평균기온  최대풍속  평균풍속\n",
            "일시                          \n",
            "2020-07-29  21.6   3.2   1.0\n",
            "2020-07-30  22.9   9.7   2.4\n",
            "2020-07-31  25.7   4.8   2.5\n"
          ]
        }
      ]
    },
    {
      "cell_type": "markdown",
      "source": [
        "*head()와 tail() 메소드를 이용하여 앞/뒤에서부터 3개의 행만 출력하였다.*\n",
        "\n",
        "<br>\n",
        "\n",
        "### 2-2. 2015년 6월 6일의 울릉도 평균 기온과 풍속 정보를 확인해보아라."
      ],
      "metadata": {
        "id": "YE0keCLAjO4l"
      }
    },
    {
      "cell_type": "code",
      "source": [
        "print(weather.loc['2015-06-06'])"
      ],
      "metadata": {
        "colab": {
          "base_uri": "https://localhost:8080/"
        },
        "id": "IERlAw8ujaa6",
        "outputId": "4e6e48bd-eb06-433e-d086-5e63ddee3e12"
      },
      "execution_count": 33,
      "outputs": [
        {
          "output_type": "stream",
          "name": "stdout",
          "text": [
            "평균기온    16.6\n",
            "최대풍속     4.4\n",
            "평균풍속     1.9\n",
            "Name: 2015-06-06, dtype: float64\n"
          ]
        }
      ]
    },
    {
      "cell_type": "markdown",
      "source": [
        "*weather.loc을 이용하여 해당 문자열을 레이블로 가진 행을 추출한다.*\n",
        "\n",
        "<br>\n",
        "\n",
        "### 2-3. 가장 무더웠던 날이 언제이고, 이 날의 평균기온, 평균풍속, 최대풍속을 알아보아라."
      ],
      "metadata": {
        "id": "4R4JoKP2kYax"
      }
    },
    {
      "cell_type": "code",
      "source": [
        "print(weather[weather['평균기온'] == weather['평균기온'].max()])"
      ],
      "metadata": {
        "colab": {
          "base_uri": "https://localhost:8080/"
        },
        "id": "fTs0KPFEknID",
        "outputId": "b025efb8-343b-4151-a06b-aa28ef4b6821"
      },
      "execution_count": 34,
      "outputs": [
        {
          "output_type": "stream",
          "name": "stdout",
          "text": [
            "            평균기온  최대풍속  평균풍속\n",
            "일시                          \n",
            "2013-08-08  31.3   7.8   4.6\n"
          ]
        }
      ]
    },
    {
      "cell_type": "markdown",
      "source": [
        "*max()를 이용하여 평균기온이 평균기온 값들의 최댓값인 행을 추출한다.*\n",
        "\n",
        "<br>\n",
        "\n",
        "### 2-4. 울릉도의 평균기온이 30도를 넘는 날들을 찾아, 이날의 기상 데이터를 나열하라."
      ],
      "metadata": {
        "id": "TarFcWRckuN7"
      }
    },
    {
      "cell_type": "code",
      "source": [
        "print(weather[weather['평균기온'] > 30])"
      ],
      "metadata": {
        "colab": {
          "base_uri": "https://localhost:8080/"
        },
        "id": "zmV_B0ueldVT",
        "outputId": "17d58381-5b61-4123-be90-3adf6dea89a3"
      },
      "execution_count": 35,
      "outputs": [
        {
          "output_type": "stream",
          "name": "stdout",
          "text": [
            "            평균기온  최대풍속  평균풍속\n",
            "일시                          \n",
            "2013-08-08  31.3   7.8   4.6\n",
            "2013-08-09  30.6   9.9   6.4\n",
            "2013-08-10  30.6   7.4   3.8\n",
            "2018-07-23  30.5   6.5   1.6\n",
            "2018-08-04  30.3   5.8   3.0\n"
          ]
        }
      ]
    },
    {
      "cell_type": "markdown",
      "source": [
        "*weather에서 평균기온이 30보다 큰 경우에만 해당 행을 출력한다.*"
      ],
      "metadata": {
        "id": "-4ulIl3dlkT7"
      }
    },
    {
      "cell_type": "markdown",
      "source": [
        "---\n",
        "\n",
        "<br>\n",
        "\n",
        "### 3. 두 개의 데이터프레임을 판다스 DataFrame 클래스를 이용하여 생성하라. 이름은 df_1, df_2로 하여라."
      ],
      "metadata": {
        "id": "uV3JwrcUlrCx"
      }
    },
    {
      "cell_type": "code",
      "source": [
        "df_1 = pd.DataFrame({'A': ['A0', 'A1', 'A2'],\n",
        "                    'B': ['B0', 'B1', 'B2'],\n",
        "                    'C': ['C0', 'C1', 'C2'],\n",
        "                    'D': ['D0', 'D1', 'D2']})\n",
        "\n",
        "df_2 = pd.DataFrame({'B': ['B2', 'B3'],\n",
        "                     'C': ['C2', 'C3'],\n",
        "                     'D': ['D2', 'D3'],\n",
        "                     'E': ['E2', 'E3']})\n",
        "\n",
        "print(df_1)\n",
        "print(df_2)"
      ],
      "metadata": {
        "colab": {
          "base_uri": "https://localhost:8080/"
        },
        "id": "O8s7Vr1kl1h-",
        "outputId": "93925db9-284b-4a3e-8a71-2efe754611e2"
      },
      "execution_count": 37,
      "outputs": [
        {
          "output_type": "stream",
          "name": "stdout",
          "text": [
            "    A   B   C   D\n",
            "0  A0  B0  C0  D0\n",
            "1  A1  B1  C1  D1\n",
            "2  A2  B2  C2  D2\n",
            "    B   C   D   E\n",
            "0  B2  C2  D2  E2\n",
            "1  B3  C3  D3  E3\n"
          ]
        }
      ]
    },
    {
      "cell_type": "markdown",
      "source": [
        "*pd.DataFrame()을 이용하여 데이터프레임을 생성한다.*\n",
        "\n",
        "<br>\n",
        "\n",
        "### 3-1. 두 데이터프레임을 concat() 함수를 사용하여 결합하고 출력하라."
      ],
      "metadata": {
        "id": "YYbpkhh8mrdo"
      }
    },
    {
      "cell_type": "code",
      "source": [
        "print(pd.concat([df_1, df_2]))"
      ],
      "metadata": {
        "colab": {
          "base_uri": "https://localhost:8080/"
        },
        "id": "ugA2FCxUm2N5",
        "outputId": "b969d162-2287-4a37-cda3-09f485f07fa0"
      },
      "execution_count": 40,
      "outputs": [
        {
          "output_type": "stream",
          "name": "stdout",
          "text": [
            "     A   B   C   D    E\n",
            "0   A0  B0  C0  D0  NaN\n",
            "1   A1  B1  C1  D1  NaN\n",
            "2   A2  B2  C2  D2  NaN\n",
            "0  NaN  B2  C2  D2   E2\n",
            "1  NaN  B3  C3  D3   E3\n"
          ]
        }
      ]
    },
    {
      "cell_type": "markdown",
      "source": [
        "*pd.concat() 함수에 df_1과 df_2를 인자로 주어 두 데이터프레임을 결합하였다.*\n",
        "\n",
        "<br>\n",
        "\n",
        "### 3-2. 두 데이터프레임을 concat() 함수를 사용하여 결합하고 출력하라."
      ],
      "metadata": {
        "id": "sNvAj3rqnBNO"
      }
    },
    {
      "cell_type": "code",
      "source": [
        "print(pd.concat([df_1, df_2], axis = 1, join = 'inner'))"
      ],
      "metadata": {
        "colab": {
          "base_uri": "https://localhost:8080/"
        },
        "id": "5OHpu1W1nKmx",
        "outputId": "15ee41b0-9a2a-4cb6-8d55-19fbb3664b6f"
      },
      "execution_count": 43,
      "outputs": [
        {
          "output_type": "stream",
          "name": "stdout",
          "text": [
            "    A   B   C   D   B   C   D   E\n",
            "0  A0  B0  C0  D0  B2  C2  D2  E2\n",
            "1  A1  B1  C1  D1  B3  C3  D3  E3\n"
          ]
        }
      ]
    },
    {
      "cell_type": "markdown",
      "source": [
        "*pd.concat()함수를 이용하여 결합하되, axis=1을 인자로 주어 테이블을 열로 늘이며 결합하게 하였고, join='inner'로 주어서 교집합으로 결합하도록 해주었다.*"
      ],
      "metadata": {
        "id": "s464VIunnhU2"
      }
    }
  ]
}