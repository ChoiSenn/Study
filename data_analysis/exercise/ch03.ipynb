{
  "nbformat": 4,
  "nbformat_minor": 0,
  "metadata": {
    "colab": {
      "name": "ch03_test.ipynb",
      "provenance": [],
      "collapsed_sections": [],
      "authorship_tag": "ABX9TyP4hWd1kRuR+Rk4rEhQz9o9",
      "include_colab_link": true
    },
    "kernelspec": {
      "name": "python3",
      "display_name": "Python 3"
    },
    "language_info": {
      "name": "python"
    }
  },
  "cells": [
    {
      "cell_type": "markdown",
      "metadata": {
        "id": "view-in-github",
        "colab_type": "text"
      },
      "source": [
        "<a href=\"https://colab.research.google.com/github/ChoiSenn/Study/blob/main/data_analysis/exercise/ch03.ipynb\" target=\"_parent\"><img src=\"https://colab.research.google.com/assets/colab-badge.svg\" alt=\"Open In Colab\"/></a>"
      ]
    },
    {
      "cell_type": "markdown",
      "source": [
        "# 3. 파이썬 라이브러리 : 넘파이\n",
        "\n",
        "\n",
        "## 3-1. 파이썬 리스트와 넘파이\n",
        "\n",
        "## 3-2. 다차원 배열의 속성들"
      ],
      "metadata": {
        "id": "7fqp5hTRp8vO"
      }
    },
    {
      "cell_type": "code",
      "execution_count": null,
      "metadata": {
        "colab": {
          "base_uri": "https://localhost:8080/"
        },
        "id": "XkMK56yInAMD",
        "outputId": "67c0c0a2-9ad0-40e0-e501-440bdd14ade4"
      },
      "outputs": [
        {
          "output_type": "execute_result",
          "data": {
            "text/plain": [
              "((3,), 1, dtype('int64'), 8, 3)"
            ]
          },
          "metadata": {},
          "execution_count": 3
        }
      ],
      "source": [
        "import numpy as np\n",
        "\n",
        "a = np.array([2, 3, 4])  # 넘파이로 ndarray 객체 생성\n",
        "\n",
        "# a 객체의 형상, 차원, 요소의 자료형, 요소의 크기(byte), 요소의 수\n",
        "a.shape, a.ndim, a.dtype, a.itemsize, a.size\n",
        "\n",
        "# ndim : 배열 축 혹은 차원의 개수를 나타냄\n",
        "# shape : 배열의 형상을 기술하며 (m, n) 형식의 튜블 형으로 나타냄\n",
        "# size : 배열 원소의 개수를 말하며 (m, n) 형상 배열의 size는 m X n임\n",
        "# dtype : 배열 원소의 자료형을 기술함\n",
        "# itemsize : 배열 원소의 크기를 바이트 단위로 기술. 예를 들어 int32 자료형의 크기는 32/8 = 4바이트\n",
        "# data : 배열의 실제 원소를 포함하고 있는 버퍼\n",
        "# stride : 배열의 차원별로 다음 요소로 점프하는 데에 필요한 거리를 바이트로 표시한 값"
      ]
    },
    {
      "cell_type": "code",
      "source": [
        "b = np.array([[1, 2, 3], [4, 5, 6]])  # ndarray 객체인 b 생성\n",
        "\n",
        "b.shape"
      ],
      "metadata": {
        "colab": {
          "base_uri": "https://localhost:8080/"
        },
        "id": "uiWEROyeocxX",
        "outputId": "27268726-3969-47ad-f496-4da92da4bcf9"
      },
      "execution_count": null,
      "outputs": [
        {
          "output_type": "execute_result",
          "data": {
            "text/plain": [
              "(2, 3)"
            ]
          },
          "metadata": {},
          "execution_count": 4
        }
      ]
    },
    {
      "cell_type": "code",
      "source": [
        "# 다차원 배열은 파이썬 리스트와 유사하게 연산자 적용 가능. 다만 사칙연산 수행 시, 개별 원소별로 연산이 이루어짐.\n",
        "\n",
        "a = np.array([10, 20, 30]) \n",
        "b = np.array([1, 2, 3])\n",
        "\n",
        "a + b"
      ],
      "metadata": {
        "colab": {
          "base_uri": "https://localhost:8080/"
        },
        "id": "s-WrBdxro4jM",
        "outputId": "ff351663-ad94-4be2-941b-5bcaee85bc53"
      },
      "execution_count": null,
      "outputs": [
        {
          "output_type": "execute_result",
          "data": {
            "text/plain": [
              "array([11, 22, 33])"
            ]
          },
          "metadata": {},
          "execution_count": 6
        }
      ]
    },
    {
      "cell_type": "code",
      "source": [
        "a - b"
      ],
      "metadata": {
        "colab": {
          "base_uri": "https://localhost:8080/"
        },
        "id": "EIhB5xzJpJIy",
        "outputId": "dd724c84-0ee0-47ae-999f-caefa23490e3"
      },
      "execution_count": null,
      "outputs": [
        {
          "output_type": "execute_result",
          "data": {
            "text/plain": [
              "array([ 9, 18, 27])"
            ]
          },
          "metadata": {},
          "execution_count": 7
        }
      ]
    },
    {
      "cell_type": "code",
      "source": [
        "a * b"
      ],
      "metadata": {
        "colab": {
          "base_uri": "https://localhost:8080/"
        },
        "id": "XCLziIMTpJ26",
        "outputId": "703f1068-ba02-49f7-cffb-f0c9b98d1ae4"
      },
      "execution_count": null,
      "outputs": [
        {
          "output_type": "execute_result",
          "data": {
            "text/plain": [
              "array([10, 40, 90])"
            ]
          },
          "metadata": {},
          "execution_count": 8
        }
      ]
    },
    {
      "cell_type": "code",
      "source": [
        "a / b"
      ],
      "metadata": {
        "colab": {
          "base_uri": "https://localhost:8080/"
        },
        "id": "JeJ64tampKpJ",
        "outputId": "7df0fe78-e63c-4a2a-8981-86807d13396b"
      },
      "execution_count": null,
      "outputs": [
        {
          "output_type": "execute_result",
          "data": {
            "text/plain": [
              "array([10., 10., 10.])"
            ]
          },
          "metadata": {},
          "execution_count": 9
        }
      ]
    },
    {
      "cell_type": "code",
      "source": [
        "# 넘파이 배열의 데이터 타입을 지정하는 두 가지 방법\n",
        "\n",
        "a = np.array([1, 2, 3, 4], dtype = np.int32)  # 속성 값으로 지정\n",
        "b = np.array([1, 2, 3, 4], dtype = 'int32')  # 문자열 형식으로 속성 값 지정"
      ],
      "metadata": {
        "id": "mBuxMh4-pddl"
      },
      "execution_count": null,
      "outputs": []
    },
    {
      "cell_type": "markdown",
      "source": [
        "\n",
        "\n",
        "---\n",
        "\n",
        "\n",
        "\n",
        "## 3-3. 다차원 배열과 브로드캐스팅"
      ],
      "metadata": {
        "id": "kxBsnf4fqjEM"
      }
    },
    {
      "cell_type": "code",
      "source": [
        "# 배열에 스칼라 값을 곱하면 모든 원소에 대해 각각 값이 곱해지는 것을 확인 가능\n",
        "\n",
        "a = np.array([10, 20, 30])\n",
        " \n",
        "a * 10"
      ],
      "metadata": {
        "colab": {
          "base_uri": "https://localhost:8080/"
        },
        "id": "W6BptD18qlT9",
        "outputId": "771fe92c-5b15-4e7d-e471-167e47ba00f0"
      },
      "execution_count": null,
      "outputs": [
        {
          "output_type": "execute_result",
          "data": {
            "text/plain": [
              "array([100, 200, 300])"
            ]
          },
          "metadata": {},
          "execution_count": 12
        }
      ]
    },
    {
      "cell_type": "code",
      "source": [
        "a + 10"
      ],
      "metadata": {
        "colab": {
          "base_uri": "https://localhost:8080/"
        },
        "id": "qaSUJalkt7iz",
        "outputId": "eea51e20-6337-474f-e001-e74f68e119b0"
      },
      "execution_count": null,
      "outputs": [
        {
          "output_type": "execute_result",
          "data": {
            "text/plain": [
              "array([20, 30, 40])"
            ]
          },
          "metadata": {},
          "execution_count": 13
        }
      ]
    },
    {
      "cell_type": "markdown",
      "source": [
        "브로드캐스팅 : 넘파이는 a * 10을 수행 시, np.array([10, 20, 30]) * np.array([10, 10, 10])와 같이 a의 차원에 맞게 자동으로 스칼라를 벡터로 확장시켜주는 작업을 한다.\n",
        "\n",
        "벡터화 연산 : 브로드캐스팅과 동시에 파이썬은 하나의 명령을 여러 데이터에 적용하여 병렬적으로 연산한다."
      ],
      "metadata": {
        "id": "weBOsocBt-L6"
      }
    },
    {
      "cell_type": "code",
      "source": [
        "b = np.array([[10, 20, 30], [40, 50, 60]])\n",
        "c = np.array([2, 3, 4])\n",
        "\n",
        "b + c"
      ],
      "metadata": {
        "colab": {
          "base_uri": "https://localhost:8080/"
        },
        "id": "N1iJEb84wQcA",
        "outputId": "7264d35f-8373-4717-a6d8-86507f4647cc"
      },
      "execution_count": null,
      "outputs": [
        {
          "output_type": "execute_result",
          "data": {
            "text/plain": [
              "array([[12, 23, 34],\n",
              "       [42, 53, 64]])"
            ]
          },
          "metadata": {},
          "execution_count": 14
        }
      ]
    },
    {
      "cell_type": "markdown",
      "source": [
        " 또한, 넘파이는 다차원 배열을 쉽게 생성하는 함수도 지원하고 있다.\n",
        " zeros((n, m)) 함수는 n X m 배열을 생성하는데 그 초기값은 0으로 한다. ones((n, m)) 함수를 호출하면 초기값을 1로 가지는 n X m 배열을 생성한다.\n",
        " \n",
        " 단위행렬 : 행과 열의 크기가 동일한 정방행렬 중에서 대각선 성분이 1이고 나머지 성분은 0인 행렬이다. eye(n) 함수를 이용해 n X n 크기의 단위행렬을 생성한다."
      ],
      "metadata": {
        "id": "36t_hDAix_Id"
      }
    },
    {
      "cell_type": "code",
      "source": [
        "np.zeros((2, 3))  # 2행 3열의 행렬 생성, 모든 값을 0으로"
      ],
      "metadata": {
        "colab": {
          "base_uri": "https://localhost:8080/"
        },
        "id": "DgCKrWCzyfiR",
        "outputId": "618517db-def9-44ea-d3ac-1f34080516ba"
      },
      "execution_count": null,
      "outputs": [
        {
          "output_type": "execute_result",
          "data": {
            "text/plain": [
              "array([[0., 0., 0.],\n",
              "       [0., 0., 0.]])"
            ]
          },
          "metadata": {},
          "execution_count": 15
        }
      ]
    },
    {
      "cell_type": "code",
      "source": [
        "np.ones((2, 3))  # 2행 3열의 행렬 생성, 모든 값을 1으로"
      ],
      "metadata": {
        "colab": {
          "base_uri": "https://localhost:8080/"
        },
        "id": "qLpH-KkdzTkI",
        "outputId": "38f588ff-2ed1-4552-b1a6-8330c854eb1e"
      },
      "execution_count": null,
      "outputs": [
        {
          "output_type": "execute_result",
          "data": {
            "text/plain": [
              "array([[1., 1., 1.],\n",
              "       [1., 1., 1.]])"
            ]
          },
          "metadata": {},
          "execution_count": 18
        }
      ]
    },
    {
      "cell_type": "code",
      "source": [
        "np.full((2, 3), 100)  # 2행 3열의 행렬 생성, 모든 값을 000으로"
      ],
      "metadata": {
        "colab": {
          "base_uri": "https://localhost:8080/"
        },
        "id": "r925IQuEzVof",
        "outputId": "68d53422-d7db-4732-f4dd-1807439ffab6"
      },
      "execution_count": null,
      "outputs": [
        {
          "output_type": "execute_result",
          "data": {
            "text/plain": [
              "array([[100, 100, 100],\n",
              "       [100, 100, 100]])"
            ]
          },
          "metadata": {},
          "execution_count": 17
        }
      ]
    },
    {
      "cell_type": "code",
      "source": [
        "np.eye(3)  # 3 X 3 크기의 단위행렬 생성"
      ],
      "metadata": {
        "colab": {
          "base_uri": "https://localhost:8080/"
        },
        "id": "zusJ6Nw4zYe0",
        "outputId": "c4b1351c-671f-4acd-d671-88eaa71fc231"
      },
      "execution_count": null,
      "outputs": [
        {
          "output_type": "execute_result",
          "data": {
            "text/plain": [
              "array([[1., 0., 0.],\n",
              "       [0., 1., 0.],\n",
              "       [0., 0., 1.]])"
            ]
          },
          "metadata": {},
          "execution_count": 16
        }
      ]
    },
    {
      "cell_type": "code",
      "source": [
        "# ! 도전문제 3.1 : 대각 성분이 모두 10인 4 X 4 크기의 다차원 배열을 생성하기\n",
        "\n",
        "np.diag([10., 10., 10., 10.])"
      ],
      "metadata": {
        "colab": {
          "base_uri": "https://localhost:8080/"
        },
        "id": "TSeXAKoFzkUw",
        "outputId": "e13a9347-f858-41e9-d709-9e7652a302a2"
      },
      "execution_count": null,
      "outputs": [
        {
          "output_type": "execute_result",
          "data": {
            "text/plain": [
              "array([[10.,  0.,  0.,  0.],\n",
              "       [ 0., 10.,  0.,  0.],\n",
              "       [ 0.,  0., 10.,  0.],\n",
              "       [ 0.,  0.,  0., 10.]])"
            ]
          },
          "metadata": {},
          "execution_count": 31
        }
      ]
    },
    {
      "cell_type": "markdown",
      "source": [
        "\n",
        "\n",
        "---\n",
        "\n",
        "## 3-4. 연속적인 값을 가지는 다차원 배열의 생성\n",
        "\n",
        "\n",
        "함수 arange(m, n)은 리스트의 range() 함수와 유사하며, m부터 n-1까지 연속적인 정수나 실수를 만들어준다.\n",
        " arange(m, n, step)과 같이 3개의 인자을 넣어주게 되면 m부터 n까지 step 만큼 건너뛰며 연속적인 정수나 실수를 생성한다."
      ],
      "metadata": {
        "id": "TblqCg7xXJtu"
      }
    },
    {
      "cell_type": "code",
      "source": [
        "np.arange(0, 10)  # 0에서 9까지 연속적인 수열을 생성"
      ],
      "metadata": {
        "colab": {
          "base_uri": "https://localhost:8080/"
        },
        "id": "E4B8NE8fXkLf",
        "outputId": "dbe01134-20e7-49ae-f8aa-cc7cf5d1b8bf"
      },
      "execution_count": null,
      "outputs": [
        {
          "output_type": "execute_result",
          "data": {
            "text/plain": [
              "array([0, 1, 2, 3, 4, 5, 6, 7, 8, 9])"
            ]
          },
          "metadata": {},
          "execution_count": 5
        }
      ]
    },
    {
      "cell_type": "code",
      "source": [
        "np.arange(0, 10, 2)  # 2씩 증가하는 수열을 생성"
      ],
      "metadata": {
        "colab": {
          "base_uri": "https://localhost:8080/"
        },
        "id": "l5krHpuXX328",
        "outputId": "e29d8c63-8e00-441d-8078-b08a89a00bca"
      },
      "execution_count": null,
      "outputs": [
        {
          "output_type": "execute_result",
          "data": {
            "text/plain": [
              "array([0, 2, 4, 6, 8])"
            ]
          },
          "metadata": {},
          "execution_count": 4
        }
      ]
    },
    {
      "cell_type": "code",
      "source": [
        "np.arange(0, 10, 3)  # 3씩 증가하는 수열을 생성"
      ],
      "metadata": {
        "colab": {
          "base_uri": "https://localhost:8080/"
        },
        "id": "rajNvNb1X5vA",
        "outputId": "cf557e88-612d-408d-aa55-604ab36c46d5"
      },
      "execution_count": null,
      "outputs": [
        {
          "output_type": "execute_result",
          "data": {
            "text/plain": [
              "array([0, 3, 6, 9])"
            ]
          },
          "metadata": {},
          "execution_count": 6
        }
      ]
    },
    {
      "cell_type": "code",
      "source": [
        "np.arange(0.0, 1.0, 0.2)  # 0.2씩 증가하는 수열을 생성"
      ],
      "metadata": {
        "colab": {
          "base_uri": "https://localhost:8080/"
        },
        "id": "8nQ2Of5HX8jX",
        "outputId": "a631442e-6454-45b2-a3e5-8c05dcf9fda1"
      },
      "execution_count": null,
      "outputs": [
        {
          "output_type": "execute_result",
          "data": {
            "text/plain": [
              "array([0. , 0.2, 0.4, 0.6, 0.8])"
            ]
          },
          "metadata": {},
          "execution_count": 8
        }
      ]
    },
    {
      "cell_type": "markdown",
      "source": [
        "linspace() 함수는 지정된 구간에서 동일한 간격의 값을 지정된 횟수만큼 생성한다.\n",
        "linspace(start, stop, num=50)일때 start~stop 사이의 구간에 대해(start와 stop 값 포함) 50개의 값을 같은 간격으로 생성한다."
      ],
      "metadata": {
        "id": "a1L8xfNjbbns"
      }
    },
    {
      "cell_type": "code",
      "source": [
        "np.linspace(0, 10, 5)"
      ],
      "metadata": {
        "colab": {
          "base_uri": "https://localhost:8080/"
        },
        "id": "KV6WRahhbwxu",
        "outputId": "88ddbee4-bb52-45d9-f6d7-295502eabca9"
      },
      "execution_count": null,
      "outputs": [
        {
          "output_type": "execute_result",
          "data": {
            "text/plain": [
              "array([ 0. ,  2.5,  5. ,  7.5, 10. ])"
            ]
          },
          "metadata": {},
          "execution_count": 9
        }
      ]
    },
    {
      "cell_type": "code",
      "source": [
        "np.linspace(0, 10, 4)"
      ],
      "metadata": {
        "colab": {
          "base_uri": "https://localhost:8080/"
        },
        "id": "V448iLV4bzlb",
        "outputId": "d8772b58-48cd-41d3-b7f4-ac2a84cb9355"
      },
      "execution_count": null,
      "outputs": [
        {
          "output_type": "execute_result",
          "data": {
            "text/plain": [
              "array([ 0.        ,  3.33333333,  6.66666667, 10.        ])"
            ]
          },
          "metadata": {},
          "execution_count": 10
        }
      ]
    },
    {
      "cell_type": "markdown",
      "source": [
        "logspace() 함수는 로스 스케일로 수들을 생성한다. \n",
        "logspace(x, y, n)일때 수의 시작은 10^x부너 10^y까지가 되며, n개의 수가 생성된다. 수들 사이의 간격은 로그 스케일로 균등하게 결정된다."
      ],
      "metadata": {
        "id": "5XrzqK-Vb3DI"
      }
    },
    {
      "cell_type": "code",
      "source": [
        "a = np.logspace(0, 5, 6).round(10)  # 10^0에서 10^5까지 6개의 수를 로그 스케일로 균일한 간격으로 생성한다.\n",
        "a"
      ],
      "metadata": {
        "colab": {
          "base_uri": "https://localhost:8080/"
        },
        "id": "17-DgKVScKvo",
        "outputId": "1f75e81d-1420-49ca-c1a8-50a97e9bd6ab"
      },
      "execution_count": null,
      "outputs": [
        {
          "output_type": "execute_result",
          "data": {
            "text/plain": [
              "array([1.e+00, 1.e+01, 1.e+02, 1.e+03, 1.e+04, 1.e+05])"
            ]
          },
          "metadata": {},
          "execution_count": 11
        }
      ]
    },
    {
      "cell_type": "code",
      "source": [
        "np.log10(a)  # A 배열에 로그를 취하면 0, 1, 2, 3, 4, 5가 생성된다."
      ],
      "metadata": {
        "colab": {
          "base_uri": "https://localhost:8080/"
        },
        "id": "071mC4nscQV1",
        "outputId": "8ae9466f-eecb-4124-cb95-78cf6687d511"
      },
      "execution_count": null,
      "outputs": [
        {
          "output_type": "execute_result",
          "data": {
            "text/plain": [
              "array([0., 1., 2., 3., 4., 5.])"
            ]
          },
          "metadata": {},
          "execution_count": 12
        }
      ]
    },
    {
      "cell_type": "code",
      "source": [
        "# ? 도전문제 3.2 : sin0도에서 sin180도 사이의 값 11개를 다음과 같이 출력하라. 이때 sin() 함수의 입력을 라디안을 사용하라.\n",
        "\n",
        "np.linspace(0, np.pi, 11)"
      ],
      "metadata": {
        "colab": {
          "base_uri": "https://localhost:8080/"
        },
        "id": "7jthA87Zce1t",
        "outputId": "e76057cd-b3e0-4773-fd39-e9e75526cc4c"
      },
      "execution_count": null,
      "outputs": [
        {
          "output_type": "execute_result",
          "data": {
            "text/plain": [
              "array([0.        , 0.31415927, 0.62831853, 0.9424778 , 1.25663706,\n",
              "       1.57079633, 1.88495559, 2.19911486, 2.51327412, 2.82743339,\n",
              "       3.14159265])"
            ]
          },
          "metadata": {},
          "execution_count": 21
        }
      ]
    },
    {
      "cell_type": "markdown",
      "source": [
        "\n",
        "\n",
        "---\n",
        "\n",
        "\n",
        "## 3-5. 다차원 배열의 축과 삽입\n",
        "\n",
        "\n",
        "insert() 함수를 이용하여 다차원 배열에서 축을 이용하여 원소를 삽입할 수 있다."
      ],
      "metadata": {
        "id": "BkajbghBkREA"
      }
    },
    {
      "cell_type": "code",
      "source": [
        "a = np.array([1, 3, 4])\n",
        "np.insert(a, 1, 2)  # 배열 a의 두 번째 원소에 2를 삽입"
      ],
      "metadata": {
        "colab": {
          "base_uri": "https://localhost:8080/"
        },
        "id": "34aUbaPRkdo2",
        "outputId": "c3de67cf-e4d7-422a-e44b-2f9bf1db4063"
      },
      "execution_count": null,
      "outputs": [
        {
          "output_type": "execute_result",
          "data": {
            "text/plain": [
              "array([1, 2, 3, 4])"
            ]
          },
          "metadata": {},
          "execution_count": 22
        }
      ]
    },
    {
      "cell_type": "code",
      "source": [
        "b = np.array([[1, 1], [2, 2], [3, 3]])\n",
        "np.insert(b, 1, 4, axis = 0)  # 배열 b의 axis=0(행) 방향의 두 번째 항목에 4를 삽입한다."
      ],
      "metadata": {
        "colab": {
          "base_uri": "https://localhost:8080/"
        },
        "id": "UsGUfwyGkoX6",
        "outputId": "722527e2-35d0-443e-9e75-51c06f739152"
      },
      "execution_count": null,
      "outputs": [
        {
          "output_type": "execute_result",
          "data": {
            "text/plain": [
              "array([[1, 1],\n",
              "       [4, 4],\n",
              "       [2, 2],\n",
              "       [3, 3]])"
            ]
          },
          "metadata": {},
          "execution_count": 24
        }
      ]
    },
    {
      "cell_type": "code",
      "source": [
        "np.insert(b, 1, 4, axis=1)  # 축의 방향의 두 번째 항목에 4를 삽입한다."
      ],
      "metadata": {
        "colab": {
          "base_uri": "https://localhost:8080/"
        },
        "id": "4P2MkodhlCUi",
        "outputId": "461f9eaf-20e4-40f0-c23c-6cc4fa774473"
      },
      "execution_count": null,
      "outputs": [
        {
          "output_type": "execute_result",
          "data": {
            "text/plain": [
              "array([[1, 4, 1],\n",
              "       [2, 4, 2],\n",
              "       [3, 4, 3]])"
            ]
          },
          "metadata": {},
          "execution_count": 25
        }
      ]
    },
    {
      "cell_type": "code",
      "source": [
        "# 도전문제 3.3 : b 배열에 코드 수행\n",
        "\n",
        "b = np.array([[1, 1], [2, 2], [3, 3]])\n",
        "np.insert(b, 1, [1, 2, 3], axis=1)"
      ],
      "metadata": {
        "colab": {
          "base_uri": "https://localhost:8080/"
        },
        "id": "fiEH0tHYlQi7",
        "outputId": "eb31bafd-36b3-4334-960a-7a68a03d4a0a"
      },
      "execution_count": null,
      "outputs": [
        {
          "output_type": "execute_result",
          "data": {
            "text/plain": [
              "array([[1, 1, 1],\n",
              "       [2, 2, 2],\n",
              "       [3, 3, 3]])"
            ]
          },
          "metadata": {},
          "execution_count": 28
        }
      ]
    },
    {
      "cell_type": "markdown",
      "source": [
        "\n",
        "\n",
        "---\n",
        "\n",
        "## 3-6. 파이썬 리스트 VS 넘파이 다차원 배열\n",
        "\n",
        "파이썬의 리스트는 동일하지 않은 자료형을 가진 항목들을 담을 수 있다. 반면 넘파이의 ndarray 객체는 동일한 자료형의 항목들만 저장한다. 그래서 넘파이가 원소에 접근하는 속도가 더 빠르다.\n",
        "\n",
        "\n",
        "\n",
        "\n",
        "---\n",
        "\n",
        "## 3-7. 넘파이 배열의 인덱싱과 슬라이싱\n",
        "\n",
        "다차원 배열 내의 원소는 인덱스라고 불리는 정수를 사용하여 참조할 수 있다."
      ],
      "metadata": {
        "id": "Y14GTMxHoVP5"
      }
    },
    {
      "cell_type": "code",
      "source": [
        "a = np.array([[1, 2, 3], [4, 5, 6], [7, 8, 9], [0, 1, 2]])\n",
        "\n",
        "print(a[0][0])\n",
        "print(a[2])"
      ],
      "metadata": {
        "colab": {
          "base_uri": "https://localhost:8080/"
        },
        "id": "GqP9IhIOsedJ",
        "outputId": "e1b11b64-c1c6-4c4e-be12-488726704013"
      },
      "execution_count": null,
      "outputs": [
        {
          "output_type": "stream",
          "name": "stdout",
          "text": [
            "1\n",
            "[7 8 9]\n"
          ]
        }
      ]
    },
    {
      "cell_type": "code",
      "source": [
        "a[1:][0:2]  # [4, 5], [7, 8], [0, 1]이 값으로 나오지 않는 이유는 a[1:]로 먼저 슬라이싱 하고 그 값을 다시 [0:2]로 슬라이싱 한 값이기 때문이다."
      ],
      "metadata": {
        "colab": {
          "base_uri": "https://localhost:8080/"
        },
        "id": "H58_laz6sueN",
        "outputId": "fc41494a-7e7e-4f27-fbb3-740a4ed0264b"
      },
      "execution_count": null,
      "outputs": [
        {
          "output_type": "execute_result",
          "data": {
            "text/plain": [
              "array([[4, 5, 6],\n",
              "       [7, 8, 9]])"
            ]
          },
          "metadata": {},
          "execution_count": 30
        }
      ]
    },
    {
      "cell_type": "markdown",
      "source": [
        "\n",
        "\n",
        "---\n",
        "\n",
        "## 3-8. 다차원 배열의 최대값, 최소값, 평균값 구하기와 정렬\n",
        "\n"
      ],
      "metadata": {
        "id": "UW1YZYDotTsJ"
      }
    },
    {
      "cell_type": "code",
      "source": [
        "a = np.array([10, 20, 30])\n",
        "\n",
        "# 최대값, 최소값, 평균, 자료형을 float64로 변환\n",
        "a.max(), a.min(), a.mean(), a.astype(np.float64)"
      ],
      "metadata": {
        "colab": {
          "base_uri": "https://localhost:8080/"
        },
        "id": "CuobvKaWtZyZ",
        "outputId": "64969b7d-8b32-433a-ee8f-a9fb1ff2f1b4"
      },
      "execution_count": null,
      "outputs": [
        {
          "output_type": "execute_result",
          "data": {
            "text/plain": [
              "(30, 10, 20.0, array([10., 20., 30.]))"
            ]
          },
          "metadata": {},
          "execution_count": 31
        }
      ]
    },
    {
      "cell_type": "code",
      "source": [
        "b = np.array([[1, 1], [2, 2], [3, 3]])\n",
        "\n",
        "b.flatten()  # 다차원 배열의 평탄화 메소드"
      ],
      "metadata": {
        "colab": {
          "base_uri": "https://localhost:8080/"
        },
        "id": "eg_tzDL5tnzn",
        "outputId": "6167393d-f21c-44f6-e9e5-213fbcfae511"
      },
      "execution_count": null,
      "outputs": [
        {
          "output_type": "execute_result",
          "data": {
            "text/plain": [
              "array([1, 1, 2, 2, 3, 3])"
            ]
          },
          "metadata": {},
          "execution_count": 32
        }
      ]
    },
    {
      "cell_type": "code",
      "source": [
        "b.T  # 행과 열의 순서를 서로 교환하는 것(전치)"
      ],
      "metadata": {
        "colab": {
          "base_uri": "https://localhost:8080/"
        },
        "id": "8qj4U1Kav0lx",
        "outputId": "bbb23da5-0607-4803-a4e1-5e7102975119"
      },
      "execution_count": null,
      "outputs": [
        {
          "output_type": "execute_result",
          "data": {
            "text/plain": [
              "array([[1, 2, 3],\n",
              "       [1, 2, 3]])"
            ]
          },
          "metadata": {},
          "execution_count": 34
        }
      ]
    },
    {
      "cell_type": "code",
      "source": [
        "c = np.array([35, 24, 55, 69, 19, 99])\n",
        "\n",
        "c.sort()  # 배열의 정렬(오름차순)\n",
        "c[::-1]  # 역순 인덱싱하여 내림차순"
      ],
      "metadata": {
        "colab": {
          "base_uri": "https://localhost:8080/"
        },
        "id": "JUnmdREtv8MJ",
        "outputId": "e2e3d40f-41ad-4f1a-b448-58768d63a3cd"
      },
      "execution_count": null,
      "outputs": [
        {
          "output_type": "execute_result",
          "data": {
            "text/plain": [
              "array([99, 69, 55, 35, 24, 19])"
            ]
          },
          "metadata": {},
          "execution_count": 35
        }
      ]
    },
    {
      "cell_type": "code",
      "source": [
        "d = np.array([[35, 24, 55], [69, 19, 9], [4, 1, 11]])\n",
        "\n",
        "d.sort()  # 배열의 정렬. 디폴트는 axis = 1 (행 방향으로 오름차순 정렬)\n",
        "d"
      ],
      "metadata": {
        "colab": {
          "base_uri": "https://localhost:8080/"
        },
        "id": "Z2zKn6fawHWX",
        "outputId": "1eb859fc-79b9-42dc-bc45-e815b4301c17"
      },
      "execution_count": null,
      "outputs": [
        {
          "output_type": "execute_result",
          "data": {
            "text/plain": [
              "array([[24, 35, 55],\n",
              "       [ 9, 19, 69],\n",
              "       [ 1,  4, 11]])"
            ]
          },
          "metadata": {},
          "execution_count": 37
        }
      ]
    },
    {
      "cell_type": "code",
      "source": [
        "d = np.array([[35, 24, 55], [69, 19, 9], [4, 1, 11]])\n",
        "\n",
        "d.sort(axis=0)  # 배열의 정렬(열 방향으로 오름차순 정렬)\n",
        "d"
      ],
      "metadata": {
        "colab": {
          "base_uri": "https://localhost:8080/"
        },
        "id": "GXze2qaOwams",
        "outputId": "f0a95aae-4751-4ca4-ba87-0493ad2646ad"
      },
      "execution_count": null,
      "outputs": [
        {
          "output_type": "execute_result",
          "data": {
            "text/plain": [
              "array([[ 4,  1,  9],\n",
              "       [35, 19, 11],\n",
              "       [69, 24, 55]])"
            ]
          },
          "metadata": {},
          "execution_count": 41
        }
      ]
    },
    {
      "cell_type": "code",
      "source": [
        "# 도전문제 3.4 : 내림차순 정렬 연습\n",
        "\n",
        "d = np.array([[35, 24, 55], [69, 19, 9], [4, 1, 11]])\n",
        "\n",
        "d.sort()\n",
        "np.flip(d, axis=1)"
      ],
      "metadata": {
        "colab": {
          "base_uri": "https://localhost:8080/"
        },
        "id": "BHGFAgImwyA1",
        "outputId": "883b60ef-ada6-4279-ae71-fff78e4caf7b"
      },
      "execution_count": null,
      "outputs": [
        {
          "output_type": "execute_result",
          "data": {
            "text/plain": [
              "array([[55, 35, 24],\n",
              "       [69, 19,  9],\n",
              "       [11,  4,  1]])"
            ]
          },
          "metadata": {},
          "execution_count": 86
        }
      ]
    },
    {
      "cell_type": "code",
      "source": [
        "d = np.array([[35, 24, 55], [69, 19, 9], [4, 1, 11]])\n",
        "\n",
        "d.sort(axis=0)\n",
        "d"
      ],
      "metadata": {
        "colab": {
          "base_uri": "https://localhost:8080/"
        },
        "id": "e8OBpI__0WOg",
        "outputId": "d7d8c4bf-0a48-4424-925b-27f625d28e09"
      },
      "execution_count": null,
      "outputs": [
        {
          "output_type": "execute_result",
          "data": {
            "text/plain": [
              "array([[ 4,  1,  9],\n",
              "       [35, 19, 11],\n",
              "       [69, 24, 55]])"
            ]
          },
          "metadata": {},
          "execution_count": 89
        }
      ]
    },
    {
      "cell_type": "markdown",
      "source": [
        "\n",
        "\n",
        "---\n",
        "\n",
        "## 3-9. 다차원 배열을 위한 append() 함수와 행렬 곱셈\n",
        "\n",
        "append() 함수는 인자로 입력된 두 배열을 합한다. axis를 통해 축을 명시하지 않으면 디폴트인 1차원 배열로 변환하게 된다.\n",
        "axis=0과 같이 축을 명시하면 특정한 축으로 합하게 되어 배열의 차원이 유지된다.\n",
        "두 다차원 배열의 차원이 다르다면 오류를 유발한다."
      ],
      "metadata": {
        "id": "JkfoZwix0gmA"
      }
    },
    {
      "cell_type": "code",
      "source": [
        "a = np.array([1, 2, 3])\n",
        "b = np.array([[4, 5, 6], [7, 8, 9]])\n",
        "\n",
        "np.append(a, b)"
      ],
      "metadata": {
        "colab": {
          "base_uri": "https://localhost:8080/"
        },
        "id": "xGPbTO981ybZ",
        "outputId": "3d049e7b-fe09-493c-9ce4-29b46c5b6e66"
      },
      "execution_count": null,
      "outputs": [
        {
          "output_type": "execute_result",
          "data": {
            "text/plain": [
              "array([1, 2, 3, 4, 5, 6, 7, 8, 9])"
            ]
          },
          "metadata": {},
          "execution_count": 90
        }
      ]
    },
    {
      "cell_type": "code",
      "source": [
        "np.append([a], b, axis=0)  # [a]를 통해 2차원 배열로 변환해주어야 함"
      ],
      "metadata": {
        "colab": {
          "base_uri": "https://localhost:8080/"
        },
        "id": "ZwlhD6AJ16I7",
        "outputId": "81190a6a-7d7f-40d6-f101-3333b911f4f6"
      },
      "execution_count": null,
      "outputs": [
        {
          "output_type": "execute_result",
          "data": {
            "text/plain": [
              "array([[1, 2, 3],\n",
              "       [4, 5, 6],\n",
              "       [7, 8, 9]])"
            ]
          },
          "metadata": {},
          "execution_count": 91
        }
      ]
    },
    {
      "cell_type": "markdown",
      "source": [
        "넘파이에서 제공하는 행렬 곱 함수는 matmul()이다. 이를 더 편하게 사용할 수 있는 것이 @연산자이다."
      ],
      "metadata": {
        "id": "6t8nJnYC2Cpz"
      }
    },
    {
      "cell_type": "code",
      "source": [
        "a = np.array([[1, 2], [3, 4]])\n",
        "b = np.array([[10, 20], [30, 40]])\n",
        "\n",
        "a * b  # 2차원 배열의 곱하기 연산 - 원소 간의 곱셈"
      ],
      "metadata": {
        "colab": {
          "base_uri": "https://localhost:8080/"
        },
        "id": "P2GpV0932J1B",
        "outputId": "d86e5dc5-9bdf-4a5f-de45-6f6bc147a0af"
      },
      "execution_count": null,
      "outputs": [
        {
          "output_type": "execute_result",
          "data": {
            "text/plain": [
              "array([[ 10,  40],\n",
              "       [ 90, 160]])"
            ]
          },
          "metadata": {},
          "execution_count": 93
        }
      ]
    },
    {
      "cell_type": "code",
      "source": [
        "np.matmul(a, b)  # 2차원 배열 a, b의 행렬곱. a @ b라고 쓸 수도 있다."
      ],
      "metadata": {
        "colab": {
          "base_uri": "https://localhost:8080/"
        },
        "id": "jOrPI_y33m16",
        "outputId": "be9f5be6-350f-4df9-e312-8cd7fd239cf1"
      },
      "execution_count": null,
      "outputs": [
        {
          "output_type": "execute_result",
          "data": {
            "text/plain": [
              "array([[ 70, 100],\n",
              "       [150, 220]])"
            ]
          },
          "metadata": {},
          "execution_count": 94
        }
      ]
    },
    {
      "cell_type": "code",
      "source": [
        "# 도전문제 3.5 : 다차원 행렬의 생성과 활용\n",
        "\n",
        "a = np.arange(1, 10).reshape((3, 3))\n",
        "b = np.full((3, 3), 3)\n",
        "\n",
        "a + b, a - b, a * b, a / b, a @ b, a ** 2"
      ],
      "metadata": {
        "colab": {
          "base_uri": "https://localhost:8080/"
        },
        "id": "ss3h50hv4PHJ",
        "outputId": "db9721e9-a441-48c9-ffdc-b080e7fd5b3b"
      },
      "execution_count": null,
      "outputs": [
        {
          "output_type": "execute_result",
          "data": {
            "text/plain": [
              "(array([[ 4,  5,  6],\n",
              "        [ 7,  8,  9],\n",
              "        [10, 11, 12]]), array([[-2, -1,  0],\n",
              "        [ 1,  2,  3],\n",
              "        [ 4,  5,  6]]), array([[ 3,  6,  9],\n",
              "        [12, 15, 18],\n",
              "        [21, 24, 27]]), array([[0.33333333, 0.66666667, 1.        ],\n",
              "        [1.33333333, 1.66666667, 2.        ],\n",
              "        [2.33333333, 2.66666667, 3.        ]]), array([[18, 18, 18],\n",
              "        [45, 45, 45],\n",
              "        [72, 72, 72]]), array([[ 1,  4,  9],\n",
              "        [16, 25, 36],\n",
              "        [49, 64, 81]]))"
            ]
          },
          "metadata": {},
          "execution_count": 103
        }
      ]
    },
    {
      "cell_type": "markdown",
      "source": [
        "\n",
        "\n",
        "---\n",
        "\n",
        "## 3-10. 과학자들이 사랑하는 수 : 난수\n",
        "\n",
        "난수란 인간의 의도와 무관하게 생성된 수를 의미하므로, 인간이 만든 기계에 특정 알고리즘을 통해 난수를 생성한다는 것 자체가 모순이다.\n",
        "하지만 난수와 매우 유사한 특징을 갖는 수를 생성하는 것은 가능하다. 이를 의사 난수라고 한다. 의사난수는 진정한 의미의 난수가 아니지만, 난수와 유사한 기능을 한다."
      ],
      "metadata": {
        "id": "HUCL9Mv1RezU"
      }
    },
    {
      "cell_type": "code",
      "source": [
        "def pseudo_rand(x):\n",
        "  a = 1103515245\n",
        "  b = 12345\n",
        "  m = 2 ** 31\n",
        "  new_x = (a * x + b) % m\n",
        "  return new_x\n",
        "\n",
        "seed = 100   # 초기값 임의 설정\n",
        "x = pseudo_rand(seed)  # seed를 입력으로 하여 새로운 x를 만듦\n",
        "print(x)\n",
        "x = pseudo_rand(x)  # x_n을 입력으로 하여 새로운 x_(n + 1)을 만듦\n",
        "print(x)"
      ],
      "metadata": {
        "colab": {
          "base_uri": "https://localhost:8080/"
        },
        "id": "lQB00mrQTQBP",
        "outputId": "f1dd508b-2eaa-4a3b-d427-3c4d549c5a46"
      },
      "execution_count": null,
      "outputs": [
        {
          "output_type": "stream",
          "name": "stdout",
          "text": [
            "829870797\n",
            "1533044610\n"
          ]
        }
      ]
    },
    {
      "cell_type": "markdown",
      "source": [
        "난수 생성 코드에는 다음 난수를 생성하기 위한 최초 값이 필요하다. 이를 시드 값이라고 한다. 보통 시드값은 컴퓨터로부터 시간 정보를 얻어와서 사용하는 경우가 많다."
      ],
      "metadata": {
        "id": "vN0QYqwzT5kj"
      }
    },
    {
      "cell_type": "code",
      "source": [
        "np.random.randint(150, 191, size=10)  # (최소값, 최대값, 원소의 개수)를 인자로 갖는다."
      ],
      "metadata": {
        "colab": {
          "base_uri": "https://localhost:8080/"
        },
        "id": "bmq3z5fpVR5D",
        "outputId": "97195752-9fb9-4549-b549-47de8b1b14c2"
      },
      "execution_count": null,
      "outputs": [
        {
          "output_type": "execute_result",
          "data": {
            "text/plain": [
              "array([151, 183, 181, 181, 152, 161, 168, 160, 167, 171])"
            ]
          },
          "metadata": {},
          "execution_count": 4
        }
      ]
    },
    {
      "cell_type": "markdown",
      "source": [
        "\n",
        "\n",
        "---\n",
        "\n",
        "## 3-11. 다양한 난수 만들기 함수\n",
        "\n",
        "넘파이의 난수는 random 서브 모듈에서 제공하는데 randn()함수는 표준 정규 분포를 따르는 난수를 생성하는 데 사용된다."
      ],
      "metadata": {
        "id": "8SWUrzt7Vi2T"
      }
    },
    {
      "cell_type": "code",
      "source": [
        "rnd = np.random.randn(5) * 10 + 165  # 평균 값이 165, 표준편차가 10인 값 생성. 만약 데이터들이 평균값 165, 표준편차가 10인 정규 분포를 따른다고 할 경우 사용.\n",
        "rnd"
      ],
      "metadata": {
        "colab": {
          "base_uri": "https://localhost:8080/"
        },
        "id": "kSoyjbYSXBfg",
        "outputId": "4e93746f-3f83-4494-b72d-a8db421408e5"
      },
      "execution_count": null,
      "outputs": [
        {
          "output_type": "execute_result",
          "data": {
            "text/plain": [
              "array([154.8315341 , 157.28936784, 167.74036032, 175.25248586,\n",
              "       165.15039507])"
            ]
          },
          "metadata": {},
          "execution_count": 5
        }
      ]
    },
    {
      "cell_type": "code",
      "source": [
        "rnd.round(2)  # 소수점 아래 둘째 자리까지 값으로 변환"
      ],
      "metadata": {
        "colab": {
          "base_uri": "https://localhost:8080/"
        },
        "id": "NaDJ59JRXbRE",
        "outputId": "d149910b-3648-472c-cb85-b7c317b041d8"
      },
      "execution_count": null,
      "outputs": [
        {
          "output_type": "execute_result",
          "data": {
            "text/plain": [
              "array([154.83, 157.29, 167.74, 175.25, 165.15])"
            ]
          },
          "metadata": {},
          "execution_count": 6
        }
      ]
    },
    {
      "cell_type": "code",
      "source": [
        "rnd.astype(int)  # 정수형 자료형으로 변환"
      ],
      "metadata": {
        "colab": {
          "base_uri": "https://localhost:8080/"
        },
        "id": "7bjIX39eXe8r",
        "outputId": "ffbf7012-0021-427b-82e9-31e7d0d2c001"
      },
      "execution_count": null,
      "outputs": [
        {
          "output_type": "execute_result",
          "data": {
            "text/plain": [
              "array([154, 157, 167, 175, 165])"
            ]
          },
          "metadata": {},
          "execution_count": 7
        }
      ]
    },
    {
      "cell_type": "code",
      "source": [
        "np.random.seed(42)  # seed를 특정한 값으로 지정하면 매번 동일한 난수의 열을 얻을 수 있다."
      ],
      "metadata": {
        "id": "cLu8cyOYX5cf"
      },
      "execution_count": null,
      "outputs": []
    },
    {
      "cell_type": "code",
      "source": [
        "nums = np.random.normal(loc = 165, scale = 10, size = (3, 4)).round(2)  # normal() 함수를 이용해서도 정규 분포를 얻을 수 있다.\n",
        "nums"
      ],
      "metadata": {
        "colab": {
          "base_uri": "https://localhost:8080/"
        },
        "id": "zYiCqGJqYDJ5",
        "outputId": "9032d213-9d2e-4a45-c78a-d457887ae647"
      },
      "execution_count": null,
      "outputs": [
        {
          "output_type": "execute_result",
          "data": {
            "text/plain": [
              "array([[167.42, 145.87, 147.75, 159.38],\n",
              "       [154.87, 168.14, 155.92, 150.88],\n",
              "       [179.66, 162.74, 165.68, 150.75]])"
            ]
          },
          "metadata": {},
          "execution_count": 10
        }
      ]
    },
    {
      "cell_type": "code",
      "source": [
        "a = np.arange(10)  # 0~9값을 생성\n",
        "np.random.shuffle(a)  # 순서 뒤섞기\n",
        "a"
      ],
      "metadata": {
        "colab": {
          "base_uri": "https://localhost:8080/"
        },
        "id": "5GEZC5z6YcdX",
        "outputId": "6c0d6f1e-837c-4b01-d5bb-d0383afe5731"
      },
      "execution_count": null,
      "outputs": [
        {
          "output_type": "execute_result",
          "data": {
            "text/plain": [
              "array([5, 3, 1, 6, 0, 7, 9, 4, 2, 8])"
            ]
          },
          "metadata": {},
          "execution_count": 11
        }
      ]
    },
    {
      "cell_type": "code",
      "source": [
        "np.random.permutation([2, 4, 6, 8, 10])"
      ],
      "metadata": {
        "colab": {
          "base_uri": "https://localhost:8080/"
        },
        "id": "FYGsWxdXYkjE",
        "outputId": "f98b5aa5-f4bf-401c-c682-89bf81a56944"
      },
      "execution_count": null,
      "outputs": [
        {
          "output_type": "execute_result",
          "data": {
            "text/plain": [
              "array([10,  6,  4,  8,  2])"
            ]
          },
          "metadata": {},
          "execution_count": 13
        }
      ]
    },
    {
      "cell_type": "code",
      "source": [
        "# ! 도전문제 3.6\n",
        "\n",
        "def train_test_split():\n",
        "  a = np.arange(1, 51)\n",
        "  np.random.shuffle(a)\n",
        "  train_data = a[:40]  # 40 : 10개로 슬라이싱하여 저장함... 퍼센테이지로 슬라이싱 하는 방법은?\n",
        "  test_data = a[40:]\n",
        "  return(train_data, test_data)\n",
        "\n",
        "print(train_test_split())"
      ],
      "metadata": {
        "colab": {
          "base_uri": "https://localhost:8080/"
        },
        "id": "2Ua1mEMGYs8E",
        "outputId": "93714365-ad51-44f0-9ea3-9c8dcb36f2c9"
      },
      "execution_count": null,
      "outputs": [
        {
          "output_type": "stream",
          "name": "stdout",
          "text": [
            "(array([16,  4, 34, 50, 14,  8, 45, 12, 43, 39,  7, 42, 19,  3, 47, 40, 31,\n",
            "       46, 21, 11, 48, 15, 32, 26, 22,  1, 24, 23, 37, 41, 49, 38, 30, 10,\n",
            "        2, 25,  5, 18,  6, 35]), array([44, 29, 28, 13, 20, 33,  9, 17, 27, 36]))\n"
          ]
        }
      ]
    },
    {
      "cell_type": "markdown",
      "source": [
        "\n",
        "\n",
        "---\n",
        "\n",
        "## 3-12. 넘파이 스타일의 슬라이싱과 논리 인덱싱\n",
        "\n",
        "넘파이에서 인덱싱을 이용하여 슬라이싱하면 리스트처럼 슬라이싱 범위가 순차적으로 적용되는 것이 아니라, 각각의 축에 별도로 적용된다."
      ],
      "metadata": {
        "id": "0-351Se6jzEC"
      }
    },
    {
      "cell_type": "code",
      "source": [
        "a = np.array([[1, 2, 3], [4, 5, 6], [7, 8, 9], [0, 1, 2]])\n",
        "a[1:, 0:2]  # 행 방향으로 1:를 먼저 적용하고 남은 부분에서 0:2를 또 적용"
      ],
      "metadata": {
        "colab": {
          "base_uri": "https://localhost:8080/"
        },
        "id": "7zI5CxFxk_2Y",
        "outputId": "e8317512-b259-4c73-d4f5-7b3028e890f7"
      },
      "execution_count": null,
      "outputs": [
        {
          "output_type": "execute_result",
          "data": {
            "text/plain": [
              "array([[4, 5],\n",
              "       [7, 8],\n",
              "       [0, 1]])"
            ]
          },
          "metadata": {},
          "execution_count": 31
        }
      ]
    },
    {
      "cell_type": "markdown",
      "source": [
        "넘파이에서는 데이터를 추려내는 데에 슬라이싱 뿐만 아니라 논리 인덱싱이라는 효율적이 방법 또한 제공한다. 이는 특정한 어떤 조건을 주어서 배열에서 원하는 값을 추려내는 것이다."
      ],
      "metadata": {
        "id": "RJSGnfRLl7_-"
      }
    },
    {
      "cell_type": "code",
      "source": [
        "a = np.array([[1, 2, 3, 4], [5, 6, 7, 8], [9, 10, 11, 12], [13, 14, 15, 16]])\n",
        "a % 2 == 0"
      ],
      "metadata": {
        "colab": {
          "base_uri": "https://localhost:8080/"
        },
        "id": "6WAsoJKAmGZZ",
        "outputId": "cdb5591d-7b1e-4a49-8325-4d7387a0c72d"
      },
      "execution_count": null,
      "outputs": [
        {
          "output_type": "execute_result",
          "data": {
            "text/plain": [
              "array([[False,  True, False,  True],\n",
              "       [False,  True, False,  True],\n",
              "       [False,  True, False,  True],\n",
              "       [False,  True, False,  True]])"
            ]
          },
          "metadata": {},
          "execution_count": 32
        }
      ]
    },
    {
      "cell_type": "code",
      "source": [
        "a[a % 2 ==0]  # 이렇게 인덱스로 사용하면 해당 조건에 부합하는 원소들만 추출이 가능하다"
      ],
      "metadata": {
        "colab": {
          "base_uri": "https://localhost:8080/"
        },
        "id": "9e8E96OOmTuL",
        "outputId": "33917850-73f3-4797-c2e9-5b84f523fe72"
      },
      "execution_count": null,
      "outputs": [
        {
          "output_type": "execute_result",
          "data": {
            "text/plain": [
              "array([ 2,  4,  6,  8, 10, 12, 14, 16])"
            ]
          },
          "metadata": {},
          "execution_count": 33
        }
      ]
    },
    {
      "cell_type": "markdown",
      "source": [
        "\n",
        "\n",
        "---\n",
        "\n",
        "## 3-13. 넘파이의 성공 이유\n",
        "\n",
        "배열 프로그래밍은 넘파이의 성공 이유 중 하나이다. 배열 프로그래밍은 데이터에 연산을 실시할 때, 데이터를 구성하는 값 전체에 대해 한 번에 연산이 적용되도록 하는 방식을 의미한다. 이러한 해법을 제공하지 못하는 언어를 스칼라 언어라고 하며, C, C++ 등이 해당된다.\n",
        "\n",
        "배열 프로그래밍에서 사용하는 연산을 벡터화 연산이라고 한다. 벡터화 연산은 간결하게 코드 표현이 가능하다.\n",
        "뿐만 아니라 For 반복문을 사용한 스칼라 언어가 각각의 원소들을 순차적으로 처리해야 한다면, 벡터화 연산은 두 배열의 대응하는 원소를 서로 더해서 새로운 배열에 저장하는 일을 차례를 기다리지 않고 동시에 수행할 수 있다. 이렇게 데이터를 잘게 쪼개어 각각에 대해 동일한 연산을 독립적으로 수행하는 방식을 데이터 병렬성이라고 한다.\n",
        "\n",
        "전통적인 언어로도 데이터 병렬성을 활용할 수 있지만, 벡터화 연산을 그대로 표현하는 효율적인 코딩은 어렵다.\n",
        "넘파이는 강력하고 압축적인 프로그래밍 구문을 제공하며, 프로그래머가 효율적으로 고성능의 데이터 병렬 처리를 할 수 있게 해준다."
      ],
      "metadata": {
        "id": "Vo0IKIpknLbk"
      }
    },
    {
      "cell_type": "markdown",
      "source": [
        "\n",
        "\n",
        "---\n",
        "\n",
        "## 3-14. 벡터화 연산의 성능 측정\n",
        "\n",
        "벡터화 연산은 하나의 명령이 여러 데이터에 동시에 적용된 방식으로 배열 프로그래밍의 핵심 요소이다."
      ],
      "metadata": {
        "id": "VT-K2KkTpgA2"
      }
    },
    {
      "cell_type": "code",
      "source": [
        "import numpy as np\n",
        "import time  # 수행시간 측정을 위한 time 모듈\n",
        "\n",
        "n = 100000\n",
        "a = np.random.rand(n)  # 난수 100개 생성\n",
        "b = np.random.rand(n)  # 난수 100개 생성\n",
        "result = np.zeros(n)  # 0값 100개 채우기"
      ],
      "metadata": {
        "id": "TpEClQ1rqfEi"
      },
      "execution_count": null,
      "outputs": []
    },
    {
      "cell_type": "code",
      "source": [
        "start = time.time()\n",
        "for i in range(n):  # C언어 스타일로 명시적 작업 지시\n",
        "  result[i] = a[i] * b[i]\n",
        "end = time.time()\n",
        "print('원소별 접근 방식 소요시간 : ', end - start)\n",
        "\n",
        "start = time.time()\n",
        "result = a * b  # 벡터화 연산\n",
        "end = time.time()\n",
        "print('벡터화 연산 수행 소요시간 : ', end - start)"
      ],
      "metadata": {
        "colab": {
          "base_uri": "https://localhost:8080/"
        },
        "id": "PG9aGQg5q13p",
        "outputId": "8a7be559-9a76-4e29-c6a4-a7434a873554"
      },
      "execution_count": null,
      "outputs": [
        {
          "output_type": "stream",
          "name": "stdout",
          "text": [
            "원소별 접근 방식 소요시간 :  0.0571897029876709\n",
            "벡터화 연산 수행 소요시간 :  0.0008554458618164062\n"
          ]
        }
      ]
    },
    {
      "cell_type": "markdown",
      "source": [
        "벡터화 연산을 사용한 것이 훨씬 연산이 빠르다는 것을 알 수 있다."
      ],
      "metadata": {
        "id": "oWGKrNi3rqRA"
      }
    },
    {
      "cell_type": "markdown",
      "source": [
        "\n",
        "\n",
        "---\n",
        "\n",
        "## 3-15. 리덕션 : 배열을 더 강력하게 만드는 기능\n",
        "\n",
        "넘파이의 다차원 배열은 리덕션이라는 기능을 제공한다. 리덕션이란 여러 개의 수로 이루어진 배열을 하나의 수로 집계하는 것이다."
      ],
      "metadata": {
        "id": "KcWzvERbrx2x"
      }
    },
    {
      "cell_type": "code",
      "source": [
        "a = np.array([[1, 2, 3, 4, 5], [1, 2, 3, 4, 5], [1, 2, 3, 4, 5], [1, 2, 3, 4, 5], [1, 2, 3, 4, 5]])\n",
        "\n",
        "print(np.sum(a, axis=0))  # 열끼리 더함\n",
        "print(np.sum(a, axis=1))  # 행끼리 더함\n",
        "print(np.sum(a, axis=(0, 1)))  # 모두 더함(생략 가능)"
      ],
      "metadata": {
        "colab": {
          "base_uri": "https://localhost:8080/"
        },
        "id": "gXbh1im4tmMN",
        "outputId": "66bd3e47-d641-4030-af15-8c9a6ba1274b"
      },
      "execution_count": null,
      "outputs": [
        {
          "output_type": "stream",
          "name": "stdout",
          "text": [
            "[ 5 10 15 20 25]\n",
            "[15 15 15 15 15]\n",
            "75\n"
          ]
        }
      ]
    },
    {
      "cell_type": "markdown",
      "source": [
        "\n",
        "\n",
        "---\n",
        "\n",
        "## 3-16. 선형방정식을 풀어보자\n",
        "\n",
        "넘파이의 linalg라는 서브 모듈을 이용하여 선형대수, 벡터의 내적과 외적, 크로네커 곱, 행렬 분해, 노름, 행렬, 랭크 등을 구하기 위한 다양한 함수를 사용할 수 있다."
      ],
      "metadata": {
        "id": "bG9xvmmdwDHm"
      }
    },
    {
      "cell_type": "code",
      "source": [
        "# x + 2y = 6\n",
        "# x - 3y = 1     이라는 선형 연립 방정식이 있을 때 해 구하기\n",
        "\n",
        "a = np.array([[1, 2], [1, -3]])\n",
        "b = np.array([6, 1])\n",
        "s = np.linalg.solve(a, b)\n",
        "print(s)"
      ],
      "metadata": {
        "colab": {
          "base_uri": "https://localhost:8080/"
        },
        "id": "Gb8lOf58waI3",
        "outputId": "68d5c242-ed86-455d-df23-9cf34fc8b4eb"
      },
      "execution_count": null,
      "outputs": [
        {
          "output_type": "stream",
          "name": "stdout",
          "text": [
            "[4. 1.]\n"
          ]
        }
      ]
    },
    {
      "cell_type": "markdown",
      "source": [
        "연립 방정식이 해를 가지는 경우도 있지만 그렇지 않은 경우도 있다. 이를 판별하기 위해서는 행렬식을 사용한다.\n",
        "행렬식은 정방 행렬에 수를 대응시키는 함수이다."
      ],
      "metadata": {
        "id": "1IJysXgXwwOX"
      }
    },
    {
      "cell_type": "code",
      "source": [
        "a = np.array([[2, 1], [4, 5]])\n",
        "det_a = np.linalg.det(a)  # a 행렬의 행렬식\n",
        "b = np.array([[1, 2], [3, -6]])\n",
        "det_b = np.linalg.det(b)  # b 행렬의 행렬식\n",
        "print(det_a, det_b)"
      ],
      "metadata": {
        "colab": {
          "base_uri": "https://localhost:8080/"
        },
        "id": "F5ik8efjw6J-",
        "outputId": "a56812b8-308b-45c2-d6a4-80aeac731fb0"
      },
      "execution_count": null,
      "outputs": [
        {
          "output_type": "stream",
          "name": "stdout",
          "text": [
            "6.0 -12.0\n"
          ]
        }
      ]
    },
    {
      "cell_type": "code",
      "source": [
        "# ? 도전문제 3.7 : 다차원 행렬의 생성과 활용\n",
        "\n"
      ],
      "metadata": {
        "id": "HY5x_xf-x2V6"
      },
      "execution_count": null,
      "outputs": []
    },
    {
      "cell_type": "markdown",
      "source": [
        "\n",
        "\n",
        "---\n",
        "\n",
        "## 3-17. 배열의 결합"
      ],
      "metadata": {
        "id": "bZqvs8B3yFJY"
      }
    },
    {
      "cell_type": "code",
      "source": [
        "a = np.arange(10, 18).reshape(2, 4)\n",
        "b = np.arange(12).reshape(3, 4)\n",
        "c = np.arange(8).reshape(2, 4)\n",
        "d = list(range(4))\n",
        "print(a)  # (2, 4) 형상의 다차원 배열로 10~17의 원소를 가짐\n",
        "print(b)  # (3, 4) 형상의 다차원 배열로10~11의 원소를 가짐\n",
        "print(c)  # (2, 4) 형상의 다차원 배열로 0~7의 원소를 가짐\n",
        "print(d)  # 1차원 리스트로 0~3의 원소를 가짐"
      ],
      "metadata": {
        "colab": {
          "base_uri": "https://localhost:8080/"
        },
        "id": "l84-Em7mTalP",
        "outputId": "0505d50d-4582-417f-9fff-bd8ea4a87685"
      },
      "execution_count": null,
      "outputs": [
        {
          "output_type": "stream",
          "name": "stdout",
          "text": [
            "[[10 11 12 13]\n",
            " [14 15 16 17]]\n",
            "[[ 0  1  2  3]\n",
            " [ 4  5  6  7]\n",
            " [ 8  9 10 11]]\n",
            "[[0 1 2 3]\n",
            " [4 5 6 7]]\n",
            "[0, 1, 2, 3]\n"
          ]
        }
      ]
    },
    {
      "cell_type": "markdown",
      "source": [
        "리스트를 결합하기 위해서는 + 연산자를 사용할 수 있으나 다차원 배열의 +는 두 배열의 원소의 합이 되므로 대신 넘파이의 concatenate() 함수를 사용해 두 리스트를 결합할 수 있다."
      ],
      "metadata": {
        "id": "CP8fpjszVdQL"
      }
    },
    {
      "cell_type": "code",
      "source": [
        "np.concatenate((a, b))  # a 배열의 마지막 원소 뒤에 b 배열을 넣는다."
      ],
      "metadata": {
        "colab": {
          "base_uri": "https://localhost:8080/"
        },
        "id": "OV_iyP71Vnsr",
        "outputId": "4b6f48cf-8e7a-4f3b-b997-6ac97bb258e3"
      },
      "execution_count": null,
      "outputs": [
        {
          "output_type": "execute_result",
          "data": {
            "text/plain": [
              "array([[10, 11, 12, 13],\n",
              "       [14, 15, 16, 17],\n",
              "       [ 0,  1,  2,  3],\n",
              "       [ 4,  5,  6,  7],\n",
              "       [ 8,  9, 10, 11]])"
            ]
          },
          "metadata": {},
          "execution_count": 7
        }
      ]
    },
    {
      "cell_type": "code",
      "source": [
        "np.vstack((a, b))  # a 배열과 b 배열을 수직 방향으로 결합"
      ],
      "metadata": {
        "colab": {
          "base_uri": "https://localhost:8080/"
        },
        "id": "ikZdD9P-V4Ks",
        "outputId": "e72f1080-ebc5-4704-c694-9ee22457d382"
      },
      "execution_count": null,
      "outputs": [
        {
          "output_type": "execute_result",
          "data": {
            "text/plain": [
              "array([[10, 11, 12, 13],\n",
              "       [14, 15, 16, 17],\n",
              "       [ 0,  1,  2,  3],\n",
              "       [ 4,  5,  6,  7],\n",
              "       [ 8,  9, 10, 11]])"
            ]
          },
          "metadata": {},
          "execution_count": 8
        }
      ]
    },
    {
      "cell_type": "code",
      "source": [
        "np.vstack((a, d))  # a 배열과 d 리스트의 결합"
      ],
      "metadata": {
        "colab": {
          "base_uri": "https://localhost:8080/"
        },
        "id": "XlTov6fkV-BC",
        "outputId": "1088eb99-e538-49e6-8a47-25e1a784ec95"
      },
      "execution_count": null,
      "outputs": [
        {
          "output_type": "execute_result",
          "data": {
            "text/plain": [
              "array([[10, 11, 12, 13],\n",
              "       [14, 15, 16, 17],\n",
              "       [ 0,  1,  2,  3]])"
            ]
          },
          "metadata": {},
          "execution_count": 9
        }
      ]
    },
    {
      "cell_type": "code",
      "source": [
        "np.vstack((a, b, d))  # 다차원 배열 3개를 결합"
      ],
      "metadata": {
        "colab": {
          "base_uri": "https://localhost:8080/"
        },
        "id": "f_NGvH2dWFX7",
        "outputId": "28ca5d44-456b-4715-e0ed-c11a04b55c8c"
      },
      "execution_count": null,
      "outputs": [
        {
          "output_type": "execute_result",
          "data": {
            "text/plain": [
              "array([[10, 11, 12, 13],\n",
              "       [14, 15, 16, 17],\n",
              "       [ 0,  1,  2,  3],\n",
              "       [ 4,  5,  6,  7],\n",
              "       [ 8,  9, 10, 11],\n",
              "       [ 0,  1,  2,  3]])"
            ]
          },
          "metadata": {},
          "execution_count": 10
        }
      ]
    },
    {
      "cell_type": "code",
      "source": [
        "np.hstack((a, c))  # 다차원 배열 a, c를 수형으로 결합. hstak은 axis 0의 차원값이 동일한 때에만 결합\n",
        "# np.hstack((a, b))  # 형상이 달라 오류"
      ],
      "metadata": {
        "colab": {
          "base_uri": "https://localhost:8080/"
        },
        "id": "QMHAtlxMY8CQ",
        "outputId": "c8ad2acc-6881-42b8-d5ed-4eb726c736ff"
      },
      "execution_count": null,
      "outputs": [
        {
          "output_type": "execute_result",
          "data": {
            "text/plain": [
              "array([[10, 11, 12, 13,  0,  1,  2,  3],\n",
              "       [14, 15, 16, 17,  4,  5,  6,  7]])"
            ]
          },
          "metadata": {},
          "execution_count": 11
        }
      ]
    },
    {
      "cell_type": "markdown",
      "source": [
        "\n",
        "\n",
        "---\n",
        "\n",
        "## 3-18. 배열을 결합하는 r_, c_ 클래스와 column_stack() 함수\n"
      ],
      "metadata": {
        "id": "Q9UupQm-ZNlL"
      }
    },
    {
      "cell_type": "code",
      "source": [
        "a = np.array([1, 2, 3])\n",
        "b = np.array([10, 20, 30])\n",
        "c = np.array([[1, 2, 3], [4, 5, 6]])\n",
        "d = np.array([[10, 20, 30], [40, 50, 60]])"
      ],
      "metadata": {
        "id": "Vl6_ppNxbame"
      },
      "execution_count": null,
      "outputs": []
    },
    {
      "cell_type": "code",
      "source": [
        "np.r_[a, b]  # a, b 배열을 결합. np.hstack([a, b])와 같음"
      ],
      "metadata": {
        "colab": {
          "base_uri": "https://localhost:8080/"
        },
        "id": "bHL2Av7Qbrmm",
        "outputId": "283c9457-f351-4e4b-a1ae-cee6d063a51e"
      },
      "execution_count": null,
      "outputs": [
        {
          "output_type": "execute_result",
          "data": {
            "text/plain": [
              "array([ 1,  2,  3, 10, 20, 30])"
            ]
          },
          "metadata": {},
          "execution_count": 13
        }
      ]
    },
    {
      "cell_type": "code",
      "source": [
        "np.r_[a, 4, 5, 6, b]  # 중간에 개별 원소 삽입도 가능"
      ],
      "metadata": {
        "colab": {
          "base_uri": "https://localhost:8080/"
        },
        "id": "fxprL7ILbysA",
        "outputId": "d7ccdb57-408d-4ca9-e727-4bc65fafc0d6"
      },
      "execution_count": null,
      "outputs": [
        {
          "output_type": "execute_result",
          "data": {
            "text/plain": [
              "array([ 1,  2,  3,  4,  5,  6, 10, 20, 30])"
            ]
          },
          "metadata": {},
          "execution_count": 14
        }
      ]
    },
    {
      "cell_type": "code",
      "source": [
        "np.r_[[0] * 3, 5, 6]"
      ],
      "metadata": {
        "colab": {
          "base_uri": "https://localhost:8080/"
        },
        "id": "H_RVsF_Lb5YZ",
        "outputId": "2a0c673b-bbeb-4f66-b280-f2500365823c"
      },
      "execution_count": null,
      "outputs": [
        {
          "output_type": "execute_result",
          "data": {
            "text/plain": [
              "array([0, 0, 0, 5, 6])"
            ]
          },
          "metadata": {},
          "execution_count": 15
        }
      ]
    },
    {
      "cell_type": "code",
      "source": [
        "np.r_[c, d]  # 2차원 배열을 axis = 0 방향으로 결합"
      ],
      "metadata": {
        "colab": {
          "base_uri": "https://localhost:8080/"
        },
        "id": "erJu16fGb9zs",
        "outputId": "bc7a8dd7-3167-4d03-ba82-440903910c00"
      },
      "execution_count": null,
      "outputs": [
        {
          "output_type": "execute_result",
          "data": {
            "text/plain": [
              "array([[ 1,  2,  3],\n",
              "       [ 4,  5,  6],\n",
              "       [10, 20, 30],\n",
              "       [40, 50, 60]])"
            ]
          },
          "metadata": {},
          "execution_count": 16
        }
      ]
    },
    {
      "cell_type": "code",
      "source": [
        "np.r_[a.reshape(-1, 1), b.reshape(-1, 1)]  # a, b를 2차원 배열로 만들어서 axis=0 방향으로 결합"
      ],
      "metadata": {
        "colab": {
          "base_uri": "https://localhost:8080/"
        },
        "id": "yWalK1JbcDVy",
        "outputId": "9fd6a429-b26c-4d21-911c-c93d85cf5b25"
      },
      "execution_count": null,
      "outputs": [
        {
          "output_type": "execute_result",
          "data": {
            "text/plain": [
              "array([[ 1],\n",
              "       [ 2],\n",
              "       [ 3],\n",
              "       [10],\n",
              "       [20],\n",
              "       [30]])"
            ]
          },
          "metadata": {},
          "execution_count": 17
        }
      ]
    },
    {
      "cell_type": "code",
      "source": [
        "np.concatenate((a.reshape(-1, 1), b.reshape(-1, 1)), axis=1)  # a, b의 각 원소끼리 묶어 다차원 배열을 만든다"
      ],
      "metadata": {
        "colab": {
          "base_uri": "https://localhost:8080/"
        },
        "id": "BaMhDMxtcNYg",
        "outputId": "6cf7ccca-fec9-437b-c7d6-ebd559808513"
      },
      "execution_count": null,
      "outputs": [
        {
          "output_type": "execute_result",
          "data": {
            "text/plain": [
              "array([[ 1, 10],\n",
              "       [ 2, 20],\n",
              "       [ 3, 30]])"
            ]
          },
          "metadata": {},
          "execution_count": 18
        }
      ]
    },
    {
      "cell_type": "code",
      "source": [
        "np.c_[a, b]"
      ],
      "metadata": {
        "colab": {
          "base_uri": "https://localhost:8080/"
        },
        "id": "qBTBGQuodBHS",
        "outputId": "df54644a-a2d4-4e27-9493-1c36efcbb189"
      },
      "execution_count": null,
      "outputs": [
        {
          "output_type": "execute_result",
          "data": {
            "text/plain": [
              "array([[ 1, 10],\n",
              "       [ 2, 20],\n",
              "       [ 3, 30]])"
            ]
          },
          "metadata": {},
          "execution_count": 19
        }
      ]
    },
    {
      "cell_type": "code",
      "source": [
        "np.column_stack([a, b])"
      ],
      "metadata": {
        "colab": {
          "base_uri": "https://localhost:8080/"
        },
        "id": "NgFmSJhxdDM6",
        "outputId": "aea67876-effc-4f27-a5a2-6e988fe6e0b4"
      },
      "execution_count": null,
      "outputs": [
        {
          "output_type": "execute_result",
          "data": {
            "text/plain": [
              "array([[ 1, 10],\n",
              "       [ 2, 20],\n",
              "       [ 3, 30]])"
            ]
          },
          "metadata": {},
          "execution_count": 20
        }
      ]
    },
    {
      "cell_type": "code",
      "source": [
        "np.concatenate((c.T, d.T), axis=1)  # c와 d의 전치행렬을 결합시킨다"
      ],
      "metadata": {
        "colab": {
          "base_uri": "https://localhost:8080/"
        },
        "id": "chjeUSPMdGGi",
        "outputId": "acaed433-a91a-4a6d-806a-80b97bbebb94"
      },
      "execution_count": null,
      "outputs": [
        {
          "output_type": "execute_result",
          "data": {
            "text/plain": [
              "array([[ 1,  4, 10, 40],\n",
              "       [ 2,  5, 20, 50],\n",
              "       [ 3,  6, 30, 60]])"
            ]
          },
          "metadata": {},
          "execution_count": 21
        }
      ]
    }
  ]
}