{
  "nbformat": 4,
  "nbformat_minor": 0,
  "metadata": {
    "colab": {
      "name": "ch12.ipynb",
      "provenance": [],
      "collapsed_sections": [],
      "mount_file_id": "1ceeJDA6LuK_EZt8G5NN_ZSBQ8jPWZwvB",
      "authorship_tag": "ABX9TyMpN03SsyF/l5XoesvZthM2",
      "include_colab_link": true
    },
    "kernelspec": {
      "name": "python3",
      "display_name": "Python 3"
    },
    "language_info": {
      "name": "python"
    }
  },
  "cells": [
    {
      "cell_type": "markdown",
      "metadata": {
        "id": "view-in-github",
        "colab_type": "text"
      },
      "source": [
        "<a href=\"https://colab.research.google.com/github/ChoiSenn/Study/blob/main/data_analysis/exercise/ch12.ipynb\" target=\"_parent\"><img src=\"https://colab.research.google.com/assets/colab-badge.svg\" alt=\"Open In Colab\"/></a>"
      ]
    },
    {
      "cell_type": "markdown",
      "source": [
        "# **데이터 분석과 머신러닝**\n",
        "## 2022-05-05  텐서플로로 따라하는 딥러닝\n",
        "\n",
        "<br><br>\n",
        "\n",
        "---\n",
        "\n",
        "<br><br>"
      ],
      "metadata": {
        "id": "e8TJ-yWDpsfC"
      }
    },
    {
      "cell_type": "markdown",
      "source": [
        "## 1. 가장 인기있는 머신러닝, 딥러닝 플랫폼 : 텐서플로\n",
        "\n",
        "<br><br>\n",
        "\n",
        "**텐서플로**는 머신러닝과 딥러닝을 위한 오픈소스 플랫폼이다.<br>\n",
        "머신러닝과 딥러닝을 위한 플랫폼은 **텐서플로, 테아노, 파이토치, mxnet, 케라스, 사이킷런, NLTK** 등 여러 종류가 있다.<br>\n",
        "\n",
        "이 중에서 텐서플로가 인기 있는 이유는 우수한 기능과 서비스를 제공하고 있으며, 병렬처리를 잘 지원하며 고급 신경망 네트워크 모델을 쉽게 구현할 수 있기 때문이다. 또한 웹상에서 머신러닝을 적용하기 위한 자바스크립트 라이브러리인 tensorflow.js라는 라이브러리를 제공하고 있으며 모바일과 임베디드 시스템을 위한 머신러닝 기능도 제공하고 있다.\n",
        "\n",
        "<br>\n",
        "\n",
        "텐서플로의 버전은 $__version__$ 속성을 통해 확인할 수 있다."
      ],
      "metadata": {
        "id": "jfW2ViVdp0lJ"
      }
    },
    {
      "cell_type": "code",
      "source": [
        "import tensorflow as tf\n",
        "\n",
        "print(tf.__version__)"
      ],
      "metadata": {
        "colab": {
          "base_uri": "https://localhost:8080/"
        },
        "id": "Pdaxgjoi1C-H",
        "outputId": "7f2158ed-5b56-4c0b-b67c-6c45a93c072c"
      },
      "execution_count": null,
      "outputs": [
        {
          "output_type": "stream",
          "name": "stdout",
          "text": [
            "2.8.0\n"
          ]
        }
      ]
    },
    {
      "cell_type": "markdown",
      "source": [
        "<br><br>\n",
        "\n",
        "---\n",
        "\n",
        "<br><br>\n",
        "\n",
        "## 2. MNIST 데이터 가져오기\n",
        "\n",
        "<br><br>\n",
        "\n",
        "사이킷런과 마찬가지로 텐서플로에서도 학습 데이터를 제공하고 있다. 그 중 **MNIST**는 미국 인구 조사국에서 수집한 손글씨 숫자 데이터 집합을 기계학습에 적합하도록 수정한 이미지 집합이다. <br>\n",
        "\n",
        "텐서플로에서는 위의 이미지를 제공하는 케라스라는 모듈을 포함하고 있는데, 이 이미지 데이터 집합을 **keras.datasets.mnist** 경로를 이용해 읽어올 수 있다. 읽어들인 데이터는 (이미지, 레이블)의 묶음으로 되어있으며 훈련용 이미지와 레이블, 테스트용 이미지와 레이블로 읽어올 것이다."
      ],
      "metadata": {
        "id": "hujx5uFm2An4"
      }
    },
    {
      "cell_type": "code",
      "source": [
        "from tensorflow import keras\n",
        "import numpy as np\n",
        "import matplotlib.pyplot as plt\n",
        "\n",
        "mnist = keras.datasets.mnist  # MNIST 데이터를 학습용, 테스트 데이터로 구분하여 읽어옴\n",
        "(train_images, train_labels), (test_images, test_labels) = mnist.load_data()\n",
        "\n",
        "print(train_images.shape)\n",
        "print(test_images.shape)\n",
        "print(train_labels.shape)\n",
        "print(test_labels.shape)"
      ],
      "metadata": {
        "colab": {
          "base_uri": "https://localhost:8080/"
        },
        "id": "u_1IGURe27Zd",
        "outputId": "19229f6c-d7b1-439a-c5ce-26eb72c88f22"
      },
      "execution_count": null,
      "outputs": [
        {
          "output_type": "stream",
          "name": "stdout",
          "text": [
            "Downloading data from https://storage.googleapis.com/tensorflow/tf-keras-datasets/mnist.npz\n",
            "11493376/11490434 [==============================] - 0s 0us/step\n",
            "11501568/11490434 [==============================] - 0s 0us/step\n",
            "(60000, 28, 28)\n",
            "(10000, 28, 28)\n",
            "(60000,)\n",
            "(10000,)\n"
          ]
        }
      ]
    },
    {
      "cell_type": "markdown",
      "source": [
        "<br>\n",
        "\n",
        "읽어들인 데이터를 시각화하기 위해 train_images[0]을 이용하여 훈련 이미지의 가장 앞에 있는 데이터를 가져온 후, 이 데이터를 2중 for문을 사용하여 내부의 값을 출력한다."
      ],
      "metadata": {
        "id": "ZBB1ojTQ3cgQ"
      }
    },
    {
      "cell_type": "code",
      "source": [
        "num = train_images[0]\n",
        "for i in range(28):\n",
        "  for j in range(28):\n",
        "    print('{:4d}'.format(num[i][j]), end='')\n",
        "  print()"
      ],
      "metadata": {
        "colab": {
          "base_uri": "https://localhost:8080/"
        },
        "id": "1XqJdioI3nJ4",
        "outputId": "36211fe9-7cff-4769-adf0-6a871b601135"
      },
      "execution_count": null,
      "outputs": [
        {
          "output_type": "stream",
          "name": "stdout",
          "text": [
            "   0   0   0   0   0   0   0   0   0   0   0   0   0   0   0   0   0   0   0   0   0   0   0   0   0   0   0   0\n",
            "   0   0   0   0   0   0   0   0   0   0   0   0   0   0   0   0   0   0   0   0   0   0   0   0   0   0   0   0\n",
            "   0   0   0   0   0   0   0   0   0   0   0   0   0   0   0   0   0   0   0   0   0   0   0   0   0   0   0   0\n",
            "   0   0   0   0   0   0   0   0   0   0   0   0   0   0   0   0   0   0   0   0   0   0   0   0   0   0   0   0\n",
            "   0   0   0   0   0   0   0   0   0   0   0   0   0   0   0   0   0   0   0   0   0   0   0   0   0   0   0   0\n",
            "   0   0   0   0   0   0   0   0   0   0   0   0   3  18  18  18 126 136 175  26 166 255 247 127   0   0   0   0\n",
            "   0   0   0   0   0   0   0   0  30  36  94 154 170 253 253 253 253 253 225 172 253 242 195  64   0   0   0   0\n",
            "   0   0   0   0   0   0   0  49 238 253 253 253 253 253 253 253 253 251  93  82  82  56  39   0   0   0   0   0\n",
            "   0   0   0   0   0   0   0  18 219 253 253 253 253 253 198 182 247 241   0   0   0   0   0   0   0   0   0   0\n",
            "   0   0   0   0   0   0   0   0  80 156 107 253 253 205  11   0  43 154   0   0   0   0   0   0   0   0   0   0\n",
            "   0   0   0   0   0   0   0   0   0  14   1 154 253  90   0   0   0   0   0   0   0   0   0   0   0   0   0   0\n",
            "   0   0   0   0   0   0   0   0   0   0   0 139 253 190   2   0   0   0   0   0   0   0   0   0   0   0   0   0\n",
            "   0   0   0   0   0   0   0   0   0   0   0  11 190 253  70   0   0   0   0   0   0   0   0   0   0   0   0   0\n",
            "   0   0   0   0   0   0   0   0   0   0   0   0  35 241 225 160 108   1   0   0   0   0   0   0   0   0   0   0\n",
            "   0   0   0   0   0   0   0   0   0   0   0   0   0  81 240 253 253 119  25   0   0   0   0   0   0   0   0   0\n",
            "   0   0   0   0   0   0   0   0   0   0   0   0   0   0  45 186 253 253 150  27   0   0   0   0   0   0   0   0\n",
            "   0   0   0   0   0   0   0   0   0   0   0   0   0   0   0  16  93 252 253 187   0   0   0   0   0   0   0   0\n",
            "   0   0   0   0   0   0   0   0   0   0   0   0   0   0   0   0   0 249 253 249  64   0   0   0   0   0   0   0\n",
            "   0   0   0   0   0   0   0   0   0   0   0   0   0   0  46 130 183 253 253 207   2   0   0   0   0   0   0   0\n",
            "   0   0   0   0   0   0   0   0   0   0   0   0  39 148 229 253 253 253 250 182   0   0   0   0   0   0   0   0\n",
            "   0   0   0   0   0   0   0   0   0   0  24 114 221 253 253 253 253 201  78   0   0   0   0   0   0   0   0   0\n",
            "   0   0   0   0   0   0   0   0  23  66 213 253 253 253 253 198  81   2   0   0   0   0   0   0   0   0   0   0\n",
            "   0   0   0   0   0   0  18 171 219 253 253 253 253 195  80   9   0   0   0   0   0   0   0   0   0   0   0   0\n",
            "   0   0   0   0  55 172 226 253 253 253 253 244 133  11   0   0   0   0   0   0   0   0   0   0   0   0   0   0\n",
            "   0   0   0   0 136 253 253 253 212 135 132  16   0   0   0   0   0   0   0   0   0   0   0   0   0   0   0   0\n",
            "   0   0   0   0   0   0   0   0   0   0   0   0   0   0   0   0   0   0   0   0   0   0   0   0   0   0   0   0\n",
            "   0   0   0   0   0   0   0   0   0   0   0   0   0   0   0   0   0   0   0   0   0   0   0   0   0   0   0   0\n",
            "   0   0   0   0   0   0   0   0   0   0   0   0   0   0   0   0   0   0   0   0   0   0   0   0   0   0   0   0\n"
          ]
        }
      ]
    },
    {
      "cell_type": "markdown",
      "source": [
        "<br><br>\n",
        "\n",
        "---\n",
        "\n",
        "<br><br>\n",
        "\n",
        "## 3. MNIST 데이터 그리기\n",
        "\n",
        "<br><br>\n",
        "\n",
        "for문을 이용해 28x28 크기의 이미지 내부를 살펴보았다. 이미지의 한 픽셀은 0에서 255 사이의 값을 가진 회색조 이미지라는 것을 알 수 있었다.<br>\n",
        "\n",
        "학습 데이터 집합에 있는 데이터 중에서 4개의 이미지를 가져와서 화면에 출력한다."
      ],
      "metadata": {
        "id": "w9gOWI5V30M1"
      }
    },
    {
      "cell_type": "code",
      "source": [
        "fig = plt.figure()\n",
        "ax1 = fig.add_subplot(1, 4, 1)\n",
        "ax2 = fig.add_subplot(1, 4, 2)\n",
        "ax3 = fig.add_subplot(1, 4, 3)\n",
        "ax4 = fig.add_subplot(1, 4, 4)\n",
        "\n",
        "ax1.imshow(train_images[0], cmap = 'Greys')\n",
        "ax2.imshow(train_images[1], cmap = 'Greys')\n",
        "ax3.imshow(train_images[2], cmap = 'Greys')\n",
        "ax4.imshow(train_images[3], cmap = 'Greys')"
      ],
      "metadata": {
        "colab": {
          "base_uri": "https://localhost:8080/",
          "height": 141
        },
        "id": "gbG-UL8M6Gue",
        "outputId": "756194ad-b20f-454d-a01c-4ac90e98eddf"
      },
      "execution_count": null,
      "outputs": [
        {
          "output_type": "execute_result",
          "data": {
            "text/plain": [
              "<matplotlib.image.AxesImage at 0x7fa5fa1a8ad0>"
            ]
          },
          "metadata": {},
          "execution_count": 4
        },
        {
          "output_type": "display_data",
          "data": {
            "text/plain": [
              "<Figure size 432x288 with 4 Axes>"
            ],
            "image/png": "[encoded data removed]"
          },
          "metadata": {
            "needs_background": "light"
          }
        }
      ]
    },
    {
      "cell_type": "markdown",
      "source": [
        "이미지 파일 형태인 학습 데이터의 첫 4개 데이터의 형태가 5, 0, 4, 1의 숫자라는 것을 눈으로 확인할 수 있다. 이제 이 4개 이미지의 정답에 해당하는 train_labels 배열의 값을 출력한다."
      ],
      "metadata": {
        "id": "G038fLN47Qu1"
      }
    },
    {
      "cell_type": "code",
      "source": [
        "print(train_labels[:4])"
      ],
      "metadata": {
        "colab": {
          "base_uri": "https://localhost:8080/"
        },
        "id": "duxy0pNI7kY4",
        "outputId": "718ee58e-1963-44c6-b1ef-0b8716e22d7b"
      },
      "execution_count": null,
      "outputs": [
        {
          "output_type": "stream",
          "name": "stdout",
          "text": [
            "[5 0 4 1]\n"
          ]
        }
      ]
    },
    {
      "cell_type": "markdown",
      "source": [
        "훈련 이미지의 레이블이 5 0 4 1이라는 것을 확인할 수 있다.<br>\n",
        "\n",
        "이런 이미지와 정답이 6만 개 주어져 있으므로, 우리는 다음과 같은 일을 시도해볼 수 있다.\n",
        "\n",
        "1. 신경망 모델의 입력값으로 사용하기에 적절한 형태로 train_images 데이터를 전처리한다.\n",
        "2. train_images 데이터를 학습시키기 위한 신경망 모델을 정의한다.\n",
        "3. 신경망 모델의 활성화 함수, 학습을 위한 최적화 함수, 손실함수, 측정 방법을 정의한다.\n",
        "4. 6만 개의 이미지로 이루어진 train_images 데이터를 심층 신경망 모델에 넣어서 train_labels 데이터의 숫자로 인식하도록 학습을 시킨다.\n",
        "5. 1만 개의 이미지로 이루어진 test_image 데이터를 학습을 마친 모델의 입력으로 넣어서 이 모델의 정확도를 알아본다.\n",
        "6. 모델의 성능을 개선하기 위해 모델의 신경망 노드망 층을 증가시킨다.\n",
        "\n",
        "<br>\n",
        "\n",
        "keras 서브 모듈의 다양한 기능을 사용한다면 이런 어려운 작업도 손쉽게 할 수 있다.<br>\n",
        "**텐서플로는 다층 퍼셉트론을 만들고 학습시키는 번거로운 작업을 매우 쉽게 할 수 있다.**\n",
        "\n",
        "<br>\n",
        "\n",
        "1번 단계의 **전처리**는 이미 MNIST 데이터 집합을 생성할때 수행되었다고 볼 수 있다. 하지만 만약 데이터를 직접 수집할 때에는 손글씨 데이터를 스캐닝하는 과정에서 상당한 잡음이 들어가있을 것이다. 이 경우에는 잡을 제거하거나 크기를 보정하는 작업이 될 수 있다. 0에서 255 사이값을 가지는 회색조 이미지의 값의 범위를 0에서 1 사이의 값으로 변환시키는 작업도 필요하다.<br>\n",
        "\n",
        "이러한 전처리는 train_images / 255, test_images / 255로 간단하게 할 수 있다. 이 전처리는 원래 픽셀이 가진 값의 범위 0~255를 0에서 1 사이의 값으로 조정하는 **정규화** 과정이다.<br>\n",
        "이와 같이 0과 1 사이의 실수 값을 입력으로 사용하는 이유는 인공 신경망의 전체 수식에서 사용되는 값이 이산적인 값이 아닌 연속적인 값이기 때문이며, 따라서 실수값을 입력으로 사용하는 것이 더 나은 결과를 얻을 수 있기 때문이다."
      ],
      "metadata": {
        "id": "V5Zs9rHD7oyu"
      }
    },
    {
      "cell_type": "code",
      "source": [
        "train_images, test_images = train_images / 255, test_images / 255"
      ],
      "metadata": {
        "id": "4cVdAjAm9afU"
      },
      "execution_count": null,
      "outputs": []
    },
    {
      "cell_type": "markdown",
      "source": [
        "<br><br>\n",
        "\n",
        "---\n",
        "\n",
        "<br><br>\n",
        "\n",
        "##4. 심층 신경망 모델을 만들고 하이퍼파라미터를 튜닝하자\n",
        "\n",
        "<br><br>\n",
        "\n",
        "2번 단계인 신경망 모델을 만드는 일을 도와주는 것이 텐서플로의 역할이다.<br>\n",
        "\n",
        "흔히 말하는 **딥러닝**이라는 것은 **인공 신경망의 층을 계층적으로 깊이 쌓아서 만든 신경망 모델을 통해 학습을 하는 알고리즘**을 말한다.<br>\n",
        "\n",
        "다층 퍼셉트론을 만들고 오차 역전파 알고리즘을 통해 학습하기 위해서는 대규모 행렬 계산이 필요한데, 텐서플로 코드를 이용해 간단히 구현할 수 있다."
      ],
      "metadata": {
        "id": "LfuqFnxD9ioI"
      }
    },
    {
      "cell_type": "code",
      "source": [
        "model = keras.Sequential([\n",
        "                          keras.layers.Flatten(input_shape=(28, 28)),\n",
        "                          keras.layers.Dense(256, activation='relu'),\n",
        "                          keras.layers.Dense(10, activation='softmax')\n",
        "])"
      ],
      "metadata": {
        "id": "eAspdYMr97vt"
      },
      "execution_count": null,
      "outputs": []
    },
    {
      "cell_type": "markdown",
      "source": [
        "**keras.Sequential()** 클래스는 입력층, 은닉층, 출력층이 존재하는 순차적 연결 구조를 가지는 신경망 모델을 생성한다. 이 순차적 신경망 모델을 생성할 때는 리스트 형식의 인자를 받는데 첫 항목은 일반적으로 입력층이 된다.<br>\n",
        "\n",
        "순차적 심층 신경망은 입력값으로 2차원 배열을 사용할 수 없기 때문에 이를 **Flatten()** 클래스를 이용하여 1차원 객체로 만든다.<br>\n",
        "\n",
        "다음으로 두 층에 대한 촘촘한 연결을 구성하는 **Dense 네트워크**가 나타난다. Dense는 학습을 위한 연결을 **밀집된 구조 혹은 완전 연결층**으로 한다는 의미이다. 네트워크의 입력은 앞 층에서 주어지기 때문에 몇 개의 출력으로 연결할지를 정하는 매개변수가 있다.<br>\n",
        "여기서는 256개의 노드로 네트워크를 구성하므로 784x256 = 200,704 개의 연결 네트워크가 생성된다. **실제 생성되는 내부의 은닉층은 256개의 노드와 편향 노드가 추가되어 257개의 노드를 가진다.**<br>\n",
        "\n",
        "1차원 배열로 변환된 784개의 값은 신경회로망을 통과하여 10개 중 하나의 범주로 분류된다. 이때 은닉층을 만드는 명령이 keras.layers.Dense().이다.<br>\n",
        "\n",
        "이렇게 생성된 신경망은 1) **경사 하강법을 이용해 오차를 줄이는 방향으로 학습을 진행**하며, 2) **오차 역전파를 이용하여 가장 좋은 가중치와 편향값을 찾아나간다**."
      ],
      "metadata": {
        "id": "LIEIxoC8-N5M"
      }
    },
    {
      "cell_type": "code",
      "source": [
        "model.summary()  # 모델의 구조를 요약"
      ],
      "metadata": {
        "colab": {
          "base_uri": "https://localhost:8080/"
        },
        "id": "6Jow_T_ZBmYe",
        "outputId": "914e52a9-e636-403d-d978-0f61fd49ec3d"
      },
      "execution_count": null,
      "outputs": [
        {
          "output_type": "stream",
          "name": "stdout",
          "text": [
            "Model: \"sequential_9\"\n",
            "_________________________________________________________________\n",
            " Layer (type)                Output Shape              Param #   \n",
            "=================================================================\n",
            " flatten_9 (Flatten)         (None, 784)               0         \n",
            "                                                                 \n",
            " dense_31 (Dense)            (None, 256)               200960    \n",
            "                                                                 \n",
            " dense_32 (Dense)            (None, 10)                2570      \n",
            "                                                                 \n",
            "=================================================================\n",
            "Total params: 203,530\n",
            "Trainable params: 203,530\n",
            "Non-trainable params: 0\n",
            "_________________________________________________________________\n"
          ]
        }
      ]
    },
    {
      "cell_type": "markdown",
      "source": [
        "784개의 입력이 Flatten 타입으로 들어오면, 중간에 256개의 은닉 노드가 출력층에 있는 10개의 노드와 연결된 구조임을 알 수 있다. 또한 모델에서 학습시켜야 할 파라미터의 수는 203,530개라는 정보도 보여준다."
      ],
      "metadata": {
        "id": "whlBXzVUBvup"
      }
    },
    {
      "cell_type": "markdown",
      "source": [
        "<br><br>\n",
        "\n",
        "---\n",
        "\n",
        "<br><br>\n",
        "\n",
        "## 5. 인공 신경망을 학습시켜 보자\n",
        "\n",
        "<br><br>\n",
        "\n",
        "신경망의 학습은 기본적으로 추측을 한 뒤에 정답과 비교하여 오차가 얼마인지 확인한 뒤에 오차를 줄이는 방법으로 연결의 강도를 조절하는 것이다. 이때 오차를 측정하는 방법과 이 오차를 줄이는 방법을 지정해야 한다.<br>\n",
        "\n",
        "3번 단계인 활성화 함수, 학습을 위한 최적화 함수, 손실 함수, 측정 방법을 정의하는 절차는 훈련을 하기 전에 필요하므로 다음과 같이 설정해준다."
      ],
      "metadata": {
        "id": "_TMu171PCT0J"
      }
    },
    {
      "cell_type": "code",
      "source": [
        "model.compile(optimizer='adam', loss='sparse_categorical_crossentropy', metrics=['accuracy'])  # 최적화 기법, 손실 함수, 측정 방법"
      ],
      "metadata": {
        "id": "wrp6iX48UtTY"
      },
      "execution_count": null,
      "outputs": []
    },
    {
      "cell_type": "markdown",
      "source": [
        "<br>\n",
        "\n",
        "모델을 점점 더 좋은 상태로 만드는 것을 **최적화**라고 한다. 이를 위해서는 현재 모델이 얼마나 잘못되었는지를 알아야하는데 이 오차를 측정하는 것이 **손실함수**이다.<br>\n",
        "\n",
        "모델이 완성되면 훈련 데이터와 정답 데이터를 주고 학습을 실시하면 된다. 4번 단계인 학습을 시작하게 하는 함수는 모델의 fit() 메소드인데, 훈련용 입력과 정답 레이블 데이터 셋을 차례로 주면 된다.<br>\n",
        "훈련 데이터 모음으로 한 번 훈련하는 것을 에폭이라고 하는데, 이를 반복함으로써 모델은 더 좋은 상태로 바뀌게 된다. 반복훈련은 오차 역전파 알고리즘에 의해 이루어진다.<br>\n",
        "\n",
        "아래에서는 5개의 에폭을 지정하였으므로 전체 데이터에 대한 학습을 5차례 실시하게 된다."
      ],
      "metadata": {
        "id": "LOxeKo_1WMaf"
      }
    },
    {
      "cell_type": "code",
      "source": [
        "model.fit(train_images, train_labels, epochs=5)"
      ],
      "metadata": {
        "colab": {
          "base_uri": "https://localhost:8080/"
        },
        "id": "eeaiy7L4XwVJ",
        "outputId": "97befba5-d926-42f3-848a-a1c87b057c67"
      },
      "execution_count": null,
      "outputs": [
        {
          "output_type": "stream",
          "name": "stdout",
          "text": [
            "Epoch 1/5\n",
            "1875/1875 [==============================] - 7s 4ms/step - loss: 0.2248 - accuracy: 0.9354\n",
            "Epoch 2/5\n",
            "1875/1875 [==============================] - 7s 4ms/step - loss: 0.0973 - accuracy: 0.9706\n",
            "Epoch 3/5\n",
            "1875/1875 [==============================] - 6s 3ms/step - loss: 0.0649 - accuracy: 0.9799\n",
            "Epoch 4/5\n",
            "1875/1875 [==============================] - 7s 4ms/step - loss: 0.0454 - accuracy: 0.9856\n",
            "Epoch 5/5\n",
            "1875/1875 [==============================] - 7s 4ms/step - loss: 0.0345 - accuracy: 0.9890\n"
          ]
        },
        {
          "output_type": "execute_result",
          "data": {
            "text/plain": [
              "<keras.callbacks.History at 0x7fb38476e5d0>"
            ]
          },
          "metadata": {},
          "execution_count": 28
        }
      ]
    },
    {
      "cell_type": "markdown",
      "source": [
        "에폭이 진행되면서 매 단계에서의 손실값과 정확도가 출력된다. 훈련이 진행됨에 따라 예측의 부정확도를 나타내는 손실값은 감소하고, 예측의 정확성 값은 증가하는 것을 알 수 있다.\n",
        "\n",
        "<br>\n",
        "\n",
        "5번 단계에서는 학습 데이터가 아닌 테스트 데이터를 이용하여 이 모델이 정답 레이블을 잘 맞추는지 확인한다."
      ],
      "metadata": {
        "id": "d-xg9vAqX3mi"
      }
    },
    {
      "cell_type": "code",
      "source": [
        "test_loss, test_acc = model.evaluate(test_images, test_labels, verbose=2)\n",
        "print(test_acc)"
      ],
      "metadata": {
        "colab": {
          "base_uri": "https://localhost:8080/"
        },
        "id": "JQqfRKrpY5kB",
        "outputId": "723a4fbf-aafe-4aa9-c556-1b0b89b32c25"
      },
      "execution_count": null,
      "outputs": [
        {
          "output_type": "stream",
          "name": "stdout",
          "text": [
            "313/313 - 1s - loss: 0.0727 - accuracy: 0.9770 - 638ms/epoch - 2ms/step\n",
            "0.9769999980926514\n"
          ]
        }
      ]
    },
    {
      "cell_type": "markdown",
      "source": [
        "정확도 값이 0.9769으로 97.69%의 정확도로 정답을 예측했음을 알 수 있다.\n",
        "\n",
        "<br>\n",
        "\n",
        "신경망의 학습 데이터는 동일하지만 학습 때 사용되는 모델의 초기 가중치는 매번 랜덤하게 결정되므로 동일한 모델을 만들더라도 매번 정확도 값은 다르게 나타날 수 있다.<br>\n",
        "\n",
        "이렇게 층을 쌓아나가며 여러 개의 은닉층을 가지는 신경망을 얻을 수 있고, 이를 **심층 신경망**이라고 한다."
      ],
      "metadata": {
        "id": "lH2HC61TZ5IH"
      }
    },
    {
      "cell_type": "markdown",
      "source": [
        "<br><br>\n",
        "\n",
        "---\n",
        "\n",
        "<br><br>\n",
        "\n",
        "##6. 인공 신경망의 성능을 개선해보자\n",
        "\n",
        "<br><br>\n",
        "\n",
        "6번 단계는 인공 신경망의 성능을 조금 더 개선하는 것이다.<br>\n",
        "\n",
        "일반적으로 사용하는 방법은\n",
        "\n",
        "1. 학습을 위한 은닉층을 더 깊게 만들기\n",
        "2. 에폭을 증가시키기\n",
        "3. 많은 학습용 데이터를 사용하기\n",
        "4. 하이퍼파라미터 튜닝하기\n",
        "\n",
        "등의 방법이 있다.<br>\n",
        "\n",
        "최근 연구에 의하면 배치 사이즈를 키워거나 학습률을 서서히 크게 만드는 웜엎 등과 같은 전문적인 기법도 성능 개선에 영항을 준다고 한다.\n",
        "\n",
        "<br>\n",
        "\n",
        "1번 방법대로 학습을 위한 은닉층을 더 깊게 만들기 위하여 128개, 100개의 은닉층을 가지도록 신경망을 재구성한다."
      ],
      "metadata": {
        "id": "M7c5t3MlaPEn"
      }
    },
    {
      "cell_type": "code",
      "source": [
        "model = keras.Sequential([\n",
        "                          keras.layers.Flatten(input_shape=(28, 28)),\n",
        "                          keras.layers.Dense(256, activation='relu'),\n",
        "                          keras.layers.Dense(128, activation='relu'),\n",
        "                          keras.layers.Dense(100, activation='relu'),\n",
        "                          keras.layers.Dense(10, activation='softmax')\n",
        "])\n",
        "\n",
        "model.compile(optimizer='adam', loss='sparse_categorical_crossentropy', metrics=['accuracy'])  # 최적화 기법, 손실 함수, 측정 방법\n",
        "\n",
        "train_images, test_images = train_images / 255, test_images / 255\n",
        "model.fit(train_images, train_labels, epochs=10, verbose=1)\n",
        "\n",
        "test_loss, test_acc = model.evaluate(test_images, test_labels, verbose=20)\n",
        "print(test_acc)"
      ],
      "metadata": {
        "colab": {
          "base_uri": "https://localhost:8080/"
        },
        "id": "KOgTJ3-iR1Z7",
        "outputId": "a9aa25b1-66f4-422b-82a3-2830738ab5dc"
      },
      "execution_count": null,
      "outputs": [
        {
          "output_type": "stream",
          "name": "stdout",
          "text": [
            "Epoch 1/10\n",
            "1875/1875 [==============================] - 12s 6ms/step - loss: 0.6520 - accuracy: 0.7935\n",
            "Epoch 2/10\n",
            "1875/1875 [==============================] - 11s 6ms/step - loss: 0.3194 - accuracy: 0.9031\n",
            "Epoch 3/10\n",
            "1875/1875 [==============================] - 11s 6ms/step - loss: 0.2390 - accuracy: 0.9269\n",
            "Epoch 4/10\n",
            "1875/1875 [==============================] - 11s 6ms/step - loss: 0.1848 - accuracy: 0.9437\n",
            "Epoch 5/10\n",
            "1875/1875 [==============================] - 11s 6ms/step - loss: 0.1498 - accuracy: 0.9545\n",
            "Epoch 6/10\n",
            "1875/1875 [==============================] - 10s 6ms/step - loss: 0.1263 - accuracy: 0.9614\n",
            "Epoch 7/10\n",
            "1875/1875 [==============================] - 11s 6ms/step - loss: 0.1093 - accuracy: 0.9664\n",
            "Epoch 8/10\n",
            "1875/1875 [==============================] - 11s 6ms/step - loss: 0.0952 - accuracy: 0.9706\n",
            "Epoch 9/10\n",
            "1875/1875 [==============================] - 11s 6ms/step - loss: 0.0850 - accuracy: 0.9739\n",
            "Epoch 10/10\n",
            "1875/1875 [==============================] - 10s 6ms/step - loss: 0.0761 - accuracy: 0.9768\n",
            "0.9667999744415283\n"
          ]
        }
      ]
    },
    {
      "cell_type": "code",
      "source": [
        "model = keras.Sequential([\n",
        "                          keras.layers.Flatten(input_shape=(28, 28)),\n",
        "                          keras.layers.Dense(1256, activation='relu'),\n",
        "                          keras.layers.Dense(512, activation='relu'),\n",
        "                          keras.layers.Dense(256, activation='relu'),\n",
        "                          keras.layers.Dense(100, activation='relu'),\n",
        "                          keras.layers.Dense(10, activation='softmax')\n",
        "])\n",
        "\n",
        "model.compile(optimizer='adam', loss='sparse_categorical_crossentropy', metrics=['accuracy'])  # 최적화 기법, 손실 함수, 측정 방법\n",
        "\n",
        "train_images, test_images = train_images / 255, test_images / 255\n",
        "model.fit(train_images, train_labels, epochs=10, verbose=1)\n",
        "\n",
        "test_loss, test_acc = model.evaluate(test_images, test_labels, verbose=20)\n",
        "print(test_acc)"
      ],
      "metadata": {
        "colab": {
          "base_uri": "https://localhost:8080/"
        },
        "id": "Hnqe5QShVOfU",
        "outputId": "f91417bc-ff45-49ae-ce0d-e0479e76c795"
      },
      "execution_count": null,
      "outputs": [
        {
          "output_type": "stream",
          "name": "stdout",
          "text": [
            "Epoch 1/10\n",
            "1875/1875 [==============================] - 35s 18ms/step - loss: 2.3016 - accuracy: 0.1109\n",
            "Epoch 2/10\n",
            "1875/1875 [==============================] - 34s 18ms/step - loss: 2.3014 - accuracy: 0.1124\n",
            "Epoch 3/10\n",
            "1875/1875 [==============================] - 34s 18ms/step - loss: 2.3014 - accuracy: 0.1124\n",
            "Epoch 4/10\n",
            "1875/1875 [==============================] - 33s 18ms/step - loss: 2.3014 - accuracy: 0.1124\n",
            "Epoch 5/10\n",
            "1875/1875 [==============================] - 34s 18ms/step - loss: 2.3014 - accuracy: 0.1124\n",
            "Epoch 6/10\n",
            "1875/1875 [==============================] - 34s 18ms/step - loss: 2.3013 - accuracy: 0.1124\n",
            "Epoch 7/10\n",
            "1875/1875 [==============================] - 34s 18ms/step - loss: 2.3014 - accuracy: 0.1124\n",
            "Epoch 8/10\n",
            "1875/1875 [==============================] - 34s 18ms/step - loss: 2.3014 - accuracy: 0.1124\n",
            "Epoch 9/10\n",
            "1875/1875 [==============================] - 33s 18ms/step - loss: 2.3014 - accuracy: 0.1124\n",
            "Epoch 10/10\n",
            "1875/1875 [==============================] - 34s 18ms/step - loss: 2.3013 - accuracy: 0.1124\n",
            "0.11349999904632568\n"
          ]
        }
      ]
    },
    {
      "cell_type": "markdown",
      "source": [
        "그러나 은닉층의 개수를 더 늘리고 노드를 많이 만들면 문제가 발생한다.<br>\n",
        "\n",
        "우선 훈련 파라미터가 많기 때문에 학습 시간이 많이 소요된다. 더 큰 문제는 테스트 데이터의 정확도가 고작 11% 밖에 되지 않는다는 점이다.<br>\n",
        "이와 같이 단순한 구조로 층만 깊이 쌓을 경우, **출력 부분의 오차값을 이용하여 학습을 시키는 신경망 구조의 특성상 오차가 잘 전파되지 않는다.** 그리고 층이 깊어질수록 입력에 따라 다른 동작을 내도록 조정하기 어려워진다는 문제도 있다. 이 때문에 **모델의 층을 무작정 깊이 만드는 방법은 한계**가 있다."
      ],
      "metadata": {
        "id": "Y4F5paCGVVPL"
      }
    },
    {
      "cell_type": "markdown",
      "source": [
        "<br><br>\n",
        "\n",
        "---\n",
        "\n",
        "<br><br>\n",
        "\n",
        "##7. 새 이미지를 잘 학습하는지 알아보자\n",
        "\n",
        "<br><br>\n",
        "\n",
        "학습을 진행하는 이유는 이렇게 해서 얻은 모델을 새로운 데이터에 적용하기 위해서이다. <br>\n",
        "이미지 분류를 위해 test_images 배열의 이미지들을 이용한다. 형태를 출력해보면 28x28 크기의 이미지 10000개를 가진 3차원 배열임을 알 수 있다."
      ],
      "metadata": {
        "id": "zSYg13okXila"
      }
    },
    {
      "cell_type": "code",
      "source": [
        "test_images.shape"
      ],
      "metadata": {
        "colab": {
          "base_uri": "https://localhost:8080/"
        },
        "id": "xc04YYo5YDBM",
        "outputId": "a4bcec89-f870-4e94-8afe-7c26cf683ba5"
      },
      "execution_count": null,
      "outputs": [
        {
          "output_type": "execute_result",
          "data": {
            "text/plain": [
              "(10000, 28, 28)"
            ]
          },
          "metadata": {},
          "execution_count": 32
        }
      ]
    },
    {
      "cell_type": "markdown",
      "source": [
        "<br>\n",
        "\n",
        "이 중 데이터 하나를 무작위로 선택하여 그려본다."
      ],
      "metadata": {
        "id": "O95nThq3YrHp"
      }
    },
    {
      "cell_type": "code",
      "source": [
        "randIdx = np.random.randint(0, 6000)\n",
        "plt.imshow(test_images[randIdx])"
      ],
      "metadata": {
        "colab": {
          "base_uri": "https://localhost:8080/",
          "height": 283
        },
        "id": "XFC5KURFYu_P",
        "outputId": "dbb12e64-388d-47fe-ee2d-29a0c5f50b31"
      },
      "execution_count": null,
      "outputs": [
        {
          "output_type": "execute_result",
          "data": {
            "text/plain": [
              "<matplotlib.image.AxesImage at 0x7fb37c85f590>"
            ]
          },
          "metadata": {},
          "execution_count": 34
        },
        {
          "output_type": "display_data",
          "data": {
            "text/plain": [
              "<Figure size 432x288 with 1 Axes>"
            ],
            "image/png": "[encoded data removed]"
          },
          "metadata": {
            "needs_background": "light"
          }
        }
      ]
    },
    {
      "cell_type": "markdown",
      "source": [
        "<br>\n",
        "\n",
        "3차원 배열 입력을 처리하는 모델을 만들었으나, test_images의 형태는 2차원이므로 newaxis를 이용하여 데이터를 3차원 데이터로 변환해준다.\n",
        "\n",
        "<br>\n",
        "\n",
        "이 데이터를 입력값으로 predict() 메소드에 넣으면 각각의 레이블과 일치하는 정도를 0에서 1 사이의 확률값으로 출력한다. 대부분이 매우 작은 값을 가지는데 비하여, 하나의 값 만이 높은 확률값을 갖는 것을 볼 수 있다.<br>\n",
        "\n",
        "이제 pred.argmax() 메소드로 이 확률값들 중 가장 큰 값을 살펴본다. 가장 큰 출력을 갖는 노드와 실제 이미지의 숫자를 보았을때 제대로 인식한 결과라는 것을 알 수 있다."
      ],
      "metadata": {
        "id": "AAye04IBY56I"
      }
    },
    {
      "cell_type": "code",
      "source": [
        "pred = model.predict(test_images[randIdx][np.newaxis, :, :])\n",
        "pred"
      ],
      "metadata": {
        "colab": {
          "base_uri": "https://localhost:8080/"
        },
        "id": "3raTX8bXaBYP",
        "outputId": "496ca4d5-7e55-4b4b-c90f-f859f124eacd"
      },
      "execution_count": null,
      "outputs": [
        {
          "output_type": "execute_result",
          "data": {
            "text/plain": [
              "array([[2.9886301e-06, 5.5541500e-09, 3.9699080e-06, 4.5874081e-06,\n",
              "        1.8559402e-05, 2.6272483e-07, 9.5509911e-08, 1.1407794e-08,\n",
              "        9.9847716e-01, 1.4923313e-03]], dtype=float32)"
            ]
          },
          "metadata": {},
          "execution_count": 46
        }
      ]
    },
    {
      "cell_type": "code",
      "source": [
        "pred.argmax()"
      ],
      "metadata": {
        "colab": {
          "base_uri": "https://localhost:8080/"
        },
        "id": "Y3P8weRwa7qU",
        "outputId": "31191c84-a759-43c9-a020-0294ef4a4b5e"
      },
      "execution_count": null,
      "outputs": [
        {
          "output_type": "execute_result",
          "data": {
            "text/plain": [
              "8"
            ]
          },
          "metadata": {},
          "execution_count": 47
        }
      ]
    },
    {
      "cell_type": "markdown",
      "source": [
        "<br><br>\n",
        "\n",
        "---\n",
        "\n",
        "<br><br>\n",
        "\n",
        "##8. 부드러운 최대값을 출력하는 소프트맥스 함수\n",
        "\n",
        "<br><br>\n",
        "\n",
        "가중치 값을 가진 벡터를 0에서 1 사이의 클래스별 확률값으로 변환하기 위해 사용하는 함수가 **소프트맥스 함수**이다.<br>\n",
        "\n",
        "모델의 예측값을 소프트맥스 함수를 이용하여 각각의 확률로 계산한다. 이런 특징으로 인해 이 함수는 부드러운 최대값을 얻는다는 의미의 softmax라는 이름이 붙여졌다. 여기서 '부드럽다'는 것은 다른 출력값의 확률값도 유지한다는 뜻이다. 반면 max나 argmax 같은 함수는 각각 최대값 혹은 최대값을 갖게 하는 인자 하남나을 반환한다."
      ],
      "metadata": {
        "id": "ZMj3O1Uma-EU"
      }
    },
    {
      "cell_type": "code",
      "source": [
        "import numpy as np\n",
        "\n",
        "def softmax(a):\n",
        "  exp_of_a = np.exp(a)  # 각각의 지수 함수\n",
        "  sum_exp = np.sum(exp_of_a)  # 지수 함수값의 합\n",
        "  y = exp_of_a / sum_exp  # 각각의 확률값을 구함\n",
        "  return y\n",
        "\n",
        "a = np.array([0.5, 4.1, 2.5, 5.6, 1.2])\n",
        "print(a)  # 신경망의 예측값\n",
        "print(softmax(a))  # 소프트맥스 함수 출력\n",
        "print(np.max(softmax(a)))  # 소프트맥스 함수의 최대값"
      ],
      "metadata": {
        "colab": {
          "base_uri": "https://localhost:8080/"
        },
        "id": "fSRCqIjCclrq",
        "outputId": "7012706e-818e-47c6-e4f4-3a4ddd208d9c"
      },
      "execution_count": null,
      "outputs": [
        {
          "output_type": "stream",
          "name": "stdout",
          "text": [
            "[0.5 4.1 2.5 5.6 1.2]\n",
            "[0.00473882 0.17343248 0.03501541 0.77727047 0.00954281]\n",
            "0.7772704668966948\n"
          ]
        }
      ]
    },
    {
      "cell_type": "markdown",
      "source": [
        "<br><br>\n",
        "\n",
        "---\n",
        "\n",
        "<br><br>\n",
        "\n",
        "##9. 직접 만든 이미지를 업로드하고 테스트하자\n",
        "\n",
        "<br><br>\n",
        "\n",
        "테스트 데이터 셋이 아닌 우리가 가진 임의의 데이터를 입력으로 제공하여 테스트한다."
      ],
      "metadata": {
        "id": "k3eUhTJjdYVy"
      }
    },
    {
      "cell_type": "code",
      "source": [
        "import matplotlib.image as mpimg\n",
        "import matplotlib.pyplot as plt\n",
        "\n",
        "img = mpimg.imread('./myNumber.png')\n",
        "plt.imshow(img)"
      ],
      "metadata": {
        "colab": {
          "base_uri": "https://localhost:8080/",
          "height": 287
        },
        "id": "VXrg74VJeKMM",
        "outputId": "b28a89d6-1390-4ccb-d6d7-485617d6202c"
      },
      "execution_count": null,
      "outputs": [
        {
          "output_type": "execute_result",
          "data": {
            "text/plain": [
              "<matplotlib.image.AxesImage at 0x7fd2f3a91350>"
            ]
          },
          "metadata": {},
          "execution_count": 2
        },
        {
          "output_type": "display_data",
          "data": {
            "text/plain": [
              "<Figure size 432x288 with 1 Axes>"
            ],
            "image/png": "[encoded data removed]"
          },
          "metadata": {
            "needs_background": "light"
          }
        }
      ]
    },
    {
      "cell_type": "markdown",
      "source": [
        "<br>\n",
        "\n",
        "이 이미지를 28x28 크기로 재단하고 회색조의 단일 채널 이미지로 바꿔주어야 한다. OpenCV 라이브러리를 이용하여 이미지를 변환한다."
      ],
      "metadata": {
        "id": "BGvbHFF-eWUZ"
      }
    },
    {
      "cell_type": "code",
      "source": [
        "import cv2\n",
        "\n",
        "img = cv2.imread('./myNumber.png', cv2.IMREAD_GRAYSCALE)\n",
        "img = cv2.resize(img, (28, 28))\n",
        "plt.imshow(img)"
      ],
      "metadata": {
        "colab": {
          "base_uri": "https://localhost:8080/",
          "height": 283
        },
        "id": "408j0Xyaehfi",
        "outputId": "4ffa4cef-3dd5-4bca-eaa5-fdba3e3072da"
      },
      "execution_count": null,
      "outputs": [
        {
          "output_type": "execute_result",
          "data": {
            "text/plain": [
              "<matplotlib.image.AxesImage at 0x7fd2e80c1250>"
            ]
          },
          "metadata": {},
          "execution_count": 3
        },
        {
          "output_type": "display_data",
          "data": {
            "text/plain": [
              "<Figure size 432x288 with 1 Axes>"
            ],
            "image/png": "[encoded data removed]"
          },
          "metadata": {
            "needs_background": "light"
          }
        }
      ]
    },
    {
      "cell_type": "markdown",
      "source": [
        "<br><br>\n",
        "\n",
        "---\n",
        "\n",
        "<br><br>\n",
        "\n",
        "## 10. 데이터의 전처리는 매우 중요하다\n",
        "\n",
        "<br><br>\n",
        "\n",
        "위와 같이 모델에 입력으로 사용하기 전에 필요한 작업을 **전처리** 작업이라고 한다. 인공지능 관련 프로젝트의 **전체 소요 시간의 80% 가량이 데이터 전처리 작업에 소요**된다고 한다.<br>\n",
        "\n",
        "위에서 생성한 이미지를 모델에 입력으로 넣어보고 제대로 인식하나 살펴보자."
      ],
      "metadata": {
        "id": "ScYJ499afEIs"
      }
    },
    {
      "cell_type": "code",
      "source": [
        "pred = model.predict(img[np.newaxis, :, :])\n",
        "pred.argmax()"
      ],
      "metadata": {
        "colab": {
          "base_uri": "https://localhost:8080/"
        },
        "id": "JYE7PjjQfcSa",
        "outputId": "7afe65d9-04a5-41cb-f655-5c00717f0097"
      },
      "execution_count": null,
      "outputs": [
        {
          "output_type": "execute_result",
          "data": {
            "text/plain": [
              "3"
            ]
          },
          "metadata": {},
          "execution_count": 14
        }
      ]
    },
    {
      "cell_type": "markdown",
      "source": [
        "3 이미지를 5로 인식한 모습이다. 문제점을 찾기 위해 이미지를 수치로 출력해보면 대부분의 수치값이 255로 되어있음을 알 수 있다."
      ],
      "metadata": {
        "id": "k4rg0HHFgEIk"
      }
    },
    {
      "cell_type": "code",
      "source": [
        "for i in range(28):\n",
        "  for j in range(28):\n",
        "    print('{:4d}'.format(img[i][j]), end='')\n",
        "  print()"
      ],
      "metadata": {
        "colab": {
          "base_uri": "https://localhost:8080/"
        },
        "id": "o6rjzBfjgObt",
        "outputId": "37a0aae6-1b88-4a70-9236-7414b7573dd6"
      },
      "execution_count": null,
      "outputs": [
        {
          "output_type": "stream",
          "name": "stdout",
          "text": [
            " 255 255 255 255 255 255 255 255 255 255 255 255 255 255 255 255 255 255 255 255 255 255 255 255 255 255 255 255\n",
            " 255 255 255 255 255 255 255 255 255 255 255 255 255 255 255 255 255 255 255 255 255 255 255 255 255 255 255 255\n",
            " 255 255 255 255 255 255 255 255 255 255 255 255 255 255 255 255 255 255 255 255 255 255 255 255 255 255 255 255\n",
            " 255 255 255 255 255 255 255 255 255 255 255 255 255 255 255 255 255 255 255 255 255 255 255 255 255 255 255 255\n",
            " 255 255 255 255 255 255 255 255 255 255 255 255 255 255 255 255 255 255 255 255 255 255 255 255 255 255 255 255\n",
            " 255 255 255 255 255 255 255 255 255 255 255 255 255 255 255 255 255 255 255 255 255 255 255 255 255 255 255 255\n",
            " 255 255 255 255 255 255 255 255 255 255 229  80  80  80  80  80  80 158 255 255 255 255 255 255 255 255 255 255\n",
            " 255 255 255 255 255 255 255 255 104  80 124 249 255 255 255 255 255 143  85 255 255 255 255 255 255 255 255 255\n",
            " 255 255 255 255 255 255 255 255 159 255 255 255 255 255 255 255 255 255  80 255 255 255 255 255 255 255 255 255\n",
            " 255 255 255 255 255 255 255 255 255 255 255 255 255 255 255 255 255 255  80 255 255 255 255 255 255 255 255 255\n",
            " 255 255 255 255 255 255 255 255 255 255 255 255 255 255 255 255 255  80 225 255 255 255 255 255 255 255 255 255\n",
            " 255 255 255 255 255 255 255 255 255 255 255 255 255 255 255 255  80 205 255 255 255 255 255 255 255 255 255 255\n",
            " 255 255 255 255 255 255 255 255 255 255 255 255 255 255 255  80 176 255 255 255 255 255 255 255 255 255 255 255\n",
            " 255 255 255 255 255 255 255 255 255 255 255 255 255 105  80 212 241 255 255 255 255 255 255 255 255 255 255 255\n",
            " 255 255 255 255 255 255 255 255 255 255 255 255 184  80  81  83 105  80  83 255 255 255 255 255 255 255 255 255\n",
            " 255 255 255 255 255 255 255 255 255 255 255 255 255 255 255 255 255 255 206  88 255 255 255 255 255 255 255 255\n",
            " 255 255 255 255 255 255 255 255 255 255 255 255 255 255 255 255 255 255 255  80 255 255 255 255 255 255 255 255\n",
            " 255 255 255 255 255 255 255 255 255 255 255 255 255 255 255 255 255 255 255  80 255 255 255 255 255 255 255 255\n",
            " 255 255 255 255 255 255 255 255 255 255 255 255 255 255 255 255 255 255 255  80 255 255 255 255 255 255 255 255\n",
            " 255 255 255 255 255 255 255 255 255 255 255 255 255 255 255 255 255 255 255  80 255 255 255 255 255 255 255 255\n",
            " 255 255 255 255 255 255 255 255 255 255 255 255 255 255 255 255 255 255 201 102 255 255 255 255 255 255 255 255\n",
            " 255 255 255 255 255 255 255 255 255 255 255 255 255 255 255 255 255 186  80 255 255 255 255 255 255 255 255 255\n",
            " 255 255 255 255 255 255 255 255 255 255 255 255 255 255 255 255  87  96 255 255 255 255 255 255 255 255 255 255\n",
            " 255 255 255  80 254 255 255 255 255 255 255 255 255 255 139  80 210 255 255 255 255 255 255 255 255 255 255 255\n",
            " 255 255 255 251  80 174 191 192 181 131  97  80  80  80 209 255 255 255 255 255 255 255 255 255 255 255 255 255\n",
            " 255 255 255 255 254 178 159 157 172 222 253 255 255 255 255 255 255 255 255 255 255 255 255 255 255 255 255 255\n",
            " 255 255 255 255 255 255 255 255 255 255 255 255 255 255 255 255 255 255 255 255 255 255 255 255 255 255 255 255\n",
            " 255 255 255 255 255 255 255 255 255 255 255 255 255 255 255 255 255 255 255 255 255 255 255 255 255 255 255 255\n"
          ]
        }
      ]
    },
    {
      "cell_type": "markdown",
      "source": [
        "이미지의 배경이 흰색이므로 255로 표현된 모습인 반면, 모델 학습에 사용한 이미지는 배경이 0으로 표현되어있다.<br>\n",
        "\n",
        "데이터를 수정하고 predict() 메소드를 다시 실행한다."
      ],
      "metadata": {
        "id": "wSqclE5NgbYK"
      }
    },
    {
      "cell_type": "code",
      "source": [
        "img = (255 - img) / 255\n",
        "pred = model.predict(img[np.newaxis, :, :])\n",
        "pred.argmax()"
      ],
      "metadata": {
        "colab": {
          "base_uri": "https://localhost:8080/"
        },
        "id": "3cRJKOY7gonK",
        "outputId": "f031894f-c0e7-4d5a-92cb-dabefe62efa8"
      },
      "execution_count": null,
      "outputs": [
        {
          "output_type": "execute_result",
          "data": {
            "text/plain": [
              "3"
            ]
          },
          "metadata": {},
          "execution_count": 54
        }
      ]
    },
    {
      "cell_type": "markdown",
      "source": [
        "<br><br>\n",
        "\n",
        "##도전문제 : 데이터를 직접 테스트"
      ],
      "metadata": {
        "id": "iw_8eV4lhTgU"
      }
    },
    {
      "cell_type": "code",
      "source": [
        "import matplotlib.image as mpimg\n",
        "import matplotlib.pyplot as plt\n",
        "import cv2\n",
        "\n",
        "i4 = mpimg.imread('./num4.png', cv2.IMREAD_GRAYSCALE)\n",
        "i4 = cv2.resize(i4, (28, 28))\n",
        "i4 = (255 - i4) / 255\n",
        "i5 = mpimg.imread('./num5.png', cv2.IMREAD_GRAYSCALE)\n",
        "i5 = cv2.resize(i5, (28, 28))\n",
        "i5 = (255 - i5) / 255\n",
        "i6 = mpimg.imread('./num6.png', cv2.IMREAD_GRAYSCALE)\n",
        "i6 = cv2.resize(i6, (28, 28))\n",
        "i6 = (255 - i5) / 255\n",
        "plt.imshow(i4)\n",
        "#pred = model.predict(i4[np.newaxis, :, :])\n",
        "#pred.argmax()"
      ],
      "metadata": {
        "colab": {
          "base_uri": "https://localhost:8080/",
          "height": 283
        },
        "id": "rhSK2CBnh19d",
        "outputId": "d7f6aca1-cd9a-4737-9980-acd6867cfff0"
      },
      "execution_count": null,
      "outputs": [
        {
          "output_type": "execute_result",
          "data": {
            "text/plain": [
              "<matplotlib.image.AxesImage at 0x7fd266088c10>"
            ]
          },
          "metadata": {},
          "execution_count": 22
        },
        {
          "output_type": "display_data",
          "data": {
            "text/plain": [
              "<Figure size 432x288 with 1 Axes>"
            ],
            "image/png": "[encoded data removed]"
          },
          "metadata": {
            "needs_background": "light"
          }
        }
      ]
    },
    {
      "cell_type": "code",
      "source": [
        "#pred = model.predict(i5[np.newaxis, :, :])\n",
        "#pred.argmax()\n",
        "plt.imshow(i5)"
      ],
      "metadata": {
        "colab": {
          "base_uri": "https://localhost:8080/",
          "height": 283
        },
        "id": "UEdv4TKDivYw",
        "outputId": "0a64b844-13c5-4c1b-9c4d-9101521c8703"
      },
      "execution_count": null,
      "outputs": [
        {
          "output_type": "execute_result",
          "data": {
            "text/plain": [
              "<matplotlib.image.AxesImage at 0x7fd266135410>"
            ]
          },
          "metadata": {},
          "execution_count": 20
        },
        {
          "output_type": "display_data",
          "data": {
            "text/plain": [
              "<Figure size 432x288 with 1 Axes>"
            ],
            "image/png": "[encoded data removed]"
          },
          "metadata": {
            "needs_background": "light"
          }
        }
      ]
    },
    {
      "cell_type": "markdown",
      "source": [
        "이미지의 글자 크기가 작아서 그런지 제대로 인식이 되지 않은 모습이다."
      ],
      "metadata": {
        "id": "mdLcxJpvl6Yf"
      }
    },
    {
      "cell_type": "code",
      "source": [
        "import matplotlib.image as mpimg\n",
        "import matplotlib.pyplot as plt\n",
        "import cv2\n",
        "\n",
        "i4 = mpimg.imread('./n4.png', cv2.IMREAD_GRAYSCALE)\n",
        "i4 = cv2.resize(i4, (28, 28))\n",
        "i4 = (255 - i4) / 255\n",
        "i5 = mpimg.imread('./n5.png', cv2.IMREAD_GRAYSCALE)\n",
        "i5 = cv2.resize(i5, (28, 28))\n",
        "i5 = (255 - i5) / 255\n",
        "i6 = mpimg.imread('./n6.png', cv2.IMREAD_GRAYSCALE)\n",
        "i6 = cv2.resize(i6, (28, 28))\n",
        "i6 = (255 - i5) / 255\n",
        "\n",
        "pred = model.predict(i4[np.newaxis, :, :])\n",
        "pred.argmax()"
      ],
      "metadata": {
        "colab": {
          "base_uri": "https://localhost:8080/",
          "height": 1000
        },
        "id": "f0vosSr-mBju",
        "outputId": "8c22c953-4a18-439a-e54d-48f8ba8b13cb"
      },
      "execution_count": null,
      "outputs": [
        {
          "output_type": "error",
          "ename": "InvalidArgumentError",
          "evalue": "ignored",
          "traceback": [
            "\u001b[0;31m---------------------------------------------------------------------------\u001b[0m",
            "\u001b[0;31mInvalidArgumentError\u001b[0m                      Traceback (most recent call last)",
            "\u001b[0;32m<ipython-input-33-76c7ed9648f7>\u001b[0m in \u001b[0;36m<module>\u001b[0;34m()\u001b[0m\n\u001b[1;32m     13\u001b[0m \u001b[0mi6\u001b[0m \u001b[0;34m=\u001b[0m \u001b[0;34m(\u001b[0m\u001b[0;36m255\u001b[0m \u001b[0;34m-\u001b[0m \u001b[0mi5\u001b[0m\u001b[0;34m)\u001b[0m \u001b[0;34m/\u001b[0m \u001b[0;36m255\u001b[0m\u001b[0;34m\u001b[0m\u001b[0;34m\u001b[0m\u001b[0m\n\u001b[1;32m     14\u001b[0m \u001b[0;34m\u001b[0m\u001b[0m\n\u001b[0;32m---> 15\u001b[0;31m \u001b[0mpred\u001b[0m \u001b[0;34m=\u001b[0m \u001b[0mmodel\u001b[0m\u001b[0;34m.\u001b[0m\u001b[0mpredict\u001b[0m\u001b[0;34m(\u001b[0m\u001b[0mi4\u001b[0m\u001b[0;34m[\u001b[0m\u001b[0mnp\u001b[0m\u001b[0;34m.\u001b[0m\u001b[0mnewaxis\u001b[0m\u001b[0;34m,\u001b[0m \u001b[0;34m:\u001b[0m\u001b[0;34m,\u001b[0m \u001b[0;34m:\u001b[0m\u001b[0;34m]\u001b[0m\u001b[0;34m)\u001b[0m\u001b[0;34m\u001b[0m\u001b[0;34m\u001b[0m\u001b[0m\n\u001b[0m\u001b[1;32m     16\u001b[0m \u001b[0mpred\u001b[0m\u001b[0;34m.\u001b[0m\u001b[0margmax\u001b[0m\u001b[0;34m(\u001b[0m\u001b[0;34m)\u001b[0m\u001b[0;34m\u001b[0m\u001b[0;34m\u001b[0m\u001b[0m\n",
            "\u001b[0;32m/usr/local/lib/python3.7/dist-packages/keras/utils/traceback_utils.py\u001b[0m in \u001b[0;36merror_handler\u001b[0;34m(*args, **kwargs)\u001b[0m\n\u001b[1;32m     65\u001b[0m     \u001b[0;32mexcept\u001b[0m \u001b[0mException\u001b[0m \u001b[0;32mas\u001b[0m \u001b[0me\u001b[0m\u001b[0;34m:\u001b[0m  \u001b[0;31m# pylint: disable=broad-except\u001b[0m\u001b[0;34m\u001b[0m\u001b[0;34m\u001b[0m\u001b[0m\n\u001b[1;32m     66\u001b[0m       \u001b[0mfiltered_tb\u001b[0m \u001b[0;34m=\u001b[0m \u001b[0m_process_traceback_frames\u001b[0m\u001b[0;34m(\u001b[0m\u001b[0me\u001b[0m\u001b[0;34m.\u001b[0m\u001b[0m__traceback__\u001b[0m\u001b[0;34m)\u001b[0m\u001b[0;34m\u001b[0m\u001b[0;34m\u001b[0m\u001b[0m\n\u001b[0;32m---> 67\u001b[0;31m       \u001b[0;32mraise\u001b[0m \u001b[0me\u001b[0m\u001b[0;34m.\u001b[0m\u001b[0mwith_traceback\u001b[0m\u001b[0;34m(\u001b[0m\u001b[0mfiltered_tb\u001b[0m\u001b[0;34m)\u001b[0m \u001b[0;32mfrom\u001b[0m \u001b[0;32mNone\u001b[0m\u001b[0;34m\u001b[0m\u001b[0;34m\u001b[0m\u001b[0m\n\u001b[0m\u001b[1;32m     68\u001b[0m     \u001b[0;32mfinally\u001b[0m\u001b[0;34m:\u001b[0m\u001b[0;34m\u001b[0m\u001b[0;34m\u001b[0m\u001b[0m\n\u001b[1;32m     69\u001b[0m       \u001b[0;32mdel\u001b[0m \u001b[0mfiltered_tb\u001b[0m\u001b[0;34m\u001b[0m\u001b[0;34m\u001b[0m\u001b[0m\n",
            "\u001b[0;32m/usr/local/lib/python3.7/dist-packages/tensorflow/python/eager/execute.py\u001b[0m in \u001b[0;36mquick_execute\u001b[0;34m(op_name, num_outputs, inputs, attrs, ctx, name)\u001b[0m\n\u001b[1;32m     53\u001b[0m     \u001b[0mctx\u001b[0m\u001b[0;34m.\u001b[0m\u001b[0mensure_initialized\u001b[0m\u001b[0;34m(\u001b[0m\u001b[0;34m)\u001b[0m\u001b[0;34m\u001b[0m\u001b[0;34m\u001b[0m\u001b[0m\n\u001b[1;32m     54\u001b[0m     tensors = pywrap_tfe.TFE_Py_Execute(ctx._handle, device_name, op_name,\n\u001b[0;32m---> 55\u001b[0;31m                                         inputs, attrs, num_outputs)\n\u001b[0m\u001b[1;32m     56\u001b[0m   \u001b[0;32mexcept\u001b[0m \u001b[0mcore\u001b[0m\u001b[0;34m.\u001b[0m\u001b[0m_NotOkStatusException\u001b[0m \u001b[0;32mas\u001b[0m \u001b[0me\u001b[0m\u001b[0;34m:\u001b[0m\u001b[0;34m\u001b[0m\u001b[0;34m\u001b[0m\u001b[0m\n\u001b[1;32m     57\u001b[0m     \u001b[0;32mif\u001b[0m \u001b[0mname\u001b[0m \u001b[0;32mis\u001b[0m \u001b[0;32mnot\u001b[0m \u001b[0;32mNone\u001b[0m\u001b[0;34m:\u001b[0m\u001b[0;34m\u001b[0m\u001b[0;34m\u001b[0m\u001b[0m\n",
            "\u001b[0;31mInvalidArgumentError\u001b[0m: Graph execution error:\n\nDetected at node 'sequential_1/dense_2/Relu' defined at (most recent call last):\n    File \"/usr/lib/python3.7/runpy.py\", line 193, in _run_module_as_main\n      \"__main__\", mod_spec)\n    File \"/usr/lib/python3.7/runpy.py\", line 85, in _run_code\n      exec(code, run_globals)\n    File \"/usr/local/lib/python3.7/dist-packages/ipykernel_launcher.py\", line 16, in <module>\n      app.launch_new_instance()\n    File \"/usr/local/lib/python3.7/dist-packages/traitlets/config/application.py\", line 846, in launch_instance\n      app.start()\n    File \"/usr/local/lib/python3.7/dist-packages/ipykernel/kernelapp.py\", line 499, in start\n      self.io_loop.start()\n    File \"/usr/local/lib/python3.7/dist-packages/tornado/platform/asyncio.py\", line 132, in start\n      self.asyncio_loop.run_forever()\n    File \"/usr/lib/python3.7/asyncio/base_events.py\", line 541, in run_forever\n      self._run_once()\n    File \"/usr/lib/python3.7/asyncio/base_events.py\", line 1786, in _run_once\n      handle._run()\n    File \"/usr/lib/python3.7/asyncio/events.py\", line 88, in _run\n      self._context.run(self._callback, *self._args)\n    File \"/usr/local/lib/python3.7/dist-packages/tornado/platform/asyncio.py\", line 122, in _handle_events\n      handler_func(fileobj, events)\n    File \"/usr/local/lib/python3.7/dist-packages/tornado/stack_context.py\", line 300, in null_wrapper\n      return fn(*args, **kwargs)\n    File \"/usr/local/lib/python3.7/dist-packages/zmq/eventloop/zmqstream.py\", line 452, in _handle_events\n      self._handle_recv()\n    File \"/usr/local/lib/python3.7/dist-packages/zmq/eventloop/zmqstream.py\", line 481, in _handle_recv\n      self._run_callback(callback, msg)\n    File \"/usr/local/lib/python3.7/dist-packages/zmq/eventloop/zmqstream.py\", line 431, in _run_callback\n      callback(*args, **kwargs)\n    File \"/usr/local/lib/python3.7/dist-packages/tornado/stack_context.py\", line 300, in null_wrapper\n      return fn(*args, **kwargs)\n    File \"/usr/local/lib/python3.7/dist-packages/ipykernel/kernelbase.py\", line 283, in dispatcher\n      return self.dispatch_shell(stream, msg)\n    File \"/usr/local/lib/python3.7/dist-packages/ipykernel/kernelbase.py\", line 233, in dispatch_shell\n      handler(stream, idents, msg)\n    File \"/usr/local/lib/python3.7/dist-packages/ipykernel/kernelbase.py\", line 399, in execute_request\n      user_expressions, allow_stdin)\n    File \"/usr/local/lib/python3.7/dist-packages/ipykernel/ipkernel.py\", line 208, in do_execute\n      res = shell.run_cell(code, store_history=store_history, silent=silent)\n    File \"/usr/local/lib/python3.7/dist-packages/ipykernel/zmqshell.py\", line 537, in run_cell\n      return super(ZMQInteractiveShell, self).run_cell(*args, **kwargs)\n    File \"/usr/local/lib/python3.7/dist-packages/IPython/core/interactiveshell.py\", line 2718, in run_cell\n      interactivity=interactivity, compiler=compiler, result=result)\n    File \"/usr/local/lib/python3.7/dist-packages/IPython/core/interactiveshell.py\", line 2822, in run_ast_nodes\n      if self.run_code(code, result):\n    File \"/usr/local/lib/python3.7/dist-packages/IPython/core/interactiveshell.py\", line 2882, in run_code\n      exec(code_obj, self.user_global_ns, self.user_ns)\n    File \"<ipython-input-26-79652513d544>\", line 15, in <module>\n      pred = model.predict(i4[np.newaxis, :, :])\n    File \"/usr/local/lib/python3.7/dist-packages/keras/utils/traceback_utils.py\", line 64, in error_handler\n      return fn(*args, **kwargs)\n    File \"/usr/local/lib/python3.7/dist-packages/keras/engine/training.py\", line 1982, in predict\n      tmp_batch_outputs = self.predict_function(iterator)\n    File \"/usr/local/lib/python3.7/dist-packages/keras/engine/training.py\", line 1801, in predict_function\n      return step_function(self, iterator)\n    File \"/usr/local/lib/python3.7/dist-packages/keras/engine/training.py\", line 1790, in step_function\n      outputs = model.distribute_strategy.run(run_step, args=(data,))\n    File \"/usr/local/lib/python3.7/dist-packages/keras/engine/training.py\", line 1783, in run_step\n      outputs = model.predict_step(data)\n    File \"/usr/local/lib/python3.7/dist-packages/keras/engine/training.py\", line 1751, in predict_step\n      return self(x, training=False)\n    File \"/usr/local/lib/python3.7/dist-packages/keras/utils/traceback_utils.py\", line 64, in error_handler\n      return fn(*args, **kwargs)\n    File \"/usr/local/lib/python3.7/dist-packages/keras/engine/base_layer.py\", line 1096, in __call__\n      outputs = call_fn(inputs, *args, **kwargs)\n    File \"/usr/local/lib/python3.7/dist-packages/keras/utils/traceback_utils.py\", line 92, in error_handler\n      return fn(*args, **kwargs)\n    File \"/usr/local/lib/python3.7/dist-packages/keras/engine/sequential.py\", line 374, in call\n      return super(Sequential, self).call(inputs, training=training, mask=mask)\n    File \"/usr/local/lib/python3.7/dist-packages/keras/engine/functional.py\", line 452, in call\n      inputs, training=training, mask=mask)\n    File \"/usr/local/lib/python3.7/dist-packages/keras/engine/functional.py\", line 589, in _run_internal_graph\n      outputs = node.layer(*args, **kwargs)\n    File \"/usr/local/lib/python3.7/dist-packages/keras/utils/traceback_utils.py\", line 64, in error_handler\n      return fn(*args, **kwargs)\n    File \"/usr/local/lib/python3.7/dist-packages/keras/engine/base_layer.py\", line 1096, in __call__\n      outputs = call_fn(inputs, *args, **kwargs)\n    File \"/usr/local/lib/python3.7/dist-packages/keras/utils/traceback_utils.py\", line 92, in error_handler\n      return fn(*args, **kwargs)\n    File \"/usr/local/lib/python3.7/dist-packages/keras/layers/core/dense.py\", line 233, in call\n      outputs = self.activation(outputs)\n    File \"/usr/local/lib/python3.7/dist-packages/keras/activations.py\", line 311, in relu\n      return backend.relu(x, alpha=alpha, max_value=max_value, threshold=threshold)\n    File \"/usr/local/lib/python3.7/dist-packages/keras/backend.py\", line 4956, in relu\n      x = tf.nn.relu(x)\nNode: 'sequential_1/dense_2/Relu'\nMatrix size-incompatible: In[0]: [1,2352], In[1]: [784,256]\n\t [[{{node sequential_1/dense_2/Relu}}]] [Op:__inference_predict_function_77704]"
          ]
        }
      ]
    },
    {
      "cell_type": "markdown",
      "source": [
        "이미지 인식은 제대로 시켰으나 오류의 원인을 찾지 못하였다..."
      ],
      "metadata": {
        "id": "CNJP__cUntvb"
      }
    },
    {
      "cell_type": "markdown",
      "source": [
        "<br><br>\n",
        "\n",
        "---\n",
        "\n",
        "<br><br>\n",
        "\n",
        "##11. 붓꽃 데이터의 분류\n",
        "\n",
        "<br><br>\n",
        "\n",
        "필요한 모듈을 가져오고 붓꽃 데이터를 읽어온다."
      ],
      "metadata": {
        "id": "paOxruRMnzhc"
      }
    },
    {
      "cell_type": "code",
      "source": [
        "import numpy as np\n",
        "import tensorflow as tf\n",
        "from sklearn.datasets import load_iris\n",
        "\n",
        "iris_dataset = load_iris()"
      ],
      "metadata": {
        "id": "J9kBQNLwoD0i"
      },
      "execution_count": null,
      "outputs": []
    },
    {
      "cell_type": "markdown",
      "source": [
        "<br>\n",
        "\n",
        "150개의 데이터를 모두 학습에 사용하면 모델이 학습 데이터에만 최적화 될 수 있으므로 80%의 데이터만 학습에 사용하고 20%를 테스트용 데이터로 사용한다."
      ],
      "metadata": {
        "id": "fmLETMfQoN-q"
      }
    },
    {
      "cell_type": "code",
      "source": [
        "from sklearn.model_selection import train_test_split\n",
        "\n",
        "x_train, x_test, y_train, y_test = train_test_split(\n",
        "iris_dataset['data'], iris_dataset['target'], random_state=0, test_size=0.20)\n",
        "# 학습 데이터와 테스트 데이터의 형태와 개별 훈련 데이터의 형태를 살펴보자.\n",
        "print('훈련용 데이터의 형태:', x_train.shape)\n",
        "print('훈련용 데이터의 레이블 형태:',y_train.shape)\n",
        "print('테스트용 데이터의 형태:', x_test.shape)\n",
        "print('테스트용 데이터의 레이블 형태:',y_test.shape)\n",
        "print('개별 훈련 데이터의 형태:', x_train[0].shape)"
      ],
      "metadata": {
        "colab": {
          "base_uri": "https://localhost:8080/"
        },
        "id": "uRr345hDpylR",
        "outputId": "5bd863a1-42a0-4b07-a739-e8351d540619"
      },
      "execution_count": null,
      "outputs": [
        {
          "output_type": "stream",
          "name": "stdout",
          "text": [
            "훈련용 데이터의 형태: (120, 4)\n",
            "훈련용 데이터의 레이블 형태: (120,)\n",
            "테스트용 데이터의 형태: (30, 4)\n",
            "테스트용 데이터의 레이블 형태: (30,)\n",
            "개별 훈련 데이터의 형태: (4,)\n"
          ]
        }
      ]
    },
    {
      "cell_type": "markdown",
      "source": [
        "<br>\n",
        "\n",
        "다음으로 순차 모델을 생성하는 작업을 한다.<br>\n",
        "\n",
        "model.fit() 메소드의 verbose는 학습의 진행 정도를 표시하는 모드이다."
      ],
      "metadata": {
        "id": "gV5iI4OdqDdb"
      }
    },
    {
      "cell_type": "code",
      "source": [
        "from tensorflow import keras\n",
        "\n",
        "# 순차 모델을 생성하자\n",
        "model = keras.models.Sequential( [\n",
        "    keras.layers.Flatten(input_shape = (4,)),\n",
        "    keras.layers.Dense(60, activation= 'relu'),\n",
        "    keras.layers.Dense(3, activation= 'softmax'),\n",
        "])\n",
        "\n",
        "# 모델 컴파일\n",
        "model.compile(optimizer='adam',\\\n",
        "              loss='sparse_categorical_crossentropy',\\\n",
        "              metrics=['accuracy'])\n",
        "model.fit(x_train, y_train, epochs=30, batch_size=5, verbose=2)"
      ],
      "metadata": {
        "colab": {
          "base_uri": "https://localhost:8080/"
        },
        "id": "6enSm-sKqPEE",
        "outputId": "052e0786-2eeb-4931-e60c-aa92651e6436"
      },
      "execution_count": null,
      "outputs": [
        {
          "output_type": "stream",
          "name": "stdout",
          "text": [
            "Epoch 1/30\n",
            "24/24 - 1s - loss: 0.8507 - accuracy: 0.5833 - 732ms/epoch - 30ms/step\n",
            "Epoch 2/30\n",
            "24/24 - 0s - loss: 0.6997 - accuracy: 0.6917 - 103ms/epoch - 4ms/step\n",
            "Epoch 3/30\n",
            "24/24 - 0s - loss: 0.6256 - accuracy: 0.6917 - 95ms/epoch - 4ms/step\n",
            "Epoch 4/30\n",
            "24/24 - 0s - loss: 0.5605 - accuracy: 0.7000 - 67ms/epoch - 3ms/step\n",
            "Epoch 5/30\n",
            "24/24 - 0s - loss: 0.5368 - accuracy: 0.8000 - 82ms/epoch - 3ms/step\n",
            "Epoch 6/30\n",
            "24/24 - 0s - loss: 0.4848 - accuracy: 0.7250 - 67ms/epoch - 3ms/step\n",
            "Epoch 7/30\n",
            "24/24 - 0s - loss: 0.4575 - accuracy: 0.8833 - 78ms/epoch - 3ms/step\n",
            "Epoch 8/30\n",
            "24/24 - 0s - loss: 0.4372 - accuracy: 0.7667 - 80ms/epoch - 3ms/step\n",
            "Epoch 9/30\n",
            "24/24 - 0s - loss: 0.4125 - accuracy: 0.8500 - 64ms/epoch - 3ms/step\n",
            "Epoch 10/30\n",
            "24/24 - 0s - loss: 0.3888 - accuracy: 0.9083 - 64ms/epoch - 3ms/step\n",
            "Epoch 11/30\n",
            "24/24 - 0s - loss: 0.3664 - accuracy: 0.9250 - 74ms/epoch - 3ms/step\n",
            "Epoch 12/30\n",
            "24/24 - 0s - loss: 0.3675 - accuracy: 0.9083 - 78ms/epoch - 3ms/step\n",
            "Epoch 13/30\n",
            "24/24 - 0s - loss: 0.3371 - accuracy: 0.9583 - 78ms/epoch - 3ms/step\n",
            "Epoch 14/30\n",
            "24/24 - 0s - loss: 0.3208 - accuracy: 0.9417 - 66ms/epoch - 3ms/step\n",
            "Epoch 15/30\n",
            "24/24 - 0s - loss: 0.3209 - accuracy: 0.9417 - 67ms/epoch - 3ms/step\n",
            "Epoch 16/30\n",
            "24/24 - 0s - loss: 0.2960 - accuracy: 0.9333 - 73ms/epoch - 3ms/step\n",
            "Epoch 17/30\n",
            "24/24 - 0s - loss: 0.2926 - accuracy: 0.9417 - 64ms/epoch - 3ms/step\n",
            "Epoch 18/30\n",
            "24/24 - 0s - loss: 0.2764 - accuracy: 0.9500 - 84ms/epoch - 3ms/step\n",
            "Epoch 19/30\n",
            "24/24 - 0s - loss: 0.2670 - accuracy: 0.9667 - 119ms/epoch - 5ms/step\n",
            "Epoch 20/30\n",
            "24/24 - 0s - loss: 0.2519 - accuracy: 0.9417 - 150ms/epoch - 6ms/step\n",
            "Epoch 21/30\n",
            "24/24 - 0s - loss: 0.2440 - accuracy: 0.9583 - 159ms/epoch - 7ms/step\n",
            "Epoch 22/30\n",
            "24/24 - 0s - loss: 0.2313 - accuracy: 0.9583 - 132ms/epoch - 5ms/step\n",
            "Epoch 23/30\n",
            "24/24 - 0s - loss: 0.2278 - accuracy: 0.9667 - 140ms/epoch - 6ms/step\n",
            "Epoch 24/30\n",
            "24/24 - 0s - loss: 0.2199 - accuracy: 0.9583 - 47ms/epoch - 2ms/step\n",
            "Epoch 25/30\n",
            "24/24 - 0s - loss: 0.2153 - accuracy: 0.9833 - 53ms/epoch - 2ms/step\n",
            "Epoch 26/30\n",
            "24/24 - 0s - loss: 0.2050 - accuracy: 0.9667 - 50ms/epoch - 2ms/step\n",
            "Epoch 27/30\n",
            "24/24 - 0s - loss: 0.1966 - accuracy: 0.9583 - 59ms/epoch - 2ms/step\n",
            "Epoch 28/30\n",
            "24/24 - 0s - loss: 0.1905 - accuracy: 0.9750 - 69ms/epoch - 3ms/step\n",
            "Epoch 29/30\n",
            "24/24 - 0s - loss: 0.1861 - accuracy: 0.9583 - 59ms/epoch - 2ms/step\n",
            "Epoch 30/30\n",
            "24/24 - 0s - loss: 0.1844 - accuracy: 0.9583 - 50ms/epoch - 2ms/step\n"
          ]
        },
        {
          "output_type": "execute_result",
          "data": {
            "text/plain": [
              "<keras.callbacks.History at 0x7fd2615b3190>"
            ]
          },
          "metadata": {},
          "execution_count": 37
        }
      ]
    },
    {
      "cell_type": "markdown",
      "source": [
        "순차 신경망의 학습이 종료되면 훈련 데이터에 대해 95% 정도의 분류 정확도를 가지는 것을 알 수 있다. 마지막으로 이 모델이 테스트 데이터를 잘 분류하는지 확인한다."
      ],
      "metadata": {
        "id": "Y1eh5Eletxy-"
      }
    },
    {
      "cell_type": "code",
      "source": [
        "print('신경망 모델의 학습 결과 :')\n",
        "eval_loss, eval_acc = model.evaluate(x_test, y_test)\n",
        "print('붓꽃 데이터의 분류 정확도 :', eval_acc)"
      ],
      "metadata": {
        "colab": {
          "base_uri": "https://localhost:8080/"
        },
        "id": "49GWbHIAt7n0",
        "outputId": "203ae3d4-4da3-49bc-9dd2-5c149c865536"
      },
      "execution_count": null,
      "outputs": [
        {
          "output_type": "stream",
          "name": "stdout",
          "text": [
            "신경망 모델의 학습 결과 :\n",
            "1/1 [==============================] - 0s 20ms/step - loss: 0.1502 - accuracy: 1.0000\n",
            "붓꽃 데이터의 분류 정확도 : 1.0\n"
          ]
        }
      ]
    },
    {
      "cell_type": "markdown",
      "source": [
        "<br><br>\n",
        "\n",
        "---\n",
        "\n",
        "<br><br>\n",
        "\n",
        "##12. 분류 정확도를 높이기 위한 층을 추가한다\n",
        "\n",
        "<br><br>\n",
        "\n",
        "분류 정확도를 높이기 위한 층을 추가한다. 그리고 학습의 과정에서 손실값과 정확도가 어떻게 변하는지 관찰하기 위해 model.fit() 함수의 반환값을 hist 변수에 저장한다."
      ],
      "metadata": {
        "id": "dWzhJ61DuDxh"
      }
    },
    {
      "cell_type": "code",
      "source": [
        "model = keras.models.Sequential( [\n",
        "    keras.layers.Flatten(input_shape = (4,)),\n",
        "    keras.layers.Dense(60, activation= 'relu'),\n",
        "    keras.layers.Dense(30, activation= 'relu'), # 새롭게 추가한 층\n",
        "    keras.layers.Dense(3, activation= 'softmax'),\n",
        "])\n",
        "\n",
        "model.compile(optimizer='adam',\\\n",
        "              loss='sparse_categorical_crossentropy',\\\n",
        "              metrics=['accuracy'])\n",
        "hist = model.fit(x_train, y_train, epochs=30, batch_size=5, verbose=0)\n",
        "print('신경망 모델의 학습 결과 :')\n",
        "eval_loss, eval_acc = model.evaluate(x_test, y_test)\n",
        "print('붓꽃 데이터의 분류 정확도 :', eval_acc)"
      ],
      "metadata": {
        "colab": {
          "base_uri": "https://localhost:8080/"
        },
        "id": "L5HHHbLFuUl1",
        "outputId": "b6a9a2a9-446f-4bb3-e0fa-f32691ad166a"
      },
      "execution_count": null,
      "outputs": [
        {
          "output_type": "stream",
          "name": "stdout",
          "text": [
            "신경망 모델의 학습 결과 :\n",
            "1/1 [==============================] - 0s 213ms/step - loss: 0.0605 - accuracy: 1.0000\n",
            "붓꽃 데이터의 분류 정확도 : 1.0\n"
          ]
        }
      ]
    },
    {
      "cell_type": "markdown",
      "source": [
        "층을 깊게 만든 모델이 더 나은 성능을 보이는 것을 확인할 수 있다.\n",
        "\n",
        "<br>\n",
        "\n",
        "그리고 hist 변수를 다음과 같이 화면에 출력해보자. 가로축은 에폭으로, 30회의 에폭을 나타내며, 세로축은 손실값이다."
      ],
      "metadata": {
        "id": "o_Ns1HguuVZw"
      }
    },
    {
      "cell_type": "code",
      "source": [
        "import matplotlib.pyplot as plt\n",
        "\n",
        "plt.plot(hist.history['loss'], 'b-', label='loss value')\n",
        "plt.legend()"
      ],
      "metadata": {
        "colab": {
          "base_uri": "https://localhost:8080/",
          "height": 283
        },
        "id": "PGAqhvnMulTN",
        "outputId": "aa3dd26d-13bd-4889-f7a8-a560c5f476fc"
      },
      "execution_count": null,
      "outputs": [
        {
          "output_type": "execute_result",
          "data": {
            "text/plain": [
              "<matplotlib.legend.Legend at 0x7fd261390d10>"
            ]
          },
          "metadata": {},
          "execution_count": 44
        },
        {
          "output_type": "display_data",
          "data": {
            "text/plain": [
              "<Figure size 432x288 with 1 Axes>"
            ],
            "image/png": "[encoded data removed]"
          },
          "metadata": {
            "needs_background": "light"
          }
        }
      ]
    },
    {
      "cell_type": "markdown",
      "source": [
        "에폭이 5회 진행될 즈음부터 손실값이 급격히 떨어지는 것을 볼 수 있으며 15회의 에폭이 진행된 이후에는 손실값의 감소가 크지 않다는 것을 알 수 있다.\n",
        "\n",
        "<br>\n",
        "\n",
        "다음으로는 정확도를 그래프로 출력해보자. 에폭이 진행됨에 따라 정확도 값이 증가하여 15회 이후의 에폭에서는 거의 1.0에 가까운 값을 가지는 것을 알 수 있다."
      ],
      "metadata": {
        "id": "4xsQZO1XunGq"
      }
    },
    {
      "cell_type": "code",
      "source": [
        "plt.plot(hist.history['accuracy'], 'r-', label='accuracy')\n",
        "plt.legend()"
      ],
      "metadata": {
        "colab": {
          "base_uri": "https://localhost:8080/",
          "height": 287
        },
        "id": "6D18bt02u-PY",
        "outputId": "df9d6f8e-1cc7-412e-ded0-12b92d15242a"
      },
      "execution_count": null,
      "outputs": [
        {
          "output_type": "execute_result",
          "data": {
            "text/plain": [
              "<matplotlib.legend.Legend at 0x7fd261302bd0>"
            ]
          },
          "metadata": {},
          "execution_count": 45
        },
        {
          "output_type": "display_data",
          "data": {
            "text/plain": [
              "<Figure size 432x288 with 1 Axes>"
            ],
            "image/png": "[encoded data removed]"
          },
          "metadata": {
            "needs_background": "light"
          }
        }
      ]
    },
    {
      "cell_type": "markdown",
      "source": [
        "<br><br>\n",
        "\n",
        "---\n",
        "\n",
        "<br><br>\n",
        "\n",
        "##13. 학습한 모델을 저장하고 불러오자\n",
        "\n",
        "<br><br>\n",
        "\n",
        "save() 메소드를 사용하여 학습을 마친 무델을 저장할 수 있다."
      ],
      "metadata": {
        "id": "u_bsGoiEu_Zn"
      }
    },
    {
      "cell_type": "code",
      "source": [
        "model.save('./iris_60x30_model.h5')"
      ],
      "metadata": {
        "id": "Rg4fadvyvHji"
      },
      "execution_count": null,
      "outputs": []
    },
    {
      "cell_type": "markdown",
      "source": [
        "모델의 크기와 정보를 !ls -l 명령으로 살펴본다."
      ],
      "metadata": {
        "id": "OQjWm0hlvJWW"
      }
    },
    {
      "cell_type": "code",
      "source": [
        "!ls -l"
      ],
      "metadata": {
        "colab": {
          "base_uri": "https://localhost:8080/"
        },
        "id": "xudyI7_HvOVH",
        "outputId": "2fe63532-3d64-42c7-f1f0-96b70c1b88ad"
      },
      "execution_count": null,
      "outputs": [
        {
          "output_type": "stream",
          "name": "stdout",
          "text": [
            "total 164\n",
            "-rw-r--r-- 1 root root 60704 May  5 15:00 iris_60x30_model.h5\n",
            "-rw-r--r-- 1 root root 60430 May  5 13:46 myNumber.png\n",
            "-rw-r--r-- 1 root root  7313 May  5 14:22 n4.png\n",
            "-rw-r--r-- 1 root root  6052 May  5 14:22 n5.png\n",
            "-rw-r--r-- 1 root root  6982 May  5 14:22 n6.png\n",
            "-rw-r--r-- 1 root root  3372 May  5 14:02 num4.png\n",
            "-rw-r--r-- 1 root root  3069 May  5 14:02 num5.png\n",
            "-rw-r--r-- 1 root root  4469 May  5 14:02 num6.png\n",
            "drwxr-xr-x 1 root root  4096 May  3 13:42 sample_data\n"
          ]
        }
      ]
    },
    {
      "cell_type": "markdown",
      "source": [
        "h5 파일은 HDF로 저장된 데이터 파일을 말하는데, 과학 데이터의 다차원 배열을 포함하는 파일 형식이다.\n",
        "\n",
        "<br>\n",
        "\n",
        "구글 드라이브를 마운트하면 구글 드라이브에도 저장할 수 있다.<br>\n",
        "\n",
        "저장된 모델을 불러와서 사용하는 방법은 keras.models 모듈의 load_model() 함수를 사용하면 된다."
      ],
      "metadata": {
        "id": "l8AJSgCQvRxS"
      }
    },
    {
      "cell_type": "code",
      "source": [
        "loaded =keras.models.load_model('/content/iris_60x30_model.h5')\n",
        "loaded.summary()"
      ],
      "metadata": {
        "colab": {
          "base_uri": "https://localhost:8080/"
        },
        "id": "Ko-yAe1nvnuu",
        "outputId": "5b55293a-bbc0-42e4-e5c7-bbe7cff1cdfd"
      },
      "execution_count": null,
      "outputs": [
        {
          "output_type": "stream",
          "name": "stdout",
          "text": [
            "Model: \"sequential_3\"\n",
            "_________________________________________________________________\n",
            " Layer (type)                Output Shape              Param #   \n",
            "=================================================================\n",
            " flatten_3 (Flatten)         (None, 4)                 0         \n",
            "                                                                 \n",
            " dense_8 (Dense)             (None, 60)                300       \n",
            "                                                                 \n",
            " dense_9 (Dense)             (None, 30)                1830      \n",
            "                                                                 \n",
            " dense_10 (Dense)            (None, 3)                 93        \n",
            "                                                                 \n",
            "=================================================================\n",
            "Total params: 2,223\n",
            "Trainable params: 2,223\n",
            "Non-trainable params: 0\n",
            "_________________________________________________________________\n"
          ]
        }
      ]
    },
    {
      "cell_type": "markdown",
      "source": [
        "<br><br>\n",
        "\n",
        "---\n",
        "\n",
        "<br><br>\n",
        "\n",
        "## 14. 수치값을 예측하는 딥러닝 모델\n",
        "\n",
        "<br><br>\n",
        "\n",
        "선형 회귀 함수를 찾는 문제를 위한 신경망을 구축해보자."
      ],
      "metadata": {
        "id": "sPBeFAVrvuBs"
      }
    },
    {
      "cell_type": "code",
      "source": [
        "import numpy as np\n",
        "import tensorflow as tf\n",
        "from tensorflow import keras\n",
        "\n",
        "x_train = np.array([[0], [1], [2]])\n",
        "y_train = 3 * x_train + 1  # y = 3x + 1 꼴의 함수\n",
        "\n",
        "x_test = np.array([[3], [4], [5]])\n",
        "y_test = 3 * x_test + 1  # y = 3x + 1 꼴의 함수\n",
        "\n",
        "print('x_train :', x_train.flatten(),' y_train :', y_train.flatten())\n",
        "print('x_test :', x_test.flatten(),' y_test :', y_test.flatten())"
      ],
      "metadata": {
        "colab": {
          "base_uri": "https://localhost:8080/"
        },
        "id": "dVNtUfdCv2up",
        "outputId": "7326b64b-f3c0-4984-96ac-883132ec7748"
      },
      "execution_count": null,
      "outputs": [
        {
          "output_type": "stream",
          "name": "stdout",
          "text": [
            "x_train : [0 1 2]  y_train : [1 4 7]\n",
            "x_test : [3 4 5]  y_test : [10 13 16]\n"
          ]
        }
      ]
    },
    {
      "cell_type": "markdown",
      "source": [
        "이제 다음고 같은 순차 신경망을 만들자. model.add() 함수를 사용하여 4개의 노드를 가진 밀집층과 하나의 출력값을 내보내는 출력층을 갖고있다."
      ],
      "metadata": {
        "id": "240LDpCgv6P3"
      }
    },
    {
      "cell_type": "code",
      "source": [
        "model = keras.models.Sequential()\n",
        "model.add(keras.layers.Dense(4, input_shape=(1, )))\n",
        "model.add(keras.layers.Dense(1))\n",
        "\n",
        "model.summary()"
      ],
      "metadata": {
        "colab": {
          "base_uri": "https://localhost:8080/"
        },
        "id": "dfIyCm7lwBOy",
        "outputId": "cdc6e40b-6aa6-4863-e8ae-76f303bf7a3e"
      },
      "execution_count": null,
      "outputs": [
        {
          "output_type": "stream",
          "name": "stdout",
          "text": [
            "Model: \"sequential_4\"\n",
            "_________________________________________________________________\n",
            " Layer (type)                Output Shape              Param #   \n",
            "=================================================================\n",
            " dense_11 (Dense)            (None, 4)                 8         \n",
            "                                                                 \n",
            " dense_12 (Dense)            (None, 1)                 5         \n",
            "                                                                 \n",
            "=================================================================\n",
            "Total params: 13\n",
            "Trainable params: 13\n",
            "Non-trainable params: 0\n",
            "_________________________________________________________________\n"
          ]
        }
      ]
    },
    {
      "cell_type": "markdown",
      "source": [
        "13개의 훈련 파라미터가 있는 단순한 모델임을 알 수 있다. 다음과 같이 하이퍼파라미터를 설정하고 학습을 시켜보자."
      ],
      "metadata": {
        "id": "Q_r37MdXwEr2"
      }
    },
    {
      "cell_type": "code",
      "source": [
        "#model.compile('SGD', 'mse')\n",
        "model.compile(loss='mean_squared_error',\n",
        "              optimizer='sgd',\n",
        "              metrics=['accuracy'])\n",
        "model.fit(x_train, y_train, epochs=30, batch_size=2)"
      ],
      "metadata": {
        "colab": {
          "base_uri": "https://localhost:8080/"
        },
        "id": "tNr-WjlSwLfV",
        "outputId": "f869630b-7404-4b04-9a6f-bdf8f0f23f58"
      },
      "execution_count": null,
      "outputs": [
        {
          "output_type": "stream",
          "name": "stdout",
          "text": [
            "Epoch 1/30\n",
            "2/2 [==============================] - 1s 10ms/step - loss: 24.8220 - accuracy: 0.0000e+00\n",
            "Epoch 2/30\n",
            "2/2 [==============================] - 0s 16ms/step - loss: 16.9626 - accuracy: 0.0000e+00\n",
            "Epoch 3/30\n",
            "2/2 [==============================] - 0s 12ms/step - loss: 10.9379 - accuracy: 0.0000e+00\n",
            "Epoch 4/30\n",
            "2/2 [==============================] - 0s 10ms/step - loss: 4.6941 - accuracy: 0.3333\n",
            "Epoch 5/30\n",
            "2/2 [==============================] - 0s 10ms/step - loss: 1.4405 - accuracy: 0.3333\n",
            "Epoch 6/30\n",
            "2/2 [==============================] - 0s 10ms/step - loss: 0.6215 - accuracy: 0.3333\n",
            "Epoch 7/30\n",
            "2/2 [==============================] - 0s 11ms/step - loss: 0.3141 - accuracy: 0.3333\n",
            "Epoch 8/30\n",
            "2/2 [==============================] - 0s 12ms/step - loss: 0.1618 - accuracy: 0.3333\n",
            "Epoch 9/30\n",
            "2/2 [==============================] - 0s 20ms/step - loss: 0.1096 - accuracy: 0.3333\n",
            "Epoch 10/30\n",
            "2/2 [==============================] - 0s 15ms/step - loss: 0.0718 - accuracy: 0.3333\n",
            "Epoch 11/30\n",
            "2/2 [==============================] - 0s 13ms/step - loss: 0.0623 - accuracy: 0.3333\n",
            "Epoch 12/30\n",
            "2/2 [==============================] - 0s 12ms/step - loss: 0.0543 - accuracy: 0.3333\n",
            "Epoch 13/30\n",
            "2/2 [==============================] - 0s 12ms/step - loss: 0.0509 - accuracy: 0.3333\n",
            "Epoch 14/30\n",
            "2/2 [==============================] - 0s 14ms/step - loss: 0.0455 - accuracy: 0.3333\n",
            "Epoch 15/30\n",
            "2/2 [==============================] - 0s 10ms/step - loss: 0.0406 - accuracy: 0.3333\n",
            "Epoch 16/30\n",
            "2/2 [==============================] - 0s 14ms/step - loss: 0.0360 - accuracy: 0.3333\n",
            "Epoch 17/30\n",
            "2/2 [==============================] - 0s 9ms/step - loss: 0.0316 - accuracy: 0.3333\n",
            "Epoch 18/30\n",
            "2/2 [==============================] - 0s 10ms/step - loss: 0.0293 - accuracy: 0.3333\n",
            "Epoch 19/30\n",
            "2/2 [==============================] - 0s 8ms/step - loss: 0.0288 - accuracy: 0.3333\n",
            "Epoch 20/30\n",
            "2/2 [==============================] - 0s 8ms/step - loss: 0.0258 - accuracy: 0.3333\n",
            "Epoch 21/30\n",
            "2/2 [==============================] - 0s 9ms/step - loss: 0.0244 - accuracy: 0.3333\n",
            "Epoch 22/30\n",
            "2/2 [==============================] - 0s 3ms/step - loss: 0.0216 - accuracy: 0.3333\n",
            "Epoch 23/30\n",
            "2/2 [==============================] - 0s 5ms/step - loss: 0.0202 - accuracy: 0.3333\n",
            "Epoch 24/30\n",
            "2/2 [==============================] - 0s 9ms/step - loss: 0.0179 - accuracy: 0.3333\n",
            "Epoch 25/30\n",
            "2/2 [==============================] - 0s 7ms/step - loss: 0.0153 - accuracy: 0.3333\n",
            "Epoch 26/30\n",
            "2/2 [==============================] - 0s 8ms/step - loss: 0.0135 - accuracy: 0.3333\n",
            "Epoch 27/30\n",
            "2/2 [==============================] - 0s 5ms/step - loss: 0.0127 - accuracy: 0.3333\n",
            "Epoch 28/30\n",
            "2/2 [==============================] - 0s 6ms/step - loss: 0.0112 - accuracy: 0.3333\n",
            "Epoch 29/30\n",
            "2/2 [==============================] - 0s 7ms/step - loss: 0.0104 - accuracy: 0.3333\n",
            "Epoch 30/30\n",
            "2/2 [==============================] - 0s 5ms/step - loss: 0.0097 - accuracy: 0.3333\n"
          ]
        },
        {
          "output_type": "execute_result",
          "data": {
            "text/plain": [
              "<keras.callbacks.History at 0x7fd260f205d0>"
            ]
          },
          "metadata": {},
          "execution_count": 52
        }
      ]
    },
    {
      "cell_type": "markdown",
      "source": [
        "사용된 하이퍼파라미터를 살펴보면, 손실함수 loss는 평균 제곱 오차함수를 사용하며, 최적화를 위한 방법으로 확률적 경사 하강법을 사용하고 있다. 이는 신경망 학습 시에 전체 데이터를 이용하여 학습하는 경사 하강법과는 다르게 임의적으로 추출한 일부 데이터를 사용해서 가중치를 조절하는 경사 하강법의 변형된 방법이다. 이를 사용하는 이유는 가중치 조절의 속도 개선을 위해서이다."
      ],
      "metadata": {
        "id": "yaZQJcK5wSfj"
      }
    },
    {
      "cell_type": "code",
      "source": [
        "pred = model.predict(x_test)\n",
        "print('x_test :', x_test.flatten(),' 예측 :', pred.flatten())"
      ],
      "metadata": {
        "colab": {
          "base_uri": "https://localhost:8080/"
        },
        "id": "EulVYjMawlGa",
        "outputId": "69792d84-9070-4e20-e400-218cf0cac049"
      },
      "execution_count": null,
      "outputs": [
        {
          "output_type": "stream",
          "name": "stdout",
          "text": [
            "x_test : [3 4 5]  예측 : [ 9.819075 12.713411 15.607749]\n"
          ]
        }
      ]
    },
    {
      "cell_type": "markdown",
      "source": [
        "10, 13, 16에 가까운 값으로, 선형 함수를 잘 흉내내는 것을 볼 수 있다."
      ],
      "metadata": {
        "id": "bXRvAR2TwnSH"
      }
    },
    {
      "cell_type": "markdown",
      "source": [
        "<br><br>\n",
        "\n",
        "---\n",
        "\n",
        "<br><br>\n",
        "\n",
        "#심화문제\n",
        "\n",
        "<br><br>\n",
        "\n",
        "## 1. 심층 신경망 모델의 하이퍼파라미터 중에서 최적화 알고리즘을 다음과 같이 바꾸고 난 후, 테스트 데이터에 대한 정확도를 각각 출력해보아라.\n",
        "\n",
        "<br>\n",
        "\n",
        "###1-1. RMSprop"
      ],
      "metadata": {
        "id": "NU69avHSx9eN"
      }
    },
    {
      "cell_type": "code",
      "source": [
        "model.compile(optimizer='RMSprop', loss='sparse_categorical_crossentropy', metrics=['accuracy'])\n",
        "model.fit(train_images, train_labels, epochs=10, verbose=1)\n",
        "\n",
        "test_loss, test_acc = model.evaluate(test_images, test_labels, verbose=20)\n",
        "print(test_acc)"
      ],
      "metadata": {
        "colab": {
          "base_uri": "https://localhost:8080/"
        },
        "id": "hugduiB1yUZG",
        "outputId": "5bb19736-04ad-47e4-d9e5-84f65cac21bf"
      },
      "execution_count": null,
      "outputs": [
        {
          "output_type": "stream",
          "name": "stdout",
          "text": [
            "Epoch 1/10\n",
            "1875/1875 [==============================] - 9s 5ms/step - loss: 0.2259 - accuracy: 0.9343\n",
            "Epoch 2/10\n",
            "1875/1875 [==============================] - 14s 7ms/step - loss: 0.1003 - accuracy: 0.9705\n",
            "Epoch 3/10\n",
            "1875/1875 [==============================] - 9s 5ms/step - loss: 0.0725 - accuracy: 0.9791\n",
            "Epoch 4/10\n",
            "1875/1875 [==============================] - 12s 7ms/step - loss: 0.0586 - accuracy: 0.9836\n",
            "Epoch 5/10\n",
            "1875/1875 [==============================] - 9s 5ms/step - loss: 0.0477 - accuracy: 0.9870\n",
            "Epoch 6/10\n",
            "1875/1875 [==============================] - 13s 7ms/step - loss: 0.0422 - accuracy: 0.9883\n",
            "Epoch 7/10\n",
            "1875/1875 [==============================] - 11s 6ms/step - loss: 0.0353 - accuracy: 0.9903\n",
            "Epoch 8/10\n",
            "1875/1875 [==============================] - 9s 5ms/step - loss: 0.0283 - accuracy: 0.9925\n",
            "Epoch 9/10\n",
            "1875/1875 [==============================] - 10s 5ms/step - loss: 0.0247 - accuracy: 0.9934\n",
            "Epoch 10/10\n",
            "1875/1875 [==============================] - 8s 4ms/step - loss: 0.0217 - accuracy: 0.9940\n",
            "0.9785000085830688\n"
          ]
        }
      ]
    },
    {
      "cell_type": "markdown",
      "source": [
        "*정확도가 97.85% 정도이다.*\n",
        "\n",
        "<br>\n",
        "\n",
        "###1-2. Adadelta"
      ],
      "metadata": {
        "id": "8_syACLDz0wz"
      }
    },
    {
      "cell_type": "code",
      "source": [
        "model.compile(optimizer='Adadelta', loss='sparse_categorical_crossentropy', metrics=['accuracy'])\n",
        "model.fit(train_images, train_labels, epochs=10, verbose=1)\n",
        "\n",
        "test_loss, test_acc = model.evaluate(test_images, test_labels, verbose=20)\n",
        "print(test_acc)"
      ],
      "metadata": {
        "colab": {
          "base_uri": "https://localhost:8080/"
        },
        "id": "cVasibN1z4Jo",
        "outputId": "1046c2a2-1226-477f-8d93-6fe4d3efe361"
      },
      "execution_count": null,
      "outputs": [
        {
          "output_type": "stream",
          "name": "stdout",
          "text": [
            "Epoch 1/10\n",
            "1875/1875 [==============================] - 7s 4ms/step - loss: 0.0131 - accuracy: 0.9966\n",
            "Epoch 2/10\n",
            "1875/1875 [==============================] - 7s 4ms/step - loss: 0.0126 - accuracy: 0.9967\n",
            "Epoch 3/10\n",
            "1875/1875 [==============================] - 7s 4ms/step - loss: 0.0122 - accuracy: 0.9969\n",
            "Epoch 4/10\n",
            "1875/1875 [==============================] - 7s 4ms/step - loss: 0.0118 - accuracy: 0.9970\n",
            "Epoch 5/10\n",
            "1875/1875 [==============================] - 7s 4ms/step - loss: 0.0115 - accuracy: 0.9972\n",
            "Epoch 6/10\n",
            "1875/1875 [==============================] - 7s 4ms/step - loss: 0.0112 - accuracy: 0.9973\n",
            "Epoch 7/10\n",
            "1875/1875 [==============================] - 7s 4ms/step - loss: 0.0110 - accuracy: 0.9974\n",
            "Epoch 8/10\n",
            "1875/1875 [==============================] - 7s 4ms/step - loss: 0.0108 - accuracy: 0.9974\n",
            "Epoch 9/10\n",
            "1875/1875 [==============================] - 7s 4ms/step - loss: 0.0106 - accuracy: 0.9975\n",
            "Epoch 10/10\n",
            "1875/1875 [==============================] - 7s 4ms/step - loss: 0.0104 - accuracy: 0.9976\n",
            "0.9800000190734863\n"
          ]
        }
      ]
    },
    {
      "cell_type": "markdown",
      "source": [
        "*정확도가 98% 정도이다.*\n",
        "\n",
        "<br>\n",
        "\n",
        "###1-3.Adagrad"
      ],
      "metadata": {
        "id": "ItxFrzbyz6xF"
      }
    },
    {
      "cell_type": "code",
      "source": [
        "model.compile(optimizer='Adagrad', loss='sparse_categorical_crossentropy', metrics=['accuracy'])\n",
        "model.fit(train_images, train_labels, epochs=10, verbose=1)\n",
        "\n",
        "test_loss, test_acc = model.evaluate(test_images, test_labels, verbose=20)\n",
        "print(test_acc)"
      ],
      "metadata": {
        "colab": {
          "base_uri": "https://localhost:8080/"
        },
        "id": "eMmLLYUXz9uV",
        "outputId": "1c090e2c-e3ac-403d-cb98-aae76dcdc1c1"
      },
      "execution_count": null,
      "outputs": [
        {
          "output_type": "stream",
          "name": "stdout",
          "text": [
            "Epoch 1/10\n",
            "1875/1875 [==============================] - 7s 3ms/step - loss: 0.0097 - accuracy: 0.9978\n",
            "Epoch 2/10\n",
            "1875/1875 [==============================] - 6s 3ms/step - loss: 0.0088 - accuracy: 0.9981\n",
            "Epoch 3/10\n",
            "1875/1875 [==============================] - 6s 3ms/step - loss: 0.0082 - accuracy: 0.9982\n",
            "Epoch 4/10\n",
            "1875/1875 [==============================] - 6s 3ms/step - loss: 0.0078 - accuracy: 0.9984\n",
            "Epoch 5/10\n",
            "1875/1875 [==============================] - 7s 4ms/step - loss: 0.0075 - accuracy: 0.9984\n",
            "Epoch 6/10\n",
            "1875/1875 [==============================] - 6s 3ms/step - loss: 0.0072 - accuracy: 0.9985\n",
            "Epoch 7/10\n",
            "1875/1875 [==============================] - 6s 3ms/step - loss: 0.0070 - accuracy: 0.9985\n",
            "Epoch 8/10\n",
            "1875/1875 [==============================] - 7s 4ms/step - loss: 0.0068 - accuracy: 0.9986\n",
            "Epoch 9/10\n",
            "1875/1875 [==============================] - 6s 3ms/step - loss: 0.0066 - accuracy: 0.9986\n",
            "Epoch 10/10\n",
            "1875/1875 [==============================] - 7s 3ms/step - loss: 0.0064 - accuracy: 0.9987\n",
            "0.9814000129699707\n"
          ]
        }
      ]
    },
    {
      "cell_type": "markdown",
      "source": [
        "*정확도가 98.14% 정도이다.*\n",
        "\n",
        "<br>\n",
        "\n",
        "###1-4. Adamax"
      ],
      "metadata": {
        "id": "ShYDmLSL0ADQ"
      }
    },
    {
      "cell_type": "code",
      "source": [
        "model.compile(optimizer='Adamax', loss='sparse_categorical_crossentropy', metrics=['accuracy'])\n",
        "model.fit(train_images, train_labels, epochs=10, verbose=1)\n",
        "\n",
        "test_loss, test_acc = model.evaluate(test_images, test_labels, verbose=20)\n",
        "print(test_acc)"
      ],
      "metadata": {
        "colab": {
          "base_uri": "https://localhost:8080/"
        },
        "id": "KlEuOpHNz_j3",
        "outputId": "13eb63bb-408e-43be-e71c-564031b14e28"
      },
      "execution_count": null,
      "outputs": [
        {
          "output_type": "stream",
          "name": "stdout",
          "text": [
            "Epoch 1/10\n",
            "1875/1875 [==============================] - 7s 4ms/step - loss: 0.0072 - accuracy: 0.9984\n",
            "Epoch 2/10\n",
            "1875/1875 [==============================] - 7s 4ms/step - loss: 0.0049 - accuracy: 0.9991\n",
            "Epoch 3/10\n",
            "1875/1875 [==============================] - 7s 4ms/step - loss: 0.0039 - accuracy: 0.9993\n",
            "Epoch 4/10\n",
            "1875/1875 [==============================] - 7s 4ms/step - loss: 0.0032 - accuracy: 0.9995\n",
            "Epoch 5/10\n",
            "1875/1875 [==============================] - 7s 4ms/step - loss: 0.0026 - accuracy: 0.9996\n",
            "Epoch 6/10\n",
            "1875/1875 [==============================] - 7s 4ms/step - loss: 0.0022 - accuracy: 0.9998\n",
            "Epoch 7/10\n",
            "1875/1875 [==============================] - 6s 3ms/step - loss: 0.0019 - accuracy: 0.9998\n",
            "Epoch 8/10\n",
            "1875/1875 [==============================] - 6s 3ms/step - loss: 0.0016 - accuracy: 0.9998\n",
            "Epoch 9/10\n",
            "1875/1875 [==============================] - 6s 3ms/step - loss: 0.0014 - accuracy: 0.9999\n",
            "Epoch 10/10\n",
            "1875/1875 [==============================] - 6s 3ms/step - loss: 0.0012 - accuracy: 0.9999\n",
            "0.9818999767303467\n"
          ]
        }
      ]
    },
    {
      "cell_type": "markdown",
      "source": [
        "*정확도가 98.18% 정도이다.*\n",
        "\n",
        "<br>\n",
        "\n",
        "###1-5. Nadam"
      ],
      "metadata": {
        "id": "ifSXA5hK0C4s"
      }
    },
    {
      "cell_type": "code",
      "source": [
        "model.compile(optimizer='Nadam', loss='sparse_categorical_crossentropy', metrics=['accuracy'])\n",
        "model.fit(train_images, train_labels, epochs=10, verbose=1)\n",
        "\n",
        "test_loss, test_acc = model.evaluate(test_images, test_labels, verbose=20)\n",
        "print(test_acc)"
      ],
      "metadata": {
        "colab": {
          "base_uri": "https://localhost:8080/"
        },
        "id": "sKUF-biU0Fqg",
        "outputId": "dce7c7f5-505a-45d0-b2ae-7711e225198b"
      },
      "execution_count": null,
      "outputs": [
        {
          "output_type": "stream",
          "name": "stdout",
          "text": [
            "Epoch 1/10\n",
            "1875/1875 [==============================] - 16s 8ms/step - loss: 0.0221 - accuracy: 0.9930\n",
            "Epoch 2/10\n",
            "1875/1875 [==============================] - 10s 5ms/step - loss: 0.0202 - accuracy: 0.9938\n",
            "Epoch 3/10\n",
            "1875/1875 [==============================] - 10s 5ms/step - loss: 0.0164 - accuracy: 0.9948\n",
            "Epoch 4/10\n",
            "1875/1875 [==============================] - 10s 5ms/step - loss: 0.0125 - accuracy: 0.9957\n",
            "Epoch 5/10\n",
            "1875/1875 [==============================] - 10s 5ms/step - loss: 0.0126 - accuracy: 0.9958\n",
            "Epoch 6/10\n",
            "1875/1875 [==============================] - 10s 5ms/step - loss: 0.0112 - accuracy: 0.9966\n",
            "Epoch 7/10\n",
            "1875/1875 [==============================] - 10s 5ms/step - loss: 0.0116 - accuracy: 0.9961\n",
            "Epoch 8/10\n",
            "1875/1875 [==============================] - 10s 5ms/step - loss: 0.0105 - accuracy: 0.9968\n",
            "Epoch 9/10\n",
            "1875/1875 [==============================] - 10s 5ms/step - loss: 0.0110 - accuracy: 0.9963\n",
            "Epoch 10/10\n",
            "1875/1875 [==============================] - 10s 5ms/step - loss: 0.0081 - accuracy: 0.9971\n",
            "0.9796000123023987\n"
          ]
        }
      ]
    },
    {
      "cell_type": "markdown",
      "source": [
        "*정확도가 97.96% 정도이다.*\n",
        "\n",
        "<br><br>\n",
        "\n",
        "---\n",
        "\n",
        "<br><br>\n",
        "\n",
        "##2. f(z) = 2x + 3과 같은 함수를 모델링하는 심층 신경망을 만들어보자. 훈련용 입력값으로 2, 3, 4를 넣고 7, 9, 11을 목표값으로 하자.\n",
        "\n",
        "1. 은닉층은 하나만 만들자.\n",
        "2. 은닉층의 노드는 5개로 두자.\n",
        "3. 적절한 하이퍼파라미터를 설정하자.\n",
        "4. 이 모델이 5, 6, 7, 8의 입력을 주고 예측값을 출력해보자."
      ],
      "metadata": {
        "id": "iczbhFY41WpH"
      }
    },
    {
      "cell_type": "code",
      "source": [
        "import numpy as np\n",
        "import tensorflow as tf\n",
        "from tensorflow import keras\n",
        "\n",
        "x_train = np.array([[2], [3], [4]])\n",
        "y_train = 2*x_train + 3\n",
        "\n",
        "x_test = np.array([[5], [6], [7], [8]])\n",
        "y_test = 2*x_test + 3\n",
        "print('테스트 예측 결과 :', y_test.flatten())\n",
        "\n",
        "model = keras.models.Sequential()\n",
        "model.add(keras.layers.Dense(5, input_shape=(1, )))\n",
        "model.add(keras.layers.Dense(1))\n",
        "\n",
        "model.compile(loss='mean_squared_error', optimizer='sgd', metrics=['accuracy'])\n",
        "model.fit(x_train, y_train, epochs=10, batch_size=2)\n",
        "\n",
        "pred = model.predict(x_test)\n",
        "print('테스트 값 :', x_test.flatten(), '  예측값 :', pred.flatten())"
      ],
      "metadata": {
        "colab": {
          "base_uri": "https://localhost:8080/"
        },
        "id": "90BycQ-N17KE",
        "outputId": "35c377f0-0462-4a54-d714-b46a068c90ca"
      },
      "execution_count": null,
      "outputs": [
        {
          "output_type": "stream",
          "name": "stdout",
          "text": [
            "테스트 예측 결과 : [13 15 17 19]\n",
            "Epoch 1/10\n",
            "2/2 [==============================] - 1s 7ms/step - loss: 51.6486 - accuracy: 0.0000e+00\n",
            "Epoch 2/10\n",
            "2/2 [==============================] - 0s 6ms/step - loss: 5.5612 - accuracy: 0.0000e+00\n",
            "Epoch 3/10\n",
            "2/2 [==============================] - 0s 6ms/step - loss: 0.8811 - accuracy: 0.0000e+00\n",
            "Epoch 4/10\n",
            "2/2 [==============================] - 0s 10ms/step - loss: 2.0503 - accuracy: 0.0000e+00\n",
            "Epoch 5/10\n",
            "2/2 [==============================] - 0s 5ms/step - loss: 1.5439 - accuracy: 0.0000e+00\n",
            "Epoch 6/10\n",
            "2/2 [==============================] - 0s 6ms/step - loss: 1.6254 - accuracy: 0.0000e+00\n",
            "Epoch 7/10\n",
            "2/2 [==============================] - 0s 5ms/step - loss: 0.8768 - accuracy: 0.0000e+00\n",
            "Epoch 8/10\n",
            "2/2 [==============================] - 0s 13ms/step - loss: 0.9671 - accuracy: 0.0000e+00\n",
            "Epoch 9/10\n",
            "2/2 [==============================] - 0s 13ms/step - loss: 0.5785 - accuracy: 0.0000e+00\n",
            "Epoch 10/10\n",
            "2/2 [==============================] - 0s 10ms/step - loss: 1.8478 - accuracy: 0.0000e+00\n",
            "테스트 값 : [5 6 7 8]   예측값 : [12.688413 15.065285 17.442158 19.81903 ]\n"
          ]
        }
      ]
    },
    {
      "cell_type": "markdown",
      "source": [
        "*나와야 할 해답은 13, 15, 17, 19이고 예측값 결과는 12.68, 15.06, 17.44, 19.81으로 나왔다*.<br>\n",
        "*epoch 값을 조정해보았는데 epoch 값을 30 이상으로 하였을 때에는 오히려 정확도가 떨어졌다.*"
      ],
      "metadata": {
        "id": "ibOIK7y03zVw"
      }
    },
    {
      "cell_type": "markdown",
      "source": [
        "<br><br>\n",
        "\n",
        "---\n",
        "\n",
        "<br><br>\n",
        "\n",
        "##3. 타이타닉호 생존자 예측 문제\n",
        "\n",
        "<br>\n",
        "\n",
        "###3-1. 타이타닉호의 생존자를 예측하는 심층 신경망을 만들자."
      ],
      "metadata": {
        "id": "YYeYUDwo4J5o"
      }
    },
    {
      "cell_type": "code",
      "source": [
        "import pandas as pd\n",
        "import numpy as np\n",
        "import matplotlib.pyplot as plt\n",
        "%matplotlib inline\n",
        "import seaborn as sns\n",
        "sns.set()\n",
        "\n",
        "train = pd.read_csv('/content/drive/MyDrive/Colab/train.csv')\n",
        "test = pd.read_csv('/content/drive/MyDrive/Colab/test.csv')\n",
        "\n",
        "train.head()"
      ],
      "metadata": {
        "colab": {
          "base_uri": "https://localhost:8080/",
          "height": 206
        },
        "id": "5Gl0Uh3K4YK2",
        "outputId": "3498fccd-a279-4c29-d86e-467a36df02bd"
      },
      "execution_count": null,
      "outputs": [
        {
          "output_type": "execute_result",
          "data": {
            "text/plain": [
              "   PassengerId  Survived  Pclass  \\\n",
              "0            1         0       3   \n",
              "1            2         1       1   \n",
              "2            3         1       3   \n",
              "3            4         1       1   \n",
              "4            5         0       3   \n",
              "\n",
              "                                                Name     Sex   Age  SibSp  \\\n",
              "0                            Braund, Mr. Owen Harris    male  22.0      1   \n",
              "1  Cumings, Mrs. John Bradley (Florence Briggs Th...  female  38.0      1   \n",
              "2                             Heikkinen, Miss. Laina  female  26.0      0   \n",
              "3       Futrelle, Mrs. Jacques Heath (Lily May Peel)  female  35.0      1   \n",
              "4                           Allen, Mr. William Henry    male  35.0      0   \n",
              "\n",
              "   Parch            Ticket     Fare Cabin Embarked  \n",
              "0      0         A/5 21171   7.2500   NaN        S  \n",
              "1      0          PC 17599  71.2833   C85        C  \n",
              "2      0  STON/O2. 3101282   7.9250   NaN        S  \n",
              "3      0            113803  53.1000  C123        S  \n",
              "4      0            373450   8.0500   NaN        S  "
            ],
            "text/html": [
              "\n",
              "  <div id=\"df-122b5f73-5a3d-4198-b923-0b72685cbbf1\">\n",
              "    <div class=\"colab-df-container\">\n",
              "      <div>\n",
              "<style scoped>\n",
              "    .dataframe tbody tr th:only-of-type {\n",
              "        vertical-align: middle;\n",
              "    }\n",
              "\n",
              "    .dataframe tbody tr th {\n",
              "        vertical-align: top;\n",
              "    }\n",
              "\n",
              "    .dataframe thead th {\n",
              "        text-align: right;\n",
              "    }\n",
              "</style>\n",
              "<table border=\"1\" class=\"dataframe\">\n",
              "  <thead>\n",
              "    <tr style=\"text-align: right;\">\n",
              "      <th></th>\n",
              "      <th>PassengerId</th>\n",
              "      <th>Survived</th>\n",
              "      <th>Pclass</th>\n",
              "      <th>Name</th>\n",
              "      <th>Sex</th>\n",
              "      <th>Age</th>\n",
              "      <th>SibSp</th>\n",
              "      <th>Parch</th>\n",
              "      <th>Ticket</th>\n",
              "      <th>Fare</th>\n",
              "      <th>Cabin</th>\n",
              "      <th>Embarked</th>\n",
              "    </tr>\n",
              "  </thead>\n",
              "  <tbody>\n",
              "    <tr>\n",
              "      <th>0</th>\n",
              "      <td>1</td>\n",
              "      <td>0</td>\n",
              "      <td>3</td>\n",
              "      <td>Braund, Mr. Owen Harris</td>\n",
              "      <td>male</td>\n",
              "      <td>22.0</td>\n",
              "      <td>1</td>\n",
              "      <td>0</td>\n",
              "      <td>A/5 21171</td>\n",
              "      <td>7.2500</td>\n",
              "      <td>NaN</td>\n",
              "      <td>S</td>\n",
              "    </tr>\n",
              "    <tr>\n",
              "      <th>1</th>\n",
              "      <td>2</td>\n",
              "      <td>1</td>\n",
              "      <td>1</td>\n",
              "      <td>Cumings, Mrs. John Bradley (Florence Briggs Th...</td>\n",
              "      <td>female</td>\n",
              "      <td>38.0</td>\n",
              "      <td>1</td>\n",
              "      <td>0</td>\n",
              "      <td>PC 17599</td>\n",
              "      <td>71.2833</td>\n",
              "      <td>C85</td>\n",
              "      <td>C</td>\n",
              "    </tr>\n",
              "    <tr>\n",
              "      <th>2</th>\n",
              "      <td>3</td>\n",
              "      <td>1</td>\n",
              "      <td>3</td>\n",
              "      <td>Heikkinen, Miss. Laina</td>\n",
              "      <td>female</td>\n",
              "      <td>26.0</td>\n",
              "      <td>0</td>\n",
              "      <td>0</td>\n",
              "      <td>STON/O2. 3101282</td>\n",
              "      <td>7.9250</td>\n",
              "      <td>NaN</td>\n",
              "      <td>S</td>\n",
              "    </tr>\n",
              "    <tr>\n",
              "      <th>3</th>\n",
              "      <td>4</td>\n",
              "      <td>1</td>\n",
              "      <td>1</td>\n",
              "      <td>Futrelle, Mrs. Jacques Heath (Lily May Peel)</td>\n",
              "      <td>female</td>\n",
              "      <td>35.0</td>\n",
              "      <td>1</td>\n",
              "      <td>0</td>\n",
              "      <td>113803</td>\n",
              "      <td>53.1000</td>\n",
              "      <td>C123</td>\n",
              "      <td>S</td>\n",
              "    </tr>\n",
              "    <tr>\n",
              "      <th>4</th>\n",
              "      <td>5</td>\n",
              "      <td>0</td>\n",
              "      <td>3</td>\n",
              "      <td>Allen, Mr. William Henry</td>\n",
              "      <td>male</td>\n",
              "      <td>35.0</td>\n",
              "      <td>0</td>\n",
              "      <td>0</td>\n",
              "      <td>373450</td>\n",
              "      <td>8.0500</td>\n",
              "      <td>NaN</td>\n",
              "      <td>S</td>\n",
              "    </tr>\n",
              "  </tbody>\n",
              "</table>\n",
              "</div>\n",
              "      <button class=\"colab-df-convert\" onclick=\"convertToInteractive('df-122b5f73-5a3d-4198-b923-0b72685cbbf1')\"\n",
              "              title=\"Convert this dataframe to an interactive table.\"\n",
              "              style=\"display:none;\">\n",
              "        \n",
              "  <svg xmlns=\"http://www.w3.org/2000/svg\" height=\"24px\"viewBox=\"0 0 24 24\"\n",
              "       width=\"24px\">\n",
              "    <path d=\"M0 0h24v24H0V0z\" fill=\"none\"/>\n",
              "    <path d=\"M18.56 5.44l.94 2.06.94-2.06 2.06-.94-2.06-.94-.94-2.06-.94 2.06-2.06.94zm-11 1L8.5 8.5l.94-2.06 2.06-.94-2.06-.94L8.5 2.5l-.94 2.06-2.06.94zm10 10l.94 2.06.94-2.06 2.06-.94-2.06-.94-.94-2.06-.94 2.06-2.06.94z\"/><path d=\"M17.41 7.96l-1.37-1.37c-.4-.4-.92-.59-1.43-.59-.52 0-1.04.2-1.43.59L10.3 9.45l-7.72 7.72c-.78.78-.78 2.05 0 2.83L4 21.41c.39.39.9.59 1.41.59.51 0 1.02-.2 1.41-.59l7.78-7.78 2.81-2.81c.8-.78.8-2.07 0-2.86zM5.41 20L4 18.59l7.72-7.72 1.47 1.35L5.41 20z\"/>\n",
              "  </svg>\n",
              "      </button>\n",
              "      \n",
              "  <style>\n",
              "    .colab-df-container {\n",
              "      display:flex;\n",
              "      flex-wrap:wrap;\n",
              "      gap: 12px;\n",
              "    }\n",
              "\n",
              "    .colab-df-convert {\n",
              "      background-color: #E8F0FE;\n",
              "      border: none;\n",
              "      border-radius: 50%;\n",
              "      cursor: pointer;\n",
              "      display: none;\n",
              "      fill: #1967D2;\n",
              "      height: 32px;\n",
              "      padding: 0 0 0 0;\n",
              "      width: 32px;\n",
              "    }\n",
              "\n",
              "    .colab-df-convert:hover {\n",
              "      background-color: #E2EBFA;\n",
              "      box-shadow: 0px 1px 2px rgba(60, 64, 67, 0.3), 0px 1px 3px 1px rgba(60, 64, 67, 0.15);\n",
              "      fill: #174EA6;\n",
              "    }\n",
              "\n",
              "    [theme=dark] .colab-df-convert {\n",
              "      background-color: #3B4455;\n",
              "      fill: #D2E3FC;\n",
              "    }\n",
              "\n",
              "    [theme=dark] .colab-df-convert:hover {\n",
              "      background-color: #434B5C;\n",
              "      box-shadow: 0px 1px 3px 1px rgba(0, 0, 0, 0.15);\n",
              "      filter: drop-shadow(0px 1px 2px rgba(0, 0, 0, 0.3));\n",
              "      fill: #FFFFFF;\n",
              "    }\n",
              "  </style>\n",
              "\n",
              "      <script>\n",
              "        const buttonEl =\n",
              "          document.querySelector('#df-122b5f73-5a3d-4198-b923-0b72685cbbf1 button.colab-df-convert');\n",
              "        buttonEl.style.display =\n",
              "          google.colab.kernel.accessAllowed ? 'block' : 'none';\n",
              "\n",
              "        async function convertToInteractive(key) {\n",
              "          const element = document.querySelector('#df-122b5f73-5a3d-4198-b923-0b72685cbbf1');\n",
              "          const dataTable =\n",
              "            await google.colab.kernel.invokeFunction('convertToInteractive',\n",
              "                                                     [key], {});\n",
              "          if (!dataTable) return;\n",
              "\n",
              "          const docLinkHtml = 'Like what you see? Visit the ' +\n",
              "            '<a target=\"_blank\" href=https://colab.research.google.com/notebooks/data_table.ipynb>data table notebook</a>'\n",
              "            + ' to learn more about interactive tables.';\n",
              "          element.innerHTML = '';\n",
              "          dataTable['output_type'] = 'display_data';\n",
              "          await google.colab.output.renderOutput(dataTable, element);\n",
              "          const docLink = document.createElement('div');\n",
              "          docLink.innerHTML = docLinkHtml;\n",
              "          element.appendChild(docLink);\n",
              "        }\n",
              "      </script>\n",
              "    </div>\n",
              "  </div>\n",
              "  "
            ]
          },
          "metadata": {},
          "execution_count": 28
        }
      ]
    }
  ]
}