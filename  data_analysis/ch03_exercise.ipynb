{
  "nbformat": 4,
  "nbformat_minor": 0,
  "metadata": {
    "colab": {
      "name": "ch03_exercise.ipynb",
      "provenance": [],
      "collapsed_sections": [],
      "authorship_tag": "ABX9TyOEaCYZu4UYh0NOFF7F3Cp7",
      "include_colab_link": true
    },
    "kernelspec": {
      "name": "python3",
      "display_name": "Python 3"
    },
    "language_info": {
      "name": "python"
    }
  },
  "cells": [
    {
      "cell_type": "markdown",
      "metadata": {
        "id": "view-in-github",
        "colab_type": "text"
      },
      "source": [
        "<a href=\"https://colab.research.google.com/github/ChoiSenn/Study/blob/main/%20data_analysis/ch03_exercise.ipynb\" target=\"_parent\"><img src=\"https://colab.research.google.com/assets/colab-badge.svg\" alt=\"Open In Colab\"/></a>"
      ]
    },
    {
      "cell_type": "markdown",
      "source": [
        "# **고급프로그래밍 - 데이터 분석과 머신러닝**\n",
        "## 202251509 최세은\n",
        "\n",
        "<br>\n",
        "\n",
        "\n",
        "---\n",
        "<br>\n",
        "\n",
        "\n",
        "## 3-1. 다음의 기능을 넘파이를 사용하여 구현하시오.\n",
        "\n",
        "### 1) numpy의 arange() 함수를 사용하여 1에서 45까지의 연속적인 번호를 생성하라."
      ],
      "metadata": {
        "id": "_J1aFiWeda0w"
      }
    },
    {
      "cell_type": "code",
      "source": [
        "import numpy as np  # numpy 라이브러리 사용을 위해 import 한다\n",
        "\n",
        "a = np.arange(1, 46)  # arange() 함수를 이용하여 1부터 45까지의 연속적인 수열을 가진 배열을 생성\n",
        "print(a)"
      ],
      "metadata": {
        "colab": {
          "base_uri": "https://localhost:8080/"
        },
        "id": "lHUX-TjTd1ca",
        "outputId": "3d55b1f7-595e-4c8a-afde-b12c9bee1d1d"
      },
      "execution_count": null,
      "outputs": [
        {
          "output_type": "stream",
          "name": "stdout",
          "text": [
            "[ 1  2  3  4  5  6  7  8  9 10 11 12 13 14 15 16 17 18 19 20 21 22 23 24\n",
            " 25 26 27 28 29 30 31 32 33 34 35 36 37 38 39 40 41 42 43 44 45]\n"
          ]
        }
      ]
    },
    {
      "cell_type": "markdown",
      "source": [
        "*numpy 모듈 사용을 위해 첫 줄에 numpy import를 해준다. 이하 코드에서 np로 사용할 수 있다.<br>\n",
        "arange() 함수에 인자를 주어 1~46의 연속된 숫자를 배열로 만들고 이를 a 변수에 저장한다.<br>\n",
        "변수 a를 출력한다.*\n",
        "\n",
        "\n",
        "---\n",
        "\n"
      ],
      "metadata": {
        "id": "sAvzAMAJwB47"
      }
    },
    {
      "cell_type": "markdown",
      "source": [
        "### 2) 랜덤 시드값을 85로 설정하라. 그리고 이 배열을 랜덤하게 섞어서(shuffle) 첫 6개의 숫자를 슬라이싱 하라. 그 결과를 lotto 변수에 할당한 후, 출력하여라."
      ],
      "metadata": {
        "id": "Ob2etJBtd1ot"
      }
    },
    {
      "cell_type": "code",
      "source": [
        "np.random.seed(85)  # seed값을 85로 특정\n",
        "\n",
        "np.random.shuffle(a)  # shuffle()을 이용하여 a 배열을 랜덤하게 섞는다\n",
        "lotto = a[:6]  # 첫 6개의 숫자를 슬라이싱\n",
        "print(\"lotto =\", lotto)"
      ],
      "metadata": {
        "colab": {
          "base_uri": "https://localhost:8080/"
        },
        "id": "0UPgPaQceBUo",
        "outputId": "d0ca7849-6dc7-4da3-c611-509c32711638"
      },
      "execution_count": null,
      "outputs": [
        {
          "output_type": "stream",
          "name": "stdout",
          "text": [
            "lotto = [ 4 22 23 15  5 11]\n"
          ]
        }
      ]
    },
    {
      "cell_type": "markdown",
      "source": [
        "*random.seed()를 이용해 시드값을 85로 특정시킨다.<br>\n",
        "random.shuffle()을 이용해 a 배열을 랜덤하게 섞는다. 이때, random의 시드값은 85이다.<br>\n",
        "lotto 변수에 a 배열의 6번째까지의 숫자를 슬라이싱하여 저장한다.<br>\n",
        "lotto 변수를 출력한다.*\n",
        "\n",
        "\n",
        "---\n",
        "\n"
      ],
      "metadata": {
        "id": "GPryFrVJwhJv"
      }
    },
    {
      "cell_type": "markdown",
      "source": [
        "### 3) lotto 배열을 정렬한 후 출력하고 추가번호를 출력하라. 추가번호는 7번째 숫자를 출력하라."
      ],
      "metadata": {
        "id": "AjiedkRYeD1R"
      }
    },
    {
      "cell_type": "code",
      "source": [
        "print(\"lotto =\", np.sort(lotto), \", 추가번호 =\", a[6:7])  # sort()를 이용하여 배열을 정렬"
      ],
      "metadata": {
        "colab": {
          "base_uri": "https://localhost:8080/"
        },
        "id": "YoLPq4uteK05",
        "outputId": "4b6e831c-6e52-4c3a-ad78-43391d83e997"
      },
      "execution_count": null,
      "outputs": [
        {
          "output_type": "stream",
          "name": "stdout",
          "text": [
            "lotto = [ 4  5 11 15 22 23] , 추가번호 = [1]\n"
          ]
        }
      ]
    },
    {
      "cell_type": "markdown",
      "source": [
        "*sort()를 이용해 lotto 배열을 정렬하고 출력한다.<br> 또한, a 배열의 7번째 숫자를 슬라이싱하여 추가적으로 출력한다.*\n",
        "___"
      ],
      "metadata": {
        "id": "G-cYGfZwyNo9"
      }
    },
    {
      "cell_type": "markdown",
      "source": [
        "### 4) 0에서 24까지의 값을 가지는 5 X 5 크기의 2차원 행렬 n_arr를 생성하라."
      ],
      "metadata": {
        "id": "k8oFQm5ReLAf"
      }
    },
    {
      "cell_type": "code",
      "source": [
        "n_arr = np.arange(0, 25).reshape(5, 5)  # 0부터 24까지의 값을 가지는 배열을 5 X 5 크기로 생성한다.\n",
        "print(n_arr)"
      ],
      "metadata": {
        "colab": {
          "base_uri": "https://localhost:8080/"
        },
        "id": "q-6FBXfueRkx",
        "outputId": "50174d53-5fd5-4c2a-9104-a7207b1a0c5f"
      },
      "execution_count": null,
      "outputs": [
        {
          "output_type": "stream",
          "name": "stdout",
          "text": [
            "[[ 0  1  2  3  4]\n",
            " [ 5  6  7  8  9]\n",
            " [10 11 12 13 14]\n",
            " [15 16 17 18 19]\n",
            " [20 21 22 23 24]]\n"
          ]
        }
      ]
    },
    {
      "cell_type": "markdown",
      "source": [
        "*arange() 함수를 이용하여 0부터 24까지의 숫자를 배열로 만들되, reshape() 함수를 이용하여 5 X 5 크기로 생성하여 n_arr 변수에 저장한다.<br>\n",
        "배열 n_arr를 출력한다.*\n",
        "\n",
        "---"
      ],
      "metadata": {
        "id": "BjKyQfqWyk92"
      }
    },
    {
      "cell_type": "markdown",
      "source": [
        "### 5) 앞서 만든 n_arr의 가장 첫 원소와 가장 마지막 원소를 인덱싱하여 출력하라. 이때, 마지막 원소의 인덱싱은 음수 값을 사용하라."
      ],
      "metadata": {
        "id": "jj1JpllNeRtD"
      }
    },
    {
      "cell_type": "code",
      "source": [
        "print(\"첫 원소 :\", n_arr[:1, :1])  # 우선 :1만큼 슬라이싱 하고 남은 부분에서 :1만큼 슬라이싱 해 첫 원소만을 남긴다\n",
        "print(\"마지막 원소 :\", n_arr[-1:, -1:])"
      ],
      "metadata": {
        "colab": {
          "base_uri": "https://localhost:8080/"
        },
        "id": "OcDj-FkseYzS",
        "outputId": "b55802eb-c4f1-4474-f356-b6b206eeddfb"
      },
      "execution_count": null,
      "outputs": [
        {
          "output_type": "stream",
          "name": "stdout",
          "text": [
            "첫 원소 : [[0]]\n",
            "마지막 원소 : [[24]]\n"
          ]
        }
      ]
    },
    {
      "cell_type": "markdown",
      "source": [
        "*n_arr를 우선 :1만큼 슬라이싱하고 남은 부분에서 :1만큼 다시 한 번 슬라이싱 하여 첫 번째 원소 하나만을 출력한다.<br>\n",
        "n_arr를 우선 -1: 만큼 슬라이싱 하고 남은 부분에서 -1: 만큼 다시 한 번 슬라이싱 하여 마지막 원소 하나만을 출력한다.*\n",
        "\n",
        "---"
      ],
      "metadata": {
        "id": "OlvfcyNmy3oI"
      }
    },
    {
      "cell_type": "markdown",
      "source": [
        "### 6) n_arr배열에 슬라이싱을 적용하여 01234, 56789 값을 가지는 배열을 생성하라."
      ],
      "metadata": {
        "id": "ZmKzfT7aeY-i"
      }
    },
    {
      "cell_type": "code",
      "source": [
        "print(n_arr[:2])  # 행 축에서 :2만큼 슬라이싱하여 출력"
      ],
      "metadata": {
        "colab": {
          "base_uri": "https://localhost:8080/"
        },
        "id": "2pyLfvfLefuY",
        "outputId": "7af21460-63cb-473a-826a-a20aef25c006"
      },
      "execution_count": null,
      "outputs": [
        {
          "output_type": "stream",
          "name": "stdout",
          "text": [
            "[[0 1 2 3 4]\n",
            " [5 6 7 8 9]]\n"
          ]
        }
      ]
    },
    {
      "cell_type": "markdown",
      "source": [
        "*n_arr 배열을 행 축에서 :2 만큼 슬라이스하여 출력한다.*\n",
        "\n",
        "---"
      ],
      "metadata": {
        "id": "28W0_7CV0wxS"
      }
    },
    {
      "cell_type": "markdown",
      "source": [
        "### 7) n_arr 배열에 슬라이싱을 적용하여 특정 배열을 생성하라."
      ],
      "metadata": {
        "id": "CbQLOUf6ef6N"
      }
    },
    {
      "cell_type": "code",
      "source": [
        "print(np.hstack((n_arr[:, :1], n_arr[:, 2:3], n_arr[:, 4:5])))  # 각각 열 축으로 슬라이싱한 배열들을 hsrack을 이용해 수평으로 결합"
      ],
      "metadata": {
        "colab": {
          "base_uri": "https://localhost:8080/"
        },
        "id": "YHGFNjzTem5R",
        "outputId": "5d5fa221-ca83-4f3b-d5c0-49fca7de3c02"
      },
      "execution_count": null,
      "outputs": [
        {
          "output_type": "stream",
          "name": "stdout",
          "text": [
            "[[ 0  2  4]\n",
            " [ 5  7  9]\n",
            " [10 12 14]\n",
            " [15 17 19]\n",
            " [20 22 24]]\n"
          ]
        }
      ]
    },
    {
      "cell_type": "markdown",
      "source": [
        "*n_arr[:, :1] 만큼 슬라이싱한 배열과 n_arr[:, 2:3]만큼 슬라이싱한 배열과 n_arr[:, 4:5] 만큼 슬라이싱한 배열을(각각 열 축으로 0, 3, 5열만 남겼다) hstack()을 이용하여 수평으로 결합하여 출력한다.*\n",
        "\n",
        "---"
      ],
      "metadata": {
        "id": "DzHHNbuA04C3"
      }
    },
    {
      "cell_type": "markdown",
      "source": [
        "### 8) n_arr 배열에 슬라이싱을 적용한 후, reshape()를 적용하여 특정 배열을 생성하라."
      ],
      "metadata": {
        "id": "DJxOQv8IenDy"
      }
    },
    {
      "cell_type": "code",
      "source": [
        "print(n_arr[:2].reshape(5, 2))  # 슬라이싱한 배열을 reshape()를 이용하여 5행 2열의 배열로 다시 만든다"
      ],
      "metadata": {
        "colab": {
          "base_uri": "https://localhost:8080/"
        },
        "id": "s0WoYYhletZu",
        "outputId": "7982fe5c-b58e-4f0f-b139-1a0cd5e0a0a4"
      },
      "execution_count": null,
      "outputs": [
        {
          "output_type": "stream",
          "name": "stdout",
          "text": [
            "[[0 1]\n",
            " [2 3]\n",
            " [4 5]\n",
            " [6 7]\n",
            " [8 9]]\n"
          ]
        }
      ]
    },
    {
      "cell_type": "markdown",
      "source": [
        "*n_arr[:2] 만큼 슬라이싱한 배열을 reshape()를 이용하여 5행 2열의 배열로 다시 만들어 출력한다.*\n",
        "\n",
        "---"
      ],
      "metadata": {
        "id": "iWN3U2j_1QUR"
      }
    },
    {
      "cell_type": "markdown",
      "source": [
        "## 3-2. 난수로 이루어진 2 X 2 X 2 형태의 배열 a를 생성하라."
      ],
      "metadata": {
        "id": "icbbOiAaetjg"
      }
    },
    {
      "cell_type": "code",
      "source": [
        "a = np.random.randn(2, 2, 2)  # randn()를 이용하여 난수로 이루어진 2 X 2 X 2 배열 생성\n",
        "a"
      ],
      "metadata": {
        "colab": {
          "base_uri": "https://localhost:8080/"
        },
        "id": "-rPRVBu8e1hb",
        "outputId": "8dff4107-7e62-4a72-d216-1222a277179e"
      },
      "execution_count": null,
      "outputs": [
        {
          "output_type": "execute_result",
          "data": {
            "text/plain": [
              "array([[[ 0.03592585, -0.63066257],\n",
              "        [ 0.39404568,  1.01710514]],\n",
              "\n",
              "       [[ 1.91923001,  1.100179  ],\n",
              "        [-0.7889257 ,  2.58304684]]])"
            ]
          },
          "metadata": {},
          "execution_count": 60
        }
      ]
    },
    {
      "cell_type": "markdown",
      "source": [
        "*random.randn()을 이용하여 난수로 이루어진 배열을 생성해 변수 a에 저장한다. 이때, 크기는 인자를 이용해 2 X 2 X 2로 설정한다.<br>\n",
        "변수 a를 출력한다.*\n",
        "\n",
        "---"
      ],
      "metadata": {
        "id": "K5ZIaZgD1a51"
      }
    },
    {
      "cell_type": "markdown",
      "source": [
        "### 1) a 배열에서 max() 메소드를 사용하여 가장 큰 값을 구하여 출력하라."
      ],
      "metadata": {
        "id": "dW9kCVYTe1r9"
      }
    },
    {
      "cell_type": "code",
      "source": [
        "print(a.max())  # max()를 이용하여 최대값 출력"
      ],
      "metadata": {
        "colab": {
          "base_uri": "https://localhost:8080/"
        },
        "id": "-KchN7BEe5yl",
        "outputId": "3ad1b0aa-0cf2-478c-9e4c-7de9388ef3aa"
      },
      "execution_count": null,
      "outputs": [
        {
          "output_type": "stream",
          "name": "stdout",
          "text": [
            "2.5830468423246535\n"
          ]
        }
      ]
    },
    {
      "cell_type": "markdown",
      "source": [
        "*max()를 이용하여 배열 a의 최대값을 출력한다.*\n",
        "\n",
        "---"
      ],
      "metadata": {
        "id": "_kf64jfu1nEG"
      }
    },
    {
      "cell_type": "markdown",
      "source": [
        "### 2) a 배열에서 min() 메소드를 사용하여 가장 작은 값을 구한 다음 출력하라."
      ],
      "metadata": {
        "id": "h2r43Jyve5_M"
      }
    },
    {
      "cell_type": "code",
      "source": [
        "print(a.min())  # min()를 이용하여 최대값 출력"
      ],
      "metadata": {
        "colab": {
          "base_uri": "https://localhost:8080/"
        },
        "id": "Nh05YOFYhk57",
        "outputId": "2a2433e4-784e-43f8-a010-4a6446ac5fb1"
      },
      "execution_count": null,
      "outputs": [
        {
          "output_type": "stream",
          "name": "stdout",
          "text": [
            "-0.7889256953117791\n"
          ]
        }
      ]
    },
    {
      "cell_type": "markdown",
      "source": [
        "*min()를 이용하여 배열 a의 최소값을 출력한다.*\n",
        "\n",
        "---"
      ],
      "metadata": {
        "id": "hownN92T1t_T"
      }
    }
  ]
}