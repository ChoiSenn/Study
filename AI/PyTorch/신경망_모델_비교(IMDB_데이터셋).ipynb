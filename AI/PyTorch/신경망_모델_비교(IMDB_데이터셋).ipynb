{
  "nbformat": 4,
  "nbformat_minor": 0,
  "metadata": {
    "colab": {
      "provenance": [],
      "collapsed_sections": [],
      "toc_visible": true,
      "mount_file_id": "17o2mI_LIA9CNlCo-dsvkaqevInEhKPgv",
      "authorship_tag": "ABX9TyNhJXIw/I/9Szc3+UfN006w",
      "include_colab_link": true
    },
    "kernelspec": {
      "name": "python3",
      "display_name": "Python 3"
    },
    "language_info": {
      "name": "python"
    },
    "accelerator": "GPU",
    "gpuClass": "standard"
  },
  "cells": [
    {
      "cell_type": "markdown",
      "metadata": {
        "id": "view-in-github",
        "colab_type": "text"
      },
      "source": [
        "<a href=\"https://colab.research.google.com/github/ChoiSenn/Study/blob/main/AI/PyTorch/%EC%8B%A0%EA%B2%BD%EB%A7%9D_%EB%AA%A8%EB%8D%B8_%EB%B9%84%EA%B5%90(IMDB_%EB%8D%B0%EC%9D%B4%ED%84%B0%EC%85%8B).ipynb\" target=\"_parent\"><img src=\"https://colab.research.google.com/assets/colab-badge.svg\" alt=\"Open In Colab\"/></a>"
      ]
    },
    {
      "cell_type": "markdown",
      "source": [
        "#3.4 신경망 이진분류\n",
        "\n",
        "<br>"
      ],
      "metadata": {
        "id": "aaFF-tAb4VYh"
      }
    },
    {
      "cell_type": "code",
      "source": [
        "import keras\n",
        "keras.__version__  # 버전 체크"
      ],
      "metadata": {
        "colab": {
          "base_uri": "https://localhost:8080/",
          "height": 35
        },
        "id": "LScWq6e64tEQ",
        "outputId": "790cfba8-432f-47e4-e263-5a3be3c452cf"
      },
      "execution_count": null,
      "outputs": [
        {
          "output_type": "execute_result",
          "data": {
            "text/plain": [
              "'2.9.0'"
            ],
            "application/vnd.google.colaboratory.intrinsic+json": {
              "type": "string"
            }
          },
          "metadata": {},
          "execution_count": 2
        }
      ]
    },
    {
      "cell_type": "markdown",
      "source": [
        "## IMDB 데이터셋\n",
        "\n",
        "IMDB\n",
        "- 인터넷 영화 데이터베이스로부터 가져온 (호불호)양극단의 리뷰 50,000개로 이루어진 데이터셋.\n",
        "- 훈련 데이터 25,000개와 테스트 데이터 25,000개로 구성.\n",
        "- 각각 50%는 부정, 50%는 긍정적인 리뷰로 구성.\n",
        "- 케라스에 포함.\n",
        "- 전처리 되어 있어 각 리뷰(단어 시퀀스)가 숫자 시퀀스로 변환되어 있음.\n",
        "\n",
        "<br>\n",
        "\n",
        "훈련 데이터와 테스트 데이터를 나누는 이유 : 같은 데이터에서 모델을 훈련하고 테스트를 동시에 하는 것이 아니라, 새로운 데이터에 대해 모델의 성능을 검증하기 위해.\n",
        "\n",
        "<br>\n",
        "\n",
        "먼저 IMDB 데이터셋을 로드."
      ],
      "metadata": {
        "id": "eqfYd9dN5o4A"
      }
    },
    {
      "cell_type": "code",
      "source": [
        "from keras.datasets import imdb\n",
        "\n",
        "(train_data, train_labels), (test_data, test_labels) = imdb.load_data(num_words=10000)\n",
        "\n",
        "train_data[0]  # train data의 리뷰 출력\n",
        "train_labels[0]  # train data의 긍정/부정 출력\n",
        "max([max(sequence) for sequence in train_data])  # 단어 인덱스가 가장 많은 쪽 출력"
      ],
      "metadata": {
        "colab": {
          "base_uri": "https://localhost:8080/"
        },
        "id": "H9S6HWzo6h-n",
        "outputId": "9a7d0274-f142-41e0-8492-839010f5ba2e"
      },
      "execution_count": null,
      "outputs": [
        {
          "output_type": "execute_result",
          "data": {
            "text/plain": [
              "9999"
            ]
          },
          "metadata": {},
          "execution_count": 3
        }
      ]
    },
    {
      "cell_type": "markdown",
      "source": [
        "매개변수로 준 num_words=10000은 훈련 데이터에서 가장 자주 나타나는 단어 10,000개만 사용하겠다는 의미. 그리고 드물게 나타나는 단어를 무시하여 적절한 크기의 벡터 데이터 얻음.\n",
        "\n",
        "*train_data[0]으로 0번째 리뷰 출력(숫자 시퀀스 형태), train_labels[0]으로 0번째 리뷰의 부정/긍정을 출력(부정은 0, 긍정은 1)*\n",
        "\n",
        "*자주 등장하는 단어 10,000개로 제한했기에 인덱스는 10,000을 넘지 않음.*\n",
        "\n",
        "<br>\n",
        "\n",
        "train_data와 word_index(단어와 정수를 매핑한 딕셔너리)를 이용해 리뷰 데이터를 원래 영어 단어로 변환해볼 수 있음."
      ],
      "metadata": {
        "id": "bNLX3UBt67hO"
      }
    },
    {
      "cell_type": "code",
      "source": [
        "word_index = imdb.get_word_index()  # 단어와 정수 인덱스를 매핑한 딕셔너리\n",
        "reverse_word_index = dict([(value, key) for (key, value) in word_index.items()])  # 정수 인덱스와 단어를 매핑하도록 뒤집음\n",
        "\n",
        "decoded_review = ' '.join([reverse_word_index.get(i - 3, '?') for i in train_data[0]])  # 디코딩. 0, 1, 2는 '패딩', '문서 시작', '사전에 없음'을 위한 인덱스이므로 3을 뺌.\n",
        "\n",
        "decoded_review"
      ],
      "metadata": {
        "colab": {
          "base_uri": "https://localhost:8080/",
          "height": 181
        },
        "id": "AHZXRmOF8Q8z",
        "outputId": "b8091f60-3209-4d1f-ed32-443d2c85f05e"
      },
      "execution_count": null,
      "outputs": [
        {
          "output_type": "execute_result",
          "data": {
            "text/plain": [
              "\"? this film was just brilliant casting location scenery story direction everyone's really suited the part they played and you could just imagine being there robert ? is an amazing actor and now the same being director ? father came from the same scottish island as myself so i loved the fact there was a real connection with this film the witty remarks throughout the film were great it was just brilliant so much that i bought the film as soon as it was released for ? and would recommend it to everyone to watch and the fly fishing was amazing really cried at the end it was so sad and you know what they say if you cry at a film it must have been good and this definitely was also ? to the two little boy's that played the ? of norman and paul they were just brilliant children are often left out of the ? list i think because the stars that play them all grown up are such a big profile for the whole film but these children are amazing and should be praised for what they have done don't you think the whole story was so lovely because it was true and was someone's life after all that was shared with us all\""
            ],
            "application/vnd.google.colaboratory.intrinsic+json": {
              "type": "string"
            }
          },
          "metadata": {},
          "execution_count": 4
        }
      ]
    },
    {
      "cell_type": "markdown",
      "source": [
        "*숫자 시퀀스 변환 전의 원래 리뷰가 출력된 모습*\n",
        "\n",
        "<br>\n",
        "\n",
        "## 데이터 준비\n",
        "\n",
        "숫자 리스트로 바로 주입할 수 없으므로 다음과 같은 두 가지 방식으로 리스트를 텐서로 변환.\n",
        "- 같은 길이가 되도록 리스트에 padding을 추가하고 (samples, sequesnce_length) 크기의 정수 텐서로 변환. 정수 텐서를 다룰 수 있는 층을 신경망의 첫 층으로 사용.(Embedding 층)\n",
        "- 리스트를 원-핫 인코딩하여 0과 1의 벡터로 변환. 부동 소수 벡터 데이터를 다룰 수 있는 Dense 층을 신경망 첫 번째 층으로 사용."
      ],
      "metadata": {
        "id": "xhOSf2YD8VfE"
      }
    },
    {
      "cell_type": "code",
      "source": [
        "import numpy as np\n",
        "\n",
        "def vectorize_sequences(sequences, dimension=10000):\n",
        "    results = np.zeros((len(sequences), dimension))  # 크기가 (len(sequences), dimension))이고 모든 원소가 0인 행렬을 만듦\n",
        "    for i, sequence in enumerate(sequences):\n",
        "        results[i, sequence] = 1.  # results[i]에서 특정 인덱스의 위치를 1로 만듦\n",
        "    return results\n",
        "\n",
        "x_train = vectorize_sequences(train_data)  # 훈련 데이터를 벡터로 변환\n",
        "x_test = vectorize_sequences(test_data) \n",
        "\n",
        "y_train = np.asarray(train_labels).astype('float32')  # 레이블을 벡터로 변환\n",
        "y_test = np.asarray(test_labels).astype('float32')\n",
        "\n",
        "x_train[0]  # 확인"
      ],
      "metadata": {
        "colab": {
          "base_uri": "https://localhost:8080/"
        },
        "id": "XRI0LRxk9u0I",
        "outputId": "89add1d0-c70b-46a3-c2fb-ae49788d7d9f"
      },
      "execution_count": null,
      "outputs": [
        {
          "output_type": "execute_result",
          "data": {
            "text/plain": [
              "array([0., 1., 1., ..., 0., 0., 0.])"
            ]
          },
          "metadata": {},
          "execution_count": 9
        }
      ]
    },
    {
      "cell_type": "markdown",
      "source": [
        "*원-핫 인코딩을 이용하여 벡터로 변환한 모습*\n",
        "\n",
        "<br>\n",
        "\n",
        "## 신경망 모델 만들기\n",
        "\n",
        "입력 데이터가 벡터이고 레이블은 스칼라(1 or 0)인 경우에 잘 작동하는 네트워크는 relu 활성화 함수를 사용한 완전연결층을 그냥 쌓은 네트워크.\n",
        "\n",
        "Dense 층에 전달할 매개변수는 은닉 유닛의 개수. 하나의 은닉 유닛은 층이 나타내는 표현 공간에서 하나의 차원이 됨.\n",
        "\n",
        "16개의 은닉 유닛이 있다는 것은 가중치 행렬 W의 크기가 (input_dimension, 16)이라는 뜻. 입력 데이터와 W를 점곱하면 입력 데이터가 16차원으로 표현된 공간으로 투영. 해당 차원을 '신경망이 내제된 표현을 학습할 때 가질 수 있는 자유도'로 이해 가능.\n",
        "\n",
        "은닉 유닛을 늘려 더 고차원으로 만들면 신경망이 더 복잡한 표현을 학습할 수 있지만, 계산 비용이 커지고 원치 않은 패턴을 학습할 수 있음.\n",
        "\n",
        "우선은 16개의 은닉 유닛을 가진 두 개의 은닉층과 현재 리뷰의 감정을 스칼라 값의 예측으로 출력하는 세 번째 층을 두기로 함.\n",
        "\n",
        "중간의 은닉층은 활성화 함수로 relu를 사용하고 마지막 층은 확률을 출력하기 위해 시그모이드 활성화 함수를 사용. relu는 음수를 0으로 만드는 함수. 시그모이드는 임의의 값을 [0, 1] 사이로 압축하므로 출력 값을 확률처럼 해석 가능.\n",
        "\n",
        "<br>\n",
        "\n",
        "신경망을 케라스로 구현."
      ],
      "metadata": {
        "id": "-oQfJcJZ-bmn"
      }
    },
    {
      "cell_type": "code",
      "source": [
        "from keras import models\n",
        "from keras import layers\n",
        "\n",
        "model = models.Sequential()\n",
        "model.add(layers.Dense(16, activation='relu', input_shape=(10000,)))\n",
        "model.add(layers.Dense(16, activation='relu'))\n",
        "model.add(layers.Dense(1, activation='sigmoid'))"
      ],
      "metadata": {
        "id": "piftYMDhAY86"
      },
      "execution_count": null,
      "outputs": []
    },
    {
      "cell_type": "markdown",
      "source": [
        "손실 함수와 옵티마이저를 선택.\n",
        "\n",
        "이진 분류 문제이고 신경망의 출력이 확률이기 때문에 binary_crossentropy 손실이 적합. (확률을 출력하는 모델을 사용 시에는 크로스엔트로피가 최선의 선택)\n",
        "\n",
        "다음으로 rmsprop 옵티마이저와 binary_crossentropy 손실 함수로 모델을 설정. 훈련하는 동안 accuracy로 모니터링."
      ],
      "metadata": {
        "id": "n6Fu8th5Acua"
      }
    },
    {
      "cell_type": "code",
      "source": [
        "from keras import losses\n",
        "from keras import metrics\n",
        "from keras import optimizers\n",
        "from tensorflow.keras import optimizers\n",
        "\n",
        "model.compile(optimizer='rmsprop',\n",
        "              loss='binary_crossentropy',\n",
        "              metrics=['accuracy'])\n",
        "\n",
        "model.compile(optimizer=optimizers.RMSprop(lr=0.001),\n",
        "              loss='binary_crossentropy',\n",
        "              metrics=['accuracy'])\n",
        "\n",
        "model.compile(optimizer=optimizers.RMSprop(lr=0.001),\n",
        "              loss=losses.binary_crossentropy,\n",
        "              metrics=[metrics.binary_accuracy])\n",
        "\n",
        "model.compile(optimizer='rmsprop',  # 케라스에 rmsprop, binary_crossentropy, accuracy가 포함되어 있기 때문에 옵티마이저, 손실함수, 측정지표를 문자열로 지정하는 것이 가능.\n",
        "              loss='binary_crossentropy',\n",
        "              metrics=['accuracy'])"
      ],
      "metadata": {
        "id": "KtNNrMJZAzvk"
      },
      "execution_count": null,
      "outputs": []
    },
    {
      "cell_type": "markdown",
      "source": [
        "<br>\n",
        "\n",
        "## 훈련 검증\n",
        "\n",
        "훈련하는 동안 처음 본 데이터에 대한 모델의 정확도를 측정하기 위해서는 원본 훈련 데이터에서 일정 샘플을 떼어내서 검증 세트를 만들어야 함."
      ],
      "metadata": {
        "id": "rf8SESQKBj_R"
      }
    },
    {
      "cell_type": "code",
      "source": [
        "x_val = x_train[:10000]\n",
        "partial_x_train = x_train[10000:]\n",
        "\n",
        "y_val = y_train[:10000]\n",
        "partial_y_train = y_train[10000:]"
      ],
      "metadata": {
        "id": "Cq6dAbSmB-j6"
      },
      "execution_count": null,
      "outputs": []
    },
    {
      "cell_type": "markdown",
      "source": [
        "이제 모델을 512개씩 미니 배치를 만들어 20번 epochs 동안 훈련시킴. 동시에 따로 떼어놓은 10,000개의 샘플에 있어서 loss와 accuracy를 측정."
      ],
      "metadata": {
        "id": "v1f8_wtDCBn6"
      }
    },
    {
      "cell_type": "code",
      "source": [
        "history = model.fit(partial_x_train,\n",
        "                    partial_y_train,\n",
        "                    epochs=20,\n",
        "                    batch_size=512,\n",
        "                    validation_data=(x_val, y_val))  # validation_data 매개변수에 검증 데이터 전달"
      ],
      "metadata": {
        "colab": {
          "base_uri": "https://localhost:8080/"
        },
        "id": "O2z8YXzJCO_i",
        "outputId": "e380f19f-31e9-4479-f4e4-edf130588a7b"
      },
      "execution_count": null,
      "outputs": [
        {
          "output_type": "stream",
          "name": "stdout",
          "text": [
            "Epoch 1/20\n",
            "30/30 [==============================] - 4s 44ms/step - loss: 0.5121 - accuracy: 0.7809 - val_loss: 0.3855 - val_accuracy: 0.8632\n",
            "Epoch 2/20\n",
            "30/30 [==============================] - 1s 22ms/step - loss: 0.3016 - accuracy: 0.9044 - val_loss: 0.3247 - val_accuracy: 0.8735\n",
            "Epoch 3/20\n",
            "30/30 [==============================] - 1s 22ms/step - loss: 0.2234 - accuracy: 0.9265 - val_loss: 0.2798 - val_accuracy: 0.8890\n",
            "Epoch 4/20\n",
            "30/30 [==============================] - 1s 22ms/step - loss: 0.1728 - accuracy: 0.9453 - val_loss: 0.2952 - val_accuracy: 0.8808\n",
            "Epoch 5/20\n",
            "30/30 [==============================] - 1s 22ms/step - loss: 0.1433 - accuracy: 0.9539 - val_loss: 0.2832 - val_accuracy: 0.8871\n",
            "Epoch 6/20\n",
            "30/30 [==============================] - 1s 22ms/step - loss: 0.1193 - accuracy: 0.9631 - val_loss: 0.3005 - val_accuracy: 0.8808\n",
            "Epoch 7/20\n",
            "30/30 [==============================] - 1s 24ms/step - loss: 0.1000 - accuracy: 0.9690 - val_loss: 0.3110 - val_accuracy: 0.8813\n",
            "Epoch 8/20\n",
            "30/30 [==============================] - 1s 22ms/step - loss: 0.0829 - accuracy: 0.9769 - val_loss: 0.3361 - val_accuracy: 0.8779\n",
            "Epoch 9/20\n",
            "30/30 [==============================] - 1s 23ms/step - loss: 0.0702 - accuracy: 0.9797 - val_loss: 0.3537 - val_accuracy: 0.8761\n",
            "Epoch 10/20\n",
            "30/30 [==============================] - 1s 21ms/step - loss: 0.0565 - accuracy: 0.9863 - val_loss: 0.3830 - val_accuracy: 0.8786\n",
            "Epoch 11/20\n",
            "30/30 [==============================] - 1s 22ms/step - loss: 0.0486 - accuracy: 0.9879 - val_loss: 0.4116 - val_accuracy: 0.8716\n",
            "Epoch 12/20\n",
            "30/30 [==============================] - 1s 21ms/step - loss: 0.0389 - accuracy: 0.9913 - val_loss: 0.4336 - val_accuracy: 0.8744\n",
            "Epoch 13/20\n",
            "30/30 [==============================] - 1s 22ms/step - loss: 0.0322 - accuracy: 0.9934 - val_loss: 0.4883 - val_accuracy: 0.8644\n",
            "Epoch 14/20\n",
            "30/30 [==============================] - 1s 22ms/step - loss: 0.0262 - accuracy: 0.9954 - val_loss: 0.4922 - val_accuracy: 0.8710\n",
            "Epoch 15/20\n",
            "30/30 [==============================] - 1s 22ms/step - loss: 0.0219 - accuracy: 0.9965 - val_loss: 0.5275 - val_accuracy: 0.8703\n",
            "Epoch 16/20\n",
            "30/30 [==============================] - 1s 22ms/step - loss: 0.0165 - accuracy: 0.9977 - val_loss: 0.5641 - val_accuracy: 0.8694\n",
            "Epoch 17/20\n",
            "30/30 [==============================] - 1s 22ms/step - loss: 0.0136 - accuracy: 0.9985 - val_loss: 0.5932 - val_accuracy: 0.8675\n",
            "Epoch 18/20\n",
            "30/30 [==============================] - 1s 22ms/step - loss: 0.0123 - accuracy: 0.9981 - val_loss: 0.6286 - val_accuracy: 0.8656\n",
            "Epoch 19/20\n",
            "30/30 [==============================] - 1s 22ms/step - loss: 0.0067 - accuracy: 0.9996 - val_loss: 0.7804 - val_accuracy: 0.8496\n",
            "Epoch 20/20\n",
            "30/30 [==============================] - 1s 21ms/step - loss: 0.0107 - accuracy: 0.9977 - val_loss: 0.7072 - val_accuracy: 0.8632\n"
          ]
        }
      ]
    },
    {
      "cell_type": "markdown",
      "source": [
        "*한 에폭이 끝날 때마다 loss와 accuracy를 계산하여 출력된 모습.*\n",
        "\n",
        "<br>\n",
        "\n",
        "model.fit() 메소드는 History 객체를 반환. 이는 훈련하는 동안 발생한 모든 정보를 담은 딕셔너리인 history 속성을 갖고 있음."
      ],
      "metadata": {
        "id": "6hEXkfBqCVCH"
      }
    },
    {
      "cell_type": "code",
      "source": [
        "history_dict = history.history\n",
        "history_dict.keys()"
      ],
      "metadata": {
        "colab": {
          "base_uri": "https://localhost:8080/"
        },
        "id": "3aCZaJ50Cmji",
        "outputId": "ee938357-0bf3-4076-e849-b7123a7e3999"
      },
      "execution_count": null,
      "outputs": [
        {
          "output_type": "execute_result",
          "data": {
            "text/plain": [
              "dict_keys(['loss', 'accuracy', 'val_loss', 'val_accuracy'])"
            ]
          },
          "metadata": {},
          "execution_count": 14
        }
      ]
    },
    {
      "cell_type": "code",
      "source": [
        "import matplotlib.pyplot as plt\n",
        "\n",
        "acc = history.history['accuracy']\n",
        "val_acc = history.history['val_accuracy']\n",
        "loss = history.history['loss']\n",
        "val_loss = history.history['val_loss']\n",
        "\n",
        "epochs = range(1, len(acc) + 1)\n",
        "\n",
        "# ‘bo’는 파란색 점을 의미합니다\n",
        "plt.plot(epochs, loss, 'bo', label='Training loss')\n",
        "# ‘b’는 파란색 실선을 의미합니다\n",
        "plt.plot(epochs, val_loss, 'b', label='Validation loss')\n",
        "plt.title('Training and validation loss')\n",
        "plt.xlabel('Epochs')\n",
        "plt.ylabel('Loss')\n",
        "plt.legend()\n",
        "\n",
        "plt.show()"
      ],
      "metadata": {
        "colab": {
          "base_uri": "https://localhost:8080/",
          "height": 295
        },
        "id": "JdubpcQfCyBQ",
        "outputId": "32a4d6c1-b0af-47aa-d356-1caafcbca34a"
      },
      "execution_count": null,
      "outputs": [
        {
          "output_type": "display_data",
          "data": {
            "text/plain": [
              "<Figure size 432x288 with 1 Axes>"
            ],
            "image/png": "[encoded data removed]"
          },
          "metadata": {
            "needs_background": "light"
          }
        }
      ]
    },
    {
      "cell_type": "code",
      "source": [
        "plt.clf()   # 그래프를 초기화합니다\n",
        "acc = history_dict['accuracy']\n",
        "val_acc = history_dict['val_accuracy']\n",
        "\n",
        "plt.plot(epochs, acc, 'bo', label='Training acc')\n",
        "plt.plot(epochs, val_acc, 'b', label='Validation acc')\n",
        "plt.title('Training and validation accuracy')\n",
        "plt.xlabel('Epochs')\n",
        "plt.ylabel('Accuracy')\n",
        "plt.legend()\n",
        "\n",
        "plt.show()"
      ],
      "metadata": {
        "colab": {
          "base_uri": "https://localhost:8080/",
          "height": 295
        },
        "id": "LCqjbCtHC51n",
        "outputId": "43fd92f9-b7ab-4127-f1dd-f953bbd838a1"
      },
      "execution_count": null,
      "outputs": [
        {
          "output_type": "display_data",
          "data": {
            "text/plain": [
              "<Figure size 432x288 with 1 Axes>"
            ],
            "image/png": "[encoded data removed]"
          },
          "metadata": {
            "needs_background": "light"
          }
        }
      ]
    },
    {
      "cell_type": "markdown",
      "source": [
        "*네 가지 측정 지표를 이용해 훈련과 검증 데이터에 대한 손실과 정확도를 그려본 모습. 점선은 훈련 손실과 정확도이며, 실선은 검증 손실과 정확도.*\n",
        "\n",
        "<br>\n",
        "\n",
        "볼 수 있듯, 훈련 손실이 에폭마다 감소하고 훈련 정확도는 에폭마다 증가. 경사 하강법에 따라 반복마다 최소화됨. 그러나 검증 손실과 정확도는 감소/증가하다가 어느 순간에서 역전되는 모습을 확인 가능. 어느 순간에 과적합되어 훈련 세트 이외의 데이터에는 일반화 되지 못한다는 것을 알 수 있음.\n",
        "\n",
        "이런 경우, 과대적합 방지를 위해 특정 에폭 이후에 훈련을 중지할 수 있음."
      ],
      "metadata": {
        "id": "fpfSTs98CorE"
      }
    },
    {
      "cell_type": "code",
      "source": [
        "model = models.Sequential()\n",
        "model.add(layers.Dense(16, activation='relu', input_shape=(10000,)))\n",
        "model.add(layers.Dense(16, activation='relu'))\n",
        "model.add(layers.Dense(1, activation='sigmoid'))\n",
        "\n",
        "model.compile(optimizer='rmsprop',\n",
        "              loss='binary_crossentropy',\n",
        "              metrics=['accuracy'])\n",
        "\n",
        "model.fit(x_train, y_train, epochs=4, batch_size=512)  # 에폭 수를 줄임.\n",
        "results = model.evaluate(x_test, y_test)\n",
        "\n",
        "results"
      ],
      "metadata": {
        "colab": {
          "base_uri": "https://localhost:8080/"
        },
        "id": "lRjE5z0SDqGg",
        "outputId": "87e08080-bb24-4e7a-8390-a971c3e26648"
      },
      "execution_count": null,
      "outputs": [
        {
          "output_type": "stream",
          "name": "stdout",
          "text": [
            "Epoch 1/4\n",
            "49/49 [==============================] - 1s 14ms/step - loss: 0.4675 - accuracy: 0.8208\n",
            "Epoch 2/4\n",
            "49/49 [==============================] - 1s 14ms/step - loss: 0.2653 - accuracy: 0.9076\n",
            "Epoch 3/4\n",
            "49/49 [==============================] - 1s 14ms/step - loss: 0.2062 - accuracy: 0.9259\n",
            "Epoch 4/4\n",
            "49/49 [==============================] - 1s 14ms/step - loss: 0.1709 - accuracy: 0.9383\n",
            "782/782 [==============================] - 3s 3ms/step - loss: 0.2876 - accuracy: 0.8864\n"
          ]
        },
        {
          "output_type": "execute_result",
          "data": {
            "text/plain": [
              "[0.2875913083553314, 0.8863599896430969]"
            ]
          },
          "metadata": {},
          "execution_count": 17
        }
      ]
    },
    {
      "cell_type": "markdown",
      "source": [
        "*87%의 정확도를 달성한 모습*\n",
        "\n",
        "<br>\n",
        "\n",
        "## 훈련된 모델로 새로운 데이터에 대해 예측하기\n",
        "\n",
        "predict 메서드를 사용해서 리뷰가 긍정적일 확률 예측 가능."
      ],
      "metadata": {
        "id": "Jm1olUQPiHFK"
      }
    },
    {
      "cell_type": "code",
      "source": [
        "model.predict(x_test)"
      ],
      "metadata": {
        "colab": {
          "base_uri": "https://localhost:8080/"
        },
        "id": "LEk5vtgSijLf",
        "outputId": "0b608014-3459-4210-c0ea-73ad5f3292da"
      },
      "execution_count": null,
      "outputs": [
        {
          "output_type": "stream",
          "name": "stdout",
          "text": [
            "782/782 [==============================] - 2s 2ms/step\n"
          ]
        },
        {
          "output_type": "execute_result",
          "data": {
            "text/plain": [
              "array([[0.17640845],\n",
              "       [0.99958915],\n",
              "       [0.8290335 ],\n",
              "       ...,\n",
              "       [0.1219105 ],\n",
              "       [0.07365954],\n",
              "       [0.5360473 ]], dtype=float32)"
            ]
          },
          "metadata": {},
          "execution_count": 19
        }
      ]
    },
    {
      "cell_type": "markdown",
      "source": [
        "*모델이 어떤 샘플에 대해서는 0.9, 0.1 정도로 확신을 가지고 있지만, 어떤 샘플에 대해서는 0.7 정도로 애매한 결과를 보임*\n",
        "\n",
        "<br>\n",
        "\n",
        "## 추가 실험\n",
        "\n",
        "1. (한 개 또는) 세 개의 은닉층을 사용하고 검증과 테스트 정확도에 어떤 영향을 미치는지 확인."
      ],
      "metadata": {
        "id": "oe1pYxCJinfQ"
      }
    },
    {
      "cell_type": "code",
      "source": [
        "from keras import models\n",
        "from keras import layers\n",
        "from keras import losses\n",
        "from keras import metrics\n",
        "from keras import optimizers\n",
        "from tensorflow.keras import optimizers\n",
        "\n",
        "model.compile(optimizer='rmsprop',  # 케라스에 rmsprop, binary_crossentropy, accuracy가 포함되어 있기 때문에 옵티마이저, 손실함수, 측정지표를 문자열로 지정하는 것이 가능.\n",
        "              loss='binary_crossentropy',\n",
        "              metrics=['accuracy'])\n",
        "\n",
        "x_val = x_train[:10000]\n",
        "partial_x_train = x_train[10000:]\n",
        "\n",
        "y_val = y_train[:10000]\n",
        "partial_y_train = y_train[10000:]\n",
        "\n",
        "history = model.fit(partial_x_train,\n",
        "                    partial_y_train,\n",
        "                    epochs=20,\n",
        "                    batch_size=512,\n",
        "                    validation_data=(x_val, y_val))  # validation_data 매개변수에 검증 데이터 전달\n",
        "\n",
        "history_dict = history.history\n",
        "\n",
        "model = models.Sequential()\n",
        "model.add(layers.Dense(16, activation='relu', input_shape=(10000,)))\n",
        "model.add(layers.Dense(16, activation='relu'))  # 은닉층 하나 추가\n",
        "model.add(layers.Dense(16, activation='relu'))\n",
        "model.add(layers.Dense(1, activation='sigmoid'))\n",
        "\n",
        "model.compile(optimizer='rmsprop',\n",
        "              loss='binary_crossentropy',\n",
        "              metrics=['accuracy'])\n",
        "\n",
        "model.fit(x_train, y_train, epochs=4, batch_size=512)  # 에폭 수를 줄임.\n",
        "results = model.evaluate(x_test, y_test)\n",
        "\n",
        "results"
      ],
      "metadata": {
        "colab": {
          "base_uri": "https://localhost:8080/"
        },
        "id": "tQKEwNXYjF-v",
        "outputId": "8cb93af9-414b-497e-a25b-34b2d37572ba"
      },
      "execution_count": null,
      "outputs": [
        {
          "output_type": "stream",
          "name": "stdout",
          "text": [
            "Epoch 1/20\n",
            "30/30 [==============================] - 2s 44ms/step - loss: 0.1471 - accuracy: 0.9456 - val_loss: 0.1453 - val_accuracy: 0.9510\n",
            "Epoch 2/20\n",
            "30/30 [==============================] - 1s 22ms/step - loss: 0.1131 - accuracy: 0.9625 - val_loss: 0.1582 - val_accuracy: 0.9427\n",
            "Epoch 3/20\n",
            "30/30 [==============================] - 1s 22ms/step - loss: 0.0926 - accuracy: 0.9713 - val_loss: 0.1809 - val_accuracy: 0.9321\n",
            "Epoch 4/20\n",
            "30/30 [==============================] - 1s 22ms/step - loss: 0.0805 - accuracy: 0.9757 - val_loss: 0.2118 - val_accuracy: 0.9215\n",
            "Epoch 5/20\n",
            "30/30 [==============================] - 1s 22ms/step - loss: 0.0636 - accuracy: 0.9832 - val_loss: 0.2101 - val_accuracy: 0.9248\n",
            "Epoch 6/20\n",
            "30/30 [==============================] - 1s 22ms/step - loss: 0.0548 - accuracy: 0.9849 - val_loss: 0.2484 - val_accuracy: 0.9144\n",
            "Epoch 7/20\n",
            "30/30 [==============================] - 1s 21ms/step - loss: 0.0435 - accuracy: 0.9899 - val_loss: 0.2569 - val_accuracy: 0.9130\n",
            "Epoch 8/20\n",
            "30/30 [==============================] - 1s 21ms/step - loss: 0.0356 - accuracy: 0.9925 - val_loss: 0.2976 - val_accuracy: 0.9068\n",
            "Epoch 9/20\n",
            "30/30 [==============================] - 1s 23ms/step - loss: 0.0290 - accuracy: 0.9943 - val_loss: 0.3243 - val_accuracy: 0.9027\n",
            "Epoch 10/20\n",
            "30/30 [==============================] - 1s 22ms/step - loss: 0.0235 - accuracy: 0.9959 - val_loss: 0.3329 - val_accuracy: 0.9041\n",
            "Epoch 11/20\n",
            "30/30 [==============================] - 1s 22ms/step - loss: 0.0201 - accuracy: 0.9956 - val_loss: 0.3661 - val_accuracy: 0.9010\n",
            "Epoch 12/20\n",
            "30/30 [==============================] - 1s 22ms/step - loss: 0.0121 - accuracy: 0.9986 - val_loss: 0.4423 - val_accuracy: 0.8904\n",
            "Epoch 13/20\n",
            "30/30 [==============================] - 1s 22ms/step - loss: 0.0132 - accuracy: 0.9986 - val_loss: 0.4316 - val_accuracy: 0.8963\n",
            "Epoch 14/20\n",
            "30/30 [==============================] - 1s 22ms/step - loss: 0.0131 - accuracy: 0.9969 - val_loss: 0.4532 - val_accuracy: 0.8950\n",
            "Epoch 15/20\n",
            "30/30 [==============================] - 1s 25ms/step - loss: 0.0047 - accuracy: 0.9997 - val_loss: 0.4773 - val_accuracy: 0.8929\n",
            "Epoch 16/20\n",
            "30/30 [==============================] - 1s 21ms/step - loss: 0.0075 - accuracy: 0.9988 - val_loss: 0.5096 - val_accuracy: 0.8913\n",
            "Epoch 17/20\n",
            "30/30 [==============================] - 1s 25ms/step - loss: 0.0028 - accuracy: 0.9999 - val_loss: 0.5375 - val_accuracy: 0.8895\n",
            "Epoch 18/20\n",
            "30/30 [==============================] - 1s 25ms/step - loss: 0.0057 - accuracy: 0.9992 - val_loss: 0.5723 - val_accuracy: 0.8875\n",
            "Epoch 19/20\n",
            "30/30 [==============================] - 1s 24ms/step - loss: 0.0018 - accuracy: 1.0000 - val_loss: 0.6029 - val_accuracy: 0.8863\n",
            "Epoch 20/20\n",
            "30/30 [==============================] - 1s 22ms/step - loss: 0.0055 - accuracy: 0.9988 - val_loss: 0.6233 - val_accuracy: 0.8867\n"
          ]
        }
      ]
    },
    {
      "cell_type": "markdown",
      "source": [
        "*86%의 정확도로, 두 개의 은닉층을 사용하였을 때보다는 약간 정확도가 하락한 모습.*\n",
        "\n",
        "<br>\n",
        "\n",
        "2. 층의 은닉 유닛을 추가하거나 줄이기 (32개)"
      ],
      "metadata": {
        "id": "AFwJvo5N-w5g"
      }
    },
    {
      "cell_type": "code",
      "source": [
        "from keras import models\n",
        "from keras import layers\n",
        "from keras import losses\n",
        "from keras import metrics\n",
        "from keras import optimizers\n",
        "from tensorflow.keras import optimizers\n",
        "\n",
        "model.compile(optimizer='rmsprop',  # 케라스에 rmsprop, binary_crossentropy, accuracy가 포함되어 있기 때문에 옵티마이저, 손실함수, 측정지표를 문자열로 지정하는 것이 가능.\n",
        "              loss='binary_crossentropy',\n",
        "              metrics=['accuracy'])\n",
        "\n",
        "x_val = x_train[:10000]\n",
        "partial_x_train = x_train[10000:]\n",
        "\n",
        "y_val = y_train[:10000]\n",
        "partial_y_train = y_train[10000:]\n",
        "\n",
        "history = model.fit(partial_x_train,\n",
        "                    partial_y_train,\n",
        "                    epochs=20,\n",
        "                    batch_size=512,\n",
        "                    validation_data=(x_val, y_val))  # validation_data 매개변수에 검증 데이터 전달\n",
        "\n",
        "history_dict = history.history\n",
        "\n",
        "model = models.Sequential()\n",
        "model.add(layers.Dense(32, activation='relu', input_shape=(10000,)))\n",
        "model.add(layers.Dense(32, activation='relu'))\n",
        "model.add(layers.Dense(1, activation='sigmoid'))\n",
        "\n",
        "model.compile(optimizer='rmsprop',\n",
        "              loss='binary_crossentropy',\n",
        "              metrics=['accuracy'])\n",
        "\n",
        "model.fit(x_train, y_train, epochs=4, batch_size=512)  # 에폭 수를 줄임.\n",
        "results = model.evaluate(x_test, y_test)\n",
        "\n",
        "results"
      ],
      "metadata": {
        "colab": {
          "base_uri": "https://localhost:8080/"
        },
        "id": "dHILjr38_C61",
        "outputId": "9e99b527-cb80-4842-88e4-dbf70e43292b"
      },
      "execution_count": null,
      "outputs": [
        {
          "output_type": "stream",
          "name": "stdout",
          "text": [
            "Epoch 1/20\n",
            "30/30 [==============================] - 2s 49ms/step - loss: 0.1518 - accuracy: 0.9446 - val_loss: 0.1475 - val_accuracy: 0.9490\n",
            "Epoch 2/20\n",
            "30/30 [==============================] - 1s 22ms/step - loss: 0.1179 - accuracy: 0.9616 - val_loss: 0.1649 - val_accuracy: 0.9397\n",
            "Epoch 3/20\n",
            "30/30 [==============================] - 1s 22ms/step - loss: 0.0982 - accuracy: 0.9704 - val_loss: 0.1773 - val_accuracy: 0.9355\n",
            "Epoch 4/20\n",
            "30/30 [==============================] - 1s 22ms/step - loss: 0.0820 - accuracy: 0.9756 - val_loss: 0.2093 - val_accuracy: 0.9207\n",
            "Epoch 5/20\n",
            "30/30 [==============================] - 1s 25ms/step - loss: 0.0666 - accuracy: 0.9813 - val_loss: 0.2170 - val_accuracy: 0.9209\n",
            "Epoch 6/20\n",
            "30/30 [==============================] - 1s 22ms/step - loss: 0.0550 - accuracy: 0.9859 - val_loss: 0.2578 - val_accuracy: 0.9084\n",
            "Epoch 7/20\n",
            "30/30 [==============================] - 1s 22ms/step - loss: 0.0461 - accuracy: 0.9882 - val_loss: 0.2536 - val_accuracy: 0.9157\n",
            "Epoch 8/20\n",
            "30/30 [==============================] - 1s 22ms/step - loss: 0.0363 - accuracy: 0.9921 - val_loss: 0.3080 - val_accuracy: 0.9018\n",
            "Epoch 9/20\n",
            "30/30 [==============================] - 1s 22ms/step - loss: 0.0288 - accuracy: 0.9945 - val_loss: 0.3063 - val_accuracy: 0.9051\n",
            "Epoch 10/20\n",
            "30/30 [==============================] - 1s 25ms/step - loss: 0.0228 - accuracy: 0.9957 - val_loss: 0.3340 - val_accuracy: 0.9038\n",
            "Epoch 11/20\n",
            "30/30 [==============================] - 1s 22ms/step - loss: 0.0206 - accuracy: 0.9957 - val_loss: 0.3567 - val_accuracy: 0.9021\n",
            "Epoch 12/20\n",
            "30/30 [==============================] - 1s 22ms/step - loss: 0.0121 - accuracy: 0.9991 - val_loss: 0.3926 - val_accuracy: 0.8969\n",
            "Epoch 13/20\n",
            "30/30 [==============================] - 1s 25ms/step - loss: 0.0125 - accuracy: 0.9978 - val_loss: 0.4188 - val_accuracy: 0.8956\n",
            "Epoch 14/20\n",
            "30/30 [==============================] - 1s 25ms/step - loss: 0.0065 - accuracy: 0.9998 - val_loss: 0.4701 - val_accuracy: 0.8916\n",
            "Epoch 15/20\n",
            "30/30 [==============================] - 1s 22ms/step - loss: 0.0079 - accuracy: 0.9992 - val_loss: 0.4788 - val_accuracy: 0.8924\n",
            "Epoch 16/20\n",
            "30/30 [==============================] - 1s 22ms/step - loss: 0.0040 - accuracy: 0.9998 - val_loss: 0.5662 - val_accuracy: 0.8832\n",
            "Epoch 17/20\n",
            "30/30 [==============================] - 1s 25ms/step - loss: 0.0087 - accuracy: 0.9981 - val_loss: 0.5453 - val_accuracy: 0.8899\n",
            "Epoch 18/20\n",
            "30/30 [==============================] - 1s 22ms/step - loss: 0.0020 - accuracy: 0.9999 - val_loss: 0.5678 - val_accuracy: 0.8893\n",
            "Epoch 19/20\n",
            "30/30 [==============================] - 1s 22ms/step - loss: 0.0017 - accuracy: 0.9999 - val_loss: 0.6219 - val_accuracy: 0.8849\n",
            "Epoch 20/20\n",
            "30/30 [==============================] - 1s 21ms/step - loss: 0.0048 - accuracy: 0.9983 - val_loss: 0.6466 - val_accuracy: 0.8860\n",
            "Epoch 1/4\n",
            "49/49 [==============================] - 1s 14ms/step - loss: 0.4303 - accuracy: 0.8226\n",
            "Epoch 2/4\n",
            "49/49 [==============================] - 1s 14ms/step - loss: 0.2395 - accuracy: 0.9139\n",
            "Epoch 3/4\n",
            "49/49 [==============================] - 1s 14ms/step - loss: 0.1916 - accuracy: 0.9294\n",
            "Epoch 4/4\n",
            "49/49 [==============================] - 1s 14ms/step - loss: 0.1621 - accuracy: 0.9412\n",
            "782/782 [==============================] - 3s 3ms/step - loss: 0.3938 - accuracy: 0.8512\n"
          ]
        },
        {
          "output_type": "execute_result",
          "data": {
            "text/plain": [
              "[0.3938412070274353, 0.8511999845504761]"
            ]
          },
          "metadata": {},
          "execution_count": 20
        }
      ]
    },
    {
      "cell_type": "markdown",
      "source": [
        "*88% 정도의 비슷한 정확도를 보임.*\n",
        "\n",
        "<br>\n",
        "\n",
        "3. binary_crossentropy 대신에 mse 손실 함수 사용"
      ],
      "metadata": {
        "id": "5XEvjaGz_gux"
      }
    },
    {
      "cell_type": "code",
      "source": [
        "from keras import models\n",
        "from keras import layers\n",
        "from keras import losses\n",
        "from keras import metrics\n",
        "from keras import optimizers\n",
        "from tensorflow.keras import optimizers\n",
        "\n",
        "model.compile(optimizer='rmsprop',  # 케라스에 rmsprop, binary_crossentropy, accuracy가 포함되어 있기 때문에 옵티마이저, 손실함수, 측정지표를 문자열로 지정하는 것이 가능.\n",
        "              loss='binary_crossentropy',\n",
        "              metrics=['accuracy'])\n",
        "\n",
        "x_val = x_train[:10000]\n",
        "partial_x_train = x_train[10000:]\n",
        "\n",
        "y_val = y_train[:10000]\n",
        "partial_y_train = y_train[10000:]\n",
        "\n",
        "history = model.fit(partial_x_train,\n",
        "                    partial_y_train,\n",
        "                    epochs=20,\n",
        "                    batch_size=512,\n",
        "                    validation_data=(x_val, y_val))  # validation_data 매개변수에 검증 데이터 전달\n",
        "\n",
        "history_dict = history.history\n",
        "\n",
        "model = models.Sequential()\n",
        "model.add(layers.Dense(16, activation='relu', input_shape=(10000,)))\n",
        "model.add(layers.Dense(16, activation='relu'))\n",
        "model.add(layers.Dense(1, activation='sigmoid'))\n",
        "\n",
        "model.compile(optimizer='rmsprop',\n",
        "              loss='mse',\n",
        "              metrics=['accuracy'])\n",
        "\n",
        "model.fit(x_train, y_train, epochs=4, batch_size=512)  # 에폭 수를 줄임.\n",
        "results = model.evaluate(x_test, y_test)\n",
        "\n",
        "results"
      ],
      "metadata": {
        "colab": {
          "base_uri": "https://localhost:8080/"
        },
        "id": "XUTqzd5M_reO",
        "outputId": "3104b52b-594c-4742-dc54-900049ae080d"
      },
      "execution_count": null,
      "outputs": [
        {
          "output_type": "stream",
          "name": "stdout",
          "text": [
            "Epoch 1/20\n",
            "30/30 [==============================] - 2s 54ms/step - loss: 0.1403 - accuracy: 0.9507 - val_loss: 0.1366 - val_accuracy: 0.9515\n",
            "Epoch 2/20\n",
            "30/30 [==============================] - 1s 21ms/step - loss: 0.1103 - accuracy: 0.9625 - val_loss: 0.1496 - val_accuracy: 0.9447\n",
            "Epoch 3/20\n",
            "30/30 [==============================] - 1s 22ms/step - loss: 0.0821 - accuracy: 0.9747 - val_loss: 0.2285 - val_accuracy: 0.9147\n",
            "Epoch 4/20\n",
            "30/30 [==============================] - 1s 22ms/step - loss: 0.0723 - accuracy: 0.9774 - val_loss: 0.2226 - val_accuracy: 0.9193\n",
            "Epoch 5/20\n",
            "30/30 [==============================] - 1s 22ms/step - loss: 0.0530 - accuracy: 0.9863 - val_loss: 0.2129 - val_accuracy: 0.9243\n",
            "Epoch 6/20\n",
            "30/30 [==============================] - 1s 22ms/step - loss: 0.0424 - accuracy: 0.9889 - val_loss: 0.2407 - val_accuracy: 0.9189\n",
            "Epoch 7/20\n",
            "30/30 [==============================] - 1s 22ms/step - loss: 0.0350 - accuracy: 0.9902 - val_loss: 0.2721 - val_accuracy: 0.9144\n",
            "Epoch 8/20\n",
            "30/30 [==============================] - 1s 22ms/step - loss: 0.0310 - accuracy: 0.9914 - val_loss: 0.2974 - val_accuracy: 0.9129\n",
            "Epoch 9/20\n",
            "30/30 [==============================] - 1s 22ms/step - loss: 0.0257 - accuracy: 0.9931 - val_loss: 0.3271 - val_accuracy: 0.9082\n",
            "Epoch 10/20\n",
            "30/30 [==============================] - 1s 22ms/step - loss: 0.0116 - accuracy: 0.9989 - val_loss: 0.3908 - val_accuracy: 0.8977\n",
            "Epoch 11/20\n",
            "30/30 [==============================] - 1s 22ms/step - loss: 0.0213 - accuracy: 0.9942 - val_loss: 0.3872 - val_accuracy: 0.9047\n",
            "Epoch 12/20\n",
            "30/30 [==============================] - 1s 22ms/step - loss: 0.0059 - accuracy: 0.9997 - val_loss: 0.4201 - val_accuracy: 0.9008\n",
            "Epoch 13/20\n",
            "30/30 [==============================] - 1s 22ms/step - loss: 0.0164 - accuracy: 0.9959 - val_loss: 0.4560 - val_accuracy: 0.8992\n",
            "Epoch 14/20\n",
            "30/30 [==============================] - 1s 22ms/step - loss: 0.0030 - accuracy: 0.9999 - val_loss: 0.5066 - val_accuracy: 0.8950\n",
            "Epoch 15/20\n",
            "30/30 [==============================] - 1s 22ms/step - loss: 0.0113 - accuracy: 0.9967 - val_loss: 0.5206 - val_accuracy: 0.8967\n",
            "Epoch 16/20\n",
            "30/30 [==============================] - 1s 22ms/step - loss: 0.0017 - accuracy: 0.9999 - val_loss: 0.5428 - val_accuracy: 0.8946\n",
            "Epoch 17/20\n",
            "30/30 [==============================] - 1s 22ms/step - loss: 0.0145 - accuracy: 0.9957 - val_loss: 0.5811 - val_accuracy: 0.8920\n",
            "Epoch 18/20\n",
            "30/30 [==============================] - 1s 22ms/step - loss: 9.6609e-04 - accuracy: 1.0000 - val_loss: 0.5938 - val_accuracy: 0.8920\n",
            "Epoch 19/20\n",
            "30/30 [==============================] - 1s 22ms/step - loss: 7.8988e-04 - accuracy: 1.0000 - val_loss: 0.6247 - val_accuracy: 0.8906\n",
            "Epoch 20/20\n",
            "30/30 [==============================] - 1s 22ms/step - loss: 0.0075 - accuracy: 0.9980 - val_loss: 0.6717 - val_accuracy: 0.8908\n"
          ]
        }
      ]
    },
    {
      "cell_type": "markdown",
      "source": [
        "*역시나 88% 정도의 정확도*\n",
        "\n",
        "4. relu 대신 tanh 활성화 함수 사용"
      ],
      "metadata": {
        "id": "JtA9ob6NB2Gd"
      }
    },
    {
      "cell_type": "code",
      "source": [
        "from keras import models\n",
        "from keras import layers\n",
        "from keras import losses\n",
        "from keras import metrics\n",
        "from keras import optimizers\n",
        "from tensorflow.keras import optimizers\n",
        "\n",
        "model.compile(optimizer='rmsprop',  # 케라스에 rmsprop, binary_crossentropy, accuracy가 포함되어 있기 때문에 옵티마이저, 손실함수, 측정지표를 문자열로 지정하는 것이 가능.\n",
        "              loss='binary_crossentropy',\n",
        "              metrics=['accuracy'])\n",
        "\n",
        "x_val = x_train[:10000]\n",
        "partial_x_train = x_train[10000:]\n",
        "\n",
        "y_val = y_train[:10000]\n",
        "partial_y_train = y_train[10000:]\n",
        "\n",
        "history = model.fit(partial_x_train,\n",
        "                    partial_y_train,\n",
        "                    epochs=20,\n",
        "                    batch_size=512,\n",
        "                    validation_data=(x_val, y_val))  # validation_data 매개변수에 검증 데이터 전달\n",
        "\n",
        "history_dict = history.history\n",
        "\n",
        "model = models.Sequential()\n",
        "model.add(layers.Dense(16, activation='tanh', input_shape=(10000,)))\n",
        "model.add(layers.Dense(16, activation='tanh')) \n",
        "model.add(layers.Dense(1, activation='sigmoid'))\n",
        "\n",
        "model.compile(optimizer='rmsprop',\n",
        "              loss='binary_crossentropy',\n",
        "              metrics=['accuracy'])\n",
        "\n",
        "model.fit(x_train, y_train, epochs=4, batch_size=512)  # 에폭 수를 줄임.\n",
        "results = model.evaluate(x_test, y_test)\n",
        "\n",
        "results"
      ],
      "metadata": {
        "colab": {
          "base_uri": "https://localhost:8080/"
        },
        "id": "2h_wbRVVB8bF",
        "outputId": "6c1b81ba-6e71-432e-a534-b4856214ab37"
      },
      "execution_count": null,
      "outputs": [
        {
          "output_type": "stream",
          "name": "stdout",
          "text": [
            "Epoch 1/20\n",
            "30/30 [==============================] - 2s 49ms/step - loss: 0.5290 - accuracy: 0.7761 - val_loss: 0.4048 - val_accuracy: 0.8529\n",
            "Epoch 2/20\n",
            "30/30 [==============================] - 1s 39ms/step - loss: 0.3113 - accuracy: 0.9005 - val_loss: 0.3050 - val_accuracy: 0.8894\n",
            "Epoch 3/20\n",
            "30/30 [==============================] - 1s 37ms/step - loss: 0.2253 - accuracy: 0.9264 - val_loss: 0.2797 - val_accuracy: 0.8885\n",
            "Epoch 4/20\n",
            "30/30 [==============================] - 1s 37ms/step - loss: 0.1785 - accuracy: 0.9408 - val_loss: 0.2838 - val_accuracy: 0.8863\n",
            "Epoch 5/20\n",
            "30/30 [==============================] - 1s 37ms/step - loss: 0.1437 - accuracy: 0.9550 - val_loss: 0.2865 - val_accuracy: 0.8851\n",
            "Epoch 6/20\n",
            "30/30 [==============================] - 1s 37ms/step - loss: 0.1178 - accuracy: 0.9645 - val_loss: 0.3112 - val_accuracy: 0.8804\n",
            "Epoch 7/20\n",
            "30/30 [==============================] - 1s 37ms/step - loss: 0.0955 - accuracy: 0.9720 - val_loss: 0.3211 - val_accuracy: 0.8825\n",
            "Epoch 8/20\n",
            "30/30 [==============================] - 1s 37ms/step - loss: 0.0781 - accuracy: 0.9791 - val_loss: 0.3617 - val_accuracy: 0.8759\n",
            "Epoch 9/20\n",
            "30/30 [==============================] - 1s 38ms/step - loss: 0.0656 - accuracy: 0.9837 - val_loss: 0.3829 - val_accuracy: 0.8747\n",
            "Epoch 10/20\n",
            "30/30 [==============================] - 1s 37ms/step - loss: 0.0544 - accuracy: 0.9863 - val_loss: 0.3771 - val_accuracy: 0.8770\n",
            "Epoch 11/20\n",
            "30/30 [==============================] - 1s 38ms/step - loss: 0.0428 - accuracy: 0.9906 - val_loss: 0.4085 - val_accuracy: 0.8769\n",
            "Epoch 12/20\n",
            "30/30 [==============================] - 1s 38ms/step - loss: 0.0344 - accuracy: 0.9925 - val_loss: 0.4339 - val_accuracy: 0.8728\n",
            "Epoch 13/20\n",
            "30/30 [==============================] - 1s 37ms/step - loss: 0.0288 - accuracy: 0.9946 - val_loss: 0.4684 - val_accuracy: 0.8720\n",
            "Epoch 14/20\n",
            "30/30 [==============================] - 1s 37ms/step - loss: 0.0207 - accuracy: 0.9969 - val_loss: 0.4940 - val_accuracy: 0.8722\n",
            "Epoch 15/20\n",
            "30/30 [==============================] - 1s 37ms/step - loss: 0.0199 - accuracy: 0.9962 - val_loss: 0.5248 - val_accuracy: 0.8708\n",
            "Epoch 16/20\n",
            "30/30 [==============================] - 1s 37ms/step - loss: 0.0110 - accuracy: 0.9990 - val_loss: 0.5623 - val_accuracy: 0.8680\n",
            "Epoch 17/20\n",
            "30/30 [==============================] - 1s 37ms/step - loss: 0.0130 - accuracy: 0.9977 - val_loss: 0.5875 - val_accuracy: 0.8692\n",
            "Epoch 18/20\n",
            "30/30 [==============================] - 1s 38ms/step - loss: 0.0059 - accuracy: 0.9997 - val_loss: 0.6513 - val_accuracy: 0.8652\n",
            "Epoch 19/20\n",
            "30/30 [==============================] - 1s 48ms/step - loss: 0.0079 - accuracy: 0.9988 - val_loss: 0.6581 - val_accuracy: 0.8693\n",
            "Epoch 20/20\n",
            "30/30 [==============================] - 2s 68ms/step - loss: 0.0031 - accuracy: 0.9998 - val_loss: 0.7029 - val_accuracy: 0.8654\n",
            "Epoch 1/4\n",
            "49/49 [==============================] - 2s 30ms/step - loss: 0.4176 - accuracy: 0.8300\n",
            "Epoch 2/4\n",
            "49/49 [==============================] - 1s 29ms/step - loss: 0.2320 - accuracy: 0.9153\n",
            "Epoch 3/4\n",
            "49/49 [==============================] - 1s 29ms/step - loss: 0.1784 - accuracy: 0.9340\n",
            "Epoch 4/4\n",
            "49/49 [==============================] - 1s 29ms/step - loss: 0.1476 - accuracy: 0.9466\n",
            "782/782 [==============================] - 3s 4ms/step - loss: 0.3206 - accuracy: 0.8800\n"
          ]
        },
        {
          "output_type": "execute_result",
          "data": {
            "text/plain": [
              "[0.3205924332141876, 0.8799600005149841]"
            ]
          },
          "metadata": {},
          "execution_count": 7
        }
      ]
    },
    {
      "cell_type": "markdown",
      "source": [
        "*88% 정도의 정확도*"
      ],
      "metadata": {
        "id": "TK9OGDEGDV2F"
      }
    },
    {
      "cell_type": "markdown",
      "source": [
        "#6.2 순환신경망 (RNN)"
      ],
      "metadata": {
        "id": "vD8FFKtPDdPA"
      }
    },
    {
      "cell_type": "markdown",
      "source": [
        "## 케라스의 순환 층\n",
        "\n",
        "\n",
        "SimpleRNN\n",
        "- 케라스에서 제공하는 기초적인 RNN 구조.\n",
        "- 넘파이 예제처럼 하나의 시퀀스가 아니라 다른 케라스 층과 마찬가지로 시퀀스 배치를 처리. 즉, (timesteps, input_features) 크기가 아니라 (batch_size, timesteps, input_features) 크기의 입력을 받음.\n",
        "- 각 타임스텝의 출력을 모은 전체 시퀀스를 반환하거나, 입력 시퀀스에 대한 마지막 출력만 반환할 수 있음. (return_sequences 매개변수로 선택)"
      ],
      "metadata": {
        "id": "VVIWhJnRDvj-"
      }
    },
    {
      "cell_type": "code",
      "source": [
        "import keras\n",
        "keras.__version__\n",
        "\n",
        "from keras.models import Sequential\n",
        "from keras.layers import Embedding, SimpleRNN\n",
        "\n",
        "model = Sequential()\n",
        "model.add(Embedding(10000, 32))\n",
        "model.add(SimpleRNN(32))\n",
        "model.summary()"
      ],
      "metadata": {
        "colab": {
          "base_uri": "https://localhost:8080/"
        },
        "id": "dwVdI8i7DnYB",
        "outputId": "686e4c29-b34a-423d-baa7-868a415be180"
      },
      "execution_count": null,
      "outputs": [
        {
          "output_type": "stream",
          "name": "stdout",
          "text": [
            "Model: \"sequential\"\n",
            "_________________________________________________________________\n",
            " Layer (type)                Output Shape              Param #   \n",
            "=================================================================\n",
            " embedding (Embedding)       (None, None, 32)          320000    \n",
            "                                                                 \n",
            " simple_rnn (SimpleRNN)      (None, 32)                2080      \n",
            "                                                                 \n",
            "=================================================================\n",
            "Total params: 322,080\n",
            "Trainable params: 322,080\n",
            "Non-trainable params: 0\n",
            "_________________________________________________________________\n"
          ]
        }
      ]
    },
    {
      "cell_type": "code",
      "source": [
        "model = Sequential()\n",
        "model.add(Embedding(10000, 32))\n",
        "model.add(SimpleRNN(32, return_sequences=True))\n",
        "model.add(SimpleRNN(32, return_sequences=True))\n",
        "model.add(SimpleRNN(32, return_sequences=True))\n",
        "model.add(SimpleRNN(32))  # 맨 위 층만 마지막 출력을 반환\n",
        "model.summary()"
      ],
      "metadata": {
        "colab": {
          "base_uri": "https://localhost:8080/"
        },
        "id": "A2pKM4knEbIo",
        "outputId": "327d0a0f-ae37-492b-84d7-b070b9ed37c3"
      },
      "execution_count": null,
      "outputs": [
        {
          "output_type": "stream",
          "name": "stdout",
          "text": [
            "Model: \"sequential_1\"\n",
            "_________________________________________________________________\n",
            " Layer (type)                Output Shape              Param #   \n",
            "=================================================================\n",
            " embedding_1 (Embedding)     (None, None, 32)          320000    \n",
            "                                                                 \n",
            " simple_rnn_1 (SimpleRNN)    (None, None, 32)          2080      \n",
            "                                                                 \n",
            " simple_rnn_2 (SimpleRNN)    (None, None, 32)          2080      \n",
            "                                                                 \n",
            " simple_rnn_3 (SimpleRNN)    (None, None, 32)          2080      \n",
            "                                                                 \n",
            " simple_rnn_4 (SimpleRNN)    (None, 32)                2080      \n",
            "                                                                 \n",
            "=================================================================\n",
            "Total params: 328,320\n",
            "Trainable params: 328,320\n",
            "Non-trainable params: 0\n",
            "_________________________________________________________________\n"
          ]
        }
      ]
    },
    {
      "cell_type": "markdown",
      "source": [
        "*네트워크의 표현력 증가를 위해 여러 개의 순환 층을 차례대로 쌓을 때에는 중간 층들이 전체 출력 시퀀스를 반환하도록 설정.*\n",
        "\n",
        "<br>\n",
        "\n",
        "IMDB 영화 리뷰 분류 문제에 SimpleRNN을 적용."
      ],
      "metadata": {
        "id": "0sZYW5jmEgHV"
      }
    },
    {
      "cell_type": "code",
      "source": [
        "from keras.datasets import imdb\n",
        "from keras_preprocessing.sequence import pad_sequences  # 버전? 오류로 수정\n",
        "\n",
        "max_features = 10000  # 특성으로 사용할 단어의 수\n",
        "maxlen = 500  # 사용할 텍스트의 길이(가장 빈번한 max_features 개의 단어만 사용)\n",
        "batch_size = 32\n",
        "\n",
        "print('데이터 로딩...')\n",
        "(input_train, y_train), (input_test, y_test) = imdb.load_data(num_words=max_features)\n",
        "print(len(input_train), '훈련 시퀀스')\n",
        "print(len(input_test), '테스트 시퀀스')\n",
        "\n",
        "print('시퀀스 패딩 (samples x time)')\n",
        "input_train = pad_sequences(input_train, maxlen=maxlen)  # 버전? 오류로 수정\n",
        "input_test = pad_sequences(input_test, maxlen=maxlen)  # 버전? 오류로 수정\n",
        "print('input_train 크기:', input_train.shape)\n",
        "print('input_test 크기:', input_test.shape)"
      ],
      "metadata": {
        "colab": {
          "base_uri": "https://localhost:8080/"
        },
        "id": "I5Cf2UEFEvTP",
        "outputId": "8f416619-ccf7-4f7e-abad-3079debf1748"
      },
      "execution_count": null,
      "outputs": [
        {
          "output_type": "stream",
          "name": "stdout",
          "text": [
            "데이터 로딩...\n",
            "25000 훈련 시퀀스\n",
            "25000 테스트 시퀀스\n",
            "시퀀스 패딩 (samples x time)\n",
            "input_train 크기: (25000, 500)\n",
            "input_test 크기: (25000, 500)\n"
          ]
        }
      ]
    },
    {
      "cell_type": "markdown",
      "source": [
        "Embedding 층과 SimpleRNN 층을 사용해 간단한 순환 네트워크를 훈련."
      ],
      "metadata": {
        "id": "DQWStYqvIPny"
      }
    },
    {
      "cell_type": "code",
      "source": [
        "from keras.layers import Dense\n",
        "\n",
        "model = Sequential()\n",
        "model.add(Embedding(max_features, 32))\n",
        "model.add(SimpleRNN(32))\n",
        "model.add(Dense(1, activation='sigmoid'))\n",
        "\n",
        "model.compile(optimizer='rmsprop', loss='binary_crossentropy', metrics=['acc'])\n",
        "history = model.fit(input_train, y_train,\n",
        "                    epochs=10,\n",
        "                    batch_size=128,\n",
        "                    validation_split=0.2)"
      ],
      "metadata": {
        "colab": {
          "base_uri": "https://localhost:8080/"
        },
        "id": "hwrhHw34INTc",
        "outputId": "b6d8e79c-3ee9-44a9-f102-d519b78468a5"
      },
      "execution_count": null,
      "outputs": [
        {
          "output_type": "stream",
          "name": "stdout",
          "text": [
            "Epoch 1/10\n",
            "157/157 [==============================] - 82s 504ms/step - loss: 0.6298 - acc: 0.6248 - val_loss: 0.8663 - val_acc: 0.5568\n",
            "Epoch 2/10\n",
            "157/157 [==============================] - 72s 458ms/step - loss: 0.3823 - acc: 0.8404 - val_loss: 0.4059 - val_acc: 0.8194\n",
            "Epoch 3/10\n",
            "157/157 [==============================] - 71s 452ms/step - loss: 0.2802 - acc: 0.8896 - val_loss: 0.3284 - val_acc: 0.8652\n",
            "Epoch 4/10\n",
            "157/157 [==============================] - 70s 448ms/step - loss: 0.2423 - acc: 0.9058 - val_loss: 0.4029 - val_acc: 0.8526\n",
            "Epoch 5/10\n",
            "157/157 [==============================] - 71s 452ms/step - loss: 0.1706 - acc: 0.9381 - val_loss: 0.5030 - val_acc: 0.7760\n",
            "Epoch 6/10\n",
            "157/157 [==============================] - 71s 454ms/step - loss: 0.1193 - acc: 0.9607 - val_loss: 0.4885 - val_acc: 0.8002\n",
            "Epoch 7/10\n",
            "157/157 [==============================] - 72s 460ms/step - loss: 0.0732 - acc: 0.9764 - val_loss: 0.4500 - val_acc: 0.8498\n",
            "Epoch 8/10\n",
            "157/157 [==============================] - 72s 459ms/step - loss: 0.0511 - acc: 0.9847 - val_loss: 0.6020 - val_acc: 0.7866\n",
            "Epoch 9/10\n",
            "157/157 [==============================] - 71s 454ms/step - loss: 0.0346 - acc: 0.9893 - val_loss: 0.5249 - val_acc: 0.8492\n",
            "Epoch 10/10\n",
            "157/157 [==============================] - 70s 446ms/step - loss: 0.0223 - acc: 0.9937 - val_loss: 0.5858 - val_acc: 0.8510\n"
          ]
        }
      ]
    },
    {
      "cell_type": "markdown",
      "source": [
        "학습 완료. 이제 훈련과 검증의 손실과 정확도를 그래프로 그려봄. (대략 73~85%의 정확도)"
      ],
      "metadata": {
        "id": "7DHniLamJAfL"
      }
    },
    {
      "cell_type": "code",
      "source": [
        "import matplotlib.pyplot as plt\n",
        "\n",
        "acc = history.history['acc']\n",
        "val_acc = history.history['val_acc']\n",
        "loss = history.history['loss']\n",
        "val_loss = history.history['val_loss']\n",
        "\n",
        "epochs = range(1, len(acc) + 1)\n",
        "\n",
        "plt.plot(epochs, acc, 'bo', label='Training acc')\n",
        "plt.plot(epochs, val_acc, 'b', label='Validation acc')\n",
        "plt.title('Training and validation accuracy')\n",
        "plt.legend()\n",
        "\n",
        "plt.figure()\n",
        "\n",
        "plt.plot(epochs, loss, 'bo', label='Training loss')\n",
        "plt.plot(epochs, val_loss, 'b', label='Validation loss')\n",
        "plt.title('Training and validation loss')\n",
        "plt.legend()\n",
        "\n",
        "plt.show()"
      ],
      "metadata": {
        "colab": {
          "base_uri": "https://localhost:8080/",
          "height": 545
        },
        "id": "dbdUvrilJFlf",
        "outputId": "66e62e49-a0f8-45ec-fd4e-dfa1acc31c3b"
      },
      "execution_count": null,
      "outputs": [
        {
          "output_type": "display_data",
          "data": {
            "text/plain": [
              "<Figure size 432x288 with 1 Axes>"
            ],
            "image/png": "[encoded data removed]"
          },
          "metadata": {
            "needs_background": "light"
          }
        },
        {
          "output_type": "display_data",
          "data": {
            "text/plain": [
              "<Figure size 432x288 with 1 Axes>"
            ],
            "image/png": "[encoded data removed]"
          },
          "metadata": {
            "needs_background": "light"
          }
        }
      ]
    },
    {
      "cell_type": "markdown",
      "source": [
        "지금 이 순환 네트워크는 3.4의 신경망 모델보다 성능이 높지는 않음. 왜냐하면 전체 시퀀스가 아니라 처음 500개의 단어만 입력에 사용했기 때문.(얻은 정보가 적음) 그리고 다른 이유는 SimpleRNN이 텍스트와 같이 긴 시퀀스를 처리하는 데에는 적합하지 않기 때문.\n",
        "\n",
        "<br>\n",
        "\n",
        "## 케라스를 사용한 LSTM 예제\n",
        "\n",
        "이번에는 LSTM 층으로 모델을 구성하고 IMDB 데이터에서 훈련.\n",
        "\n",
        "이 네트워크는 SimpleRNN 모델과 비슷. LSTM 층은 출력 차원만 지정하고 다른 매개변수들은 케라스의 기본값으로 남겨둠."
      ],
      "metadata": {
        "id": "kzWpSmknJIJ8"
      }
    },
    {
      "cell_type": "code",
      "source": [
        "from keras.layers import LSTM\n",
        "\n",
        "model = Sequential()\n",
        "model.add(Embedding(max_features, 32))\n",
        "model.add(LSTM(32))\n",
        "model.add(Dense(1, activation='sigmoid'))\n",
        "\n",
        "model.compile(optimizer='rmsprop',\n",
        "              loss='binary_crossentropy',\n",
        "              metrics=['acc'])\n",
        "history = model.fit(input_train, y_train,\n",
        "                    epochs=10,\n",
        "                    batch_size=128,\n",
        "                    validation_split=0.2)"
      ],
      "metadata": {
        "colab": {
          "base_uri": "https://localhost:8080/"
        },
        "id": "WHK6ueI3K0UU",
        "outputId": "b45ae325-aa96-4b89-95b8-80337600f041"
      },
      "execution_count": null,
      "outputs": [
        {
          "output_type": "stream",
          "name": "stdout",
          "text": [
            "Epoch 1/10\n",
            "157/157 [==============================] - 9s 27ms/step - loss: 0.5419 - acc: 0.7503 - val_loss: 0.4229 - val_acc: 0.8444\n",
            "Epoch 2/10\n",
            "157/157 [==============================] - 4s 23ms/step - loss: 0.3160 - acc: 0.8806 - val_loss: 0.3553 - val_acc: 0.8478\n",
            "Epoch 3/10\n",
            "157/157 [==============================] - 4s 23ms/step - loss: 0.2402 - acc: 0.9100 - val_loss: 0.2900 - val_acc: 0.8890\n",
            "Epoch 4/10\n",
            "157/157 [==============================] - 3s 21ms/step - loss: 0.2034 - acc: 0.9248 - val_loss: 0.3203 - val_acc: 0.8702\n",
            "Epoch 5/10\n",
            "157/157 [==============================] - 3s 21ms/step - loss: 0.1801 - acc: 0.9348 - val_loss: 0.3726 - val_acc: 0.8554\n",
            "Epoch 6/10\n",
            "157/157 [==============================] - 3s 21ms/step - loss: 0.1638 - acc: 0.9409 - val_loss: 0.4304 - val_acc: 0.8502\n",
            "Epoch 7/10\n",
            "157/157 [==============================] - 3s 21ms/step - loss: 0.1483 - acc: 0.9470 - val_loss: 0.3814 - val_acc: 0.8782\n",
            "Epoch 8/10\n",
            "157/157 [==============================] - 3s 21ms/step - loss: 0.1347 - acc: 0.9530 - val_loss: 0.4078 - val_acc: 0.8690\n",
            "Epoch 9/10\n",
            "157/157 [==============================] - 3s 21ms/step - loss: 0.1270 - acc: 0.9551 - val_loss: 0.3815 - val_acc: 0.8592\n",
            "Epoch 10/10\n",
            "157/157 [==============================] - 3s 21ms/step - loss: 0.1183 - acc: 0.9597 - val_loss: 0.3637 - val_acc: 0.8714\n"
          ]
        }
      ]
    },
    {
      "cell_type": "markdown",
      "source": [
        "*84~88% 정도의 정확도*"
      ],
      "metadata": {
        "id": "zfNPrniBNWZE"
      }
    },
    {
      "cell_type": "code",
      "source": [
        "acc = history.history['acc']\n",
        "val_acc = history.history['val_acc']\n",
        "loss = history.history['loss']\n",
        "val_loss = history.history['val_loss']\n",
        "\n",
        "epochs = range(1, len(acc) + 1)\n",
        "\n",
        "plt.plot(epochs, acc, 'bo', label='Training acc')\n",
        "plt.plot(epochs, val_acc, 'b', label='Validation acc')\n",
        "plt.title('Training and validation accuracy')\n",
        "plt.legend()\n",
        "\n",
        "plt.figure()\n",
        "\n",
        "plt.plot(epochs, loss, 'bo', label='Training loss')\n",
        "plt.plot(epochs, val_loss, 'b', label='Validation loss')\n",
        "plt.title('Training and validation loss')\n",
        "plt.legend()\n",
        "\n",
        "plt.show()"
      ],
      "metadata": {
        "colab": {
          "base_uri": "https://localhost:8080/",
          "height": 545
        },
        "id": "li1-jn8wK1ko",
        "outputId": "88b64755-2da7-4243-c51b-730b2122d095"
      },
      "execution_count": null,
      "outputs": [
        {
          "output_type": "display_data",
          "data": {
            "text/plain": [
              "<Figure size 432x288 with 1 Axes>"
            ],
            "image/png": "[encoded data removed]"
          },
          "metadata": {
            "needs_background": "light"
          }
        },
        {
          "output_type": "display_data",
          "data": {
            "text/plain": [
              "<Figure size 432x288 with 1 Axes>"
            ],
            "image/png": "[encoded data removed]"
          },
          "metadata": {
            "needs_background": "light"
          }
        }
      ]
    },
    {
      "cell_type": "markdown",
      "source": [
        "# 6.4 컨브넷 (Convnet)\n",
        "\n",
        "## 1D 컨브넷 구현\n",
        "\n",
        "케라스에서 1D 컨브넷은 Conv1D 층을 사용하여 구현. 이는 (samples, time, features) 크기의 3D 텐서를 입력받고 비슷한 형태의 3D 텐서를 반환. 합성곱 윈도우는 시간 축의 1D 윈도우, 즉 입력 텐서의 두 번째 축.\n",
        "\n",
        "두 개의 층으로 된 1D 컨브넷을 만들어 IMDB 감성 분류에 적용."
      ],
      "metadata": {
        "id": "tlamymE_2yPK"
      }
    },
    {
      "cell_type": "code",
      "source": [
        "from keras.datasets import imdb\n",
        "from keras.preprocessing import sequence\n",
        "from keras_preprocessing.sequence import pad_sequences\n",
        "\n",
        "max_features = 10000  # 특성으로 사용할 단어의 수\n",
        "max_len = 500  # 사용할 텍스트의 길이(가장 빈번한 max_features 개의 단어만 사용)\n",
        "\n",
        "print('데이터 로드...')\n",
        "(x_train, y_train), (x_test, y_test) = imdb.load_data(num_words=max_features)\n",
        "print(len(x_train), '훈련 시퀀스')\n",
        "print(len(x_test), '테스트 시퀀스')\n",
        "\n",
        "print('시퀀스 패딩 (samples x time)')\n",
        "x_train = pad_sequences(x_train, maxlen=max_len)\n",
        "x_test = pad_sequences(x_test, maxlen=max_len)\n",
        "print('x_train 크기:', x_train.shape)\n",
        "print('x_test 크기:', x_test.shape)"
      ],
      "metadata": {
        "colab": {
          "base_uri": "https://localhost:8080/"
        },
        "id": "Xe8ccHPP4OaG",
        "outputId": "fb65167d-be2a-4405-a7f0-f17410da7236"
      },
      "execution_count": null,
      "outputs": [
        {
          "output_type": "stream",
          "name": "stdout",
          "text": [
            "데이터 로드...\n",
            "25000 훈련 시퀀스\n",
            "25000 테스트 시퀀스\n",
            "시퀀스 패딩 (samples x time)\n",
            "x_train 크기: (25000, 500)\n",
            "x_test 크기: (25000, 500)\n"
          ]
        }
      ]
    },
    {
      "cell_type": "markdown",
      "source": [
        "Conv1D와 MaxPooling1D 층을 쌓고 전역 풀링 층이나 Flatten 층으로 마침. 1D 컨브넷에 크기 7이나 9의 합성곱 윈도우를 사용 가능."
      ],
      "metadata": {
        "id": "meJeswPm4RP2"
      }
    },
    {
      "cell_type": "code",
      "source": [
        "from keras.models import Sequential\n",
        "from keras import layers\n",
        "from keras.optimizers import RMSprop\n",
        "\n",
        "model = Sequential()\n",
        "model.add(layers.Embedding(max_features, 128, input_length=max_len))\n",
        "model.add(layers.Conv1D(32, 7, activation='relu'))\n",
        "model.add(layers.MaxPooling1D(5))\n",
        "model.add(layers.Conv1D(32, 7, activation='relu'))\n",
        "model.add(layers.GlobalMaxPooling1D())\n",
        "model.add(layers.Dense(1))\n",
        "\n",
        "model.summary()\n",
        "\n",
        "model.compile(optimizer=RMSprop(lr=1e-4),\n",
        "              loss='binary_crossentropy',\n",
        "              metrics=['acc'])\n",
        "history = model.fit(x_train, y_train,\n",
        "                    epochs=10,\n",
        "                    batch_size=128,\n",
        "                    validation_split=0.2)"
      ],
      "metadata": {
        "colab": {
          "base_uri": "https://localhost:8080/"
        },
        "id": "xiYSHw_Z4gfM",
        "outputId": "eacfa995-a50e-4b7e-cd37-84a40f69d96f"
      },
      "execution_count": null,
      "outputs": [
        {
          "output_type": "stream",
          "name": "stdout",
          "text": [
            "Model: \"sequential_5\"\n",
            "_________________________________________________________________\n",
            " Layer (type)                Output Shape              Param #   \n",
            "=================================================================\n",
            " embedding_4 (Embedding)     (None, 500, 128)          1280000   \n",
            "                                                                 \n",
            " conv1d (Conv1D)             (None, 494, 32)           28704     \n",
            "                                                                 \n",
            " max_pooling1d (MaxPooling1D  (None, 98, 32)           0         \n",
            " )                                                               \n",
            "                                                                 \n",
            " conv1d_1 (Conv1D)           (None, 92, 32)            7200      \n",
            "                                                                 \n",
            " global_max_pooling1d (Globa  (None, 32)               0         \n",
            " lMaxPooling1D)                                                  \n",
            "                                                                 \n",
            " dense_2 (Dense)             (None, 1)                 33        \n",
            "                                                                 \n",
            "=================================================================\n",
            "Total params: 1,315,937\n",
            "Trainable params: 1,315,937\n",
            "Non-trainable params: 0\n",
            "_________________________________________________________________\n",
            "Epoch 1/10\n"
          ]
        },
        {
          "output_type": "stream",
          "name": "stderr",
          "text": [
            "/usr/local/lib/python3.7/dist-packages/keras/optimizers/optimizer_v2/rmsprop.py:135: UserWarning: The `lr` argument is deprecated, use `learning_rate` instead.\n",
            "  super(RMSprop, self).__init__(name, **kwargs)\n"
          ]
        },
        {
          "output_type": "stream",
          "name": "stdout",
          "text": [
            "157/157 [==============================] - 7s 14ms/step - loss: 0.7008 - acc: 0.5397 - val_loss: 0.6826 - val_acc: 0.5776\n",
            "Epoch 2/10\n",
            "157/157 [==============================] - 2s 13ms/step - loss: 0.6605 - acc: 0.6784 - val_loss: 0.6599 - val_acc: 0.6582\n",
            "Epoch 3/10\n",
            "157/157 [==============================] - 2s 10ms/step - loss: 0.6113 - acc: 0.7699 - val_loss: 0.5973 - val_acc: 0.7180\n",
            "Epoch 4/10\n",
            "157/157 [==============================] - 2s 10ms/step - loss: 0.5059 - acc: 0.8165 - val_loss: 0.4824 - val_acc: 0.7886\n",
            "Epoch 5/10\n",
            "157/157 [==============================] - 2s 10ms/step - loss: 0.3978 - acc: 0.8490 - val_loss: 0.4246 - val_acc: 0.8408\n",
            "Epoch 6/10\n",
            "157/157 [==============================] - 2s 10ms/step - loss: 0.3326 - acc: 0.8784 - val_loss: 0.4041 - val_acc: 0.8540\n",
            "Epoch 7/10\n",
            "157/157 [==============================] - 2s 10ms/step - loss: 0.2931 - acc: 0.8964 - val_loss: 0.4014 - val_acc: 0.8634\n",
            "Epoch 8/10\n",
            "157/157 [==============================] - 2s 10ms/step - loss: 0.2629 - acc: 0.9087 - val_loss: 0.4112 - val_acc: 0.8664\n",
            "Epoch 9/10\n",
            "157/157 [==============================] - 2s 10ms/step - loss: 0.2388 - acc: 0.9200 - val_loss: 0.4284 - val_acc: 0.8716\n",
            "Epoch 10/10\n",
            "157/157 [==============================] - 2s 10ms/step - loss: 0.2166 - acc: 0.9294 - val_loss: 0.4537 - val_acc: 0.8696\n"
          ]
        }
      ]
    },
    {
      "cell_type": "markdown",
      "source": [
        "*검증 정확도는 LSTM보다 조금 낮지만 CPU나 GPU에서 더 빠르게 실행됨. 단어 수준의 감성 분류 작업에서 순환 네트워크를 대신해 빠르고 경제적인 1D 컨브넷을 사용할 수 있음을 보여줌.*"
      ],
      "metadata": {
        "id": "7UdkhXXf4iJD"
      }
    },
    {
      "cell_type": "code",
      "source": [
        "import matplotlib.pyplot as plt\n",
        "\n",
        "acc = history.history['acc']\n",
        "val_acc = history.history['val_acc']\n",
        "loss = history.history['loss']\n",
        "val_loss = history.history['val_loss']\n",
        "\n",
        "epochs = range(1, len(acc) + 1)\n",
        "\n",
        "plt.plot(epochs, acc, 'bo', label='Training acc')\n",
        "plt.plot(epochs, val_acc, 'b', label='Validation acc')\n",
        "plt.title('Training and validation accuracy')\n",
        "plt.legend()\n",
        "\n",
        "plt.figure()\n",
        "\n",
        "plt.plot(epochs, loss, 'bo', label='Training loss')\n",
        "plt.plot(epochs, val_loss, 'b', label='Validation loss')\n",
        "plt.title('Training and validation loss')\n",
        "plt.legend()\n",
        "\n",
        "plt.show()"
      ],
      "metadata": {
        "colab": {
          "base_uri": "https://localhost:8080/",
          "height": 545
        },
        "id": "BIGz0zCb4wPH",
        "outputId": "7f3bea64-1cd7-4615-a977-843fb268c001"
      },
      "execution_count": null,
      "outputs": [
        {
          "output_type": "display_data",
          "data": {
            "text/plain": [
              "<Figure size 432x288 with 1 Axes>"
            ],
            "image/png": "[encoded data removed]"
          },
          "metadata": {
            "needs_background": "light"
          }
        },
        {
          "output_type": "display_data",
          "data": {
            "text/plain": [
              "<Figure size 432x288 with 1 Axes>"
            ],
            "image/png": "[encoded data removed]"
          },
          "metadata": {
            "needs_background": "light"
          }
        }
      ]
    },
    {
      "cell_type": "markdown",
      "source": [
        "## CNN과 RNN을 연결하여 긴 시퀀스를 처리\n",
        "\n",
        "1D 컨브넷이 입력 패치를 독립적으로 처리하기에 RNN과는 달리 타임스텝의 순서에 민감하지 않음.\n",
        "\n",
        "순서를 감지해야 좋은 예측을 할 수 있는 온도 예측 문제에 1D 컨브넷을 적용하여 확인."
      ],
      "metadata": {
        "id": "agazwDT94y1q"
      }
    },
    {
      "cell_type": "code",
      "source": [
        "import os\n",
        "import numpy as np\n",
        "\n",
        "data_dir = './'\n",
        "fname = os.path.join(data_dir, 'jena_climate_2009_2016.csv')\n",
        "\n",
        "f = open(fname)\n",
        "data = f.read()\n",
        "f.close()\n",
        "\n",
        "lines = data.split('\\n')\n",
        "header = lines[0].split(',')\n",
        "lines = lines[1:]\n",
        "\n",
        "float_data = np.zeros((len(lines), len(header) - 1))\n",
        "for i, line in enumerate(lines):\n",
        "    values = [float(x) for x in line.split(',')[1:]]\n",
        "    float_data[i, :] = values\n",
        "    \n",
        "mean = float_data[:200000].mean(axis=0)\n",
        "float_data -= mean\n",
        "std = float_data[:200000].std(axis=0)\n",
        "float_data /= std\n",
        "\n",
        "def generator(data, lookback, delay, min_index, max_index,\n",
        "              shuffle=False, batch_size=128, step=6):\n",
        "    if max_index is None:\n",
        "        max_index = len(data) - delay - 1\n",
        "    i = min_index + lookback\n",
        "    while 1:\n",
        "        if shuffle:\n",
        "            rows = np.random.randint(\n",
        "                min_index + lookback, max_index, size=batch_size)\n",
        "        else:\n",
        "            if i + batch_size >= max_index:\n",
        "                i = min_index + lookback\n",
        "            rows = np.arange(i, min(i + batch_size, max_index))\n",
        "            i += len(rows)\n",
        "\n",
        "        samples = np.zeros((len(rows),\n",
        "                           lookback // step,\n",
        "                           data.shape[-1]))\n",
        "        targets = np.zeros((len(rows),))\n",
        "        for j, row in enumerate(rows):\n",
        "            indices = range(rows[j] - lookback, rows[j], step)\n",
        "            samples[j] = data[indices]\n",
        "            targets[j] = data[rows[j] + delay][1]\n",
        "        yield samples, targets\n",
        "      \n",
        "lookback = 1440\n",
        "step = 6\n",
        "delay = 144\n",
        "batch_size = 128\n",
        "\n",
        "train_gen = generator(float_data,\n",
        "                      lookback=lookback,\n",
        "                      delay=delay,\n",
        "                      min_index=0,\n",
        "                      max_index=200000,\n",
        "                      shuffle=True,\n",
        "                      step=step, \n",
        "                      batch_size=batch_size)\n",
        "val_gen = generator(float_data,\n",
        "                    lookback=lookback,\n",
        "                    delay=delay,\n",
        "                    min_index=200001,\n",
        "                    max_index=300000,\n",
        "                    step=step,\n",
        "                    batch_size=batch_size)\n",
        "test_gen = generator(float_data,\n",
        "                     lookback=lookback,\n",
        "                     delay=delay,\n",
        "                     min_index=300001,\n",
        "                     max_index=None,\n",
        "                     step=step,\n",
        "                     batch_size=batch_size)\n",
        "\n",
        "# 전체 검증 세트를 순회하기 위해 val_gen에서 추출할 횟수\n",
        "val_steps = (300000 - 200001 - lookback) // batch_size\n",
        "\n",
        "# 전체 테스트 세트를 순회하기 위해 test_gen에서 추출할 횟수\n",
        "test_steps = (len(float_data) - 300001 - lookback) // batch_size"
      ],
      "metadata": {
        "id": "k05q3pBI5Jgs"
      },
      "execution_count": null,
      "outputs": []
    },
    {
      "cell_type": "code",
      "source": [
        "from keras.models import Sequential\n",
        "from keras import layers\n",
        "from keras.optimizers import RMSprop\n",
        "\n",
        "model = Sequential()\n",
        "model.add(layers.Conv1D(32, 5, activation='relu',\n",
        "                        input_shape=(None, float_data.shape[-1])))\n",
        "model.add(layers.MaxPooling1D(3))\n",
        "model.add(layers.Conv1D(32, 5, activation='relu'))\n",
        "model.add(layers.MaxPooling1D(3))\n",
        "model.add(layers.Conv1D(32, 5, activation='relu'))\n",
        "model.add(layers.GlobalMaxPooling1D())\n",
        "model.add(layers.Dense(1))\n",
        "\n",
        "model.compile(optimizer=RMSprop(), loss='mae')\n",
        "history = model.fit_generator(train_gen,\n",
        "                              steps_per_epoch=500,\n",
        "                              epochs=20,\n",
        "                              validation_data=val_gen,\n",
        "                              validation_steps=val_steps)"
      ],
      "metadata": {
        "colab": {
          "base_uri": "https://localhost:8080/"
        },
        "id": "7ZUZiw1M5PQ9",
        "outputId": "89ccb679-371c-43d6-fabb-ccb421454d32"
      },
      "execution_count": null,
      "outputs": [
        {
          "output_type": "stream",
          "name": "stdout",
          "text": [
            "Epoch 1/20\n"
          ]
        },
        {
          "output_type": "stream",
          "name": "stderr",
          "text": [
            "/usr/local/lib/python3.7/dist-packages/ipykernel_launcher.py:20: UserWarning: `Model.fit_generator` is deprecated and will be removed in a future version. Please use `Model.fit`, which supports generators.\n"
          ]
        },
        {
          "output_type": "stream",
          "name": "stdout",
          "text": [
            "500/500 [==============================] - 17s 31ms/step - loss: 0.4165 - val_loss: 0.4279\n",
            "Epoch 2/20\n",
            "500/500 [==============================] - 12s 25ms/step - loss: 0.3605 - val_loss: 0.4327\n",
            "Epoch 3/20\n",
            "500/500 [==============================] - 16s 33ms/step - loss: 0.3371 - val_loss: 0.4527\n",
            "Epoch 4/20\n",
            "500/500 [==============================] - 16s 32ms/step - loss: 0.3240 - val_loss: 0.4345\n",
            "Epoch 5/20\n",
            "500/500 [==============================] - 16s 31ms/step - loss: 0.3093 - val_loss: 0.4557\n",
            "Epoch 6/20\n",
            "500/500 [==============================] - 17s 35ms/step - loss: 0.3006 - val_loss: 0.4432\n",
            "Epoch 7/20\n",
            "500/500 [==============================] - 13s 27ms/step - loss: 0.2951 - val_loss: 0.4630\n",
            "Epoch 8/20\n",
            "500/500 [==============================] - 11s 22ms/step - loss: 0.2874 - val_loss: 0.4674\n",
            "Epoch 9/20\n",
            "500/500 [==============================] - 11s 22ms/step - loss: 0.2811 - val_loss: 0.4585\n",
            "Epoch 10/20\n",
            "500/500 [==============================] - 10s 20ms/step - loss: 0.2768 - val_loss: 0.4918\n",
            "Epoch 11/20\n",
            "500/500 [==============================] - 10s 19ms/step - loss: 0.2732 - val_loss: 0.4834\n",
            "Epoch 12/20\n",
            "500/500 [==============================] - 10s 20ms/step - loss: 0.2681 - val_loss: 0.4642\n",
            "Epoch 13/20\n",
            "500/500 [==============================] - 10s 20ms/step - loss: 0.2612 - val_loss: 0.4703\n",
            "Epoch 14/20\n",
            "500/500 [==============================] - 10s 20ms/step - loss: 0.2600 - val_loss: 0.4750\n",
            "Epoch 15/20\n",
            "500/500 [==============================] - 10s 20ms/step - loss: 0.2564 - val_loss: 0.4746\n",
            "Epoch 16/20\n",
            "500/500 [==============================] - 10s 19ms/step - loss: 0.2556 - val_loss: 0.4866\n",
            "Epoch 17/20\n",
            "500/500 [==============================] - 10s 20ms/step - loss: 0.2510 - val_loss: 0.4770\n",
            "Epoch 18/20\n",
            "500/500 [==============================] - 10s 19ms/step - loss: 0.2498 - val_loss: 0.4912\n",
            "Epoch 19/20\n",
            "500/500 [==============================] - 11s 21ms/step - loss: 0.2470 - val_loss: 0.4976\n",
            "Epoch 20/20\n",
            "500/500 [==============================] - 10s 20ms/step - loss: 0.2452 - val_loss: 0.4771\n"
          ]
        }
      ]
    },
    {
      "cell_type": "code",
      "source": [
        "loss = history.history['loss']\n",
        "val_loss = history.history['val_loss']\n",
        "\n",
        "epochs = range(1, len(loss) + 1)\n",
        "\n",
        "plt.figure()\n",
        "\n",
        "plt.plot(epochs, loss, 'bo', label='Training loss')\n",
        "plt.plot(epochs, val_loss, 'b', label='Validation loss')\n",
        "plt.title('Training and validation loss')\n",
        "plt.legend()\n",
        "\n",
        "plt.show()"
      ],
      "metadata": {
        "colab": {
          "base_uri": "https://localhost:8080/",
          "height": 281
        },
        "id": "IqA6aMtl5V7m",
        "outputId": "069cce16-5f1a-4270-baba-47e0bfbbe65f"
      },
      "execution_count": null,
      "outputs": [
        {
          "output_type": "display_data",
          "data": {
            "text/plain": [
              "<Figure size 432x288 with 1 Axes>"
            ],
            "image/png": "[encoded data removed]"
          },
          "metadata": {
            "needs_background": "light"
          }
        }
      ]
    },
    {
      "cell_type": "markdown",
      "source": [
        "*검증 MAE는 0.4대에 머물리 있음, 즉 작은 컨브넷을 사용했을때 그렇게 정확하지 않음. 이는 컨브넷이 입력 시계열의 패턴을 보고 시간 축의 위치를 고려하지 않기 때문.*\n",
        "\n",
        "컨브넷의 속도와 경량을 RNN의 순서 감지 능력과 결합하는 한 가지 전략은 1D 컨브넷을 RNN 이전에 전처리 단계로 이용하는 것.\n",
        "\n",
        "이를 온도 예측 문제에 적용. 이 전략은 훨씬 긴 시퀀스를 다룰 수 있으므로 더 오래 전 데이터를 다루거나 시계열 데이터를 더 촘촘하게 바라볼 수 있음.\n",
        "\n",
        "우선 제너레이터 함수를 다시 사용."
      ],
      "metadata": {
        "id": "WiUk3TB05XcT"
      }
    },
    {
      "cell_type": "code",
      "source": [
        "step = 3\n",
        "lookback = 1440 \n",
        "delay = 144\n",
        "train_gen = generator(float_data,\n",
        "                      lookback=lookback,\n",
        "                      delay=delay,\n",
        "                      min_index=0,\n",
        "                      max_index=200000,\n",
        "                      shuffle=True,\n",
        "                      step=step)\n",
        "val_gen = generator(float_data,\n",
        "                    lookback=lookback,\n",
        "                    delay=delay,\n",
        "                    min_index=200001,\n",
        "                    max_index=300000,\n",
        "                    step=step)\n",
        "test_gen = generator(float_data,\n",
        "                     lookback=lookback,\n",
        "                     delay=delay,\n",
        "                     min_index=300001,\n",
        "                     max_index=None,\n",
        "                     step=step)\n",
        "val_steps = (300000 - 200001 - lookback) // 128\n",
        "test_steps = (len(float_data) - 300001 - lookback) // 128"
      ],
      "metadata": {
        "id": "3ch9iWC653AU"
      },
      "execution_count": null,
      "outputs": []
    },
    {
      "cell_type": "markdown",
      "source": [
        "모델에 두 개의 Conv1D 층 다음에 GRU 층을 놓음."
      ],
      "metadata": {
        "id": "Gzt_vBNy56FC"
      }
    },
    {
      "cell_type": "code",
      "source": [
        "from keras.models import Sequential\n",
        "from keras.optimizers import RMSprop\n",
        "\n",
        "model = Sequential()\n",
        "model.add(layers.Conv1D(32, 5, activation='relu',\n",
        "                        input_shape=(None, float_data.shape[-1])))\n",
        "model.add(layers.MaxPooling1D(3))\n",
        "model.add(layers.Conv1D(32, 5, activation='relu'))\n",
        "model.add(layers.GRU(32, dropout=0.1, recurrent_dropout=0.5))\n",
        "model.add(layers.Dense(1))\n",
        "\n",
        "model.summary()\n",
        "\n",
        "model.compile(optimizer=RMSprop(), loss='mae')\n",
        "history = model.fit_generator(train_gen,\n",
        "                              steps_per_epoch=500,\n",
        "                              epochs=20,\n",
        "                              validation_data=val_gen,\n",
        "                              validation_steps=val_steps)"
      ],
      "metadata": {
        "colab": {
          "base_uri": "https://localhost:8080/"
        },
        "id": "rf2McTM15-ol",
        "outputId": "6dbe3906-e818-49e3-ec34-e3f0897eb40d"
      },
      "execution_count": null,
      "outputs": [
        {
          "output_type": "stream",
          "name": "stdout",
          "text": [
            "Model: \"sequential_5\"\n",
            "_________________________________________________________________\n",
            " Layer (type)                Output Shape              Param #   \n",
            "=================================================================\n",
            " conv1d_8 (Conv1D)           (None, None, 32)          2272      \n",
            "                                                                 \n",
            " max_pooling1d_4 (MaxPooling  (None, None, 32)         0         \n",
            " 1D)                                                             \n",
            "                                                                 \n",
            " conv1d_9 (Conv1D)           (None, None, 32)          5152      \n",
            "                                                                 \n",
            " gru_4 (GRU)                 (None, 32)                6336      \n",
            "                                                                 \n",
            " dense_7 (Dense)             (None, 1)                 33        \n",
            "                                                                 \n",
            "=================================================================\n",
            "Total params: 13,793\n",
            "Trainable params: 13,793\n",
            "Non-trainable params: 0\n",
            "_________________________________________________________________\n",
            "Epoch 1/20\n"
          ]
        },
        {
          "output_type": "stream",
          "name": "stderr",
          "text": [
            "/usr/local/lib/python3.7/dist-packages/ipykernel_launcher.py:19: UserWarning: `Model.fit_generator` is deprecated and will be removed in a future version. Please use `Model.fit`, which supports generators.\n"
          ]
        },
        {
          "output_type": "stream",
          "name": "stdout",
          "text": [
            "500/500 [==============================] - 133s 262ms/step - loss: 0.3258 - val_loss: 0.2977\n",
            "Epoch 2/20\n",
            "500/500 [==============================] - 130s 260ms/step - loss: 0.2941 - val_loss: 0.2747\n",
            "Epoch 3/20\n",
            "500/500 [==============================] - 129s 258ms/step - loss: 0.2804 - val_loss: 0.2761\n",
            "Epoch 4/20\n",
            "500/500 [==============================] - 128s 257ms/step - loss: 0.2683 - val_loss: 0.2768\n",
            "Epoch 5/20\n",
            "500/500 [==============================] - 127s 255ms/step - loss: 0.2612 - val_loss: 0.2795\n",
            "Epoch 6/20\n",
            "500/500 [==============================] - 129s 258ms/step - loss: 0.2573 - val_loss: 0.2772\n",
            "Epoch 7/20\n",
            "500/500 [==============================] - 129s 257ms/step - loss: 0.2497 - val_loss: 0.2849\n",
            "Epoch 8/20\n",
            "500/500 [==============================] - 130s 260ms/step - loss: 0.2444 - val_loss: 0.2844\n",
            "Epoch 9/20\n",
            "500/500 [==============================] - 129s 257ms/step - loss: 0.2394 - val_loss: 0.2989\n",
            "Epoch 10/20\n",
            "500/500 [==============================] - 129s 257ms/step - loss: 0.2333 - val_loss: 0.2895\n",
            "Epoch 11/20\n",
            "500/500 [==============================] - 128s 257ms/step - loss: 0.2288 - val_loss: 0.2996\n",
            "Epoch 12/20\n",
            "500/500 [==============================] - 128s 257ms/step - loss: 0.2230 - val_loss: 0.2938\n",
            "Epoch 13/20\n",
            "500/500 [==============================] - 128s 256ms/step - loss: 0.2199 - val_loss: 0.3030\n",
            "Epoch 14/20\n",
            "500/500 [==============================] - 129s 257ms/step - loss: 0.2160 - val_loss: 0.3065\n",
            "Epoch 15/20\n",
            "500/500 [==============================] - 129s 258ms/step - loss: 0.2108 - val_loss: 0.3101\n",
            "Epoch 16/20\n",
            "500/500 [==============================] - 128s 256ms/step - loss: 0.2085 - val_loss: 0.3117\n",
            "Epoch 17/20\n",
            "500/500 [==============================] - 128s 257ms/step - loss: 0.2044 - val_loss: 0.3115\n",
            "Epoch 18/20\n",
            "500/500 [==============================] - 131s 262ms/step - loss: 0.2013 - val_loss: 0.3090\n",
            "Epoch 19/20\n",
            "500/500 [==============================] - 128s 257ms/step - loss: 0.2005 - val_loss: 0.3145\n",
            "Epoch 20/20\n",
            "500/500 [==============================] - 128s 257ms/step - loss: 0.1977 - val_loss: 0.3117\n"
          ]
        }
      ]
    },
    {
      "cell_type": "code",
      "source": [
        "import matplotlib.pyplot as plt\n",
        "\n",
        "loss = history.history['loss']\n",
        "val_loss = history.history['val_loss']\n",
        "\n",
        "epochs = range(1, len(loss) + 1)\n",
        "\n",
        "plt.figure()\n",
        "\n",
        "plt.plot(epochs, loss, 'bo', label='Training loss')\n",
        "plt.plot(epochs, val_loss, 'b', label='Validation loss')\n",
        "plt.title('Training and validation loss')\n",
        "plt.legend()\n",
        "\n",
        "plt.show()"
      ],
      "metadata": {
        "id": "EVXcS66T6AKh",
        "colab": {
          "base_uri": "https://localhost:8080/",
          "height": 281
        },
        "outputId": "aa0322ec-e184-4a59-d784-3e7a9560a329"
      },
      "execution_count": null,
      "outputs": [
        {
          "output_type": "display_data",
          "data": {
            "text/plain": [
              "<Figure size 432x288 with 1 Axes>"
            ],
            "image/png": "[encoded data removed]"
          },
          "metadata": {
            "needs_background": "light"
          }
        }
      ]
    },
    {
      "cell_type": "markdown",
      "source": [
        "*검증 손실로 비교 시, 규제가 있는 GRU 모델만큼 좋지는 않음. 하지만 훨씬 빠르기에 데이터를 두 배 더 많이 처리 가능.*\n",
        "\n",
        "## 정리\n",
        "- 2D 컨브넷은 2D 공간의 시각 패턴을 잘 처리하는 것과 같이, 1D 컨브넷은 시간에 따른 패턴(시계열 데이터)을 잘 처리. 즉, 특정 자연어 처리 같은 문제에 RNN을 대신할 수 있는 빠른 모델.\n",
        "- 1D는 2D 컨브넷과 비슷하게 구성. Conv1D 층과 Max-Pooling1D 층을 쌓고 마지막에 전역 풀링 연산이나 Flatten 층을 둠.\n",
        "- RNN으로 아주 긴 시퀀스를 처리하려면 계산 비용이 높음. 1D 컨브넷은 비용이 적게 드므로 1D 컨브넷을 RNN 이전의 전처리 단계로 사용하면 적은 비용으로 시퀀스 길이를 줄이고 RNN이 처리할 유용한 표현을 추출해줄 수 있음."
      ],
      "metadata": {
        "id": "R0b-iyfF6DZm"
      }
    }
  ]
}