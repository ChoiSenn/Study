{
  "nbformat": 4,
  "nbformat_minor": 0,
  "metadata": {
    "colab": {
      "provenance": [],
      "collapsed_sections": [],
      "toc_visible": true,
      "mount_file_id": "17o2mI_LIA9CNlCo-dsvkaqevInEhKPgv",
      "authorship_tag": "ABX9TyORf0uE/19b1+s3m2ln1TYp",
      "include_colab_link": true
    },
    "kernelspec": {
      "name": "python3",
      "display_name": "Python 3"
    },
    "language_info": {
      "name": "python"
    },
    "accelerator": "GPU"
  },
  "cells": [
    {
      "cell_type": "markdown",
      "metadata": {
        "id": "view-in-github",
        "colab_type": "text"
      },
      "source": [
        "<a href=\"https://colab.research.google.com/github/ChoiSenn/Study/blob/main/AI/PyTorch/deep_learning_with_python_notebooks.ipynb\" target=\"_parent\"><img src=\"https://colab.research.google.com/assets/colab-badge.svg\" alt=\"Open In Colab\"/></a>"
      ]
    },
    {
      "cell_type": "markdown",
      "source": [
        "#3.4 classifying movie reviews\n",
        "\n",
        "<br>"
      ],
      "metadata": {
        "id": "aaFF-tAb4VYh"
      }
    },
    {
      "cell_type": "code",
      "source": [
        "import keras\n",
        "keras.__version__  # 버전 체크"
      ],
      "metadata": {
        "colab": {
          "base_uri": "https://localhost:8080/",
          "height": 35
        },
        "id": "LScWq6e64tEQ",
        "outputId": "2ec56878-6a7b-4872-8b5b-5be1f1a482bc"
      },
      "execution_count": 19,
      "outputs": [
        {
          "output_type": "execute_result",
          "data": {
            "text/plain": [
              "'2.9.0'"
            ],
            "application/vnd.google.colaboratory.intrinsic+json": {
              "type": "string"
            }
          },
          "metadata": {},
          "execution_count": 19
        }
      ]
    },
    {
      "cell_type": "markdown",
      "source": [
        "## IMDB 데이터셋\n",
        "\n",
        "IMDB\n",
        "- 인터넷 영화 데이터베이스로부터 가져온 (호불호)양극단의 리뷰 50,000개로 이루어진 데이터셋.\n",
        "- 훈련 데이터 25,000개와 테스트 데이터 25,000개로 구성.\n",
        "- 각각 50%는 부정, 50%는 긍정적인 리뷰로 구성.\n",
        "- 케라스에 포함.\n",
        "- 전처리 되어 있어 각 리뷰(단어 시퀀스)가 숫자 시퀀스로 변환되어 있음.\n",
        "\n",
        "<br>\n",
        "\n",
        "훈련 데이터와 테스트 데이터를 나누는 이유 : 같은 데이터에서 모델을 훈련하고 테스트를 동시에 하는 것이 아니라, 새로운 데이터에 대해 모델의 성능을 검증하기 위해.\n",
        "\n",
        "<br>\n",
        "\n",
        "먼저 IMDB 데이터셋을 로드."
      ],
      "metadata": {
        "id": "eqfYd9dN5o4A"
      }
    },
    {
      "cell_type": "code",
      "source": [
        "from keras.datasets import imdb\n",
        "\n",
        "(train_data, train_labels), (test_data, test_labels) = imdb.load_data(num_words=10000)\n",
        "\n",
        "train_data[0]  # train data의 리뷰 출력\n",
        "train_labels[0]  # train data의 긍정/부정 출력\n",
        "max([max(sequence) for sequence in train_data])  # 단어 인덱스가 가장 많은 쪽 출력"
      ],
      "metadata": {
        "colab": {
          "base_uri": "https://localhost:8080/"
        },
        "id": "H9S6HWzo6h-n",
        "outputId": "08395ca9-ee5c-41a6-ba8d-b03dc450672d"
      },
      "execution_count": null,
      "outputs": [
        {
          "output_type": "execute_result",
          "data": {
            "text/plain": [
              "9999"
            ]
          },
          "metadata": {},
          "execution_count": 2
        }
      ]
    },
    {
      "cell_type": "markdown",
      "source": [
        "매개변수로 준 num_words=10000은 훈련 데이터에서 가장 자주 나타나는 단어 10,000개만 사용하겠다는 의미. 그리고 드물게 나타나는 단어를 무시하여 적절한 크기의 벡터 데이터 얻음.\n",
        "\n",
        "*train_data[0]으로 0번째 리뷰 출력(숫자 시퀀스 형태), train_labels[0]으로 0번째 리뷰의 부정/긍정을 출력(부정은 0, 긍정은 1)*\n",
        "\n",
        "*자주 등장하는 단어 10,000개로 제한했기에 인덱스는 10,000을 넘지 않음.*\n",
        "\n",
        "<br>\n",
        "\n",
        "train_data와 word_index(단어와 정수를 매핑한 딕셔너리)를 이용해 리뷰 데이터를 원래 영어 단어로 변환해볼 수 있음."
      ],
      "metadata": {
        "id": "bNLX3UBt67hO"
      }
    },
    {
      "cell_type": "code",
      "source": [
        "word_index = imdb.get_word_index()  # 단어와 정수 인덱스를 매핑한 딕셔너리\n",
        "reverse_word_index = dict([(value, key) for (key, value) in word_index.items()])  # 정수 인덱스와 단어를 매핑하도록 뒤집음\n",
        "\n",
        "decoded_review = ' '.join([reverse_word_index.get(i - 3, '?') for i in train_data[0]])  # 디코딩. 0, 1, 2는 '패딩', '문서 시작', '사전에 없음'을 위한 인덱스이므로 3을 뺌.\n",
        "\n",
        "decoded_review"
      ],
      "metadata": {
        "colab": {
          "base_uri": "https://localhost:8080/",
          "height": 182
        },
        "id": "AHZXRmOF8Q8z",
        "outputId": "433f08c2-1842-4608-f249-212ad1ccbfa5"
      },
      "execution_count": null,
      "outputs": [
        {
          "output_type": "execute_result",
          "data": {
            "text/plain": [
              "\"? this film was just brilliant casting location scenery story direction everyone's really suited the part they played and you could just imagine being there robert ? is an amazing actor and now the same being director ? father came from the same scottish island as myself so i loved the fact there was a real connection with this film the witty remarks throughout the film were great it was just brilliant so much that i bought the film as soon as it was released for ? and would recommend it to everyone to watch and the fly fishing was amazing really cried at the end it was so sad and you know what they say if you cry at a film it must have been good and this definitely was also ? to the two little boy's that played the ? of norman and paul they were just brilliant children are often left out of the ? list i think because the stars that play them all grown up are such a big profile for the whole film but these children are amazing and should be praised for what they have done don't you think the whole story was so lovely because it was true and was someone's life after all that was shared with us all\""
            ],
            "application/vnd.google.colaboratory.intrinsic+json": {
              "type": "string"
            }
          },
          "metadata": {},
          "execution_count": 3
        }
      ]
    },
    {
      "cell_type": "markdown",
      "source": [
        "*숫자 시퀀스 변환 전의 원래 리뷰가 출력된 모습*\n",
        "\n",
        "<br>\n",
        "\n",
        "## 데이터 준비\n",
        "\n",
        "숫자 리스트로 바로 주입할 수 없으므로 다음과 같은 두 가지 방식으로 리스트를 텐서로 변환.\n",
        "- 같은 길이가 되도록 리스트에 padding을 추가하고 (samples, sequesnce_length) 크기의 정수 텐서로 변환. 정수 텐서를 다룰 수 있는 층을 신경망의 첫 층으로 사용.(Embedding 층)\n",
        "- 리스트를 원-핫 인코딩하여 0과 1의 벡터로 변환. 부동 소수 벡터 데이터를 다룰 수 있는 Dense 층을 신경망 첫 번째 층으로 사용."
      ],
      "metadata": {
        "id": "xhOSf2YD8VfE"
      }
    },
    {
      "cell_type": "code",
      "source": [
        "import numpy as np\n",
        "\n",
        "def vectorize_sequences(sequences, dimension=10000):\n",
        "    results = np.zeros((len(sequences), dimension))  # 크기가 (len(sequences), dimension))이고 모든 원소가 0인 행렬을 만듦\n",
        "    for i, sequence in enumerate(sequences):\n",
        "        results[i, sequence] = 1.  # results[i]에서 특정 인덱스의 위치를 1로 만듦\n",
        "    return results\n",
        "\n",
        "x_train = vectorize_sequences(train_data)  # 훈련 데이터를 벡터로 변환\n",
        "x_test = vectorize_sequences(test_data) \n",
        "\n",
        "y_train = np.asarray(train_labels).astype('float32')  # 레이블을 벡터로 변환\n",
        "y_test = np.asarray(test_labels).astype('float32')\n",
        "\n",
        "x_train[0]  # 확인"
      ],
      "metadata": {
        "colab": {
          "base_uri": "https://localhost:8080/"
        },
        "id": "XRI0LRxk9u0I",
        "outputId": "c304c989-8399-4127-fb57-35cffa343412"
      },
      "execution_count": null,
      "outputs": [
        {
          "output_type": "execute_result",
          "data": {
            "text/plain": [
              "array([0., 1., 1., ..., 0., 0., 0.])"
            ]
          },
          "metadata": {},
          "execution_count": 4
        }
      ]
    },
    {
      "cell_type": "markdown",
      "source": [
        "*원-핫 인코딩을 이용하여 벡터로 변환한 모습*\n",
        "\n",
        "<br>\n",
        "\n",
        "## 신경망 모델 만들기\n",
        "\n",
        "입력 데이터가 벡터이고 레이블은 스칼라(1 or 0)인 경우에 잘 작동하는 네트워크는 relu 활성화 함수를 사용한 완전연결층을 그냥 쌓은 네트워크.\n",
        "\n",
        "Dense 층에 전달할 매개변수는 은닉 유닛의 개수. 하나의 은닉 유닛은 층이 나타내는 표현 공간에서 하나의 차원이 됨.\n",
        "\n",
        "16개의 은닉 유닛이 있다는 것은 가중치 행렬 W의 크기가 (input_dimension, 16)이라는 뜻. 입력 데이터와 W를 점곱하면 입력 데이터가 16차원으로 표현된 공간으로 투영. 해당 차원을 '신경망이 내제된 표현을 학습할 때 가질 수 있는 자유도'로 이해 가능.\n",
        "\n",
        "은닉 유닛을 늘려 더 고차원으로 만들면 신경망이 더 복잡한 표현을 학습할 수 있지만, 계산 비용이 커지고 원치 않은 패턴을 학습할 수 있음.\n",
        "\n",
        "우선은 16개의 은닉 유닛을 가진 두 개의 은닉층과 현재 리뷰의 감정을 스칼라 값의 예측으로 출력하는 세 번째 층을 두기로 함.\n",
        "\n",
        "중간의 은닉층은 활성화 함수로 relu를 사용하고 마지막 층은 확률을 출력하기 위해 시그모이드 활성화 함수를 사용. relu는 음수를 0으로 만드는 함수. 시그모이드는 임의의 값을 [0, 1] 사이로 압축하므로 출력 값을 확률처럼 해석 가능.\n",
        "\n",
        "<br>\n",
        "\n",
        "신경망을 케라스로 구현."
      ],
      "metadata": {
        "id": "-oQfJcJZ-bmn"
      }
    },
    {
      "cell_type": "code",
      "source": [
        "from keras import models\n",
        "from keras import layers\n",
        "\n",
        "model = models.Sequential()\n",
        "model.add(layers.Dense(16, activation='relu', input_shape=(10000,)))\n",
        "model.add(layers.Dense(16, activation='relu'))\n",
        "model.add(layers.Dense(1, activation='sigmoid'))"
      ],
      "metadata": {
        "id": "piftYMDhAY86"
      },
      "execution_count": 11,
      "outputs": []
    },
    {
      "cell_type": "markdown",
      "source": [
        "손실 함수와 옵티마이저를 선택.\n",
        "\n",
        "이진 분류 문제이고 신경망의 출력이 확률이기 때문에 binary_crossentropy 손실이 적합. (확률을 출력하는 모델을 사용 시에는 크로스엔트로피가 최선의 선택)\n",
        "\n",
        "다음으로 rmsprop 옵티마이저와 binary_crossentropy 손실 함수로 모델을 설정. 훈련하는 동안 accuracy로 모니터링."
      ],
      "metadata": {
        "id": "n6Fu8th5Acua"
      }
    },
    {
      "cell_type": "code",
      "source": [
        "from keras import losses\n",
        "from keras import metrics\n",
        "from keras import optimizers\n",
        "from tensorflow.keras import optimizers\n",
        "\n",
        "model.compile(optimizer='rmsprop',\n",
        "              loss='binary_crossentropy',\n",
        "              metrics=['accuracy'])\n",
        "\n",
        "model.compile(optimizer=optimizers.RMSprop(lr=0.001),\n",
        "              loss='binary_crossentropy',\n",
        "              metrics=['accuracy'])\n",
        "\n",
        "model.compile(optimizer=optimizers.RMSprop(lr=0.001),\n",
        "              loss=losses.binary_crossentropy,\n",
        "              metrics=[metrics.binary_accuracy])\n",
        "\n",
        "model.compile(optimizer='rmsprop',  # 케라스에 rmsprop, binary_crossentropy, accuracy가 포함되어 있기 때문에 옵티마이저, 손실함수, 측정지표를 문자열로 지정하는 것이 가능.\n",
        "              loss='binary_crossentropy',\n",
        "              metrics=['accuracy'])"
      ],
      "metadata": {
        "colab": {
          "base_uri": "https://localhost:8080/"
        },
        "id": "KtNNrMJZAzvk",
        "outputId": "663f91f9-0e04-48c1-efb9-2fb3615d1920"
      },
      "execution_count": 12,
      "outputs": [
        {
          "output_type": "stream",
          "name": "stderr",
          "text": [
            "/usr/local/lib/python3.7/dist-packages/keras/optimizers/optimizer_v2/rmsprop.py:135: UserWarning: The `lr` argument is deprecated, use `learning_rate` instead.\n",
            "  super(RMSprop, self).__init__(name, **kwargs)\n"
          ]
        }
      ]
    },
    {
      "cell_type": "markdown",
      "source": [
        "<br>\n",
        "\n",
        "## 훈련 검증\n",
        "\n",
        "훈련하는 동안 처음 본 데이터에 대한 모델의 정확도를 측정하기 위해서는 원본 훈련 데이터에서 일정 샘플을 떼어내서 검증 세트를 만들어야 함."
      ],
      "metadata": {
        "id": "rf8SESQKBj_R"
      }
    },
    {
      "cell_type": "code",
      "source": [
        "x_val = x_train[:10000]\n",
        "partial_x_train = x_train[10000:]\n",
        "\n",
        "y_val = y_train[:10000]\n",
        "partial_y_train = y_train[10000:]"
      ],
      "metadata": {
        "id": "Cq6dAbSmB-j6"
      },
      "execution_count": 13,
      "outputs": []
    },
    {
      "cell_type": "markdown",
      "source": [
        "이제 모델을 512개씩 미니 배치를 만들어 20번 epochs 동안 훈련시킴. 동시에 따로 떼어놓은 10,000개의 샘플에 있어서 loss와 accuracy를 측정."
      ],
      "metadata": {
        "id": "v1f8_wtDCBn6"
      }
    },
    {
      "cell_type": "code",
      "source": [
        "history = model.fit(partial_x_train,\n",
        "                    partial_y_train,\n",
        "                    epochs=20,\n",
        "                    batch_size=512,\n",
        "                    validation_data=(x_val, y_val))  # validation_data 매개변수에 검증 데이터 전달"
      ],
      "metadata": {
        "colab": {
          "base_uri": "https://localhost:8080/"
        },
        "id": "O2z8YXzJCO_i",
        "outputId": "3a3f6e3d-b60e-484d-cd08-bdb146f8eb27"
      },
      "execution_count": null,
      "outputs": [
        {
          "output_type": "stream",
          "name": "stdout",
          "text": [
            "Epoch 1/20\n",
            "30/30 [==============================] - 4s 46ms/step - loss: 0.5267 - accuracy: 0.7792 - val_loss: 0.3957 - val_accuracy: 0.8705\n",
            "Epoch 2/20\n",
            "30/30 [==============================] - 1s 21ms/step - loss: 0.3158 - accuracy: 0.9017 - val_loss: 0.3248 - val_accuracy: 0.8726\n",
            "Epoch 3/20\n",
            "30/30 [==============================] - 1s 21ms/step - loss: 0.2274 - accuracy: 0.9278 - val_loss: 0.2921 - val_accuracy: 0.8841\n",
            "Epoch 4/20\n",
            "30/30 [==============================] - 1s 23ms/step - loss: 0.1810 - accuracy: 0.9411 - val_loss: 0.2907 - val_accuracy: 0.8811\n",
            "Epoch 5/20\n",
            "30/30 [==============================] - 1s 20ms/step - loss: 0.1467 - accuracy: 0.9549 - val_loss: 0.2792 - val_accuracy: 0.8878\n",
            "Epoch 6/20\n",
            "30/30 [==============================] - 1s 20ms/step - loss: 0.1195 - accuracy: 0.9635 - val_loss: 0.2891 - val_accuracy: 0.8875\n",
            "Epoch 7/20\n",
            "30/30 [==============================] - 1s 26ms/step - loss: 0.0957 - accuracy: 0.9733 - val_loss: 0.3186 - val_accuracy: 0.8833\n",
            "Epoch 8/20\n",
            "30/30 [==============================] - 1s 26ms/step - loss: 0.0791 - accuracy: 0.9786 - val_loss: 0.3532 - val_accuracy: 0.8733\n",
            "Epoch 9/20\n",
            "30/30 [==============================] - 1s 28ms/step - loss: 0.0645 - accuracy: 0.9835 - val_loss: 0.3829 - val_accuracy: 0.8739\n",
            "Epoch 10/20\n",
            "30/30 [==============================] - 1s 29ms/step - loss: 0.0515 - accuracy: 0.9873 - val_loss: 0.4425 - val_accuracy: 0.8649\n",
            "Epoch 11/20\n",
            "30/30 [==============================] - 1s 26ms/step - loss: 0.0420 - accuracy: 0.9899 - val_loss: 0.4027 - val_accuracy: 0.8756\n",
            "Epoch 12/20\n",
            "30/30 [==============================] - 1s 31ms/step - loss: 0.0338 - accuracy: 0.9926 - val_loss: 0.4319 - val_accuracy: 0.8745\n",
            "Epoch 13/20\n",
            "30/30 [==============================] - 1s 27ms/step - loss: 0.0257 - accuracy: 0.9949 - val_loss: 0.4849 - val_accuracy: 0.8701\n",
            "Epoch 14/20\n",
            "30/30 [==============================] - 1s 27ms/step - loss: 0.0218 - accuracy: 0.9961 - val_loss: 0.4951 - val_accuracy: 0.8722\n",
            "Epoch 15/20\n",
            "30/30 [==============================] - 1s 31ms/step - loss: 0.0158 - accuracy: 0.9979 - val_loss: 0.5270 - val_accuracy: 0.8708\n",
            "Epoch 16/20\n",
            "30/30 [==============================] - 1s 30ms/step - loss: 0.0104 - accuracy: 0.9994 - val_loss: 0.5742 - val_accuracy: 0.8687\n",
            "Epoch 17/20\n",
            "30/30 [==============================] - 1s 28ms/step - loss: 0.0118 - accuracy: 0.9982 - val_loss: 0.6012 - val_accuracy: 0.8674\n",
            "Epoch 18/20\n",
            "30/30 [==============================] - 1s 29ms/step - loss: 0.0065 - accuracy: 0.9997 - val_loss: 0.6668 - val_accuracy: 0.8600\n",
            "Epoch 19/20\n",
            "30/30 [==============================] - 1s 29ms/step - loss: 0.0048 - accuracy: 0.9997 - val_loss: 0.7102 - val_accuracy: 0.8632\n",
            "Epoch 20/20\n",
            "30/30 [==============================] - 1s 24ms/step - loss: 0.0033 - accuracy: 0.9997 - val_loss: 0.7067 - val_accuracy: 0.8653\n"
          ]
        }
      ]
    },
    {
      "cell_type": "markdown",
      "source": [
        "*한 에폭이 끝날 때마다 loss와 accuracy를 계산하여 출력된 모습.*\n",
        "\n",
        "<br>\n",
        "\n",
        "model.fit() 메소드는 History 객체를 반환. 이는 훈련하는 동안 발생한 모든 정보를 담은 딕셔너리인 history 속성을 갖고 있음."
      ],
      "metadata": {
        "id": "6hEXkfBqCVCH"
      }
    },
    {
      "cell_type": "code",
      "source": [
        "history_dict = history.history\n",
        "history_dict.keys()"
      ],
      "metadata": {
        "colab": {
          "base_uri": "https://localhost:8080/"
        },
        "id": "3aCZaJ50Cmji",
        "outputId": "b6f50d29-beb5-4e6c-9682-8592cf6b7ca4"
      },
      "execution_count": null,
      "outputs": [
        {
          "output_type": "execute_result",
          "data": {
            "text/plain": [
              "dict_keys(['loss', 'accuracy', 'val_loss', 'val_accuracy'])"
            ]
          },
          "metadata": {},
          "execution_count": 10
        }
      ]
    },
    {
      "cell_type": "code",
      "source": [
        "import matplotlib.pyplot as plt\n",
        "\n",
        "acc = history.history['accuracy']\n",
        "val_acc = history.history['val_accuracy']\n",
        "loss = history.history['loss']\n",
        "val_loss = history.history['val_loss']\n",
        "\n",
        "epochs = range(1, len(acc) + 1)\n",
        "\n",
        "# ‘bo’는 파란색 점을 의미합니다\n",
        "plt.plot(epochs, loss, 'bo', label='Training loss')\n",
        "# ‘b’는 파란색 실선을 의미합니다\n",
        "plt.plot(epochs, val_loss, 'b', label='Validation loss')\n",
        "plt.title('Training and validation loss')\n",
        "plt.xlabel('Epochs')\n",
        "plt.ylabel('Loss')\n",
        "plt.legend()\n",
        "\n",
        "plt.show()"
      ],
      "metadata": {
        "colab": {
          "base_uri": "https://localhost:8080/",
          "height": 295
        },
        "id": "JdubpcQfCyBQ",
        "outputId": "62dca3b7-4cec-410e-a5ae-505df5cb2ad4"
      },
      "execution_count": null,
      "outputs": [
        {
          "output_type": "display_data",
          "data": {
            "text/plain": [
              "<Figure size 432x288 with 1 Axes>"
            ],
            "image/png": "[encoded data removed]"
          },
          "metadata": {
            "needs_background": "light"
          }
        }
      ]
    },
    {
      "cell_type": "code",
      "source": [
        "plt.clf()   # 그래프를 초기화합니다\n",
        "acc = history_dict['accuracy']\n",
        "val_acc = history_dict['val_accuracy']\n",
        "\n",
        "plt.plot(epochs, acc, 'bo', label='Training acc')\n",
        "plt.plot(epochs, val_acc, 'b', label='Validation acc')\n",
        "plt.title('Training and validation accuracy')\n",
        "plt.xlabel('Epochs')\n",
        "plt.ylabel('Accuracy')\n",
        "plt.legend()\n",
        "\n",
        "plt.show()"
      ],
      "metadata": {
        "colab": {
          "base_uri": "https://localhost:8080/",
          "height": 295
        },
        "id": "LCqjbCtHC51n",
        "outputId": "5f04f486-e001-4fe7-f191-18f6c57d4cf7"
      },
      "execution_count": null,
      "outputs": [
        {
          "output_type": "display_data",
          "data": {
            "text/plain": [
              "<Figure size 432x288 with 1 Axes>"
            ],
            "image/png": "[encoded data removed]"
          },
          "metadata": {
            "needs_background": "light"
          }
        }
      ]
    },
    {
      "cell_type": "markdown",
      "source": [
        "*네 가지 측정 지표를 이용해 훈련과 검증 데이터에 대한 손실과 정확도를 그려본 모습. 점선은 훈련 손실과 정확도이며, 실선은 검증 손실과 정확도.*\n",
        "\n",
        "<br>\n",
        "\n",
        "볼 수 있듯, 훈련 손실이 에폭마다 감소하고 훈련 정확도는 에폭마다 증가. 경사 하강법에 따라 반복마다 최소화됨. 그러나 검증 손실과 정확도는 감소/증가하다가 어느 순간에서 역전되는 모습을 확인 가능. 어느 순간에 과적합되어 훈련 세트 이외의 데이터에는 일반화 되지 못한다는 것을 알 수 있음.\n",
        "\n",
        "이런 경우, 과대적합 방지를 위해 특정 에폭 이후에 훈련을 중지할 수 있음."
      ],
      "metadata": {
        "id": "fpfSTs98CorE"
      }
    },
    {
      "cell_type": "code",
      "source": [
        "model = models.Sequential()\n",
        "model.add(layers.Dense(16, activation='relu', input_shape=(10000,)))\n",
        "model.add(layers.Dense(16, activation='relu'))\n",
        "model.add(layers.Dense(1, activation='sigmoid'))\n",
        "\n",
        "model.compile(optimizer='rmsprop',\n",
        "              loss='binary_crossentropy',\n",
        "              metrics=['accuracy'])\n",
        "\n",
        "model.fit(x_train, y_train, epochs=4, batch_size=512)  # 에폭 수를 줄임.\n",
        "results = model.evaluate(x_test, y_test)\n",
        "\n",
        "results"
      ],
      "metadata": {
        "colab": {
          "base_uri": "https://localhost:8080/"
        },
        "id": "lRjE5z0SDqGg",
        "outputId": "a7b5c3dd-6f54-4bd7-d4f0-37d936a54d02"
      },
      "execution_count": null,
      "outputs": [
        {
          "output_type": "stream",
          "name": "stdout",
          "text": [
            "Epoch 1/4\n",
            "49/49 [==============================] - 1s 14ms/step - loss: 0.4712 - accuracy: 0.8139\n",
            "Epoch 2/4\n",
            "49/49 [==============================] - 1s 14ms/step - loss: 0.2707 - accuracy: 0.9054\n",
            "Epoch 3/4\n",
            "49/49 [==============================] - 1s 14ms/step - loss: 0.2048 - accuracy: 0.9278\n",
            "Epoch 4/4\n",
            "49/49 [==============================] - 1s 14ms/step - loss: 0.1692 - accuracy: 0.9408\n",
            "782/782 [==============================] - 2s 3ms/step - loss: 0.3079 - accuracy: 0.8786\n"
          ]
        },
        {
          "output_type": "execute_result",
          "data": {
            "text/plain": [
              "[0.3079497218132019, 0.878600001335144]"
            ]
          },
          "metadata": {},
          "execution_count": 13
        }
      ]
    },
    {
      "cell_type": "markdown",
      "source": [
        "*87%의 정확도를 달성한 모습*\n",
        "\n",
        "<br>\n",
        "\n",
        "## 훈련된 모델로 새로운 데이터에 대해 예측하기\n",
        "\n",
        "predict 메서드를 사용해서 리뷰가 긍정적일 확률 예측 가능."
      ],
      "metadata": {
        "id": "Jm1olUQPiHFK"
      }
    },
    {
      "cell_type": "code",
      "source": [
        "model.predict(x_test)"
      ],
      "metadata": {
        "colab": {
          "base_uri": "https://localhost:8080/"
        },
        "id": "LEk5vtgSijLf",
        "outputId": "05312b69-673e-4bcd-cc47-5841811bb0af"
      },
      "execution_count": null,
      "outputs": [
        {
          "output_type": "stream",
          "name": "stdout",
          "text": [
            "782/782 [==============================] - 2s 2ms/step\n"
          ]
        },
        {
          "output_type": "execute_result",
          "data": {
            "text/plain": [
              "array([[0.26858276],\n",
              "       [0.99954   ],\n",
              "       [0.93990934],\n",
              "       ...,\n",
              "       [0.16798516],\n",
              "       [0.11966275],\n",
              "       [0.7567183 ]], dtype=float32)"
            ]
          },
          "metadata": {},
          "execution_count": 14
        }
      ]
    },
    {
      "cell_type": "markdown",
      "source": [
        "*모델이 어떤 샘플에 대해서는 0.9, 0.1 정도로 확신을 가지고 있지만, 어떤 샘플에 대해서는 0.7 정도로 애매한 결과를 보임*\n",
        "\n",
        "<br>\n",
        "\n",
        "## 추가 실험\n",
        "\n",
        "1. (한 개 또는) 세 개의 은닉층을 사용하고 검증과 테스트 정확도에 어떤 영향을 미치는지 확인."
      ],
      "metadata": {
        "id": "oe1pYxCJinfQ"
      }
    },
    {
      "cell_type": "code",
      "source": [
        "from keras import models\n",
        "from keras import layers\n",
        "from keras import losses\n",
        "from keras import metrics\n",
        "from keras import optimizers\n",
        "from tensorflow.keras import optimizers\n",
        "\n",
        "model.compile(optimizer='rmsprop',  # 케라스에 rmsprop, binary_crossentropy, accuracy가 포함되어 있기 때문에 옵티마이저, 손실함수, 측정지표를 문자열로 지정하는 것이 가능.\n",
        "              loss='binary_crossentropy',\n",
        "              metrics=['accuracy'])\n",
        "\n",
        "x_val = x_train[:10000]\n",
        "partial_x_train = x_train[10000:]\n",
        "\n",
        "y_val = y_train[:10000]\n",
        "partial_y_train = y_train[10000:]\n",
        "\n",
        "history = model.fit(partial_x_train,\n",
        "                    partial_y_train,\n",
        "                    epochs=20,\n",
        "                    batch_size=512,\n",
        "                    validation_data=(x_val, y_val))  # validation_data 매개변수에 검증 데이터 전달\n",
        "\n",
        "history_dict = history.history\n",
        "\n",
        "model = models.Sequential()\n",
        "model.add(layers.Dense(16, activation='relu', input_shape=(10000,)))\n",
        "model.add(layers.Dense(16, activation='relu'))  # 은닉층 하나 추가\n",
        "model.add(layers.Dense(16, activation='relu'))\n",
        "model.add(layers.Dense(1, activation='sigmoid'))\n",
        "\n",
        "model.compile(optimizer='rmsprop',\n",
        "              loss='binary_crossentropy',\n",
        "              metrics=['accuracy'])\n",
        "\n",
        "model.fit(x_train, y_train, epochs=4, batch_size=512)  # 에폭 수를 줄임.\n",
        "results = model.evaluate(x_test, y_test)\n",
        "\n",
        "results"
      ],
      "metadata": {
        "colab": {
          "base_uri": "https://localhost:8080/"
        },
        "id": "tQKEwNXYjF-v",
        "outputId": "49f67ff0-da49-4d2c-ebfd-8ebba8b91fd2"
      },
      "execution_count": null,
      "outputs": [
        {
          "output_type": "stream",
          "name": "stdout",
          "text": [
            "Epoch 1/20\n",
            "30/30 [==============================] - 3s 82ms/step - loss: 0.5012 - accuracy: 0.7754 - val_loss: 0.4000 - val_accuracy: 0.8394\n",
            "Epoch 2/20\n",
            "30/30 [==============================] - 2s 71ms/step - loss: 0.2902 - accuracy: 0.9035 - val_loss: 0.2946 - val_accuracy: 0.8893\n",
            "Epoch 3/20\n",
            "30/30 [==============================] - 2s 70ms/step - loss: 0.2121 - accuracy: 0.9288 - val_loss: 0.2781 - val_accuracy: 0.8905\n",
            "Epoch 4/20\n",
            "30/30 [==============================] - 2s 79ms/step - loss: 0.1711 - accuracy: 0.9417 - val_loss: 0.2850 - val_accuracy: 0.8874\n",
            "Epoch 5/20\n",
            "30/30 [==============================] - 1s 37ms/step - loss: 0.1387 - accuracy: 0.9554 - val_loss: 0.2834 - val_accuracy: 0.8887\n",
            "Epoch 6/20\n",
            "30/30 [==============================] - 1s 37ms/step - loss: 0.1117 - accuracy: 0.9649 - val_loss: 0.3113 - val_accuracy: 0.8832\n",
            "Epoch 7/20\n",
            "30/30 [==============================] - 1s 37ms/step - loss: 0.0959 - accuracy: 0.9706 - val_loss: 0.3177 - val_accuracy: 0.8845\n",
            "Epoch 8/20\n",
            "30/30 [==============================] - 1s 37ms/step - loss: 0.0781 - accuracy: 0.9790 - val_loss: 0.3571 - val_accuracy: 0.8722\n",
            "Epoch 9/20\n",
            "30/30 [==============================] - 1s 37ms/step - loss: 0.0623 - accuracy: 0.9845 - val_loss: 0.3594 - val_accuracy: 0.8809\n",
            "Epoch 10/20\n",
            "30/30 [==============================] - 1s 38ms/step - loss: 0.0536 - accuracy: 0.9858 - val_loss: 0.3870 - val_accuracy: 0.8768\n",
            "Epoch 11/20\n",
            "30/30 [==============================] - 1s 37ms/step - loss: 0.0470 - accuracy: 0.9882 - val_loss: 0.4182 - val_accuracy: 0.8736\n",
            "Epoch 12/20\n",
            "30/30 [==============================] - 1s 38ms/step - loss: 0.0339 - accuracy: 0.9931 - val_loss: 0.4583 - val_accuracy: 0.8736\n",
            "Epoch 13/20\n",
            "30/30 [==============================] - 1s 36ms/step - loss: 0.0293 - accuracy: 0.9941 - val_loss: 0.4753 - val_accuracy: 0.8734\n",
            "Epoch 14/20\n",
            "30/30 [==============================] - 1s 37ms/step - loss: 0.0258 - accuracy: 0.9937 - val_loss: 0.5092 - val_accuracy: 0.8727\n",
            "Epoch 15/20\n",
            "30/30 [==============================] - 1s 37ms/step - loss: 0.0191 - accuracy: 0.9970 - val_loss: 0.5431 - val_accuracy: 0.8715\n",
            "Epoch 16/20\n",
            "30/30 [==============================] - 1s 37ms/step - loss: 0.0165 - accuracy: 0.9977 - val_loss: 0.5753 - val_accuracy: 0.8666\n",
            "Epoch 17/20\n",
            "30/30 [==============================] - 1s 36ms/step - loss: 0.0099 - accuracy: 0.9995 - val_loss: 0.6239 - val_accuracy: 0.8672\n",
            "Epoch 18/20\n",
            "30/30 [==============================] - 1s 36ms/step - loss: 0.0119 - accuracy: 0.9969 - val_loss: 0.6497 - val_accuracy: 0.8683\n",
            "Epoch 19/20\n",
            "30/30 [==============================] - 1s 37ms/step - loss: 0.0055 - accuracy: 0.9998 - val_loss: 0.6828 - val_accuracy: 0.8664\n",
            "Epoch 20/20\n",
            "30/30 [==============================] - 1s 37ms/step - loss: 0.0095 - accuracy: 0.9981 - val_loss: 0.7135 - val_accuracy: 0.8669\n",
            "Epoch 1/4\n",
            "49/49 [==============================] - 2s 29ms/step - loss: 0.4537 - accuracy: 0.8204\n",
            "Epoch 2/4\n",
            "49/49 [==============================] - 2s 42ms/step - loss: 0.2503 - accuracy: 0.9101\n",
            "Epoch 3/4\n",
            "49/49 [==============================] - 2s 34ms/step - loss: 0.1922 - accuracy: 0.9313\n",
            "Epoch 4/4\n",
            "49/49 [==============================] - 1s 28ms/step - loss: 0.1620 - accuracy: 0.9422\n",
            "782/782 [==============================] - 2s 3ms/step - loss: 0.3522 - accuracy: 0.8654\n"
          ]
        },
        {
          "output_type": "execute_result",
          "data": {
            "text/plain": [
              "[0.3522029221057892, 0.8654000163078308]"
            ]
          },
          "metadata": {},
          "execution_count": 9
        }
      ]
    },
    {
      "cell_type": "markdown",
      "source": [
        "*86%의 정확도로, 두 개의 은닉층을 사용하였을 때보다는 약간 정확도가 하락한 모습.*\n",
        "\n",
        "<br>\n",
        "\n",
        "2. 층의 은닉 유닛을 추가하거나 줄이기 (32개)"
      ],
      "metadata": {
        "id": "AFwJvo5N-w5g"
      }
    },
    {
      "cell_type": "code",
      "source": [
        "from keras import models\n",
        "from keras import layers\n",
        "from keras import losses\n",
        "from keras import metrics\n",
        "from keras import optimizers\n",
        "from tensorflow.keras import optimizers\n",
        "\n",
        "model.compile(optimizer='rmsprop',  # 케라스에 rmsprop, binary_crossentropy, accuracy가 포함되어 있기 때문에 옵티마이저, 손실함수, 측정지표를 문자열로 지정하는 것이 가능.\n",
        "              loss='binary_crossentropy',\n",
        "              metrics=['accuracy'])\n",
        "\n",
        "x_val = x_train[:10000]\n",
        "partial_x_train = x_train[10000:]\n",
        "\n",
        "y_val = y_train[:10000]\n",
        "partial_y_train = y_train[10000:]\n",
        "\n",
        "history = model.fit(partial_x_train,\n",
        "                    partial_y_train,\n",
        "                    epochs=20,\n",
        "                    batch_size=512,\n",
        "                    validation_data=(x_val, y_val))  # validation_data 매개변수에 검증 데이터 전달\n",
        "\n",
        "history_dict = history.history\n",
        "\n",
        "model = models.Sequential()\n",
        "model.add(layers.Dense(32, activation='relu', input_shape=(10000,)))\n",
        "model.add(layers.Dense(32, activation='relu'))\n",
        "model.add(layers.Dense(1, activation='sigmoid'))\n",
        "\n",
        "model.compile(optimizer='rmsprop',\n",
        "              loss='binary_crossentropy',\n",
        "              metrics=['accuracy'])\n",
        "\n",
        "model.fit(x_train, y_train, epochs=4, batch_size=512)  # 에폭 수를 줄임.\n",
        "results = model.evaluate(x_test, y_test)\n",
        "\n",
        "results"
      ],
      "metadata": {
        "colab": {
          "base_uri": "https://localhost:8080/"
        },
        "id": "dHILjr38_C61",
        "outputId": "ef15298a-9211-4471-fa0d-fa5686169b45"
      },
      "execution_count": null,
      "outputs": [
        {
          "output_type": "stream",
          "name": "stdout",
          "text": [
            "Epoch 1/20\n",
            "30/30 [==============================] - 2s 40ms/step - loss: 0.0984 - accuracy: 0.9719 - val_loss: 0.2156 - val_accuracy: 0.9174\n",
            "Epoch 2/20\n",
            "30/30 [==============================] - 1s 38ms/step - loss: 0.0776 - accuracy: 0.9797 - val_loss: 0.2107 - val_accuracy: 0.9229\n",
            "Epoch 3/20\n",
            "30/30 [==============================] - 2s 67ms/step - loss: 0.0623 - accuracy: 0.9867 - val_loss: 0.2440 - val_accuracy: 0.9144\n",
            "Epoch 4/20\n",
            "30/30 [==============================] - 1s 49ms/step - loss: 0.0509 - accuracy: 0.9891 - val_loss: 0.2492 - val_accuracy: 0.9136\n",
            "Epoch 5/20\n",
            "30/30 [==============================] - 1s 36ms/step - loss: 0.0414 - accuracy: 0.9936 - val_loss: 0.2726 - val_accuracy: 0.9100\n",
            "Epoch 6/20\n",
            "30/30 [==============================] - 1s 35ms/step - loss: 0.0341 - accuracy: 0.9946 - val_loss: 0.3110 - val_accuracy: 0.9050\n",
            "Epoch 7/20\n",
            "30/30 [==============================] - 1s 37ms/step - loss: 0.0274 - accuracy: 0.9971 - val_loss: 0.3551 - val_accuracy: 0.8967\n",
            "Epoch 8/20\n",
            "30/30 [==============================] - 1s 37ms/step - loss: 0.0236 - accuracy: 0.9967 - val_loss: 0.3408 - val_accuracy: 0.9009\n",
            "Epoch 9/20\n",
            "30/30 [==============================] - 1s 36ms/step - loss: 0.0187 - accuracy: 0.9978 - val_loss: 0.3693 - val_accuracy: 0.9011\n",
            "Epoch 10/20\n",
            "30/30 [==============================] - 1s 36ms/step - loss: 0.0178 - accuracy: 0.9979 - val_loss: 0.3968 - val_accuracy: 0.8978\n",
            "Epoch 11/20\n",
            "30/30 [==============================] - 1s 36ms/step - loss: 0.0140 - accuracy: 0.9981 - val_loss: 0.4275 - val_accuracy: 0.8906\n",
            "Epoch 12/20\n",
            "30/30 [==============================] - 1s 36ms/step - loss: 0.0109 - accuracy: 0.9987 - val_loss: 0.4428 - val_accuracy: 0.8943\n",
            "Epoch 13/20\n",
            "30/30 [==============================] - 1s 36ms/step - loss: 0.0105 - accuracy: 0.9985 - val_loss: 0.4569 - val_accuracy: 0.8927\n",
            "Epoch 14/20\n",
            "30/30 [==============================] - 1s 36ms/step - loss: 0.0074 - accuracy: 0.9989 - val_loss: 0.4930 - val_accuracy: 0.8898\n",
            "Epoch 15/20\n",
            "30/30 [==============================] - 1s 37ms/step - loss: 0.0067 - accuracy: 0.9987 - val_loss: 0.5197 - val_accuracy: 0.8898\n",
            "Epoch 16/20\n",
            "30/30 [==============================] - 1s 36ms/step - loss: 0.0043 - accuracy: 0.9993 - val_loss: 0.5525 - val_accuracy: 0.8894\n",
            "Epoch 17/20\n",
            "30/30 [==============================] - 1s 36ms/step - loss: 0.0041 - accuracy: 0.9991 - val_loss: 0.5879 - val_accuracy: 0.8861\n",
            "Epoch 18/20\n",
            "30/30 [==============================] - 1s 35ms/step - loss: 0.0020 - accuracy: 0.9995 - val_loss: 0.6126 - val_accuracy: 0.8855\n",
            "Epoch 19/20\n",
            "30/30 [==============================] - 2s 51ms/step - loss: 0.0014 - accuracy: 0.9998 - val_loss: 0.6463 - val_accuracy: 0.8842\n",
            "Epoch 20/20\n",
            "30/30 [==============================] - 1s 36ms/step - loss: 0.0030 - accuracy: 0.9993 - val_loss: 0.6760 - val_accuracy: 0.8850\n",
            "Epoch 1/4\n",
            "49/49 [==============================] - 2s 34ms/step - loss: 0.4194 - accuracy: 0.8280\n",
            "Epoch 2/4\n",
            "49/49 [==============================] - 2s 34ms/step - loss: 0.2410 - accuracy: 0.9090\n",
            "Epoch 3/4\n",
            "49/49 [==============================] - 2s 35ms/step - loss: 0.1842 - accuracy: 0.9314\n",
            "Epoch 4/4\n",
            "49/49 [==============================] - 2s 34ms/step - loss: 0.1530 - accuracy: 0.9439\n",
            "782/782 [==============================] - 3s 3ms/step - loss: 0.3127 - accuracy: 0.8799\n"
          ]
        },
        {
          "output_type": "execute_result",
          "data": {
            "text/plain": [
              "[0.31267374753952026, 0.8798800110816956]"
            ]
          },
          "metadata": {},
          "execution_count": 11
        }
      ]
    },
    {
      "cell_type": "markdown",
      "source": [
        "*88% 정도의 비슷한 정확도를 보임.*\n",
        "\n",
        "<br>\n",
        "\n",
        "3. binary_crossentropy 대신에 mse 손실 함수 사용"
      ],
      "metadata": {
        "id": "5XEvjaGz_gux"
      }
    },
    {
      "cell_type": "code",
      "source": [
        "from keras import models\n",
        "from keras import layers\n",
        "from keras import losses\n",
        "from keras import metrics\n",
        "from keras import optimizers\n",
        "from tensorflow.keras import optimizers\n",
        "\n",
        "model.compile(optimizer='rmsprop',  # 케라스에 rmsprop, binary_crossentropy, accuracy가 포함되어 있기 때문에 옵티마이저, 손실함수, 측정지표를 문자열로 지정하는 것이 가능.\n",
        "              loss='binary_crossentropy',\n",
        "              metrics=['accuracy'])\n",
        "\n",
        "x_val = x_train[:10000]\n",
        "partial_x_train = x_train[10000:]\n",
        "\n",
        "y_val = y_train[:10000]\n",
        "partial_y_train = y_train[10000:]\n",
        "\n",
        "history = model.fit(partial_x_train,\n",
        "                    partial_y_train,\n",
        "                    epochs=20,\n",
        "                    batch_size=512,\n",
        "                    validation_data=(x_val, y_val))  # validation_data 매개변수에 검증 데이터 전달\n",
        "\n",
        "history_dict = history.history\n",
        "\n",
        "model = models.Sequential()\n",
        "model.add(layers.Dense(16, activation='relu', input_shape=(10000,)))\n",
        "model.add(layers.Dense(16, activation='relu'))\n",
        "model.add(layers.Dense(1, activation='sigmoid'))\n",
        "\n",
        "model.compile(optimizer='rmsprop',\n",
        "              loss='mse',\n",
        "              metrics=['accuracy'])\n",
        "\n",
        "model.fit(x_train, y_train, epochs=4, batch_size=512)  # 에폭 수를 줄임.\n",
        "results = model.evaluate(x_test, y_test)\n",
        "\n",
        "results"
      ],
      "metadata": {
        "colab": {
          "base_uri": "https://localhost:8080/"
        },
        "id": "XUTqzd5M_reO",
        "outputId": "2095b651-9012-4500-98b2-75d26ea97be4"
      },
      "execution_count": null,
      "outputs": [
        {
          "output_type": "stream",
          "name": "stdout",
          "text": [
            "Epoch 1/20\n",
            "30/30 [==============================] - 2s 53ms/step - loss: 0.1461 - accuracy: 0.9481 - val_loss: 0.1390 - val_accuracy: 0.9511\n",
            "Epoch 2/20\n",
            "30/30 [==============================] - 1s 37ms/step - loss: 0.1075 - accuracy: 0.9642 - val_loss: 0.1540 - val_accuracy: 0.9447\n",
            "Epoch 3/20\n",
            "30/30 [==============================] - 1s 38ms/step - loss: 0.0894 - accuracy: 0.9707 - val_loss: 0.1691 - val_accuracy: 0.9375\n",
            "Epoch 4/20\n",
            "30/30 [==============================] - 2s 51ms/step - loss: 0.0691 - accuracy: 0.9798 - val_loss: 0.1882 - val_accuracy: 0.9326\n",
            "Epoch 5/20\n",
            "30/30 [==============================] - 1s 37ms/step - loss: 0.0581 - accuracy: 0.9843 - val_loss: 0.2104 - val_accuracy: 0.9262\n",
            "Epoch 6/20\n",
            "30/30 [==============================] - 1s 37ms/step - loss: 0.0440 - accuracy: 0.9877 - val_loss: 0.2353 - val_accuracy: 0.9212\n",
            "Epoch 7/20\n",
            "30/30 [==============================] - 1s 37ms/step - loss: 0.0333 - accuracy: 0.9915 - val_loss: 0.2837 - val_accuracy: 0.9101\n",
            "Epoch 8/20\n",
            "30/30 [==============================] - 1s 38ms/step - loss: 0.0260 - accuracy: 0.9939 - val_loss: 0.2983 - val_accuracy: 0.9099\n",
            "Epoch 9/20\n",
            "30/30 [==============================] - 1s 37ms/step - loss: 0.0230 - accuracy: 0.9948 - val_loss: 0.3171 - val_accuracy: 0.9098\n",
            "Epoch 10/20\n",
            "30/30 [==============================] - 1s 38ms/step - loss: 0.0191 - accuracy: 0.9947 - val_loss: 0.3534 - val_accuracy: 0.9038\n",
            "Epoch 11/20\n",
            "30/30 [==============================] - 1s 39ms/step - loss: 0.0073 - accuracy: 0.9994 - val_loss: 0.3746 - val_accuracy: 0.9042\n",
            "Epoch 12/20\n",
            "30/30 [==============================] - 1s 37ms/step - loss: 0.0156 - accuracy: 0.9955 - val_loss: 0.3932 - val_accuracy: 0.9040\n",
            "Epoch 13/20\n",
            "30/30 [==============================] - 1s 37ms/step - loss: 0.0036 - accuracy: 0.9998 - val_loss: 0.4238 - val_accuracy: 0.9005\n",
            "Epoch 14/20\n",
            "30/30 [==============================] - 1s 37ms/step - loss: 0.0080 - accuracy: 0.9981 - val_loss: 0.4586 - val_accuracy: 0.8991\n",
            "Epoch 15/20\n",
            "30/30 [==============================] - 1s 38ms/step - loss: 0.0016 - accuracy: 1.0000 - val_loss: 0.4897 - val_accuracy: 0.8963\n",
            "Epoch 16/20\n",
            "30/30 [==============================] - 1s 37ms/step - loss: 0.0102 - accuracy: 0.9968 - val_loss: 0.5466 - val_accuracy: 0.8923\n",
            "Epoch 17/20\n",
            "30/30 [==============================] - 1s 38ms/step - loss: 8.5720e-04 - accuracy: 1.0000 - val_loss: 0.5556 - val_accuracy: 0.8933\n",
            "Epoch 18/20\n",
            "30/30 [==============================] - 1s 38ms/step - loss: 5.9387e-04 - accuracy: 1.0000 - val_loss: 0.5845 - val_accuracy: 0.8919\n",
            "Epoch 19/20\n",
            "30/30 [==============================] - 1s 37ms/step - loss: 9.3456e-04 - accuracy: 0.9998 - val_loss: 1.1285 - val_accuracy: 0.8442\n",
            "Epoch 20/20\n",
            "30/30 [==============================] - 1s 37ms/step - loss: 0.0071 - accuracy: 0.9981 - val_loss: 0.6524 - val_accuracy: 0.8912\n",
            "Epoch 1/4\n",
            "49/49 [==============================] - 2s 29ms/step - loss: 0.1603 - accuracy: 0.7893\n",
            "Epoch 2/4\n",
            "49/49 [==============================] - 1s 30ms/step - loss: 0.0768 - accuracy: 0.9084\n",
            "Epoch 3/4\n",
            "49/49 [==============================] - 1s 30ms/step - loss: 0.0576 - accuracy: 0.9299\n",
            "Epoch 4/4\n",
            "49/49 [==============================] - 1s 29ms/step - loss: 0.0472 - accuracy: 0.9428\n",
            "782/782 [==============================] - 2s 3ms/step - loss: 0.0879 - accuracy: 0.8816\n"
          ]
        },
        {
          "output_type": "execute_result",
          "data": {
            "text/plain": [
              "[0.08792755007743835, 0.8815600275993347]"
            ]
          },
          "metadata": {},
          "execution_count": 10
        }
      ]
    },
    {
      "cell_type": "markdown",
      "source": [
        "*역시나 88% 정도의 정확도*\n",
        "\n",
        "4. relu 대신 tanh 활성화 함수 사용"
      ],
      "metadata": {
        "id": "JtA9ob6NB2Gd"
      }
    },
    {
      "cell_type": "code",
      "source": [
        "from keras import models\n",
        "from keras import layers\n",
        "from keras import losses\n",
        "from keras import metrics\n",
        "from keras import optimizers\n",
        "from tensorflow.keras import optimizers\n",
        "\n",
        "model.compile(optimizer='rmsprop',  # 케라스에 rmsprop, binary_crossentropy, accuracy가 포함되어 있기 때문에 옵티마이저, 손실함수, 측정지표를 문자열로 지정하는 것이 가능.\n",
        "              loss='binary_crossentropy',\n",
        "              metrics=['accuracy'])\n",
        "\n",
        "x_val = x_train[:10000]\n",
        "partial_x_train = x_train[10000:]\n",
        "\n",
        "y_val = y_train[:10000]\n",
        "partial_y_train = y_train[10000:]\n",
        "\n",
        "history = model.fit(partial_x_train,\n",
        "                    partial_y_train,\n",
        "                    epochs=20,\n",
        "                    batch_size=512,\n",
        "                    validation_data=(x_val, y_val))  # validation_data 매개변수에 검증 데이터 전달\n",
        "\n",
        "history_dict = history.history\n",
        "\n",
        "model = models.Sequential()\n",
        "model.add(layers.Dense(16, activation='tanh', input_shape=(10000,)))\n",
        "model.add(layers.Dense(16, activation='tanh')) \n",
        "model.add(layers.Dense(1, activation='sigmoid'))\n",
        "\n",
        "model.compile(optimizer='rmsprop',\n",
        "              loss='binary_crossentropy',\n",
        "              metrics=['accuracy'])\n",
        "\n",
        "model.fit(x_train, y_train, epochs=4, batch_size=512)  # 에폭 수를 줄임.\n",
        "results = model.evaluate(x_test, y_test)\n",
        "\n",
        "results"
      ],
      "metadata": {
        "colab": {
          "base_uri": "https://localhost:8080/"
        },
        "id": "2h_wbRVVB8bF",
        "outputId": "6c1b81ba-6e71-432e-a534-b4856214ab37"
      },
      "execution_count": null,
      "outputs": [
        {
          "output_type": "stream",
          "name": "stdout",
          "text": [
            "Epoch 1/20\n",
            "30/30 [==============================] - 2s 49ms/step - loss: 0.5290 - accuracy: 0.7761 - val_loss: 0.4048 - val_accuracy: 0.8529\n",
            "Epoch 2/20\n",
            "30/30 [==============================] - 1s 39ms/step - loss: 0.3113 - accuracy: 0.9005 - val_loss: 0.3050 - val_accuracy: 0.8894\n",
            "Epoch 3/20\n",
            "30/30 [==============================] - 1s 37ms/step - loss: 0.2253 - accuracy: 0.9264 - val_loss: 0.2797 - val_accuracy: 0.8885\n",
            "Epoch 4/20\n",
            "30/30 [==============================] - 1s 37ms/step - loss: 0.1785 - accuracy: 0.9408 - val_loss: 0.2838 - val_accuracy: 0.8863\n",
            "Epoch 5/20\n",
            "30/30 [==============================] - 1s 37ms/step - loss: 0.1437 - accuracy: 0.9550 - val_loss: 0.2865 - val_accuracy: 0.8851\n",
            "Epoch 6/20\n",
            "30/30 [==============================] - 1s 37ms/step - loss: 0.1178 - accuracy: 0.9645 - val_loss: 0.3112 - val_accuracy: 0.8804\n",
            "Epoch 7/20\n",
            "30/30 [==============================] - 1s 37ms/step - loss: 0.0955 - accuracy: 0.9720 - val_loss: 0.3211 - val_accuracy: 0.8825\n",
            "Epoch 8/20\n",
            "30/30 [==============================] - 1s 37ms/step - loss: 0.0781 - accuracy: 0.9791 - val_loss: 0.3617 - val_accuracy: 0.8759\n",
            "Epoch 9/20\n",
            "30/30 [==============================] - 1s 38ms/step - loss: 0.0656 - accuracy: 0.9837 - val_loss: 0.3829 - val_accuracy: 0.8747\n",
            "Epoch 10/20\n",
            "30/30 [==============================] - 1s 37ms/step - loss: 0.0544 - accuracy: 0.9863 - val_loss: 0.3771 - val_accuracy: 0.8770\n",
            "Epoch 11/20\n",
            "30/30 [==============================] - 1s 38ms/step - loss: 0.0428 - accuracy: 0.9906 - val_loss: 0.4085 - val_accuracy: 0.8769\n",
            "Epoch 12/20\n",
            "30/30 [==============================] - 1s 38ms/step - loss: 0.0344 - accuracy: 0.9925 - val_loss: 0.4339 - val_accuracy: 0.8728\n",
            "Epoch 13/20\n",
            "30/30 [==============================] - 1s 37ms/step - loss: 0.0288 - accuracy: 0.9946 - val_loss: 0.4684 - val_accuracy: 0.8720\n",
            "Epoch 14/20\n",
            "30/30 [==============================] - 1s 37ms/step - loss: 0.0207 - accuracy: 0.9969 - val_loss: 0.4940 - val_accuracy: 0.8722\n",
            "Epoch 15/20\n",
            "30/30 [==============================] - 1s 37ms/step - loss: 0.0199 - accuracy: 0.9962 - val_loss: 0.5248 - val_accuracy: 0.8708\n",
            "Epoch 16/20\n",
            "30/30 [==============================] - 1s 37ms/step - loss: 0.0110 - accuracy: 0.9990 - val_loss: 0.5623 - val_accuracy: 0.8680\n",
            "Epoch 17/20\n",
            "30/30 [==============================] - 1s 37ms/step - loss: 0.0130 - accuracy: 0.9977 - val_loss: 0.5875 - val_accuracy: 0.8692\n",
            "Epoch 18/20\n",
            "30/30 [==============================] - 1s 38ms/step - loss: 0.0059 - accuracy: 0.9997 - val_loss: 0.6513 - val_accuracy: 0.8652\n",
            "Epoch 19/20\n",
            "30/30 [==============================] - 1s 48ms/step - loss: 0.0079 - accuracy: 0.9988 - val_loss: 0.6581 - val_accuracy: 0.8693\n",
            "Epoch 20/20\n",
            "30/30 [==============================] - 2s 68ms/step - loss: 0.0031 - accuracy: 0.9998 - val_loss: 0.7029 - val_accuracy: 0.8654\n",
            "Epoch 1/4\n",
            "49/49 [==============================] - 2s 30ms/step - loss: 0.4176 - accuracy: 0.8300\n",
            "Epoch 2/4\n",
            "49/49 [==============================] - 1s 29ms/step - loss: 0.2320 - accuracy: 0.9153\n",
            "Epoch 3/4\n",
            "49/49 [==============================] - 1s 29ms/step - loss: 0.1784 - accuracy: 0.9340\n",
            "Epoch 4/4\n",
            "49/49 [==============================] - 1s 29ms/step - loss: 0.1476 - accuracy: 0.9466\n",
            "782/782 [==============================] - 3s 4ms/step - loss: 0.3206 - accuracy: 0.8800\n"
          ]
        },
        {
          "output_type": "execute_result",
          "data": {
            "text/plain": [
              "[0.3205924332141876, 0.8799600005149841]"
            ]
          },
          "metadata": {},
          "execution_count": 7
        }
      ]
    },
    {
      "cell_type": "markdown",
      "source": [
        "*88% 정도의 정확도*"
      ],
      "metadata": {
        "id": "TK9OGDEGDV2F"
      }
    },
    {
      "cell_type": "markdown",
      "source": [
        "#6.2 Understanding recurrent neural networks"
      ],
      "metadata": {
        "id": "vD8FFKtPDdPA"
      }
    },
    {
      "cell_type": "markdown",
      "source": [
        "## 케라스의 순환 층\n",
        "\n",
        "\n",
        "SimpleRNN\n",
        "- 케라스에서 제공하는 기초적인 RNN 구조.\n",
        "- 넘파이 예제처럼 하나의 시퀀스가 아니라 다른 케라스 층과 마찬가지로 시퀀스 배치를 처리. 즉, (timesteps, input_features) 크기가 아니라 (batch_size, timesteps, input_features) 크기의 입력을 받음.\n",
        "- 각 타임스텝의 출력을 모은 전체 시퀀스를 반환하거나, 입력 시퀀스에 대한 마지막 출력만 반환할 수 있음. (return_sequences 매개변수로 선택)"
      ],
      "metadata": {
        "id": "VVIWhJnRDvj-"
      }
    },
    {
      "cell_type": "code",
      "source": [
        "import keras\n",
        "keras.__version__\n",
        "\n",
        "from keras.models import Sequential\n",
        "from keras.layers import Embedding, SimpleRNN\n",
        "\n",
        "model = Sequential()\n",
        "model.add(Embedding(10000, 32))\n",
        "model.add(SimpleRNN(32))\n",
        "model.summary()"
      ],
      "metadata": {
        "colab": {
          "base_uri": "https://localhost:8080/"
        },
        "id": "dwVdI8i7DnYB",
        "outputId": "d53a02e8-92ef-48ef-c494-4db0fbd7574a"
      },
      "execution_count": null,
      "outputs": [
        {
          "output_type": "stream",
          "name": "stdout",
          "text": [
            "Model: \"sequential_2\"\n",
            "_________________________________________________________________\n",
            " Layer (type)                Output Shape              Param #   \n",
            "=================================================================\n",
            " embedding (Embedding)       (None, None, 32)          320000    \n",
            "                                                                 \n",
            " simple_rnn (SimpleRNN)      (None, 32)                2080      \n",
            "                                                                 \n",
            "=================================================================\n",
            "Total params: 322,080\n",
            "Trainable params: 322,080\n",
            "Non-trainable params: 0\n",
            "_________________________________________________________________\n"
          ]
        }
      ]
    },
    {
      "cell_type": "code",
      "source": [
        "model = Sequential()\n",
        "model.add(Embedding(10000, 32))\n",
        "model.add(SimpleRNN(32, return_sequences=True))\n",
        "model.add(SimpleRNN(32, return_sequences=True))\n",
        "model.add(SimpleRNN(32, return_sequences=True))\n",
        "model.add(SimpleRNN(32))  # 맨 위 층만 마지막 출력을 반환\n",
        "model.summary()"
      ],
      "metadata": {
        "colab": {
          "base_uri": "https://localhost:8080/"
        },
        "id": "A2pKM4knEbIo",
        "outputId": "9ff6d6b1-5021-4c8c-d36d-b9f17e57339f"
      },
      "execution_count": null,
      "outputs": [
        {
          "output_type": "stream",
          "name": "stdout",
          "text": [
            "Model: \"sequential_4\"\n",
            "_________________________________________________________________\n",
            " Layer (type)                Output Shape              Param #   \n",
            "=================================================================\n",
            " embedding_2 (Embedding)     (None, None, 32)          320000    \n",
            "                                                                 \n",
            " simple_rnn_2 (SimpleRNN)    (None, None, 32)          2080      \n",
            "                                                                 \n",
            " simple_rnn_3 (SimpleRNN)    (None, None, 32)          2080      \n",
            "                                                                 \n",
            " simple_rnn_4 (SimpleRNN)    (None, None, 32)          2080      \n",
            "                                                                 \n",
            " simple_rnn_5 (SimpleRNN)    (None, 32)                2080      \n",
            "                                                                 \n",
            "=================================================================\n",
            "Total params: 328,320\n",
            "Trainable params: 328,320\n",
            "Non-trainable params: 0\n",
            "_________________________________________________________________\n"
          ]
        }
      ]
    },
    {
      "cell_type": "markdown",
      "source": [
        "*네트워크의 표현력 증가를 위해 여러 개의 순환 층을 차례대로 쌓을 때에는 중간 층들이 전체 출력 시퀀스를 반환하도록 설정.*\n",
        "\n",
        "<br>\n",
        "\n",
        "IMDB 영화 리뷰 분류 문제에 SimpleRNN을 적용."
      ],
      "metadata": {
        "id": "0sZYW5jmEgHV"
      }
    },
    {
      "cell_type": "code",
      "source": [
        "from keras.datasets import imdb\n",
        "from keras_preprocessing.sequence import pad_sequences  # 버전? 오류로 수정\n",
        "\n",
        "max_features = 10000  # 특성으로 사용할 단어의 수\n",
        "maxlen = 500  # 사용할 텍스트의 길이(가장 빈번한 max_features 개의 단어만 사용)\n",
        "batch_size = 32\n",
        "\n",
        "print('데이터 로딩...')\n",
        "(input_train, y_train), (input_test, y_test) = imdb.load_data(num_words=max_features)\n",
        "print(len(input_train), '훈련 시퀀스')\n",
        "print(len(input_test), '테스트 시퀀스')\n",
        "\n",
        "print('시퀀스 패딩 (samples x time)')\n",
        "input_train = pad_sequences(input_train, maxlen=maxlen)  # 버전? 오류로 수정\n",
        "input_test = pad_sequences(input_test, maxlen=maxlen)  # 버전? 오류로 수정\n",
        "print('input_train 크기:', input_train.shape)\n",
        "print('input_test 크기:', input_test.shape)"
      ],
      "metadata": {
        "colab": {
          "base_uri": "https://localhost:8080/"
        },
        "id": "I5Cf2UEFEvTP",
        "outputId": "d564a390-d1fb-4cd8-ea35-0e7b6a4e6fcc"
      },
      "execution_count": null,
      "outputs": [
        {
          "output_type": "stream",
          "name": "stdout",
          "text": [
            "데이터 로딩...\n",
            "25000 훈련 시퀀스\n",
            "25000 테스트 시퀀스\n",
            "시퀀스 패딩 (samples x time)\n",
            "input_train 크기: (25000, 500)\n",
            "input_test 크기: (25000, 500)\n"
          ]
        }
      ]
    },
    {
      "cell_type": "markdown",
      "source": [
        "Embedding 층과 SimpleRNN 층을 사용해 간단한 순환 네트워크를 훈련."
      ],
      "metadata": {
        "id": "DQWStYqvIPny"
      }
    },
    {
      "cell_type": "code",
      "source": [
        "from keras.layers import Dense\n",
        "\n",
        "model = Sequential()\n",
        "model.add(Embedding(max_features, 32))\n",
        "model.add(SimpleRNN(32))\n",
        "model.add(Dense(1, activation='sigmoid'))\n",
        "\n",
        "model.compile(optimizer='rmsprop', loss='binary_crossentropy', metrics=['acc'])\n",
        "history = model.fit(input_train, y_train,\n",
        "                    epochs=10,\n",
        "                    batch_size=128,\n",
        "                    validation_split=0.2)"
      ],
      "metadata": {
        "colab": {
          "base_uri": "https://localhost:8080/"
        },
        "id": "hwrhHw34INTc",
        "outputId": "f8a1b9b9-b48d-4597-86a1-e653f5cbc8a8"
      },
      "execution_count": null,
      "outputs": [
        {
          "output_type": "stream",
          "name": "stdout",
          "text": [
            "Epoch 1/10\n",
            "157/157 [==============================] - 33s 194ms/step - loss: 0.6167 - acc: 0.6465 - val_loss: 0.5242 - val_acc: 0.7394\n",
            "Epoch 2/10\n",
            "157/157 [==============================] - 24s 154ms/step - loss: 0.3989 - acc: 0.8315 - val_loss: 0.5039 - val_acc: 0.7566\n",
            "Epoch 3/10\n",
            "157/157 [==============================] - 24s 153ms/step - loss: 0.3098 - acc: 0.8767 - val_loss: 0.4325 - val_acc: 0.8082\n",
            "Epoch 4/10\n",
            "157/157 [==============================] - 26s 164ms/step - loss: 0.2406 - acc: 0.9090 - val_loss: 0.5404 - val_acc: 0.8044\n",
            "Epoch 5/10\n",
            "157/157 [==============================] - 24s 155ms/step - loss: 0.2027 - acc: 0.9271 - val_loss: 0.3964 - val_acc: 0.8520\n",
            "Epoch 6/10\n",
            "157/157 [==============================] - 24s 154ms/step - loss: 0.1270 - acc: 0.9561 - val_loss: 0.4524 - val_acc: 0.8332\n",
            "Epoch 7/10\n",
            "157/157 [==============================] - 25s 161ms/step - loss: 0.0879 - acc: 0.9722 - val_loss: 0.5603 - val_acc: 0.7978\n",
            "Epoch 8/10\n",
            "157/157 [==============================] - 25s 160ms/step - loss: 0.0654 - acc: 0.9794 - val_loss: 0.5315 - val_acc: 0.8230\n",
            "Epoch 9/10\n",
            "157/157 [==============================] - 32s 204ms/step - loss: 0.0334 - acc: 0.9910 - val_loss: 0.6200 - val_acc: 0.8400\n",
            "Epoch 10/10\n",
            "157/157 [==============================] - 24s 154ms/step - loss: 0.0258 - acc: 0.9924 - val_loss: 0.8185 - val_acc: 0.7500\n"
          ]
        }
      ]
    },
    {
      "cell_type": "markdown",
      "source": [
        "학습 완료. 이제 훈련과 검증의 손실과 정확도를 그래프로 그려봄. (대략 73~85%의 정확도)"
      ],
      "metadata": {
        "id": "7DHniLamJAfL"
      }
    },
    {
      "cell_type": "code",
      "source": [
        "import matplotlib.pyplot as plt\n",
        "\n",
        "acc = history.history['acc']\n",
        "val_acc = history.history['val_acc']\n",
        "loss = history.history['loss']\n",
        "val_loss = history.history['val_loss']\n",
        "\n",
        "epochs = range(1, len(acc) + 1)\n",
        "\n",
        "plt.plot(epochs, acc, 'bo', label='Training acc')\n",
        "plt.plot(epochs, val_acc, 'b', label='Validation acc')\n",
        "plt.title('Training and validation accuracy')\n",
        "plt.legend()\n",
        "\n",
        "plt.figure()\n",
        "\n",
        "plt.plot(epochs, loss, 'bo', label='Training loss')\n",
        "plt.plot(epochs, val_loss, 'b', label='Validation loss')\n",
        "plt.title('Training and validation loss')\n",
        "plt.legend()\n",
        "\n",
        "plt.show()"
      ],
      "metadata": {
        "colab": {
          "base_uri": "https://localhost:8080/",
          "height": 545
        },
        "id": "dbdUvrilJFlf",
        "outputId": "c507bf2d-809c-4bb3-aa31-1cac9f090547"
      },
      "execution_count": null,
      "outputs": [
        {
          "output_type": "display_data",
          "data": {
            "text/plain": [
              "<Figure size 432x288 with 1 Axes>"
            ],
            "image/png": "[encoded data removed]"
          },
          "metadata": {
            "needs_background": "light"
          }
        },
        {
          "output_type": "display_data",
          "data": {
            "text/plain": [
              "<Figure size 432x288 with 1 Axes>"
            ],
            "image/png": "[encoded data removed]"
          },
          "metadata": {
            "needs_background": "light"
          }
        }
      ]
    },
    {
      "cell_type": "markdown",
      "source": [
        "지금 이 순환 네트워크는 3.4의 신경망 모델보다 성능이 높지는 않음. 왜냐하면 전체 시퀀스가 아니라 처음 500개의 단어만 입력에 사용했기 때문.(얻은 정보가 적음) 그리고 다른 이유는 SimpleRNN이 텍스트와 같이 긴 시퀀스를 처리하는 데에는 적합하지 않기 때문.\n",
        "\n",
        "<br>\n",
        "\n",
        "## 케라스를 사용한 LSTM 예제\n",
        "\n",
        "이번에는 LSTM 층으로 모델을 구성하고 IMDB 데이터에서 훈련.\n",
        "\n",
        "이 네트워크는 SimpleRNN 모델과 비슷. LSTM 층은 출력 차원만 지정하고 다른 매개변수들은 케라스의 기본값으로 남겨둠."
      ],
      "metadata": {
        "id": "kzWpSmknJIJ8"
      }
    },
    {
      "cell_type": "code",
      "source": [
        "from keras.layers import LSTM\n",
        "\n",
        "model = Sequential()\n",
        "model.add(Embedding(max_features, 32))\n",
        "model.add(LSTM(32))\n",
        "model.add(Dense(1, activation='sigmoid'))\n",
        "\n",
        "model.compile(optimizer='rmsprop',\n",
        "              loss='binary_crossentropy',\n",
        "              metrics=['acc'])\n",
        "history = model.fit(input_train, y_train,\n",
        "                    epochs=10,\n",
        "                    batch_size=128,\n",
        "                    validation_split=0.2)"
      ],
      "metadata": {
        "colab": {
          "base_uri": "https://localhost:8080/"
        },
        "id": "WHK6ueI3K0UU",
        "outputId": "d19b788a-da53-4b95-ccf7-4589875f24ff"
      },
      "execution_count": null,
      "outputs": [
        {
          "output_type": "stream",
          "name": "stdout",
          "text": [
            "Epoch 1/10\n",
            "157/157 [==============================] - 69s 422ms/step - loss: 0.5232 - acc: 0.7556 - val_loss: 0.3714 - val_acc: 0.8570\n",
            "Epoch 2/10\n",
            "157/157 [==============================] - 56s 355ms/step - loss: 0.3000 - acc: 0.8838 - val_loss: 0.3497 - val_acc: 0.8472\n",
            "Epoch 3/10\n",
            "157/157 [==============================] - 57s 364ms/step - loss: 0.2341 - acc: 0.9112 - val_loss: 0.3023 - val_acc: 0.8690\n",
            "Epoch 4/10\n",
            "157/157 [==============================] - 56s 358ms/step - loss: 0.2029 - acc: 0.9255 - val_loss: 0.4730 - val_acc: 0.8414\n",
            "Epoch 5/10\n",
            "157/157 [==============================] - 56s 355ms/step - loss: 0.1791 - acc: 0.9351 - val_loss: 0.3379 - val_acc: 0.8614\n",
            "Epoch 6/10\n",
            "157/157 [==============================] - 57s 364ms/step - loss: 0.1599 - acc: 0.9442 - val_loss: 0.3053 - val_acc: 0.8840\n",
            "Epoch 7/10\n",
            "157/157 [==============================] - 56s 357ms/step - loss: 0.1469 - acc: 0.9474 - val_loss: 0.3130 - val_acc: 0.8686\n",
            "Epoch 8/10\n",
            "157/157 [==============================] - 56s 356ms/step - loss: 0.1371 - acc: 0.9531 - val_loss: 0.3151 - val_acc: 0.8826\n",
            "Epoch 9/10\n",
            "157/157 [==============================] - 56s 355ms/step - loss: 0.1215 - acc: 0.9563 - val_loss: 0.3423 - val_acc: 0.8864\n",
            "Epoch 10/10\n",
            "157/157 [==============================] - 57s 363ms/step - loss: 0.1164 - acc: 0.9599 - val_loss: 0.3275 - val_acc: 0.8732\n"
          ]
        }
      ]
    },
    {
      "cell_type": "markdown",
      "source": [
        "*84~88% 정도의 정확도*"
      ],
      "metadata": {
        "id": "zfNPrniBNWZE"
      }
    },
    {
      "cell_type": "code",
      "source": [
        "acc = history.history['acc']\n",
        "val_acc = history.history['val_acc']\n",
        "loss = history.history['loss']\n",
        "val_loss = history.history['val_loss']\n",
        "\n",
        "epochs = range(1, len(acc) + 1)\n",
        "\n",
        "plt.plot(epochs, acc, 'bo', label='Training acc')\n",
        "plt.plot(epochs, val_acc, 'b', label='Validation acc')\n",
        "plt.title('Training and validation accuracy')\n",
        "plt.legend()\n",
        "\n",
        "plt.figure()\n",
        "\n",
        "plt.plot(epochs, loss, 'bo', label='Training loss')\n",
        "plt.plot(epochs, val_loss, 'b', label='Validation loss')\n",
        "plt.title('Training and validation loss')\n",
        "plt.legend()\n",
        "\n",
        "plt.show()"
      ],
      "metadata": {
        "colab": {
          "base_uri": "https://localhost:8080/",
          "height": 545
        },
        "id": "li1-jn8wK1ko",
        "outputId": "79d3107d-07c0-4491-a373-ec0af6fd1def"
      },
      "execution_count": null,
      "outputs": [
        {
          "output_type": "display_data",
          "data": {
            "text/plain": [
              "<Figure size 432x288 with 1 Axes>"
            ],
            "image/png": "[encoded data removed]"
          },
          "metadata": {
            "needs_background": "light"
          }
        },
        {
          "output_type": "display_data",
          "data": {
            "text/plain": [
              "<Figure size 432x288 with 1 Axes>"
            ],
            "image/png": "[encoded data removed]"
          },
          "metadata": {
            "needs_background": "light"
          }
        }
      ]
    },
    {
      "cell_type": "markdown",
      "source": [
        "#6.3 순환 신경망의 고급 사용법\n",
        "\n",
        "순환 신경망의 성능과 일반화 능력을 향상시키기 위한 세 가지 고급 기술\n",
        "- 순환 드롭아웃 : 순환 층에서 과대적합을 방지하기 위해 케라스에 내장되어 있는 드롭아웃을 사용.\n",
        "- 순환 층 스태킹 : 네트워크의 표현 능력을 증가 (대신 계산 비용이 많이 듦)\n",
        "- 양방향 순환 층 : 순환 네트워크에 같은 정보를 다른 방향으로 주입하여 정확도를 높이고 기억을 좀 더 오래 유지.\n",
        "\n",
        "<br>\n",
        "\n",
        "## 기온 예측 문제\n",
        "\n",
        "이번에는 위에서 다뤄왔던 텍스트 데이터가 아닌 날씨 시계열 데이터셋을 사용.\n",
        "\n",
        "해당 데이터 셋에는 수년간 걸쳐 기온, 기압, 습도, 풍향 등과 같은 14개의 관측치가 10분마다 기록되어 있음. 이 중 2009~2016년 사이의 데이터 사용.\n",
        "\n",
        "최근 데이터를 입력으로 사용해 모델을 만들고 24시간 이후의 기온을 예측."
      ],
      "metadata": {
        "id": "vELgQjjedeYI"
      }
    },
    {
      "cell_type": "code",
      "source": [
        "import os\n",
        "\n",
        "data_dir = './'\n",
        "fname = os.path.join(data_dir, 'jena_climate_2009_2016.csv')\n",
        "\n",
        "f = open(fname)\n",
        "data = f.read()\n",
        "f.close()\n",
        "\n",
        "lines = data.split('\\n')\n",
        "header = lines[0].split(',')\n",
        "lines = lines[1:]\n",
        "\n",
        "print(header)\n",
        "print(len(lines))"
      ],
      "metadata": {
        "colab": {
          "base_uri": "https://localhost:8080/"
        },
        "id": "Zel1d4dIftUB",
        "outputId": "0dc16496-f720-4425-c416-b107569dc199"
      },
      "execution_count": 5,
      "outputs": [
        {
          "output_type": "stream",
          "name": "stdout",
          "text": [
            "['\"Date Time\"', '\"p (mbar)\"', '\"T (degC)\"', '\"Tpot (K)\"', '\"Tdew (degC)\"', '\"rh (%)\"', '\"VPmax (mbar)\"', '\"VPact (mbar)\"', '\"VPdef (mbar)\"', '\"sh (g/kg)\"', '\"H2OC (mmol/mol)\"', '\"rho (g/m**3)\"', '\"wv (m/s)\"', '\"max. wv (m/s)\"', '\"wd (deg)\"']\n",
            "420551\n"
          ]
        }
      ]
    },
    {
      "cell_type": "markdown",
      "source": [
        "*420,551개 데이터 전체를 넘파이 배열로 바꿈.*"
      ],
      "metadata": {
        "id": "DhqS-W2sfzFk"
      }
    },
    {
      "cell_type": "code",
      "source": [
        "import numpy as np\n",
        "\n",
        "float_data = np.zeros((len(lines), len(header) - 1))\n",
        "for i, line in enumerate(lines):\n",
        "    values = [float(x) for x in line.split(',')[1:]]\n",
        "    float_data[i, :] = values"
      ],
      "metadata": {
        "id": "JfVE2t1_fv3f"
      },
      "execution_count": 6,
      "outputs": []
    },
    {
      "cell_type": "markdown",
      "source": [
        "*시간에 따른 기온 그래프 시각화.*"
      ],
      "metadata": {
        "id": "pkCVGONpiZrL"
      }
    },
    {
      "cell_type": "code",
      "source": [
        "from matplotlib import pyplot as plt\n",
        "\n",
        "temp = float_data[:, 1]  # 온도(섭씨)\n",
        "plt.plot(range(len(temp)), temp)\n",
        "plt.show()"
      ],
      "metadata": {
        "colab": {
          "base_uri": "https://localhost:8080/",
          "height": 268
        },
        "id": "d7fVzv4qieJi",
        "outputId": "33e2fc5c-07a7-4cdf-b181-835d8f0a1743"
      },
      "execution_count": null,
      "outputs": [
        {
          "output_type": "display_data",
          "data": {
            "text/plain": [
              "<Figure size 432x288 with 1 Axes>"
            ],
            "image/png": "[encoded data removed]"
          },
          "metadata": {
            "needs_background": "light"
          }
        }
      ]
    },
    {
      "cell_type": "markdown",
      "source": [
        "*온도에 주기성이 있음을 확실히 알 수 있음.*\n",
        "\n",
        "다음은 기간을 좁혀 첫 10일간의 온도 데이터를 그래프로 시각화. 10분마다 데이터가 기록되므로 하루에 총 144개의 데이터 포인트가 있음."
      ],
      "metadata": {
        "id": "m1hSweFYiiVk"
      }
    },
    {
      "cell_type": "code",
      "source": [
        "plt.plot(range(1440), temp[:1440])\n",
        "plt.show()"
      ],
      "metadata": {
        "colab": {
          "base_uri": "https://localhost:8080/",
          "height": 265
        },
        "id": "Y7gVqombirKd",
        "outputId": "44779b3f-fc06-438a-b247-4456f915aa43"
      },
      "execution_count": null,
      "outputs": [
        {
          "output_type": "display_data",
          "data": {
            "text/plain": [
              "<Figure size 432x288 with 1 Axes>"
            ],
            "image/png": "[encoded data removed]"
          },
          "metadata": {
            "needs_background": "light"
          }
        }
      ]
    },
    {
      "cell_type": "markdown",
      "source": [
        "*이 데이터는 아주 추운 겨울 중 10일. 일별 주기성을 볼 수 있음.*\n",
        "\n",
        "<br>\n",
        "\n",
        "## Preparing the data\n",
        "\n",
        "지난 몇 달간의 데이터를 사용해 다음 날의 온도를 예측. (이는 다음 달의 평균 온도 예측보다 어려움)\n",
        "\n",
        "lookback 타임스텝(10분) 만큼 이전으로 돌아가서 매 steps 타임스텝마다 샘플링. 이 데이터를 바탕으로 delay 타임스텝 이후의 온도를 예측.\n",
        "\n",
        "사용할 변수\n",
        "- lookback = 1440 : 10일 전 데이터로 돌아감.\n",
        "- steps = 6 : 한 시간마다 데이터 포인트 하나를 샘플링.\n",
        "- delay = 144 : 24시간이 지난 데이터가 타깃이 됨.\n",
        "\n",
        "시작 전 작업\n",
        "- 신경망에 주입할 수 있는 형태로 데이터 전처리. 이미 수치형이므로 추가적인 벡터화는 필요하지 않으나, 각 시계열 특성의 범위가 서로 다름. 따라서 각 시계열 특성을 개별적으로 정규화하여 비슷한 범위를 가진 작은 값으로 바꿈.\n",
        "- float_data 배열을 받아 과거 데이터의 배치와 미래 타깃 온도를 추출하는 파이썬 제너레이터를 만듦. 이 데이터셋의 샘플은 중복이 많음. 따라서 모든 샘플을 각기 메모리에 적재하는 것은 낭비가 심하므로 대신 원본 데이터를 사용해 그때 그때 배치를 만듦.\n",
        "\n",
        "<br>\n",
        "\n",
        "각 시계열 특성에 대해 평균을 빼고 표준 편차로 나누어 전처리."
      ],
      "metadata": {
        "id": "wVSd1o0mitcB"
      }
    },
    {
      "cell_type": "code",
      "source": [
        "mean = float_data[:200000].mean(axis=0)\n",
        "float_data -= mean\n",
        "std = float_data[:200000].std(axis=0)\n",
        "float_data /= std"
      ],
      "metadata": {
        "id": "PhjOeFvQk9_3"
      },
      "execution_count": 7,
      "outputs": []
    },
    {
      "cell_type": "markdown",
      "source": [
        "제너레이터 함수의 매개변수\n",
        "- data : 정규화한 부동 소수 데이터로 이루어진 원본 배열\n",
        "- lookback : 입력으로 사용하기 위해 거슬러 올라갈 타임스텝\n",
        "- delay : 타깃으로 사용할 미래의 타임스텝\n",
        "- min_index와 max_index : 추출할 타임스텝의 범위를 지정하기 위한 data 배열의 인덱스. 검증 데이터와 테스트 데이터를 분리하는 데 사용.\n",
        "- shuffle : 샘플을 섞을지 시간 순서대로 추출할지 결정.\n",
        "- batch_size : 배치의 샘플 수\n",
        "- step : 데이터를 샘플링할 타임스텝 간격. 한 시간에 하나의 데이터 포인트를 추출하기 위해 6으로 지정."
      ],
      "metadata": {
        "id": "sjfevfZOlALV"
      }
    },
    {
      "cell_type": "code",
      "source": [
        "def generator(data, lookback, delay, min_index, max_index,\n",
        "              shuffle=False, batch_size=128, step=6):\n",
        "    if max_index is None:\n",
        "        max_index = len(data) - delay - 1\n",
        "    i = min_index + lookback\n",
        "    while 1:\n",
        "        if shuffle:\n",
        "            rows = np.random.randint(\n",
        "                min_index + lookback, max_index, size=batch_size)\n",
        "        else:\n",
        "            if i + batch_size >= max_index:\n",
        "                i = min_index + lookback\n",
        "            rows = np.arange(i, min(i + batch_size, max_index))\n",
        "            i += len(rows)\n",
        "\n",
        "        samples = np.zeros((len(rows),\n",
        "                           lookback // step,\n",
        "                           data.shape[-1]))\n",
        "        targets = np.zeros((len(rows),))\n",
        "        for j, row in enumerate(rows):\n",
        "            indices = range(rows[j] - lookback, rows[j], step)\n",
        "            samples[j] = data[indices]\n",
        "            targets[j] = data[rows[j] + delay][1]\n",
        "        yield samples, targets"
      ],
      "metadata": {
        "id": "mbJH9Dp9leiW"
      },
      "execution_count": 3,
      "outputs": []
    },
    {
      "cell_type": "markdown",
      "source": [
        "이제 generator 함수를 사용해 훈련/검증/테스트용으로 세 개의 제너레이터를 만듦.\n",
        "\n",
        "훈련은 처음 200,000개 타임스텝을 사용하고 검증은 그 다음 100,000개, 테스트는 나머지를 사용."
      ],
      "metadata": {
        "id": "CNhwvdoLlf0E"
      }
    },
    {
      "cell_type": "code",
      "source": [
        "lookback = 1440\n",
        "step = 6\n",
        "delay = 144\n",
        "batch_size = 128\n",
        "\n",
        "train_gen = generator(float_data,\n",
        "                      lookback=lookback,\n",
        "                      delay=delay,\n",
        "                      min_index=0,\n",
        "                      max_index=200000,\n",
        "                      shuffle=True,\n",
        "                      step=step, \n",
        "                      batch_size=batch_size)\n",
        "val_gen = generator(float_data,\n",
        "                    lookback=lookback,\n",
        "                    delay=delay,\n",
        "                    min_index=200001,\n",
        "                    max_index=300000,\n",
        "                    step=step,\n",
        "                    batch_size=batch_size)\n",
        "test_gen = generator(float_data,\n",
        "                     lookback=lookback,\n",
        "                     delay=delay,\n",
        "                     min_index=300001,\n",
        "                     max_index=None,\n",
        "                     step=step,\n",
        "                     batch_size=batch_size)\n",
        "\n",
        "# 전체 검증 세트를 순회하기 위해 val_gen에서 추출할 횟수\n",
        "val_steps = (300000 - 200001 - lookback) // batch_size\n",
        "\n",
        "# 전체 테스트 세트를 순회하기 위해 test_gen에서 추출할 횟수\n",
        "test_steps = (len(float_data) - 300001 - lookback) // batch_size"
      ],
      "metadata": {
        "id": "c_d54aGQllJ6"
      },
      "execution_count": 8,
      "outputs": []
    },
    {
      "cell_type": "markdown",
      "source": [
        "## 기본적인 머신러닝 방법\n",
        "\n",
        "데이터를 펼쳐서 두 개의 Dense 층을 통과시키는 완전 연결 네트워크를 보여줌. 전형적인 회귀 문제이므로 마지막 Dense 층에는 활성화 함수를 두지 않음. 손실함수는 MAE.\n",
        "\n"
      ],
      "metadata": {
        "id": "KSDJYMMYls_-"
      }
    },
    {
      "cell_type": "code",
      "source": [
        "from keras.models import Sequential\n",
        "from keras import layers\n",
        "from keras.optimizers import RMSprop\n",
        "\n",
        "model = Sequential()\n",
        "model.add(layers.Flatten(input_shape=(lookback // step, float_data.shape[-1])))\n",
        "model.add(layers.Dense(32, activation='relu'))\n",
        "model.add(layers.Dense(1))\n",
        "\n",
        "model.compile(optimizer=RMSprop(), loss='mae')\n",
        "history = model.fit_generator(train_gen,\n",
        "                              steps_per_epoch=500,\n",
        "                              epochs=20,\n",
        "                              validation_data=val_gen,\n",
        "                              validation_steps=val_steps)"
      ],
      "metadata": {
        "colab": {
          "base_uri": "https://localhost:8080/"
        },
        "id": "9Wr9vH7Jmzt1",
        "outputId": "a6c1186c-b267-4747-c7a6-a0c19f3bd6fa"
      },
      "execution_count": null,
      "outputs": [
        {
          "output_type": "stream",
          "name": "stdout",
          "text": [
            "Epoch 1/20\n"
          ]
        },
        {
          "output_type": "stream",
          "name": "stderr",
          "text": [
            "/usr/local/lib/python3.7/dist-packages/ipykernel_launcher.py:15: UserWarning: `Model.fit_generator` is deprecated and will be removed in a future version. Please use `Model.fit`, which supports generators.\n",
            "  from ipykernel import kernelapp as app\n"
          ]
        },
        {
          "output_type": "stream",
          "name": "stdout",
          "text": [
            "500/500 [==============================] - 12s 19ms/step - loss: 1.0383 - val_loss: 0.4578\n",
            "Epoch 2/20\n",
            "500/500 [==============================] - 9s 19ms/step - loss: 0.3876 - val_loss: 0.3447\n",
            "Epoch 3/20\n",
            "500/500 [==============================] - 9s 19ms/step - loss: 0.2968 - val_loss: 0.3103\n",
            "Epoch 4/20\n",
            "500/500 [==============================] - 9s 18ms/step - loss: 0.2704 - val_loss: 0.3161\n",
            "Epoch 5/20\n",
            "500/500 [==============================] - 9s 19ms/step - loss: 0.2556 - val_loss: 0.3473\n",
            "Epoch 6/20\n",
            "500/500 [==============================] - 9s 19ms/step - loss: 0.2472 - val_loss: 0.3063\n",
            "Epoch 7/20\n",
            "500/500 [==============================] - 9s 19ms/step - loss: 0.2382 - val_loss: 0.3227\n",
            "Epoch 8/20\n",
            "500/500 [==============================] - 9s 19ms/step - loss: 0.2315 - val_loss: 0.3159\n",
            "Epoch 9/20\n",
            "500/500 [==============================] - 9s 18ms/step - loss: 0.2293 - val_loss: 0.3136\n",
            "Epoch 10/20\n",
            "500/500 [==============================] - 9s 19ms/step - loss: 0.2223 - val_loss: 0.3235\n",
            "Epoch 11/20\n",
            "500/500 [==============================] - 9s 19ms/step - loss: 0.2190 - val_loss: 0.3423\n",
            "Epoch 12/20\n",
            "500/500 [==============================] - 9s 19ms/step - loss: 0.2159 - val_loss: 0.3380\n",
            "Epoch 13/20\n",
            "500/500 [==============================] - 9s 18ms/step - loss: 0.2123 - val_loss: 0.3578\n",
            "Epoch 14/20\n",
            "500/500 [==============================] - 9s 19ms/step - loss: 0.2103 - val_loss: 0.3621\n",
            "Epoch 15/20\n",
            "500/500 [==============================] - 9s 19ms/step - loss: 0.2085 - val_loss: 0.3291\n",
            "Epoch 16/20\n",
            "500/500 [==============================] - 9s 19ms/step - loss: 0.2058 - val_loss: 0.3605\n",
            "Epoch 17/20\n",
            "500/500 [==============================] - 9s 19ms/step - loss: 0.2046 - val_loss: 0.3698\n",
            "Epoch 18/20\n",
            "500/500 [==============================] - 9s 18ms/step - loss: 0.2029 - val_loss: 0.3404\n",
            "Epoch 19/20\n",
            "500/500 [==============================] - 15s 30ms/step - loss: 0.2014 - val_loss: 0.3401\n",
            "Epoch 20/20\n",
            "500/500 [==============================] - 9s 19ms/step - loss: 0.1996 - val_loss: 0.3412\n"
          ]
        }
      ]
    },
    {
      "cell_type": "markdown",
      "source": [
        "*34% 정도의 손실.*\n",
        "\n",
        "훈련 손실과 검증 손실의 그래프를 그려봄."
      ],
      "metadata": {
        "id": "JkROjTUGm1lk"
      }
    },
    {
      "cell_type": "code",
      "source": [
        "import matplotlib.pyplot as plt\n",
        "\n",
        "loss = history.history['loss']\n",
        "val_loss = history.history['val_loss']\n",
        "\n",
        "epochs = range(1, len(loss) + 1)\n",
        "\n",
        "plt.figure()\n",
        "\n",
        "plt.plot(epochs, loss, 'bo', label='Training loss')\n",
        "plt.plot(epochs, val_loss, 'b', label='Validation loss')\n",
        "plt.title('Training and validation loss')\n",
        "plt.legend()\n",
        "\n",
        "plt.show()"
      ],
      "metadata": {
        "colab": {
          "base_uri": "https://localhost:8080/",
          "height": 281
        },
        "id": "Gcx6EMZrm6vD",
        "outputId": "6cf815ba-3543-42a1-95bb-a56a9ef71c5a"
      },
      "execution_count": null,
      "outputs": [
        {
          "output_type": "display_data",
          "data": {
            "text/plain": [
              "<Figure size 432x288 with 1 Axes>"
            ],
            "image/png": "[encoded data removed]"
          },
          "metadata": {
            "needs_background": "light"
          }
        }
      ]
    },
    {
      "cell_type": "markdown",
      "source": [
        "## 첫 번째 순환 신경망\n",
        "\n",
        "첫 번째 완전 연결 네트워크는 시계열 데이터를 펼쳤기 때문에 입력 데이터에서 시간 개념을 잃어버려 잘 작동하지 않았음. 대신 인과관계와 순서가 의미있는 시퀀스 데이터 그대로 사용.\n",
        "\n",
        "순환 시퀀스 처리 모델은 앞선 모델과 달리 데이터 포인터의 시간 순서를 사용.\n",
        "\n",
        "그 중 GRU 층을 사용. GRU 층은 LSTM과 같은 원리로 작동하지만 조금 더 간결하고 계산 비용이 덜 듦."
      ],
      "metadata": {
        "id": "cE--xg4fm7-r"
      }
    },
    {
      "cell_type": "code",
      "source": [
        "from keras.models import Sequential\n",
        "from keras import layers\n",
        "from keras.optimizers import RMSprop\n",
        "\n",
        "model = Sequential()\n",
        "model.add(layers.GRU(32, input_shape=(None, float_data.shape[-1])))\n",
        "model.add(layers.Dense(1))\n",
        "\n",
        "model.compile(optimizer=RMSprop(), loss='mae')\n",
        "history = model.fit_generator(train_gen,\n",
        "                              steps_per_epoch=500,\n",
        "                              epochs=20,\n",
        "                              validation_data=val_gen,\n",
        "                              validation_steps=val_steps)"
      ],
      "metadata": {
        "colab": {
          "base_uri": "https://localhost:8080/"
        },
        "id": "YtYJxqYWp7uf",
        "outputId": "1d5d8d48-d41a-46c9-9f2e-625abf7e06e2"
      },
      "execution_count": null,
      "outputs": [
        {
          "output_type": "stream",
          "name": "stdout",
          "text": [
            "Epoch 1/20\n"
          ]
        },
        {
          "output_type": "stream",
          "name": "stderr",
          "text": [
            "/usr/local/lib/python3.7/dist-packages/ipykernel_launcher.py:14: UserWarning: `Model.fit_generator` is deprecated and will be removed in a future version. Please use `Model.fit`, which supports generators.\n",
            "  \n"
          ]
        },
        {
          "output_type": "stream",
          "name": "stdout",
          "text": [
            "500/500 [==============================] - 20s 32ms/step - loss: 0.3019 - val_loss: 0.2725\n",
            "Epoch 2/20\n",
            "500/500 [==============================] - 14s 28ms/step - loss: 0.2817 - val_loss: 0.2734\n",
            "Epoch 3/20\n",
            "500/500 [==============================] - 13s 26ms/step - loss: 0.2772 - val_loss: 0.2699\n",
            "Epoch 4/20\n",
            "500/500 [==============================] - 13s 26ms/step - loss: 0.2715 - val_loss: 0.2633\n",
            "Epoch 5/20\n",
            "500/500 [==============================] - 13s 26ms/step - loss: 0.2675 - val_loss: 0.2627\n",
            "Epoch 6/20\n",
            "500/500 [==============================] - 13s 26ms/step - loss: 0.2647 - val_loss: 0.2663\n",
            "Epoch 7/20\n",
            "500/500 [==============================] - 13s 26ms/step - loss: 0.2584 - val_loss: 0.2637\n",
            "Epoch 8/20\n",
            "500/500 [==============================] - 13s 26ms/step - loss: 0.2527 - val_loss: 0.2735\n",
            "Epoch 9/20\n",
            "500/500 [==============================] - 13s 26ms/step - loss: 0.2484 - val_loss: 0.2733\n",
            "Epoch 10/20\n",
            "500/500 [==============================] - 13s 26ms/step - loss: 0.2446 - val_loss: 0.2763\n",
            "Epoch 11/20\n",
            "500/500 [==============================] - 13s 26ms/step - loss: 0.2379 - val_loss: 0.2758\n",
            "Epoch 12/20\n",
            "500/500 [==============================] - 13s 26ms/step - loss: 0.2350 - val_loss: 0.2823\n",
            "Epoch 13/20\n",
            "500/500 [==============================] - 14s 29ms/step - loss: 0.2304 - val_loss: 0.2812\n",
            "Epoch 14/20\n",
            "500/500 [==============================] - 13s 26ms/step - loss: 0.2254 - val_loss: 0.2813\n",
            "Epoch 15/20\n",
            "500/500 [==============================] - 13s 26ms/step - loss: 0.2239 - val_loss: 0.2856\n",
            "Epoch 16/20\n",
            "500/500 [==============================] - 13s 26ms/step - loss: 0.2182 - val_loss: 0.2883\n",
            "Epoch 17/20\n",
            "500/500 [==============================] - 13s 26ms/step - loss: 0.2150 - val_loss: 0.2968\n",
            "Epoch 18/20\n",
            "500/500 [==============================] - 13s 26ms/step - loss: 0.2118 - val_loss: 0.2938\n",
            "Epoch 19/20\n",
            "500/500 [==============================] - 13s 26ms/step - loss: 0.2104 - val_loss: 0.2975\n",
            "Epoch 20/20\n",
            "500/500 [==============================] - 13s 26ms/step - loss: 0.2067 - val_loss: 0.3010\n"
          ]
        }
      ]
    },
    {
      "cell_type": "code",
      "source": [
        "loss = history.history['loss']\n",
        "val_loss = history.history['val_loss']\n",
        "\n",
        "epochs = range(1, len(loss) + 1)\n",
        "\n",
        "plt.figure()\n",
        "\n",
        "plt.plot(epochs, loss, 'bo', label='Training loss')\n",
        "plt.plot(epochs, val_loss, 'b', label='Validation loss')\n",
        "plt.title('Training and validation loss')\n",
        "plt.legend()\n",
        "\n",
        "plt.show()"
      ],
      "metadata": {
        "colab": {
          "base_uri": "https://localhost:8080/",
          "height": 281
        },
        "id": "jq8GXJLyp9JY",
        "outputId": "bf30f1b5-16a8-4e83-e33c-ee67b926a6bd"
      },
      "execution_count": null,
      "outputs": [
        {
          "output_type": "display_data",
          "data": {
            "text/plain": [
              "<Figure size 432x288 with 1 Axes>"
            ],
            "image/png": "[encoded data removed]"
          },
          "metadata": {
            "needs_background": "light"
          }
        }
      ]
    },
    {
      "cell_type": "markdown",
      "source": [
        "*이전의 모델보다 훨씬 좋은 결과.*\n",
        "\n",
        "<br>\n",
        "\n",
        "## 과대적합을 감소하기 위해 순환 드롭아웃 사용\n",
        "\n",
        "몇 번의 에폭 뒤에 훈련 손실과 검증 손실이 현저히 벌어지게 되면 과대적합임을 알 수 있음. 이를 해결하기 위해 드롭아웃 기법을 사용.\n",
        "\n",
        "드롭아웃 : 훈련 데이터를 층에 주입할 때 데이터에 있는 우연한 상관관계를 깨뜨리기 위해 입력 층의 유닛을 랜덤하게 끄는 기법.\n",
        "\n",
        "기존에는 순환층 이전에 드롭아웃을 적용하면 학습에 방해가 되는 것으로 알려져왔으나, 야린 갈이 순환 네트워크에서 적절하게 드롭아웃을 사용하는 방법을 알아냄. 타임스텝마다 랜덤하게 드롭아웃 마스크를 바꾸는 것이 아니라 동일한 드롭아웃 마스크를 모든 타임스텝에 적용.\n",
        "\n",
        "케라스의 모든 순환층은 dropout과 recurrent_dropout, 두 개의 드롭아웃 매개변수를 가짐. GRU 층에 드롭아웃과 순환 드롭아웃을 적용해 과대적합에 어떤 영향을 미치는지 확인."
      ],
      "metadata": {
        "id": "E9XlyYk2p9rJ"
      }
    },
    {
      "cell_type": "code",
      "source": [
        "from keras.models import Sequential\n",
        "from keras import layers\n",
        "from keras.optimizers import RMSprop\n",
        "\n",
        "model = Sequential()\n",
        "model.add(layers.GRU(32,\n",
        "                     dropout=0.2,\n",
        "                     recurrent_dropout=0.2,\n",
        "                     input_shape=(None, float_data.shape[-1])))\n",
        "model.add(layers.Dense(1))\n",
        "\n",
        "model.compile(optimizer=RMSprop(), loss='mae')\n",
        "history = model.fit_generator(train_gen,\n",
        "                              steps_per_epoch=500,\n",
        "                              epochs=40,\n",
        "                              validation_data=val_gen,\n",
        "                              validation_steps=val_steps)"
      ],
      "metadata": {
        "colab": {
          "base_uri": "https://localhost:8080/"
        },
        "id": "7SmJjlugsJNx",
        "outputId": "eab38bd5-3a81-403f-e54b-b74bc1421716"
      },
      "execution_count": null,
      "outputs": [
        {
          "output_type": "stream",
          "name": "stderr",
          "text": [
            "WARNING:tensorflow:Layer gru_1 will not use cuDNN kernels since it doesn't meet the criteria. It will use a generic GPU kernel as fallback when running on GPU.\n"
          ]
        },
        {
          "output_type": "stream",
          "name": "stdout",
          "text": [
            "Epoch 1/40\n"
          ]
        },
        {
          "output_type": "stream",
          "name": "stderr",
          "text": [
            "/usr/local/lib/python3.7/dist-packages/ipykernel_launcher.py:17: UserWarning: `Model.fit_generator` is deprecated and will be removed in a future version. Please use `Model.fit`, which supports generators.\n"
          ]
        },
        {
          "output_type": "stream",
          "name": "stdout",
          "text": [
            "500/500 [==============================] - 385s 767ms/step - loss: 0.3362 - val_loss: 0.2779\n",
            "Epoch 2/40\n",
            "500/500 [==============================] - 380s 760ms/step - loss: 0.3052 - val_loss: 0.2733\n",
            "Epoch 3/40\n",
            "500/500 [==============================] - 381s 763ms/step - loss: 0.3008 - val_loss: 0.2715\n",
            "Epoch 4/40\n",
            "500/500 [==============================] - 380s 761ms/step - loss: 0.2955 - val_loss: 0.2720\n",
            "Epoch 5/40\n",
            "500/500 [==============================] - 378s 756ms/step - loss: 0.2917 - val_loss: 0.2704\n",
            "Epoch 6/40\n",
            "500/500 [==============================] - 377s 755ms/step - loss: 0.2887 - val_loss: 0.2707\n",
            "Epoch 7/40\n",
            "500/500 [==============================] - 377s 755ms/step - loss: 0.2856 - val_loss: 0.2691\n",
            "Epoch 8/40\n",
            "500/500 [==============================] - 379s 757ms/step - loss: 0.2811 - val_loss: 0.2754\n",
            "Epoch 9/40\n",
            "500/500 [==============================] - 378s 757ms/step - loss: 0.2778 - val_loss: 0.2780\n",
            "Epoch 10/40\n",
            "500/500 [==============================] - 377s 755ms/step - loss: 0.2756 - val_loss: 0.2752\n",
            "Epoch 11/40\n",
            "500/500 [==============================] - 380s 760ms/step - loss: 0.2706 - val_loss: 0.2770\n",
            "Epoch 12/40\n",
            "500/500 [==============================] - 379s 759ms/step - loss: 0.2700 - val_loss: 0.2747\n",
            "Epoch 13/40\n",
            "500/500 [==============================] - 376s 752ms/step - loss: 0.2653 - val_loss: 0.2789\n",
            "Epoch 14/40\n",
            "500/500 [==============================] - 380s 760ms/step - loss: 0.2628 - val_loss: 0.2761\n",
            "Epoch 15/40\n",
            "500/500 [==============================] - 380s 761ms/step - loss: 0.2591 - val_loss: 0.2840\n",
            "Epoch 16/40\n",
            "500/500 [==============================] - 379s 758ms/step - loss: 0.2580 - val_loss: 0.2885\n",
            "Epoch 17/40\n",
            "500/500 [==============================] - 380s 760ms/step - loss: 0.2564 - val_loss: 0.2850\n",
            "Epoch 18/40\n",
            "500/500 [==============================] - 379s 757ms/step - loss: 0.2525 - val_loss: 0.2891\n",
            "Epoch 19/40\n",
            "500/500 [==============================] - 378s 755ms/step - loss: 0.2528 - val_loss: 0.2905\n",
            "Epoch 20/40\n",
            "500/500 [==============================] - 379s 759ms/step - loss: 0.2503 - val_loss: 0.2870\n",
            "Epoch 21/40\n",
            "500/500 [==============================] - 378s 757ms/step - loss: 0.2468 - val_loss: 0.2917\n",
            "Epoch 22/40\n",
            "500/500 [==============================] - 379s 759ms/step - loss: 0.2453 - val_loss: 0.2989\n",
            "Epoch 23/40\n",
            "500/500 [==============================] - 379s 758ms/step - loss: 0.2440 - val_loss: 0.2970\n",
            "Epoch 24/40\n",
            "500/500 [==============================] - 379s 759ms/step - loss: 0.2437 - val_loss: 0.2920\n",
            "Epoch 25/40\n",
            "500/500 [==============================] - 378s 757ms/step - loss: 0.2423 - val_loss: 0.3021\n",
            "Epoch 26/40\n",
            "500/500 [==============================] - 382s 764ms/step - loss: 0.2413 - val_loss: 0.3052\n",
            "Epoch 27/40\n",
            "500/500 [==============================] - 379s 758ms/step - loss: 0.2394 - val_loss: 0.3003\n",
            "Epoch 28/40\n",
            "500/500 [==============================] - 379s 758ms/step - loss: 0.2392 - val_loss: 0.2985\n",
            "Epoch 29/40\n",
            "500/500 [==============================] - 379s 759ms/step - loss: 0.2365 - val_loss: 0.3036\n",
            "Epoch 30/40\n",
            "500/500 [==============================] - 379s 758ms/step - loss: 0.2375 - val_loss: 0.3022\n",
            "Epoch 31/40\n",
            "500/500 [==============================] - 414s 828ms/step - loss: 0.2355 - val_loss: 0.3042\n",
            "Epoch 32/40\n",
            "500/500 [==============================] - 380s 759ms/step - loss: 0.2336 - val_loss: 0.3045\n",
            "Epoch 33/40\n",
            "500/500 [==============================] - 379s 758ms/step - loss: 0.2328 - val_loss: 0.3053\n",
            "Epoch 34/40\n",
            "500/500 [==============================] - 377s 754ms/step - loss: 0.2330 - val_loss: 0.3104\n",
            "Epoch 35/40\n",
            "500/500 [==============================] - 377s 754ms/step - loss: 0.2305 - val_loss: 0.3016\n",
            "Epoch 36/40\n",
            "500/500 [==============================] - 377s 755ms/step - loss: 0.2299 - val_loss: 0.3085\n",
            "Epoch 37/40\n",
            "500/500 [==============================] - 377s 755ms/step - loss: 0.2290 - val_loss: 0.3044\n",
            "Epoch 38/40\n",
            "500/500 [==============================] - 377s 754ms/step - loss: 0.2286 - val_loss: 0.3099\n",
            "Epoch 39/40\n",
            "500/500 [==============================] - 379s 759ms/step - loss: 0.2259 - val_loss: 0.3068\n",
            "Epoch 40/40\n",
            "500/500 [==============================] - 377s 754ms/step - loss: 0.2262 - val_loss: 0.3055\n"
          ]
        }
      ]
    },
    {
      "cell_type": "code",
      "source": [
        "loss = history.history['loss']\n",
        "val_loss = history.history['val_loss']\n",
        "\n",
        "epochs = range(1, len(loss) + 1)\n",
        "\n",
        "plt.figure()\n",
        "\n",
        "plt.plot(epochs, loss, 'bo', label='Training loss')\n",
        "plt.plot(epochs, val_loss, 'b', label='Validation loss')\n",
        "plt.title('Training and validation loss')\n",
        "plt.legend()\n",
        "\n",
        "plt.show()"
      ],
      "metadata": {
        "colab": {
          "base_uri": "https://localhost:8080/",
          "height": 281
        },
        "id": "3QIsroFtsLCd",
        "outputId": "2f123581-30ab-4885-bdcb-10deeb8c740f"
      },
      "execution_count": null,
      "outputs": [
        {
          "output_type": "display_data",
          "data": {
            "text/plain": [
              "<Figure size 432x288 with 1 Axes>"
            ],
            "image/png": "[encoded data removed]"
          },
          "metadata": {
            "needs_background": "light"
          }
        }
      ]
    },
    {
      "cell_type": "markdown",
      "source": [
        "*과대적합이 일어나지 않은 모습*\n",
        "\n",
        "<br>\n",
        "\n",
        "## 스태킹 순환 층\n",
        "\n",
        "과대적합은 더 이상 없지만 병목현상이 있으므로 네트워크의 용량을 늘려야 함.\n",
        "\n",
        "일반적으로 층의 유닛 수를 늘리거나 층을 추가. 순환층 스태킹은 더 강력한 순환 네트워크를 만들 수 있음.\n",
        "\n",
        "케라스에서 순환 층을 순서대로 쌓으려면 모든 중간 층은 마지막 타임스텝 출력만이 아니고 전체 시퀀스(3D 텐서)를 출력해야 함."
      ],
      "metadata": {
        "id": "ydj4to6ssMeS"
      }
    },
    {
      "cell_type": "code",
      "source": [
        "# 시간 문제로 실행 보류\n",
        "\n",
        "from keras.models import Sequential\n",
        "from keras import layers\n",
        "from keras.optimizers import RMSprop\n",
        "\n",
        "model = Sequential()\n",
        "model.add(layers.GRU(32,\n",
        "                     dropout=0.1,\n",
        "                     recurrent_dropout=0.5,\n",
        "                     return_sequences=True,\n",
        "                     input_shape=(None, float_data.shape[-1])))\n",
        "model.add(layers.GRU(64, activation='relu',\n",
        "                     dropout=0.1, \n",
        "                     recurrent_dropout=0.5))\n",
        "model.add(layers.Dense(1))\n",
        "\n",
        "model.compile(optimizer=RMSprop(), loss='mae')\n",
        "history = model.fit_generator(train_gen,\n",
        "                              steps_per_epoch=500,\n",
        "                              epochs=40,\n",
        "                              validation_data=val_gen,\n",
        "                              validation_steps=val_steps)"
      ],
      "metadata": {
        "colab": {
          "base_uri": "https://localhost:8080/",
          "height": 455
        },
        "id": "KyiTcongsk3h",
        "outputId": "6533b786-b8eb-48df-a8b3-e96972258aff"
      },
      "execution_count": null,
      "outputs": [
        {
          "output_type": "stream",
          "name": "stderr",
          "text": [
            "WARNING:tensorflow:Layer gru_2 will not use cuDNN kernels since it doesn't meet the criteria. It will use a generic GPU kernel as fallback when running on GPU.\n",
            "WARNING:tensorflow:Layer gru_3 will not use cuDNN kernels since it doesn't meet the criteria. It will use a generic GPU kernel as fallback when running on GPU.\n"
          ]
        },
        {
          "output_type": "stream",
          "name": "stdout",
          "text": [
            "Epoch 1/40\n"
          ]
        },
        {
          "output_type": "stream",
          "name": "stderr",
          "text": [
            "/usr/local/lib/python3.7/dist-packages/ipykernel_launcher.py:21: UserWarning: `Model.fit_generator` is deprecated and will be removed in a future version. Please use `Model.fit`, which supports generators.\n"
          ]
        },
        {
          "output_type": "stream",
          "name": "stdout",
          "text": [
            "116/500 [=====>........................] - ETA: 9:40 - loss: 0.3551"
          ]
        },
        {
          "output_type": "error",
          "ename": "KeyboardInterrupt",
          "evalue": "ignored",
          "traceback": [
            "\u001b[0;31m---------------------------------------------------------------------------\u001b[0m",
            "\u001b[0;31mKeyboardInterrupt\u001b[0m                         Traceback (most recent call last)",
            "\u001b[0;32m<ipython-input-17-016f10e0a325>\u001b[0m in \u001b[0;36m<module>\u001b[0;34m\u001b[0m\n\u001b[1;32m     19\u001b[0m                               \u001b[0mepochs\u001b[0m\u001b[0;34m=\u001b[0m\u001b[0;36m40\u001b[0m\u001b[0;34m,\u001b[0m\u001b[0;34m\u001b[0m\u001b[0;34m\u001b[0m\u001b[0m\n\u001b[1;32m     20\u001b[0m                               \u001b[0mvalidation_data\u001b[0m\u001b[0;34m=\u001b[0m\u001b[0mval_gen\u001b[0m\u001b[0;34m,\u001b[0m\u001b[0;34m\u001b[0m\u001b[0;34m\u001b[0m\u001b[0m\n\u001b[0;32m---> 21\u001b[0;31m                               validation_steps=val_steps)\n\u001b[0m",
            "\u001b[0;32m/usr/local/lib/python3.7/dist-packages/keras/engine/training.py\u001b[0m in \u001b[0;36mfit_generator\u001b[0;34m(self, generator, steps_per_epoch, epochs, verbose, callbacks, validation_data, validation_steps, validation_freq, class_weight, max_queue_size, workers, use_multiprocessing, shuffle, initial_epoch)\u001b[0m\n\u001b[1;32m   2272\u001b[0m         \u001b[0muse_multiprocessing\u001b[0m\u001b[0;34m=\u001b[0m\u001b[0muse_multiprocessing\u001b[0m\u001b[0;34m,\u001b[0m\u001b[0;34m\u001b[0m\u001b[0;34m\u001b[0m\u001b[0m\n\u001b[1;32m   2273\u001b[0m         \u001b[0mshuffle\u001b[0m\u001b[0;34m=\u001b[0m\u001b[0mshuffle\u001b[0m\u001b[0;34m,\u001b[0m\u001b[0;34m\u001b[0m\u001b[0;34m\u001b[0m\u001b[0m\n\u001b[0;32m-> 2274\u001b[0;31m         initial_epoch=initial_epoch)\n\u001b[0m\u001b[1;32m   2275\u001b[0m \u001b[0;34m\u001b[0m\u001b[0m\n\u001b[1;32m   2276\u001b[0m   \u001b[0;34m@\u001b[0m\u001b[0mdoc_controls\u001b[0m\u001b[0;34m.\u001b[0m\u001b[0mdo_not_generate_docs\u001b[0m\u001b[0;34m\u001b[0m\u001b[0;34m\u001b[0m\u001b[0m\n",
            "\u001b[0;32m/usr/local/lib/python3.7/dist-packages/keras/utils/traceback_utils.py\u001b[0m in \u001b[0;36merror_handler\u001b[0;34m(*args, **kwargs)\u001b[0m\n\u001b[1;32m     62\u001b[0m     \u001b[0mfiltered_tb\u001b[0m \u001b[0;34m=\u001b[0m \u001b[0;32mNone\u001b[0m\u001b[0;34m\u001b[0m\u001b[0;34m\u001b[0m\u001b[0m\n\u001b[1;32m     63\u001b[0m     \u001b[0;32mtry\u001b[0m\u001b[0;34m:\u001b[0m\u001b[0;34m\u001b[0m\u001b[0;34m\u001b[0m\u001b[0m\n\u001b[0;32m---> 64\u001b[0;31m       \u001b[0;32mreturn\u001b[0m \u001b[0mfn\u001b[0m\u001b[0;34m(\u001b[0m\u001b[0;34m*\u001b[0m\u001b[0margs\u001b[0m\u001b[0;34m,\u001b[0m \u001b[0;34m**\u001b[0m\u001b[0mkwargs\u001b[0m\u001b[0;34m)\u001b[0m\u001b[0;34m\u001b[0m\u001b[0;34m\u001b[0m\u001b[0m\n\u001b[0m\u001b[1;32m     65\u001b[0m     \u001b[0;32mexcept\u001b[0m \u001b[0mException\u001b[0m \u001b[0;32mas\u001b[0m \u001b[0me\u001b[0m\u001b[0;34m:\u001b[0m  \u001b[0;31m# pylint: disable=broad-except\u001b[0m\u001b[0;34m\u001b[0m\u001b[0;34m\u001b[0m\u001b[0m\n\u001b[1;32m     66\u001b[0m       \u001b[0mfiltered_tb\u001b[0m \u001b[0;34m=\u001b[0m \u001b[0m_process_traceback_frames\u001b[0m\u001b[0;34m(\u001b[0m\u001b[0me\u001b[0m\u001b[0;34m.\u001b[0m\u001b[0m__traceback__\u001b[0m\u001b[0;34m)\u001b[0m\u001b[0;34m\u001b[0m\u001b[0;34m\u001b[0m\u001b[0m\n",
            "\u001b[0;32m/usr/local/lib/python3.7/dist-packages/keras/engine/training.py\u001b[0m in \u001b[0;36mfit\u001b[0;34m(self, x, y, batch_size, epochs, verbose, callbacks, validation_split, validation_data, shuffle, class_weight, sample_weight, initial_epoch, steps_per_epoch, validation_steps, validation_batch_size, validation_freq, max_queue_size, workers, use_multiprocessing)\u001b[0m\n\u001b[1;32m   1407\u001b[0m                 _r=1):\n\u001b[1;32m   1408\u001b[0m               \u001b[0mcallbacks\u001b[0m\u001b[0;34m.\u001b[0m\u001b[0mon_train_batch_begin\u001b[0m\u001b[0;34m(\u001b[0m\u001b[0mstep\u001b[0m\u001b[0;34m)\u001b[0m\u001b[0;34m\u001b[0m\u001b[0;34m\u001b[0m\u001b[0m\n\u001b[0;32m-> 1409\u001b[0;31m               \u001b[0mtmp_logs\u001b[0m \u001b[0;34m=\u001b[0m \u001b[0mself\u001b[0m\u001b[0;34m.\u001b[0m\u001b[0mtrain_function\u001b[0m\u001b[0;34m(\u001b[0m\u001b[0miterator\u001b[0m\u001b[0;34m)\u001b[0m\u001b[0;34m\u001b[0m\u001b[0;34m\u001b[0m\u001b[0m\n\u001b[0m\u001b[1;32m   1410\u001b[0m               \u001b[0;32mif\u001b[0m \u001b[0mdata_handler\u001b[0m\u001b[0;34m.\u001b[0m\u001b[0mshould_sync\u001b[0m\u001b[0;34m:\u001b[0m\u001b[0;34m\u001b[0m\u001b[0;34m\u001b[0m\u001b[0m\n\u001b[1;32m   1411\u001b[0m                 \u001b[0mcontext\u001b[0m\u001b[0;34m.\u001b[0m\u001b[0masync_wait\u001b[0m\u001b[0;34m(\u001b[0m\u001b[0;34m)\u001b[0m\u001b[0;34m\u001b[0m\u001b[0;34m\u001b[0m\u001b[0m\n",
            "\u001b[0;32m/usr/local/lib/python3.7/dist-packages/tensorflow/python/util/traceback_utils.py\u001b[0m in \u001b[0;36merror_handler\u001b[0;34m(*args, **kwargs)\u001b[0m\n\u001b[1;32m    148\u001b[0m     \u001b[0mfiltered_tb\u001b[0m \u001b[0;34m=\u001b[0m \u001b[0;32mNone\u001b[0m\u001b[0;34m\u001b[0m\u001b[0;34m\u001b[0m\u001b[0m\n\u001b[1;32m    149\u001b[0m     \u001b[0;32mtry\u001b[0m\u001b[0;34m:\u001b[0m\u001b[0;34m\u001b[0m\u001b[0;34m\u001b[0m\u001b[0m\n\u001b[0;32m--> 150\u001b[0;31m       \u001b[0;32mreturn\u001b[0m \u001b[0mfn\u001b[0m\u001b[0;34m(\u001b[0m\u001b[0;34m*\u001b[0m\u001b[0margs\u001b[0m\u001b[0;34m,\u001b[0m \u001b[0;34m**\u001b[0m\u001b[0mkwargs\u001b[0m\u001b[0;34m)\u001b[0m\u001b[0;34m\u001b[0m\u001b[0;34m\u001b[0m\u001b[0m\n\u001b[0m\u001b[1;32m    151\u001b[0m     \u001b[0;32mexcept\u001b[0m \u001b[0mException\u001b[0m \u001b[0;32mas\u001b[0m \u001b[0me\u001b[0m\u001b[0;34m:\u001b[0m\u001b[0;34m\u001b[0m\u001b[0;34m\u001b[0m\u001b[0m\n\u001b[1;32m    152\u001b[0m       \u001b[0mfiltered_tb\u001b[0m \u001b[0;34m=\u001b[0m \u001b[0m_process_traceback_frames\u001b[0m\u001b[0;34m(\u001b[0m\u001b[0me\u001b[0m\u001b[0;34m.\u001b[0m\u001b[0m__traceback__\u001b[0m\u001b[0;34m)\u001b[0m\u001b[0;34m\u001b[0m\u001b[0;34m\u001b[0m\u001b[0m\n",
            "\u001b[0;32m/usr/local/lib/python3.7/dist-packages/tensorflow/python/eager/def_function.py\u001b[0m in \u001b[0;36m__call__\u001b[0;34m(self, *args, **kwds)\u001b[0m\n\u001b[1;32m    913\u001b[0m \u001b[0;34m\u001b[0m\u001b[0m\n\u001b[1;32m    914\u001b[0m       \u001b[0;32mwith\u001b[0m \u001b[0mOptionalXlaContext\u001b[0m\u001b[0;34m(\u001b[0m\u001b[0mself\u001b[0m\u001b[0;34m.\u001b[0m\u001b[0m_jit_compile\u001b[0m\u001b[0;34m)\u001b[0m\u001b[0;34m:\u001b[0m\u001b[0;34m\u001b[0m\u001b[0;34m\u001b[0m\u001b[0m\n\u001b[0;32m--> 915\u001b[0;31m         \u001b[0mresult\u001b[0m \u001b[0;34m=\u001b[0m \u001b[0mself\u001b[0m\u001b[0;34m.\u001b[0m\u001b[0m_call\u001b[0m\u001b[0;34m(\u001b[0m\u001b[0;34m*\u001b[0m\u001b[0margs\u001b[0m\u001b[0;34m,\u001b[0m \u001b[0;34m**\u001b[0m\u001b[0mkwds\u001b[0m\u001b[0;34m)\u001b[0m\u001b[0;34m\u001b[0m\u001b[0;34m\u001b[0m\u001b[0m\n\u001b[0m\u001b[1;32m    916\u001b[0m \u001b[0;34m\u001b[0m\u001b[0m\n\u001b[1;32m    917\u001b[0m       \u001b[0mnew_tracing_count\u001b[0m \u001b[0;34m=\u001b[0m \u001b[0mself\u001b[0m\u001b[0;34m.\u001b[0m\u001b[0mexperimental_get_tracing_count\u001b[0m\u001b[0;34m(\u001b[0m\u001b[0;34m)\u001b[0m\u001b[0;34m\u001b[0m\u001b[0;34m\u001b[0m\u001b[0m\n",
            "\u001b[0;32m/usr/local/lib/python3.7/dist-packages/tensorflow/python/eager/def_function.py\u001b[0m in \u001b[0;36m_call\u001b[0;34m(self, *args, **kwds)\u001b[0m\n\u001b[1;32m    945\u001b[0m       \u001b[0;31m# In this case we have created variables on the first call, so we run the\u001b[0m\u001b[0;34m\u001b[0m\u001b[0;34m\u001b[0m\u001b[0;34m\u001b[0m\u001b[0m\n\u001b[1;32m    946\u001b[0m       \u001b[0;31m# defunned version which is guaranteed to never create variables.\u001b[0m\u001b[0;34m\u001b[0m\u001b[0;34m\u001b[0m\u001b[0;34m\u001b[0m\u001b[0m\n\u001b[0;32m--> 947\u001b[0;31m       \u001b[0;32mreturn\u001b[0m \u001b[0mself\u001b[0m\u001b[0;34m.\u001b[0m\u001b[0m_stateless_fn\u001b[0m\u001b[0;34m(\u001b[0m\u001b[0;34m*\u001b[0m\u001b[0margs\u001b[0m\u001b[0;34m,\u001b[0m \u001b[0;34m**\u001b[0m\u001b[0mkwds\u001b[0m\u001b[0;34m)\u001b[0m  \u001b[0;31m# pylint: disable=not-callable\u001b[0m\u001b[0;34m\u001b[0m\u001b[0;34m\u001b[0m\u001b[0m\n\u001b[0m\u001b[1;32m    948\u001b[0m     \u001b[0;32melif\u001b[0m \u001b[0mself\u001b[0m\u001b[0;34m.\u001b[0m\u001b[0m_stateful_fn\u001b[0m \u001b[0;32mis\u001b[0m \u001b[0;32mnot\u001b[0m \u001b[0;32mNone\u001b[0m\u001b[0;34m:\u001b[0m\u001b[0;34m\u001b[0m\u001b[0;34m\u001b[0m\u001b[0m\n\u001b[1;32m    949\u001b[0m       \u001b[0;31m# Release the lock early so that multiple threads can perform the call\u001b[0m\u001b[0;34m\u001b[0m\u001b[0;34m\u001b[0m\u001b[0;34m\u001b[0m\u001b[0m\n",
            "\u001b[0;32m/usr/local/lib/python3.7/dist-packages/tensorflow/python/eager/function.py\u001b[0m in \u001b[0;36m__call__\u001b[0;34m(self, *args, **kwargs)\u001b[0m\n\u001b[1;32m   2452\u001b[0m        filtered_flat_args) = self._maybe_define_function(args, kwargs)\n\u001b[1;32m   2453\u001b[0m     return graph_function._call_flat(\n\u001b[0;32m-> 2454\u001b[0;31m         filtered_flat_args, captured_inputs=graph_function.captured_inputs)  # pylint: disable=protected-access\n\u001b[0m\u001b[1;32m   2455\u001b[0m \u001b[0;34m\u001b[0m\u001b[0m\n\u001b[1;32m   2456\u001b[0m   \u001b[0;34m@\u001b[0m\u001b[0mproperty\u001b[0m\u001b[0;34m\u001b[0m\u001b[0;34m\u001b[0m\u001b[0m\n",
            "\u001b[0;32m/usr/local/lib/python3.7/dist-packages/tensorflow/python/eager/function.py\u001b[0m in \u001b[0;36m_call_flat\u001b[0;34m(self, args, captured_inputs, cancellation_manager)\u001b[0m\n\u001b[1;32m   1859\u001b[0m       \u001b[0;31m# No tape is watching; skip to running the function.\u001b[0m\u001b[0;34m\u001b[0m\u001b[0;34m\u001b[0m\u001b[0;34m\u001b[0m\u001b[0m\n\u001b[1;32m   1860\u001b[0m       return self._build_call_outputs(self._inference_function.call(\n\u001b[0;32m-> 1861\u001b[0;31m           ctx, args, cancellation_manager=cancellation_manager))\n\u001b[0m\u001b[1;32m   1862\u001b[0m     forward_backward = self._select_forward_and_backward_functions(\n\u001b[1;32m   1863\u001b[0m         \u001b[0margs\u001b[0m\u001b[0;34m,\u001b[0m\u001b[0;34m\u001b[0m\u001b[0;34m\u001b[0m\u001b[0m\n",
            "\u001b[0;32m/usr/local/lib/python3.7/dist-packages/tensorflow/python/eager/function.py\u001b[0m in \u001b[0;36mcall\u001b[0;34m(self, ctx, args, cancellation_manager)\u001b[0m\n\u001b[1;32m    500\u001b[0m               \u001b[0minputs\u001b[0m\u001b[0;34m=\u001b[0m\u001b[0margs\u001b[0m\u001b[0;34m,\u001b[0m\u001b[0;34m\u001b[0m\u001b[0;34m\u001b[0m\u001b[0m\n\u001b[1;32m    501\u001b[0m               \u001b[0mattrs\u001b[0m\u001b[0;34m=\u001b[0m\u001b[0mattrs\u001b[0m\u001b[0;34m,\u001b[0m\u001b[0;34m\u001b[0m\u001b[0;34m\u001b[0m\u001b[0m\n\u001b[0;32m--> 502\u001b[0;31m               ctx=ctx)\n\u001b[0m\u001b[1;32m    503\u001b[0m         \u001b[0;32melse\u001b[0m\u001b[0;34m:\u001b[0m\u001b[0;34m\u001b[0m\u001b[0;34m\u001b[0m\u001b[0m\n\u001b[1;32m    504\u001b[0m           outputs = execute.execute_with_cancellation(\n",
            "\u001b[0;32m/usr/local/lib/python3.7/dist-packages/tensorflow/python/eager/execute.py\u001b[0m in \u001b[0;36mquick_execute\u001b[0;34m(op_name, num_outputs, inputs, attrs, ctx, name)\u001b[0m\n\u001b[1;32m     53\u001b[0m     \u001b[0mctx\u001b[0m\u001b[0;34m.\u001b[0m\u001b[0mensure_initialized\u001b[0m\u001b[0;34m(\u001b[0m\u001b[0;34m)\u001b[0m\u001b[0;34m\u001b[0m\u001b[0;34m\u001b[0m\u001b[0m\n\u001b[1;32m     54\u001b[0m     tensors = pywrap_tfe.TFE_Py_Execute(ctx._handle, device_name, op_name,\n\u001b[0;32m---> 55\u001b[0;31m                                         inputs, attrs, num_outputs)\n\u001b[0m\u001b[1;32m     56\u001b[0m   \u001b[0;32mexcept\u001b[0m \u001b[0mcore\u001b[0m\u001b[0;34m.\u001b[0m\u001b[0m_NotOkStatusException\u001b[0m \u001b[0;32mas\u001b[0m \u001b[0me\u001b[0m\u001b[0;34m:\u001b[0m\u001b[0;34m\u001b[0m\u001b[0;34m\u001b[0m\u001b[0m\n\u001b[1;32m     57\u001b[0m     \u001b[0;32mif\u001b[0m \u001b[0mname\u001b[0m \u001b[0;32mis\u001b[0m \u001b[0;32mnot\u001b[0m \u001b[0;32mNone\u001b[0m\u001b[0;34m:\u001b[0m\u001b[0;34m\u001b[0m\u001b[0;34m\u001b[0m\u001b[0m\n",
            "\u001b[0;31mKeyboardInterrupt\u001b[0m: "
          ]
        }
      ]
    },
    {
      "cell_type": "code",
      "source": [
        "loss = history.history['loss']\n",
        "val_loss = history.history['val_loss']\n",
        "\n",
        "epochs = range(1, len(loss) + 1)\n",
        "\n",
        "plt.figure()\n",
        "\n",
        "plt.plot(epochs, loss, 'bo', label='Training loss')\n",
        "plt.plot(epochs, val_loss, 'b', label='Validation loss')\n",
        "plt.title('Training and validation loss')\n",
        "plt.legend()\n",
        "\n",
        "plt.show()"
      ],
      "metadata": {
        "id": "CESwu5UksmAz"
      },
      "execution_count": null,
      "outputs": []
    },
    {
      "cell_type": "markdown",
      "source": [
        "\n",
        "<br>\n",
        "\n",
        "## 양방향 RNN 사용하기\n",
        "\n",
        "양방향 RNN은 RNN의 변종이며, 특정 작업에서 기본 RNN보다 훨씬 좋은 성능을 냄.\n",
        "\n",
        "RNN은 순서 또는 시간에 민감. 즉, 입력 시퀀스의 타임스텝 순서대로 처리. 타임스텝을 섞거나 거꾸로 하면 RNN이 시퀀스에서 학습하는 표현을 완전히 바꿔버림.\n",
        "양방향 RNN은 RNN이 순서에 민감하다는 성질을 사용."
      ],
      "metadata": {
        "id": "r6FBsmkWsm3W"
      }
    },
    {
      "cell_type": "code",
      "source": [
        "def reverse_order_generator(data, lookback, delay, min_index, max_index,\n",
        "                            shuffle=False, batch_size=128, step=6):\n",
        "    if max_index is None:\n",
        "        max_index = len(data) - delay - 1\n",
        "    i = min_index + lookback\n",
        "    while 1:\n",
        "        if shuffle:\n",
        "            rows = np.random.randint(\n",
        "                min_index + lookback, max_index, size=batch_size)\n",
        "        else:\n",
        "            if i + batch_size >= max_index:\n",
        "                i = min_index + lookback\n",
        "            rows = np.arange(i, min(i + batch_size, max_index))\n",
        "            i += len(rows)\n",
        "\n",
        "        samples = np.zeros((len(rows),\n",
        "                           lookback // step,\n",
        "                           data.shape[-1]))\n",
        "        targets = np.zeros((len(rows),))\n",
        "        for j, row in enumerate(rows):\n",
        "            indices = range(rows[j] - lookback, rows[j], step)\n",
        "            samples[j] = data[indices]\n",
        "            targets[j] = data[rows[j] + delay][1]\n",
        "        yield samples[:, ::-1, :], targets\n",
        "        \n",
        "train_gen_reverse = reverse_order_generator(\n",
        "    float_data,\n",
        "    lookback=lookback,\n",
        "    delay=delay,\n",
        "    min_index=0,\n",
        "    max_index=200000,\n",
        "    shuffle=True,\n",
        "    step=step, \n",
        "    batch_size=batch_size)\n",
        "val_gen_reverse = reverse_order_generator(\n",
        "    float_data,\n",
        "    lookback=lookback,\n",
        "    delay=delay,\n",
        "    min_index=200001,\n",
        "    max_index=300000,\n",
        "    step=step,\n",
        "    batch_size=batch_size)"
      ],
      "metadata": {
        "id": "WDhP3sAM0G7c"
      },
      "execution_count": null,
      "outputs": []
    },
    {
      "cell_type": "code",
      "source": [
        "model = Sequential()\n",
        "model.add(layers.GRU(32, input_shape=(None, float_data.shape[-1])))\n",
        "model.add(layers.Dense(1))\n",
        "\n",
        "model.compile(optimizer=RMSprop(), loss='mae')\n",
        "history = model.fit_generator(train_gen_reverse,\n",
        "                              steps_per_epoch=500,\n",
        "                              epochs=20,\n",
        "                              validation_data=val_gen_reverse,\n",
        "                              validation_steps=val_steps)"
      ],
      "metadata": {
        "colab": {
          "base_uri": "https://localhost:8080/"
        },
        "id": "Vepv5yZp0IXf",
        "outputId": "67938690-6326-4922-c4fa-4831e7aa385f"
      },
      "execution_count": null,
      "outputs": [
        {
          "output_type": "stream",
          "name": "stdout",
          "text": [
            "Epoch 1/20\n"
          ]
        },
        {
          "output_type": "stream",
          "name": "stderr",
          "text": [
            "/usr/local/lib/python3.7/dist-packages/ipykernel_launcher.py:10: UserWarning: `Model.fit_generator` is deprecated and will be removed in a future version. Please use `Model.fit`, which supports generators.\n",
            "  # Remove the CWD from sys.path while we load stuff.\n"
          ]
        },
        {
          "output_type": "stream",
          "name": "stdout",
          "text": [
            "500/500 [==============================] - 20s 34ms/step - loss: 0.4783 - val_loss: 0.4913\n",
            "Epoch 2/20\n",
            "500/500 [==============================] - 15s 30ms/step - loss: 0.4470 - val_loss: 0.4694\n",
            "Epoch 3/20\n",
            "500/500 [==============================] - 14s 29ms/step - loss: 0.3995 - val_loss: 0.4587\n",
            "Epoch 4/20\n",
            "500/500 [==============================] - 15s 29ms/step - loss: 0.3598 - val_loss: 0.4292\n",
            "Epoch 5/20\n",
            "500/500 [==============================] - 15s 31ms/step - loss: 0.3352 - val_loss: 0.4223\n",
            "Epoch 6/20\n",
            "500/500 [==============================] - 17s 33ms/step - loss: 0.3176 - val_loss: 0.4119\n",
            "Epoch 7/20\n",
            "500/500 [==============================] - 17s 35ms/step - loss: 0.3024 - val_loss: 0.4108\n",
            "Epoch 8/20\n",
            "500/500 [==============================] - 17s 35ms/step - loss: 0.2918 - val_loss: 0.4134\n",
            "Epoch 9/20\n",
            "500/500 [==============================] - 16s 31ms/step - loss: 0.2817 - val_loss: 0.4099\n",
            "Epoch 10/20\n",
            "500/500 [==============================] - 15s 30ms/step - loss: 0.2748 - val_loss: 0.4137\n",
            "Epoch 11/20\n",
            "500/500 [==============================] - 16s 31ms/step - loss: 0.2657 - val_loss: 0.4259\n",
            "Epoch 12/20\n",
            "500/500 [==============================] - 15s 30ms/step - loss: 0.2587 - val_loss: 0.4224\n",
            "Epoch 13/20\n",
            "500/500 [==============================] - 16s 31ms/step - loss: 0.2534 - val_loss: 0.4268\n",
            "Epoch 14/20\n",
            "500/500 [==============================] - 15s 31ms/step - loss: 0.2473 - val_loss: 0.4215\n",
            "Epoch 15/20\n",
            "500/500 [==============================] - 15s 30ms/step - loss: 0.2431 - val_loss: 0.4274\n",
            "Epoch 16/20\n",
            "500/500 [==============================] - 15s 29ms/step - loss: 0.2374 - val_loss: 0.4374\n",
            "Epoch 17/20\n",
            "500/500 [==============================] - 17s 34ms/step - loss: 0.2347 - val_loss: 0.4417\n",
            "Epoch 18/20\n",
            "500/500 [==============================] - 18s 35ms/step - loss: 0.2302 - val_loss: 0.4395\n",
            "Epoch 19/20\n",
            "500/500 [==============================] - 16s 32ms/step - loss: 0.2270 - val_loss: 0.4416\n",
            "Epoch 20/20\n",
            "500/500 [==============================] - 15s 30ms/step - loss: 0.2231 - val_loss: 0.4530\n"
          ]
        }
      ]
    },
    {
      "cell_type": "code",
      "source": [
        "loss = history.history['loss']\n",
        "val_loss = history.history['val_loss']\n",
        "\n",
        "epochs = range(1, len(loss) + 1)\n",
        "\n",
        "plt.figure()\n",
        "\n",
        "plt.plot(epochs, loss, 'bo', label='Training loss')\n",
        "plt.plot(epochs, val_loss, 'b', label='Validation loss')\n",
        "plt.title('Training and validation loss')\n",
        "plt.legend()\n",
        "\n",
        "plt.show()"
      ],
      "metadata": {
        "colab": {
          "base_uri": "https://localhost:8080/",
          "height": 281
        },
        "id": "88glYjhq0KKG",
        "outputId": "1be81e37-40d2-4a79-b2da-379d6c69ce8d"
      },
      "execution_count": null,
      "outputs": [
        {
          "output_type": "display_data",
          "data": {
            "text/plain": [
              "<Figure size 432x288 with 1 Axes>"
            ],
            "image/png": "[encoded data removed]"
          },
          "metadata": {
            "needs_background": "light"
          }
        }
      ]
    },
    {
      "cell_type": "markdown",
      "source": [
        "*순서를 뒤집은 GRU는 굉장히 성능이 낮은 모습. 즉, 시간 순서대로 처리하는 것이 중요한 역할을 한다는 것을 알 수 있음.*\n",
        "\n",
        "시간 순서대로 처리하는 네트워크가 거꾸로 처리하는 것보다 성능이 높아야만 함. 그러나 자연어 처리를 포함한 다른 문제들에서는, 문장을 이해하는데 있어 단어의 중요성은 단어가 문장의 어디에 놓여있는지에 따라 결정되지 않으므로 그렇지 않음."
      ],
      "metadata": {
        "id": "VgtvwoJ00K7U"
      }
    },
    {
      "cell_type": "code",
      "source": [
        "from keras.datasets import imdb\n",
        "from keras_preprocessing.sequence import pad_sequences\n",
        "from keras import layers\n",
        "from keras.models import Sequential\n",
        "\n",
        "# 특성으로 사용할 단어의 수\n",
        "max_features = 10000\n",
        "# 사용할 텍스트의 길이(가장 빈번한 max_features 개의 단어만 사용합니다)\n",
        "maxlen = 500\n",
        "\n",
        "# 데이터 로드\n",
        "(x_train, y_train), (x_test, y_test) = imdb.load_data(num_words=max_features)\n",
        "\n",
        "# 시퀀스를 뒤집습니다\n",
        "x_train = [x[::-1] for x in x_train]\n",
        "x_test = [x[::-1] for x in x_test]\n",
        "\n",
        "# 시퀀스에 패딩을 추가합니다\n",
        "x_train = pad_sequences(x_train, maxlen=maxlen)\n",
        "x_test = pad_sequences(x_test, maxlen=maxlen)\n",
        "\n",
        "model = Sequential()\n",
        "model.add(layers.Embedding(max_features, 128))\n",
        "model.add(layers.LSTM(32))\n",
        "model.add(layers.Dense(1, activation='sigmoid'))\n",
        "\n",
        "model.compile(optimizer='rmsprop',\n",
        "              loss='binary_crossentropy',\n",
        "              metrics=['acc'])\n",
        "history = model.fit(x_train, y_train,\n",
        "                    epochs=10,\n",
        "                    batch_size=128,\n",
        "                    validation_split=0.2)"
      ],
      "metadata": {
        "colab": {
          "base_uri": "https://localhost:8080/"
        },
        "id": "gRFOA51X0hqj",
        "outputId": "7e8e3cf5-5268-4d66-ca0a-eb47a1ce0c21"
      },
      "execution_count": null,
      "outputs": [
        {
          "output_type": "stream",
          "name": "stdout",
          "text": [
            "Epoch 1/10\n",
            "157/157 [==============================] - 9s 26ms/step - loss: 0.4848 - acc: 0.7750 - val_loss: 0.3711 - val_acc: 0.8452\n",
            "Epoch 2/10\n",
            "157/157 [==============================] - 4s 23ms/step - loss: 0.3097 - acc: 0.8795 - val_loss: 0.3539 - val_acc: 0.8472\n",
            "Epoch 3/10\n",
            "157/157 [==============================] - 4s 23ms/step - loss: 0.2486 - acc: 0.9075 - val_loss: 0.3268 - val_acc: 0.8624\n",
            "Epoch 4/10\n",
            "157/157 [==============================] - 4s 23ms/step - loss: 0.2129 - acc: 0.9227 - val_loss: 0.4821 - val_acc: 0.8334\n",
            "Epoch 5/10\n",
            "157/157 [==============================] - 4s 22ms/step - loss: 0.1886 - acc: 0.9331 - val_loss: 0.3604 - val_acc: 0.8522\n",
            "Epoch 6/10\n",
            "157/157 [==============================] - 4s 23ms/step - loss: 0.1762 - acc: 0.9388 - val_loss: 0.4421 - val_acc: 0.8626\n",
            "Epoch 7/10\n",
            "157/157 [==============================] - 4s 22ms/step - loss: 0.1501 - acc: 0.9474 - val_loss: 0.3690 - val_acc: 0.8662\n",
            "Epoch 8/10\n",
            "157/157 [==============================] - 4s 22ms/step - loss: 0.1406 - acc: 0.9513 - val_loss: 0.3815 - val_acc: 0.8588\n",
            "Epoch 9/10\n",
            "157/157 [==============================] - 4s 23ms/step - loss: 0.1241 - acc: 0.9589 - val_loss: 0.4596 - val_acc: 0.8544\n",
            "Epoch 10/10\n",
            "157/157 [==============================] - 4s 23ms/step - loss: 0.1163 - acc: 0.9624 - val_loss: 0.4461 - val_acc: 0.8712\n"
          ]
        }
      ]
    },
    {
      "cell_type": "markdown",
      "source": [
        "*LSTM IMDB에 적용한 모습. 시간 순서대로 훈련한 LSTM과 거의 동일한 성능을 얻을 수 있음.*\n",
        "\n",
        "<br>\n",
        "\n",
        "머신러닝에서는 다른 표현이 유용하다면 항상 사용할 가치가 있음. 데이터를 바라보는 새로운 시각을 제공하고 다른 방식에서는 놓칠 수 있는 데이터의 특징을 잡아내어 작업의 성능을 올리는 데 도움을 줌. (앙상블)\n",
        "\n",
        "양방향 RNN은 이 아이디어를 사용하여 시간 순서대로 처리하는 RNN의 성능을  향상시킴. 입력 시퀀스를 양방향으로 바라보기에, 드러나지 않은 다양한 표현을 얻어 시간 순서대로 처리할 때 놓칠 수 있는 패턴을 잡아냄.\n",
        "\n",
        "<br>\n",
        "\n",
        "케라스에서는 Bidirectional 층을 사용하여 양방향 RNN을 만듦. 이를 IMDB 감성 분석 문제에 적용."
      ],
      "metadata": {
        "id": "ikopAb800jEe"
      }
    },
    {
      "cell_type": "code",
      "source": [
        "from keras import backend as K\n",
        "K.clear_session()\n",
        "\n",
        "model = Sequential()\n",
        "model.add(layers.Embedding(max_features, 32))\n",
        "model.add(layers.Bidirectional(layers.LSTM(32)))\n",
        "model.add(layers.Dense(1, activation='sigmoid'))\n",
        "\n",
        "model.compile(optimizer='rmsprop', loss='binary_crossentropy', metrics=['acc'])\n",
        "history = model.fit(x_train, y_train, epochs=10, batch_size=128, validation_split=0.2)"
      ],
      "metadata": {
        "colab": {
          "base_uri": "https://localhost:8080/"
        },
        "id": "Jh34I8Jx1NSJ",
        "outputId": "e2dff9cf-2a5d-4346-eb86-52f5abee9f16"
      },
      "execution_count": null,
      "outputs": [
        {
          "output_type": "stream",
          "name": "stdout",
          "text": [
            "Epoch 1/10\n",
            "157/157 [==============================] - 11s 50ms/step - loss: 0.5580 - acc: 0.7175 - val_loss: 0.4202 - val_acc: 0.8234\n",
            "Epoch 2/10\n",
            "157/157 [==============================] - 9s 58ms/step - loss: 0.3407 - acc: 0.8692 - val_loss: 0.3216 - val_acc: 0.8806\n",
            "Epoch 3/10\n",
            "157/157 [==============================] - 9s 56ms/step - loss: 0.2717 - acc: 0.9000 - val_loss: 0.3489 - val_acc: 0.8566\n",
            "Epoch 4/10\n",
            "157/157 [==============================] - 7s 47ms/step - loss: 0.2315 - acc: 0.9186 - val_loss: 0.3689 - val_acc: 0.8750\n",
            "Epoch 5/10\n",
            "157/157 [==============================] - 6s 41ms/step - loss: 0.2038 - acc: 0.9275 - val_loss: 0.3355 - val_acc: 0.8776\n",
            "Epoch 6/10\n",
            "157/157 [==============================] - 6s 36ms/step - loss: 0.1833 - acc: 0.9350 - val_loss: 0.3083 - val_acc: 0.8752\n",
            "Epoch 7/10\n",
            "157/157 [==============================] - 6s 37ms/step - loss: 0.1697 - acc: 0.9445 - val_loss: 0.3315 - val_acc: 0.8848\n",
            "Epoch 8/10\n",
            "157/157 [==============================] - 7s 46ms/step - loss: 0.1424 - acc: 0.9506 - val_loss: 0.4151 - val_acc: 0.8648\n",
            "Epoch 9/10\n",
            "157/157 [==============================] - 7s 43ms/step - loss: 0.1336 - acc: 0.9558 - val_loss: 0.3588 - val_acc: 0.8644\n",
            "Epoch 10/10\n",
            "157/157 [==============================] - 7s 42ms/step - loss: 0.1226 - acc: 0.9594 - val_loss: 0.3503 - val_acc: 0.8734\n"
          ]
        }
      ]
    },
    {
      "cell_type": "markdown",
      "source": [
        "*검증 정확도는 88% 정도로 이전의 결과보다 약간 높음.*\n",
        "\n",
        "동일한 방식을 온도 예측 문제에 적용."
      ],
      "metadata": {
        "id": "BmmUTVO21Pp0"
      }
    },
    {
      "cell_type": "code",
      "source": [
        "from keras.models import Sequential\n",
        "from keras import layers\n",
        "from keras.optimizers import RMSprop\n",
        "\n",
        "model = Sequential()\n",
        "model.add(layers.Bidirectional(\n",
        "    layers.GRU(32), input_shape=(None, float_data.shape[-1])))\n",
        "model.add(layers.Dense(1))\n",
        "\n",
        "model.compile(optimizer=RMSprop(), loss='mae')\n",
        "history = model.fit_generator(train_gen,\n",
        "                              steps_per_epoch=500,\n",
        "                              epochs=40,\n",
        "                              validation_data=val_gen,\n",
        "                              validation_steps=val_steps)"
      ],
      "metadata": {
        "colab": {
          "base_uri": "https://localhost:8080/"
        },
        "id": "_uKkKiHI1PWU",
        "outputId": "bb495342-a12a-4a59-bc04-7b95c0541689"
      },
      "execution_count": null,
      "outputs": [
        {
          "output_type": "stream",
          "name": "stdout",
          "text": [
            "Epoch 1/40\n"
          ]
        },
        {
          "output_type": "stream",
          "name": "stderr",
          "text": [
            "/usr/local/lib/python3.7/dist-packages/ipykernel_launcher.py:15: UserWarning: `Model.fit_generator` is deprecated and will be removed in a future version. Please use `Model.fit`, which supports generators.\n",
            "  from ipykernel import kernelapp as app\n"
          ]
        },
        {
          "output_type": "stream",
          "name": "stdout",
          "text": [
            "500/500 [==============================] - 23s 41ms/step - loss: 0.2928 - val_loss: 0.2724\n",
            "Epoch 2/40\n",
            "500/500 [==============================] - 21s 41ms/step - loss: 0.2746 - val_loss: 0.2739\n",
            "Epoch 3/40\n",
            "500/500 [==============================] - 19s 37ms/step - loss: 0.2686 - val_loss: 0.2707\n",
            "Epoch 4/40\n",
            "500/500 [==============================] - 19s 37ms/step - loss: 0.2631 - val_loss: 0.2712\n",
            "Epoch 5/40\n",
            "500/500 [==============================] - 19s 37ms/step - loss: 0.2580 - val_loss: 0.2680\n",
            "Epoch 6/40\n",
            "500/500 [==============================] - 19s 37ms/step - loss: 0.2527 - val_loss: 0.2696\n",
            "Epoch 7/40\n",
            "500/500 [==============================] - 19s 37ms/step - loss: 0.2455 - val_loss: 0.2717\n",
            "Epoch 8/40\n",
            "500/500 [==============================] - 19s 38ms/step - loss: 0.2403 - val_loss: 0.2793\n",
            "Epoch 9/40\n",
            "500/500 [==============================] - 19s 38ms/step - loss: 0.2374 - val_loss: 0.2824\n",
            "Epoch 10/40\n",
            "500/500 [==============================] - 20s 40ms/step - loss: 0.2313 - val_loss: 0.2859\n",
            "Epoch 11/40\n",
            "500/500 [==============================] - 19s 38ms/step - loss: 0.2246 - val_loss: 0.2922\n",
            "Epoch 12/40\n",
            "500/500 [==============================] - 22s 45ms/step - loss: 0.2198 - val_loss: 0.2940\n",
            "Epoch 13/40\n",
            "500/500 [==============================] - 23s 47ms/step - loss: 0.2134 - val_loss: 0.3020\n",
            "Epoch 14/40\n",
            "500/500 [==============================] - 23s 45ms/step - loss: 0.2083 - val_loss: 0.2989\n",
            "Epoch 15/40\n",
            "500/500 [==============================] - 22s 43ms/step - loss: 0.2026 - val_loss: 0.3034\n",
            "Epoch 16/40\n",
            "500/500 [==============================] - 21s 43ms/step - loss: 0.1991 - val_loss: 0.3090\n",
            "Epoch 17/40\n",
            "500/500 [==============================] - 19s 38ms/step - loss: 0.1937 - val_loss: 0.3145\n",
            "Epoch 18/40\n",
            "500/500 [==============================] - 22s 45ms/step - loss: 0.1897 - val_loss: 0.3161\n",
            "Epoch 19/40\n",
            "500/500 [==============================] - 24s 48ms/step - loss: 0.1853 - val_loss: 0.3216\n",
            "Epoch 20/40\n",
            "500/500 [==============================] - 25s 49ms/step - loss: 0.1824 - val_loss: 0.3246\n",
            "Epoch 21/40\n",
            "500/500 [==============================] - 20s 40ms/step - loss: 0.1796 - val_loss: 0.3229\n",
            "Epoch 22/40\n",
            "500/500 [==============================] - 22s 44ms/step - loss: 0.1753 - val_loss: 0.3251\n",
            "Epoch 23/40\n",
            "500/500 [==============================] - 22s 44ms/step - loss: 0.1730 - val_loss: 0.3228\n",
            "Epoch 24/40\n",
            "500/500 [==============================] - 22s 45ms/step - loss: 0.1688 - val_loss: 0.3306\n",
            "Epoch 25/40\n",
            "500/500 [==============================] - 20s 40ms/step - loss: 0.1663 - val_loss: 0.3274\n",
            "Epoch 26/40\n",
            "500/500 [==============================] - 21s 43ms/step - loss: 0.1633 - val_loss: 0.3256\n",
            "Epoch 27/40\n",
            "500/500 [==============================] - 21s 42ms/step - loss: 0.1609 - val_loss: 0.3359\n",
            "Epoch 28/40\n",
            "500/500 [==============================] - 22s 44ms/step - loss: 0.1592 - val_loss: 0.3354\n",
            "Epoch 29/40\n",
            "500/500 [==============================] - 26s 52ms/step - loss: 0.1546 - val_loss: 0.3412\n",
            "Epoch 30/40\n",
            "500/500 [==============================] - 24s 47ms/step - loss: 0.1542 - val_loss: 0.3419\n",
            "Epoch 31/40\n",
            "500/500 [==============================] - 24s 48ms/step - loss: 0.1513 - val_loss: 0.3416\n",
            "Epoch 32/40\n",
            "500/500 [==============================] - 23s 47ms/step - loss: 0.1494 - val_loss: 0.3376\n",
            "Epoch 33/40\n",
            "500/500 [==============================] - 22s 45ms/step - loss: 0.1488 - val_loss: 0.3369\n",
            "Epoch 34/40\n",
            "500/500 [==============================] - 24s 47ms/step - loss: 0.1462 - val_loss: 0.3419\n",
            "Epoch 35/40\n",
            "500/500 [==============================] - 25s 50ms/step - loss: 0.1440 - val_loss: 0.3405\n",
            "Epoch 36/40\n",
            "500/500 [==============================] - 25s 49ms/step - loss: 0.1418 - val_loss: 0.3432\n",
            "Epoch 37/40\n",
            "500/500 [==============================] - 23s 45ms/step - loss: 0.1406 - val_loss: 0.3450\n",
            "Epoch 38/40\n",
            "500/500 [==============================] - 24s 48ms/step - loss: 0.1394 - val_loss: 0.3444\n",
            "Epoch 39/40\n",
            "500/500 [==============================] - 22s 43ms/step - loss: 0.1382 - val_loss: 0.3406\n",
            "Epoch 40/40\n",
            "500/500 [==============================] - 23s 47ms/step - loss: 0.1369 - val_loss: 0.3503\n"
          ]
        }
      ]
    },
    {
      "cell_type": "markdown",
      "source": [
        "*일반 GRU 층과 비슷한 성능. (모든 예측 성능은 시간 순서대로 처리하는 네트워크의 절반에서 오는데, 시간 반대 순서로 처리하는 절반은 이런 작업에 성능이 매우 좋지 않기 때문)*"
      ],
      "metadata": {
        "id": "6eyqAwBF2iuk"
      }
    },
    {
      "cell_type": "markdown",
      "source": [
        "# 6.4 컨브넷을 사용한 시퀀스 처리\n",
        "\n",
        "## 1D 컨브넷 구현\n",
        "\n",
        "케라스에서 1D 컨브넷은 Conv1D 층을 사용하여 구현. 이는 (samples, time, features) 크기의 3D 텐서를 입력받고 비슷한 형태의 3D 텐서를 반환. 합성곱 윈도우는 시간 축의 1D 윈도우, 즉 입력 텐서의 두 번째 축.\n",
        "\n",
        "두 개의 층으로 된 1D 컨브넷을 만들어 IMDB 감성 분류에 적용."
      ],
      "metadata": {
        "id": "tlamymE_2yPK"
      }
    },
    {
      "cell_type": "code",
      "source": [
        "from keras.datasets import imdb\n",
        "from keras.preprocessing import sequence\n",
        "from keras_preprocessing.sequence import pad_sequences\n",
        "\n",
        "max_features = 10000  # 특성으로 사용할 단어의 수\n",
        "max_len = 500  # 사용할 텍스트의 길이(가장 빈번한 max_features 개의 단어만 사용)\n",
        "\n",
        "print('데이터 로드...')\n",
        "(x_train, y_train), (x_test, y_test) = imdb.load_data(num_words=max_features)\n",
        "print(len(x_train), '훈련 시퀀스')\n",
        "print(len(x_test), '테스트 시퀀스')\n",
        "\n",
        "print('시퀀스 패딩 (samples x time)')\n",
        "x_train = pad_sequences(x_train, maxlen=max_len)\n",
        "x_test = pad_sequences(x_test, maxlen=max_len)\n",
        "print('x_train 크기:', x_train.shape)\n",
        "print('x_test 크기:', x_test.shape)"
      ],
      "metadata": {
        "colab": {
          "base_uri": "https://localhost:8080/"
        },
        "id": "Xe8ccHPP4OaG",
        "outputId": "d6b2de38-b058-4dd2-cf2b-abfe16e3283d"
      },
      "execution_count": 1,
      "outputs": [
        {
          "output_type": "stream",
          "name": "stdout",
          "text": [
            "데이터 로드...\n",
            "Downloading data from https://storage.googleapis.com/tensorflow/tf-keras-datasets/imdb.npz\n",
            "17464789/17464789 [==============================] - 0s 0us/step\n",
            "25000 훈련 시퀀스\n",
            "25000 테스트 시퀀스\n",
            "시퀀스 패딩 (samples x time)\n",
            "x_train 크기: (25000, 500)\n",
            "x_test 크기: (25000, 500)\n"
          ]
        }
      ]
    },
    {
      "cell_type": "markdown",
      "source": [
        "Conv1D와 MaxPooling1D 층을 쌓고 전역 풀링 층이나 Flatten 층으로 마침. 1D 컨브넷에 크기 7이나 9의 합성곱 윈도우를 사용 가능."
      ],
      "metadata": {
        "id": "meJeswPm4RP2"
      }
    },
    {
      "cell_type": "code",
      "source": [
        "from keras.models import Sequential\n",
        "from keras import layers\n",
        "from keras.optimizers import RMSprop\n",
        "\n",
        "model = Sequential()\n",
        "model.add(layers.Embedding(max_features, 128, input_length=max_len))\n",
        "model.add(layers.Conv1D(32, 7, activation='relu'))\n",
        "model.add(layers.MaxPooling1D(5))\n",
        "model.add(layers.Conv1D(32, 7, activation='relu'))\n",
        "model.add(layers.GlobalMaxPooling1D())\n",
        "model.add(layers.Dense(1))\n",
        "\n",
        "model.summary()\n",
        "\n",
        "model.compile(optimizer=RMSprop(lr=1e-4),\n",
        "              loss='binary_crossentropy',\n",
        "              metrics=['acc'])\n",
        "history = model.fit(x_train, y_train,\n",
        "                    epochs=10,\n",
        "                    batch_size=128,\n",
        "                    validation_split=0.2)"
      ],
      "metadata": {
        "colab": {
          "base_uri": "https://localhost:8080/"
        },
        "id": "xiYSHw_Z4gfM",
        "outputId": "ac9ebb8b-312c-4910-8fce-0636bc4e4adf"
      },
      "execution_count": null,
      "outputs": [
        {
          "output_type": "stream",
          "name": "stdout",
          "text": [
            "Model: \"sequential_3\"\n",
            "_________________________________________________________________\n",
            " Layer (type)                Output Shape              Param #   \n",
            "=================================================================\n",
            " embedding_1 (Embedding)     (None, 500, 128)          1280000   \n",
            "                                                                 \n",
            " conv1d (Conv1D)             (None, 494, 32)           28704     \n",
            "                                                                 \n",
            " max_pooling1d (MaxPooling1D  (None, 98, 32)           0         \n",
            " )                                                               \n",
            "                                                                 \n",
            " conv1d_1 (Conv1D)           (None, 92, 32)            7200      \n",
            "                                                                 \n",
            " global_max_pooling1d (Globa  (None, 32)               0         \n",
            " lMaxPooling1D)                                                  \n",
            "                                                                 \n",
            " dense_2 (Dense)             (None, 1)                 33        \n",
            "                                                                 \n",
            "=================================================================\n",
            "Total params: 1,315,937\n",
            "Trainable params: 1,315,937\n",
            "Non-trainable params: 0\n",
            "_________________________________________________________________\n",
            "Epoch 1/10\n"
          ]
        },
        {
          "output_type": "stream",
          "name": "stderr",
          "text": [
            "/usr/local/lib/python3.7/dist-packages/keras/optimizers/optimizer_v2/rmsprop.py:135: UserWarning: The `lr` argument is deprecated, use `learning_rate` instead.\n",
            "  super(RMSprop, self).__init__(name, **kwargs)\n"
          ]
        },
        {
          "output_type": "stream",
          "name": "stdout",
          "text": [
            "157/157 [==============================] - 7s 12ms/step - loss: 0.9535 - acc: 0.5048 - val_loss: 0.6891 - val_acc: 0.5444\n",
            "Epoch 2/10\n",
            "157/157 [==============================] - 2s 10ms/step - loss: 0.6729 - acc: 0.6358 - val_loss: 0.6696 - val_acc: 0.6502\n",
            "Epoch 3/10\n",
            "157/157 [==============================] - 2s 10ms/step - loss: 0.6341 - acc: 0.7493 - val_loss: 0.6342 - val_acc: 0.6612\n",
            "Epoch 4/10\n",
            "157/157 [==============================] - 2s 10ms/step - loss: 0.5584 - acc: 0.8044 - val_loss: 0.5238 - val_acc: 0.7914\n",
            "Epoch 5/10\n",
            "157/157 [==============================] - 2s 11ms/step - loss: 0.4291 - acc: 0.8476 - val_loss: 0.4315 - val_acc: 0.8284\n",
            "Epoch 6/10\n",
            "157/157 [==============================] - 2s 10ms/step - loss: 0.3494 - acc: 0.8737 - val_loss: 0.4017 - val_acc: 0.8496\n",
            "Epoch 7/10\n",
            "157/157 [==============================] - 2s 10ms/step - loss: 0.3059 - acc: 0.8916 - val_loss: 0.4023 - val_acc: 0.8572\n",
            "Epoch 8/10\n",
            "157/157 [==============================] - 2s 10ms/step - loss: 0.2735 - acc: 0.9061 - val_loss: 0.4124 - val_acc: 0.8626\n",
            "Epoch 9/10\n",
            "157/157 [==============================] - 2s 11ms/step - loss: 0.2444 - acc: 0.9182 - val_loss: 0.4958 - val_acc: 0.8566\n",
            "Epoch 10/10\n",
            "157/157 [==============================] - 2s 13ms/step - loss: 0.2220 - acc: 0.9270 - val_loss: 0.4635 - val_acc: 0.8672\n"
          ]
        }
      ]
    },
    {
      "cell_type": "markdown",
      "source": [
        "*검증 정확도는 LSTM보다 조금 낮지만 CPU나 GPU에서 더 빠르게 실행됨. 단어 수준의 감성 분류 작업에서 순환 네트워크를 대신해 빠르고 경제적인 1D 컨브넷을 사용할 수 있음을 보여줌.*"
      ],
      "metadata": {
        "id": "7UdkhXXf4iJD"
      }
    },
    {
      "cell_type": "code",
      "source": [
        "import matplotlib.pyplot as plt\n",
        "\n",
        "acc = history.history['acc']\n",
        "val_acc = history.history['val_acc']\n",
        "loss = history.history['loss']\n",
        "val_loss = history.history['val_loss']\n",
        "\n",
        "epochs = range(1, len(acc) + 1)\n",
        "\n",
        "plt.plot(epochs, acc, 'bo', label='Training acc')\n",
        "plt.plot(epochs, val_acc, 'b', label='Validation acc')\n",
        "plt.title('Training and validation accuracy')\n",
        "plt.legend()\n",
        "\n",
        "plt.figure()\n",
        "\n",
        "plt.plot(epochs, loss, 'bo', label='Training loss')\n",
        "plt.plot(epochs, val_loss, 'b', label='Validation loss')\n",
        "plt.title('Training and validation loss')\n",
        "plt.legend()\n",
        "\n",
        "plt.show()"
      ],
      "metadata": {
        "colab": {
          "base_uri": "https://localhost:8080/",
          "height": 545
        },
        "id": "BIGz0zCb4wPH",
        "outputId": "7f3bea64-1cd7-4615-a977-843fb268c001"
      },
      "execution_count": null,
      "outputs": [
        {
          "output_type": "display_data",
          "data": {
            "text/plain": [
              "<Figure size 432x288 with 1 Axes>"
            ],
            "image/png": "[encoded data removed]"
          },
          "metadata": {
            "needs_background": "light"
          }
        },
        {
          "output_type": "display_data",
          "data": {
            "text/plain": [
              "<Figure size 432x288 with 1 Axes>"
            ],
            "image/png": "[encoded data removed]"
          },
          "metadata": {
            "needs_background": "light"
          }
        }
      ]
    },
    {
      "cell_type": "markdown",
      "source": [
        "## CNN과 RNN을 연결하여 긴 시퀀스를 처리\n",
        "\n",
        "1D 컨브넷이 입력 패치를 독립적으로 처리하기에 RNN과는 달리 타임스텝의 순서에 민감하지 않음.\n",
        "\n",
        "순서를 감지해야 좋은 예측을 할 수 있는 온도 예측 문제에 1D 컨브넷을 적용하여 확인."
      ],
      "metadata": {
        "id": "agazwDT94y1q"
      }
    },
    {
      "cell_type": "code",
      "source": [
        "import os\n",
        "import numpy as np\n",
        "\n",
        "data_dir = './'\n",
        "fname = os.path.join(data_dir, 'jena_climate_2009_2016.csv')\n",
        "\n",
        "f = open(fname)\n",
        "data = f.read()\n",
        "f.close()\n",
        "\n",
        "lines = data.split('\\n')\n",
        "header = lines[0].split(',')\n",
        "lines = lines[1:]\n",
        "\n",
        "float_data = np.zeros((len(lines), len(header) - 1))\n",
        "for i, line in enumerate(lines):\n",
        "    values = [float(x) for x in line.split(',')[1:]]\n",
        "    float_data[i, :] = values\n",
        "    \n",
        "mean = float_data[:200000].mean(axis=0)\n",
        "float_data -= mean\n",
        "std = float_data[:200000].std(axis=0)\n",
        "float_data /= std\n",
        "\n",
        "def generator(data, lookback, delay, min_index, max_index,\n",
        "              shuffle=False, batch_size=128, step=6):\n",
        "    if max_index is None:\n",
        "        max_index = len(data) - delay - 1\n",
        "    i = min_index + lookback\n",
        "    while 1:\n",
        "        if shuffle:\n",
        "            rows = np.random.randint(\n",
        "                min_index + lookback, max_index, size=batch_size)\n",
        "        else:\n",
        "            if i + batch_size >= max_index:\n",
        "                i = min_index + lookback\n",
        "            rows = np.arange(i, min(i + batch_size, max_index))\n",
        "            i += len(rows)\n",
        "\n",
        "        samples = np.zeros((len(rows),\n",
        "                           lookback // step,\n",
        "                           data.shape[-1]))\n",
        "        targets = np.zeros((len(rows),))\n",
        "        for j, row in enumerate(rows):\n",
        "            indices = range(rows[j] - lookback, rows[j], step)\n",
        "            samples[j] = data[indices]\n",
        "            targets[j] = data[rows[j] + delay][1]\n",
        "        yield samples, targets\n",
        "      \n",
        "lookback = 1440\n",
        "step = 6\n",
        "delay = 144\n",
        "batch_size = 128\n",
        "\n",
        "train_gen = generator(float_data,\n",
        "                      lookback=lookback,\n",
        "                      delay=delay,\n",
        "                      min_index=0,\n",
        "                      max_index=200000,\n",
        "                      shuffle=True,\n",
        "                      step=step, \n",
        "                      batch_size=batch_size)\n",
        "val_gen = generator(float_data,\n",
        "                    lookback=lookback,\n",
        "                    delay=delay,\n",
        "                    min_index=200001,\n",
        "                    max_index=300000,\n",
        "                    step=step,\n",
        "                    batch_size=batch_size)\n",
        "test_gen = generator(float_data,\n",
        "                     lookback=lookback,\n",
        "                     delay=delay,\n",
        "                     min_index=300001,\n",
        "                     max_index=None,\n",
        "                     step=step,\n",
        "                     batch_size=batch_size)\n",
        "\n",
        "# 전체 검증 세트를 순회하기 위해 val_gen에서 추출할 횟수\n",
        "val_steps = (300000 - 200001 - lookback) // batch_size\n",
        "\n",
        "# 전체 테스트 세트를 순회하기 위해 test_gen에서 추출할 횟수\n",
        "test_steps = (len(float_data) - 300001 - lookback) // batch_size"
      ],
      "metadata": {
        "id": "k05q3pBI5Jgs"
      },
      "execution_count": null,
      "outputs": []
    },
    {
      "cell_type": "code",
      "source": [
        "from keras.models import Sequential\n",
        "from keras import layers\n",
        "from keras.optimizers import RMSprop\n",
        "\n",
        "model = Sequential()\n",
        "model.add(layers.Conv1D(32, 5, activation='relu',\n",
        "                        input_shape=(None, float_data.shape[-1])))\n",
        "model.add(layers.MaxPooling1D(3))\n",
        "model.add(layers.Conv1D(32, 5, activation='relu'))\n",
        "model.add(layers.MaxPooling1D(3))\n",
        "model.add(layers.Conv1D(32, 5, activation='relu'))\n",
        "model.add(layers.GlobalMaxPooling1D())\n",
        "model.add(layers.Dense(1))\n",
        "\n",
        "model.compile(optimizer=RMSprop(), loss='mae')\n",
        "history = model.fit_generator(train_gen,\n",
        "                              steps_per_epoch=500,\n",
        "                              epochs=20,\n",
        "                              validation_data=val_gen,\n",
        "                              validation_steps=val_steps)"
      ],
      "metadata": {
        "colab": {
          "base_uri": "https://localhost:8080/"
        },
        "id": "7ZUZiw1M5PQ9",
        "outputId": "89ccb679-371c-43d6-fabb-ccb421454d32"
      },
      "execution_count": null,
      "outputs": [
        {
          "output_type": "stream",
          "name": "stdout",
          "text": [
            "Epoch 1/20\n"
          ]
        },
        {
          "output_type": "stream",
          "name": "stderr",
          "text": [
            "/usr/local/lib/python3.7/dist-packages/ipykernel_launcher.py:20: UserWarning: `Model.fit_generator` is deprecated and will be removed in a future version. Please use `Model.fit`, which supports generators.\n"
          ]
        },
        {
          "output_type": "stream",
          "name": "stdout",
          "text": [
            "500/500 [==============================] - 17s 31ms/step - loss: 0.4165 - val_loss: 0.4279\n",
            "Epoch 2/20\n",
            "500/500 [==============================] - 12s 25ms/step - loss: 0.3605 - val_loss: 0.4327\n",
            "Epoch 3/20\n",
            "500/500 [==============================] - 16s 33ms/step - loss: 0.3371 - val_loss: 0.4527\n",
            "Epoch 4/20\n",
            "500/500 [==============================] - 16s 32ms/step - loss: 0.3240 - val_loss: 0.4345\n",
            "Epoch 5/20\n",
            "500/500 [==============================] - 16s 31ms/step - loss: 0.3093 - val_loss: 0.4557\n",
            "Epoch 6/20\n",
            "500/500 [==============================] - 17s 35ms/step - loss: 0.3006 - val_loss: 0.4432\n",
            "Epoch 7/20\n",
            "500/500 [==============================] - 13s 27ms/step - loss: 0.2951 - val_loss: 0.4630\n",
            "Epoch 8/20\n",
            "500/500 [==============================] - 11s 22ms/step - loss: 0.2874 - val_loss: 0.4674\n",
            "Epoch 9/20\n",
            "500/500 [==============================] - 11s 22ms/step - loss: 0.2811 - val_loss: 0.4585\n",
            "Epoch 10/20\n",
            "500/500 [==============================] - 10s 20ms/step - loss: 0.2768 - val_loss: 0.4918\n",
            "Epoch 11/20\n",
            "500/500 [==============================] - 10s 19ms/step - loss: 0.2732 - val_loss: 0.4834\n",
            "Epoch 12/20\n",
            "500/500 [==============================] - 10s 20ms/step - loss: 0.2681 - val_loss: 0.4642\n",
            "Epoch 13/20\n",
            "500/500 [==============================] - 10s 20ms/step - loss: 0.2612 - val_loss: 0.4703\n",
            "Epoch 14/20\n",
            "500/500 [==============================] - 10s 20ms/step - loss: 0.2600 - val_loss: 0.4750\n",
            "Epoch 15/20\n",
            "500/500 [==============================] - 10s 20ms/step - loss: 0.2564 - val_loss: 0.4746\n",
            "Epoch 16/20\n",
            "500/500 [==============================] - 10s 19ms/step - loss: 0.2556 - val_loss: 0.4866\n",
            "Epoch 17/20\n",
            "500/500 [==============================] - 10s 20ms/step - loss: 0.2510 - val_loss: 0.4770\n",
            "Epoch 18/20\n",
            "500/500 [==============================] - 10s 19ms/step - loss: 0.2498 - val_loss: 0.4912\n",
            "Epoch 19/20\n",
            "500/500 [==============================] - 11s 21ms/step - loss: 0.2470 - val_loss: 0.4976\n",
            "Epoch 20/20\n",
            "500/500 [==============================] - 10s 20ms/step - loss: 0.2452 - val_loss: 0.4771\n"
          ]
        }
      ]
    },
    {
      "cell_type": "code",
      "source": [
        "loss = history.history['loss']\n",
        "val_loss = history.history['val_loss']\n",
        "\n",
        "epochs = range(1, len(loss) + 1)\n",
        "\n",
        "plt.figure()\n",
        "\n",
        "plt.plot(epochs, loss, 'bo', label='Training loss')\n",
        "plt.plot(epochs, val_loss, 'b', label='Validation loss')\n",
        "plt.title('Training and validation loss')\n",
        "plt.legend()\n",
        "\n",
        "plt.show()"
      ],
      "metadata": {
        "colab": {
          "base_uri": "https://localhost:8080/",
          "height": 281
        },
        "id": "IqA6aMtl5V7m",
        "outputId": "069cce16-5f1a-4270-baba-47e0bfbbe65f"
      },
      "execution_count": null,
      "outputs": [
        {
          "output_type": "display_data",
          "data": {
            "text/plain": [
              "<Figure size 432x288 with 1 Axes>"
            ],
            "image/png": "[encoded data removed]"
          },
          "metadata": {
            "needs_background": "light"
          }
        }
      ]
    },
    {
      "cell_type": "markdown",
      "source": [
        "*검증 MAE는 0.4대에 머물리 있음, 즉 작은 컨브넷을 사용했을때 그렇게 정확하지 않음. 이는 컨브넷이 입력 시계열의 패턴을 보고 시간 축의 위치를 고려하지 않기 때문.*\n",
        "\n",
        "컨브넷의 속도와 경량을 RNN의 순서 감지 능력과 결합하는 한 가지 전략은 1D 컨브넷을 RNN 이전에 전처리 단계로 이용하는 것.\n",
        "\n",
        "이를 온도 예측 문제에 적용. 이 전략은 훨씬 긴 시퀀스를 다룰 수 있으므로 더 오래 전 데이터를 다루거나 시계열 데이터를 더 촘촘하게 바라볼 수 있음.\n",
        "\n",
        "우선 제너레이터 함수를 다시 사용."
      ],
      "metadata": {
        "id": "WiUk3TB05XcT"
      }
    },
    {
      "cell_type": "code",
      "source": [
        "step = 3\n",
        "lookback = 1440 \n",
        "delay = 144\n",
        "train_gen = generator(float_data,\n",
        "                      lookback=lookback,\n",
        "                      delay=delay,\n",
        "                      min_index=0,\n",
        "                      max_index=200000,\n",
        "                      shuffle=True,\n",
        "                      step=step)\n",
        "val_gen = generator(float_data,\n",
        "                    lookback=lookback,\n",
        "                    delay=delay,\n",
        "                    min_index=200001,\n",
        "                    max_index=300000,\n",
        "                    step=step)\n",
        "test_gen = generator(float_data,\n",
        "                     lookback=lookback,\n",
        "                     delay=delay,\n",
        "                     min_index=300001,\n",
        "                     max_index=None,\n",
        "                     step=step)\n",
        "val_steps = (300000 - 200001 - lookback) // 128\n",
        "test_steps = (len(float_data) - 300001 - lookback) // 128"
      ],
      "metadata": {
        "id": "3ch9iWC653AU"
      },
      "execution_count": 14,
      "outputs": []
    },
    {
      "cell_type": "markdown",
      "source": [
        "모델에 두 개의 Conv1D 층 다음에 GRU 층을 놓음."
      ],
      "metadata": {
        "id": "Gzt_vBNy56FC"
      }
    },
    {
      "cell_type": "code",
      "source": [
        "from keras.models import Sequential\n",
        "from keras.optimizers import RMSprop\n",
        "\n",
        "model = Sequential()\n",
        "model.add(layers.Conv1D(32, 5, activation='relu',\n",
        "                        input_shape=(None, float_data.shape[-1])))\n",
        "model.add(layers.MaxPooling1D(3))\n",
        "model.add(layers.Conv1D(32, 5, activation='relu'))\n",
        "model.add(layers.GRU(32, dropout=0.1, recurrent_dropout=0.5))\n",
        "model.add(layers.Dense(1))\n",
        "\n",
        "model.summary()\n",
        "\n",
        "model.compile(optimizer=RMSprop(), loss='mae')\n",
        "history = model.fit_generator(train_gen,\n",
        "                              steps_per_epoch=500,\n",
        "                              epochs=20,\n",
        "                              validation_data=val_gen,\n",
        "                              validation_steps=val_steps)"
      ],
      "metadata": {
        "colab": {
          "base_uri": "https://localhost:8080/"
        },
        "id": "rf2McTM15-ol",
        "outputId": "6dbe3906-e818-49e3-ec34-e3f0897eb40d"
      },
      "execution_count": 21,
      "outputs": [
        {
          "output_type": "stream",
          "name": "stdout",
          "text": [
            "Model: \"sequential_5\"\n",
            "_________________________________________________________________\n",
            " Layer (type)                Output Shape              Param #   \n",
            "=================================================================\n",
            " conv1d_8 (Conv1D)           (None, None, 32)          2272      \n",
            "                                                                 \n",
            " max_pooling1d_4 (MaxPooling  (None, None, 32)         0         \n",
            " 1D)                                                             \n",
            "                                                                 \n",
            " conv1d_9 (Conv1D)           (None, None, 32)          5152      \n",
            "                                                                 \n",
            " gru_4 (GRU)                 (None, 32)                6336      \n",
            "                                                                 \n",
            " dense_7 (Dense)             (None, 1)                 33        \n",
            "                                                                 \n",
            "=================================================================\n",
            "Total params: 13,793\n",
            "Trainable params: 13,793\n",
            "Non-trainable params: 0\n",
            "_________________________________________________________________\n",
            "Epoch 1/20\n"
          ]
        },
        {
          "output_type": "stream",
          "name": "stderr",
          "text": [
            "/usr/local/lib/python3.7/dist-packages/ipykernel_launcher.py:19: UserWarning: `Model.fit_generator` is deprecated and will be removed in a future version. Please use `Model.fit`, which supports generators.\n"
          ]
        },
        {
          "output_type": "stream",
          "name": "stdout",
          "text": [
            "500/500 [==============================] - 133s 262ms/step - loss: 0.3258 - val_loss: 0.2977\n",
            "Epoch 2/20\n",
            "500/500 [==============================] - 130s 260ms/step - loss: 0.2941 - val_loss: 0.2747\n",
            "Epoch 3/20\n",
            "500/500 [==============================] - 129s 258ms/step - loss: 0.2804 - val_loss: 0.2761\n",
            "Epoch 4/20\n",
            "500/500 [==============================] - 128s 257ms/step - loss: 0.2683 - val_loss: 0.2768\n",
            "Epoch 5/20\n",
            "500/500 [==============================] - 127s 255ms/step - loss: 0.2612 - val_loss: 0.2795\n",
            "Epoch 6/20\n",
            "500/500 [==============================] - 129s 258ms/step - loss: 0.2573 - val_loss: 0.2772\n",
            "Epoch 7/20\n",
            "500/500 [==============================] - 129s 257ms/step - loss: 0.2497 - val_loss: 0.2849\n",
            "Epoch 8/20\n",
            "500/500 [==============================] - 130s 260ms/step - loss: 0.2444 - val_loss: 0.2844\n",
            "Epoch 9/20\n",
            "500/500 [==============================] - 129s 257ms/step - loss: 0.2394 - val_loss: 0.2989\n",
            "Epoch 10/20\n",
            "500/500 [==============================] - 129s 257ms/step - loss: 0.2333 - val_loss: 0.2895\n",
            "Epoch 11/20\n",
            "500/500 [==============================] - 128s 257ms/step - loss: 0.2288 - val_loss: 0.2996\n",
            "Epoch 12/20\n",
            "500/500 [==============================] - 128s 257ms/step - loss: 0.2230 - val_loss: 0.2938\n",
            "Epoch 13/20\n",
            "500/500 [==============================] - 128s 256ms/step - loss: 0.2199 - val_loss: 0.3030\n",
            "Epoch 14/20\n",
            "500/500 [==============================] - 129s 257ms/step - loss: 0.2160 - val_loss: 0.3065\n",
            "Epoch 15/20\n",
            "500/500 [==============================] - 129s 258ms/step - loss: 0.2108 - val_loss: 0.3101\n",
            "Epoch 16/20\n",
            "500/500 [==============================] - 128s 256ms/step - loss: 0.2085 - val_loss: 0.3117\n",
            "Epoch 17/20\n",
            "500/500 [==============================] - 128s 257ms/step - loss: 0.2044 - val_loss: 0.3115\n",
            "Epoch 18/20\n",
            "500/500 [==============================] - 131s 262ms/step - loss: 0.2013 - val_loss: 0.3090\n",
            "Epoch 19/20\n",
            "500/500 [==============================] - 128s 257ms/step - loss: 0.2005 - val_loss: 0.3145\n",
            "Epoch 20/20\n",
            "500/500 [==============================] - 128s 257ms/step - loss: 0.1977 - val_loss: 0.3117\n"
          ]
        }
      ]
    },
    {
      "cell_type": "code",
      "source": [
        "import matplotlib.pyplot as plt\n",
        "\n",
        "loss = history.history['loss']\n",
        "val_loss = history.history['val_loss']\n",
        "\n",
        "epochs = range(1, len(loss) + 1)\n",
        "\n",
        "plt.figure()\n",
        "\n",
        "plt.plot(epochs, loss, 'bo', label='Training loss')\n",
        "plt.plot(epochs, val_loss, 'b', label='Validation loss')\n",
        "plt.title('Training and validation loss')\n",
        "plt.legend()\n",
        "\n",
        "plt.show()"
      ],
      "metadata": {
        "id": "EVXcS66T6AKh",
        "colab": {
          "base_uri": "https://localhost:8080/",
          "height": 281
        },
        "outputId": "aa0322ec-e184-4a59-d784-3e7a9560a329"
      },
      "execution_count": 23,
      "outputs": [
        {
          "output_type": "display_data",
          "data": {
            "text/plain": [
              "<Figure size 432x288 with 1 Axes>"
            ],
            "image/png": "[encoded data removed]"
          },
          "metadata": {
            "needs_background": "light"
          }
        }
      ]
    },
    {
      "cell_type": "markdown",
      "source": [
        "*검증 손실로 비교 시, 규제가 있는 GRU 모델만큼 좋지는 않음. 하지만 훨씬 빠르기에 데이터를 두 배 더 많이 처리 가능.*\n",
        "\n",
        "## 정리\n",
        "- 2D 컨브넷은 2D 공간의 시각 패턴을 잘 처리하는 것과 같이, 1D 컨브넷은 시간에 따른 패턴(시계열 데이터)을 잘 처리. 즉, 특정 자연어 처리 같은 문제에 RNN을 대신할 수 있는 빠른 모델.\n",
        "- 1D는 2D 컨브넷과 비슷하게 구성. Conv1D 층과 Max-Pooling1D 층을 쌓고 마지막에 전역 풀링 연산이나 Flatten 층을 둠.\n",
        "- RNN으로 아주 긴 시퀀스를 처리하려면 계산 비용이 높음. 1D 컨브넷은 비용이 적게 드므로 1D 컨브넷을 RNN 이전의 전처리 단계로 사용하면 적은 비용으로 시퀀스 길이를 줄이고 RNN이 처리할 유용한 표현을 추출해줄 수 있음."
      ],
      "metadata": {
        "id": "R0b-iyfF6DZm"
      }
    }
  ]
}